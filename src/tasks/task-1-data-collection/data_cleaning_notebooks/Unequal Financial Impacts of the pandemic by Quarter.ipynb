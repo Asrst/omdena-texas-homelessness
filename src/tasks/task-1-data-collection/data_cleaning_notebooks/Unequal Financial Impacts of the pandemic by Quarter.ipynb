{
 "cells": [
  {
   "cell_type": "code",
   "execution_count": 1,
   "source": [
    "import pandas as pd\r\n",
    "import numpy as np\r\n",
    "import seaborn as sns\r\n",
    "import matplotlib.pyplot as plt"
   ],
   "outputs": [],
   "metadata": {}
  },
  {
   "cell_type": "code",
   "execution_count": 2,
   "source": [
    "df = pd.read_csv(r\"C:\\Users\\mohit\\OneDrive\\Desktop\\Omdena-AI\\omdena-texas-homelessness\\src\\data\\employment\\Unequal Financial Impacts of the Pandemic (HPS) by Quarter.xlsx - Sheet1.csv\")"
   ],
   "outputs": [],
   "metadata": {}
  },
  {
   "cell_type": "code",
   "execution_count": 3,
   "source": [
    "df.head()"
   ],
   "outputs": [
    {
     "output_type": "execute_result",
     "data": {
      "text/html": [
       "<div>\n",
       "<style scoped>\n",
       "    .dataframe tbody tr th:only-of-type {\n",
       "        vertical-align: middle;\n",
       "    }\n",
       "\n",
       "    .dataframe tbody tr th {\n",
       "        vertical-align: top;\n",
       "    }\n",
       "\n",
       "    .dataframe thead th {\n",
       "        text-align: right;\n",
       "    }\n",
       "</style>\n",
       "<table border=\"1\" class=\"dataframe\">\n",
       "  <thead>\n",
       "    <tr style=\"text-align: right;\">\n",
       "      <th></th>\n",
       "      <th>Unnamed: 0</th>\n",
       "      <th>Renters</th>\n",
       "      <th>Unnamed: 2</th>\n",
       "      <th>Unnamed: 3</th>\n",
       "      <th>Unnamed: 4</th>\n",
       "      <th>Unnamed: 5</th>\n",
       "      <th>Unnamed: 6</th>\n",
       "      <th>Unnamed: 7</th>\n",
       "      <th>Homeowners</th>\n",
       "      <th>Unnamed: 9</th>\n",
       "      <th>Unnamed: 10</th>\n",
       "      <th>Unnamed: 11</th>\n",
       "      <th>Unnamed: 12</th>\n",
       "      <th>Unnamed: 13</th>\n",
       "      <th>All Households</th>\n",
       "      <th>Unnamed: 15</th>\n",
       "      <th>Unnamed: 16</th>\n",
       "      <th>Unnamed: 17</th>\n",
       "      <th>Unnamed: 18</th>\n",
       "      <th>Unnamed: 19</th>\n",
       "    </tr>\n",
       "  </thead>\n",
       "  <tbody>\n",
       "    <tr>\n",
       "      <th>0</th>\n",
       "      <td>Quarter 4 2020</td>\n",
       "      <td>NaN</td>\n",
       "      <td>&lt;$25,000</td>\n",
       "      <td>$25,000-$49,999</td>\n",
       "      <td>$50,000-74,999</td>\n",
       "      <td>$75,000-99,999</td>\n",
       "      <td>$100,000+</td>\n",
       "      <td>All</td>\n",
       "      <td>&lt;$25,000</td>\n",
       "      <td>$25,000-$49,999</td>\n",
       "      <td>$50,000-74,999</td>\n",
       "      <td>$75,000-99,999</td>\n",
       "      <td>$100,000+</td>\n",
       "      <td>All</td>\n",
       "      <td>&lt;$25,000</td>\n",
       "      <td>$25,000-$49,999</td>\n",
       "      <td>$50,000-74,999</td>\n",
       "      <td>$75,000-99,999</td>\n",
       "      <td>$100,000+</td>\n",
       "      <td>All</td>\n",
       "    </tr>\n",
       "    <tr>\n",
       "      <th>1</th>\n",
       "      <td>NaN</td>\n",
       "      <td>Behind on Housing</td>\n",
       "      <td>24.0</td>\n",
       "      <td>19.1</td>\n",
       "      <td>12.8</td>\n",
       "      <td>9.3</td>\n",
       "      <td>6.2</td>\n",
       "      <td>17.0</td>\n",
       "      <td>21.4</td>\n",
       "      <td>14.6</td>\n",
       "      <td>11.0</td>\n",
       "      <td>7.8</td>\n",
       "      <td>4.7</td>\n",
       "      <td>9.3</td>\n",
       "      <td>23.4</td>\n",
       "      <td>17.1</td>\n",
       "      <td>11.7</td>\n",
       "      <td>8.2</td>\n",
       "      <td>4.94</td>\n",
       "      <td>12.44</td>\n",
       "    </tr>\n",
       "    <tr>\n",
       "      <th>2</th>\n",
       "      <td>NaN</td>\n",
       "      <td>Loss of Income</td>\n",
       "      <td>55.4</td>\n",
       "      <td>56.7</td>\n",
       "      <td>52.6</td>\n",
       "      <td>47.1</td>\n",
       "      <td>40.3</td>\n",
       "      <td>52.8</td>\n",
       "      <td>44.7</td>\n",
       "      <td>40.6</td>\n",
       "      <td>38.9</td>\n",
       "      <td>38.3</td>\n",
       "      <td>32.8</td>\n",
       "      <td>37.4</td>\n",
       "      <td>51.2</td>\n",
       "      <td>47.6</td>\n",
       "      <td>42.9</td>\n",
       "      <td>40.2</td>\n",
       "      <td>33.79</td>\n",
       "      <td>43.27</td>\n",
       "    </tr>\n",
       "    <tr>\n",
       "      <th>3</th>\n",
       "      <td>NaN</td>\n",
       "      <td>NaN</td>\n",
       "      <td>White</td>\n",
       "      <td>Black</td>\n",
       "      <td>Hispanic</td>\n",
       "      <td>Asian</td>\n",
       "      <td>Another Race/Multiracial</td>\n",
       "      <td>All</td>\n",
       "      <td>White</td>\n",
       "      <td>Black</td>\n",
       "      <td>Hispanic</td>\n",
       "      <td>Asian</td>\n",
       "      <td>Another Race/Multiracial</td>\n",
       "      <td>All</td>\n",
       "      <td>White</td>\n",
       "      <td>Black</td>\n",
       "      <td>Hispanic</td>\n",
       "      <td>Asian</td>\n",
       "      <td>Another Race/Multiracial</td>\n",
       "      <td>All</td>\n",
       "    </tr>\n",
       "    <tr>\n",
       "      <th>4</th>\n",
       "      <td>NaN</td>\n",
       "      <td>Behind on Housing</td>\n",
       "      <td>11.8</td>\n",
       "      <td>27.9</td>\n",
       "      <td>20.7</td>\n",
       "      <td>17.5</td>\n",
       "      <td>20.9</td>\n",
       "      <td>17.0</td>\n",
       "      <td>6.9</td>\n",
       "      <td>17.1</td>\n",
       "      <td>15.9</td>\n",
       "      <td>12.7</td>\n",
       "      <td>12.9</td>\n",
       "      <td>9.3</td>\n",
       "      <td>8.6</td>\n",
       "      <td>23.6</td>\n",
       "      <td>18.5</td>\n",
       "      <td>14.6</td>\n",
       "      <td>17.01</td>\n",
       "      <td>12.44</td>\n",
       "    </tr>\n",
       "  </tbody>\n",
       "</table>\n",
       "</div>"
      ],
      "text/plain": [
       "       Unnamed: 0            Renters Unnamed: 2       Unnamed: 3  \\\n",
       "0  Quarter 4 2020                NaN   <$25,000  $25,000-$49,999   \n",
       "1             NaN  Behind on Housing       24.0             19.1   \n",
       "2             NaN     Loss of Income       55.4             56.7   \n",
       "3             NaN                NaN      White            Black   \n",
       "4             NaN  Behind on Housing       11.8             27.9   \n",
       "\n",
       "       Unnamed: 4      Unnamed: 5                Unnamed: 6 Unnamed: 7  \\\n",
       "0  $50,000-74,999  $75,000-99,999                 $100,000+        All   \n",
       "1            12.8             9.3                       6.2       17.0   \n",
       "2            52.6            47.1                      40.3       52.8   \n",
       "3        Hispanic           Asian  Another Race/Multiracial        All   \n",
       "4            20.7            17.5                      20.9       17.0   \n",
       "\n",
       "  Homeowners       Unnamed: 9     Unnamed: 10     Unnamed: 11  \\\n",
       "0   <$25,000  $25,000-$49,999  $50,000-74,999  $75,000-99,999   \n",
       "1       21.4             14.6            11.0             7.8   \n",
       "2       44.7             40.6            38.9            38.3   \n",
       "3      White            Black        Hispanic           Asian   \n",
       "4        6.9             17.1            15.9            12.7   \n",
       "\n",
       "                Unnamed: 12 Unnamed: 13 All Households      Unnamed: 15  \\\n",
       "0                 $100,000+         All       <$25,000  $25,000-$49,999   \n",
       "1                       4.7         9.3           23.4             17.1   \n",
       "2                      32.8        37.4           51.2             47.6   \n",
       "3  Another Race/Multiracial         All          White            Black   \n",
       "4                      12.9         9.3            8.6             23.6   \n",
       "\n",
       "      Unnamed: 16     Unnamed: 17               Unnamed: 18 Unnamed: 19  \n",
       "0  $50,000-74,999  $75,000-99,999                 $100,000+         All  \n",
       "1            11.7             8.2                      4.94       12.44  \n",
       "2            42.9            40.2                     33.79       43.27  \n",
       "3        Hispanic           Asian  Another Race/Multiracial         All  \n",
       "4            18.5            14.6                     17.01       12.44  "
      ]
     },
     "metadata": {},
     "execution_count": 3
    }
   ],
   "metadata": {}
  },
  {
   "cell_type": "code",
   "execution_count": 4,
   "source": [
    "df.info()"
   ],
   "outputs": [
    {
     "output_type": "stream",
     "name": "stdout",
     "text": [
      "<class 'pandas.core.frame.DataFrame'>\n",
      "RangeIndex: 24 entries, 0 to 23\n",
      "Data columns (total 20 columns):\n",
      " #   Column          Non-Null Count  Dtype \n",
      "---  ------          --------------  ----- \n",
      " 0   Unnamed: 0      2 non-null      object\n",
      " 1   Renters         16 non-null     object\n",
      " 2   Unnamed: 2      24 non-null     object\n",
      " 3   Unnamed: 3      24 non-null     object\n",
      " 4   Unnamed: 4      24 non-null     object\n",
      " 5   Unnamed: 5      24 non-null     object\n",
      " 6   Unnamed: 6      24 non-null     object\n",
      " 7   Unnamed: 7      24 non-null     object\n",
      " 8   Homeowners      24 non-null     object\n",
      " 9   Unnamed: 9      24 non-null     object\n",
      " 10  Unnamed: 10     24 non-null     object\n",
      " 11  Unnamed: 11     24 non-null     object\n",
      " 12  Unnamed: 12     24 non-null     object\n",
      " 13  Unnamed: 13     24 non-null     object\n",
      " 14  All Households  24 non-null     object\n",
      " 15  Unnamed: 15     24 non-null     object\n",
      " 16  Unnamed: 16     24 non-null     object\n",
      " 17  Unnamed: 17     24 non-null     object\n",
      " 18  Unnamed: 18     24 non-null     object\n",
      " 19  Unnamed: 19     24 non-null     object\n",
      "dtypes: object(20)\n",
      "memory usage: 3.9+ KB\n"
     ]
    }
   ],
   "metadata": {}
  },
  {
   "cell_type": "code",
   "execution_count": 5,
   "source": [
    "df.describe()"
   ],
   "outputs": [
    {
     "output_type": "execute_result",
     "data": {
      "text/html": [
       "<div>\n",
       "<style scoped>\n",
       "    .dataframe tbody tr th:only-of-type {\n",
       "        vertical-align: middle;\n",
       "    }\n",
       "\n",
       "    .dataframe tbody tr th {\n",
       "        vertical-align: top;\n",
       "    }\n",
       "\n",
       "    .dataframe thead th {\n",
       "        text-align: right;\n",
       "    }\n",
       "</style>\n",
       "<table border=\"1\" class=\"dataframe\">\n",
       "  <thead>\n",
       "    <tr style=\"text-align: right;\">\n",
       "      <th></th>\n",
       "      <th>Unnamed: 0</th>\n",
       "      <th>Renters</th>\n",
       "      <th>Unnamed: 2</th>\n",
       "      <th>Unnamed: 3</th>\n",
       "      <th>Unnamed: 4</th>\n",
       "      <th>Unnamed: 5</th>\n",
       "      <th>Unnamed: 6</th>\n",
       "      <th>Unnamed: 7</th>\n",
       "      <th>Homeowners</th>\n",
       "      <th>Unnamed: 9</th>\n",
       "      <th>Unnamed: 10</th>\n",
       "      <th>Unnamed: 11</th>\n",
       "      <th>Unnamed: 12</th>\n",
       "      <th>Unnamed: 13</th>\n",
       "      <th>All Households</th>\n",
       "      <th>Unnamed: 15</th>\n",
       "      <th>Unnamed: 16</th>\n",
       "      <th>Unnamed: 17</th>\n",
       "      <th>Unnamed: 18</th>\n",
       "      <th>Unnamed: 19</th>\n",
       "    </tr>\n",
       "  </thead>\n",
       "  <tbody>\n",
       "    <tr>\n",
       "      <th>count</th>\n",
       "      <td>2</td>\n",
       "      <td>16</td>\n",
       "      <td>24</td>\n",
       "      <td>24</td>\n",
       "      <td>24</td>\n",
       "      <td>24</td>\n",
       "      <td>24</td>\n",
       "      <td>24</td>\n",
       "      <td>24</td>\n",
       "      <td>24</td>\n",
       "      <td>24</td>\n",
       "      <td>24</td>\n",
       "      <td>24</td>\n",
       "      <td>24</td>\n",
       "      <td>24</td>\n",
       "      <td>24</td>\n",
       "      <td>24</td>\n",
       "      <td>24</td>\n",
       "      <td>24</td>\n",
       "      <td>24</td>\n",
       "    </tr>\n",
       "    <tr>\n",
       "      <th>unique</th>\n",
       "      <td>2</td>\n",
       "      <td>2</td>\n",
       "      <td>18</td>\n",
       "      <td>19</td>\n",
       "      <td>19</td>\n",
       "      <td>19</td>\n",
       "      <td>20</td>\n",
       "      <td>4</td>\n",
       "      <td>20</td>\n",
       "      <td>20</td>\n",
       "      <td>18</td>\n",
       "      <td>19</td>\n",
       "      <td>20</td>\n",
       "      <td>5</td>\n",
       "      <td>19</td>\n",
       "      <td>19</td>\n",
       "      <td>19</td>\n",
       "      <td>20</td>\n",
       "      <td>20</td>\n",
       "      <td>5</td>\n",
       "    </tr>\n",
       "    <tr>\n",
       "      <th>top</th>\n",
       "      <td>Quarter 4 2020</td>\n",
       "      <td>Behind on Housing</td>\n",
       "      <td>55.4</td>\n",
       "      <td>$25,000-$49,999</td>\n",
       "      <td>$50,000-74,999</td>\n",
       "      <td>$75,000-99,999</td>\n",
       "      <td>$100,000+</td>\n",
       "      <td>All</td>\n",
       "      <td>&lt;$25,000</td>\n",
       "      <td>$25,000-$49,999</td>\n",
       "      <td>$50,000-74,999</td>\n",
       "      <td>$75,000-99,999</td>\n",
       "      <td>$100,000+</td>\n",
       "      <td>All</td>\n",
       "      <td>&lt;$25,000</td>\n",
       "      <td>$25,000-$49,999</td>\n",
       "      <td>$50,000-74,999</td>\n",
       "      <td>$75,000-99,999</td>\n",
       "      <td>$100,000+</td>\n",
       "      <td>All</td>\n",
       "    </tr>\n",
       "    <tr>\n",
       "      <th>freq</th>\n",
       "      <td>1</td>\n",
       "      <td>8</td>\n",
       "      <td>3</td>\n",
       "      <td>2</td>\n",
       "      <td>2</td>\n",
       "      <td>2</td>\n",
       "      <td>2</td>\n",
       "      <td>8</td>\n",
       "      <td>2</td>\n",
       "      <td>2</td>\n",
       "      <td>2</td>\n",
       "      <td>2</td>\n",
       "      <td>2</td>\n",
       "      <td>8</td>\n",
       "      <td>2</td>\n",
       "      <td>2</td>\n",
       "      <td>2</td>\n",
       "      <td>2</td>\n",
       "      <td>2</td>\n",
       "      <td>8</td>\n",
       "    </tr>\n",
       "  </tbody>\n",
       "</table>\n",
       "</div>"
      ],
      "text/plain": [
       "            Unnamed: 0            Renters Unnamed: 2       Unnamed: 3  \\\n",
       "count                2                 16         24               24   \n",
       "unique               2                  2         18               19   \n",
       "top     Quarter 4 2020  Behind on Housing       55.4  $25,000-$49,999   \n",
       "freq                 1                  8          3                2   \n",
       "\n",
       "            Unnamed: 4      Unnamed: 5 Unnamed: 6 Unnamed: 7 Homeowners  \\\n",
       "count               24              24         24         24         24   \n",
       "unique              19              19         20          4         20   \n",
       "top     $50,000-74,999  $75,000-99,999  $100,000+        All   <$25,000   \n",
       "freq                 2               2          2          8          2   \n",
       "\n",
       "             Unnamed: 9     Unnamed: 10     Unnamed: 11 Unnamed: 12  \\\n",
       "count                24              24              24          24   \n",
       "unique               20              18              19          20   \n",
       "top     $25,000-$49,999  $50,000-74,999  $75,000-99,999   $100,000+   \n",
       "freq                  2               2               2           2   \n",
       "\n",
       "       Unnamed: 13 All Households      Unnamed: 15     Unnamed: 16  \\\n",
       "count           24             24               24              24   \n",
       "unique           5             19               19              19   \n",
       "top            All       <$25,000  $25,000-$49,999  $50,000-74,999   \n",
       "freq             8              2                2               2   \n",
       "\n",
       "           Unnamed: 17 Unnamed: 18 Unnamed: 19  \n",
       "count               24          24          24  \n",
       "unique              20          20           5  \n",
       "top     $75,000-99,999   $100,000+         All  \n",
       "freq                 2           2           8  "
      ]
     },
     "metadata": {},
     "execution_count": 5
    }
   ],
   "metadata": {}
  },
  {
   "cell_type": "code",
   "execution_count": 6,
   "source": [
    "df.isnull().sum()"
   ],
   "outputs": [
    {
     "output_type": "execute_result",
     "data": {
      "text/plain": [
       "Unnamed: 0        22\n",
       "Renters            8\n",
       "Unnamed: 2         0\n",
       "Unnamed: 3         0\n",
       "Unnamed: 4         0\n",
       "Unnamed: 5         0\n",
       "Unnamed: 6         0\n",
       "Unnamed: 7         0\n",
       "Homeowners         0\n",
       "Unnamed: 9         0\n",
       "Unnamed: 10        0\n",
       "Unnamed: 11        0\n",
       "Unnamed: 12        0\n",
       "Unnamed: 13        0\n",
       "All Households     0\n",
       "Unnamed: 15        0\n",
       "Unnamed: 16        0\n",
       "Unnamed: 17        0\n",
       "Unnamed: 18        0\n",
       "Unnamed: 19        0\n",
       "dtype: int64"
      ]
     },
     "metadata": {},
     "execution_count": 6
    }
   ],
   "metadata": {}
  },
  {
   "cell_type": "code",
   "execution_count": 7,
   "source": [
    "df.shape"
   ],
   "outputs": [
    {
     "output_type": "execute_result",
     "data": {
      "text/plain": [
       "(24, 20)"
      ]
     },
     "metadata": {},
     "execution_count": 7
    }
   ],
   "metadata": {}
  },
  {
   "cell_type": "code",
   "execution_count": 8,
   "source": [
    "# AS we can see out of 24 row, 22 rows have NULL value in column first so it's better to delete that column\r\n",
    "\r\n",
    "df.drop([\"Unnamed: 0\"] , axis=1 , inplace=True)"
   ],
   "outputs": [],
   "metadata": {}
  },
  {
   "cell_type": "code",
   "execution_count": 9,
   "source": [
    "df.shape"
   ],
   "outputs": [
    {
     "output_type": "execute_result",
     "data": {
      "text/plain": [
       "(24, 19)"
      ]
     },
     "metadata": {},
     "execution_count": 9
    }
   ],
   "metadata": {}
  },
  {
   "cell_type": "code",
   "execution_count": 10,
   "source": [
    "df.isnull().sum()"
   ],
   "outputs": [
    {
     "output_type": "execute_result",
     "data": {
      "text/plain": [
       "Renters           8\n",
       "Unnamed: 2        0\n",
       "Unnamed: 3        0\n",
       "Unnamed: 4        0\n",
       "Unnamed: 5        0\n",
       "Unnamed: 6        0\n",
       "Unnamed: 7        0\n",
       "Homeowners        0\n",
       "Unnamed: 9        0\n",
       "Unnamed: 10       0\n",
       "Unnamed: 11       0\n",
       "Unnamed: 12       0\n",
       "Unnamed: 13       0\n",
       "All Households    0\n",
       "Unnamed: 15       0\n",
       "Unnamed: 16       0\n",
       "Unnamed: 17       0\n",
       "Unnamed: 18       0\n",
       "Unnamed: 19       0\n",
       "dtype: int64"
      ]
     },
     "metadata": {},
     "execution_count": 10
    }
   ],
   "metadata": {}
  },
  {
   "cell_type": "code",
   "execution_count": 11,
   "source": [
    "df['Renters']"
   ],
   "outputs": [
    {
     "output_type": "execute_result",
     "data": {
      "text/plain": [
       "0                   NaN\n",
       "1     Behind on Housing\n",
       "2        Loss of Income\n",
       "3                   NaN\n",
       "4     Behind on Housing\n",
       "5        Loss of Income\n",
       "6                   NaN\n",
       "7     Behind on Housing\n",
       "8        Loss of Income\n",
       "9                   NaN\n",
       "10    Behind on Housing\n",
       "11       Loss of Income\n",
       "12                  NaN\n",
       "13    Behind on Housing\n",
       "14       Loss of Income\n",
       "15                  NaN\n",
       "16    Behind on Housing\n",
       "17       Loss of Income\n",
       "18                  NaN\n",
       "19    Behind on Housing\n",
       "20       Loss of Income\n",
       "21                  NaN\n",
       "22    Behind on Housing\n",
       "23       Loss of Income\n",
       "Name: Renters, dtype: object"
      ]
     },
     "metadata": {},
     "execution_count": 11
    }
   ],
   "metadata": {}
  },
  {
   "cell_type": "code",
   "execution_count": 12,
   "source": [
    "# I think so that Renter column is important for our analysis process so that's why i am keeping it and filling the NULL value with mode of the whole column and if we will not need it we can delete it during EDA work\r\n",
    "\r\n",
    "df['Renters'] = df['Renters'].fillna(df['Renters'].mode()[0])"
   ],
   "outputs": [],
   "metadata": {}
  },
  {
   "cell_type": "code",
   "execution_count": 13,
   "source": [
    "df['Renters']"
   ],
   "outputs": [
    {
     "output_type": "execute_result",
     "data": {
      "text/plain": [
       "0     Behind on Housing\n",
       "1     Behind on Housing\n",
       "2        Loss of Income\n",
       "3     Behind on Housing\n",
       "4     Behind on Housing\n",
       "5        Loss of Income\n",
       "6     Behind on Housing\n",
       "7     Behind on Housing\n",
       "8        Loss of Income\n",
       "9     Behind on Housing\n",
       "10    Behind on Housing\n",
       "11       Loss of Income\n",
       "12    Behind on Housing\n",
       "13    Behind on Housing\n",
       "14       Loss of Income\n",
       "15    Behind on Housing\n",
       "16    Behind on Housing\n",
       "17       Loss of Income\n",
       "18    Behind on Housing\n",
       "19    Behind on Housing\n",
       "20       Loss of Income\n",
       "21    Behind on Housing\n",
       "22    Behind on Housing\n",
       "23       Loss of Income\n",
       "Name: Renters, dtype: object"
      ]
     },
     "metadata": {},
     "execution_count": 13
    }
   ],
   "metadata": {}
  },
  {
   "cell_type": "code",
   "execution_count": 14,
   "source": [
    "df.isnull().sum()"
   ],
   "outputs": [
    {
     "output_type": "execute_result",
     "data": {
      "text/plain": [
       "Renters           0\n",
       "Unnamed: 2        0\n",
       "Unnamed: 3        0\n",
       "Unnamed: 4        0\n",
       "Unnamed: 5        0\n",
       "Unnamed: 6        0\n",
       "Unnamed: 7        0\n",
       "Homeowners        0\n",
       "Unnamed: 9        0\n",
       "Unnamed: 10       0\n",
       "Unnamed: 11       0\n",
       "Unnamed: 12       0\n",
       "Unnamed: 13       0\n",
       "All Households    0\n",
       "Unnamed: 15       0\n",
       "Unnamed: 16       0\n",
       "Unnamed: 17       0\n",
       "Unnamed: 18       0\n",
       "Unnamed: 19       0\n",
       "dtype: int64"
      ]
     },
     "metadata": {},
     "execution_count": 14
    }
   ],
   "metadata": {}
  },
  {
   "cell_type": "code",
   "execution_count": 15,
   "source": [
    "df.nunique()"
   ],
   "outputs": [
    {
     "output_type": "execute_result",
     "data": {
      "text/plain": [
       "Renters            2\n",
       "Unnamed: 2        18\n",
       "Unnamed: 3        19\n",
       "Unnamed: 4        19\n",
       "Unnamed: 5        19\n",
       "Unnamed: 6        20\n",
       "Unnamed: 7         4\n",
       "Homeowners        20\n",
       "Unnamed: 9        20\n",
       "Unnamed: 10       18\n",
       "Unnamed: 11       19\n",
       "Unnamed: 12       20\n",
       "Unnamed: 13        5\n",
       "All Households    19\n",
       "Unnamed: 15       19\n",
       "Unnamed: 16       19\n",
       "Unnamed: 17       20\n",
       "Unnamed: 18       20\n",
       "Unnamed: 19        5\n",
       "dtype: int64"
      ]
     },
     "metadata": {},
     "execution_count": 15
    }
   ],
   "metadata": {}
  },
  {
   "cell_type": "code",
   "execution_count": 16,
   "source": [
    "n = int(0.2 * df.shape[0])\r\n",
    "col = df.columns\r\n",
    "for i in range(len(col)):\r\n",
    "    if df[col[i]].nunique() > n:\r\n",
    "        df.drop([col[i]] , axis=1 , inplace=True)"
   ],
   "outputs": [],
   "metadata": {}
  },
  {
   "cell_type": "code",
   "execution_count": 17,
   "source": [
    "df.shape"
   ],
   "outputs": [
    {
     "output_type": "execute_result",
     "data": {
      "text/plain": [
       "(24, 2)"
      ]
     },
     "metadata": {},
     "execution_count": 17
    }
   ],
   "metadata": {}
  },
  {
   "cell_type": "code",
   "execution_count": 18,
   "source": [
    "df.head()"
   ],
   "outputs": [
    {
     "output_type": "execute_result",
     "data": {
      "text/html": [
       "<div>\n",
       "<style scoped>\n",
       "    .dataframe tbody tr th:only-of-type {\n",
       "        vertical-align: middle;\n",
       "    }\n",
       "\n",
       "    .dataframe tbody tr th {\n",
       "        vertical-align: top;\n",
       "    }\n",
       "\n",
       "    .dataframe thead th {\n",
       "        text-align: right;\n",
       "    }\n",
       "</style>\n",
       "<table border=\"1\" class=\"dataframe\">\n",
       "  <thead>\n",
       "    <tr style=\"text-align: right;\">\n",
       "      <th></th>\n",
       "      <th>Renters</th>\n",
       "      <th>Unnamed: 7</th>\n",
       "    </tr>\n",
       "  </thead>\n",
       "  <tbody>\n",
       "    <tr>\n",
       "      <th>0</th>\n",
       "      <td>Behind on Housing</td>\n",
       "      <td>All</td>\n",
       "    </tr>\n",
       "    <tr>\n",
       "      <th>1</th>\n",
       "      <td>Behind on Housing</td>\n",
       "      <td>17.0</td>\n",
       "    </tr>\n",
       "    <tr>\n",
       "      <th>2</th>\n",
       "      <td>Loss of Income</td>\n",
       "      <td>52.8</td>\n",
       "    </tr>\n",
       "    <tr>\n",
       "      <th>3</th>\n",
       "      <td>Behind on Housing</td>\n",
       "      <td>All</td>\n",
       "    </tr>\n",
       "    <tr>\n",
       "      <th>4</th>\n",
       "      <td>Behind on Housing</td>\n",
       "      <td>17.0</td>\n",
       "    </tr>\n",
       "  </tbody>\n",
       "</table>\n",
       "</div>"
      ],
      "text/plain": [
       "             Renters Unnamed: 7\n",
       "0  Behind on Housing        All\n",
       "1  Behind on Housing       17.0\n",
       "2     Loss of Income       52.8\n",
       "3  Behind on Housing        All\n",
       "4  Behind on Housing       17.0"
      ]
     },
     "metadata": {},
     "execution_count": 18
    }
   ],
   "metadata": {}
  },
  {
   "cell_type": "code",
   "execution_count": 20,
   "source": [
    "df_1 = pd.read_csv(r\"C:\\Users\\mohit\\OneDrive\\Desktop\\Omdena-AI\\omdena-texas-homelessness\\src\\data\\employment\\1_Unequal Financial Impacts of the Pandemic (HPS) by Quarter.xlsx - Sheet1.csv\")"
   ],
   "outputs": [],
   "metadata": {}
  },
  {
   "cell_type": "code",
   "execution_count": 21,
   "source": [
    "df_1.head()"
   ],
   "outputs": [
    {
     "output_type": "execute_result",
     "data": {
      "text/html": [
       "<div>\n",
       "<style scoped>\n",
       "    .dataframe tbody tr th:only-of-type {\n",
       "        vertical-align: middle;\n",
       "    }\n",
       "\n",
       "    .dataframe tbody tr th {\n",
       "        vertical-align: top;\n",
       "    }\n",
       "\n",
       "    .dataframe thead th {\n",
       "        text-align: right;\n",
       "    }\n",
       "</style>\n",
       "<table border=\"1\" class=\"dataframe\">\n",
       "  <thead>\n",
       "    <tr style=\"text-align: right;\">\n",
       "      <th></th>\n",
       "      <th>Unnamed: 0</th>\n",
       "      <th>Renters</th>\n",
       "      <th>Unnamed: 7</th>\n",
       "    </tr>\n",
       "  </thead>\n",
       "  <tbody>\n",
       "    <tr>\n",
       "      <th>0</th>\n",
       "      <td>0</td>\n",
       "      <td>Behind on Housing</td>\n",
       "      <td>NaN</td>\n",
       "    </tr>\n",
       "    <tr>\n",
       "      <th>1</th>\n",
       "      <td>1</td>\n",
       "      <td>Behind on Housing</td>\n",
       "      <td>17.0</td>\n",
       "    </tr>\n",
       "    <tr>\n",
       "      <th>2</th>\n",
       "      <td>2</td>\n",
       "      <td>Loss of Income</td>\n",
       "      <td>52.8</td>\n",
       "    </tr>\n",
       "    <tr>\n",
       "      <th>3</th>\n",
       "      <td>3</td>\n",
       "      <td>Behind on Housing</td>\n",
       "      <td>NaN</td>\n",
       "    </tr>\n",
       "    <tr>\n",
       "      <th>4</th>\n",
       "      <td>4</td>\n",
       "      <td>Behind on Housing</td>\n",
       "      <td>17.0</td>\n",
       "    </tr>\n",
       "  </tbody>\n",
       "</table>\n",
       "</div>"
      ],
      "text/plain": [
       "   Unnamed: 0            Renters  Unnamed: 7\n",
       "0           0  Behind on Housing         NaN\n",
       "1           1  Behind on Housing        17.0\n",
       "2           2     Loss of Income        52.8\n",
       "3           3  Behind on Housing         NaN\n",
       "4           4  Behind on Housing        17.0"
      ]
     },
     "metadata": {},
     "execution_count": 21
    }
   ],
   "metadata": {}
  },
  {
   "cell_type": "code",
   "execution_count": 22,
   "source": [
    "df_1.isnull().sum()"
   ],
   "outputs": [
    {
     "output_type": "execute_result",
     "data": {
      "text/plain": [
       "Unnamed: 0    0\n",
       "Renters       0\n",
       "Unnamed: 7    8\n",
       "dtype: int64"
      ]
     },
     "metadata": {},
     "execution_count": 22
    }
   ],
   "metadata": {}
  },
  {
   "cell_type": "code",
   "execution_count": 24,
   "source": [
    "df_1['Unnamed: 7'] = pd.to_numeric(df['Unnamed: 7'], errors='coerce')"
   ],
   "outputs": [],
   "metadata": {}
  },
  {
   "cell_type": "code",
   "execution_count": 26,
   "source": [
    "df_1['Unnamed: 7'] = df_1['Unnamed: 7'].fillna(df_1['Unnamed: 7'].mean())"
   ],
   "outputs": [],
   "metadata": {}
  },
  {
   "cell_type": "code",
   "execution_count": 28,
   "source": [
    "df_1.head()"
   ],
   "outputs": [
    {
     "output_type": "execute_result",
     "data": {
      "text/html": [
       "<div>\n",
       "<style scoped>\n",
       "    .dataframe tbody tr th:only-of-type {\n",
       "        vertical-align: middle;\n",
       "    }\n",
       "\n",
       "    .dataframe tbody tr th {\n",
       "        vertical-align: top;\n",
       "    }\n",
       "\n",
       "    .dataframe thead th {\n",
       "        text-align: right;\n",
       "    }\n",
       "</style>\n",
       "<table border=\"1\" class=\"dataframe\">\n",
       "  <thead>\n",
       "    <tr style=\"text-align: right;\">\n",
       "      <th></th>\n",
       "      <th>Unnamed: 0</th>\n",
       "      <th>Renters</th>\n",
       "      <th>Unnamed: 7</th>\n",
       "    </tr>\n",
       "  </thead>\n",
       "  <tbody>\n",
       "    <tr>\n",
       "      <th>0</th>\n",
       "      <td>0</td>\n",
       "      <td>Behind on Housing</td>\n",
       "      <td>34.925</td>\n",
       "    </tr>\n",
       "    <tr>\n",
       "      <th>1</th>\n",
       "      <td>1</td>\n",
       "      <td>Behind on Housing</td>\n",
       "      <td>17.000</td>\n",
       "    </tr>\n",
       "    <tr>\n",
       "      <th>2</th>\n",
       "      <td>2</td>\n",
       "      <td>Loss of Income</td>\n",
       "      <td>52.800</td>\n",
       "    </tr>\n",
       "    <tr>\n",
       "      <th>3</th>\n",
       "      <td>3</td>\n",
       "      <td>Behind on Housing</td>\n",
       "      <td>34.925</td>\n",
       "    </tr>\n",
       "    <tr>\n",
       "      <th>4</th>\n",
       "      <td>4</td>\n",
       "      <td>Behind on Housing</td>\n",
       "      <td>17.000</td>\n",
       "    </tr>\n",
       "  </tbody>\n",
       "</table>\n",
       "</div>"
      ],
      "text/plain": [
       "   Unnamed: 0            Renters  Unnamed: 7\n",
       "0           0  Behind on Housing      34.925\n",
       "1           1  Behind on Housing      17.000\n",
       "2           2     Loss of Income      52.800\n",
       "3           3  Behind on Housing      34.925\n",
       "4           4  Behind on Housing      17.000"
      ]
     },
     "metadata": {},
     "execution_count": 28
    }
   ],
   "metadata": {}
  },
  {
   "cell_type": "code",
   "execution_count": 31,
   "source": [
    "df_1.to_csv(r\"C:\\Users\\mohit\\OneDrive\\Desktop\\Omdena-AI\\omdena-texas-homelessness\\src\\cleaned data\\Unequal Financial Impacts of the pandemic by Quarter.csv\")"
   ],
   "outputs": [],
   "metadata": {}
  },
  {
   "cell_type": "code",
   "execution_count": null,
   "source": [],
   "outputs": [],
   "metadata": {}
  }
 ],
 "metadata": {
  "orig_nbformat": 4,
  "language_info": {
   "name": "python",
   "version": "3.8.11",
   "mimetype": "text/x-python",
   "codemirror_mode": {
    "name": "ipython",
    "version": 3
   },
   "pygments_lexer": "ipython3",
   "nbconvert_exporter": "python",
   "file_extension": ".py"
  },
  "kernelspec": {
   "name": "python3",
   "display_name": "Python 3.8.11 64-bit ('base': conda)"
  },
  "interpreter": {
   "hash": "de0a872bf736e871890e4595f13441ccf4210b874152ed5e175f37f1f83d386b"
  }
 },
 "nbformat": 4,
 "nbformat_minor": 2
}