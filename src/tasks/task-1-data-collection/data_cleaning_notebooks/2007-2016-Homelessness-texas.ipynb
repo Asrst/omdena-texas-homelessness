{
 "cells": [
  {
   "cell_type": "code",
   "execution_count": 1,
   "source": [
    "import pandas as pd\r\n",
    "import numpy as np\r\n",
    "import seaborn as sns\r\n",
    "import matplotlib.pyplot as plt"
   ],
   "outputs": [],
   "metadata": {}
  },
  {
   "cell_type": "code",
   "execution_count": 2,
   "source": [
    "df  = pd.read_csv(r\"C:\\Users\\mohit\\OneDrive\\Desktop\\Omdena-AI\\omdena-texas-homelessness\\src\\data\\2007-2016-homeless-texas.csv\")"
   ],
   "outputs": [],
   "metadata": {}
  },
  {
   "cell_type": "code",
   "execution_count": 3,
   "source": [
    "df.head()"
   ],
   "outputs": [
    {
     "output_type": "execute_result",
     "data": {
      "text/html": [
       "<div>\n",
       "<style scoped>\n",
       "    .dataframe tbody tr th:only-of-type {\n",
       "        vertical-align: middle;\n",
       "    }\n",
       "\n",
       "    .dataframe tbody tr th {\n",
       "        vertical-align: top;\n",
       "    }\n",
       "\n",
       "    .dataframe thead th {\n",
       "        text-align: right;\n",
       "    }\n",
       "</style>\n",
       "<table border=\"1\" class=\"dataframe\">\n",
       "  <thead>\n",
       "    <tr style=\"text-align: right;\">\n",
       "      <th></th>\n",
       "      <th>Year</th>\n",
       "      <th>State</th>\n",
       "      <th>CoC Number</th>\n",
       "      <th>CoC Name</th>\n",
       "      <th>Measures</th>\n",
       "      <th>Count</th>\n",
       "    </tr>\n",
       "  </thead>\n",
       "  <tbody>\n",
       "    <tr>\n",
       "      <th>0</th>\n",
       "      <td>1/1/2007</td>\n",
       "      <td>TX</td>\n",
       "      <td>TX-500</td>\n",
       "      <td>San Antonio/Bexar County CoC</td>\n",
       "      <td>Chronically Homeless Individuals</td>\n",
       "      <td>218</td>\n",
       "    </tr>\n",
       "    <tr>\n",
       "      <th>1</th>\n",
       "      <td>1/1/2007</td>\n",
       "      <td>TX</td>\n",
       "      <td>TX-500</td>\n",
       "      <td>San Antonio/Bexar County CoC</td>\n",
       "      <td>Homeless Individuals</td>\n",
       "      <td>1,375</td>\n",
       "    </tr>\n",
       "    <tr>\n",
       "      <th>2</th>\n",
       "      <td>1/1/2007</td>\n",
       "      <td>TX</td>\n",
       "      <td>TX-500</td>\n",
       "      <td>San Antonio/Bexar County CoC</td>\n",
       "      <td>Homeless People in Families</td>\n",
       "      <td>872</td>\n",
       "    </tr>\n",
       "    <tr>\n",
       "      <th>3</th>\n",
       "      <td>1/1/2007</td>\n",
       "      <td>TX</td>\n",
       "      <td>TX-500</td>\n",
       "      <td>San Antonio/Bexar County CoC</td>\n",
       "      <td>Sheltered Chronically Homeless Individuals</td>\n",
       "      <td>96</td>\n",
       "    </tr>\n",
       "    <tr>\n",
       "      <th>4</th>\n",
       "      <td>1/1/2007</td>\n",
       "      <td>TX</td>\n",
       "      <td>TX-500</td>\n",
       "      <td>San Antonio/Bexar County CoC</td>\n",
       "      <td>Sheltered Homeless</td>\n",
       "      <td>1,798</td>\n",
       "    </tr>\n",
       "  </tbody>\n",
       "</table>\n",
       "</div>"
      ],
      "text/plain": [
       "       Year State CoC Number                      CoC Name  \\\n",
       "0  1/1/2007    TX     TX-500  San Antonio/Bexar County CoC   \n",
       "1  1/1/2007    TX     TX-500  San Antonio/Bexar County CoC   \n",
       "2  1/1/2007    TX     TX-500  San Antonio/Bexar County CoC   \n",
       "3  1/1/2007    TX     TX-500  San Antonio/Bexar County CoC   \n",
       "4  1/1/2007    TX     TX-500  San Antonio/Bexar County CoC   \n",
       "\n",
       "                                     Measures  Count  \n",
       "0            Chronically Homeless Individuals    218  \n",
       "1                        Homeless Individuals  1,375  \n",
       "2                 Homeless People in Families    872  \n",
       "3  Sheltered Chronically Homeless Individuals     96  \n",
       "4                          Sheltered Homeless  1,798  "
      ]
     },
     "metadata": {},
     "execution_count": 3
    }
   ],
   "metadata": {}
  },
  {
   "cell_type": "code",
   "execution_count": 4,
   "source": [
    "df.info()"
   ],
   "outputs": [
    {
     "output_type": "stream",
     "name": "stdout",
     "text": [
      "<class 'pandas.core.frame.DataFrame'>\n",
      "RangeIndex: 2244 entries, 0 to 2243\n",
      "Data columns (total 6 columns):\n",
      " #   Column      Non-Null Count  Dtype \n",
      "---  ------      --------------  ----- \n",
      " 0   Year        2244 non-null   object\n",
      " 1   State       2244 non-null   object\n",
      " 2   CoC Number  2244 non-null   object\n",
      " 3   CoC Name    2244 non-null   object\n",
      " 4   Measures    2244 non-null   object\n",
      " 5   Count       2244 non-null   object\n",
      "dtypes: object(6)\n",
      "memory usage: 105.3+ KB\n"
     ]
    }
   ],
   "metadata": {}
  },
  {
   "cell_type": "code",
   "execution_count": 5,
   "source": [
    "df.shape"
   ],
   "outputs": [
    {
     "output_type": "execute_result",
     "data": {
      "text/plain": [
       "(2244, 6)"
      ]
     },
     "metadata": {},
     "execution_count": 5
    }
   ],
   "metadata": {}
  },
  {
   "cell_type": "code",
   "execution_count": 6,
   "source": [
    "# With this command we can easily check that how many null valued data do we have\r\n",
    "\r\n",
    "df.isnull().sum()"
   ],
   "outputs": [
    {
     "output_type": "execute_result",
     "data": {
      "text/plain": [
       "Year          0\n",
       "State         0\n",
       "CoC Number    0\n",
       "CoC Name      0\n",
       "Measures      0\n",
       "Count         0\n",
       "dtype: int64"
      ]
     },
     "metadata": {},
     "execution_count": 6
    }
   ],
   "metadata": {}
  },
  {
   "cell_type": "code",
   "execution_count": 7,
   "source": [
    "df.nunique()"
   ],
   "outputs": [
    {
     "output_type": "execute_result",
     "data": {
      "text/plain": [
       "Year            9\n",
       "State           1\n",
       "CoC Number     11\n",
       "CoC Name       11\n",
       "Measures       42\n",
       "Count         844\n",
       "dtype: int64"
      ]
     },
     "metadata": {},
     "execution_count": 7
    }
   ],
   "metadata": {}
  },
  {
   "cell_type": "code",
   "execution_count": 8,
   "source": [
    "df['State'].value_counts()"
   ],
   "outputs": [
    {
     "output_type": "execute_result",
     "data": {
      "text/plain": [
       "TX    2244\n",
       "Name: State, dtype: int64"
      ]
     },
     "metadata": {},
     "execution_count": 8
    }
   ],
   "metadata": {}
  },
  {
   "cell_type": "code",
   "execution_count": 9,
   "source": [
    "df.describe()"
   ],
   "outputs": [
    {
     "output_type": "execute_result",
     "data": {
      "text/html": [
       "<div>\n",
       "<style scoped>\n",
       "    .dataframe tbody tr th:only-of-type {\n",
       "        vertical-align: middle;\n",
       "    }\n",
       "\n",
       "    .dataframe tbody tr th {\n",
       "        vertical-align: top;\n",
       "    }\n",
       "\n",
       "    .dataframe thead th {\n",
       "        text-align: right;\n",
       "    }\n",
       "</style>\n",
       "<table border=\"1\" class=\"dataframe\">\n",
       "  <thead>\n",
       "    <tr style=\"text-align: right;\">\n",
       "      <th></th>\n",
       "      <th>Year</th>\n",
       "      <th>State</th>\n",
       "      <th>CoC Number</th>\n",
       "      <th>CoC Name</th>\n",
       "      <th>Measures</th>\n",
       "      <th>Count</th>\n",
       "    </tr>\n",
       "  </thead>\n",
       "  <tbody>\n",
       "    <tr>\n",
       "      <th>count</th>\n",
       "      <td>2244</td>\n",
       "      <td>2244</td>\n",
       "      <td>2244</td>\n",
       "      <td>2244</td>\n",
       "      <td>2244</td>\n",
       "      <td>2244</td>\n",
       "    </tr>\n",
       "    <tr>\n",
       "      <th>unique</th>\n",
       "      <td>9</td>\n",
       "      <td>1</td>\n",
       "      <td>11</td>\n",
       "      <td>11</td>\n",
       "      <td>42</td>\n",
       "      <td>844</td>\n",
       "    </tr>\n",
       "    <tr>\n",
       "      <th>top</th>\n",
       "      <td>1/1/2015</td>\n",
       "      <td>TX</td>\n",
       "      <td>TX-500</td>\n",
       "      <td>San Antonio/Bexar County CoC</td>\n",
       "      <td>Chronically Homeless Individuals</td>\n",
       "      <td>0</td>\n",
       "    </tr>\n",
       "    <tr>\n",
       "      <th>freq</th>\n",
       "      <td>462</td>\n",
       "      <td>2244</td>\n",
       "      <td>204</td>\n",
       "      <td>204</td>\n",
       "      <td>99</td>\n",
       "      <td>299</td>\n",
       "    </tr>\n",
       "  </tbody>\n",
       "</table>\n",
       "</div>"
      ],
      "text/plain": [
       "            Year State CoC Number                      CoC Name  \\\n",
       "count       2244  2244       2244                          2244   \n",
       "unique         9     1         11                            11   \n",
       "top     1/1/2015    TX     TX-500  San Antonio/Bexar County CoC   \n",
       "freq         462  2244        204                           204   \n",
       "\n",
       "                                Measures Count  \n",
       "count                               2244  2244  \n",
       "unique                                42   844  \n",
       "top     Chronically Homeless Individuals     0  \n",
       "freq                                  99   299  "
      ]
     },
     "metadata": {},
     "execution_count": 9
    }
   ],
   "metadata": {}
  },
  {
   "cell_type": "code",
   "execution_count": 10,
   "source": [
    "# As we can see that in the column 'Count' we have more than 1/3rd of the unique values so it's much better to just remove that column\r\n",
    "\r\n",
    "df.drop(['Count'] ,axis=1 ,inplace=True)"
   ],
   "outputs": [],
   "metadata": {}
  },
  {
   "cell_type": "code",
   "execution_count": 11,
   "source": [
    "df.head()"
   ],
   "outputs": [
    {
     "output_type": "execute_result",
     "data": {
      "text/html": [
       "<div>\n",
       "<style scoped>\n",
       "    .dataframe tbody tr th:only-of-type {\n",
       "        vertical-align: middle;\n",
       "    }\n",
       "\n",
       "    .dataframe tbody tr th {\n",
       "        vertical-align: top;\n",
       "    }\n",
       "\n",
       "    .dataframe thead th {\n",
       "        text-align: right;\n",
       "    }\n",
       "</style>\n",
       "<table border=\"1\" class=\"dataframe\">\n",
       "  <thead>\n",
       "    <tr style=\"text-align: right;\">\n",
       "      <th></th>\n",
       "      <th>Year</th>\n",
       "      <th>State</th>\n",
       "      <th>CoC Number</th>\n",
       "      <th>CoC Name</th>\n",
       "      <th>Measures</th>\n",
       "    </tr>\n",
       "  </thead>\n",
       "  <tbody>\n",
       "    <tr>\n",
       "      <th>0</th>\n",
       "      <td>1/1/2007</td>\n",
       "      <td>TX</td>\n",
       "      <td>TX-500</td>\n",
       "      <td>San Antonio/Bexar County CoC</td>\n",
       "      <td>Chronically Homeless Individuals</td>\n",
       "    </tr>\n",
       "    <tr>\n",
       "      <th>1</th>\n",
       "      <td>1/1/2007</td>\n",
       "      <td>TX</td>\n",
       "      <td>TX-500</td>\n",
       "      <td>San Antonio/Bexar County CoC</td>\n",
       "      <td>Homeless Individuals</td>\n",
       "    </tr>\n",
       "    <tr>\n",
       "      <th>2</th>\n",
       "      <td>1/1/2007</td>\n",
       "      <td>TX</td>\n",
       "      <td>TX-500</td>\n",
       "      <td>San Antonio/Bexar County CoC</td>\n",
       "      <td>Homeless People in Families</td>\n",
       "    </tr>\n",
       "    <tr>\n",
       "      <th>3</th>\n",
       "      <td>1/1/2007</td>\n",
       "      <td>TX</td>\n",
       "      <td>TX-500</td>\n",
       "      <td>San Antonio/Bexar County CoC</td>\n",
       "      <td>Sheltered Chronically Homeless Individuals</td>\n",
       "    </tr>\n",
       "    <tr>\n",
       "      <th>4</th>\n",
       "      <td>1/1/2007</td>\n",
       "      <td>TX</td>\n",
       "      <td>TX-500</td>\n",
       "      <td>San Antonio/Bexar County CoC</td>\n",
       "      <td>Sheltered Homeless</td>\n",
       "    </tr>\n",
       "  </tbody>\n",
       "</table>\n",
       "</div>"
      ],
      "text/plain": [
       "       Year State CoC Number                      CoC Name  \\\n",
       "0  1/1/2007    TX     TX-500  San Antonio/Bexar County CoC   \n",
       "1  1/1/2007    TX     TX-500  San Antonio/Bexar County CoC   \n",
       "2  1/1/2007    TX     TX-500  San Antonio/Bexar County CoC   \n",
       "3  1/1/2007    TX     TX-500  San Antonio/Bexar County CoC   \n",
       "4  1/1/2007    TX     TX-500  San Antonio/Bexar County CoC   \n",
       "\n",
       "                                     Measures  \n",
       "0            Chronically Homeless Individuals  \n",
       "1                        Homeless Individuals  \n",
       "2                 Homeless People in Families  \n",
       "3  Sheltered Chronically Homeless Individuals  \n",
       "4                          Sheltered Homeless  "
      ]
     },
     "metadata": {},
     "execution_count": 11
    }
   ],
   "metadata": {}
  },
  {
   "cell_type": "code",
   "execution_count": 12,
   "source": [
    "df.nunique()"
   ],
   "outputs": [
    {
     "output_type": "execute_result",
     "data": {
      "text/plain": [
       "Year           9\n",
       "State          1\n",
       "CoC Number    11\n",
       "CoC Name      11\n",
       "Measures      42\n",
       "dtype: int64"
      ]
     },
     "metadata": {},
     "execution_count": 12
    }
   ],
   "metadata": {}
  },
  {
   "cell_type": "code",
   "execution_count": 15,
   "source": [
    "# We can do one hot coding also in all these object datatype to convert them into numeric one\r\n",
    "\r\n",
    "categorical_cols =['State','Year','CoC Number','CoC Name','Measures']\r\n",
    "\r\n",
    "from sklearn.preprocessing import LabelEncoder\r\n",
    "\r\n",
    "# instantiate labelencoder object\r\n",
    "le = LabelEncoder()\r\n",
    "\r\n",
    "# apply le on categorical feature columns\r\n",
    "df[categorical_cols] = df[categorical_cols].apply(lambda col: le.fit_transform(col))\r\n",
    "    \r\n",
    "from sklearn.preprocessing import OneHotEncoder\r\n",
    "ohe = OneHotEncoder()\r\n",
    "\r\n",
    "#One-hot-encode the categorical columns.\r\n",
    "#Unfortunately outputs an array instead of dataframe.\r\n",
    "array_hot_encoded = ohe.fit_transform(df[categorical_cols])\r\n",
    "\r\n",
    "#Convert it to df\r\n",
    "data_hot_encoded = pd.DataFrame(array_hot_encoded, index=df.index)\r\n",
    "\r\n",
    "#Extract only the columns that didnt need to be encoded\r\n",
    "data_other_cols = df.drop(columns=categorical_cols)\r\n",
    "\r\n",
    "#Concatenate the two dataframes : \r\n",
    "data_out = pd.concat([data_hot_encoded, data_other_cols], axis=1)"
   ],
   "outputs": [],
   "metadata": {}
  },
  {
   "cell_type": "code",
   "execution_count": 16,
   "source": [
    "df.head()"
   ],
   "outputs": [
    {
     "output_type": "execute_result",
     "data": {
      "text/html": [
       "<div>\n",
       "<style scoped>\n",
       "    .dataframe tbody tr th:only-of-type {\n",
       "        vertical-align: middle;\n",
       "    }\n",
       "\n",
       "    .dataframe tbody tr th {\n",
       "        vertical-align: top;\n",
       "    }\n",
       "\n",
       "    .dataframe thead th {\n",
       "        text-align: right;\n",
       "    }\n",
       "</style>\n",
       "<table border=\"1\" class=\"dataframe\">\n",
       "  <thead>\n",
       "    <tr style=\"text-align: right;\">\n",
       "      <th></th>\n",
       "      <th>Year</th>\n",
       "      <th>State</th>\n",
       "      <th>CoC Number</th>\n",
       "      <th>CoC Name</th>\n",
       "      <th>Measures</th>\n",
       "    </tr>\n",
       "  </thead>\n",
       "  <tbody>\n",
       "    <tr>\n",
       "      <th>0</th>\n",
       "      <td>0</td>\n",
       "      <td>0</td>\n",
       "      <td>0</td>\n",
       "      <td>7</td>\n",
       "      <td>2</td>\n",
       "    </tr>\n",
       "    <tr>\n",
       "      <th>1</th>\n",
       "      <td>0</td>\n",
       "      <td>0</td>\n",
       "      <td>0</td>\n",
       "      <td>7</td>\n",
       "      <td>4</td>\n",
       "    </tr>\n",
       "    <tr>\n",
       "      <th>2</th>\n",
       "      <td>0</td>\n",
       "      <td>0</td>\n",
       "      <td>0</td>\n",
       "      <td>7</td>\n",
       "      <td>5</td>\n",
       "    </tr>\n",
       "    <tr>\n",
       "      <th>3</th>\n",
       "      <td>0</td>\n",
       "      <td>0</td>\n",
       "      <td>0</td>\n",
       "      <td>7</td>\n",
       "      <td>15</td>\n",
       "    </tr>\n",
       "    <tr>\n",
       "      <th>4</th>\n",
       "      <td>0</td>\n",
       "      <td>0</td>\n",
       "      <td>0</td>\n",
       "      <td>7</td>\n",
       "      <td>17</td>\n",
       "    </tr>\n",
       "  </tbody>\n",
       "</table>\n",
       "</div>"
      ],
      "text/plain": [
       "   Year  State  CoC Number  CoC Name  Measures\n",
       "0     0      0           0         7         2\n",
       "1     0      0           0         7         4\n",
       "2     0      0           0         7         5\n",
       "3     0      0           0         7        15\n",
       "4     0      0           0         7        17"
      ]
     },
     "metadata": {},
     "execution_count": 16
    }
   ],
   "metadata": {}
  },
  {
   "cell_type": "code",
   "execution_count": 17,
   "source": [
    "df.to_csv(r'C:\\Users\\mohit\\OneDrive\\Desktop\\Omdena-AI\\omdena-texas-homelessness\\src\\cleaned data\\2007-2016-homelessness-texas.csv')"
   ],
   "outputs": [],
   "metadata": {}
  },
  {
   "cell_type": "code",
   "execution_count": null,
   "source": [],
   "outputs": [],
   "metadata": {}
  }
 ],
 "metadata": {
  "orig_nbformat": 4,
  "language_info": {
   "name": "python",
   "version": "3.8.11",
   "mimetype": "text/x-python",
   "codemirror_mode": {
    "name": "ipython",
    "version": 3
   },
   "pygments_lexer": "ipython3",
   "nbconvert_exporter": "python",
   "file_extension": ".py"
  },
  "kernelspec": {
   "name": "python3",
   "display_name": "Python 3.8.11 64-bit ('ev_1': conda)"
  },
  "interpreter": {
   "hash": "7f1110dd18ce896a7b42188f642b8ca32355f1058f988640a3a9d669b8669ca1"
  }
 },
 "nbformat": 4,
 "nbformat_minor": 2
}