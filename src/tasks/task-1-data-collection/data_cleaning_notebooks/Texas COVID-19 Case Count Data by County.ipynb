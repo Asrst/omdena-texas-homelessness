{
 "cells": [
  {
   "cell_type": "code",
   "execution_count": 1,
   "source": [
    "import pandas as pd\r\n",
    "import numpy as np\r\n",
    "import seaborn as sns\r\n",
    "import matplotlib.pyplot as plt"
   ],
   "outputs": [],
   "metadata": {}
  },
  {
   "cell_type": "code",
   "execution_count": 2,
   "source": [
    "df = pd.read_excel(r'C:\\Users\\mohit\\OneDrive\\Desktop\\Omdena-AI\\omdena-texas-homelessness\\src\\data\\health\\COVID Related\\Texas COVID-19 Case Count Data by County.xlsx')"
   ],
   "outputs": [],
   "metadata": {}
  },
  {
   "cell_type": "code",
   "execution_count": 3,
   "source": [
    "df.head()"
   ],
   "outputs": [
    {
     "output_type": "execute_result",
     "data": {
      "text/html": [
       "<div>\n",
       "<style scoped>\n",
       "    .dataframe tbody tr th:only-of-type {\n",
       "        vertical-align: middle;\n",
       "    }\n",
       "\n",
       "    .dataframe tbody tr th {\n",
       "        vertical-align: top;\n",
       "    }\n",
       "\n",
       "    .dataframe thead th {\n",
       "        text-align: right;\n",
       "    }\n",
       "</style>\n",
       "<table border=\"1\" class=\"dataframe\">\n",
       "  <thead>\n",
       "    <tr style=\"text-align: right;\">\n",
       "      <th></th>\n",
       "      <th>County Name</th>\n",
       "      <th>Cases 03-04-2020</th>\n",
       "      <th>Cases 03-05-2020</th>\n",
       "      <th>Cases 03-06-2020</th>\n",
       "      <th>Cases 03-07-2020</th>\n",
       "      <th>Cases 03-08-2020</th>\n",
       "      <th>Cases 03-09-2020</th>\n",
       "      <th>Cases 03-10-2020</th>\n",
       "      <th>Cases 03-11-2020</th>\n",
       "      <th>Cases 03-12-2020</th>\n",
       "      <th>...</th>\n",
       "      <th>Cases 09-19-2021</th>\n",
       "      <th>Cases 09-20-2021</th>\n",
       "      <th>Cases 09-21-2021</th>\n",
       "      <th>Cases 09-22-2021</th>\n",
       "      <th>Cases 09-23-2021</th>\n",
       "      <th>Cases 09-24-2021</th>\n",
       "      <th>Cases 09-25-2021</th>\n",
       "      <th>Cases 09-26-2021</th>\n",
       "      <th>Cases 09-27-2021</th>\n",
       "      <th>Cases 09-28-2021</th>\n",
       "    </tr>\n",
       "  </thead>\n",
       "  <tbody>\n",
       "    <tr>\n",
       "      <th>0</th>\n",
       "      <td>Anderson</td>\n",
       "      <td>0.0</td>\n",
       "      <td>0.0</td>\n",
       "      <td>0.0</td>\n",
       "      <td>0.0</td>\n",
       "      <td>0.0</td>\n",
       "      <td>0.0</td>\n",
       "      <td>0.0</td>\n",
       "      <td>0.0</td>\n",
       "      <td>0.0</td>\n",
       "      <td>...</td>\n",
       "      <td>4919.0</td>\n",
       "      <td>4919.0</td>\n",
       "      <td>4924.0</td>\n",
       "      <td>4931.0</td>\n",
       "      <td>4928.0</td>\n",
       "      <td>4959.0</td>\n",
       "      <td>4958.0</td>\n",
       "      <td>4958.0</td>\n",
       "      <td>4958.0</td>\n",
       "      <td>4954.0</td>\n",
       "    </tr>\n",
       "    <tr>\n",
       "      <th>1</th>\n",
       "      <td>Andrews</td>\n",
       "      <td>0.0</td>\n",
       "      <td>0.0</td>\n",
       "      <td>0.0</td>\n",
       "      <td>0.0</td>\n",
       "      <td>0.0</td>\n",
       "      <td>0.0</td>\n",
       "      <td>0.0</td>\n",
       "      <td>0.0</td>\n",
       "      <td>0.0</td>\n",
       "      <td>...</td>\n",
       "      <td>2575.0</td>\n",
       "      <td>2575.0</td>\n",
       "      <td>2591.0</td>\n",
       "      <td>2591.0</td>\n",
       "      <td>2637.0</td>\n",
       "      <td>2637.0</td>\n",
       "      <td>2637.0</td>\n",
       "      <td>2637.0</td>\n",
       "      <td>2637.0</td>\n",
       "      <td>2637.0</td>\n",
       "    </tr>\n",
       "    <tr>\n",
       "      <th>2</th>\n",
       "      <td>Angelina</td>\n",
       "      <td>0.0</td>\n",
       "      <td>0.0</td>\n",
       "      <td>0.0</td>\n",
       "      <td>0.0</td>\n",
       "      <td>0.0</td>\n",
       "      <td>0.0</td>\n",
       "      <td>0.0</td>\n",
       "      <td>0.0</td>\n",
       "      <td>0.0</td>\n",
       "      <td>...</td>\n",
       "      <td>6307.0</td>\n",
       "      <td>6307.0</td>\n",
       "      <td>6384.0</td>\n",
       "      <td>6384.0</td>\n",
       "      <td>6384.0</td>\n",
       "      <td>6495.0</td>\n",
       "      <td>6495.0</td>\n",
       "      <td>6495.0</td>\n",
       "      <td>6495.0</td>\n",
       "      <td>6546.0</td>\n",
       "    </tr>\n",
       "    <tr>\n",
       "      <th>3</th>\n",
       "      <td>Aransas</td>\n",
       "      <td>0.0</td>\n",
       "      <td>0.0</td>\n",
       "      <td>0.0</td>\n",
       "      <td>0.0</td>\n",
       "      <td>0.0</td>\n",
       "      <td>0.0</td>\n",
       "      <td>0.0</td>\n",
       "      <td>0.0</td>\n",
       "      <td>0.0</td>\n",
       "      <td>...</td>\n",
       "      <td>1881.0</td>\n",
       "      <td>1881.0</td>\n",
       "      <td>1889.0</td>\n",
       "      <td>1891.0</td>\n",
       "      <td>1898.0</td>\n",
       "      <td>1900.0</td>\n",
       "      <td>1902.0</td>\n",
       "      <td>1910.0</td>\n",
       "      <td>1910.0</td>\n",
       "      <td>1920.0</td>\n",
       "    </tr>\n",
       "    <tr>\n",
       "      <th>4</th>\n",
       "      <td>Archer</td>\n",
       "      <td>0.0</td>\n",
       "      <td>0.0</td>\n",
       "      <td>0.0</td>\n",
       "      <td>0.0</td>\n",
       "      <td>0.0</td>\n",
       "      <td>0.0</td>\n",
       "      <td>0.0</td>\n",
       "      <td>0.0</td>\n",
       "      <td>0.0</td>\n",
       "      <td>...</td>\n",
       "      <td>910.0</td>\n",
       "      <td>910.0</td>\n",
       "      <td>923.0</td>\n",
       "      <td>924.0</td>\n",
       "      <td>925.0</td>\n",
       "      <td>925.0</td>\n",
       "      <td>931.0</td>\n",
       "      <td>931.0</td>\n",
       "      <td>931.0</td>\n",
       "      <td>937.0</td>\n",
       "    </tr>\n",
       "  </tbody>\n",
       "</table>\n",
       "<p>5 rows × 575 columns</p>\n",
       "</div>"
      ],
      "text/plain": [
       "  County Name  Cases 03-04-2020  Cases 03-05-2020  Cases 03-06-2020  \\\n",
       "0    Anderson               0.0               0.0               0.0   \n",
       "1     Andrews               0.0               0.0               0.0   \n",
       "2    Angelina               0.0               0.0               0.0   \n",
       "3     Aransas               0.0               0.0               0.0   \n",
       "4      Archer               0.0               0.0               0.0   \n",
       "\n",
       "   Cases 03-07-2020  Cases 03-08-2020  Cases 03-09-2020  Cases 03-10-2020  \\\n",
       "0               0.0               0.0               0.0               0.0   \n",
       "1               0.0               0.0               0.0               0.0   \n",
       "2               0.0               0.0               0.0               0.0   \n",
       "3               0.0               0.0               0.0               0.0   \n",
       "4               0.0               0.0               0.0               0.0   \n",
       "\n",
       "   Cases 03-11-2020  Cases 03-12-2020  ...  Cases 09-19-2021  \\\n",
       "0               0.0               0.0  ...            4919.0   \n",
       "1               0.0               0.0  ...            2575.0   \n",
       "2               0.0               0.0  ...            6307.0   \n",
       "3               0.0               0.0  ...            1881.0   \n",
       "4               0.0               0.0  ...             910.0   \n",
       "\n",
       "   Cases 09-20-2021  Cases 09-21-2021  Cases 09-22-2021  Cases 09-23-2021  \\\n",
       "0            4919.0            4924.0            4931.0            4928.0   \n",
       "1            2575.0            2591.0            2591.0            2637.0   \n",
       "2            6307.0            6384.0            6384.0            6384.0   \n",
       "3            1881.0            1889.0            1891.0            1898.0   \n",
       "4             910.0             923.0             924.0             925.0   \n",
       "\n",
       "   Cases 09-24-2021  Cases 09-25-2021  Cases 09-26-2021  Cases 09-27-2021  \\\n",
       "0            4959.0            4958.0            4958.0            4958.0   \n",
       "1            2637.0            2637.0            2637.0            2637.0   \n",
       "2            6495.0            6495.0            6495.0            6495.0   \n",
       "3            1900.0            1902.0            1910.0            1910.0   \n",
       "4             925.0             931.0             931.0             931.0   \n",
       "\n",
       "   Cases 09-28-2021  \n",
       "0            4954.0  \n",
       "1            2637.0  \n",
       "2            6546.0  \n",
       "3            1920.0  \n",
       "4             937.0  \n",
       "\n",
       "[5 rows x 575 columns]"
      ]
     },
     "metadata": {},
     "execution_count": 3
    }
   ],
   "metadata": {}
  },
  {
   "cell_type": "code",
   "execution_count": 4,
   "source": [
    "df.info()"
   ],
   "outputs": [
    {
     "output_type": "stream",
     "name": "stdout",
     "text": [
      "<class 'pandas.core.frame.DataFrame'>\n",
      "RangeIndex: 260 entries, 0 to 259\n",
      "Columns: 575 entries, County Name to Cases 09-28-2021\n",
      "dtypes: float64(574), object(1)\n",
      "memory usage: 1.1+ MB\n"
     ]
    }
   ],
   "metadata": {}
  },
  {
   "cell_type": "code",
   "execution_count": 5,
   "source": [
    "df.shape"
   ],
   "outputs": [
    {
     "output_type": "execute_result",
     "data": {
      "text/plain": [
       "(260, 575)"
      ]
     },
     "metadata": {},
     "execution_count": 5
    }
   ],
   "metadata": {}
  },
  {
   "cell_type": "code",
   "execution_count": 6,
   "source": [
    "df.isnull().sum()"
   ],
   "outputs": [
    {
     "output_type": "execute_result",
     "data": {
      "text/plain": [
       "County Name         1\n",
       "Cases 03-04-2020    5\n",
       "Cases 03-05-2020    5\n",
       "Cases 03-06-2020    5\n",
       "Cases 03-07-2020    5\n",
       "                   ..\n",
       "Cases 09-24-2021    5\n",
       "Cases 09-25-2021    5\n",
       "Cases 09-26-2021    5\n",
       "Cases 09-27-2021    5\n",
       "Cases 09-28-2021    5\n",
       "Length: 575, dtype: int64"
      ]
     },
     "metadata": {},
     "execution_count": 6
    }
   ],
   "metadata": {}
  },
  {
   "cell_type": "code",
   "execution_count": 7,
   "source": [
    "# For NULL values we will keep those columns which has around 50% of NAN data\r\n",
    "\r\n",
    "n =int( 0.5 * df.shape[0])\r\n",
    "\r\n",
    "# For Unique values we will keep only those columns which has around 25% of unique values\r\n",
    "p = int(0.1 * df.shape[0])\r\n",
    "\r\n",
    "col = df.columns\r\n",
    "for i in range(len(col)):\r\n",
    "    if df[col[i]].isnull().sum() > n:\r\n",
    "        df.drop([col[i]] , axis= 1 , inplace= True)\r\n",
    "\r\n",
    "# After dropping some columns we will make around list of columns\r\n",
    "col = df.columns\r\n",
    "\r\n",
    "for i in range(len(col)):\r\n",
    "    if df[col[i]].nunique() > p:\r\n",
    "        df.drop([col[i]] , axis=1 , inplace=True)\r\n"
   ],
   "outputs": [],
   "metadata": {}
  },
  {
   "cell_type": "code",
   "execution_count": 8,
   "source": [
    "df.shape"
   ],
   "outputs": [
    {
     "output_type": "execute_result",
     "data": {
      "text/plain": [
       "(260, 21)"
      ]
     },
     "metadata": {},
     "execution_count": 8
    }
   ],
   "metadata": {}
  },
  {
   "cell_type": "code",
   "execution_count": 9,
   "source": [
    "# You can see that out of 575 columns after just removing NULL value columns and high unique valued columns we are left with"
   ],
   "outputs": [],
   "metadata": {}
  },
  {
   "cell_type": "code",
   "execution_count": 10,
   "source": [
    "df.info()"
   ],
   "outputs": [
    {
     "output_type": "stream",
     "name": "stdout",
     "text": [
      "<class 'pandas.core.frame.DataFrame'>\n",
      "RangeIndex: 260 entries, 0 to 259\n",
      "Data columns (total 21 columns):\n",
      " #   Column            Non-Null Count  Dtype  \n",
      "---  ------            --------------  -----  \n",
      " 0   Cases 03-04-2020  255 non-null    float64\n",
      " 1   Cases 03-05-2020  255 non-null    float64\n",
      " 2   Cases 03-06-2020  255 non-null    float64\n",
      " 3   Cases 03-07-2020  255 non-null    float64\n",
      " 4   Cases 03-08-2020  255 non-null    float64\n",
      " 5   Cases 03-09-2020  255 non-null    float64\n",
      " 6   Cases 03-10-2020  255 non-null    float64\n",
      " 7   Cases 03-11-2020  255 non-null    float64\n",
      " 8   Cases 03-12-2020  255 non-null    float64\n",
      " 9   Cases 03-13-2020  255 non-null    float64\n",
      " 10  Cases 03-14-2020  255 non-null    float64\n",
      " 11  Cases 03-15-2020  255 non-null    float64\n",
      " 12  Cases 03-16-2020  255 non-null    float64\n",
      " 13  Cases 03-17-2020  255 non-null    float64\n",
      " 14  Cases 03-18-2020  255 non-null    float64\n",
      " 15  Cases 03-19-2020  255 non-null    float64\n",
      " 16  Cases 03-20-2020  255 non-null    float64\n",
      " 17  Cases 03-21-2020  255 non-null    float64\n",
      " 18  Cases 03-22-2020  255 non-null    float64\n",
      " 19  Cases 03-23-2020  255 non-null    float64\n",
      " 20  Cases 03-24-2020  255 non-null    float64\n",
      "dtypes: float64(21)\n",
      "memory usage: 42.8 KB\n"
     ]
    }
   ],
   "metadata": {}
  },
  {
   "cell_type": "code",
   "execution_count": 11,
   "source": [
    "col = df.columns\r\n",
    "\r\n",
    "for i in range(len(col)):\r\n",
    "    if df[col[i]].isnull().sum() > 0 :\r\n",
    "\r\n",
    "        df[col[i]] = df[col[i]].fillna(df[col[i]].mean())"
   ],
   "outputs": [],
   "metadata": {}
  },
  {
   "cell_type": "code",
   "execution_count": 12,
   "source": [
    "df.isnull().sum()"
   ],
   "outputs": [
    {
     "output_type": "execute_result",
     "data": {
      "text/plain": [
       "Cases 03-04-2020    0\n",
       "Cases 03-05-2020    0\n",
       "Cases 03-06-2020    0\n",
       "Cases 03-07-2020    0\n",
       "Cases 03-08-2020    0\n",
       "Cases 03-09-2020    0\n",
       "Cases 03-10-2020    0\n",
       "Cases 03-11-2020    0\n",
       "Cases 03-12-2020    0\n",
       "Cases 03-13-2020    0\n",
       "Cases 03-14-2020    0\n",
       "Cases 03-15-2020    0\n",
       "Cases 03-16-2020    0\n",
       "Cases 03-17-2020    0\n",
       "Cases 03-18-2020    0\n",
       "Cases 03-19-2020    0\n",
       "Cases 03-20-2020    0\n",
       "Cases 03-21-2020    0\n",
       "Cases 03-22-2020    0\n",
       "Cases 03-23-2020    0\n",
       "Cases 03-24-2020    0\n",
       "dtype: int64"
      ]
     },
     "metadata": {},
     "execution_count": 12
    }
   ],
   "metadata": {}
  },
  {
   "cell_type": "code",
   "execution_count": 13,
   "source": [
    "df.nunique()"
   ],
   "outputs": [
    {
     "output_type": "execute_result",
     "data": {
      "text/plain": [
       "Cases 03-04-2020     1\n",
       "Cases 03-05-2020     1\n",
       "Cases 03-06-2020     5\n",
       "Cases 03-07-2020     5\n",
       "Cases 03-08-2020     5\n",
       "Cases 03-09-2020     6\n",
       "Cases 03-10-2020     7\n",
       "Cases 03-11-2020     8\n",
       "Cases 03-12-2020     7\n",
       "Cases 03-13-2020     7\n",
       "Cases 03-14-2020     7\n",
       "Cases 03-15-2020    10\n",
       "Cases 03-16-2020    10\n",
       "Cases 03-17-2020     9\n",
       "Cases 03-18-2020    12\n",
       "Cases 03-19-2020    13\n",
       "Cases 03-20-2020    16\n",
       "Cases 03-21-2020    18\n",
       "Cases 03-22-2020    19\n",
       "Cases 03-23-2020    19\n",
       "Cases 03-24-2020    24\n",
       "dtype: int64"
      ]
     },
     "metadata": {},
     "execution_count": 13
    }
   ],
   "metadata": {}
  },
  {
   "cell_type": "code",
   "execution_count": 14,
   "source": [
    "df.to_csv(r'C:\\Users\\mohit\\OneDrive\\Desktop\\Omdena-AI\\omdena-texas-homelessness\\src\\cleaned data\\Texas COVID-19 Case Count Data by County.csv')"
   ],
   "outputs": [],
   "metadata": {}
  },
  {
   "cell_type": "code",
   "execution_count": null,
   "source": [],
   "outputs": [],
   "metadata": {}
  }
 ],
 "metadata": {
  "orig_nbformat": 4,
  "language_info": {
   "name": "python",
   "version": "3.8.11",
   "mimetype": "text/x-python",
   "codemirror_mode": {
    "name": "ipython",
    "version": 3
   },
   "pygments_lexer": "ipython3",
   "nbconvert_exporter": "python",
   "file_extension": ".py"
  },
  "kernelspec": {
   "name": "python3",
   "display_name": "Python 3.8.11 64-bit ('base': conda)"
  },
  "interpreter": {
   "hash": "de0a872bf736e871890e4595f13441ccf4210b874152ed5e175f37f1f83d386b"
  }
 },
 "nbformat": 4,
 "nbformat_minor": 2
}