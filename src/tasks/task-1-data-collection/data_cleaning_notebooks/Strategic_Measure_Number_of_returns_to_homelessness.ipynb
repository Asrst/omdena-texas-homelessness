{
 "cells": [
  {
   "cell_type": "code",
   "execution_count": 1,
   "source": [
    "import pandas as pd\r\n",
    "import numpy as np"
   ],
   "outputs": [],
   "metadata": {}
  },
  {
   "cell_type": "code",
   "execution_count": 2,
   "source": [
    "df = pd.read_csv(r'C:\\Users\\mohit\\OneDrive\\Desktop\\Omdena-AI\\omdena-texas-homelessness\\src\\data\\housing\\Strategic_Measure_Number_of_returns_to_homelessness.csv')"
   ],
   "outputs": [],
   "metadata": {}
  },
  {
   "cell_type": "code",
   "execution_count": 3,
   "source": [
    "df.head()"
   ],
   "outputs": [
    {
     "output_type": "execute_result",
     "data": {
      "text/html": [
       "<div>\n",
       "<style scoped>\n",
       "    .dataframe tbody tr th:only-of-type {\n",
       "        vertical-align: middle;\n",
       "    }\n",
       "\n",
       "    .dataframe tbody tr th {\n",
       "        vertical-align: top;\n",
       "    }\n",
       "\n",
       "    .dataframe thead th {\n",
       "        text-align: right;\n",
       "    }\n",
       "</style>\n",
       "<table border=\"1\" class=\"dataframe\">\n",
       "  <thead>\n",
       "    <tr style=\"text-align: right;\">\n",
       "      <th></th>\n",
       "      <th>Demographic Category</th>\n",
       "      <th>Specific Demographic</th>\n",
       "      <th>Fiscal Year</th>\n",
       "      <th>SO/ES/TH/SH/PH</th>\n",
       "      <th>Numerator</th>\n",
       "      <th>Denominator</th>\n",
       "      <th>Rate</th>\n",
       "      <th>Fiscal Year Start Date</th>\n",
       "      <th>Fiscal Year End Date</th>\n",
       "    </tr>\n",
       "  </thead>\n",
       "  <tbody>\n",
       "    <tr>\n",
       "      <th>0</th>\n",
       "      <td>Race</td>\n",
       "      <td>American Indian or Alaskan Native</td>\n",
       "      <td>2017</td>\n",
       "      <td>SO</td>\n",
       "      <td>0</td>\n",
       "      <td>0</td>\n",
       "      <td>0.0</td>\n",
       "      <td>10/01/2016 12:00:00 AM</td>\n",
       "      <td>09/30/2017 12:00:00 AM</td>\n",
       "    </tr>\n",
       "    <tr>\n",
       "      <th>1</th>\n",
       "      <td>Race</td>\n",
       "      <td>Asian</td>\n",
       "      <td>2017</td>\n",
       "      <td>SO</td>\n",
       "      <td>0</td>\n",
       "      <td>0</td>\n",
       "      <td>0.0</td>\n",
       "      <td>10/01/2016 12:00:00 AM</td>\n",
       "      <td>09/30/2017 12:00:00 AM</td>\n",
       "    </tr>\n",
       "    <tr>\n",
       "      <th>2</th>\n",
       "      <td>Race</td>\n",
       "      <td>Black or African American</td>\n",
       "      <td>2017</td>\n",
       "      <td>SO</td>\n",
       "      <td>0</td>\n",
       "      <td>0</td>\n",
       "      <td>0.0</td>\n",
       "      <td>10/01/2016 12:00:00 AM</td>\n",
       "      <td>09/30/2017 12:00:00 AM</td>\n",
       "    </tr>\n",
       "    <tr>\n",
       "      <th>3</th>\n",
       "      <td>Race</td>\n",
       "      <td>Native Hawaiian or Other Pacific Islander</td>\n",
       "      <td>2017</td>\n",
       "      <td>SO</td>\n",
       "      <td>0</td>\n",
       "      <td>0</td>\n",
       "      <td>0.0</td>\n",
       "      <td>10/01/2016 12:00:00 AM</td>\n",
       "      <td>09/30/2017 12:00:00 AM</td>\n",
       "    </tr>\n",
       "    <tr>\n",
       "      <th>4</th>\n",
       "      <td>Race</td>\n",
       "      <td>White</td>\n",
       "      <td>2017</td>\n",
       "      <td>SO</td>\n",
       "      <td>0</td>\n",
       "      <td>0</td>\n",
       "      <td>0.0</td>\n",
       "      <td>10/01/2016 12:00:00 AM</td>\n",
       "      <td>09/30/2017 12:00:00 AM</td>\n",
       "    </tr>\n",
       "  </tbody>\n",
       "</table>\n",
       "</div>"
      ],
      "text/plain": [
       "  Demographic Category                       Specific Demographic  \\\n",
       "0                 Race          American Indian or Alaskan Native   \n",
       "1                 Race                                      Asian   \n",
       "2                 Race                  Black or African American   \n",
       "3                 Race  Native Hawaiian or Other Pacific Islander   \n",
       "4                 Race                                      White   \n",
       "\n",
       "   Fiscal Year SO/ES/TH/SH/PH  Numerator  Denominator  Rate  \\\n",
       "0         2017             SO          0            0   0.0   \n",
       "1         2017             SO          0            0   0.0   \n",
       "2         2017             SO          0            0   0.0   \n",
       "3         2017             SO          0            0   0.0   \n",
       "4         2017             SO          0            0   0.0   \n",
       "\n",
       "   Fiscal Year Start Date    Fiscal Year End Date  \n",
       "0  10/01/2016 12:00:00 AM  09/30/2017 12:00:00 AM  \n",
       "1  10/01/2016 12:00:00 AM  09/30/2017 12:00:00 AM  \n",
       "2  10/01/2016 12:00:00 AM  09/30/2017 12:00:00 AM  \n",
       "3  10/01/2016 12:00:00 AM  09/30/2017 12:00:00 AM  \n",
       "4  10/01/2016 12:00:00 AM  09/30/2017 12:00:00 AM  "
      ]
     },
     "metadata": {},
     "execution_count": 3
    }
   ],
   "metadata": {}
  },
  {
   "cell_type": "code",
   "execution_count": 4,
   "source": [
    "df.isnull().sum()"
   ],
   "outputs": [
    {
     "output_type": "execute_result",
     "data": {
      "text/plain": [
       "Demographic Category      0\n",
       "Specific Demographic      0\n",
       "Fiscal Year               0\n",
       "SO/ES/TH/SH/PH            0\n",
       "Numerator                 0\n",
       "Denominator               0\n",
       "Rate                      0\n",
       "Fiscal Year Start Date    0\n",
       "Fiscal Year End Date      0\n",
       "dtype: int64"
      ]
     },
     "metadata": {},
     "execution_count": 4
    }
   ],
   "metadata": {}
  },
  {
   "cell_type": "code",
   "execution_count": 5,
   "source": [
    "df.nunique()"
   ],
   "outputs": [
    {
     "output_type": "execute_result",
     "data": {
      "text/plain": [
       "Demographic Category        9\n",
       "Specific Demographic       32\n",
       "Fiscal Year                 4\n",
       "SO/ES/TH/SH/PH              5\n",
       "Numerator                  77\n",
       "Denominator               158\n",
       "Rate                       45\n",
       "Fiscal Year Start Date      4\n",
       "Fiscal Year End Date        4\n",
       "dtype: int64"
      ]
     },
     "metadata": {},
     "execution_count": 5
    }
   ],
   "metadata": {}
  },
  {
   "cell_type": "code",
   "execution_count": 7,
   "source": [
    "df.shape"
   ],
   "outputs": [
    {
     "output_type": "execute_result",
     "data": {
      "text/plain": [
       "(490, 9)"
      ]
     },
     "metadata": {},
     "execution_count": 7
    }
   ],
   "metadata": {}
  },
  {
   "cell_type": "code",
   "execution_count": 8,
   "source": [
    "df['Denominator'].unique()"
   ],
   "outputs": [
    {
     "output_type": "execute_result",
     "data": {
      "text/plain": [
       "array([  0,   3,  11, 202,   1, 237, 166, 288, 268, 184,   2,  34, 419,\n",
       "       260,  22,  14, 158, 133, 309,  12,  59,  64,  58,  66,  72,  53,\n",
       "         8, 117,  27,  20, 104,  18,  30,   6,  31,  28,   5,   4, 396,\n",
       "        10, 329,  15, 198, 551, 339, 415, 103, 651, 402,  52, 270, 321,\n",
       "       432, 261, 170, 383, 248, 304, 483, 330,  35, 157, 172, 379,  80,\n",
       "        99,  68, 112, 105,  73,  51, 129,  69,  75,  43, 136,  23,  26,\n",
       "         9, 387, 368, 215, 557, 337, 436, 199, 574, 444,  39, 267, 376,\n",
       "       395,   7, 322, 227, 165, 285, 272,  49, 511, 310,  36, 201, 159,\n",
       "        56,  57,  33,  46,  47,  67,  37,  32,  82, 358, 422, 203, 594,\n",
       "       307, 484, 205, 588, 475, 222, 439, 354, 420,  42, 398, 256, 297,\n",
       "        21,  71, 305, 568, 163, 472,  25,  13,  48,  92, 385, 257, 377,\n",
       "        74, 801, 461, 176,  97,  44, 521, 238, 344, 174,  76,  24,  50,\n",
       "       564,  78], dtype=int64)"
      ]
     },
     "metadata": {},
     "execution_count": 8
    }
   ],
   "metadata": {}
  },
  {
   "cell_type": "code",
   "execution_count": 14,
   "source": [
    "def wrangle_without_dt(filepath):\r\n",
    "    \"\"\"\r\n",
    "    Wrangle function takes an input of a filepath which does not contains a date-time,\r\n",
    "    outputs a cleaned dataframe\r\n",
    "    \"\"\"\r\n",
    "    # Reads in DF from filepath using Pandas\r\n",
    "    df = pd.read_csv(filepath)\r\n",
    "    \r\n",
    "    # Seperates the categorical columns\r\n",
    "    categorical_cols = df.select_dtypes('object').columns\r\n",
    "    \r\n",
    "    #Creates threshold for how many times you will allow the same value to show up in multiple columns in a row.\r\n",
    "    threshold = 50\r\n",
    "    \r\n",
    "    #Identify high cardinality columns\r\n",
    "    high_card_cols = [col for col in categorical_cols \r\n",
    "                      if df[col].nunique() > threshold]\r\n",
    "    \r\n",
    "    # Drop high cardinality columns\r\n",
    "    df = df.drop(high_card_cols, axis=1)\r\n",
    "    \r\n",
    "    # Drop columns with a high number of NaN values\r\n",
    "    if len(df) > 100:\r\n",
    "        df = df.dropna(axis = 1, thresh = 100)\r\n",
    "    # Fill NA values with front fill. Replaces with value ahead of it.\r\n",
    "    # Replaces values at start of data with last \r\n",
    "    df = df.fillna(method='ffill')\r\n",
    "    df = df.fillna(method='bfill')\r\n",
    "    \r\n",
    "    \r\n",
    "    \r\n",
    "    return df\r\n"
   ],
   "outputs": [],
   "metadata": {}
  },
  {
   "cell_type": "code",
   "execution_count": 15,
   "source": [
    "df = wrangle_without_dt(r'C:\\Users\\mohit\\OneDrive\\Desktop\\Omdena-AI\\omdena-texas-homelessness\\src\\data\\housing\\Strategic_Measure_Number_of_returns_to_homelessness.csv')"
   ],
   "outputs": [],
   "metadata": {}
  },
  {
   "cell_type": "code",
   "execution_count": 16,
   "source": [
    "df.head()"
   ],
   "outputs": [
    {
     "output_type": "execute_result",
     "data": {
      "text/html": [
       "<div>\n",
       "<style scoped>\n",
       "    .dataframe tbody tr th:only-of-type {\n",
       "        vertical-align: middle;\n",
       "    }\n",
       "\n",
       "    .dataframe tbody tr th {\n",
       "        vertical-align: top;\n",
       "    }\n",
       "\n",
       "    .dataframe thead th {\n",
       "        text-align: right;\n",
       "    }\n",
       "</style>\n",
       "<table border=\"1\" class=\"dataframe\">\n",
       "  <thead>\n",
       "    <tr style=\"text-align: right;\">\n",
       "      <th></th>\n",
       "      <th>Demographic Category</th>\n",
       "      <th>Specific Demographic</th>\n",
       "      <th>Fiscal Year</th>\n",
       "      <th>SO/ES/TH/SH/PH</th>\n",
       "      <th>Numerator</th>\n",
       "      <th>Denominator</th>\n",
       "      <th>Rate</th>\n",
       "      <th>Fiscal Year Start Date</th>\n",
       "      <th>Fiscal Year End Date</th>\n",
       "    </tr>\n",
       "  </thead>\n",
       "  <tbody>\n",
       "    <tr>\n",
       "      <th>0</th>\n",
       "      <td>Race</td>\n",
       "      <td>American Indian or Alaskan Native</td>\n",
       "      <td>2017</td>\n",
       "      <td>SO</td>\n",
       "      <td>0</td>\n",
       "      <td>0</td>\n",
       "      <td>0.0</td>\n",
       "      <td>10/01/2016 12:00:00 AM</td>\n",
       "      <td>09/30/2017 12:00:00 AM</td>\n",
       "    </tr>\n",
       "    <tr>\n",
       "      <th>1</th>\n",
       "      <td>Race</td>\n",
       "      <td>Asian</td>\n",
       "      <td>2017</td>\n",
       "      <td>SO</td>\n",
       "      <td>0</td>\n",
       "      <td>0</td>\n",
       "      <td>0.0</td>\n",
       "      <td>10/01/2016 12:00:00 AM</td>\n",
       "      <td>09/30/2017 12:00:00 AM</td>\n",
       "    </tr>\n",
       "    <tr>\n",
       "      <th>2</th>\n",
       "      <td>Race</td>\n",
       "      <td>Black or African American</td>\n",
       "      <td>2017</td>\n",
       "      <td>SO</td>\n",
       "      <td>0</td>\n",
       "      <td>0</td>\n",
       "      <td>0.0</td>\n",
       "      <td>10/01/2016 12:00:00 AM</td>\n",
       "      <td>09/30/2017 12:00:00 AM</td>\n",
       "    </tr>\n",
       "    <tr>\n",
       "      <th>3</th>\n",
       "      <td>Race</td>\n",
       "      <td>Native Hawaiian or Other Pacific Islander</td>\n",
       "      <td>2017</td>\n",
       "      <td>SO</td>\n",
       "      <td>0</td>\n",
       "      <td>0</td>\n",
       "      <td>0.0</td>\n",
       "      <td>10/01/2016 12:00:00 AM</td>\n",
       "      <td>09/30/2017 12:00:00 AM</td>\n",
       "    </tr>\n",
       "    <tr>\n",
       "      <th>4</th>\n",
       "      <td>Race</td>\n",
       "      <td>White</td>\n",
       "      <td>2017</td>\n",
       "      <td>SO</td>\n",
       "      <td>0</td>\n",
       "      <td>0</td>\n",
       "      <td>0.0</td>\n",
       "      <td>10/01/2016 12:00:00 AM</td>\n",
       "      <td>09/30/2017 12:00:00 AM</td>\n",
       "    </tr>\n",
       "  </tbody>\n",
       "</table>\n",
       "</div>"
      ],
      "text/plain": [
       "  Demographic Category                       Specific Demographic  \\\n",
       "0                 Race          American Indian or Alaskan Native   \n",
       "1                 Race                                      Asian   \n",
       "2                 Race                  Black or African American   \n",
       "3                 Race  Native Hawaiian or Other Pacific Islander   \n",
       "4                 Race                                      White   \n",
       "\n",
       "   Fiscal Year SO/ES/TH/SH/PH  Numerator  Denominator  Rate  \\\n",
       "0         2017             SO          0            0   0.0   \n",
       "1         2017             SO          0            0   0.0   \n",
       "2         2017             SO          0            0   0.0   \n",
       "3         2017             SO          0            0   0.0   \n",
       "4         2017             SO          0            0   0.0   \n",
       "\n",
       "   Fiscal Year Start Date    Fiscal Year End Date  \n",
       "0  10/01/2016 12:00:00 AM  09/30/2017 12:00:00 AM  \n",
       "1  10/01/2016 12:00:00 AM  09/30/2017 12:00:00 AM  \n",
       "2  10/01/2016 12:00:00 AM  09/30/2017 12:00:00 AM  \n",
       "3  10/01/2016 12:00:00 AM  09/30/2017 12:00:00 AM  \n",
       "4  10/01/2016 12:00:00 AM  09/30/2017 12:00:00 AM  "
      ]
     },
     "metadata": {},
     "execution_count": 16
    }
   ],
   "metadata": {}
  },
  {
   "cell_type": "code",
   "execution_count": 17,
   "source": [
    "df.nunique()"
   ],
   "outputs": [
    {
     "output_type": "execute_result",
     "data": {
      "text/plain": [
       "Demographic Category        9\n",
       "Specific Demographic       32\n",
       "Fiscal Year                 4\n",
       "SO/ES/TH/SH/PH              5\n",
       "Numerator                  77\n",
       "Denominator               158\n",
       "Rate                       45\n",
       "Fiscal Year Start Date      4\n",
       "Fiscal Year End Date        4\n",
       "dtype: int64"
      ]
     },
     "metadata": {},
     "execution_count": 17
    }
   ],
   "metadata": {}
  },
  {
   "cell_type": "code",
   "execution_count": 18,
   "source": [
    "df.to_csv(r'C:\\Users\\mohit\\OneDrive\\Desktop\\Omdena-AI\\omdena-texas-homelessness\\src\\cleaned data\\Return to homelessness.csv')"
   ],
   "outputs": [],
   "metadata": {}
  },
  {
   "cell_type": "code",
   "execution_count": null,
   "source": [],
   "outputs": [],
   "metadata": {}
  }
 ],
 "metadata": {
  "orig_nbformat": 4,
  "language_info": {
   "name": "python",
   "version": "3.8.11",
   "mimetype": "text/x-python",
   "codemirror_mode": {
    "name": "ipython",
    "version": 3
   },
   "pygments_lexer": "ipython3",
   "nbconvert_exporter": "python",
   "file_extension": ".py"
  },
  "kernelspec": {
   "name": "python3",
   "display_name": "Python 3.8.11 64-bit ('base': conda)"
  },
  "interpreter": {
   "hash": "de0a872bf736e871890e4595f13441ccf4210b874152ed5e175f37f1f83d386b"
  }
 },
 "nbformat": 4,
 "nbformat_minor": 2
}