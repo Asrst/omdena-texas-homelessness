{
 "cells": [
  {
   "cell_type": "code",
   "execution_count": 2,
   "source": [
    "import pandas as pd\r\n",
    "import numpy as np\r\n",
    "import matplotlib.pyplot as plt\r\n",
    "import seaborn as sns"
   ],
   "outputs": [],
   "metadata": {}
  },
  {
   "cell_type": "code",
   "execution_count": 3,
   "source": [
    "df = pd.read_excel(r'C:\\Users\\mohit\\OneDrive\\Desktop\\Omdena-AI\\omdena-texas-homelessness\\src\\data\\income_related\\Tx_IncomePovertyStats.xlsx')"
   ],
   "outputs": [],
   "metadata": {}
  },
  {
   "cell_type": "code",
   "execution_count": 4,
   "source": [
    "df.head()"
   ],
   "outputs": [
    {
     "output_type": "execute_result",
     "data": {
      "text/html": [
       "<div>\n",
       "<style scoped>\n",
       "    .dataframe tbody tr th:only-of-type {\n",
       "        vertical-align: middle;\n",
       "    }\n",
       "\n",
       "    .dataframe tbody tr th {\n",
       "        vertical-align: top;\n",
       "    }\n",
       "\n",
       "    .dataframe thead th {\n",
       "        text-align: right;\n",
       "    }\n",
       "</style>\n",
       "<table border=\"1\" class=\"dataframe\">\n",
       "  <thead>\n",
       "    <tr style=\"text-align: right;\">\n",
       "      <th></th>\n",
       "      <th>County</th>\n",
       "      <th>Per Capita Income</th>\n",
       "      <th>Total Personal Income</th>\n",
       "      <th>Median Household Income</th>\n",
       "      <th>Average Annual Pay</th>\n",
       "      <th>% of Population in Poverty</th>\n",
       "      <th>% of Population Under 18 in Poverty</th>\n",
       "    </tr>\n",
       "  </thead>\n",
       "  <tbody>\n",
       "    <tr>\n",
       "      <th>0</th>\n",
       "      <td>Anderson</td>\n",
       "      <td>$36,027</td>\n",
       "      <td>$2,080,020,000</td>\n",
       "      <td>$48,461</td>\n",
       "      <td>$45,799</td>\n",
       "      <td>19.8</td>\n",
       "      <td>23.8</td>\n",
       "    </tr>\n",
       "    <tr>\n",
       "      <th>1</th>\n",
       "      <td>Andrews</td>\n",
       "      <td>$51,769</td>\n",
       "      <td>$968,334,000</td>\n",
       "      <td>$74,918</td>\n",
       "      <td>$69,845</td>\n",
       "      <td>10.2</td>\n",
       "      <td>12.7</td>\n",
       "    </tr>\n",
       "    <tr>\n",
       "      <th>2</th>\n",
       "      <td>Angelina</td>\n",
       "      <td>$39,644</td>\n",
       "      <td>$3,437,761,000</td>\n",
       "      <td>$51,750</td>\n",
       "      <td>$40,974</td>\n",
       "      <td>15.6</td>\n",
       "      <td>22.6</td>\n",
       "    </tr>\n",
       "    <tr>\n",
       "      <th>3</th>\n",
       "      <td>Aransas</td>\n",
       "      <td>$51,614</td>\n",
       "      <td>$1,213,451,000</td>\n",
       "      <td>$53,085</td>\n",
       "      <td>$39,316</td>\n",
       "      <td>18.7</td>\n",
       "      <td>32.1</td>\n",
       "    </tr>\n",
       "    <tr>\n",
       "      <th>4</th>\n",
       "      <td>Archer</td>\n",
       "      <td>$52,335</td>\n",
       "      <td>$447,617,000</td>\n",
       "      <td>$63,731</td>\n",
       "      <td>$38,006</td>\n",
       "      <td>10.3</td>\n",
       "      <td>12.8</td>\n",
       "    </tr>\n",
       "  </tbody>\n",
       "</table>\n",
       "</div>"
      ],
      "text/plain": [
       "     County Per Capita Income Total Personal Income Median Household Income  \\\n",
       "0  Anderson           $36,027        $2,080,020,000                 $48,461   \n",
       "1   Andrews           $51,769          $968,334,000                 $74,918   \n",
       "2  Angelina           $39,644        $3,437,761,000                 $51,750   \n",
       "3   Aransas           $51,614        $1,213,451,000                 $53,085   \n",
       "4    Archer           $52,335          $447,617,000                 $63,731   \n",
       "\n",
       "  Average Annual Pay  % of Population in Poverty  \\\n",
       "0            $45,799                        19.8   \n",
       "1            $69,845                        10.2   \n",
       "2            $40,974                        15.6   \n",
       "3            $39,316                        18.7   \n",
       "4            $38,006                        10.3   \n",
       "\n",
       "   % of Population Under 18 in Poverty  \n",
       "0                                 23.8  \n",
       "1                                 12.7  \n",
       "2                                 22.6  \n",
       "3                                 32.1  \n",
       "4                                 12.8  "
      ]
     },
     "metadata": {},
     "execution_count": 4
    }
   ],
   "metadata": {}
  },
  {
   "cell_type": "code",
   "execution_count": 5,
   "source": [
    "df.isnull().sum()"
   ],
   "outputs": [
    {
     "output_type": "execute_result",
     "data": {
      "text/plain": [
       "County                                 0\n",
       "Per Capita Income                      0\n",
       "Total Personal Income                  0\n",
       "Median Household Income                0\n",
       "Average Annual Pay                     0\n",
       "% of Population in Poverty             0\n",
       "% of Population Under 18 in Poverty    0\n",
       "dtype: int64"
      ]
     },
     "metadata": {},
     "execution_count": 5
    }
   ],
   "metadata": {}
  },
  {
   "cell_type": "code",
   "execution_count": 6,
   "source": [
    "df.nunique()"
   ],
   "outputs": [
    {
     "output_type": "execute_result",
     "data": {
      "text/plain": [
       "County                                 254\n",
       "Per Capita Income                      253\n",
       "Total Personal Income                  254\n",
       "Median Household Income                254\n",
       "Average Annual Pay                     254\n",
       "% of Population in Poverty             131\n",
       "% of Population Under 18 in Poverty    171\n",
       "dtype: int64"
      ]
     },
     "metadata": {},
     "execution_count": 6
    }
   ],
   "metadata": {}
  },
  {
   "cell_type": "code",
   "execution_count": 7,
   "source": [
    "df.shape"
   ],
   "outputs": [
    {
     "output_type": "execute_result",
     "data": {
      "text/plain": [
       "(254, 7)"
      ]
     },
     "metadata": {},
     "execution_count": 7
    }
   ],
   "metadata": {}
  },
  {
   "cell_type": "code",
   "execution_count": 8,
   "source": [
    "spec_chars = [\"!\",'\"',\"#\",\"%\",\"&\",\"'\",\"(\",\")\",\r\n",
    "              \"*\",\"+\",\",\",\"-\",\".\",\"/\",\":\",\";\",\"<\",\r\n",
    "              \"=\",\">\",\"?\",\"@\",\"[\",\"\\\\\",\"]\",\"^\",\"_\",\r\n",
    "              \"`\",\"{\",\"|\",\"}\",\"~\",\"–\",\"$\"]\r\n",
    "col = ['Per Capita Income','Total Personal Income','Median Household Income','Average Annual Pay']\r\n",
    "\r\n",
    "for i in range(len(spec_chars)):\r\n",
    "    for j in range(len(col)):\r\n",
    "        df[col[j]] = df[col[j]].str.replace(spec_chars[i] , \"\")"
   ],
   "outputs": [
    {
     "output_type": "stream",
     "name": "stderr",
     "text": [
      "C:\\Users\\mohit\\AppData\\Local\\Temp/ipykernel_9764/2592155676.py:9: FutureWarning: The default value of regex will change from True to False in a future version. In addition, single character regular expressions will *not* be treated as literal strings when regex=True.\n",
      "  df[col[j]] = df[col[j]].str.replace(spec_chars[i] , \"\")\n"
     ]
    }
   ],
   "metadata": {}
  },
  {
   "cell_type": "code",
   "execution_count": 9,
   "source": [
    "df.head()"
   ],
   "outputs": [
    {
     "output_type": "execute_result",
     "data": {
      "text/html": [
       "<div>\n",
       "<style scoped>\n",
       "    .dataframe tbody tr th:only-of-type {\n",
       "        vertical-align: middle;\n",
       "    }\n",
       "\n",
       "    .dataframe tbody tr th {\n",
       "        vertical-align: top;\n",
       "    }\n",
       "\n",
       "    .dataframe thead th {\n",
       "        text-align: right;\n",
       "    }\n",
       "</style>\n",
       "<table border=\"1\" class=\"dataframe\">\n",
       "  <thead>\n",
       "    <tr style=\"text-align: right;\">\n",
       "      <th></th>\n",
       "      <th>County</th>\n",
       "      <th>Per Capita Income</th>\n",
       "      <th>Total Personal Income</th>\n",
       "      <th>Median Household Income</th>\n",
       "      <th>Average Annual Pay</th>\n",
       "      <th>% of Population in Poverty</th>\n",
       "      <th>% of Population Under 18 in Poverty</th>\n",
       "    </tr>\n",
       "  </thead>\n",
       "  <tbody>\n",
       "    <tr>\n",
       "      <th>0</th>\n",
       "      <td>Anderson</td>\n",
       "      <td>36027</td>\n",
       "      <td>2080020000</td>\n",
       "      <td>48461</td>\n",
       "      <td>45799</td>\n",
       "      <td>19.8</td>\n",
       "      <td>23.8</td>\n",
       "    </tr>\n",
       "    <tr>\n",
       "      <th>1</th>\n",
       "      <td>Andrews</td>\n",
       "      <td>51769</td>\n",
       "      <td>968334000</td>\n",
       "      <td>74918</td>\n",
       "      <td>69845</td>\n",
       "      <td>10.2</td>\n",
       "      <td>12.7</td>\n",
       "    </tr>\n",
       "    <tr>\n",
       "      <th>2</th>\n",
       "      <td>Angelina</td>\n",
       "      <td>39644</td>\n",
       "      <td>3437761000</td>\n",
       "      <td>51750</td>\n",
       "      <td>40974</td>\n",
       "      <td>15.6</td>\n",
       "      <td>22.6</td>\n",
       "    </tr>\n",
       "    <tr>\n",
       "      <th>3</th>\n",
       "      <td>Aransas</td>\n",
       "      <td>51614</td>\n",
       "      <td>1213451000</td>\n",
       "      <td>53085</td>\n",
       "      <td>39316</td>\n",
       "      <td>18.7</td>\n",
       "      <td>32.1</td>\n",
       "    </tr>\n",
       "    <tr>\n",
       "      <th>4</th>\n",
       "      <td>Archer</td>\n",
       "      <td>52335</td>\n",
       "      <td>447617000</td>\n",
       "      <td>63731</td>\n",
       "      <td>38006</td>\n",
       "      <td>10.3</td>\n",
       "      <td>12.8</td>\n",
       "    </tr>\n",
       "  </tbody>\n",
       "</table>\n",
       "</div>"
      ],
      "text/plain": [
       "     County Per Capita Income Total Personal Income Median Household Income  \\\n",
       "0  Anderson             36027            2080020000                   48461   \n",
       "1   Andrews             51769             968334000                   74918   \n",
       "2  Angelina             39644            3437761000                   51750   \n",
       "3   Aransas             51614            1213451000                   53085   \n",
       "4    Archer             52335             447617000                   63731   \n",
       "\n",
       "  Average Annual Pay  % of Population in Poverty  \\\n",
       "0              45799                        19.8   \n",
       "1              69845                        10.2   \n",
       "2              40974                        15.6   \n",
       "3              39316                        18.7   \n",
       "4              38006                        10.3   \n",
       "\n",
       "   % of Population Under 18 in Poverty  \n",
       "0                                 23.8  \n",
       "1                                 12.7  \n",
       "2                                 22.6  \n",
       "3                                 32.1  \n",
       "4                                 12.8  "
      ]
     },
     "metadata": {},
     "execution_count": 9
    }
   ],
   "metadata": {}
  },
  {
   "cell_type": "code",
   "execution_count": 10,
   "source": [
    "df.info()"
   ],
   "outputs": [
    {
     "output_type": "stream",
     "name": "stdout",
     "text": [
      "<class 'pandas.core.frame.DataFrame'>\n",
      "RangeIndex: 254 entries, 0 to 253\n",
      "Data columns (total 7 columns):\n",
      " #   Column                               Non-Null Count  Dtype  \n",
      "---  ------                               --------------  -----  \n",
      " 0   County                               254 non-null    object \n",
      " 1   Per Capita Income                    254 non-null    object \n",
      " 2   Total Personal Income                254 non-null    object \n",
      " 3   Median Household Income              254 non-null    object \n",
      " 4   Average Annual Pay                   254 non-null    object \n",
      " 5   % of Population in Poverty           254 non-null    float64\n",
      " 6   % of Population Under 18 in Poverty  254 non-null    float64\n",
      "dtypes: float64(2), object(5)\n",
      "memory usage: 14.0+ KB\n"
     ]
    }
   ],
   "metadata": {}
  },
  {
   "cell_type": "code",
   "execution_count": 11,
   "source": [
    "col = df.columns\r\n",
    "\r\n",
    "for i in range(1,5):\r\n",
    "    df[col[i]] = pd.to_numeric(df[col[i]], errors='coerce')"
   ],
   "outputs": [],
   "metadata": {}
  },
  {
   "cell_type": "code",
   "execution_count": 12,
   "source": [
    "df.info()"
   ],
   "outputs": [
    {
     "output_type": "stream",
     "name": "stdout",
     "text": [
      "<class 'pandas.core.frame.DataFrame'>\n",
      "RangeIndex: 254 entries, 0 to 253\n",
      "Data columns (total 7 columns):\n",
      " #   Column                               Non-Null Count  Dtype  \n",
      "---  ------                               --------------  -----  \n",
      " 0   County                               254 non-null    object \n",
      " 1   Per Capita Income                    254 non-null    int64  \n",
      " 2   Total Personal Income                254 non-null    int64  \n",
      " 3   Median Household Income              254 non-null    int64  \n",
      " 4   Average Annual Pay                   254 non-null    int64  \n",
      " 5   % of Population in Poverty           254 non-null    float64\n",
      " 6   % of Population Under 18 in Poverty  254 non-null    float64\n",
      "dtypes: float64(2), int64(4), object(1)\n",
      "memory usage: 14.0+ KB\n"
     ]
    }
   ],
   "metadata": {}
  },
  {
   "cell_type": "code",
   "execution_count": 13,
   "source": [
    "df.to_csv(r'C:\\Users\\mohit\\OneDrive\\Desktop\\Omdena-AI\\omdena-texas-homelessness\\src\\cleaned data\\IncomePovertyStats_Texas.csv')"
   ],
   "outputs": [],
   "metadata": {}
  },
  {
   "cell_type": "code",
   "execution_count": null,
   "source": [],
   "outputs": [],
   "metadata": {}
  }
 ],
 "metadata": {
  "orig_nbformat": 4,
  "language_info": {
   "name": "python",
   "version": "3.8.11",
   "mimetype": "text/x-python",
   "codemirror_mode": {
    "name": "ipython",
    "version": 3
   },
   "pygments_lexer": "ipython3",
   "nbconvert_exporter": "python",
   "file_extension": ".py"
  },
  "kernelspec": {
   "name": "python3",
   "display_name": "Python 3.8.11 64-bit ('base': conda)"
  },
  "interpreter": {
   "hash": "de0a872bf736e871890e4595f13441ccf4210b874152ed5e175f37f1f83d386b"
  }
 },
 "nbformat": 4,
 "nbformat_minor": 2
}