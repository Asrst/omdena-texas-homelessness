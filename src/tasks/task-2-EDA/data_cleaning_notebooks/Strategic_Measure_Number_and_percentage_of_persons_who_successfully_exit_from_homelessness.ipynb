{
 "cells": [
  {
   "cell_type": "code",
   "execution_count": 1,
   "source": [
    "import pandas as pd\r\n",
    "import numpy as nnp"
   ],
   "outputs": [],
   "metadata": {}
  },
  {
   "cell_type": "code",
   "execution_count": 2,
   "source": [
    "df = pd.read_csv(r'C:\\Users\\mohit\\OneDrive\\Desktop\\Omdena-AI\\omdena-texas-homelessness\\src\\data\\housing\\Strategic_Measure_Number_and_percentage_of_persons_who_successfully_exit_from_homelessness.csv')"
   ],
   "outputs": [],
   "metadata": {}
  },
  {
   "cell_type": "code",
   "execution_count": 3,
   "source": [
    "df.head()"
   ],
   "outputs": [
    {
     "output_type": "execute_result",
     "data": {
      "text/html": [
       "<div>\n",
       "<style scoped>\n",
       "    .dataframe tbody tr th:only-of-type {\n",
       "        vertical-align: middle;\n",
       "    }\n",
       "\n",
       "    .dataframe tbody tr th {\n",
       "        vertical-align: top;\n",
       "    }\n",
       "\n",
       "    .dataframe thead th {\n",
       "        text-align: right;\n",
       "    }\n",
       "</style>\n",
       "<table border=\"1\" class=\"dataframe\">\n",
       "  <thead>\n",
       "    <tr style=\"text-align: right;\">\n",
       "      <th></th>\n",
       "      <th>Demographic Category</th>\n",
       "      <th>Specific Demographic</th>\n",
       "      <th>Fiscal Year</th>\n",
       "      <th>Measure</th>\n",
       "      <th>Numerator</th>\n",
       "      <th>Denominator</th>\n",
       "      <th>Rate (%)</th>\n",
       "      <th>Fiscal Year Start Date</th>\n",
       "      <th>Fiscal Year End Date</th>\n",
       "    </tr>\n",
       "  </thead>\n",
       "  <tbody>\n",
       "    <tr>\n",
       "      <th>0</th>\n",
       "      <td>Race</td>\n",
       "      <td>American Indian or Alaskan Native</td>\n",
       "      <td>2016</td>\n",
       "      <td>7b1</td>\n",
       "      <td>3</td>\n",
       "      <td>65</td>\n",
       "      <td>0.0462</td>\n",
       "      <td>10/01/2015 12:00:00 AM</td>\n",
       "      <td>09/30/2016 12:00:00 AM</td>\n",
       "    </tr>\n",
       "    <tr>\n",
       "      <th>1</th>\n",
       "      <td>Race</td>\n",
       "      <td>Asian</td>\n",
       "      <td>2016</td>\n",
       "      <td>7b1</td>\n",
       "      <td>8</td>\n",
       "      <td>31</td>\n",
       "      <td>0.2581</td>\n",
       "      <td>10/01/2015 12:00:00 AM</td>\n",
       "      <td>09/30/2016 12:00:00 AM</td>\n",
       "    </tr>\n",
       "    <tr>\n",
       "      <th>2</th>\n",
       "      <td>Race</td>\n",
       "      <td>Black or African American</td>\n",
       "      <td>2016</td>\n",
       "      <td>7b1</td>\n",
       "      <td>502</td>\n",
       "      <td>1689</td>\n",
       "      <td>0.2972</td>\n",
       "      <td>10/01/2015 12:00:00 AM</td>\n",
       "      <td>09/30/2016 12:00:00 AM</td>\n",
       "    </tr>\n",
       "    <tr>\n",
       "      <th>3</th>\n",
       "      <td>Race</td>\n",
       "      <td>Native Hawaiian or Other Pacific Islander</td>\n",
       "      <td>2016</td>\n",
       "      <td>7b1</td>\n",
       "      <td>7</td>\n",
       "      <td>14</td>\n",
       "      <td>0.5000</td>\n",
       "      <td>10/01/2015 12:00:00 AM</td>\n",
       "      <td>09/30/2016 12:00:00 AM</td>\n",
       "    </tr>\n",
       "    <tr>\n",
       "      <th>4</th>\n",
       "      <td>Race</td>\n",
       "      <td>White</td>\n",
       "      <td>2016</td>\n",
       "      <td>7b1</td>\n",
       "      <td>510</td>\n",
       "      <td>2082</td>\n",
       "      <td>0.2450</td>\n",
       "      <td>10/01/2015 12:00:00 AM</td>\n",
       "      <td>09/30/2016 12:00:00 AM</td>\n",
       "    </tr>\n",
       "  </tbody>\n",
       "</table>\n",
       "</div>"
      ],
      "text/plain": [
       "  Demographic Category                       Specific Demographic  \\\n",
       "0                 Race          American Indian or Alaskan Native   \n",
       "1                 Race                                      Asian   \n",
       "2                 Race                  Black or African American   \n",
       "3                 Race  Native Hawaiian or Other Pacific Islander   \n",
       "4                 Race                                      White   \n",
       "\n",
       "   Fiscal Year Measure  Numerator  Denominator  Rate (%)  \\\n",
       "0         2016     7b1          3           65    0.0462   \n",
       "1         2016     7b1          8           31    0.2581   \n",
       "2         2016     7b1        502         1689    0.2972   \n",
       "3         2016     7b1          7           14    0.5000   \n",
       "4         2016     7b1        510         2082    0.2450   \n",
       "\n",
       "   Fiscal Year Start Date    Fiscal Year End Date  \n",
       "0  10/01/2015 12:00:00 AM  09/30/2016 12:00:00 AM  \n",
       "1  10/01/2015 12:00:00 AM  09/30/2016 12:00:00 AM  \n",
       "2  10/01/2015 12:00:00 AM  09/30/2016 12:00:00 AM  \n",
       "3  10/01/2015 12:00:00 AM  09/30/2016 12:00:00 AM  \n",
       "4  10/01/2015 12:00:00 AM  09/30/2016 12:00:00 AM  "
      ]
     },
     "metadata": {},
     "execution_count": 3
    }
   ],
   "metadata": {}
  },
  {
   "cell_type": "code",
   "execution_count": 4,
   "source": [
    "df.shape"
   ],
   "outputs": [
    {
     "output_type": "execute_result",
     "data": {
      "text/plain": [
       "(261, 9)"
      ]
     },
     "metadata": {},
     "execution_count": 4
    }
   ],
   "metadata": {}
  },
  {
   "cell_type": "code",
   "execution_count": 5,
   "source": [
    "df.isnull().sum()"
   ],
   "outputs": [
    {
     "output_type": "execute_result",
     "data": {
      "text/plain": [
       "Demographic Category      0\n",
       "Specific Demographic      0\n",
       "Fiscal Year               0\n",
       "Measure                   0\n",
       "Numerator                 0\n",
       "Denominator               0\n",
       "Rate (%)                  0\n",
       "Fiscal Year Start Date    0\n",
       "Fiscal Year End Date      0\n",
       "dtype: int64"
      ]
     },
     "metadata": {},
     "execution_count": 5
    }
   ],
   "metadata": {}
  },
  {
   "cell_type": "code",
   "execution_count": 6,
   "source": [
    "df.nunique()"
   ],
   "outputs": [
    {
     "output_type": "execute_result",
     "data": {
      "text/plain": [
       "Demographic Category        9\n",
       "Specific Demographic       33\n",
       "Fiscal Year                 5\n",
       "Measure                     2\n",
       "Numerator                 160\n",
       "Denominator               187\n",
       "Rate (%)                  190\n",
       "Fiscal Year Start Date      5\n",
       "Fiscal Year End Date        5\n",
       "dtype: int64"
      ]
     },
     "metadata": {},
     "execution_count": 6
    }
   ],
   "metadata": {}
  },
  {
   "cell_type": "code",
   "execution_count": 7,
   "source": [
    "df.info()"
   ],
   "outputs": [
    {
     "output_type": "stream",
     "name": "stdout",
     "text": [
      "<class 'pandas.core.frame.DataFrame'>\n",
      "RangeIndex: 261 entries, 0 to 260\n",
      "Data columns (total 9 columns):\n",
      " #   Column                  Non-Null Count  Dtype  \n",
      "---  ------                  --------------  -----  \n",
      " 0   Demographic Category    261 non-null    object \n",
      " 1   Specific Demographic    261 non-null    object \n",
      " 2   Fiscal Year             261 non-null    int64  \n",
      " 3   Measure                 261 non-null    object \n",
      " 4   Numerator               261 non-null    int64  \n",
      " 5   Denominator             261 non-null    int64  \n",
      " 6   Rate (%)                261 non-null    float64\n",
      " 7   Fiscal Year Start Date  261 non-null    object \n",
      " 8   Fiscal Year End Date    261 non-null    object \n",
      "dtypes: float64(1), int64(3), object(5)\n",
      "memory usage: 18.5+ KB\n"
     ]
    }
   ],
   "metadata": {}
  },
  {
   "cell_type": "code",
   "execution_count": 8,
   "source": [
    "# For NULL values we will keep those columns which has around 50% of NAN data\r\n",
    "\r\n",
    "n =int( 0.5 * df.shape[0])\r\n",
    "\r\n",
    "# For Unique values we will keep only those columns which has around 25% of unique values\r\n",
    "p = int(0.1 * df.shape[0])\r\n",
    "\r\n",
    "col = df.columns\r\n",
    "for i in range(len(col)):\r\n",
    "    if df[col[i]].isnull().sum() > n:\r\n",
    "        df.drop([col[i]] , axis= 1 , inplace= True)\r\n",
    "\r\n",
    "# After dropping some columns we will make around list of columns\r\n",
    "col = df.select_dtypes('object').columns\r\n",
    "\r\n",
    "for i in range(len(col)):\r\n",
    "    if df[col[i]].nunique() > p:\r\n",
    "        df.drop([col[i]] , axis=1 , inplace=True)"
   ],
   "outputs": [],
   "metadata": {}
  },
  {
   "cell_type": "code",
   "execution_count": 9,
   "source": [
    "df.shape"
   ],
   "outputs": [
    {
     "output_type": "execute_result",
     "data": {
      "text/plain": [
       "(261, 8)"
      ]
     },
     "metadata": {},
     "execution_count": 9
    }
   ],
   "metadata": {}
  },
  {
   "cell_type": "code",
   "execution_count": 10,
   "source": [
    "df.head()"
   ],
   "outputs": [
    {
     "output_type": "execute_result",
     "data": {
      "text/html": [
       "<div>\n",
       "<style scoped>\n",
       "    .dataframe tbody tr th:only-of-type {\n",
       "        vertical-align: middle;\n",
       "    }\n",
       "\n",
       "    .dataframe tbody tr th {\n",
       "        vertical-align: top;\n",
       "    }\n",
       "\n",
       "    .dataframe thead th {\n",
       "        text-align: right;\n",
       "    }\n",
       "</style>\n",
       "<table border=\"1\" class=\"dataframe\">\n",
       "  <thead>\n",
       "    <tr style=\"text-align: right;\">\n",
       "      <th></th>\n",
       "      <th>Demographic Category</th>\n",
       "      <th>Fiscal Year</th>\n",
       "      <th>Measure</th>\n",
       "      <th>Numerator</th>\n",
       "      <th>Denominator</th>\n",
       "      <th>Rate (%)</th>\n",
       "      <th>Fiscal Year Start Date</th>\n",
       "      <th>Fiscal Year End Date</th>\n",
       "    </tr>\n",
       "  </thead>\n",
       "  <tbody>\n",
       "    <tr>\n",
       "      <th>0</th>\n",
       "      <td>Race</td>\n",
       "      <td>2016</td>\n",
       "      <td>7b1</td>\n",
       "      <td>3</td>\n",
       "      <td>65</td>\n",
       "      <td>0.0462</td>\n",
       "      <td>10/01/2015 12:00:00 AM</td>\n",
       "      <td>09/30/2016 12:00:00 AM</td>\n",
       "    </tr>\n",
       "    <tr>\n",
       "      <th>1</th>\n",
       "      <td>Race</td>\n",
       "      <td>2016</td>\n",
       "      <td>7b1</td>\n",
       "      <td>8</td>\n",
       "      <td>31</td>\n",
       "      <td>0.2581</td>\n",
       "      <td>10/01/2015 12:00:00 AM</td>\n",
       "      <td>09/30/2016 12:00:00 AM</td>\n",
       "    </tr>\n",
       "    <tr>\n",
       "      <th>2</th>\n",
       "      <td>Race</td>\n",
       "      <td>2016</td>\n",
       "      <td>7b1</td>\n",
       "      <td>502</td>\n",
       "      <td>1689</td>\n",
       "      <td>0.2972</td>\n",
       "      <td>10/01/2015 12:00:00 AM</td>\n",
       "      <td>09/30/2016 12:00:00 AM</td>\n",
       "    </tr>\n",
       "    <tr>\n",
       "      <th>3</th>\n",
       "      <td>Race</td>\n",
       "      <td>2016</td>\n",
       "      <td>7b1</td>\n",
       "      <td>7</td>\n",
       "      <td>14</td>\n",
       "      <td>0.5000</td>\n",
       "      <td>10/01/2015 12:00:00 AM</td>\n",
       "      <td>09/30/2016 12:00:00 AM</td>\n",
       "    </tr>\n",
       "    <tr>\n",
       "      <th>4</th>\n",
       "      <td>Race</td>\n",
       "      <td>2016</td>\n",
       "      <td>7b1</td>\n",
       "      <td>510</td>\n",
       "      <td>2082</td>\n",
       "      <td>0.2450</td>\n",
       "      <td>10/01/2015 12:00:00 AM</td>\n",
       "      <td>09/30/2016 12:00:00 AM</td>\n",
       "    </tr>\n",
       "  </tbody>\n",
       "</table>\n",
       "</div>"
      ],
      "text/plain": [
       "  Demographic Category  Fiscal Year Measure  Numerator  Denominator  Rate (%)  \\\n",
       "0                 Race         2016     7b1          3           65    0.0462   \n",
       "1                 Race         2016     7b1          8           31    0.2581   \n",
       "2                 Race         2016     7b1        502         1689    0.2972   \n",
       "3                 Race         2016     7b1          7           14    0.5000   \n",
       "4                 Race         2016     7b1        510         2082    0.2450   \n",
       "\n",
       "   Fiscal Year Start Date    Fiscal Year End Date  \n",
       "0  10/01/2015 12:00:00 AM  09/30/2016 12:00:00 AM  \n",
       "1  10/01/2015 12:00:00 AM  09/30/2016 12:00:00 AM  \n",
       "2  10/01/2015 12:00:00 AM  09/30/2016 12:00:00 AM  \n",
       "3  10/01/2015 12:00:00 AM  09/30/2016 12:00:00 AM  \n",
       "4  10/01/2015 12:00:00 AM  09/30/2016 12:00:00 AM  "
      ]
     },
     "metadata": {},
     "execution_count": 10
    }
   ],
   "metadata": {}
  },
  {
   "cell_type": "code",
   "execution_count": 11,
   "source": [
    "df.info()"
   ],
   "outputs": [
    {
     "output_type": "stream",
     "name": "stdout",
     "text": [
      "<class 'pandas.core.frame.DataFrame'>\n",
      "RangeIndex: 261 entries, 0 to 260\n",
      "Data columns (total 8 columns):\n",
      " #   Column                  Non-Null Count  Dtype  \n",
      "---  ------                  --------------  -----  \n",
      " 0   Demographic Category    261 non-null    object \n",
      " 1   Fiscal Year             261 non-null    int64  \n",
      " 2   Measure                 261 non-null    object \n",
      " 3   Numerator               261 non-null    int64  \n",
      " 4   Denominator             261 non-null    int64  \n",
      " 5   Rate (%)                261 non-null    float64\n",
      " 6   Fiscal Year Start Date  261 non-null    object \n",
      " 7   Fiscal Year End Date    261 non-null    object \n",
      "dtypes: float64(1), int64(3), object(4)\n",
      "memory usage: 16.4+ KB\n"
     ]
    }
   ],
   "metadata": {}
  },
  {
   "cell_type": "code",
   "execution_count": 12,
   "source": [
    "df.nunique()"
   ],
   "outputs": [
    {
     "output_type": "execute_result",
     "data": {
      "text/plain": [
       "Demographic Category        9\n",
       "Fiscal Year                 5\n",
       "Measure                     2\n",
       "Numerator                 160\n",
       "Denominator               187\n",
       "Rate (%)                  190\n",
       "Fiscal Year Start Date      5\n",
       "Fiscal Year End Date        5\n",
       "dtype: int64"
      ]
     },
     "metadata": {},
     "execution_count": 12
    }
   ],
   "metadata": {}
  },
  {
   "cell_type": "code",
   "execution_count": 13,
   "source": [
    "# We can do one hot coding also in all these object datatype to convert them into numeric one\r\n",
    "\r\n",
    "categorical_cols =df.select_dtypes('object').columns\r\n",
    "\r\n",
    "from sklearn.preprocessing import LabelEncoder\r\n",
    "\r\n",
    "# instantiate labelencoder object\r\n",
    "le = LabelEncoder()\r\n",
    "\r\n",
    "# apply le on categorical feature columns\r\n",
    "for i in range(len(categorical_cols)):\r\n",
    "    df[categorical_cols] = df[categorical_cols].apply(lambda col: le.fit_transform(col))\r\n",
    "    \r\n",
    "from sklearn.preprocessing import OneHotEncoder\r\n",
    "ohe = OneHotEncoder()\r\n",
    "\r\n",
    "#One-hot-encode the categorical columns.\r\n",
    "#Unfortunately outputs an array instead of dataframe.\r\n",
    "array_hot_encoded = ohe.fit_transform(df[categorical_cols])\r\n",
    "\r\n",
    "#Convert it to df\r\n",
    "data_hot_encoded = pd.DataFrame(array_hot_encoded, index=df.index)\r\n",
    "\r\n",
    "#Extract only the columns that didnt need to be encoded\r\n",
    "data_other_cols = df.drop(columns=categorical_cols)\r\n",
    "\r\n",
    "#Concatenate the two dataframes : \r\n",
    "data_out = pd.concat([data_hot_encoded, data_other_cols], axis=1)"
   ],
   "outputs": [],
   "metadata": {}
  },
  {
   "cell_type": "code",
   "execution_count": 14,
   "source": [
    "len(categorical_cols)"
   ],
   "outputs": [
    {
     "output_type": "execute_result",
     "data": {
      "text/plain": [
       "4"
      ]
     },
     "metadata": {},
     "execution_count": 14
    }
   ],
   "metadata": {}
  },
  {
   "cell_type": "code",
   "execution_count": 15,
   "source": [
    "df.head()"
   ],
   "outputs": [
    {
     "output_type": "execute_result",
     "data": {
      "text/html": [
       "<div>\n",
       "<style scoped>\n",
       "    .dataframe tbody tr th:only-of-type {\n",
       "        vertical-align: middle;\n",
       "    }\n",
       "\n",
       "    .dataframe tbody tr th {\n",
       "        vertical-align: top;\n",
       "    }\n",
       "\n",
       "    .dataframe thead th {\n",
       "        text-align: right;\n",
       "    }\n",
       "</style>\n",
       "<table border=\"1\" class=\"dataframe\">\n",
       "  <thead>\n",
       "    <tr style=\"text-align: right;\">\n",
       "      <th></th>\n",
       "      <th>Demographic Category</th>\n",
       "      <th>Fiscal Year</th>\n",
       "      <th>Measure</th>\n",
       "      <th>Numerator</th>\n",
       "      <th>Denominator</th>\n",
       "      <th>Rate (%)</th>\n",
       "      <th>Fiscal Year Start Date</th>\n",
       "      <th>Fiscal Year End Date</th>\n",
       "    </tr>\n",
       "  </thead>\n",
       "  <tbody>\n",
       "    <tr>\n",
       "      <th>0</th>\n",
       "      <td>6</td>\n",
       "      <td>2016</td>\n",
       "      <td>0</td>\n",
       "      <td>3</td>\n",
       "      <td>65</td>\n",
       "      <td>0.0462</td>\n",
       "      <td>0</td>\n",
       "      <td>0</td>\n",
       "    </tr>\n",
       "    <tr>\n",
       "      <th>1</th>\n",
       "      <td>6</td>\n",
       "      <td>2016</td>\n",
       "      <td>0</td>\n",
       "      <td>8</td>\n",
       "      <td>31</td>\n",
       "      <td>0.2581</td>\n",
       "      <td>0</td>\n",
       "      <td>0</td>\n",
       "    </tr>\n",
       "    <tr>\n",
       "      <th>2</th>\n",
       "      <td>6</td>\n",
       "      <td>2016</td>\n",
       "      <td>0</td>\n",
       "      <td>502</td>\n",
       "      <td>1689</td>\n",
       "      <td>0.2972</td>\n",
       "      <td>0</td>\n",
       "      <td>0</td>\n",
       "    </tr>\n",
       "    <tr>\n",
       "      <th>3</th>\n",
       "      <td>6</td>\n",
       "      <td>2016</td>\n",
       "      <td>0</td>\n",
       "      <td>7</td>\n",
       "      <td>14</td>\n",
       "      <td>0.5000</td>\n",
       "      <td>0</td>\n",
       "      <td>0</td>\n",
       "    </tr>\n",
       "    <tr>\n",
       "      <th>4</th>\n",
       "      <td>6</td>\n",
       "      <td>2016</td>\n",
       "      <td>0</td>\n",
       "      <td>510</td>\n",
       "      <td>2082</td>\n",
       "      <td>0.2450</td>\n",
       "      <td>0</td>\n",
       "      <td>0</td>\n",
       "    </tr>\n",
       "  </tbody>\n",
       "</table>\n",
       "</div>"
      ],
      "text/plain": [
       "   Demographic Category  Fiscal Year  Measure  Numerator  Denominator  \\\n",
       "0                     6         2016        0          3           65   \n",
       "1                     6         2016        0          8           31   \n",
       "2                     6         2016        0        502         1689   \n",
       "3                     6         2016        0          7           14   \n",
       "4                     6         2016        0        510         2082   \n",
       "\n",
       "   Rate (%)  Fiscal Year Start Date  Fiscal Year End Date  \n",
       "0    0.0462                       0                     0  \n",
       "1    0.2581                       0                     0  \n",
       "2    0.2972                       0                     0  \n",
       "3    0.5000                       0                     0  \n",
       "4    0.2450                       0                     0  "
      ]
     },
     "metadata": {},
     "execution_count": 15
    }
   ],
   "metadata": {}
  },
  {
   "cell_type": "code",
   "execution_count": 16,
   "source": [
    "df.to_csv(r'C:\\Users\\mohit\\OneDrive\\Desktop\\Omdena-AI\\omdena-texas-homelessness\\src\\cleaned data\\Who Successfully exited from homelessness.csv')"
   ],
   "outputs": [],
   "metadata": {}
  },
  {
   "cell_type": "code",
   "execution_count": null,
   "source": [],
   "outputs": [],
   "metadata": {}
  }
 ],
 "metadata": {
  "orig_nbformat": 4,
  "language_info": {
   "name": "python",
   "version": "3.8.11",
   "mimetype": "text/x-python",
   "codemirror_mode": {
    "name": "ipython",
    "version": 3
   },
   "pygments_lexer": "ipython3",
   "nbconvert_exporter": "python",
   "file_extension": ".py"
  },
  "kernelspec": {
   "name": "python3",
   "display_name": "Python 3.8.11 64-bit ('base': conda)"
  },
  "interpreter": {
   "hash": "de0a872bf736e871890e4595f13441ccf4210b874152ed5e175f37f1f83d386b"
  }
 },
 "nbformat": 4,
 "nbformat_minor": 2
}