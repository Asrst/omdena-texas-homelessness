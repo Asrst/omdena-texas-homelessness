{
 "cells": [
  {
   "cell_type": "markdown",
   "source": [
    "# Strategic Measure Number of Returns to Homelessness Exploratory Notebook"
   ],
   "metadata": {}
  },
  {
   "cell_type": "markdown",
   "source": [
    "## Import the data"
   ],
   "metadata": {}
  },
  {
   "cell_type": "markdown",
   "source": [
    "### Things we can present to the team:\r\n",
    "\r\n",
    "* We created a function for you to use, but can you improve it with the data we have?\r\n",
    "    * What would the dataset look like and how would correlation improve/decrease if we just import the data as-is using pandas?\r\n",
    "    * Can we do more to clean this?\r\n",
    "    * Can we feature engineer columns needed?\r\n",
    "* What questions can we glean from this data?\r\n",
    "\r\n"
   ],
   "metadata": {}
  },
  {
   "cell_type": "code",
   "execution_count": 21,
   "source": [
    "import pandas as pd\r\n",
    "from app import wrangle_with_dt, wrangle_without_dt\r\n",
    "import seaborn as sns\r\n",
    "import matplotlib.pyplot as plt\r\n",
    "import plotly.express as px"
   ],
   "outputs": [],
   "metadata": {}
  },
  {
   "cell_type": "code",
   "execution_count": 3,
   "source": [
    "# Run data through wrangle function to return clean df\r\n",
    "df_return_to_homelessness = wrangle_without_dt('Strategic_Measure_Number_of_returns_to_homelessness.csv')"
   ],
   "outputs": [],
   "metadata": {}
  },
  {
   "cell_type": "code",
   "execution_count": 4,
   "source": [
    "# View first 20 rows to ensure data was ported properly via wrangle\r\n",
    "# Also allows us to start visualizing data\r\n",
    "df_return_to_homelessness.head(20)"
   ],
   "outputs": [
    {
     "output_type": "execute_result",
     "data": {
      "text/html": [
       "<div>\n",
       "<style scoped>\n",
       "    .dataframe tbody tr th:only-of-type {\n",
       "        vertical-align: middle;\n",
       "    }\n",
       "\n",
       "    .dataframe tbody tr th {\n",
       "        vertical-align: top;\n",
       "    }\n",
       "\n",
       "    .dataframe thead th {\n",
       "        text-align: right;\n",
       "    }\n",
       "</style>\n",
       "<table border=\"1\" class=\"dataframe\">\n",
       "  <thead>\n",
       "    <tr style=\"text-align: right;\">\n",
       "      <th></th>\n",
       "      <th>Demographic Category</th>\n",
       "      <th>Specific Demographic</th>\n",
       "      <th>Fiscal Year</th>\n",
       "      <th>SO/ES/TH/SH/PH</th>\n",
       "      <th>Numerator</th>\n",
       "      <th>Denominator</th>\n",
       "      <th>Rate</th>\n",
       "      <th>Fiscal Year Start Date</th>\n",
       "      <th>Fiscal Year End Date</th>\n",
       "    </tr>\n",
       "  </thead>\n",
       "  <tbody>\n",
       "    <tr>\n",
       "      <th>0</th>\n",
       "      <td>Race</td>\n",
       "      <td>American Indian or Alaskan Native</td>\n",
       "      <td>2017</td>\n",
       "      <td>SO</td>\n",
       "      <td>0</td>\n",
       "      <td>0</td>\n",
       "      <td>0.0</td>\n",
       "      <td>10/01/2016 12:00:00 AM</td>\n",
       "      <td>09/30/2017 12:00:00 AM</td>\n",
       "    </tr>\n",
       "    <tr>\n",
       "      <th>1</th>\n",
       "      <td>Race</td>\n",
       "      <td>Asian</td>\n",
       "      <td>2017</td>\n",
       "      <td>SO</td>\n",
       "      <td>0</td>\n",
       "      <td>0</td>\n",
       "      <td>0.0</td>\n",
       "      <td>10/01/2016 12:00:00 AM</td>\n",
       "      <td>09/30/2017 12:00:00 AM</td>\n",
       "    </tr>\n",
       "    <tr>\n",
       "      <th>2</th>\n",
       "      <td>Race</td>\n",
       "      <td>Black or African American</td>\n",
       "      <td>2017</td>\n",
       "      <td>SO</td>\n",
       "      <td>0</td>\n",
       "      <td>0</td>\n",
       "      <td>0.0</td>\n",
       "      <td>10/01/2016 12:00:00 AM</td>\n",
       "      <td>09/30/2017 12:00:00 AM</td>\n",
       "    </tr>\n",
       "    <tr>\n",
       "      <th>3</th>\n",
       "      <td>Race</td>\n",
       "      <td>Native Hawaiian or Other Pacific Islander</td>\n",
       "      <td>2017</td>\n",
       "      <td>SO</td>\n",
       "      <td>0</td>\n",
       "      <td>0</td>\n",
       "      <td>0.0</td>\n",
       "      <td>10/01/2016 12:00:00 AM</td>\n",
       "      <td>09/30/2017 12:00:00 AM</td>\n",
       "    </tr>\n",
       "    <tr>\n",
       "      <th>4</th>\n",
       "      <td>Race</td>\n",
       "      <td>White</td>\n",
       "      <td>2017</td>\n",
       "      <td>SO</td>\n",
       "      <td>0</td>\n",
       "      <td>0</td>\n",
       "      <td>0.0</td>\n",
       "      <td>10/01/2016 12:00:00 AM</td>\n",
       "      <td>09/30/2017 12:00:00 AM</td>\n",
       "    </tr>\n",
       "    <tr>\n",
       "      <th>5</th>\n",
       "      <td>Race</td>\n",
       "      <td>Client Doesn't Know or Client Refused</td>\n",
       "      <td>2017</td>\n",
       "      <td>SO</td>\n",
       "      <td>0</td>\n",
       "      <td>0</td>\n",
       "      <td>0.0</td>\n",
       "      <td>10/01/2016 12:00:00 AM</td>\n",
       "      <td>09/30/2017 12:00:00 AM</td>\n",
       "    </tr>\n",
       "    <tr>\n",
       "      <th>6</th>\n",
       "      <td>Ethnicity</td>\n",
       "      <td>Hispanic/Latino</td>\n",
       "      <td>2017</td>\n",
       "      <td>SO</td>\n",
       "      <td>0</td>\n",
       "      <td>0</td>\n",
       "      <td>0.0</td>\n",
       "      <td>10/01/2016 12:00:00 AM</td>\n",
       "      <td>09/30/2017 12:00:00 AM</td>\n",
       "    </tr>\n",
       "    <tr>\n",
       "      <th>7</th>\n",
       "      <td>Ethnicity</td>\n",
       "      <td>Non-Hispanic/Non-Latino</td>\n",
       "      <td>2017</td>\n",
       "      <td>SO</td>\n",
       "      <td>0</td>\n",
       "      <td>0</td>\n",
       "      <td>0.0</td>\n",
       "      <td>10/01/2016 12:00:00 AM</td>\n",
       "      <td>09/30/2017 12:00:00 AM</td>\n",
       "    </tr>\n",
       "    <tr>\n",
       "      <th>8</th>\n",
       "      <td>Ethnicity</td>\n",
       "      <td>Client Doesn't Know or Client Refused</td>\n",
       "      <td>2017</td>\n",
       "      <td>SO</td>\n",
       "      <td>0</td>\n",
       "      <td>0</td>\n",
       "      <td>0.0</td>\n",
       "      <td>10/01/2016 12:00:00 AM</td>\n",
       "      <td>09/30/2017 12:00:00 AM</td>\n",
       "    </tr>\n",
       "    <tr>\n",
       "      <th>9</th>\n",
       "      <td>Gender</td>\n",
       "      <td>Female</td>\n",
       "      <td>2017</td>\n",
       "      <td>SO</td>\n",
       "      <td>0</td>\n",
       "      <td>0</td>\n",
       "      <td>0.0</td>\n",
       "      <td>10/01/2016 12:00:00 AM</td>\n",
       "      <td>09/30/2017 12:00:00 AM</td>\n",
       "    </tr>\n",
       "    <tr>\n",
       "      <th>10</th>\n",
       "      <td>Gender</td>\n",
       "      <td>Male</td>\n",
       "      <td>2017</td>\n",
       "      <td>SO</td>\n",
       "      <td>0</td>\n",
       "      <td>0</td>\n",
       "      <td>0.0</td>\n",
       "      <td>10/01/2016 12:00:00 AM</td>\n",
       "      <td>09/30/2017 12:00:00 AM</td>\n",
       "    </tr>\n",
       "    <tr>\n",
       "      <th>11</th>\n",
       "      <td>Gender</td>\n",
       "      <td>Trans Female</td>\n",
       "      <td>2017</td>\n",
       "      <td>SO</td>\n",
       "      <td>0</td>\n",
       "      <td>0</td>\n",
       "      <td>0.0</td>\n",
       "      <td>10/01/2016 12:00:00 AM</td>\n",
       "      <td>09/30/2017 12:00:00 AM</td>\n",
       "    </tr>\n",
       "    <tr>\n",
       "      <th>12</th>\n",
       "      <td>Gender</td>\n",
       "      <td>Trans Male</td>\n",
       "      <td>2017</td>\n",
       "      <td>SO</td>\n",
       "      <td>0</td>\n",
       "      <td>0</td>\n",
       "      <td>0.0</td>\n",
       "      <td>10/01/2016 12:00:00 AM</td>\n",
       "      <td>09/30/2017 12:00:00 AM</td>\n",
       "    </tr>\n",
       "    <tr>\n",
       "      <th>13</th>\n",
       "      <td>Gender</td>\n",
       "      <td>Gender Non-Conforming</td>\n",
       "      <td>2017</td>\n",
       "      <td>SO</td>\n",
       "      <td>0</td>\n",
       "      <td>0</td>\n",
       "      <td>0.0</td>\n",
       "      <td>10/01/2016 12:00:00 AM</td>\n",
       "      <td>09/30/2017 12:00:00 AM</td>\n",
       "    </tr>\n",
       "    <tr>\n",
       "      <th>14</th>\n",
       "      <td>Gender</td>\n",
       "      <td>Client Doesn't Know or Client Refused</td>\n",
       "      <td>2017</td>\n",
       "      <td>SO</td>\n",
       "      <td>0</td>\n",
       "      <td>0</td>\n",
       "      <td>0.0</td>\n",
       "      <td>10/01/2016 12:00:00 AM</td>\n",
       "      <td>09/30/2017 12:00:00 AM</td>\n",
       "    </tr>\n",
       "    <tr>\n",
       "      <th>15</th>\n",
       "      <td>Veteran Status</td>\n",
       "      <td>Veteran</td>\n",
       "      <td>2017</td>\n",
       "      <td>SO</td>\n",
       "      <td>0</td>\n",
       "      <td>0</td>\n",
       "      <td>0.0</td>\n",
       "      <td>10/01/2016 12:00:00 AM</td>\n",
       "      <td>09/30/2017 12:00:00 AM</td>\n",
       "    </tr>\n",
       "    <tr>\n",
       "      <th>16</th>\n",
       "      <td>Veteran Status</td>\n",
       "      <td>Not a Veteran</td>\n",
       "      <td>2017</td>\n",
       "      <td>SO</td>\n",
       "      <td>0</td>\n",
       "      <td>0</td>\n",
       "      <td>0.0</td>\n",
       "      <td>10/01/2016 12:00:00 AM</td>\n",
       "      <td>09/30/2017 12:00:00 AM</td>\n",
       "    </tr>\n",
       "    <tr>\n",
       "      <th>17</th>\n",
       "      <td>Veteran Status</td>\n",
       "      <td>Client Doesn't Know or Client Refused</td>\n",
       "      <td>2017</td>\n",
       "      <td>SO</td>\n",
       "      <td>0</td>\n",
       "      <td>0</td>\n",
       "      <td>0.0</td>\n",
       "      <td>10/01/2016 12:00:00 AM</td>\n",
       "      <td>09/30/2017 12:00:00 AM</td>\n",
       "    </tr>\n",
       "    <tr>\n",
       "      <th>18</th>\n",
       "      <td>Age Category</td>\n",
       "      <td>Adult 25-61</td>\n",
       "      <td>2017</td>\n",
       "      <td>SO</td>\n",
       "      <td>0</td>\n",
       "      <td>0</td>\n",
       "      <td>0.0</td>\n",
       "      <td>10/01/2016 12:00:00 AM</td>\n",
       "      <td>09/30/2017 12:00:00 AM</td>\n",
       "    </tr>\n",
       "    <tr>\n",
       "      <th>19</th>\n",
       "      <td>Age Category</td>\n",
       "      <td>Adult 18-24</td>\n",
       "      <td>2017</td>\n",
       "      <td>SO</td>\n",
       "      <td>0</td>\n",
       "      <td>0</td>\n",
       "      <td>0.0</td>\n",
       "      <td>10/01/2016 12:00:00 AM</td>\n",
       "      <td>09/30/2017 12:00:00 AM</td>\n",
       "    </tr>\n",
       "  </tbody>\n",
       "</table>\n",
       "</div>"
      ],
      "text/plain": [
       "   Demographic Category                       Specific Demographic  \\\n",
       "0                  Race          American Indian or Alaskan Native   \n",
       "1                  Race                                      Asian   \n",
       "2                  Race                  Black or African American   \n",
       "3                  Race  Native Hawaiian or Other Pacific Islander   \n",
       "4                  Race                                      White   \n",
       "5                  Race      Client Doesn't Know or Client Refused   \n",
       "6             Ethnicity                            Hispanic/Latino   \n",
       "7             Ethnicity                    Non-Hispanic/Non-Latino   \n",
       "8             Ethnicity      Client Doesn't Know or Client Refused   \n",
       "9                Gender                                     Female   \n",
       "10               Gender                                       Male   \n",
       "11               Gender                               Trans Female   \n",
       "12               Gender                                 Trans Male   \n",
       "13               Gender                      Gender Non-Conforming   \n",
       "14               Gender      Client Doesn't Know or Client Refused   \n",
       "15       Veteran Status                                    Veteran   \n",
       "16       Veteran Status                              Not a Veteran   \n",
       "17       Veteran Status      Client Doesn't Know or Client Refused   \n",
       "18         Age Category                                Adult 25-61   \n",
       "19         Age Category                                Adult 18-24   \n",
       "\n",
       "    Fiscal Year SO/ES/TH/SH/PH  Numerator  Denominator  Rate  \\\n",
       "0          2017             SO          0            0   0.0   \n",
       "1          2017             SO          0            0   0.0   \n",
       "2          2017             SO          0            0   0.0   \n",
       "3          2017             SO          0            0   0.0   \n",
       "4          2017             SO          0            0   0.0   \n",
       "5          2017             SO          0            0   0.0   \n",
       "6          2017             SO          0            0   0.0   \n",
       "7          2017             SO          0            0   0.0   \n",
       "8          2017             SO          0            0   0.0   \n",
       "9          2017             SO          0            0   0.0   \n",
       "10         2017             SO          0            0   0.0   \n",
       "11         2017             SO          0            0   0.0   \n",
       "12         2017             SO          0            0   0.0   \n",
       "13         2017             SO          0            0   0.0   \n",
       "14         2017             SO          0            0   0.0   \n",
       "15         2017             SO          0            0   0.0   \n",
       "16         2017             SO          0            0   0.0   \n",
       "17         2017             SO          0            0   0.0   \n",
       "18         2017             SO          0            0   0.0   \n",
       "19         2017             SO          0            0   0.0   \n",
       "\n",
       "    Fiscal Year Start Date    Fiscal Year End Date  \n",
       "0   10/01/2016 12:00:00 AM  09/30/2017 12:00:00 AM  \n",
       "1   10/01/2016 12:00:00 AM  09/30/2017 12:00:00 AM  \n",
       "2   10/01/2016 12:00:00 AM  09/30/2017 12:00:00 AM  \n",
       "3   10/01/2016 12:00:00 AM  09/30/2017 12:00:00 AM  \n",
       "4   10/01/2016 12:00:00 AM  09/30/2017 12:00:00 AM  \n",
       "5   10/01/2016 12:00:00 AM  09/30/2017 12:00:00 AM  \n",
       "6   10/01/2016 12:00:00 AM  09/30/2017 12:00:00 AM  \n",
       "7   10/01/2016 12:00:00 AM  09/30/2017 12:00:00 AM  \n",
       "8   10/01/2016 12:00:00 AM  09/30/2017 12:00:00 AM  \n",
       "9   10/01/2016 12:00:00 AM  09/30/2017 12:00:00 AM  \n",
       "10  10/01/2016 12:00:00 AM  09/30/2017 12:00:00 AM  \n",
       "11  10/01/2016 12:00:00 AM  09/30/2017 12:00:00 AM  \n",
       "12  10/01/2016 12:00:00 AM  09/30/2017 12:00:00 AM  \n",
       "13  10/01/2016 12:00:00 AM  09/30/2017 12:00:00 AM  \n",
       "14  10/01/2016 12:00:00 AM  09/30/2017 12:00:00 AM  \n",
       "15  10/01/2016 12:00:00 AM  09/30/2017 12:00:00 AM  \n",
       "16  10/01/2016 12:00:00 AM  09/30/2017 12:00:00 AM  \n",
       "17  10/01/2016 12:00:00 AM  09/30/2017 12:00:00 AM  \n",
       "18  10/01/2016 12:00:00 AM  09/30/2017 12:00:00 AM  \n",
       "19  10/01/2016 12:00:00 AM  09/30/2017 12:00:00 AM  "
      ]
     },
     "metadata": {},
     "execution_count": 4
    }
   ],
   "metadata": {}
  },
  {
   "cell_type": "markdown",
   "source": [
    "## Data Preprocessing"
   ],
   "metadata": {}
  },
  {
   "cell_type": "markdown",
   "source": [
    "### Do all the data types match what the column should be?\r\n",
    "For example, is our Fiscal Year an integer? Is the rate saved as a float? What do we have to work with?"
   ],
   "metadata": {}
  },
  {
   "cell_type": "code",
   "execution_count": 5,
   "source": [
    "# Look into .info() to see how the columns are stored.\r\n",
    "# Verbose allows you to look at all the columns instead of the set max columns panda returns by default.\r\n",
    "df_return_to_homelessness.info(verbose=True)"
   ],
   "outputs": [
    {
     "output_type": "stream",
     "name": "stdout",
     "text": [
      "<class 'pandas.core.frame.DataFrame'>\n",
      "RangeIndex: 490 entries, 0 to 489\n",
      "Data columns (total 9 columns):\n",
      " #   Column                  Non-Null Count  Dtype  \n",
      "---  ------                  --------------  -----  \n",
      " 0   Demographic Category    490 non-null    object \n",
      " 1   Specific Demographic    490 non-null    object \n",
      " 2   Fiscal Year             490 non-null    int64  \n",
      " 3   SO/ES/TH/SH/PH          490 non-null    object \n",
      " 4   Numerator               490 non-null    int64  \n",
      " 5   Denominator             490 non-null    int64  \n",
      " 6   Rate                    490 non-null    float64\n",
      " 7   Fiscal Year Start Date  490 non-null    object \n",
      " 8    Fiscal Year End Date   490 non-null    object \n",
      "dtypes: float64(1), int64(3), object(5)\n",
      "memory usage: 34.6+ KB\n"
     ]
    }
   ],
   "metadata": {}
  },
  {
   "cell_type": "markdown",
   "source": [
    "### How is the data distributed?\r\n",
    ".Describe() will give us our metrics. We can get a good idea of how the data falls from min to max. We can also see if there are large jumps in our data(ie if we had numerator start at 0, but it's max was 1,000,000)"
   ],
   "metadata": {}
  },
  {
   "cell_type": "code",
   "execution_count": 6,
   "source": [
    "df_return_to_homelessness.describe()"
   ],
   "outputs": [
    {
     "output_type": "execute_result",
     "data": {
      "text/html": [
       "<div>\n",
       "<style scoped>\n",
       "    .dataframe tbody tr th:only-of-type {\n",
       "        vertical-align: middle;\n",
       "    }\n",
       "\n",
       "    .dataframe tbody tr th {\n",
       "        vertical-align: top;\n",
       "    }\n",
       "\n",
       "    .dataframe thead th {\n",
       "        text-align: right;\n",
       "    }\n",
       "</style>\n",
       "<table border=\"1\" class=\"dataframe\">\n",
       "  <thead>\n",
       "    <tr style=\"text-align: right;\">\n",
       "      <th></th>\n",
       "      <th>Fiscal Year</th>\n",
       "      <th>Numerator</th>\n",
       "      <th>Denominator</th>\n",
       "      <th>Rate</th>\n",
       "    </tr>\n",
       "  </thead>\n",
       "  <tbody>\n",
       "    <tr>\n",
       "      <th>count</th>\n",
       "      <td>490.000000</td>\n",
       "      <td>490.000000</td>\n",
       "      <td>490.000000</td>\n",
       "      <td>490.000000</td>\n",
       "    </tr>\n",
       "    <tr>\n",
       "      <th>mean</th>\n",
       "      <td>2018.408163</td>\n",
       "      <td>13.646939</td>\n",
       "      <td>75.661224</td>\n",
       "      <td>0.126184</td>\n",
       "    </tr>\n",
       "    <tr>\n",
       "      <th>std</th>\n",
       "      <td>1.087546</td>\n",
       "      <td>26.127418</td>\n",
       "      <td>141.377548</td>\n",
       "      <td>0.173231</td>\n",
       "    </tr>\n",
       "    <tr>\n",
       "      <th>min</th>\n",
       "      <td>2017.000000</td>\n",
       "      <td>0.000000</td>\n",
       "      <td>0.000000</td>\n",
       "      <td>0.000000</td>\n",
       "    </tr>\n",
       "    <tr>\n",
       "      <th>25%</th>\n",
       "      <td>2017.000000</td>\n",
       "      <td>0.000000</td>\n",
       "      <td>0.000000</td>\n",
       "      <td>0.000000</td>\n",
       "    </tr>\n",
       "    <tr>\n",
       "      <th>50%</th>\n",
       "      <td>2018.000000</td>\n",
       "      <td>1.000000</td>\n",
       "      <td>5.000000</td>\n",
       "      <td>0.055000</td>\n",
       "    </tr>\n",
       "    <tr>\n",
       "      <th>75%</th>\n",
       "      <td>2019.000000</td>\n",
       "      <td>10.000000</td>\n",
       "      <td>62.750000</td>\n",
       "      <td>0.190000</td>\n",
       "    </tr>\n",
       "    <tr>\n",
       "      <th>max</th>\n",
       "      <td>2020.000000</td>\n",
       "      <td>145.000000</td>\n",
       "      <td>801.000000</td>\n",
       "      <td>1.390000</td>\n",
       "    </tr>\n",
       "  </tbody>\n",
       "</table>\n",
       "</div>"
      ],
      "text/plain": [
       "       Fiscal Year   Numerator  Denominator        Rate\n",
       "count   490.000000  490.000000   490.000000  490.000000\n",
       "mean   2018.408163   13.646939    75.661224    0.126184\n",
       "std       1.087546   26.127418   141.377548    0.173231\n",
       "min    2017.000000    0.000000     0.000000    0.000000\n",
       "25%    2017.000000    0.000000     0.000000    0.000000\n",
       "50%    2018.000000    1.000000     5.000000    0.055000\n",
       "75%    2019.000000   10.000000    62.750000    0.190000\n",
       "max    2020.000000  145.000000   801.000000    1.390000"
      ]
     },
     "metadata": {},
     "execution_count": 6
    }
   ],
   "metadata": {}
  },
  {
   "cell_type": "markdown",
   "source": [
    "all but Fiscal Year start at a 0. Data does not range higher than 1,000 in max value. I do not think we need to change this part of the data."
   ],
   "metadata": {}
  },
  {
   "cell_type": "markdown",
   "source": [
    "## EDA\r\n",
    "* Graph Plots\r\n",
    "* Plotly Visualizations\r\n",
    "* Target identification and Feature Engineering"
   ],
   "metadata": {}
  },
  {
   "cell_type": "code",
   "execution_count": 7,
   "source": [
    "# Create a correlation matrix\r\n",
    "corr = df_return_to_homelessness.corr()\r\n",
    "\r\n",
    "# Plot the heatmap\r\n",
    "sns.heatmap(corr, xticklabels=corr.columns, yticklabels=corr.columns, annot=True, cmap=sns.diverging_palette(220, 20, as_cmap=True))"
   ],
   "outputs": [
    {
     "output_type": "execute_result",
     "data": {
      "text/plain": [
       "<AxesSubplot:>"
      ]
     },
     "metadata": {},
     "execution_count": 7
    },
    {
     "output_type": "display_data",
     "data": {
      "image/png": "[encoded data removed]",
      "text/plain": [
       "<Figure size 432x288 with 2 Axes>"
      ]
     },
     "metadata": {
      "needs_background": "light"
     }
    }
   ],
   "metadata": {}
  },
  {
   "cell_type": "markdown",
   "source": [
    "Heat map shows correlation between columns. We can see that the fiscal year does not hold much value in terms of the data. We may try removing this and seeing how it affects the correlation.\r\n",
    "Another point to take into consideration is that it should be ***numerator/denominator = rate***. If this is the formula used, keeping the numerator and denominator will cause a great amount of data leakage. "
   ],
   "metadata": {}
  },
  {
   "cell_type": "code",
   "execution_count": 8,
   "source": [
    "df_return_to_homelessness.plot(kind='scatter', x='Rate', y='Demographic Category');"
   ],
   "outputs": [
    {
     "output_type": "display_data",
     "data": {
      "image/png": "[encoded data removed]",
      "text/plain": [
       "<Figure size 432x288 with 1 Axes>"
      ]
     },
     "metadata": {
      "needs_background": "light"
     }
    }
   ],
   "metadata": {}
  },
  {
   "cell_type": "markdown",
   "source": [
    "We can see that the dataset has a couple of outliers. One specific datapoint in race is unusually high. We may consider removing this and filtering the data."
   ],
   "metadata": {}
  },
  {
   "cell_type": "code",
   "execution_count": 9,
   "source": [
    "df_return_to_homelessness.plot(kind='scatter', x='Fiscal Year', y='Rate');"
   ],
   "outputs": [
    {
     "output_type": "display_data",
     "data": {
      "image/png": "[encoded data removed]",
      "text/plain": [
       "<Figure size 432x288 with 1 Axes>"
      ]
     },
     "metadata": {
      "needs_background": "light"
     }
    }
   ],
   "metadata": {}
  },
  {
   "cell_type": "markdown",
   "source": [
    "Data is clustered heavily around 0.6 in Rate. If we filter the data to only return up to there, then we can effectively eliminate the outliers."
   ],
   "metadata": {}
  },
  {
   "cell_type": "code",
   "execution_count": 14,
   "source": [
    "df_return_to_homelessness.plot(kind='scatter', x='Rate', y='Specific Demographic', figsize=(5,15));"
   ],
   "outputs": [
    {
     "output_type": "display_data",
     "data": {
      "image/png": "[encoded data removed]",
      "text/plain": [
       "<Figure size 360x1080 with 1 Axes>"
      ]
     },
     "metadata": {
      "needs_background": "light"
     }
    }
   ],
   "metadata": {}
  },
  {
   "cell_type": "markdown",
   "source": [
    "Reaffirms suspisions that we should cut rate from 0.6. This will benefit the dataset."
   ],
   "metadata": {}
  },
  {
   "cell_type": "markdown",
   "source": [
    "### Some Fun Stuff"
   ],
   "metadata": {}
  },
  {
   "cell_type": "code",
   "execution_count": 20,
   "source": [
    "df = df_return_to_homelessness\r\n",
    "fig,axes = plt.subplots(nrows=3, ncols=3, figsize=(14,10))\r\n",
    "plt.tight_layout();\r\n",
    "sns.distplot(df['Demographic Category'].value_counts(), color='r', ax=axes[0][0]);\r\n",
    "sns.distplot(df['Specific Demographic'].value_counts(), color='b', ax=axes[0][1]);\r\n",
    "sns.distplot(df['Fiscal Year'], color='r', ax=axes[0][2]);\r\n",
    "sns.distplot(df['SO/ES/TH/SH/PH'].value_counts(), color='b', ax=axes[1][0]);\r\n",
    "sns.distplot(df['Numerator'], color='r', ax=axes[1][1]);\r\n",
    "sns.distplot(df['Denominator'], color='b', ax=axes[1][2]);\r\n",
    "sns.distplot(df['Rate'], color='r', ax=axes[2][0]);\r\n"
   ],
   "outputs": [
    {
     "output_type": "stream",
     "name": "stderr",
     "text": [
      "C:\\Users\\Alex Lucchesi\\AppData\\Local\\Programs\\Python\\Python39\\lib\\site-packages\\seaborn\\distributions.py:2619: FutureWarning: `distplot` is a deprecated function and will be removed in a future version. Please adapt your code to use either `displot` (a figure-level function with similar flexibility) or `histplot` (an axes-level function for histograms).\n",
      "  warnings.warn(msg, FutureWarning)\n",
      "C:\\Users\\Alex Lucchesi\\AppData\\Local\\Programs\\Python\\Python39\\lib\\site-packages\\seaborn\\distributions.py:2619: FutureWarning: `distplot` is a deprecated function and will be removed in a future version. Please adapt your code to use either `displot` (a figure-level function with similar flexibility) or `histplot` (an axes-level function for histograms).\n",
      "  warnings.warn(msg, FutureWarning)\n",
      "C:\\Users\\Alex Lucchesi\\AppData\\Local\\Programs\\Python\\Python39\\lib\\site-packages\\seaborn\\distributions.py:2619: FutureWarning: `distplot` is a deprecated function and will be removed in a future version. Please adapt your code to use either `displot` (a figure-level function with similar flexibility) or `histplot` (an axes-level function for histograms).\n",
      "  warnings.warn(msg, FutureWarning)\n",
      "C:\\Users\\Alex Lucchesi\\AppData\\Local\\Programs\\Python\\Python39\\lib\\site-packages\\seaborn\\distributions.py:2619: FutureWarning: `distplot` is a deprecated function and will be removed in a future version. Please adapt your code to use either `displot` (a figure-level function with similar flexibility) or `histplot` (an axes-level function for histograms).\n",
      "  warnings.warn(msg, FutureWarning)\n",
      "C:\\Users\\Alex Lucchesi\\AppData\\Local\\Programs\\Python\\Python39\\lib\\site-packages\\seaborn\\distributions.py:2619: FutureWarning: `distplot` is a deprecated function and will be removed in a future version. Please adapt your code to use either `displot` (a figure-level function with similar flexibility) or `histplot` (an axes-level function for histograms).\n",
      "  warnings.warn(msg, FutureWarning)\n",
      "C:\\Users\\Alex Lucchesi\\AppData\\Local\\Programs\\Python\\Python39\\lib\\site-packages\\seaborn\\distributions.py:2619: FutureWarning: `distplot` is a deprecated function and will be removed in a future version. Please adapt your code to use either `displot` (a figure-level function with similar flexibility) or `histplot` (an axes-level function for histograms).\n",
      "  warnings.warn(msg, FutureWarning)\n",
      "C:\\Users\\Alex Lucchesi\\AppData\\Local\\Programs\\Python\\Python39\\lib\\site-packages\\seaborn\\distributions.py:2619: FutureWarning: `distplot` is a deprecated function and will be removed in a future version. Please adapt your code to use either `displot` (a figure-level function with similar flexibility) or `histplot` (an axes-level function for histograms).\n",
      "  warnings.warn(msg, FutureWarning)\n"
     ]
    },
    {
     "output_type": "execute_result",
     "data": {
      "text/plain": [
       "<AxesSubplot:xlabel='Rate', ylabel='Density'>"
      ]
     },
     "metadata": {},
     "execution_count": 20
    },
    {
     "output_type": "display_data",
     "data": {
      "image/png": "[encoded data removed]",
      "text/plain": [
       "<Figure size 1008x720 with 9 Axes>"
      ]
     },
     "metadata": {
      "needs_background": "light"
     }
    }
   ],
   "metadata": {}
  },
  {
   "cell_type": "code",
   "execution_count": 22,
   "source": [
    "fig=px.violin(df, y='Rate', color='Fiscal Year', points='all', hover_name='Demographic Category', hover_data=['Specific Demographic'])\r\n",
    "fig.show()"
   ],
   "outputs": [
    {
     "output_type": "display_data",
     "data": {
      "application/vnd.plotly.v1+json": {
       "config": {
        "plotlyServerURL": "https://plot.ly"
       },
       "data": [
        {
         "alignmentgroup": "True",
         "box": {
          "visible": false
         },
         "customdata": [
          [
           "American Indian or Alaskan Native"
          ],
          [
           "Asian"
          ],
          [
           "Black or African American"
          ],
          [
           "Native Hawaiian or Other Pacific Islander"
          ],
          [
           "White"
          ],
          [
           "Client Doesn't Know or Client Refused"
          ],
          [
           "Hispanic/Latino"
          ],
          [
           "Non-Hispanic/Non-Latino"
          ],
          [
           "Client Doesn't Know or Client Refused"
          ],
          [
           "Female"
          ],
          [
           "Male"
          ],
          [
           "Trans Female"
          ],
          [
           "Trans Male"
          ],
          [
           "Gender Non-Conforming"
          ],
          [
           "Client Doesn't Know or Client Refused"
          ],
          [
           "Veteran"
          ],
          [
           "Not a Veteran"
          ],
          [
           "Client Doesn't Know or Client Refused"
          ],
          [
           "Adult 25-61"
          ],
          [
           "Adult 18-24"
          ],
          [
           "Elder Adult 62+"
          ],
          [
           "Children"
          ],
          [
           "Client Doesn't Know or Client Refused"
          ],
          [
           "Has a Disabling Condition"
          ],
          [
           "Does Not Have a Disabling Condition"
          ],
          [
           "Client Doesn't Know or Client Refused"
          ],
          [
           "American Indian or Alaskan Native"
          ],
          [
           "Asian"
          ],
          [
           "Black or African American"
          ],
          [
           "Native Hawaiian or Other Pacific Islander"
          ],
          [
           "White"
          ],
          [
           "Client Doesn't Know or Client Refused"
          ],
          [
           "Hispanic/Latino"
          ],
          [
           "Non-Hispanic/Non-Latino"
          ],
          [
           "Client Doesn't Know or Client Refused"
          ],
          [
           "Female"
          ],
          [
           "Male"
          ],
          [
           "Trans Female"
          ],
          [
           "Trans Male"
          ],
          [
           "Gender Non-Conforming"
          ],
          [
           "Client Doesn't Know or Client Refused"
          ],
          [
           "Veteran"
          ],
          [
           "Not a Veteran"
          ],
          [
           "Client Doesn't Know or Client Refused"
          ],
          [
           "Adult 25-61"
          ],
          [
           "Adult 18-24"
          ],
          [
           "Elder Adult 62+"
          ],
          [
           "Children"
          ],
          [
           "Client Doesn't Know or Client Refused"
          ],
          [
           "Has a Disabling Condition"
          ],
          [
           "Does Not Have a Disabling Condition"
          ],
          [
           "Client Doesn't Know or Client Refused"
          ],
          [
           "American Indian or Alaskan Native"
          ],
          [
           "Asian"
          ],
          [
           "Black or African American"
          ],
          [
           "Native Hawaiian or Other Pacific Islander"
          ],
          [
           "White"
          ],
          [
           "Client Doesn't Know or Client Refused"
          ],
          [
           "Hispanic/Latino"
          ],
          [
           "Non-Hispanic/Non-Latino"
          ],
          [
           "Client Doesn't Know or Client Refused"
          ],
          [
           "Female"
          ],
          [
           "Male"
          ],
          [
           "Trans Female"
          ],
          [
           "Trans Male"
          ],
          [
           "Gender Non-Conforming"
          ],
          [
           "Client Doesn't Know or Client Refused"
          ],
          [
           "Veteran"
          ],
          [
           "Not a Veteran"
          ],
          [
           "Client Doesn't Know or Client Refused"
          ],
          [
           "Adult 25-61"
          ],
          [
           "Adult 18-24"
          ],
          [
           "Elder Adult 62+"
          ],
          [
           "Children"
          ],
          [
           "Client Doesn't Know or Client Refused"
          ],
          [
           "Has a Disabling Condition"
          ],
          [
           "Does Not Have a Disabling Condition"
          ],
          [
           "Client Doesn't Know or Client Refused"
          ],
          [
           "American Indian or Alaskan Native"
          ],
          [
           "Asian"
          ],
          [
           "Black or African American"
          ],
          [
           "Native Hawaiian or Other Pacific Islander"
          ],
          [
           "White"
          ],
          [
           "Client Doesn't Know or Client Refused"
          ],
          [
           "Hispanic/Latino"
          ],
          [
           "Non-Hispanic/Non-Latino"
          ],
          [
           "Client Doesn't Know or Client Refused"
          ],
          [
           "Female"
          ],
          [
           "Male"
          ],
          [
           "Trans Female"
          ],
          [
           "Trans Male"
          ],
          [
           "Gender Non-Conforming"
          ],
          [
           "Client Doesn't Know or Client Refused"
          ],
          [
           "Veteran"
          ],
          [
           "Not a Veteran"
          ],
          [
           "Client Doesn't Know or Client Refused"
          ],
          [
           "Adult 25-61"
          ],
          [
           "Adult 18-24"
          ],
          [
           "Elder Adult 62+"
          ],
          [
           "Children"
          ],
          [
           "Client Doesn't Know or Client Refused"
          ],
          [
           "Has a Disabling Condition"
          ],
          [
           "Does Not Have a Disabling Condition"
          ],
          [
           "Client Doesn't Know or Client Refused"
          ],
          [
           "American Indian or Alaskan Native"
          ],
          [
           "Asian"
          ],
          [
           "Black or African American"
          ],
          [
           "Native Hawaiian or Other Pacific Islander"
          ],
          [
           "White"
          ],
          [
           "Client Doesn't Know or Client Refused"
          ],
          [
           "Hispanic/Latino"
          ],
          [
           "Non-Hispanic/Non-Latino"
          ],
          [
           "Client Doesn't Know or Client Refused"
          ],
          [
           "Female"
          ],
          [
           "Male"
          ],
          [
           "Trans Female"
          ],
          [
           "Trans Male"
          ],
          [
           "Gender Non-Conforming"
          ],
          [
           "Client Doesn't Know or Client Refused"
          ],
          [
           "Veteran"
          ],
          [
           "Not a Veteran"
          ],
          [
           "Client Doesn't Know or Client Refused"
          ],
          [
           "Adult 25-61"
          ],
          [
           "Adult 18-24"
          ],
          [
           "Elder Adult 62+"
          ],
          [
           "Children"
          ],
          [
           "Client Doesn't Know or Client Refused"
          ],
          [
           "Has a Disabling Condition"
          ],
          [
           "Does Not Have a Disabling Condition"
          ],
          [
           "Client Doesn't Know or Client Refused"
          ]
         ],
         "hovertemplate": "<b>%{hovertext}</b><br><br>Fiscal Year=2017<br>Rate=%{y}<br>Specific Demographic=%{customdata[0]}<extra></extra>",
         "hovertext": [
          "Race",
          "Race",
          "Race",
          "Race",
          "Race",
          "Race",
          "Ethnicity",
          "Ethnicity",
          "Ethnicity",
          "Gender",
          "Gender",
          "Gender",
          "Gender",
          "Gender",
          "Gender",
          "Veteran Status",
          "Veteran Status",
          "Veteran Status",
          "Age Category",
          "Age Category",
          "Age Category",
          "Age Category",
          "Age Category",
          "Disability Status",
          "Disability Status",
          "Disability Status",
          "Race",
          "Race",
          "Race",
          "Race",
          "Race",
          "Race",
          "Ethnicity",
          "Ethnicity",
          "Ethnicity",
          "Gender",
          "Gender",
          "Gender",
          "Gender",
          "Gender",
          "Gender",
          "Veteran Status",
          "Veteran Status",
          "Veteran Status",
          "Age Category",
          "Age Category",
          "Age Category",
          "Age Category",
          "Age Category",
          "Disability Status",
          "Disability Status",
          "Disability Status",
          "Race",
          "Race",
          "Race",
          "Race",
          "Race",
          "Race",
          "Ethnicity",
          "Ethnicity",
          "Ethnicity",
          "Gender",
          "Gender",
          "Gender",
          "Gender",
          "Gender",
          "Gender",
          "Veteran Status",
          "Veteran Status",
          "Veteran Status",
          "Age Category",
          "Age Category",
          "Age Category",
          "Age Category",
          "Age Category",
          "Disability Status",
          "Disability Status",
          "Disability Status",
          "Race",
          "Race",
          "Race",
          "Race",
          "Race",
          "Race",
          "Ethnicity",
          "Ethnicity",
          "Ethnicity",
          "Gender",
          "Gender",
          "Gender",
          "Gender",
          "Gender",
          "Gender",
          "Veteran Status",
          "Veteran Status",
          "Veteran Status",
          "Age Category",
          "Age Category",
          "Age Category",
          "Age Category",
          "Age Category",
          "Disability Status",
          "Disability Status",
          "Disability Status",
          "Race",
          "Race",
          "Race",
          "Race",
          "Race",
          "Race",
          "Ethnicity",
          "Ethnicity",
          "Ethnicity",
          "Gender",
          "Gender",
          "Gender",
          "Gender",
          "Gender",
          "Gender",
          "Veteran Status",
          "Veteran Status",
          "Veteran Status",
          "Age Category",
          "Age Category",
          "Age Category",
          "Age Category",
          "Age Category",
          "Disability Status",
          "Disability Status",
          "Disability Status"
         ],
         "legendgroup": "2017",
         "marker": {
          "color": "#636efa"
         },
         "name": "2017",
         "offsetgroup": "2017",
         "orientation": "v",
         "points": "all",
         "scalegroup": "True",
         "showlegend": true,
         "type": "violin",
         "x0": " ",
         "xaxis": "x",
         "y": [
          0,
          0,
          0,
          0,
          0,
          0,
          0,
          0,
          0,
          0,
          0,
          0,
          0,
          0,
          0,
          0,
          0,
          0,
          0,
          0,
          0,
          0,
          0,
          0,
          0,
          0,
          0.33,
          0,
          0.28,
          0,
          0.24,
          0,
          0.13,
          0.32,
          0,
          0.24,
          0.27,
          0.5,
          0,
          0,
          0,
          0.47,
          0.23,
          0,
          0.32,
          0.18,
          0.43,
          0.14,
          0,
          0.4,
          0.2,
          0,
          0,
          0,
          0.05,
          0,
          0.03,
          0,
          0,
          0.08,
          0,
          0.03,
          0.06,
          0,
          0,
          0,
          0,
          0,
          0.04,
          0,
          0.03,
          0.07,
          0,
          0.03,
          0,
          0,
          0.05,
          0,
          0,
          0,
          0.18,
          0,
          1.39,
          0,
          0,
          0.23,
          0,
          0.17,
          0.22,
          0,
          0,
          0,
          0,
          0.19,
          1,
          0,
          0.25,
          0,
          0,
          0,
          0,
          0.19,
          0.5,
          0,
          0,
          0,
          0.15,
          0,
          0.14,
          0.07,
          0.11,
          0.16,
          0.17,
          0.11,
          0.18,
          0,
          0,
          0,
          0,
          0.24,
          0.13,
          0,
          0.19,
          0.13,
          0.19,
          0.17,
          0,
          0.38,
          0.11,
          0
         ],
         "y0": " ",
         "yaxis": "y"
        },
        {
         "alignmentgroup": "True",
         "box": {
          "visible": false
         },
         "customdata": [
          [
           "American Indian or Alaskan Native"
          ],
          [
           "Asian"
          ],
          [
           "Black or African American"
          ],
          [
           "Native Hawaiian or Other Pacific Islander"
          ],
          [
           "White"
          ],
          [
           "Client Doesn't Know or Client Refused"
          ],
          [
           "Hispanic/Latino"
          ],
          [
           "Non-Hispanic/Non-Latino"
          ],
          [
           "Client Doesn't Know or Client Refused"
          ],
          [
           "Female"
          ],
          [
           "Male"
          ],
          [
           "Trans Female"
          ],
          [
           "Trans Male"
          ],
          [
           "Gender Non-Conforming"
          ],
          [
           "Client Doesn't Know or Client Refused"
          ],
          [
           "Veteran"
          ],
          [
           "Not a Veteran"
          ],
          [
           "Client Doesn't Know or Client Refused"
          ],
          [
           "Adult 25-61"
          ],
          [
           "Adult 18-24"
          ],
          [
           "Elder Adult 62+"
          ],
          [
           "Children"
          ],
          [
           "Client Doesn't Know or Client Refused"
          ],
          [
           "Has a Disabling Condition"
          ],
          [
           "Does Not Have a Disabling Condition"
          ],
          [
           "Client Doesn't Know or Client Refused"
          ],
          [
           "American Indian or Alaskan Native"
          ],
          [
           "Asian"
          ],
          [
           "Black or African American"
          ],
          [
           "Native Hawaiian or Other Pacific Islander"
          ],
          [
           "White"
          ],
          [
           "Client Doesn't Know or Client Refused"
          ],
          [
           "Hispanic/Latino"
          ],
          [
           "Non-Hispanic/Non-Latino"
          ],
          [
           "Client Doesn't Know or Client Refused"
          ],
          [
           "Female"
          ],
          [
           "Male"
          ],
          [
           "Trans Female"
          ],
          [
           "Trans Male"
          ],
          [
           "Gender Non-Conforming"
          ],
          [
           "Client Doesn't Know or Client Refused"
          ],
          [
           "Veteran"
          ],
          [
           "Not a Veteran"
          ],
          [
           "Client Doesn't Know or Client Refused"
          ],
          [
           "Adult 25-61"
          ],
          [
           "Adult 18-24"
          ],
          [
           "Elder Adult 62+"
          ],
          [
           "Children"
          ],
          [
           "Client Doesn't Know or Client Refused"
          ],
          [
           "Has a Disabling Condition"
          ],
          [
           "Does Not Have a Disabling Condition"
          ],
          [
           "Client Doesn't Know or Client Refused"
          ],
          [
           "American Indian or Alaskan Native"
          ],
          [
           "Asian"
          ],
          [
           "Black or African American"
          ],
          [
           "Native Hawaiian or Other Pacific Islander"
          ],
          [
           "White"
          ],
          [
           "Client Doesn't Know or Client Refused"
          ],
          [
           "Hispanic/Latino"
          ],
          [
           "Non-Hispanic/Non-Latino"
          ],
          [
           "Client Doesn't Know or Client Refused"
          ],
          [
           "Female"
          ],
          [
           "Male"
          ],
          [
           "Trans Female"
          ],
          [
           "Trans Male"
          ],
          [
           "Gender Non-Conforming"
          ],
          [
           "Client Doesn't Know or Client Refused"
          ],
          [
           "Veteran"
          ],
          [
           "Not a Veteran"
          ],
          [
           "Client Doesn't Know or Client Refused"
          ],
          [
           "Adult 25-61"
          ],
          [
           "Adult 18-24"
          ],
          [
           "Elder Adult 62+"
          ],
          [
           "Children"
          ],
          [
           "Client Doesn't Know or Client Refused"
          ],
          [
           "Has a Disabling Condition"
          ],
          [
           "Does Not Have a Disabling Condition"
          ],
          [
           "Client Doesn't Know or Client Refused"
          ],
          [
           "American Indian or Alaskan Native"
          ],
          [
           "Asian"
          ],
          [
           "Black or African American"
          ],
          [
           "Native Hawaiian or Other Pacific Islander"
          ],
          [
           "White"
          ],
          [
           "Client Doesn't Know or Client Refused"
          ],
          [
           "Hispanic/Latino"
          ],
          [
           "Non-Hispanic/Non-Latino"
          ],
          [
           "Client Doesn't Know or Client Refused"
          ],
          [
           "Female"
          ],
          [
           "Male"
          ],
          [
           "Trans Female"
          ],
          [
           "Trans Male"
          ],
          [
           "Gender Non-Conforming"
          ],
          [
           "Client Doesn't Know or Client Refused"
          ],
          [
           "Veteran"
          ],
          [
           "Not a Veteran"
          ],
          [
           "Client Doesn't Know or Client Refused"
          ],
          [
           "Adult 25-61"
          ],
          [
           "Adult 18-24"
          ],
          [
           "Elder Adult 62+"
          ],
          [
           "Children"
          ],
          [
           "Client Doesn't Know or Client Refused"
          ],
          [
           "Has a Disabling Condition"
          ],
          [
           "Does Not Have a Disabling Condition"
          ],
          [
           "Client Doesn't Know or Client Refused"
          ],
          [
           "American Indian or Alaskan Native"
          ],
          [
           "Asian"
          ],
          [
           "Black or African American"
          ],
          [
           "Native Hawaiian or Other Pacific Islander"
          ],
          [
           "White"
          ],
          [
           "Client Doesn't Know or Client Refused"
          ],
          [
           "Hispanic/Latino"
          ],
          [
           "Non-Hispanic/Non-Latino"
          ],
          [
           "Client Doesn't Know or Client Refused"
          ],
          [
           "Female"
          ],
          [
           "Male"
          ],
          [
           "Trans Female"
          ],
          [
           "Trans Male"
          ],
          [
           "Gender Non-Conforming"
          ],
          [
           "Client Doesn't Know or Client Refused"
          ],
          [
           "Veteran"
          ],
          [
           "Not a Veteran"
          ],
          [
           "Client Doesn't Know or Client Refused"
          ],
          [
           "Adult 25-61"
          ],
          [
           "Adult 18-24"
          ],
          [
           "Elder Adult 62+"
          ],
          [
           "Children"
          ],
          [
           "Client Doesn't Know or Client Refused"
          ],
          [
           "Has a Disabling Condition"
          ],
          [
           "Does Not Have a Disabling Condition"
          ],
          [
           "Client Doesn't Know or Client Refused"
          ]
         ],
         "hovertemplate": "<b>%{hovertext}</b><br><br>Fiscal Year=2018<br>Rate=%{y}<br>Specific Demographic=%{customdata[0]}<extra></extra>",
         "hovertext": [
          "Race",
          "Race",
          "Race",
          "Race",
          "Race",
          "Race",
          "Ethnicity",
          "Ethnicity",
          "Ethnicity",
          "Gender",
          "Gender",
          "Gender",
          "Gender",
          "Gender",
          "Gender",
          "Veteran Status",
          "Veteran Status",
          "Veteran Status",
          "Age Category",
          "Age Category",
          "Age Category",
          "Age Category",
          "Age Category",
          "Disability Status",
          "Disability Status",
          "Disability Status",
          "Race",
          "Race",
          "Race",
          "Race",
          "Race",
          "Race",
          "Ethnicity",
          "Ethnicity",
          "Ethnicity",
          "Gender",
          "Gender",
          "Gender",
          "Gender",
          "Gender",
          "Gender",
          "Veteran Status",
          "Veteran Status",
          "Veteran Status",
          "Age Category",
          "Age Category",
          "Age Category",
          "Age Category",
          "Age Category",
          "Disability Status",
          "Disability Status",
          "Disability Status",
          "Race",
          "Race",
          "Race",
          "Race",
          "Race",
          "Race",
          "Ethnicity",
          "Ethnicity",
          "Ethnicity",
          "Gender",
          "Gender",
          "Gender",
          "Gender",
          "Gender",
          "Gender",
          "Veteran Status",
          "Veteran Status",
          "Veteran Status",
          "Age Category",
          "Age Category",
          "Age Category",
          "Age Category",
          "Age Category",
          "Disability Status",
          "Disability Status",
          "Disability Status",
          "Race",
          "Race",
          "Race",
          "Race",
          "Race",
          "Race",
          "Ethnicity",
          "Ethnicity",
          "Ethnicity",
          "Gender",
          "Gender",
          "Gender",
          "Gender",
          "Gender",
          "Gender",
          "Veteran Status",
          "Veteran Status",
          "Veteran Status",
          "Age Category",
          "Age Category",
          "Age Category",
          "Age Category",
          "Age Category",
          "Disability Status",
          "Disability Status",
          "Disability Status",
          "Race",
          "Race",
          "Race",
          "Race",
          "Race",
          "Race",
          "Ethnicity",
          "Ethnicity",
          "Ethnicity",
          "Gender",
          "Gender",
          "Gender",
          "Gender",
          "Gender",
          "Gender",
          "Veteran Status",
          "Veteran Status",
          "Veteran Status",
          "Age Category",
          "Age Category",
          "Age Category",
          "Age Category",
          "Age Category",
          "Disability Status",
          "Disability Status",
          "Disability Status"
         ],
         "legendgroup": "2018",
         "marker": {
          "color": "#EF553B"
         },
         "name": "2018",
         "offsetgroup": "2018",
         "orientation": "v",
         "points": "all",
         "scalegroup": "True",
         "showlegend": true,
         "type": "violin",
         "x0": " ",
         "xaxis": "x",
         "y": [
          0,
          0,
          0,
          0,
          0.38,
          0,
          0.33,
          0.4,
          0,
          0,
          0.38,
          0,
          0,
          0,
          0,
          1,
          0.17,
          0,
          0.67,
          0.2,
          0,
          0,
          0,
          0.5,
          0.25,
          0,
          0.67,
          0.13,
          0.17,
          0.2,
          0.23,
          0,
          0.11,
          0.24,
          0.33,
          0.22,
          0.18,
          0,
          0,
          0,
          0,
          0.25,
          0.19,
          0,
          0.24,
          0.14,
          0.32,
          0.1,
          0,
          0.3,
          0.16,
          0,
          0,
          0,
          0.16,
          0,
          0.17,
          0,
          0.16,
          0.17,
          0,
          0.19,
          0.14,
          0,
          0,
          0,
          0,
          0.18,
          0.16,
          0,
          0.19,
          0.18,
          0.13,
          0.15,
          0,
          0.14,
          0.18,
          0,
          0,
          0,
          0.42,
          0,
          0.22,
          0,
          0,
          0.29,
          0,
          0,
          0.29,
          0,
          0,
          0,
          0,
          0.29,
          0,
          0,
          0.23,
          0,
          0.44,
          0,
          0,
          0.3,
          0.2,
          0,
          0,
          0,
          0.22,
          0,
          0.16,
          0,
          0.11,
          0.22,
          0,
          0.12,
          0.24,
          0,
          0,
          0,
          0,
          0.29,
          0.15,
          0,
          0.22,
          0.3,
          0.26,
          0.11,
          0,
          0.24,
          0.13,
          0.5
         ],
         "y0": " ",
         "yaxis": "y"
        },
        {
         "alignmentgroup": "True",
         "box": {
          "visible": false
         },
         "customdata": [
          [
           "American Indian or Alaskan Native"
          ],
          [
           "Asian"
          ],
          [
           "Black or African American"
          ],
          [
           "Native Hawaiian or Other Pacific Islander"
          ],
          [
           "White"
          ],
          [
           "Client Doesn't Know or Client Refused"
          ],
          [
           "Hispanic/Latino"
          ],
          [
           "Non-Hispanic/Non-Latino"
          ],
          [
           "Client Doesn't Know or Client Refused"
          ],
          [
           "Female"
          ],
          [
           "Male"
          ],
          [
           "Trans Female"
          ],
          [
           "Trans Male"
          ],
          [
           "Gender Non-Conforming"
          ],
          [
           "Client Doesn't Know or Client Refused"
          ],
          [
           "Veteran"
          ],
          [
           "Not a Veteran"
          ],
          [
           "Client Doesn't Know or Client Refused"
          ],
          [
           "Adult 25-61"
          ],
          [
           "Adult 18-24"
          ],
          [
           "Elder Adult 62+"
          ],
          [
           "Children"
          ],
          [
           "Client Doesn't Know or Client Refused"
          ],
          [
           "Has a Disabling Condition"
          ],
          [
           "Does Not Have a Disabling Condition"
          ],
          [
           "Client Doesn't Know or Client Refused"
          ],
          [
           "American Indian or Alaskan Native"
          ],
          [
           "Asian"
          ],
          [
           "Black or African American"
          ],
          [
           "Native Hawaiian or Other Pacific Islander"
          ],
          [
           "White"
          ],
          [
           "Client Doesn't Know or Client Refused"
          ],
          [
           "Hispanic/Latino"
          ],
          [
           "Non-Hispanic/Non-Latino"
          ],
          [
           "Client Doesn't Know or Client Refused"
          ],
          [
           "Female"
          ],
          [
           "Male"
          ],
          [
           "Trans Female"
          ],
          [
           "Trans Male"
          ],
          [
           "Gender Non-Conforming"
          ],
          [
           "Client Doesn't Know or Client Refused"
          ],
          [
           "Veteran"
          ],
          [
           "Not a Veteran"
          ],
          [
           "Client Doesn't Know or Client Refused"
          ],
          [
           "Adult 25-61"
          ],
          [
           "Adult 18-24"
          ],
          [
           "Elder Adult 62+"
          ],
          [
           "Children"
          ],
          [
           "Client Doesn't Know or Client Refused"
          ],
          [
           "Has a Disabling Condition"
          ],
          [
           "Does Not Have a Disabling Condition"
          ],
          [
           "Client Doesn't Know or Client Refused"
          ],
          [
           "American Indian or Alaskan Native"
          ],
          [
           "Asian"
          ],
          [
           "Black or African American"
          ],
          [
           "Native Hawaiian or Other Pacific Islander"
          ],
          [
           "White"
          ],
          [
           "Client Doesn't Know or Client Refused"
          ],
          [
           "Hispanic/Latino"
          ],
          [
           "Non-Hispanic/Non-Latino"
          ],
          [
           "Client Doesn't Know or Client Refused"
          ],
          [
           "Female"
          ],
          [
           "Male"
          ],
          [
           "Trans Female"
          ],
          [
           "Trans Male"
          ],
          [
           "Gender Non-Conforming"
          ],
          [
           "Client Doesn't Know or Client Refused"
          ],
          [
           "Veteran"
          ],
          [
           "Not a Veteran"
          ],
          [
           "Client Doesn't Know or Client Refused"
          ],
          [
           "Adult 25-61"
          ],
          [
           "Adult 18-24"
          ],
          [
           "Elder Adult 62+"
          ],
          [
           "Children"
          ],
          [
           "Client Doesn't Know or Client Refused"
          ],
          [
           "Has a Disabling Condition"
          ],
          [
           "Does Not Have a Disabling Condition"
          ],
          [
           "Client Doesn't Know or Client Refused"
          ],
          [
           "American Indian or Alaskan Native"
          ],
          [
           "Asian"
          ],
          [
           "Black or African American"
          ],
          [
           "Native Hawaiian or Other Pacific Islander"
          ],
          [
           "White"
          ],
          [
           "Client Doesn't Know or Client Refused"
          ],
          [
           "Hispanic/Latino"
          ],
          [
           "Non-Hispanic/Non-Latino"
          ],
          [
           "Client Doesn't Know or Client Refused"
          ],
          [
           "Female"
          ],
          [
           "Male"
          ],
          [
           "Trans Female"
          ],
          [
           "Trans Male"
          ],
          [
           "Gender Non-Conforming"
          ],
          [
           "Client Doesn't Know or Client Refused"
          ],
          [
           "Veteran"
          ],
          [
           "Not a Veteran"
          ],
          [
           "Client Doesn't Know or Client Refused"
          ],
          [
           "Adult 25-61"
          ],
          [
           "Adult 18-24"
          ],
          [
           "Elder Adult 62+"
          ],
          [
           "Children"
          ],
          [
           "Client Doesn't Know or Client Refused"
          ],
          [
           "Has a Disabling Condition"
          ],
          [
           "Does Not Have a Disabling Condition"
          ],
          [
           "Client Doesn't Know or Client Refused"
          ],
          [
           "American Indian or Alaskan Native"
          ],
          [
           "Asian"
          ],
          [
           "Black or African American"
          ],
          [
           "Native Hawaiian or Other Pacific Islander"
          ],
          [
           "White"
          ],
          [
           "Client Doesn't Know or Client Refused"
          ],
          [
           "Hispanic/Latino"
          ],
          [
           "Non-Hispanic/Non-Latino"
          ],
          [
           "Client Doesn't Know or Client Refused"
          ],
          [
           "Female"
          ],
          [
           "Male"
          ],
          [
           "Trans Female"
          ],
          [
           "Trans Male"
          ],
          [
           "Gender Non-Conforming"
          ],
          [
           "Client Doesn't Know or Client Refused"
          ],
          [
           "Veteran"
          ],
          [
           "Not a Veteran"
          ],
          [
           "Client Doesn't Know or Client Refused"
          ],
          [
           "Adult 25-61"
          ],
          [
           "Adult 18-24"
          ],
          [
           "Elder Adult 62+"
          ],
          [
           "Children"
          ],
          [
           "Client Doesn't Know or Client Refused"
          ],
          [
           "Has a Disabling Condition"
          ],
          [
           "Does Not Have a Disabling Condition"
          ],
          [
           "Client Doesn't Know or Client Refused"
          ]
         ],
         "hovertemplate": "<b>%{hovertext}</b><br><br>Fiscal Year=2019<br>Rate=%{y}<br>Specific Demographic=%{customdata[0]}<extra></extra>",
         "hovertext": [
          "Race",
          "Race",
          "Race",
          "Race",
          "Race",
          "Race",
          "Ethnicity",
          "Ethnicity",
          "Ethnicity",
          "Gender",
          "Gender",
          "Gender",
          "Gender",
          "Gender",
          "Gender",
          "Veteran Status",
          "Veteran Status",
          "Veteran Status",
          "Age Category",
          "Age Category",
          "Age Category",
          "Age Category",
          "Age Category",
          "Disability Status",
          "Disability Status",
          "Disability Status",
          "Race",
          "Race",
          "Race",
          "Race",
          "Race",
          "Race",
          "Ethnicity",
          "Ethnicity",
          "Ethnicity",
          "Gender",
          "Gender",
          "Gender",
          "Gender",
          "Gender",
          "Gender",
          "Veteran Status",
          "Veteran Status",
          "Veteran Status",
          "Age Category",
          "Age Category",
          "Age Category",
          "Age Category",
          "Age Category",
          "Disability Status",
          "Disability Status",
          "Disability Status",
          "Race",
          "Race",
          "Race",
          "Race",
          "Race",
          "Race",
          "Ethnicity",
          "Ethnicity",
          "Ethnicity",
          "Gender",
          "Gender",
          "Gender",
          "Gender",
          "Gender",
          "Gender",
          "Veteran Status",
          "Veteran Status",
          "Veteran Status",
          "Age Category",
          "Age Category",
          "Age Category",
          "Age Category",
          "Age Category",
          "Disability Status",
          "Disability Status",
          "Disability Status",
          "Race",
          "Race",
          "Race",
          "Race",
          "Race",
          "Race",
          "Ethnicity",
          "Ethnicity",
          "Ethnicity",
          "Gender",
          "Gender",
          "Gender",
          "Gender",
          "Gender",
          "Gender",
          "Veteran Status",
          "Veteran Status",
          "Veteran Status",
          "Age Category",
          "Age Category",
          "Age Category",
          "Age Category",
          "Age Category",
          "Disability Status",
          "Disability Status",
          "Disability Status",
          "Race",
          "Race",
          "Race",
          "Race",
          "Race",
          "Race",
          "Ethnicity",
          "Ethnicity",
          "Ethnicity",
          "Gender",
          "Gender",
          "Gender",
          "Gender",
          "Gender",
          "Gender",
          "Veteran Status",
          "Veteran Status",
          "Veteran Status",
          "Age Category",
          "Age Category",
          "Age Category",
          "Age Category",
          "Age Category",
          "Disability Status",
          "Disability Status",
          "Disability Status"
         ],
         "legendgroup": "2019",
         "marker": {
          "color": "#00cc96"
         },
         "name": "2019",
         "offsetgroup": "2019",
         "orientation": "v",
         "points": "all",
         "scalegroup": "True",
         "showlegend": true,
         "type": "violin",
         "x0": " ",
         "xaxis": "x",
         "y": [
          0,
          0,
          0.33,
          0,
          0.43,
          0,
          1,
          0.25,
          0,
          0.4,
          0.4,
          0,
          0,
          0,
          0,
          0,
          0.33,
          0,
          0.5,
          0,
          1,
          0,
          0,
          0.44,
          0,
          0,
          0.25,
          0,
          0.15,
          0,
          0.26,
          0.33,
          0.23,
          0.18,
          0,
          0.21,
          0.17,
          0.5,
          0.5,
          0,
          0,
          0.35,
          0.18,
          0,
          0.22,
          0.19,
          0.36,
          0.14,
          0,
          0.3,
          0.15,
          0,
          0,
          0,
          0.14,
          0,
          0.16,
          0,
          0.18,
          0.14,
          0,
          0.17,
          0.13,
          0,
          0,
          0,
          0,
          0.17,
          0.13,
          0,
          0.09,
          0.21,
          0,
          0.14,
          0,
          0.09,
          0.17,
          0,
          0,
          0,
          0.43,
          0,
          0.09,
          0,
          0,
          0.19,
          0,
          0,
          0.17,
          0,
          0,
          0,
          0,
          0.17,
          0,
          0,
          0.19,
          0,
          0,
          0,
          0,
          0.15,
          0.33,
          0,
          0.22,
          0,
          0.17,
          0,
          0.13,
          0,
          0.11,
          0.16,
          0,
          0.09,
          0.19,
          0.2,
          0,
          0,
          0,
          0.21,
          0.13,
          0,
          0.19,
          0.19,
          0.17,
          0.05,
          0,
          0.17,
          0.12,
          0
         ],
         "y0": " ",
         "yaxis": "y"
        },
        {
         "alignmentgroup": "True",
         "box": {
          "visible": false
         },
         "customdata": [
          [
           "AmIndAKNative"
          ],
          [
           "Asian"
          ],
          [
           "BlackAfAmerican"
          ],
          [
           "NativeHIOtherPacific"
          ],
          [
           "Two or more races"
          ],
          [
           "Unknown"
          ],
          [
           "White"
          ],
          [
           "AmIndAKNative"
          ],
          [
           "Asian"
          ],
          [
           "BlackAfAmerican"
          ],
          [
           "Two or more races"
          ],
          [
           "Unknown"
          ],
          [
           "White"
          ],
          [
           "AmIndAKNative"
          ],
          [
           "BlackAfAmerican"
          ],
          [
           "Two or more races"
          ],
          [
           "Unknown"
          ],
          [
           "White"
          ],
          [
           "AmIndAKNative"
          ],
          [
           "BlackAfAmerican"
          ],
          [
           "Two or more races"
          ],
          [
           "Unknown"
          ],
          [
           "White"
          ],
          [
           "BlackAfAmerican"
          ],
          [
           "Two or more races"
          ],
          [
           "Unknown"
          ],
          [
           "White"
          ],
          [
           "Hispanic/Latino"
          ],
          [
           "Non-Hispanic/Non-Latino"
          ],
          [
           "Unknown"
          ],
          [
           "Hispanic/Latino"
          ],
          [
           "Non-Hispanic/Non-Latino"
          ],
          [
           "Unknown"
          ],
          [
           "Hispanic/Latino"
          ],
          [
           "Non-Hispanic/Non-Latino"
          ],
          [
           "Hispanic/Latino"
          ],
          [
           "Non-Hispanic/Non-Latino"
          ],
          [
           "Hispanic/Latino"
          ],
          [
           "Non-Hispanic/Non-Latino"
          ],
          [
           "Unknown"
          ],
          [
           "Female"
          ],
          [
           "Gender non-conforming"
          ],
          [
           "Male"
          ],
          [
           "Trans Female"
          ],
          [
           "Female"
          ],
          [
           "Male"
          ],
          [
           "Trans Female"
          ],
          [
           "Unknown"
          ],
          [
           "Gender non-conforming"
          ],
          [
           "Male"
          ],
          [
           "Trans Female"
          ],
          [
           "Female"
          ],
          [
           "Male"
          ],
          [
           "Trans Male"
          ],
          [
           "Female"
          ],
          [
           "Male"
          ],
          [
           "No"
          ],
          [
           "Unknown"
          ],
          [
           "Yes"
          ],
          [
           "No"
          ],
          [
           "Unknown"
          ],
          [
           "Yes"
          ],
          [
           "Unknown"
          ],
          [
           "Yes"
          ],
          [
           "No"
          ],
          [
           "Unknown"
          ],
          [
           "Yes"
          ],
          [
           "No"
          ],
          [
           "Yes"
          ],
          [
           "Adult under 62"
          ],
          [
           "Children"
          ],
          [
           "Elder Adult"
          ],
          [
           "Young Adult"
          ],
          [
           "Adult under 62"
          ],
          [
           "Children"
          ],
          [
           "Elder Adult"
          ],
          [
           "Unknown"
          ],
          [
           "Young Adult"
          ],
          [
           "Adult under 62"
          ],
          [
           "Elder Adult"
          ],
          [
           "Adult under 62"
          ],
          [
           "Elder Adult"
          ],
          [
           "Young Adult"
          ],
          [
           "Adult under 62"
          ],
          [
           "Children"
          ],
          [
           "Elder Adult"
          ],
          [
           "Young Adult"
          ],
          [
           "No"
          ],
          [
           "Yes"
          ],
          [
           "No"
          ],
          [
           "Unknown"
          ],
          [
           "Yes"
          ],
          [
           "No"
          ],
          [
           "Yes"
          ],
          [
           "No"
          ],
          [
           "Unknown"
          ],
          [
           "Yes"
          ],
          [
           "No"
          ],
          [
           "Unknown"
          ],
          [
           "Yes"
          ]
         ],
         "hovertemplate": "<b>%{hovertext}</b><br><br>Fiscal Year=2020<br>Rate=%{y}<br>Specific Demographic=%{customdata[0]}<extra></extra>",
         "hovertext": [
          "Race",
          "Race",
          "Race",
          "Race",
          "Race",
          "Race",
          "Race",
          "Race",
          "Race",
          "Race",
          "Race",
          "Race",
          "Race",
          "Race",
          "Race",
          "Race",
          "Race",
          "Race",
          "Race",
          "Race",
          "Race",
          "Race",
          "Race",
          "Race",
          "Race",
          "Race",
          "Race",
          "Ethnicity",
          "Ethnicity",
          "Ethnicity",
          "Ethnicity",
          "Ethnicity",
          "Ethnicity",
          "Ethnicity",
          "Ethnicity",
          "Ethnicity",
          "Ethnicity",
          "Ethnicity",
          "Ethnicity",
          "Ethnicity",
          "Gender",
          "Gender",
          "Gender",
          "Gender",
          "Gender",
          "Gender",
          "Gender",
          "Gender",
          "Gender",
          "Gender",
          "Gender",
          "Gender",
          "Gender",
          "Gender",
          "Gender",
          "Gender",
          "Veteran",
          "Veteran",
          "Veteran",
          "Veteran",
          "Veteran",
          "Veteran",
          "Veteran",
          "Veteran",
          "Veteran",
          "Veteran",
          "Veteran",
          "Veteran",
          "Veteran",
          "Age",
          "Age",
          "Age",
          "Age",
          "Age",
          "Age",
          "Age",
          "Age",
          "Age",
          "Age",
          "Age",
          "Age",
          "Age",
          "Age",
          "Age",
          "Age",
          "Age",
          "Age",
          "Disability",
          "Disability",
          "Disability",
          "Disability",
          "Disability",
          "Disability",
          "Disability",
          "Disability",
          "Disability",
          "Disability",
          "Disability",
          "Disability",
          "Disability"
         ],
         "legendgroup": "2020",
         "marker": {
          "color": "#ab63fa"
         },
         "name": "2020",
         "offsetgroup": "2020",
         "orientation": "v",
         "points": "all",
         "scalegroup": "True",
         "showlegend": true,
         "type": "violin",
         "x0": " ",
         "xaxis": "x",
         "y": [
          0,
          0.13,
          0.16,
          0,
          0.33,
          0,
          0.19,
          0,
          0,
          0.2,
          0.22,
          0.03,
          0.13,
          0,
          0.4,
          0,
          0,
          0.33,
          0,
          0.25,
          0.33,
          0.5,
          0.3,
          0.33,
          0,
          0,
          0.08,
          0.19,
          0.18,
          0,
          0.13,
          0.18,
          0.04,
          0,
          0.32,
          0.31,
          0.29,
          0.04,
          0.25,
          0,
          0.17,
          0,
          0.19,
          0.5,
          0.17,
          0.17,
          0,
          0,
          0,
          0.28,
          0,
          0.14,
          0.35,
          1,
          0.15,
          0.2,
          0.18,
          0,
          0.19,
          0.14,
          0,
          0.24,
          0,
          0.27,
          0.33,
          0,
          0.25,
          0.15,
          0.23,
          0.22,
          0.11,
          0.26,
          0.14,
          0.2,
          0.11,
          0.13,
          0,
          0.18,
          0.35,
          0.09,
          0.17,
          0.5,
          0.45,
          0.19,
          0.16,
          0,
          0.24,
          0.14,
          0.25,
          0.15,
          0.03,
          0.18,
          0,
          0.28,
          0.29,
          0.3,
          0.29,
          0.17,
          0.15,
          0.26
         ],
         "y0": " ",
         "yaxis": "y"
        }
       ],
       "layout": {
        "legend": {
         "title": {
          "text": "Fiscal Year"
         },
         "tracegroupgap": 0
        },
        "margin": {
         "t": 60
        },
        "template": {
         "data": {
          "bar": [
           {
            "error_x": {
             "color": "#2a3f5f"
            },
            "error_y": {
             "color": "#2a3f5f"
            },
            "marker": {
             "line": {
              "color": "#E5ECF6",
              "width": 0.5
             },
             "pattern": {
              "fillmode": "overlay",
              "size": 10,
              "solidity": 0.2
             }
            },
            "type": "bar"
           }
          ],
          "barpolar": [
           {
            "marker": {
             "line": {
              "color": "#E5ECF6",
              "width": 0.5
             },
             "pattern": {
              "fillmode": "overlay",
              "size": 10,
              "solidity": 0.2
             }
            },
            "type": "barpolar"
           }
          ],
          "carpet": [
           {
            "aaxis": {
             "endlinecolor": "#2a3f5f",
             "gridcolor": "white",
             "linecolor": "white",
             "minorgridcolor": "white",
             "startlinecolor": "#2a3f5f"
            },
            "baxis": {
             "endlinecolor": "#2a3f5f",
             "gridcolor": "white",
             "linecolor": "white",
             "minorgridcolor": "white",
             "startlinecolor": "#2a3f5f"
            },
            "type": "carpet"
           }
          ],
          "choropleth": [
           {
            "colorbar": {
             "outlinewidth": 0,
             "ticks": ""
            },
            "type": "choropleth"
           }
          ],
          "contour": [
           {
            "colorbar": {
             "outlinewidth": 0,
             "ticks": ""
            },
            "colorscale": [
             [
              0,
              "#0d0887"
             ],
             [
              0.1111111111111111,
              "#46039f"
             ],
             [
              0.2222222222222222,
              "#7201a8"
             ],
             [
              0.3333333333333333,
              "#9c179e"
             ],
             [
              0.4444444444444444,
              "#bd3786"
             ],
             [
              0.5555555555555556,
              "#d8576b"
             ],
             [
              0.6666666666666666,
              "#ed7953"
             ],
             [
              0.7777777777777778,
              "#fb9f3a"
             ],
             [
              0.8888888888888888,
              "#fdca26"
             ],
             [
              1,
              "#f0f921"
             ]
            ],
            "type": "contour"
           }
          ],
          "contourcarpet": [
           {
            "colorbar": {
             "outlinewidth": 0,
             "ticks": ""
            },
            "type": "contourcarpet"
           }
          ],
          "heatmap": [
           {
            "colorbar": {
             "outlinewidth": 0,
             "ticks": ""
            },
            "colorscale": [
             [
              0,
              "#0d0887"
             ],
             [
              0.1111111111111111,
              "#46039f"
             ],
             [
              0.2222222222222222,
              "#7201a8"
             ],
             [
              0.3333333333333333,
              "#9c179e"
             ],
             [
              0.4444444444444444,
              "#bd3786"
             ],
             [
              0.5555555555555556,
              "#d8576b"
             ],
             [
              0.6666666666666666,
              "#ed7953"
             ],
             [
              0.7777777777777778,
              "#fb9f3a"
             ],
             [
              0.8888888888888888,
              "#fdca26"
             ],
             [
              1,
              "#f0f921"
             ]
            ],
            "type": "heatmap"
           }
          ],
          "heatmapgl": [
           {
            "colorbar": {
             "outlinewidth": 0,
             "ticks": ""
            },
            "colorscale": [
             [
              0,
              "#0d0887"
             ],
             [
              0.1111111111111111,
              "#46039f"
             ],
             [
              0.2222222222222222,
              "#7201a8"
             ],
             [
              0.3333333333333333,
              "#9c179e"
             ],
             [
              0.4444444444444444,
              "#bd3786"
             ],
             [
              0.5555555555555556,
              "#d8576b"
             ],
             [
              0.6666666666666666,
              "#ed7953"
             ],
             [
              0.7777777777777778,
              "#fb9f3a"
             ],
             [
              0.8888888888888888,
              "#fdca26"
             ],
             [
              1,
              "#f0f921"
             ]
            ],
            "type": "heatmapgl"
           }
          ],
          "histogram": [
           {
            "marker": {
             "pattern": {
              "fillmode": "overlay",
              "size": 10,
              "solidity": 0.2
             }
            },
            "type": "histogram"
           }
          ],
          "histogram2d": [
           {
            "colorbar": {
             "outlinewidth": 0,
             "ticks": ""
            },
            "colorscale": [
             [
              0,
              "#0d0887"
             ],
             [
              0.1111111111111111,
              "#46039f"
             ],
             [
              0.2222222222222222,
              "#7201a8"
             ],
             [
              0.3333333333333333,
              "#9c179e"
             ],
             [
              0.4444444444444444,
              "#bd3786"
             ],
             [
              0.5555555555555556,
              "#d8576b"
             ],
             [
              0.6666666666666666,
              "#ed7953"
             ],
             [
              0.7777777777777778,
              "#fb9f3a"
             ],
             [
              0.8888888888888888,
              "#fdca26"
             ],
             [
              1,
              "#f0f921"
             ]
            ],
            "type": "histogram2d"
           }
          ],
          "histogram2dcontour": [
           {
            "colorbar": {
             "outlinewidth": 0,
             "ticks": ""
            },
            "colorscale": [
             [
              0,
              "#0d0887"
             ],
             [
              0.1111111111111111,
              "#46039f"
             ],
             [
              0.2222222222222222,
              "#7201a8"
             ],
             [
              0.3333333333333333,
              "#9c179e"
             ],
             [
              0.4444444444444444,
              "#bd3786"
             ],
             [
              0.5555555555555556,
              "#d8576b"
             ],
             [
              0.6666666666666666,
              "#ed7953"
             ],
             [
              0.7777777777777778,
              "#fb9f3a"
             ],
             [
              0.8888888888888888,
              "#fdca26"
             ],
             [
              1,
              "#f0f921"
             ]
            ],
            "type": "histogram2dcontour"
           }
          ],
          "mesh3d": [
           {
            "colorbar": {
             "outlinewidth": 0,
             "ticks": ""
            },
            "type": "mesh3d"
           }
          ],
          "parcoords": [
           {
            "line": {
             "colorbar": {
              "outlinewidth": 0,
              "ticks": ""
             }
            },
            "type": "parcoords"
           }
          ],
          "pie": [
           {
            "automargin": true,
            "type": "pie"
           }
          ],
          "scatter": [
           {
            "marker": {
             "colorbar": {
              "outlinewidth": 0,
              "ticks": ""
             }
            },
            "type": "scatter"
           }
          ],
          "scatter3d": [
           {
            "line": {
             "colorbar": {
              "outlinewidth": 0,
              "ticks": ""
             }
            },
            "marker": {
             "colorbar": {
              "outlinewidth": 0,
              "ticks": ""
             }
            },
            "type": "scatter3d"
           }
          ],
          "scattercarpet": [
           {
            "marker": {
             "colorbar": {
              "outlinewidth": 0,
              "ticks": ""
             }
            },
            "type": "scattercarpet"
           }
          ],
          "scattergeo": [
           {
            "marker": {
             "colorbar": {
              "outlinewidth": 0,
              "ticks": ""
             }
            },
            "type": "scattergeo"
           }
          ],
          "scattergl": [
           {
            "marker": {
             "colorbar": {
              "outlinewidth": 0,
              "ticks": ""
             }
            },
            "type": "scattergl"
           }
          ],
          "scattermapbox": [
           {
            "marker": {
             "colorbar": {
              "outlinewidth": 0,
              "ticks": ""
             }
            },
            "type": "scattermapbox"
           }
          ],
          "scatterpolar": [
           {
            "marker": {
             "colorbar": {
              "outlinewidth": 0,
              "ticks": ""
             }
            },
            "type": "scatterpolar"
           }
          ],
          "scatterpolargl": [
           {
            "marker": {
             "colorbar": {
              "outlinewidth": 0,
              "ticks": ""
             }
            },
            "type": "scatterpolargl"
           }
          ],
          "scatterternary": [
           {
            "marker": {
             "colorbar": {
              "outlinewidth": 0,
              "ticks": ""
             }
            },
            "type": "scatterternary"
           }
          ],
          "surface": [
           {
            "colorbar": {
             "outlinewidth": 0,
             "ticks": ""
            },
            "colorscale": [
             [
              0,
              "#0d0887"
             ],
             [
              0.1111111111111111,
              "#46039f"
             ],
             [
              0.2222222222222222,
              "#7201a8"
             ],
             [
              0.3333333333333333,
              "#9c179e"
             ],
             [
              0.4444444444444444,
              "#bd3786"
             ],
             [
              0.5555555555555556,
              "#d8576b"
             ],
             [
              0.6666666666666666,
              "#ed7953"
             ],
             [
              0.7777777777777778,
              "#fb9f3a"
             ],
             [
              0.8888888888888888,
              "#fdca26"
             ],
             [
              1,
              "#f0f921"
             ]
            ],
            "type": "surface"
           }
          ],
          "table": [
           {
            "cells": {
             "fill": {
              "color": "#EBF0F8"
             },
             "line": {
              "color": "white"
             }
            },
            "header": {
             "fill": {
              "color": "#C8D4E3"
             },
             "line": {
              "color": "white"
             }
            },
            "type": "table"
           }
          ]
         },
         "layout": {
          "annotationdefaults": {
           "arrowcolor": "#2a3f5f",
           "arrowhead": 0,
           "arrowwidth": 1
          },
          "autotypenumbers": "strict",
          "coloraxis": {
           "colorbar": {
            "outlinewidth": 0,
            "ticks": ""
           }
          },
          "colorscale": {
           "diverging": [
            [
             0,
             "#8e0152"
            ],
            [
             0.1,
             "#c51b7d"
            ],
            [
             0.2,
             "#de77ae"
            ],
            [
             0.3,
             "#f1b6da"
            ],
            [
             0.4,
             "#fde0ef"
            ],
            [
             0.5,
             "#f7f7f7"
            ],
            [
             0.6,
             "#e6f5d0"
            ],
            [
             0.7,
             "#b8e186"
            ],
            [
             0.8,
             "#7fbc41"
            ],
            [
             0.9,
             "#4d9221"
            ],
            [
             1,
             "#276419"
            ]
           ],
           "sequential": [
            [
             0,
             "#0d0887"
            ],
            [
             0.1111111111111111,
             "#46039f"
            ],
            [
             0.2222222222222222,
             "#7201a8"
            ],
            [
             0.3333333333333333,
             "#9c179e"
            ],
            [
             0.4444444444444444,
             "#bd3786"
            ],
            [
             0.5555555555555556,
             "#d8576b"
            ],
            [
             0.6666666666666666,
             "#ed7953"
            ],
            [
             0.7777777777777778,
             "#fb9f3a"
            ],
            [
             0.8888888888888888,
             "#fdca26"
            ],
            [
             1,
             "#f0f921"
            ]
           ],
           "sequentialminus": [
            [
             0,
             "#0d0887"
            ],
            [
             0.1111111111111111,
             "#46039f"
            ],
            [
             0.2222222222222222,
             "#7201a8"
            ],
            [
             0.3333333333333333,
             "#9c179e"
            ],
            [
             0.4444444444444444,
             "#bd3786"
            ],
            [
             0.5555555555555556,
             "#d8576b"
            ],
            [
             0.6666666666666666,
             "#ed7953"
            ],
            [
             0.7777777777777778,
             "#fb9f3a"
            ],
            [
             0.8888888888888888,
             "#fdca26"
            ],
            [
             1,
             "#f0f921"
            ]
           ]
          },
          "colorway": [
           "#636efa",
           "#EF553B",
           "#00cc96",
           "#ab63fa",
           "#FFA15A",
           "#19d3f3",
           "#FF6692",
           "#B6E880",
           "#FF97FF",
           "#FECB52"
          ],
          "font": {
           "color": "#2a3f5f"
          },
          "geo": {
           "bgcolor": "white",
           "lakecolor": "white",
           "landcolor": "#E5ECF6",
           "showlakes": true,
           "showland": true,
           "subunitcolor": "white"
          },
          "hoverlabel": {
           "align": "left"
          },
          "hovermode": "closest",
          "mapbox": {
           "style": "light"
          },
          "paper_bgcolor": "white",
          "plot_bgcolor": "#E5ECF6",
          "polar": {
           "angularaxis": {
            "gridcolor": "white",
            "linecolor": "white",
            "ticks": ""
           },
           "bgcolor": "#E5ECF6",
           "radialaxis": {
            "gridcolor": "white",
            "linecolor": "white",
            "ticks": ""
           }
          },
          "scene": {
           "xaxis": {
            "backgroundcolor": "#E5ECF6",
            "gridcolor": "white",
            "gridwidth": 2,
            "linecolor": "white",
            "showbackground": true,
            "ticks": "",
            "zerolinecolor": "white"
           },
           "yaxis": {
            "backgroundcolor": "#E5ECF6",
            "gridcolor": "white",
            "gridwidth": 2,
            "linecolor": "white",
            "showbackground": true,
            "ticks": "",
            "zerolinecolor": "white"
           },
           "zaxis": {
            "backgroundcolor": "#E5ECF6",
            "gridcolor": "white",
            "gridwidth": 2,
            "linecolor": "white",
            "showbackground": true,
            "ticks": "",
            "zerolinecolor": "white"
           }
          },
          "shapedefaults": {
           "line": {
            "color": "#2a3f5f"
           }
          },
          "ternary": {
           "aaxis": {
            "gridcolor": "white",
            "linecolor": "white",
            "ticks": ""
           },
           "baxis": {
            "gridcolor": "white",
            "linecolor": "white",
            "ticks": ""
           },
           "bgcolor": "#E5ECF6",
           "caxis": {
            "gridcolor": "white",
            "linecolor": "white",
            "ticks": ""
           }
          },
          "title": {
           "x": 0.05
          },
          "xaxis": {
           "automargin": true,
           "gridcolor": "white",
           "linecolor": "white",
           "ticks": "",
           "title": {
            "standoff": 15
           },
           "zerolinecolor": "white",
           "zerolinewidth": 2
          },
          "yaxis": {
           "automargin": true,
           "gridcolor": "white",
           "linecolor": "white",
           "ticks": "",
           "title": {
            "standoff": 15
           },
           "zerolinecolor": "white",
           "zerolinewidth": 2
          }
         }
        },
        "violinmode": "group",
        "xaxis": {
         "anchor": "y",
         "domain": [
          0,
          1
         ]
        },
        "yaxis": {
         "anchor": "x",
         "domain": [
          0,
          1
         ],
         "title": {
          "text": "Rate"
         }
        }
       }
      }
     },
     "metadata": {}
    }
   ],
   "metadata": {}
  },
  {
   "cell_type": "code",
   "execution_count": 25,
   "source": [
    "fig = px.scatter(df,x='Demographic Category', y='Rate',color='Fiscal Year',hover_name='Specific Demographic',hover_data=['Numerator','Denominator'])\r\n",
    "fig.show()"
   ],
   "outputs": [
    {
     "output_type": "display_data",
     "data": {
      "application/vnd.plotly.v1+json": {
       "config": {
        "plotlyServerURL": "https://plot.ly"
       },
       "data": [
        {
         "customdata": [
          [
           0,
           0
          ],
          [
           0,
           0
          ],
          [
           0,
           0
          ],
          [
           0,
           0
          ],
          [
           0,
           0
          ],
          [
           0,
           0
          ],
          [
           0,
           0
          ],
          [
           0,
           0
          ],
          [
           0,
           0
          ],
          [
           0,
           0
          ],
          [
           0,
           0
          ],
          [
           0,
           0
          ],
          [
           0,
           0
          ],
          [
           0,
           0
          ],
          [
           0,
           0
          ],
          [
           0,
           0
          ],
          [
           0,
           0
          ],
          [
           0,
           0
          ],
          [
           0,
           0
          ],
          [
           0,
           0
          ],
          [
           0,
           0
          ],
          [
           0,
           0
          ],
          [
           0,
           0
          ],
          [
           0,
           0
          ],
          [
           0,
           0
          ],
          [
           0,
           0
          ],
          [
           1,
           3
          ],
          [
           0,
           11
          ],
          [
           57,
           202
          ],
          [
           0,
           1
          ],
          [
           56,
           237
          ],
          [
           0,
           0
          ],
          [
           21,
           166
          ],
          [
           93,
           288
          ],
          [
           0,
           0
          ],
          [
           63,
           268
          ],
          [
           50,
           184
          ],
          [
           1,
           2
          ],
          [
           0,
           0
          ],
          [
           0,
           0
          ],
          [
           0,
           0
          ],
          [
           16,
           34
          ],
          [
           98,
           419
          ],
          [
           0,
           0
          ],
          [
           82,
           260
          ],
          [
           4,
           22
          ],
          [
           6,
           14
          ],
          [
           22,
           158
          ],
          [
           0,
           0
          ],
          [
           53,
           133
          ],
          [
           61,
           309
          ],
          [
           0,
           12
          ],
          [
           0,
           1
          ],
          [
           0,
           0
          ],
          [
           3,
           59
          ],
          [
           0,
           0
          ],
          [
           2,
           64
          ],
          [
           0,
           1
          ],
          [
           0,
           58
          ],
          [
           5,
           66
          ],
          [
           0,
           1
          ],
          [
           2,
           72
          ],
          [
           3,
           53
          ],
          [
           0,
           0
          ],
          [
           0,
           0
          ],
          [
           0,
           0
          ],
          [
           0,
           0
          ],
          [
           0,
           8
          ],
          [
           5,
           117
          ],
          [
           0,
           0
          ],
          [
           1,
           34
          ],
          [
           2,
           27
          ],
          [
           0,
           0
          ],
          [
           2,
           64
          ],
          [
           0,
           0
          ],
          [
           0,
           20
          ],
          [
           5,
           104
          ],
          [
           0,
           0
          ],
          [
           0,
           3
          ],
          [
           0,
           0
          ],
          [
           2,
           11
          ],
          [
           0,
           0
          ],
          [
           25,
           18
          ],
          [
           0,
           1
          ],
          [
           0,
           2
          ],
          [
           7,
           30
          ],
          [
           0,
           1
          ],
          [
           1,
           6
          ],
          [
           6,
           27
          ],
          [
           0,
           0
          ],
          [
           0,
           0
          ],
          [
           0,
           0
          ],
          [
           0,
           0
          ],
          [
           6,
           31
          ],
          [
           1,
           1
          ],
          [
           0,
           0
          ],
          [
           7,
           28
          ],
          [
           0,
           0
          ],
          [
           0,
           5
          ],
          [
           0,
           0
          ],
          [
           0,
           0
          ],
          [
           6,
           31
          ],
          [
           1,
           2
          ],
          [
           0,
           0
          ],
          [
           0,
           1
          ],
          [
           0,
           4
          ],
          [
           61,
           396
          ],
          [
           0,
           10
          ],
          [
           46,
           329
          ],
          [
           1,
           15
          ],
          [
           22,
           198
          ],
          [
           86,
           551
          ],
          [
           1,
           6
          ],
          [
           36,
           339
          ],
          [
           73,
           415
          ],
          [
           0,
           1
          ],
          [
           0,
           0
          ],
          [
           0,
           0
          ],
          [
           0,
           0
          ],
          [
           25,
           103
          ],
          [
           84,
           651
          ],
          [
           0,
           1
          ],
          [
           75,
           402
          ],
          [
           7,
           52
          ],
          [
           6,
           31
          ],
          [
           45,
           270
          ],
          [
           0,
           0
          ],
          [
           121,
           321
          ],
          [
           47,
           432
          ],
          [
           0,
           2
          ],
          [
           0,
           0
          ],
          [
           0,
           0
          ],
          [
           0,
           0
          ],
          [
           0,
           0
          ],
          [
           3,
           8
          ],
          [
           0,
           0
          ],
          [
           1,
           3
          ],
          [
           2,
           5
          ],
          [
           0,
           0
          ],
          [
           0,
           0
          ],
          [
           3,
           8
          ],
          [
           0,
           0
          ],
          [
           0,
           0
          ],
          [
           0,
           0
          ],
          [
           0,
           0
          ],
          [
           2,
           2
          ],
          [
           1,
           6
          ],
          [
           0,
           0
          ],
          [
           2,
           3
          ],
          [
           1,
           5
          ],
          [
           0,
           0
          ],
          [
           0,
           0
          ],
          [
           0,
           0
          ],
          [
           2,
           4
          ],
          [
           1,
           4
          ],
          [
           0,
           0
          ],
          [
           2,
           3
          ],
          [
           1,
           8
          ],
          [
           45,
           261
          ],
          [
           1,
           5
          ],
          [
           62,
           268
          ],
          [
           0,
           11
          ],
          [
           18,
           170
          ],
          [
           92,
           383
          ],
          [
           1,
           3
          ],
          [
           55,
           248
          ],
          [
           56,
           304
          ],
          [
           0,
           2
          ],
          [
           0,
           1
          ],
          [
           0,
           0
          ],
          [
           0,
           1
          ],
          [
           18,
           72
          ],
          [
           93,
           483
          ],
          [
           0,
           0
          ],
          [
           80,
           330
          ],
          [
           5,
           35
          ],
          [
           11,
           34
          ],
          [
           15,
           157
          ],
          [
           0,
           0
          ],
          [
           52,
           172
          ],
          [
           59,
           379
          ],
          [
           0,
           5
          ],
          [
           0,
           0
          ],
          [
           0,
           1
          ],
          [
           13,
           80
          ],
          [
           0,
           0
          ],
          [
           17,
           99
          ],
          [
           0,
           0
          ],
          [
           11,
           68
          ],
          [
           19,
           112
          ],
          [
           0,
           0
          ],
          [
           20,
           105
          ],
          [
           10,
           73
          ],
          [
           0,
           1
          ],
          [
           0,
           1
          ],
          [
           0,
           0
          ],
          [
           0,
           0
          ],
          [
           9,
           51
          ],
          [
           21,
           129
          ],
          [
           0,
           0
          ],
          [
           13,
           69
          ],
          [
           5,
           28
          ],
          [
           1,
           8
          ],
          [
           11,
           75
          ],
          [
           0,
           0
          ],
          [
           6,
           43
          ],
          [
           24,
           136
          ],
          [
           0,
           0
          ],
          [
           0,
           0
          ],
          [
           0,
           0
          ],
          [
           5,
           12
          ],
          [
           0,
           0
          ],
          [
           5,
           23
          ],
          [
           0,
           0
          ],
          [
           0,
           1
          ],
          [
           10,
           34
          ],
          [
           0,
           0
          ],
          [
           0,
           0
          ],
          [
           10,
           35
          ],
          [
           10,
           0
          ],
          [
           0,
           0
          ],
          [
           0,
           0
          ],
          [
           0,
           0
          ],
          [
           10,
           35
          ],
          [
           0,
           0
          ],
          [
           0,
           0
          ],
          [
           6,
           26
          ],
          [
           0,
           0
          ],
          [
           4,
           9
          ],
          [
           0,
           0
          ],
          [
           0,
           0
          ],
          [
           9,
           30
          ],
          [
           1,
           5
          ],
          [
           0,
           0
          ],
          [
           0,
           5
          ],
          [
           0,
           2
          ],
          [
           86,
           387
          ],
          [
           0,
           3
          ],
          [
           58,
           368
          ],
          [
           0,
           8
          ],
          [
           24,
           215
          ],
          [
           120,
           557
          ],
          [
           0,
           1
          ],
          [
           40,
           337
          ],
          [
           104,
           436
          ],
          [
           0,
           0
          ],
          [
           0,
           0
          ],
          [
           0,
           0
          ],
          [
           0,
           0
          ],
          [
           58,
           199
          ],
          [
           86,
           574
          ],
          [
           0,
           0
          ],
          [
           98,
           444
          ],
          [
           7,
           23
          ],
          [
           10,
           39
          ],
          [
           29,
           267
          ],
          [
           0,
           0
          ],
          [
           90,
           376
          ],
          [
           53,
           395
          ],
          [
           1,
           2
          ],
          [
           0,
           0
          ],
          [
           0,
           0
          ],
          [
           1,
           3
          ],
          [
           0,
           0
          ],
          [
           3,
           7
          ],
          [
           0,
           0
          ],
          [
           2,
           2
          ],
          [
           2,
           8
          ],
          [
           0,
           0
          ],
          [
           2,
           5
          ],
          [
           2,
           5
          ],
          [
           0,
           0
          ],
          [
           0,
           0
          ],
          [
           0,
           0
          ],
          [
           0,
           0
          ],
          [
           0,
           0
          ],
          [
           3,
           9
          ],
          [
           0,
           0
          ],
          [
           3,
           6
          ],
          [
           0,
           3
          ],
          [
           1,
           1
          ],
          [
           0,
           0
          ],
          [
           0,
           0
          ],
          [
           4,
           9
          ],
          [
           0,
           1
          ],
          [
           0,
           0
          ],
          [
           1,
           4
          ],
          [
           0,
           2
          ],
          [
           47,
           322
          ],
          [
           0,
           3
          ],
          [
           59,
           227
          ],
          [
           1,
           3
          ],
          [
           38,
           165
          ],
          [
           70,
           395
          ],
          [
           0,
           1
          ],
          [
           61,
           285
          ],
          [
           45,
           272
          ],
          [
           1,
           2
          ],
          [
           1,
           2
          ],
          [
           0,
           0
          ],
          [
           0,
           0
          ],
          [
           17,
           49
          ],
          [
           91,
           511
          ],
          [
           0,
           0
          ],
          [
           68,
           310
          ],
          [
           7,
           36
          ],
          [
           5,
           14
          ],
          [
           28,
           201
          ],
          [
           0,
           0
          ],
          [
           47,
           159
          ],
          [
           61,
           402
          ],
          [
           0,
           0
          ],
          [
           0,
           0
          ],
          [
           0,
           1
          ],
          [
           8,
           56
          ],
          [
           0,
           0
          ],
          [
           9,
           57
          ],
          [
           0,
           0
          ],
          [
           6,
           33
          ],
          [
           11,
           80
          ],
          [
           0,
           1
          ],
          [
           8,
           46
          ],
          [
           9,
           68
          ],
          [
           0,
           0
          ],
          [
           0,
           0
          ],
          [
           0,
           0
          ],
          [
           0,
           0
          ],
          [
           8,
           47
          ],
          [
           9,
           67
          ],
          [
           0,
           0
          ],
          [
           2,
           22
          ],
          [
           10,
           47
          ],
          [
           0,
           8
          ],
          [
           5,
           37
          ],
          [
           0,
           0
          ],
          [
           3,
           32
          ],
          [
           14,
           82
          ],
          [
           0,
           0
          ],
          [
           0,
           0
          ],
          [
           0,
           1
          ],
          [
           3,
           7
          ],
          [
           0,
           0
          ],
          [
           2,
           22
          ],
          [
           0,
           0
          ],
          [
           0,
           3
          ],
          [
           5,
           27
          ],
          [
           0,
           0
          ],
          [
           0,
           0
          ],
          [
           5,
           30
          ],
          [
           0,
           0
          ],
          [
           0,
           0
          ],
          [
           0,
           0
          ],
          [
           0,
           0
          ],
          [
           5,
           30
          ],
          [
           0,
           0
          ],
          [
           0,
           0
          ],
          [
           5,
           26
          ],
          [
           0,
           0
          ],
          [
           0,
           4
          ],
          [
           0,
           0
          ],
          [
           0,
           0
          ],
          [
           4,
           27
          ],
          [
           1,
           3
          ],
          [
           0,
           0
          ],
          [
           2,
           9
          ],
          [
           0,
           3
          ],
          [
           62,
           358
          ],
          [
           0,
           0
          ],
          [
           54,
           422
          ],
          [
           0,
           5
          ],
          [
           22,
           203
          ],
          [
           96,
           594
          ],
          [
           0,
           0
          ],
          [
           27,
           307
          ],
          [
           90,
           484
          ],
          [
           1,
           5
          ],
          [
           0,
           1
          ],
          [
           0,
           0
          ],
          [
           0,
           0
          ],
          [
           44,
           205
          ],
          [
           74,
           588
          ],
          [
           0,
           0
          ],
          [
           89,
           475
          ],
          [
           8,
           43
          ],
          [
           10,
           58
          ],
          [
           11,
           222
          ],
          [
           0,
           0
          ],
          [
           76,
           439
          ],
          [
           42,
           354
          ],
          [
           0,
           2
          ],
          [
           0,
           1
          ],
          [
           1,
           8
          ],
          [
           68,
           420
          ],
          [
           0,
           2
          ],
          [
           14,
           42
          ],
          [
           0,
           3
          ],
          [
           76,
           398
          ],
          [
           0,
           12
          ],
          [
           0,
           1
          ],
          [
           52,
           256
          ],
          [
           13,
           59
          ],
          [
           1,
           35
          ],
          [
           40,
           297
          ],
          [
           0,
           1
          ],
          [
           2,
           5
          ],
          [
           0,
           6
          ],
          [
           0,
           1
          ],
          [
           7,
           21
          ],
          [
           0,
           1
          ],
          [
           2,
           8
          ],
          [
           1,
           3
          ],
          [
           1,
           2
          ],
          [
           8,
           27
          ],
          [
           19,
           58
          ],
          [
           0,
           10
          ],
          [
           0,
           2
          ],
          [
           6,
           71
          ],
          [
           57,
           305
          ],
          [
           102,
           568
          ],
          [
           0,
           1
          ],
          [
           21,
           163
          ],
          [
           84,
           472
          ],
          [
           1,
           25
          ],
          [
           0,
           6
          ],
          [
           9,
           28
          ],
          [
           4,
           13
          ],
          [
           8,
           28
          ],
          [
           2,
           48
          ],
          [
           23,
           92
          ],
          [
           0,
           1
          ],
          [
           66,
           385
          ],
          [
           0,
           1
          ],
          [
           91,
           484
          ],
          [
           2,
           4
          ],
          [
           43,
           257
          ],
          [
           63,
           377
          ],
          [
           0,
           4
          ],
          [
           0,
           22
          ],
          [
           0,
           1
          ],
          [
           9,
           32
          ],
          [
           0,
           1
          ],
          [
           2,
           14
          ],
          [
           9,
           26
          ],
          [
           1,
           1
          ],
          [
           10,
           67
          ],
          [
           15,
           74
          ],
          [
           145,
           801
          ],
          [
           0,
           1
          ],
          [
           14,
           72
          ],
          [
           64,
           461
          ],
          [
           0,
           23
          ],
          [
           42,
           176
          ],
          [
           0,
           1
          ],
          [
           9,
           33
          ],
          [
           11,
           33
          ],
          [
           0,
           4
          ],
          [
           1,
           4
          ],
          [
           15,
           97
          ],
          [
           10,
           44
          ],
          [
           113,
           521
          ],
          [
           25,
           238
          ],
          [
           11,
           43
          ],
          [
           10,
           72
          ],
          [
           68,
           344
          ],
          [
           20,
           174
          ],
          [
           10,
           76
          ],
          [
           0,
           22
          ],
          [
           8,
           44
          ],
          [
           8,
           23
          ],
          [
           1,
           11
          ],
          [
           4,
           24
          ],
          [
           3,
           6
          ],
          [
           5,
           11
          ],
          [
           12,
           64
          ],
          [
           8,
           50
          ],
          [
           0,
           6
          ],
          [
           5,
           21
          ],
          [
           81,
           564
          ],
          [
           78,
           310
          ],
          [
           42,
           272
          ],
          [
           1,
           30
          ],
          [
           63,
           358
          ],
          [
           0,
           2
          ],
          [
           9,
           32
          ],
          [
           2,
           7
          ],
          [
           3,
           10
          ],
          [
           7,
           24
          ],
          [
           6,
           36
          ],
          [
           12,
           78
          ],
          [
           7,
           27
          ]
         ],
         "hovertemplate": "<b>%{hovertext}</b><br><br>Demographic Category=%{x}<br>Rate=%{y}<br>Numerator=%{customdata[0]}<br>Denominator=%{customdata[1]}<br>Fiscal Year=%{marker.color}<extra></extra>",
         "hovertext": [
          "American Indian or Alaskan Native",
          "Asian",
          "Black or African American",
          "Native Hawaiian or Other Pacific Islander",
          "White",
          "Client Doesn't Know or Client Refused",
          "Hispanic/Latino",
          "Non-Hispanic/Non-Latino",
          "Client Doesn't Know or Client Refused",
          "Female",
          "Male",
          "Trans Female",
          "Trans Male",
          "Gender Non-Conforming",
          "Client Doesn't Know or Client Refused",
          "Veteran",
          "Not a Veteran",
          "Client Doesn't Know or Client Refused",
          "Adult 25-61",
          "Adult 18-24",
          "Elder Adult 62+",
          "Children",
          "Client Doesn't Know or Client Refused",
          "Has a Disabling Condition",
          "Does Not Have a Disabling Condition",
          "Client Doesn't Know or Client Refused",
          "American Indian or Alaskan Native",
          "Asian",
          "Black or African American",
          "Native Hawaiian or Other Pacific Islander",
          "White",
          "Client Doesn't Know or Client Refused",
          "Hispanic/Latino",
          "Non-Hispanic/Non-Latino",
          "Client Doesn't Know or Client Refused",
          "Female",
          "Male",
          "Trans Female",
          "Trans Male",
          "Gender Non-Conforming",
          "Client Doesn't Know or Client Refused",
          "Veteran",
          "Not a Veteran",
          "Client Doesn't Know or Client Refused",
          "Adult 25-61",
          "Adult 18-24",
          "Elder Adult 62+",
          "Children",
          "Client Doesn't Know or Client Refused",
          "Has a Disabling Condition",
          "Does Not Have a Disabling Condition",
          "Client Doesn't Know or Client Refused",
          "American Indian or Alaskan Native",
          "Asian",
          "Black or African American",
          "Native Hawaiian or Other Pacific Islander",
          "White",
          "Client Doesn't Know or Client Refused",
          "Hispanic/Latino",
          "Non-Hispanic/Non-Latino",
          "Client Doesn't Know or Client Refused",
          "Female",
          "Male",
          "Trans Female",
          "Trans Male",
          "Gender Non-Conforming",
          "Client Doesn't Know or Client Refused",
          "Veteran",
          "Not a Veteran",
          "Client Doesn't Know or Client Refused",
          "Adult 25-61",
          "Adult 18-24",
          "Elder Adult 62+",
          "Children",
          "Client Doesn't Know or Client Refused",
          "Has a Disabling Condition",
          "Does Not Have a Disabling Condition",
          "Client Doesn't Know or Client Refused",
          "American Indian or Alaskan Native",
          "Asian",
          "Black or African American",
          "Native Hawaiian or Other Pacific Islander",
          "White",
          "Client Doesn't Know or Client Refused",
          "Hispanic/Latino",
          "Non-Hispanic/Non-Latino",
          "Client Doesn't Know or Client Refused",
          "Female",
          "Male",
          "Trans Female",
          "Trans Male",
          "Gender Non-Conforming",
          "Client Doesn't Know or Client Refused",
          "Veteran",
          "Not a Veteran",
          "Client Doesn't Know or Client Refused",
          "Adult 25-61",
          "Adult 18-24",
          "Elder Adult 62+",
          "Children",
          "Client Doesn't Know or Client Refused",
          "Has a Disabling Condition",
          "Does Not Have a Disabling Condition",
          "Client Doesn't Know or Client Refused",
          "American Indian or Alaskan Native",
          "Asian",
          "Black or African American",
          "Native Hawaiian or Other Pacific Islander",
          "White",
          "Client Doesn't Know or Client Refused",
          "Hispanic/Latino",
          "Non-Hispanic/Non-Latino",
          "Client Doesn't Know or Client Refused",
          "Female",
          "Male",
          "Trans Female",
          "Trans Male",
          "Gender Non-Conforming",
          "Client Doesn't Know or Client Refused",
          "Veteran",
          "Not a Veteran",
          "Client Doesn't Know or Client Refused",
          "Adult 25-61",
          "Adult 18-24",
          "Elder Adult 62+",
          "Children",
          "Client Doesn't Know or Client Refused",
          "Has a Disabling Condition",
          "Does Not Have a Disabling Condition",
          "Client Doesn't Know or Client Refused",
          "American Indian or Alaskan Native",
          "Asian",
          "Black or African American",
          "Native Hawaiian or Other Pacific Islander",
          "White",
          "Client Doesn't Know or Client Refused",
          "Hispanic/Latino",
          "Non-Hispanic/Non-Latino",
          "Client Doesn't Know or Client Refused",
          "Female",
          "Male",
          "Trans Female",
          "Trans Male",
          "Gender Non-Conforming",
          "Client Doesn't Know or Client Refused",
          "Veteran",
          "Not a Veteran",
          "Client Doesn't Know or Client Refused",
          "Adult 25-61",
          "Adult 18-24",
          "Elder Adult 62+",
          "Children",
          "Client Doesn't Know or Client Refused",
          "Has a Disabling Condition",
          "Does Not Have a Disabling Condition",
          "Client Doesn't Know or Client Refused",
          "American Indian or Alaskan Native",
          "Asian",
          "Black or African American",
          "Native Hawaiian or Other Pacific Islander",
          "White",
          "Client Doesn't Know or Client Refused",
          "Hispanic/Latino",
          "Non-Hispanic/Non-Latino",
          "Client Doesn't Know or Client Refused",
          "Female",
          "Male",
          "Trans Female",
          "Trans Male",
          "Gender Non-Conforming",
          "Client Doesn't Know or Client Refused",
          "Veteran",
          "Not a Veteran",
          "Client Doesn't Know or Client Refused",
          "Adult 25-61",
          "Adult 18-24",
          "Elder Adult 62+",
          "Children",
          "Client Doesn't Know or Client Refused",
          "Has a Disabling Condition",
          "Does Not Have a Disabling Condition",
          "Client Doesn't Know or Client Refused",
          "American Indian or Alaskan Native",
          "Asian",
          "Black or African American",
          "Native Hawaiian or Other Pacific Islander",
          "White",
          "Client Doesn't Know or Client Refused",
          "Hispanic/Latino",
          "Non-Hispanic/Non-Latino",
          "Client Doesn't Know or Client Refused",
          "Female",
          "Male",
          "Trans Female",
          "Trans Male",
          "Gender Non-Conforming",
          "Client Doesn't Know or Client Refused",
          "Veteran",
          "Not a Veteran",
          "Client Doesn't Know or Client Refused",
          "Adult 25-61",
          "Adult 18-24",
          "Elder Adult 62+",
          "Children",
          "Client Doesn't Know or Client Refused",
          "Has a Disabling Condition",
          "Does Not Have a Disabling Condition",
          "Client Doesn't Know or Client Refused",
          "American Indian or Alaskan Native",
          "Asian",
          "Black or African American",
          "Native Hawaiian or Other Pacific Islander",
          "White",
          "Client Doesn't Know or Client Refused",
          "Hispanic/Latino",
          "Non-Hispanic/Non-Latino",
          "Client Doesn't Know or Client Refused",
          "Female",
          "Male",
          "Trans Female",
          "Trans Male",
          "Gender Non-Conforming",
          "Client Doesn't Know or Client Refused",
          "Veteran",
          "Not a Veteran",
          "Client Doesn't Know or Client Refused",
          "Adult 25-61",
          "Adult 18-24",
          "Elder Adult 62+",
          "Children",
          "Client Doesn't Know or Client Refused",
          "Has a Disabling Condition",
          "Does Not Have a Disabling Condition",
          "Client Doesn't Know or Client Refused",
          "American Indian or Alaskan Native",
          "Asian",
          "Black or African American",
          "Native Hawaiian or Other Pacific Islander",
          "White",
          "Client Doesn't Know or Client Refused",
          "Hispanic/Latino",
          "Non-Hispanic/Non-Latino",
          "Client Doesn't Know or Client Refused",
          "Female",
          "Male",
          "Trans Female",
          "Trans Male",
          "Gender Non-Conforming",
          "Client Doesn't Know or Client Refused",
          "Veteran",
          "Not a Veteran",
          "Client Doesn't Know or Client Refused",
          "Adult 25-61",
          "Adult 18-24",
          "Elder Adult 62+",
          "Children",
          "Client Doesn't Know or Client Refused",
          "Has a Disabling Condition",
          "Does Not Have a Disabling Condition",
          "Client Doesn't Know or Client Refused",
          "American Indian or Alaskan Native",
          "Asian",
          "Black or African American",
          "Native Hawaiian or Other Pacific Islander",
          "White",
          "Client Doesn't Know or Client Refused",
          "Hispanic/Latino",
          "Non-Hispanic/Non-Latino",
          "Client Doesn't Know or Client Refused",
          "Female",
          "Male",
          "Trans Female",
          "Trans Male",
          "Gender Non-Conforming",
          "Client Doesn't Know or Client Refused",
          "Veteran",
          "Not a Veteran",
          "Client Doesn't Know or Client Refused",
          "Adult 25-61",
          "Adult 18-24",
          "Elder Adult 62+",
          "Children",
          "Client Doesn't Know or Client Refused",
          "Has a Disabling Condition",
          "Does Not Have a Disabling Condition",
          "Client Doesn't Know or Client Refused",
          "American Indian or Alaskan Native",
          "Asian",
          "Black or African American",
          "Native Hawaiian or Other Pacific Islander",
          "White",
          "Client Doesn't Know or Client Refused",
          "Hispanic/Latino",
          "Non-Hispanic/Non-Latino",
          "Client Doesn't Know or Client Refused",
          "Female",
          "Male",
          "Trans Female",
          "Trans Male",
          "Gender Non-Conforming",
          "Client Doesn't Know or Client Refused",
          "Veteran",
          "Not a Veteran",
          "Client Doesn't Know or Client Refused",
          "Adult 25-61",
          "Adult 18-24",
          "Elder Adult 62+",
          "Children",
          "Client Doesn't Know or Client Refused",
          "Has a Disabling Condition",
          "Does Not Have a Disabling Condition",
          "Client Doesn't Know or Client Refused",
          "American Indian or Alaskan Native",
          "Asian",
          "Black or African American",
          "Native Hawaiian or Other Pacific Islander",
          "White",
          "Client Doesn't Know or Client Refused",
          "Hispanic/Latino",
          "Non-Hispanic/Non-Latino",
          "Client Doesn't Know or Client Refused",
          "Female",
          "Male",
          "Trans Female",
          "Trans Male",
          "Gender Non-Conforming",
          "Client Doesn't Know or Client Refused",
          "Veteran",
          "Not a Veteran",
          "Client Doesn't Know or Client Refused",
          "Adult 25-61",
          "Adult 18-24",
          "Elder Adult 62+",
          "Children",
          "Client Doesn't Know or Client Refused",
          "Has a Disabling Condition",
          "Does Not Have a Disabling Condition",
          "Client Doesn't Know or Client Refused",
          "American Indian or Alaskan Native",
          "Asian",
          "Black or African American",
          "Native Hawaiian or Other Pacific Islander",
          "White",
          "Client Doesn't Know or Client Refused",
          "Hispanic/Latino",
          "Non-Hispanic/Non-Latino",
          "Client Doesn't Know or Client Refused",
          "Female",
          "Male",
          "Trans Female",
          "Trans Male",
          "Gender Non-Conforming",
          "Client Doesn't Know or Client Refused",
          "Veteran",
          "Not a Veteran",
          "Client Doesn't Know or Client Refused",
          "Adult 25-61",
          "Adult 18-24",
          "Elder Adult 62+",
          "Children",
          "Client Doesn't Know or Client Refused",
          "Has a Disabling Condition",
          "Does Not Have a Disabling Condition",
          "Client Doesn't Know or Client Refused",
          "American Indian or Alaskan Native",
          "Asian",
          "Black or African American",
          "Native Hawaiian or Other Pacific Islander",
          "White",
          "Client Doesn't Know or Client Refused",
          "Hispanic/Latino",
          "Non-Hispanic/Non-Latino",
          "Client Doesn't Know or Client Refused",
          "Female",
          "Male",
          "Trans Female",
          "Trans Male",
          "Gender Non-Conforming",
          "Client Doesn't Know or Client Refused",
          "Veteran",
          "Not a Veteran",
          "Client Doesn't Know or Client Refused",
          "Adult 25-61",
          "Adult 18-24",
          "Elder Adult 62+",
          "Children",
          "Client Doesn't Know or Client Refused",
          "Has a Disabling Condition",
          "Does Not Have a Disabling Condition",
          "Client Doesn't Know or Client Refused",
          "AmIndAKNative",
          "Asian",
          "BlackAfAmerican",
          "NativeHIOtherPacific",
          "Two or more races",
          "Unknown",
          "White",
          "AmIndAKNative",
          "Asian",
          "BlackAfAmerican",
          "Two or more races",
          "Unknown",
          "White",
          "AmIndAKNative",
          "BlackAfAmerican",
          "Two or more races",
          "Unknown",
          "White",
          "AmIndAKNative",
          "BlackAfAmerican",
          "Two or more races",
          "Unknown",
          "White",
          "BlackAfAmerican",
          "Two or more races",
          "Unknown",
          "White",
          "Hispanic/Latino",
          "Non-Hispanic/Non-Latino",
          "Unknown",
          "Hispanic/Latino",
          "Non-Hispanic/Non-Latino",
          "Unknown",
          "Hispanic/Latino",
          "Non-Hispanic/Non-Latino",
          "Hispanic/Latino",
          "Non-Hispanic/Non-Latino",
          "Hispanic/Latino",
          "Non-Hispanic/Non-Latino",
          "Unknown",
          "Female",
          "Gender non-conforming",
          "Male",
          "Trans Female",
          "Female",
          "Male",
          "Trans Female",
          "Unknown",
          "Gender non-conforming",
          "Male",
          "Trans Female",
          "Female",
          "Male",
          "Trans Male",
          "Female",
          "Male",
          "No",
          "Unknown",
          "Yes",
          "No",
          "Unknown",
          "Yes",
          "Unknown",
          "Yes",
          "No",
          "Unknown",
          "Yes",
          "No",
          "Yes",
          "Adult under 62",
          "Children",
          "Elder Adult",
          "Young Adult",
          "Adult under 62",
          "Children",
          "Elder Adult",
          "Unknown",
          "Young Adult",
          "Adult under 62",
          "Elder Adult",
          "Adult under 62",
          "Elder Adult",
          "Young Adult",
          "Adult under 62",
          "Children",
          "Elder Adult",
          "Young Adult",
          "No",
          "Yes",
          "No",
          "Unknown",
          "Yes",
          "No",
          "Yes",
          "No",
          "Unknown",
          "Yes",
          "No",
          "Unknown",
          "Yes"
         ],
         "legendgroup": "",
         "marker": {
          "color": [
           2017,
           2017,
           2017,
           2017,
           2017,
           2017,
           2017,
           2017,
           2017,
           2017,
           2017,
           2017,
           2017,
           2017,
           2017,
           2017,
           2017,
           2017,
           2017,
           2017,
           2017,
           2017,
           2017,
           2017,
           2017,
           2017,
           2017,
           2017,
           2017,
           2017,
           2017,
           2017,
           2017,
           2017,
           2017,
           2017,
           2017,
           2017,
           2017,
           2017,
           2017,
           2017,
           2017,
           2017,
           2017,
           2017,
           2017,
           2017,
           2017,
           2017,
           2017,
           2017,
           2017,
           2017,
           2017,
           2017,
           2017,
           2017,
           2017,
           2017,
           2017,
           2017,
           2017,
           2017,
           2017,
           2017,
           2017,
           2017,
           2017,
           2017,
           2017,
           2017,
           2017,
           2017,
           2017,
           2017,
           2017,
           2017,
           2017,
           2017,
           2017,
           2017,
           2017,
           2017,
           2017,
           2017,
           2017,
           2017,
           2017,
           2017,
           2017,
           2017,
           2017,
           2017,
           2017,
           2017,
           2017,
           2017,
           2017,
           2017,
           2017,
           2017,
           2017,
           2017,
           2017,
           2017,
           2017,
           2017,
           2017,
           2017,
           2017,
           2017,
           2017,
           2017,
           2017,
           2017,
           2017,
           2017,
           2017,
           2017,
           2017,
           2017,
           2017,
           2017,
           2017,
           2017,
           2017,
           2017,
           2017,
           2017,
           2018,
           2018,
           2018,
           2018,
           2018,
           2018,
           2018,
           2018,
           2018,
           2018,
           2018,
           2018,
           2018,
           2018,
           2018,
           2018,
           2018,
           2018,
           2018,
           2018,
           2018,
           2018,
           2018,
           2018,
           2018,
           2018,
           2018,
           2018,
           2018,
           2018,
           2018,
           2018,
           2018,
           2018,
           2018,
           2018,
           2018,
           2018,
           2018,
           2018,
           2018,
           2018,
           2018,
           2018,
           2018,
           2018,
           2018,
           2018,
           2018,
           2018,
           2018,
           2018,
           2018,
           2018,
           2018,
           2018,
           2018,
           2018,
           2018,
           2018,
           2018,
           2018,
           2018,
           2018,
           2018,
           2018,
           2018,
           2018,
           2018,
           2018,
           2018,
           2018,
           2018,
           2018,
           2018,
           2018,
           2018,
           2018,
           2018,
           2018,
           2018,
           2018,
           2018,
           2018,
           2018,
           2018,
           2018,
           2018,
           2018,
           2018,
           2018,
           2018,
           2018,
           2018,
           2018,
           2018,
           2018,
           2018,
           2018,
           2018,
           2018,
           2018,
           2018,
           2018,
           2018,
           2018,
           2018,
           2018,
           2018,
           2018,
           2018,
           2018,
           2018,
           2018,
           2018,
           2018,
           2018,
           2018,
           2018,
           2018,
           2018,
           2018,
           2018,
           2018,
           2018,
           2018,
           2018,
           2018,
           2018,
           2018,
           2019,
           2019,
           2019,
           2019,
           2019,
           2019,
           2019,
           2019,
           2019,
           2019,
           2019,
           2019,
           2019,
           2019,
           2019,
           2019,
           2019,
           2019,
           2019,
           2019,
           2019,
           2019,
           2019,
           2019,
           2019,
           2019,
           2019,
           2019,
           2019,
           2019,
           2019,
           2019,
           2019,
           2019,
           2019,
           2019,
           2019,
           2019,
           2019,
           2019,
           2019,
           2019,
           2019,
           2019,
           2019,
           2019,
           2019,
           2019,
           2019,
           2019,
           2019,
           2019,
           2019,
           2019,
           2019,
           2019,
           2019,
           2019,
           2019,
           2019,
           2019,
           2019,
           2019,
           2019,
           2019,
           2019,
           2019,
           2019,
           2019,
           2019,
           2019,
           2019,
           2019,
           2019,
           2019,
           2019,
           2019,
           2019,
           2019,
           2019,
           2019,
           2019,
           2019,
           2019,
           2019,
           2019,
           2019,
           2019,
           2019,
           2019,
           2019,
           2019,
           2019,
           2019,
           2019,
           2019,
           2019,
           2019,
           2019,
           2019,
           2019,
           2019,
           2019,
           2019,
           2019,
           2019,
           2019,
           2019,
           2019,
           2019,
           2019,
           2019,
           2019,
           2019,
           2019,
           2019,
           2019,
           2019,
           2019,
           2019,
           2019,
           2019,
           2019,
           2019,
           2019,
           2019,
           2019,
           2019,
           2019,
           2019,
           2020,
           2020,
           2020,
           2020,
           2020,
           2020,
           2020,
           2020,
           2020,
           2020,
           2020,
           2020,
           2020,
           2020,
           2020,
           2020,
           2020,
           2020,
           2020,
           2020,
           2020,
           2020,
           2020,
           2020,
           2020,
           2020,
           2020,
           2020,
           2020,
           2020,
           2020,
           2020,
           2020,
           2020,
           2020,
           2020,
           2020,
           2020,
           2020,
           2020,
           2020,
           2020,
           2020,
           2020,
           2020,
           2020,
           2020,
           2020,
           2020,
           2020,
           2020,
           2020,
           2020,
           2020,
           2020,
           2020,
           2020,
           2020,
           2020,
           2020,
           2020,
           2020,
           2020,
           2020,
           2020,
           2020,
           2020,
           2020,
           2020,
           2020,
           2020,
           2020,
           2020,
           2020,
           2020,
           2020,
           2020,
           2020,
           2020,
           2020,
           2020,
           2020,
           2020,
           2020,
           2020,
           2020,
           2020,
           2020,
           2020,
           2020,
           2020,
           2020,
           2020,
           2020,
           2020,
           2020,
           2020,
           2020,
           2020,
           2020
          ],
          "coloraxis": "coloraxis",
          "symbol": "circle"
         },
         "mode": "markers",
         "name": "",
         "orientation": "v",
         "showlegend": false,
         "type": "scatter",
         "x": [
          "Race",
          "Race",
          "Race",
          "Race",
          "Race",
          "Race",
          "Ethnicity",
          "Ethnicity",
          "Ethnicity",
          "Gender",
          "Gender",
          "Gender",
          "Gender",
          "Gender",
          "Gender",
          "Veteran Status",
          "Veteran Status",
          "Veteran Status",
          "Age Category",
          "Age Category",
          "Age Category",
          "Age Category",
          "Age Category",
          "Disability Status",
          "Disability Status",
          "Disability Status",
          "Race",
          "Race",
          "Race",
          "Race",
          "Race",
          "Race",
          "Ethnicity",
          "Ethnicity",
          "Ethnicity",
          "Gender",
          "Gender",
          "Gender",
          "Gender",
          "Gender",
          "Gender",
          "Veteran Status",
          "Veteran Status",
          "Veteran Status",
          "Age Category",
          "Age Category",
          "Age Category",
          "Age Category",
          "Age Category",
          "Disability Status",
          "Disability Status",
          "Disability Status",
          "Race",
          "Race",
          "Race",
          "Race",
          "Race",
          "Race",
          "Ethnicity",
          "Ethnicity",
          "Ethnicity",
          "Gender",
          "Gender",
          "Gender",
          "Gender",
          "Gender",
          "Gender",
          "Veteran Status",
          "Veteran Status",
          "Veteran Status",
          "Age Category",
          "Age Category",
          "Age Category",
          "Age Category",
          "Age Category",
          "Disability Status",
          "Disability Status",
          "Disability Status",
          "Race",
          "Race",
          "Race",
          "Race",
          "Race",
          "Race",
          "Ethnicity",
          "Ethnicity",
          "Ethnicity",
          "Gender",
          "Gender",
          "Gender",
          "Gender",
          "Gender",
          "Gender",
          "Veteran Status",
          "Veteran Status",
          "Veteran Status",
          "Age Category",
          "Age Category",
          "Age Category",
          "Age Category",
          "Age Category",
          "Disability Status",
          "Disability Status",
          "Disability Status",
          "Race",
          "Race",
          "Race",
          "Race",
          "Race",
          "Race",
          "Ethnicity",
          "Ethnicity",
          "Ethnicity",
          "Gender",
          "Gender",
          "Gender",
          "Gender",
          "Gender",
          "Gender",
          "Veteran Status",
          "Veteran Status",
          "Veteran Status",
          "Age Category",
          "Age Category",
          "Age Category",
          "Age Category",
          "Age Category",
          "Disability Status",
          "Disability Status",
          "Disability Status",
          "Race",
          "Race",
          "Race",
          "Race",
          "Race",
          "Race",
          "Ethnicity",
          "Ethnicity",
          "Ethnicity",
          "Gender",
          "Gender",
          "Gender",
          "Gender",
          "Gender",
          "Gender",
          "Veteran Status",
          "Veteran Status",
          "Veteran Status",
          "Age Category",
          "Age Category",
          "Age Category",
          "Age Category",
          "Age Category",
          "Disability Status",
          "Disability Status",
          "Disability Status",
          "Race",
          "Race",
          "Race",
          "Race",
          "Race",
          "Race",
          "Ethnicity",
          "Ethnicity",
          "Ethnicity",
          "Gender",
          "Gender",
          "Gender",
          "Gender",
          "Gender",
          "Gender",
          "Veteran Status",
          "Veteran Status",
          "Veteran Status",
          "Age Category",
          "Age Category",
          "Age Category",
          "Age Category",
          "Age Category",
          "Disability Status",
          "Disability Status",
          "Disability Status",
          "Race",
          "Race",
          "Race",
          "Race",
          "Race",
          "Race",
          "Ethnicity",
          "Ethnicity",
          "Ethnicity",
          "Gender",
          "Gender",
          "Gender",
          "Gender",
          "Gender",
          "Gender",
          "Veteran Status",
          "Veteran Status",
          "Veteran Status",
          "Age Category",
          "Age Category",
          "Age Category",
          "Age Category",
          "Age Category",
          "Disability Status",
          "Disability Status",
          "Disability Status",
          "Race",
          "Race",
          "Race",
          "Race",
          "Race",
          "Race",
          "Ethnicity",
          "Ethnicity",
          "Ethnicity",
          "Gender",
          "Gender",
          "Gender",
          "Gender",
          "Gender",
          "Gender",
          "Veteran Status",
          "Veteran Status",
          "Veteran Status",
          "Age Category",
          "Age Category",
          "Age Category",
          "Age Category",
          "Age Category",
          "Disability Status",
          "Disability Status",
          "Disability Status",
          "Race",
          "Race",
          "Race",
          "Race",
          "Race",
          "Race",
          "Ethnicity",
          "Ethnicity",
          "Ethnicity",
          "Gender",
          "Gender",
          "Gender",
          "Gender",
          "Gender",
          "Gender",
          "Veteran Status",
          "Veteran Status",
          "Veteran Status",
          "Age Category",
          "Age Category",
          "Age Category",
          "Age Category",
          "Age Category",
          "Disability Status",
          "Disability Status",
          "Disability Status",
          "Race",
          "Race",
          "Race",
          "Race",
          "Race",
          "Race",
          "Ethnicity",
          "Ethnicity",
          "Ethnicity",
          "Gender",
          "Gender",
          "Gender",
          "Gender",
          "Gender",
          "Gender",
          "Veteran Status",
          "Veteran Status",
          "Veteran Status",
          "Age Category",
          "Age Category",
          "Age Category",
          "Age Category",
          "Age Category",
          "Disability Status",
          "Disability Status",
          "Disability Status",
          "Race",
          "Race",
          "Race",
          "Race",
          "Race",
          "Race",
          "Ethnicity",
          "Ethnicity",
          "Ethnicity",
          "Gender",
          "Gender",
          "Gender",
          "Gender",
          "Gender",
          "Gender",
          "Veteran Status",
          "Veteran Status",
          "Veteran Status",
          "Age Category",
          "Age Category",
          "Age Category",
          "Age Category",
          "Age Category",
          "Disability Status",
          "Disability Status",
          "Disability Status",
          "Race",
          "Race",
          "Race",
          "Race",
          "Race",
          "Race",
          "Ethnicity",
          "Ethnicity",
          "Ethnicity",
          "Gender",
          "Gender",
          "Gender",
          "Gender",
          "Gender",
          "Gender",
          "Veteran Status",
          "Veteran Status",
          "Veteran Status",
          "Age Category",
          "Age Category",
          "Age Category",
          "Age Category",
          "Age Category",
          "Disability Status",
          "Disability Status",
          "Disability Status",
          "Race",
          "Race",
          "Race",
          "Race",
          "Race",
          "Race",
          "Ethnicity",
          "Ethnicity",
          "Ethnicity",
          "Gender",
          "Gender",
          "Gender",
          "Gender",
          "Gender",
          "Gender",
          "Veteran Status",
          "Veteran Status",
          "Veteran Status",
          "Age Category",
          "Age Category",
          "Age Category",
          "Age Category",
          "Age Category",
          "Disability Status",
          "Disability Status",
          "Disability Status",
          "Race",
          "Race",
          "Race",
          "Race",
          "Race",
          "Race",
          "Ethnicity",
          "Ethnicity",
          "Ethnicity",
          "Gender",
          "Gender",
          "Gender",
          "Gender",
          "Gender",
          "Gender",
          "Veteran Status",
          "Veteran Status",
          "Veteran Status",
          "Age Category",
          "Age Category",
          "Age Category",
          "Age Category",
          "Age Category",
          "Disability Status",
          "Disability Status",
          "Disability Status",
          "Race",
          "Race",
          "Race",
          "Race",
          "Race",
          "Race",
          "Race",
          "Race",
          "Race",
          "Race",
          "Race",
          "Race",
          "Race",
          "Race",
          "Race",
          "Race",
          "Race",
          "Race",
          "Race",
          "Race",
          "Race",
          "Race",
          "Race",
          "Race",
          "Race",
          "Race",
          "Race",
          "Ethnicity",
          "Ethnicity",
          "Ethnicity",
          "Ethnicity",
          "Ethnicity",
          "Ethnicity",
          "Ethnicity",
          "Ethnicity",
          "Ethnicity",
          "Ethnicity",
          "Ethnicity",
          "Ethnicity",
          "Ethnicity",
          "Gender",
          "Gender",
          "Gender",
          "Gender",
          "Gender",
          "Gender",
          "Gender",
          "Gender",
          "Gender",
          "Gender",
          "Gender",
          "Gender",
          "Gender",
          "Gender",
          "Gender",
          "Gender",
          "Veteran",
          "Veteran",
          "Veteran",
          "Veteran",
          "Veteran",
          "Veteran",
          "Veteran",
          "Veteran",
          "Veteran",
          "Veteran",
          "Veteran",
          "Veteran",
          "Veteran",
          "Age",
          "Age",
          "Age",
          "Age",
          "Age",
          "Age",
          "Age",
          "Age",
          "Age",
          "Age",
          "Age",
          "Age",
          "Age",
          "Age",
          "Age",
          "Age",
          "Age",
          "Age",
          "Disability",
          "Disability",
          "Disability",
          "Disability",
          "Disability",
          "Disability",
          "Disability",
          "Disability",
          "Disability",
          "Disability",
          "Disability",
          "Disability",
          "Disability"
         ],
         "xaxis": "x",
         "y": [
          0,
          0,
          0,
          0,
          0,
          0,
          0,
          0,
          0,
          0,
          0,
          0,
          0,
          0,
          0,
          0,
          0,
          0,
          0,
          0,
          0,
          0,
          0,
          0,
          0,
          0,
          0.33,
          0,
          0.28,
          0,
          0.24,
          0,
          0.13,
          0.32,
          0,
          0.24,
          0.27,
          0.5,
          0,
          0,
          0,
          0.47,
          0.23,
          0,
          0.32,
          0.18,
          0.43,
          0.14,
          0,
          0.4,
          0.2,
          0,
          0,
          0,
          0.05,
          0,
          0.03,
          0,
          0,
          0.08,
          0,
          0.03,
          0.06,
          0,
          0,
          0,
          0,
          0,
          0.04,
          0,
          0.03,
          0.07,
          0,
          0.03,
          0,
          0,
          0.05,
          0,
          0,
          0,
          0.18,
          0,
          1.39,
          0,
          0,
          0.23,
          0,
          0.17,
          0.22,
          0,
          0,
          0,
          0,
          0.19,
          1,
          0,
          0.25,
          0,
          0,
          0,
          0,
          0.19,
          0.5,
          0,
          0,
          0,
          0.15,
          0,
          0.14,
          0.07,
          0.11,
          0.16,
          0.17,
          0.11,
          0.18,
          0,
          0,
          0,
          0,
          0.24,
          0.13,
          0,
          0.19,
          0.13,
          0.19,
          0.17,
          0,
          0.38,
          0.11,
          0,
          0,
          0,
          0,
          0,
          0.38,
          0,
          0.33,
          0.4,
          0,
          0,
          0.38,
          0,
          0,
          0,
          0,
          1,
          0.17,
          0,
          0.67,
          0.2,
          0,
          0,
          0,
          0.5,
          0.25,
          0,
          0.67,
          0.13,
          0.17,
          0.2,
          0.23,
          0,
          0.11,
          0.24,
          0.33,
          0.22,
          0.18,
          0,
          0,
          0,
          0,
          0.25,
          0.19,
          0,
          0.24,
          0.14,
          0.32,
          0.1,
          0,
          0.3,
          0.16,
          0,
          0,
          0,
          0.16,
          0,
          0.17,
          0,
          0.16,
          0.17,
          0,
          0.19,
          0.14,
          0,
          0,
          0,
          0,
          0.18,
          0.16,
          0,
          0.19,
          0.18,
          0.13,
          0.15,
          0,
          0.14,
          0.18,
          0,
          0,
          0,
          0.42,
          0,
          0.22,
          0,
          0,
          0.29,
          0,
          0,
          0.29,
          0,
          0,
          0,
          0,
          0.29,
          0,
          0,
          0.23,
          0,
          0.44,
          0,
          0,
          0.3,
          0.2,
          0,
          0,
          0,
          0.22,
          0,
          0.16,
          0,
          0.11,
          0.22,
          0,
          0.12,
          0.24,
          0,
          0,
          0,
          0,
          0.29,
          0.15,
          0,
          0.22,
          0.3,
          0.26,
          0.11,
          0,
          0.24,
          0.13,
          0.5,
          0,
          0,
          0.33,
          0,
          0.43,
          0,
          1,
          0.25,
          0,
          0.4,
          0.4,
          0,
          0,
          0,
          0,
          0,
          0.33,
          0,
          0.5,
          0,
          1,
          0,
          0,
          0.44,
          0,
          0,
          0.25,
          0,
          0.15,
          0,
          0.26,
          0.33,
          0.23,
          0.18,
          0,
          0.21,
          0.17,
          0.5,
          0.5,
          0,
          0,
          0.35,
          0.18,
          0,
          0.22,
          0.19,
          0.36,
          0.14,
          0,
          0.3,
          0.15,
          0,
          0,
          0,
          0.14,
          0,
          0.16,
          0,
          0.18,
          0.14,
          0,
          0.17,
          0.13,
          0,
          0,
          0,
          0,
          0.17,
          0.13,
          0,
          0.09,
          0.21,
          0,
          0.14,
          0,
          0.09,
          0.17,
          0,
          0,
          0,
          0.43,
          0,
          0.09,
          0,
          0,
          0.19,
          0,
          0,
          0.17,
          0,
          0,
          0,
          0,
          0.17,
          0,
          0,
          0.19,
          0,
          0,
          0,
          0,
          0.15,
          0.33,
          0,
          0.22,
          0,
          0.17,
          0,
          0.13,
          0,
          0.11,
          0.16,
          0,
          0.09,
          0.19,
          0.2,
          0,
          0,
          0,
          0.21,
          0.13,
          0,
          0.19,
          0.19,
          0.17,
          0.05,
          0,
          0.17,
          0.12,
          0,
          0,
          0.13,
          0.16,
          0,
          0.33,
          0,
          0.19,
          0,
          0,
          0.2,
          0.22,
          0.03,
          0.13,
          0,
          0.4,
          0,
          0,
          0.33,
          0,
          0.25,
          0.33,
          0.5,
          0.3,
          0.33,
          0,
          0,
          0.08,
          0.19,
          0.18,
          0,
          0.13,
          0.18,
          0.04,
          0,
          0.32,
          0.31,
          0.29,
          0.04,
          0.25,
          0,
          0.17,
          0,
          0.19,
          0.5,
          0.17,
          0.17,
          0,
          0,
          0,
          0.28,
          0,
          0.14,
          0.35,
          1,
          0.15,
          0.2,
          0.18,
          0,
          0.19,
          0.14,
          0,
          0.24,
          0,
          0.27,
          0.33,
          0,
          0.25,
          0.15,
          0.23,
          0.22,
          0.11,
          0.26,
          0.14,
          0.2,
          0.11,
          0.13,
          0,
          0.18,
          0.35,
          0.09,
          0.17,
          0.5,
          0.45,
          0.19,
          0.16,
          0,
          0.24,
          0.14,
          0.25,
          0.15,
          0.03,
          0.18,
          0,
          0.28,
          0.29,
          0.3,
          0.29,
          0.17,
          0.15,
          0.26
         ],
         "yaxis": "y"
        }
       ],
       "layout": {
        "coloraxis": {
         "colorbar": {
          "title": {
           "text": "Fiscal Year"
          }
         },
         "colorscale": [
          [
           0,
           "#0d0887"
          ],
          [
           0.1111111111111111,
           "#46039f"
          ],
          [
           0.2222222222222222,
           "#7201a8"
          ],
          [
           0.3333333333333333,
           "#9c179e"
          ],
          [
           0.4444444444444444,
           "#bd3786"
          ],
          [
           0.5555555555555556,
           "#d8576b"
          ],
          [
           0.6666666666666666,
           "#ed7953"
          ],
          [
           0.7777777777777778,
           "#fb9f3a"
          ],
          [
           0.8888888888888888,
           "#fdca26"
          ],
          [
           1,
           "#f0f921"
          ]
         ]
        },
        "legend": {
         "tracegroupgap": 0
        },
        "margin": {
         "t": 60
        },
        "template": {
         "data": {
          "bar": [
           {
            "error_x": {
             "color": "#2a3f5f"
            },
            "error_y": {
             "color": "#2a3f5f"
            },
            "marker": {
             "line": {
              "color": "#E5ECF6",
              "width": 0.5
             },
             "pattern": {
              "fillmode": "overlay",
              "size": 10,
              "solidity": 0.2
             }
            },
            "type": "bar"
           }
          ],
          "barpolar": [
           {
            "marker": {
             "line": {
              "color": "#E5ECF6",
              "width": 0.5
             },
             "pattern": {
              "fillmode": "overlay",
              "size": 10,
              "solidity": 0.2
             }
            },
            "type": "barpolar"
           }
          ],
          "carpet": [
           {
            "aaxis": {
             "endlinecolor": "#2a3f5f",
             "gridcolor": "white",
             "linecolor": "white",
             "minorgridcolor": "white",
             "startlinecolor": "#2a3f5f"
            },
            "baxis": {
             "endlinecolor": "#2a3f5f",
             "gridcolor": "white",
             "linecolor": "white",
             "minorgridcolor": "white",
             "startlinecolor": "#2a3f5f"
            },
            "type": "carpet"
           }
          ],
          "choropleth": [
           {
            "colorbar": {
             "outlinewidth": 0,
             "ticks": ""
            },
            "type": "choropleth"
           }
          ],
          "contour": [
           {
            "colorbar": {
             "outlinewidth": 0,
             "ticks": ""
            },
            "colorscale": [
             [
              0,
              "#0d0887"
             ],
             [
              0.1111111111111111,
              "#46039f"
             ],
             [
              0.2222222222222222,
              "#7201a8"
             ],
             [
              0.3333333333333333,
              "#9c179e"
             ],
             [
              0.4444444444444444,
              "#bd3786"
             ],
             [
              0.5555555555555556,
              "#d8576b"
             ],
             [
              0.6666666666666666,
              "#ed7953"
             ],
             [
              0.7777777777777778,
              "#fb9f3a"
             ],
             [
              0.8888888888888888,
              "#fdca26"
             ],
             [
              1,
              "#f0f921"
             ]
            ],
            "type": "contour"
           }
          ],
          "contourcarpet": [
           {
            "colorbar": {
             "outlinewidth": 0,
             "ticks": ""
            },
            "type": "contourcarpet"
           }
          ],
          "heatmap": [
           {
            "colorbar": {
             "outlinewidth": 0,
             "ticks": ""
            },
            "colorscale": [
             [
              0,
              "#0d0887"
             ],
             [
              0.1111111111111111,
              "#46039f"
             ],
             [
              0.2222222222222222,
              "#7201a8"
             ],
             [
              0.3333333333333333,
              "#9c179e"
             ],
             [
              0.4444444444444444,
              "#bd3786"
             ],
             [
              0.5555555555555556,
              "#d8576b"
             ],
             [
              0.6666666666666666,
              "#ed7953"
             ],
             [
              0.7777777777777778,
              "#fb9f3a"
             ],
             [
              0.8888888888888888,
              "#fdca26"
             ],
             [
              1,
              "#f0f921"
             ]
            ],
            "type": "heatmap"
           }
          ],
          "heatmapgl": [
           {
            "colorbar": {
             "outlinewidth": 0,
             "ticks": ""
            },
            "colorscale": [
             [
              0,
              "#0d0887"
             ],
             [
              0.1111111111111111,
              "#46039f"
             ],
             [
              0.2222222222222222,
              "#7201a8"
             ],
             [
              0.3333333333333333,
              "#9c179e"
             ],
             [
              0.4444444444444444,
              "#bd3786"
             ],
             [
              0.5555555555555556,
              "#d8576b"
             ],
             [
              0.6666666666666666,
              "#ed7953"
             ],
             [
              0.7777777777777778,
              "#fb9f3a"
             ],
             [
              0.8888888888888888,
              "#fdca26"
             ],
             [
              1,
              "#f0f921"
             ]
            ],
            "type": "heatmapgl"
           }
          ],
          "histogram": [
           {
            "marker": {
             "pattern": {
              "fillmode": "overlay",
              "size": 10,
              "solidity": 0.2
             }
            },
            "type": "histogram"
           }
          ],
          "histogram2d": [
           {
            "colorbar": {
             "outlinewidth": 0,
             "ticks": ""
            },
            "colorscale": [
             [
              0,
              "#0d0887"
             ],
             [
              0.1111111111111111,
              "#46039f"
             ],
             [
              0.2222222222222222,
              "#7201a8"
             ],
             [
              0.3333333333333333,
              "#9c179e"
             ],
             [
              0.4444444444444444,
              "#bd3786"
             ],
             [
              0.5555555555555556,
              "#d8576b"
             ],
             [
              0.6666666666666666,
              "#ed7953"
             ],
             [
              0.7777777777777778,
              "#fb9f3a"
             ],
             [
              0.8888888888888888,
              "#fdca26"
             ],
             [
              1,
              "#f0f921"
             ]
            ],
            "type": "histogram2d"
           }
          ],
          "histogram2dcontour": [
           {
            "colorbar": {
             "outlinewidth": 0,
             "ticks": ""
            },
            "colorscale": [
             [
              0,
              "#0d0887"
             ],
             [
              0.1111111111111111,
              "#46039f"
             ],
             [
              0.2222222222222222,
              "#7201a8"
             ],
             [
              0.3333333333333333,
              "#9c179e"
             ],
             [
              0.4444444444444444,
              "#bd3786"
             ],
             [
              0.5555555555555556,
              "#d8576b"
             ],
             [
              0.6666666666666666,
              "#ed7953"
             ],
             [
              0.7777777777777778,
              "#fb9f3a"
             ],
             [
              0.8888888888888888,
              "#fdca26"
             ],
             [
              1,
              "#f0f921"
             ]
            ],
            "type": "histogram2dcontour"
           }
          ],
          "mesh3d": [
           {
            "colorbar": {
             "outlinewidth": 0,
             "ticks": ""
            },
            "type": "mesh3d"
           }
          ],
          "parcoords": [
           {
            "line": {
             "colorbar": {
              "outlinewidth": 0,
              "ticks": ""
             }
            },
            "type": "parcoords"
           }
          ],
          "pie": [
           {
            "automargin": true,
            "type": "pie"
           }
          ],
          "scatter": [
           {
            "marker": {
             "colorbar": {
              "outlinewidth": 0,
              "ticks": ""
             }
            },
            "type": "scatter"
           }
          ],
          "scatter3d": [
           {
            "line": {
             "colorbar": {
              "outlinewidth": 0,
              "ticks": ""
             }
            },
            "marker": {
             "colorbar": {
              "outlinewidth": 0,
              "ticks": ""
             }
            },
            "type": "scatter3d"
           }
          ],
          "scattercarpet": [
           {
            "marker": {
             "colorbar": {
              "outlinewidth": 0,
              "ticks": ""
             }
            },
            "type": "scattercarpet"
           }
          ],
          "scattergeo": [
           {
            "marker": {
             "colorbar": {
              "outlinewidth": 0,
              "ticks": ""
             }
            },
            "type": "scattergeo"
           }
          ],
          "scattergl": [
           {
            "marker": {
             "colorbar": {
              "outlinewidth": 0,
              "ticks": ""
             }
            },
            "type": "scattergl"
           }
          ],
          "scattermapbox": [
           {
            "marker": {
             "colorbar": {
              "outlinewidth": 0,
              "ticks": ""
             }
            },
            "type": "scattermapbox"
           }
          ],
          "scatterpolar": [
           {
            "marker": {
             "colorbar": {
              "outlinewidth": 0,
              "ticks": ""
             }
            },
            "type": "scatterpolar"
           }
          ],
          "scatterpolargl": [
           {
            "marker": {
             "colorbar": {
              "outlinewidth": 0,
              "ticks": ""
             }
            },
            "type": "scatterpolargl"
           }
          ],
          "scatterternary": [
           {
            "marker": {
             "colorbar": {
              "outlinewidth": 0,
              "ticks": ""
             }
            },
            "type": "scatterternary"
           }
          ],
          "surface": [
           {
            "colorbar": {
             "outlinewidth": 0,
             "ticks": ""
            },
            "colorscale": [
             [
              0,
              "#0d0887"
             ],
             [
              0.1111111111111111,
              "#46039f"
             ],
             [
              0.2222222222222222,
              "#7201a8"
             ],
             [
              0.3333333333333333,
              "#9c179e"
             ],
             [
              0.4444444444444444,
              "#bd3786"
             ],
             [
              0.5555555555555556,
              "#d8576b"
             ],
             [
              0.6666666666666666,
              "#ed7953"
             ],
             [
              0.7777777777777778,
              "#fb9f3a"
             ],
             [
              0.8888888888888888,
              "#fdca26"
             ],
             [
              1,
              "#f0f921"
             ]
            ],
            "type": "surface"
           }
          ],
          "table": [
           {
            "cells": {
             "fill": {
              "color": "#EBF0F8"
             },
             "line": {
              "color": "white"
             }
            },
            "header": {
             "fill": {
              "color": "#C8D4E3"
             },
             "line": {
              "color": "white"
             }
            },
            "type": "table"
           }
          ]
         },
         "layout": {
          "annotationdefaults": {
           "arrowcolor": "#2a3f5f",
           "arrowhead": 0,
           "arrowwidth": 1
          },
          "autotypenumbers": "strict",
          "coloraxis": {
           "colorbar": {
            "outlinewidth": 0,
            "ticks": ""
           }
          },
          "colorscale": {
           "diverging": [
            [
             0,
             "#8e0152"
            ],
            [
             0.1,
             "#c51b7d"
            ],
            [
             0.2,
             "#de77ae"
            ],
            [
             0.3,
             "#f1b6da"
            ],
            [
             0.4,
             "#fde0ef"
            ],
            [
             0.5,
             "#f7f7f7"
            ],
            [
             0.6,
             "#e6f5d0"
            ],
            [
             0.7,
             "#b8e186"
            ],
            [
             0.8,
             "#7fbc41"
            ],
            [
             0.9,
             "#4d9221"
            ],
            [
             1,
             "#276419"
            ]
           ],
           "sequential": [
            [
             0,
             "#0d0887"
            ],
            [
             0.1111111111111111,
             "#46039f"
            ],
            [
             0.2222222222222222,
             "#7201a8"
            ],
            [
             0.3333333333333333,
             "#9c179e"
            ],
            [
             0.4444444444444444,
             "#bd3786"
            ],
            [
             0.5555555555555556,
             "#d8576b"
            ],
            [
             0.6666666666666666,
             "#ed7953"
            ],
            [
             0.7777777777777778,
             "#fb9f3a"
            ],
            [
             0.8888888888888888,
             "#fdca26"
            ],
            [
             1,
             "#f0f921"
            ]
           ],
           "sequentialminus": [
            [
             0,
             "#0d0887"
            ],
            [
             0.1111111111111111,
             "#46039f"
            ],
            [
             0.2222222222222222,
             "#7201a8"
            ],
            [
             0.3333333333333333,
             "#9c179e"
            ],
            [
             0.4444444444444444,
             "#bd3786"
            ],
            [
             0.5555555555555556,
             "#d8576b"
            ],
            [
             0.6666666666666666,
             "#ed7953"
            ],
            [
             0.7777777777777778,
             "#fb9f3a"
            ],
            [
             0.8888888888888888,
             "#fdca26"
            ],
            [
             1,
             "#f0f921"
            ]
           ]
          },
          "colorway": [
           "#636efa",
           "#EF553B",
           "#00cc96",
           "#ab63fa",
           "#FFA15A",
           "#19d3f3",
           "#FF6692",
           "#B6E880",
           "#FF97FF",
           "#FECB52"
          ],
          "font": {
           "color": "#2a3f5f"
          },
          "geo": {
           "bgcolor": "white",
           "lakecolor": "white",
           "landcolor": "#E5ECF6",
           "showlakes": true,
           "showland": true,
           "subunitcolor": "white"
          },
          "hoverlabel": {
           "align": "left"
          },
          "hovermode": "closest",
          "mapbox": {
           "style": "light"
          },
          "paper_bgcolor": "white",
          "plot_bgcolor": "#E5ECF6",
          "polar": {
           "angularaxis": {
            "gridcolor": "white",
            "linecolor": "white",
            "ticks": ""
           },
           "bgcolor": "#E5ECF6",
           "radialaxis": {
            "gridcolor": "white",
            "linecolor": "white",
            "ticks": ""
           }
          },
          "scene": {
           "xaxis": {
            "backgroundcolor": "#E5ECF6",
            "gridcolor": "white",
            "gridwidth": 2,
            "linecolor": "white",
            "showbackground": true,
            "ticks": "",
            "zerolinecolor": "white"
           },
           "yaxis": {
            "backgroundcolor": "#E5ECF6",
            "gridcolor": "white",
            "gridwidth": 2,
            "linecolor": "white",
            "showbackground": true,
            "ticks": "",
            "zerolinecolor": "white"
           },
           "zaxis": {
            "backgroundcolor": "#E5ECF6",
            "gridcolor": "white",
            "gridwidth": 2,
            "linecolor": "white",
            "showbackground": true,
            "ticks": "",
            "zerolinecolor": "white"
           }
          },
          "shapedefaults": {
           "line": {
            "color": "#2a3f5f"
           }
          },
          "ternary": {
           "aaxis": {
            "gridcolor": "white",
            "linecolor": "white",
            "ticks": ""
           },
           "baxis": {
            "gridcolor": "white",
            "linecolor": "white",
            "ticks": ""
           },
           "bgcolor": "#E5ECF6",
           "caxis": {
            "gridcolor": "white",
            "linecolor": "white",
            "ticks": ""
           }
          },
          "title": {
           "x": 0.05
          },
          "xaxis": {
           "automargin": true,
           "gridcolor": "white",
           "linecolor": "white",
           "ticks": "",
           "title": {
            "standoff": 15
           },
           "zerolinecolor": "white",
           "zerolinewidth": 2
          },
          "yaxis": {
           "automargin": true,
           "gridcolor": "white",
           "linecolor": "white",
           "ticks": "",
           "title": {
            "standoff": 15
           },
           "zerolinecolor": "white",
           "zerolinewidth": 2
          }
         }
        },
        "xaxis": {
         "anchor": "y",
         "domain": [
          0,
          1
         ],
         "title": {
          "text": "Demographic Category"
         }
        },
        "yaxis": {
         "anchor": "x",
         "domain": [
          0,
          1
         ],
         "title": {
          "text": "Rate"
         }
        }
       }
      }
     },
     "metadata": {}
    }
   ],
   "metadata": {}
  },
  {
   "cell_type": "code",
   "execution_count": 30,
   "source": [
    "fig= px.scatter(df, x='Numerator', y='Denominator', animation_frame='Fiscal Year', animation_group='Demographic Category', hover_name='Demographic Category',hover_data=['Specific Demographic','Rate'])\r\n",
    "fig.show()"
   ],
   "outputs": [
    {
     "output_type": "display_data",
     "data": {
      "application/vnd.plotly.v1+json": {
       "config": {
        "plotlyServerURL": "https://plot.ly"
       },
       "data": [
        {
         "customdata": [
          [
           "American Indian or Alaskan Native",
           0
          ],
          [
           "Asian",
           0
          ],
          [
           "Black or African American",
           0
          ],
          [
           "Native Hawaiian or Other Pacific Islander",
           0
          ],
          [
           "White",
           0
          ],
          [
           "Client Doesn't Know or Client Refused",
           0
          ],
          [
           "Hispanic/Latino",
           0
          ],
          [
           "Non-Hispanic/Non-Latino",
           0
          ],
          [
           "Client Doesn't Know or Client Refused",
           0
          ],
          [
           "Female",
           0
          ],
          [
           "Male",
           0
          ],
          [
           "Trans Female",
           0
          ],
          [
           "Trans Male",
           0
          ],
          [
           "Gender Non-Conforming",
           0
          ],
          [
           "Client Doesn't Know or Client Refused",
           0
          ],
          [
           "Veteran",
           0
          ],
          [
           "Not a Veteran",
           0
          ],
          [
           "Client Doesn't Know or Client Refused",
           0
          ],
          [
           "Adult 25-61",
           0
          ],
          [
           "Adult 18-24",
           0
          ],
          [
           "Elder Adult 62+",
           0
          ],
          [
           "Children",
           0
          ],
          [
           "Client Doesn't Know or Client Refused",
           0
          ],
          [
           "Has a Disabling Condition",
           0
          ],
          [
           "Does Not Have a Disabling Condition",
           0
          ],
          [
           "Client Doesn't Know or Client Refused",
           0
          ],
          [
           "American Indian or Alaskan Native",
           0.33
          ],
          [
           "Asian",
           0
          ],
          [
           "Black or African American",
           0.28
          ],
          [
           "Native Hawaiian or Other Pacific Islander",
           0
          ],
          [
           "White",
           0.24
          ],
          [
           "Client Doesn't Know or Client Refused",
           0
          ],
          [
           "Hispanic/Latino",
           0.13
          ],
          [
           "Non-Hispanic/Non-Latino",
           0.32
          ],
          [
           "Client Doesn't Know or Client Refused",
           0
          ],
          [
           "Female",
           0.24
          ],
          [
           "Male",
           0.27
          ],
          [
           "Trans Female",
           0.5
          ],
          [
           "Trans Male",
           0
          ],
          [
           "Gender Non-Conforming",
           0
          ],
          [
           "Client Doesn't Know or Client Refused",
           0
          ],
          [
           "Veteran",
           0.47
          ],
          [
           "Not a Veteran",
           0.23
          ],
          [
           "Client Doesn't Know or Client Refused",
           0
          ],
          [
           "Adult 25-61",
           0.32
          ],
          [
           "Adult 18-24",
           0.18
          ],
          [
           "Elder Adult 62+",
           0.43
          ],
          [
           "Children",
           0.14
          ],
          [
           "Client Doesn't Know or Client Refused",
           0
          ],
          [
           "Has a Disabling Condition",
           0.4
          ],
          [
           "Does Not Have a Disabling Condition",
           0.2
          ],
          [
           "Client Doesn't Know or Client Refused",
           0
          ],
          [
           "American Indian or Alaskan Native",
           0
          ],
          [
           "Asian",
           0
          ],
          [
           "Black or African American",
           0.05
          ],
          [
           "Native Hawaiian or Other Pacific Islander",
           0
          ],
          [
           "White",
           0.03
          ],
          [
           "Client Doesn't Know or Client Refused",
           0
          ],
          [
           "Hispanic/Latino",
           0
          ],
          [
           "Non-Hispanic/Non-Latino",
           0.08
          ],
          [
           "Client Doesn't Know or Client Refused",
           0
          ],
          [
           "Female",
           0.03
          ],
          [
           "Male",
           0.06
          ],
          [
           "Trans Female",
           0
          ],
          [
           "Trans Male",
           0
          ],
          [
           "Gender Non-Conforming",
           0
          ],
          [
           "Client Doesn't Know or Client Refused",
           0
          ],
          [
           "Veteran",
           0
          ],
          [
           "Not a Veteran",
           0.04
          ],
          [
           "Client Doesn't Know or Client Refused",
           0
          ],
          [
           "Adult 25-61",
           0.03
          ],
          [
           "Adult 18-24",
           0.07
          ],
          [
           "Elder Adult 62+",
           0
          ],
          [
           "Children",
           0.03
          ],
          [
           "Client Doesn't Know or Client Refused",
           0
          ],
          [
           "Has a Disabling Condition",
           0
          ],
          [
           "Does Not Have a Disabling Condition",
           0.05
          ],
          [
           "Client Doesn't Know or Client Refused",
           0
          ],
          [
           "American Indian or Alaskan Native",
           0
          ],
          [
           "Asian",
           0
          ],
          [
           "Black or African American",
           0.18
          ],
          [
           "Native Hawaiian or Other Pacific Islander",
           0
          ],
          [
           "White",
           1.39
          ],
          [
           "Client Doesn't Know or Client Refused",
           0
          ],
          [
           "Hispanic/Latino",
           0
          ],
          [
           "Non-Hispanic/Non-Latino",
           0.23
          ],
          [
           "Client Doesn't Know or Client Refused",
           0
          ],
          [
           "Female",
           0.17
          ],
          [
           "Male",
           0.22
          ],
          [
           "Trans Female",
           0
          ],
          [
           "Trans Male",
           0
          ],
          [
           "Gender Non-Conforming",
           0
          ],
          [
           "Client Doesn't Know or Client Refused",
           0
          ],
          [
           "Veteran",
           0.19
          ],
          [
           "Not a Veteran",
           1
          ],
          [
           "Client Doesn't Know or Client Refused",
           0
          ],
          [
           "Adult 25-61",
           0.25
          ],
          [
           "Adult 18-24",
           0
          ],
          [
           "Elder Adult 62+",
           0
          ],
          [
           "Children",
           0
          ],
          [
           "Client Doesn't Know or Client Refused",
           0
          ],
          [
           "Has a Disabling Condition",
           0.19
          ],
          [
           "Does Not Have a Disabling Condition",
           0.5
          ],
          [
           "Client Doesn't Know or Client Refused",
           0
          ],
          [
           "American Indian or Alaskan Native",
           0
          ],
          [
           "Asian",
           0
          ],
          [
           "Black or African American",
           0.15
          ],
          [
           "Native Hawaiian or Other Pacific Islander",
           0
          ],
          [
           "White",
           0.14
          ],
          [
           "Client Doesn't Know or Client Refused",
           0.07
          ],
          [
           "Hispanic/Latino",
           0.11
          ],
          [
           "Non-Hispanic/Non-Latino",
           0.16
          ],
          [
           "Client Doesn't Know or Client Refused",
           0.17
          ],
          [
           "Female",
           0.11
          ],
          [
           "Male",
           0.18
          ],
          [
           "Trans Female",
           0
          ],
          [
           "Trans Male",
           0
          ],
          [
           "Gender Non-Conforming",
           0
          ],
          [
           "Client Doesn't Know or Client Refused",
           0
          ],
          [
           "Veteran",
           0.24
          ],
          [
           "Not a Veteran",
           0.13
          ],
          [
           "Client Doesn't Know or Client Refused",
           0
          ],
          [
           "Adult 25-61",
           0.19
          ],
          [
           "Adult 18-24",
           0.13
          ],
          [
           "Elder Adult 62+",
           0.19
          ],
          [
           "Children",
           0.17
          ],
          [
           "Client Doesn't Know or Client Refused",
           0
          ],
          [
           "Has a Disabling Condition",
           0.38
          ],
          [
           "Does Not Have a Disabling Condition",
           0.11
          ],
          [
           "Client Doesn't Know or Client Refused",
           0
          ]
         ],
         "hovertemplate": "<b>%{hovertext}</b><br><br>Fiscal Year=2017<br>Numerator=%{x}<br>Denominator=%{y}<br>Specific Demographic=%{customdata[0]}<br>Rate=%{customdata[1]}<extra></extra>",
         "hovertext": [
          "Race",
          "Race",
          "Race",
          "Race",
          "Race",
          "Race",
          "Ethnicity",
          "Ethnicity",
          "Ethnicity",
          "Gender",
          "Gender",
          "Gender",
          "Gender",
          "Gender",
          "Gender",
          "Veteran Status",
          "Veteran Status",
          "Veteran Status",
          "Age Category",
          "Age Category",
          "Age Category",
          "Age Category",
          "Age Category",
          "Disability Status",
          "Disability Status",
          "Disability Status",
          "Race",
          "Race",
          "Race",
          "Race",
          "Race",
          "Race",
          "Ethnicity",
          "Ethnicity",
          "Ethnicity",
          "Gender",
          "Gender",
          "Gender",
          "Gender",
          "Gender",
          "Gender",
          "Veteran Status",
          "Veteran Status",
          "Veteran Status",
          "Age Category",
          "Age Category",
          "Age Category",
          "Age Category",
          "Age Category",
          "Disability Status",
          "Disability Status",
          "Disability Status",
          "Race",
          "Race",
          "Race",
          "Race",
          "Race",
          "Race",
          "Ethnicity",
          "Ethnicity",
          "Ethnicity",
          "Gender",
          "Gender",
          "Gender",
          "Gender",
          "Gender",
          "Gender",
          "Veteran Status",
          "Veteran Status",
          "Veteran Status",
          "Age Category",
          "Age Category",
          "Age Category",
          "Age Category",
          "Age Category",
          "Disability Status",
          "Disability Status",
          "Disability Status",
          "Race",
          "Race",
          "Race",
          "Race",
          "Race",
          "Race",
          "Ethnicity",
          "Ethnicity",
          "Ethnicity",
          "Gender",
          "Gender",
          "Gender",
          "Gender",
          "Gender",
          "Gender",
          "Veteran Status",
          "Veteran Status",
          "Veteran Status",
          "Age Category",
          "Age Category",
          "Age Category",
          "Age Category",
          "Age Category",
          "Disability Status",
          "Disability Status",
          "Disability Status",
          "Race",
          "Race",
          "Race",
          "Race",
          "Race",
          "Race",
          "Ethnicity",
          "Ethnicity",
          "Ethnicity",
          "Gender",
          "Gender",
          "Gender",
          "Gender",
          "Gender",
          "Gender",
          "Veteran Status",
          "Veteran Status",
          "Veteran Status",
          "Age Category",
          "Age Category",
          "Age Category",
          "Age Category",
          "Age Category",
          "Disability Status",
          "Disability Status",
          "Disability Status"
         ],
         "ids": [
          "Race",
          "Race",
          "Race",
          "Race",
          "Race",
          "Race",
          "Ethnicity",
          "Ethnicity",
          "Ethnicity",
          "Gender",
          "Gender",
          "Gender",
          "Gender",
          "Gender",
          "Gender",
          "Veteran Status",
          "Veteran Status",
          "Veteran Status",
          "Age Category",
          "Age Category",
          "Age Category",
          "Age Category",
          "Age Category",
          "Disability Status",
          "Disability Status",
          "Disability Status",
          "Race",
          "Race",
          "Race",
          "Race",
          "Race",
          "Race",
          "Ethnicity",
          "Ethnicity",
          "Ethnicity",
          "Gender",
          "Gender",
          "Gender",
          "Gender",
          "Gender",
          "Gender",
          "Veteran Status",
          "Veteran Status",
          "Veteran Status",
          "Age Category",
          "Age Category",
          "Age Category",
          "Age Category",
          "Age Category",
          "Disability Status",
          "Disability Status",
          "Disability Status",
          "Race",
          "Race",
          "Race",
          "Race",
          "Race",
          "Race",
          "Ethnicity",
          "Ethnicity",
          "Ethnicity",
          "Gender",
          "Gender",
          "Gender",
          "Gender",
          "Gender",
          "Gender",
          "Veteran Status",
          "Veteran Status",
          "Veteran Status",
          "Age Category",
          "Age Category",
          "Age Category",
          "Age Category",
          "Age Category",
          "Disability Status",
          "Disability Status",
          "Disability Status",
          "Race",
          "Race",
          "Race",
          "Race",
          "Race",
          "Race",
          "Ethnicity",
          "Ethnicity",
          "Ethnicity",
          "Gender",
          "Gender",
          "Gender",
          "Gender",
          "Gender",
          "Gender",
          "Veteran Status",
          "Veteran Status",
          "Veteran Status",
          "Age Category",
          "Age Category",
          "Age Category",
          "Age Category",
          "Age Category",
          "Disability Status",
          "Disability Status",
          "Disability Status",
          "Race",
          "Race",
          "Race",
          "Race",
          "Race",
          "Race",
          "Ethnicity",
          "Ethnicity",
          "Ethnicity",
          "Gender",
          "Gender",
          "Gender",
          "Gender",
          "Gender",
          "Gender",
          "Veteran Status",
          "Veteran Status",
          "Veteran Status",
          "Age Category",
          "Age Category",
          "Age Category",
          "Age Category",
          "Age Category",
          "Disability Status",
          "Disability Status",
          "Disability Status"
         ],
         "legendgroup": "",
         "marker": {
          "color": "#636efa",
          "symbol": "circle"
         },
         "mode": "markers",
         "name": "",
         "orientation": "v",
         "showlegend": false,
         "type": "scatter",
         "x": [
          0,
          0,
          0,
          0,
          0,
          0,
          0,
          0,
          0,
          0,
          0,
          0,
          0,
          0,
          0,
          0,
          0,
          0,
          0,
          0,
          0,
          0,
          0,
          0,
          0,
          0,
          1,
          0,
          57,
          0,
          56,
          0,
          21,
          93,
          0,
          63,
          50,
          1,
          0,
          0,
          0,
          16,
          98,
          0,
          82,
          4,
          6,
          22,
          0,
          53,
          61,
          0,
          0,
          0,
          3,
          0,
          2,
          0,
          0,
          5,
          0,
          2,
          3,
          0,
          0,
          0,
          0,
          0,
          5,
          0,
          1,
          2,
          0,
          2,
          0,
          0,
          5,
          0,
          0,
          0,
          2,
          0,
          25,
          0,
          0,
          7,
          0,
          1,
          6,
          0,
          0,
          0,
          0,
          6,
          1,
          0,
          7,
          0,
          0,
          0,
          0,
          6,
          1,
          0,
          0,
          0,
          61,
          0,
          46,
          1,
          22,
          86,
          1,
          36,
          73,
          0,
          0,
          0,
          0,
          25,
          84,
          0,
          75,
          7,
          6,
          45,
          0,
          121,
          47,
          0
         ],
         "xaxis": "x",
         "y": [
          0,
          0,
          0,
          0,
          0,
          0,
          0,
          0,
          0,
          0,
          0,
          0,
          0,
          0,
          0,
          0,
          0,
          0,
          0,
          0,
          0,
          0,
          0,
          0,
          0,
          0,
          3,
          11,
          202,
          1,
          237,
          0,
          166,
          288,
          0,
          268,
          184,
          2,
          0,
          0,
          0,
          34,
          419,
          0,
          260,
          22,
          14,
          158,
          0,
          133,
          309,
          12,
          1,
          0,
          59,
          0,
          64,
          1,
          58,
          66,
          1,
          72,
          53,
          0,
          0,
          0,
          0,
          8,
          117,
          0,
          34,
          27,
          0,
          64,
          0,
          20,
          104,
          0,
          3,
          0,
          11,
          0,
          18,
          1,
          2,
          30,
          1,
          6,
          27,
          0,
          0,
          0,
          0,
          31,
          1,
          0,
          28,
          0,
          5,
          0,
          0,
          31,
          2,
          0,
          1,
          4,
          396,
          10,
          329,
          15,
          198,
          551,
          6,
          339,
          415,
          1,
          0,
          0,
          0,
          103,
          651,
          1,
          402,
          52,
          31,
          270,
          0,
          321,
          432,
          2
         ],
         "yaxis": "y"
        }
       ],
       "frames": [
        {
         "data": [
          {
           "customdata": [
            [
             "American Indian or Alaskan Native",
             0
            ],
            [
             "Asian",
             0
            ],
            [
             "Black or African American",
             0
            ],
            [
             "Native Hawaiian or Other Pacific Islander",
             0
            ],
            [
             "White",
             0
            ],
            [
             "Client Doesn't Know or Client Refused",
             0
            ],
            [
             "Hispanic/Latino",
             0
            ],
            [
             "Non-Hispanic/Non-Latino",
             0
            ],
            [
             "Client Doesn't Know or Client Refused",
             0
            ],
            [
             "Female",
             0
            ],
            [
             "Male",
             0
            ],
            [
             "Trans Female",
             0
            ],
            [
             "Trans Male",
             0
            ],
            [
             "Gender Non-Conforming",
             0
            ],
            [
             "Client Doesn't Know or Client Refused",
             0
            ],
            [
             "Veteran",
             0
            ],
            [
             "Not a Veteran",
             0
            ],
            [
             "Client Doesn't Know or Client Refused",
             0
            ],
            [
             "Adult 25-61",
             0
            ],
            [
             "Adult 18-24",
             0
            ],
            [
             "Elder Adult 62+",
             0
            ],
            [
             "Children",
             0
            ],
            [
             "Client Doesn't Know or Client Refused",
             0
            ],
            [
             "Has a Disabling Condition",
             0
            ],
            [
             "Does Not Have a Disabling Condition",
             0
            ],
            [
             "Client Doesn't Know or Client Refused",
             0
            ],
            [
             "American Indian or Alaskan Native",
             0.33
            ],
            [
             "Asian",
             0
            ],
            [
             "Black or African American",
             0.28
            ],
            [
             "Native Hawaiian or Other Pacific Islander",
             0
            ],
            [
             "White",
             0.24
            ],
            [
             "Client Doesn't Know or Client Refused",
             0
            ],
            [
             "Hispanic/Latino",
             0.13
            ],
            [
             "Non-Hispanic/Non-Latino",
             0.32
            ],
            [
             "Client Doesn't Know or Client Refused",
             0
            ],
            [
             "Female",
             0.24
            ],
            [
             "Male",
             0.27
            ],
            [
             "Trans Female",
             0.5
            ],
            [
             "Trans Male",
             0
            ],
            [
             "Gender Non-Conforming",
             0
            ],
            [
             "Client Doesn't Know or Client Refused",
             0
            ],
            [
             "Veteran",
             0.47
            ],
            [
             "Not a Veteran",
             0.23
            ],
            [
             "Client Doesn't Know or Client Refused",
             0
            ],
            [
             "Adult 25-61",
             0.32
            ],
            [
             "Adult 18-24",
             0.18
            ],
            [
             "Elder Adult 62+",
             0.43
            ],
            [
             "Children",
             0.14
            ],
            [
             "Client Doesn't Know or Client Refused",
             0
            ],
            [
             "Has a Disabling Condition",
             0.4
            ],
            [
             "Does Not Have a Disabling Condition",
             0.2
            ],
            [
             "Client Doesn't Know or Client Refused",
             0
            ],
            [
             "American Indian or Alaskan Native",
             0
            ],
            [
             "Asian",
             0
            ],
            [
             "Black or African American",
             0.05
            ],
            [
             "Native Hawaiian or Other Pacific Islander",
             0
            ],
            [
             "White",
             0.03
            ],
            [
             "Client Doesn't Know or Client Refused",
             0
            ],
            [
             "Hispanic/Latino",
             0
            ],
            [
             "Non-Hispanic/Non-Latino",
             0.08
            ],
            [
             "Client Doesn't Know or Client Refused",
             0
            ],
            [
             "Female",
             0.03
            ],
            [
             "Male",
             0.06
            ],
            [
             "Trans Female",
             0
            ],
            [
             "Trans Male",
             0
            ],
            [
             "Gender Non-Conforming",
             0
            ],
            [
             "Client Doesn't Know or Client Refused",
             0
            ],
            [
             "Veteran",
             0
            ],
            [
             "Not a Veteran",
             0.04
            ],
            [
             "Client Doesn't Know or Client Refused",
             0
            ],
            [
             "Adult 25-61",
             0.03
            ],
            [
             "Adult 18-24",
             0.07
            ],
            [
             "Elder Adult 62+",
             0
            ],
            [
             "Children",
             0.03
            ],
            [
             "Client Doesn't Know or Client Refused",
             0
            ],
            [
             "Has a Disabling Condition",
             0
            ],
            [
             "Does Not Have a Disabling Condition",
             0.05
            ],
            [
             "Client Doesn't Know or Client Refused",
             0
            ],
            [
             "American Indian or Alaskan Native",
             0
            ],
            [
             "Asian",
             0
            ],
            [
             "Black or African American",
             0.18
            ],
            [
             "Native Hawaiian or Other Pacific Islander",
             0
            ],
            [
             "White",
             1.39
            ],
            [
             "Client Doesn't Know or Client Refused",
             0
            ],
            [
             "Hispanic/Latino",
             0
            ],
            [
             "Non-Hispanic/Non-Latino",
             0.23
            ],
            [
             "Client Doesn't Know or Client Refused",
             0
            ],
            [
             "Female",
             0.17
            ],
            [
             "Male",
             0.22
            ],
            [
             "Trans Female",
             0
            ],
            [
             "Trans Male",
             0
            ],
            [
             "Gender Non-Conforming",
             0
            ],
            [
             "Client Doesn't Know or Client Refused",
             0
            ],
            [
             "Veteran",
             0.19
            ],
            [
             "Not a Veteran",
             1
            ],
            [
             "Client Doesn't Know or Client Refused",
             0
            ],
            [
             "Adult 25-61",
             0.25
            ],
            [
             "Adult 18-24",
             0
            ],
            [
             "Elder Adult 62+",
             0
            ],
            [
             "Children",
             0
            ],
            [
             "Client Doesn't Know or Client Refused",
             0
            ],
            [
             "Has a Disabling Condition",
             0.19
            ],
            [
             "Does Not Have a Disabling Condition",
             0.5
            ],
            [
             "Client Doesn't Know or Client Refused",
             0
            ],
            [
             "American Indian or Alaskan Native",
             0
            ],
            [
             "Asian",
             0
            ],
            [
             "Black or African American",
             0.15
            ],
            [
             "Native Hawaiian or Other Pacific Islander",
             0
            ],
            [
             "White",
             0.14
            ],
            [
             "Client Doesn't Know or Client Refused",
             0.07
            ],
            [
             "Hispanic/Latino",
             0.11
            ],
            [
             "Non-Hispanic/Non-Latino",
             0.16
            ],
            [
             "Client Doesn't Know or Client Refused",
             0.17
            ],
            [
             "Female",
             0.11
            ],
            [
             "Male",
             0.18
            ],
            [
             "Trans Female",
             0
            ],
            [
             "Trans Male",
             0
            ],
            [
             "Gender Non-Conforming",
             0
            ],
            [
             "Client Doesn't Know or Client Refused",
             0
            ],
            [
             "Veteran",
             0.24
            ],
            [
             "Not a Veteran",
             0.13
            ],
            [
             "Client Doesn't Know or Client Refused",
             0
            ],
            [
             "Adult 25-61",
             0.19
            ],
            [
             "Adult 18-24",
             0.13
            ],
            [
             "Elder Adult 62+",
             0.19
            ],
            [
             "Children",
             0.17
            ],
            [
             "Client Doesn't Know or Client Refused",
             0
            ],
            [
             "Has a Disabling Condition",
             0.38
            ],
            [
             "Does Not Have a Disabling Condition",
             0.11
            ],
            [
             "Client Doesn't Know or Client Refused",
             0
            ]
           ],
           "hovertemplate": "<b>%{hovertext}</b><br><br>Fiscal Year=2017<br>Numerator=%{x}<br>Denominator=%{y}<br>Specific Demographic=%{customdata[0]}<br>Rate=%{customdata[1]}<extra></extra>",
           "hovertext": [
            "Race",
            "Race",
            "Race",
            "Race",
            "Race",
            "Race",
            "Ethnicity",
            "Ethnicity",
            "Ethnicity",
            "Gender",
            "Gender",
            "Gender",
            "Gender",
            "Gender",
            "Gender",
            "Veteran Status",
            "Veteran Status",
            "Veteran Status",
            "Age Category",
            "Age Category",
            "Age Category",
            "Age Category",
            "Age Category",
            "Disability Status",
            "Disability Status",
            "Disability Status",
            "Race",
            "Race",
            "Race",
            "Race",
            "Race",
            "Race",
            "Ethnicity",
            "Ethnicity",
            "Ethnicity",
            "Gender",
            "Gender",
            "Gender",
            "Gender",
            "Gender",
            "Gender",
            "Veteran Status",
            "Veteran Status",
            "Veteran Status",
            "Age Category",
            "Age Category",
            "Age Category",
            "Age Category",
            "Age Category",
            "Disability Status",
            "Disability Status",
            "Disability Status",
            "Race",
            "Race",
            "Race",
            "Race",
            "Race",
            "Race",
            "Ethnicity",
            "Ethnicity",
            "Ethnicity",
            "Gender",
            "Gender",
            "Gender",
            "Gender",
            "Gender",
            "Gender",
            "Veteran Status",
            "Veteran Status",
            "Veteran Status",
            "Age Category",
            "Age Category",
            "Age Category",
            "Age Category",
            "Age Category",
            "Disability Status",
            "Disability Status",
            "Disability Status",
            "Race",
            "Race",
            "Race",
            "Race",
            "Race",
            "Race",
            "Ethnicity",
            "Ethnicity",
            "Ethnicity",
            "Gender",
            "Gender",
            "Gender",
            "Gender",
            "Gender",
            "Gender",
            "Veteran Status",
            "Veteran Status",
            "Veteran Status",
            "Age Category",
            "Age Category",
            "Age Category",
            "Age Category",
            "Age Category",
            "Disability Status",
            "Disability Status",
            "Disability Status",
            "Race",
            "Race",
            "Race",
            "Race",
            "Race",
            "Race",
            "Ethnicity",
            "Ethnicity",
            "Ethnicity",
            "Gender",
            "Gender",
            "Gender",
            "Gender",
            "Gender",
            "Gender",
            "Veteran Status",
            "Veteran Status",
            "Veteran Status",
            "Age Category",
            "Age Category",
            "Age Category",
            "Age Category",
            "Age Category",
            "Disability Status",
            "Disability Status",
            "Disability Status"
           ],
           "ids": [
            "Race",
            "Race",
            "Race",
            "Race",
            "Race",
            "Race",
            "Ethnicity",
            "Ethnicity",
            "Ethnicity",
            "Gender",
            "Gender",
            "Gender",
            "Gender",
            "Gender",
            "Gender",
            "Veteran Status",
            "Veteran Status",
            "Veteran Status",
            "Age Category",
            "Age Category",
            "Age Category",
            "Age Category",
            "Age Category",
            "Disability Status",
            "Disability Status",
            "Disability Status",
            "Race",
            "Race",
            "Race",
            "Race",
            "Race",
            "Race",
            "Ethnicity",
            "Ethnicity",
            "Ethnicity",
            "Gender",
            "Gender",
            "Gender",
            "Gender",
            "Gender",
            "Gender",
            "Veteran Status",
            "Veteran Status",
            "Veteran Status",
            "Age Category",
            "Age Category",
            "Age Category",
            "Age Category",
            "Age Category",
            "Disability Status",
            "Disability Status",
            "Disability Status",
            "Race",
            "Race",
            "Race",
            "Race",
            "Race",
            "Race",
            "Ethnicity",
            "Ethnicity",
            "Ethnicity",
            "Gender",
            "Gender",
            "Gender",
            "Gender",
            "Gender",
            "Gender",
            "Veteran Status",
            "Veteran Status",
            "Veteran Status",
            "Age Category",
            "Age Category",
            "Age Category",
            "Age Category",
            "Age Category",
            "Disability Status",
            "Disability Status",
            "Disability Status",
            "Race",
            "Race",
            "Race",
            "Race",
            "Race",
            "Race",
            "Ethnicity",
            "Ethnicity",
            "Ethnicity",
            "Gender",
            "Gender",
            "Gender",
            "Gender",
            "Gender",
            "Gender",
            "Veteran Status",
            "Veteran Status",
            "Veteran Status",
            "Age Category",
            "Age Category",
            "Age Category",
            "Age Category",
            "Age Category",
            "Disability Status",
            "Disability Status",
            "Disability Status",
            "Race",
            "Race",
            "Race",
            "Race",
            "Race",
            "Race",
            "Ethnicity",
            "Ethnicity",
            "Ethnicity",
            "Gender",
            "Gender",
            "Gender",
            "Gender",
            "Gender",
            "Gender",
            "Veteran Status",
            "Veteran Status",
            "Veteran Status",
            "Age Category",
            "Age Category",
            "Age Category",
            "Age Category",
            "Age Category",
            "Disability Status",
            "Disability Status",
            "Disability Status"
           ],
           "legendgroup": "",
           "marker": {
            "color": "#636efa",
            "symbol": "circle"
           },
           "mode": "markers",
           "name": "",
           "orientation": "v",
           "showlegend": false,
           "type": "scatter",
           "x": [
            0,
            0,
            0,
            0,
            0,
            0,
            0,
            0,
            0,
            0,
            0,
            0,
            0,
            0,
            0,
            0,
            0,
            0,
            0,
            0,
            0,
            0,
            0,
            0,
            0,
            0,
            1,
            0,
            57,
            0,
            56,
            0,
            21,
            93,
            0,
            63,
            50,
            1,
            0,
            0,
            0,
            16,
            98,
            0,
            82,
            4,
            6,
            22,
            0,
            53,
            61,
            0,
            0,
            0,
            3,
            0,
            2,
            0,
            0,
            5,
            0,
            2,
            3,
            0,
            0,
            0,
            0,
            0,
            5,
            0,
            1,
            2,
            0,
            2,
            0,
            0,
            5,
            0,
            0,
            0,
            2,
            0,
            25,
            0,
            0,
            7,
            0,
            1,
            6,
            0,
            0,
            0,
            0,
            6,
            1,
            0,
            7,
            0,
            0,
            0,
            0,
            6,
            1,
            0,
            0,
            0,
            61,
            0,
            46,
            1,
            22,
            86,
            1,
            36,
            73,
            0,
            0,
            0,
            0,
            25,
            84,
            0,
            75,
            7,
            6,
            45,
            0,
            121,
            47,
            0
           ],
           "xaxis": "x",
           "y": [
            0,
            0,
            0,
            0,
            0,
            0,
            0,
            0,
            0,
            0,
            0,
            0,
            0,
            0,
            0,
            0,
            0,
            0,
            0,
            0,
            0,
            0,
            0,
            0,
            0,
            0,
            3,
            11,
            202,
            1,
            237,
            0,
            166,
            288,
            0,
            268,
            184,
            2,
            0,
            0,
            0,
            34,
            419,
            0,
            260,
            22,
            14,
            158,
            0,
            133,
            309,
            12,
            1,
            0,
            59,
            0,
            64,
            1,
            58,
            66,
            1,
            72,
            53,
            0,
            0,
            0,
            0,
            8,
            117,
            0,
            34,
            27,
            0,
            64,
            0,
            20,
            104,
            0,
            3,
            0,
            11,
            0,
            18,
            1,
            2,
            30,
            1,
            6,
            27,
            0,
            0,
            0,
            0,
            31,
            1,
            0,
            28,
            0,
            5,
            0,
            0,
            31,
            2,
            0,
            1,
            4,
            396,
            10,
            329,
            15,
            198,
            551,
            6,
            339,
            415,
            1,
            0,
            0,
            0,
            103,
            651,
            1,
            402,
            52,
            31,
            270,
            0,
            321,
            432,
            2
           ],
           "yaxis": "y"
          }
         ],
         "name": "2017"
        },
        {
         "data": [
          {
           "customdata": [
            [
             "American Indian or Alaskan Native",
             0
            ],
            [
             "Asian",
             0
            ],
            [
             "Black or African American",
             0
            ],
            [
             "Native Hawaiian or Other Pacific Islander",
             0
            ],
            [
             "White",
             0.38
            ],
            [
             "Client Doesn't Know or Client Refused",
             0
            ],
            [
             "Hispanic/Latino",
             0.33
            ],
            [
             "Non-Hispanic/Non-Latino",
             0.4
            ],
            [
             "Client Doesn't Know or Client Refused",
             0
            ],
            [
             "Female",
             0
            ],
            [
             "Male",
             0.38
            ],
            [
             "Trans Female",
             0
            ],
            [
             "Trans Male",
             0
            ],
            [
             "Gender Non-Conforming",
             0
            ],
            [
             "Client Doesn't Know or Client Refused",
             0
            ],
            [
             "Veteran",
             1
            ],
            [
             "Not a Veteran",
             0.17
            ],
            [
             "Client Doesn't Know or Client Refused",
             0
            ],
            [
             "Adult 25-61",
             0.67
            ],
            [
             "Adult 18-24",
             0.2
            ],
            [
             "Elder Adult 62+",
             0
            ],
            [
             "Children",
             0
            ],
            [
             "Client Doesn't Know or Client Refused",
             0
            ],
            [
             "Has a Disabling Condition",
             0.5
            ],
            [
             "Does Not Have a Disabling Condition",
             0.25
            ],
            [
             "Client Doesn't Know or Client Refused",
             0
            ],
            [
             "American Indian or Alaskan Native",
             0.67
            ],
            [
             "Asian",
             0.13
            ],
            [
             "Black or African American",
             0.17
            ],
            [
             "Native Hawaiian or Other Pacific Islander",
             0.2
            ],
            [
             "White",
             0.23
            ],
            [
             "Client Doesn't Know or Client Refused",
             0
            ],
            [
             "Hispanic/Latino",
             0.11
            ],
            [
             "Non-Hispanic/Non-Latino",
             0.24
            ],
            [
             "Client Doesn't Know or Client Refused",
             0.33
            ],
            [
             "Female",
             0.22
            ],
            [
             "Male",
             0.18
            ],
            [
             "Trans Female",
             0
            ],
            [
             "Trans Male",
             0
            ],
            [
             "Gender Non-Conforming",
             0
            ],
            [
             "Client Doesn't Know or Client Refused",
             0
            ],
            [
             "Veteran",
             0.25
            ],
            [
             "Not a Veteran",
             0.19
            ],
            [
             "Client Doesn't Know or Client Refused",
             0
            ],
            [
             "Adult 25-61",
             0.24
            ],
            [
             "Adult 18-24",
             0.14
            ],
            [
             "Elder Adult 62+",
             0.32
            ],
            [
             "Children",
             0.1
            ],
            [
             "Client Doesn't Know or Client Refused",
             0
            ],
            [
             "Has a Disabling Condition",
             0.3
            ],
            [
             "Does Not Have a Disabling Condition",
             0.16
            ],
            [
             "Client Doesn't Know or Client Refused",
             0
            ],
            [
             "American Indian or Alaskan Native",
             0
            ],
            [
             "Asian",
             0
            ],
            [
             "Black or African American",
             0.16
            ],
            [
             "Native Hawaiian or Other Pacific Islander",
             0
            ],
            [
             "White",
             0.17
            ],
            [
             "Client Doesn't Know or Client Refused",
             0
            ],
            [
             "Hispanic/Latino",
             0.16
            ],
            [
             "Non-Hispanic/Non-Latino",
             0.17
            ],
            [
             "Client Doesn't Know or Client Refused",
             0
            ],
            [
             "Female",
             0.19
            ],
            [
             "Male",
             0.14
            ],
            [
             "Trans Female",
             0
            ],
            [
             "Trans Male",
             0
            ],
            [
             "Gender Non-Conforming",
             0
            ],
            [
             "Client Doesn't Know or Client Refused",
             0
            ],
            [
             "Veteran",
             0.18
            ],
            [
             "Not a Veteran",
             0.16
            ],
            [
             "Client Doesn't Know or Client Refused",
             0
            ],
            [
             "Adult 25-61",
             0.19
            ],
            [
             "Adult 18-24",
             0.18
            ],
            [
             "Elder Adult 62+",
             0.13
            ],
            [
             "Children",
             0.15
            ],
            [
             "Client Doesn't Know or Client Refused",
             0
            ],
            [
             "Has a Disabling Condition",
             0.14
            ],
            [
             "Does Not Have a Disabling Condition",
             0.18
            ],
            [
             "Client Doesn't Know or Client Refused",
             0
            ],
            [
             "American Indian or Alaskan Native",
             0
            ],
            [
             "Asian",
             0
            ],
            [
             "Black or African American",
             0.42
            ],
            [
             "Native Hawaiian or Other Pacific Islander",
             0
            ],
            [
             "White",
             0.22
            ],
            [
             "Client Doesn't Know or Client Refused",
             0
            ],
            [
             "Hispanic/Latino",
             0
            ],
            [
             "Non-Hispanic/Non-Latino",
             0.29
            ],
            [
             "Client Doesn't Know or Client Refused",
             0
            ],
            [
             "Female",
             0
            ],
            [
             "Male",
             0.29
            ],
            [
             "Trans Female",
             0
            ],
            [
             "Trans Male",
             0
            ],
            [
             "Gender Non-Conforming",
             0
            ],
            [
             "Client Doesn't Know or Client Refused",
             0
            ],
            [
             "Veteran",
             0.29
            ],
            [
             "Not a Veteran",
             0
            ],
            [
             "Client Doesn't Know or Client Refused",
             0
            ],
            [
             "Adult 25-61",
             0.23
            ],
            [
             "Adult 18-24",
             0
            ],
            [
             "Elder Adult 62+",
             0.44
            ],
            [
             "Children",
             0
            ],
            [
             "Client Doesn't Know or Client Refused",
             0
            ],
            [
             "Has a Disabling Condition",
             0.3
            ],
            [
             "Does Not Have a Disabling Condition",
             0.2
            ],
            [
             "Client Doesn't Know or Client Refused",
             0
            ],
            [
             "American Indian or Alaskan Native",
             0
            ],
            [
             "Asian",
             0
            ],
            [
             "Black or African American",
             0.22
            ],
            [
             "Native Hawaiian or Other Pacific Islander",
             0
            ],
            [
             "White",
             0.16
            ],
            [
             "Client Doesn't Know or Client Refused",
             0
            ],
            [
             "Hispanic/Latino",
             0.11
            ],
            [
             "Non-Hispanic/Non-Latino",
             0.22
            ],
            [
             "Client Doesn't Know or Client Refused",
             0
            ],
            [
             "Female",
             0.12
            ],
            [
             "Male",
             0.24
            ],
            [
             "Trans Female",
             0
            ],
            [
             "Trans Male",
             0
            ],
            [
             "Gender Non-Conforming",
             0
            ],
            [
             "Client Doesn't Know or Client Refused",
             0
            ],
            [
             "Veteran",
             0.29
            ],
            [
             "Not a Veteran",
             0.15
            ],
            [
             "Client Doesn't Know or Client Refused",
             0
            ],
            [
             "Adult 25-61",
             0.22
            ],
            [
             "Adult 18-24",
             0.3
            ],
            [
             "Elder Adult 62+",
             0.26
            ],
            [
             "Children",
             0.11
            ],
            [
             "Client Doesn't Know or Client Refused",
             0
            ],
            [
             "Has a Disabling Condition",
             0.24
            ],
            [
             "Does Not Have a Disabling Condition",
             0.13
            ],
            [
             "Client Doesn't Know or Client Refused",
             0.5
            ]
           ],
           "hovertemplate": "<b>%{hovertext}</b><br><br>Fiscal Year=2018<br>Numerator=%{x}<br>Denominator=%{y}<br>Specific Demographic=%{customdata[0]}<br>Rate=%{customdata[1]}<extra></extra>",
           "hovertext": [
            "Race",
            "Race",
            "Race",
            "Race",
            "Race",
            "Race",
            "Ethnicity",
            "Ethnicity",
            "Ethnicity",
            "Gender",
            "Gender",
            "Gender",
            "Gender",
            "Gender",
            "Gender",
            "Veteran Status",
            "Veteran Status",
            "Veteran Status",
            "Age Category",
            "Age Category",
            "Age Category",
            "Age Category",
            "Age Category",
            "Disability Status",
            "Disability Status",
            "Disability Status",
            "Race",
            "Race",
            "Race",
            "Race",
            "Race",
            "Race",
            "Ethnicity",
            "Ethnicity",
            "Ethnicity",
            "Gender",
            "Gender",
            "Gender",
            "Gender",
            "Gender",
            "Gender",
            "Veteran Status",
            "Veteran Status",
            "Veteran Status",
            "Age Category",
            "Age Category",
            "Age Category",
            "Age Category",
            "Age Category",
            "Disability Status",
            "Disability Status",
            "Disability Status",
            "Race",
            "Race",
            "Race",
            "Race",
            "Race",
            "Race",
            "Ethnicity",
            "Ethnicity",
            "Ethnicity",
            "Gender",
            "Gender",
            "Gender",
            "Gender",
            "Gender",
            "Gender",
            "Veteran Status",
            "Veteran Status",
            "Veteran Status",
            "Age Category",
            "Age Category",
            "Age Category",
            "Age Category",
            "Age Category",
            "Disability Status",
            "Disability Status",
            "Disability Status",
            "Race",
            "Race",
            "Race",
            "Race",
            "Race",
            "Race",
            "Ethnicity",
            "Ethnicity",
            "Ethnicity",
            "Gender",
            "Gender",
            "Gender",
            "Gender",
            "Gender",
            "Gender",
            "Veteran Status",
            "Veteran Status",
            "Veteran Status",
            "Age Category",
            "Age Category",
            "Age Category",
            "Age Category",
            "Age Category",
            "Disability Status",
            "Disability Status",
            "Disability Status",
            "Race",
            "Race",
            "Race",
            "Race",
            "Race",
            "Race",
            "Ethnicity",
            "Ethnicity",
            "Ethnicity",
            "Gender",
            "Gender",
            "Gender",
            "Gender",
            "Gender",
            "Gender",
            "Veteran Status",
            "Veteran Status",
            "Veteran Status",
            "Age Category",
            "Age Category",
            "Age Category",
            "Age Category",
            "Age Category",
            "Disability Status",
            "Disability Status",
            "Disability Status"
           ],
           "ids": [
            "Race",
            "Race",
            "Race",
            "Race",
            "Race",
            "Race",
            "Ethnicity",
            "Ethnicity",
            "Ethnicity",
            "Gender",
            "Gender",
            "Gender",
            "Gender",
            "Gender",
            "Gender",
            "Veteran Status",
            "Veteran Status",
            "Veteran Status",
            "Age Category",
            "Age Category",
            "Age Category",
            "Age Category",
            "Age Category",
            "Disability Status",
            "Disability Status",
            "Disability Status",
            "Race",
            "Race",
            "Race",
            "Race",
            "Race",
            "Race",
            "Ethnicity",
            "Ethnicity",
            "Ethnicity",
            "Gender",
            "Gender",
            "Gender",
            "Gender",
            "Gender",
            "Gender",
            "Veteran Status",
            "Veteran Status",
            "Veteran Status",
            "Age Category",
            "Age Category",
            "Age Category",
            "Age Category",
            "Age Category",
            "Disability Status",
            "Disability Status",
            "Disability Status",
            "Race",
            "Race",
            "Race",
            "Race",
            "Race",
            "Race",
            "Ethnicity",
            "Ethnicity",
            "Ethnicity",
            "Gender",
            "Gender",
            "Gender",
            "Gender",
            "Gender",
            "Gender",
            "Veteran Status",
            "Veteran Status",
            "Veteran Status",
            "Age Category",
            "Age Category",
            "Age Category",
            "Age Category",
            "Age Category",
            "Disability Status",
            "Disability Status",
            "Disability Status",
            "Race",
            "Race",
            "Race",
            "Race",
            "Race",
            "Race",
            "Ethnicity",
            "Ethnicity",
            "Ethnicity",
            "Gender",
            "Gender",
            "Gender",
            "Gender",
            "Gender",
            "Gender",
            "Veteran Status",
            "Veteran Status",
            "Veteran Status",
            "Age Category",
            "Age Category",
            "Age Category",
            "Age Category",
            "Age Category",
            "Disability Status",
            "Disability Status",
            "Disability Status",
            "Race",
            "Race",
            "Race",
            "Race",
            "Race",
            "Race",
            "Ethnicity",
            "Ethnicity",
            "Ethnicity",
            "Gender",
            "Gender",
            "Gender",
            "Gender",
            "Gender",
            "Gender",
            "Veteran Status",
            "Veteran Status",
            "Veteran Status",
            "Age Category",
            "Age Category",
            "Age Category",
            "Age Category",
            "Age Category",
            "Disability Status",
            "Disability Status",
            "Disability Status"
           ],
           "legendgroup": "",
           "marker": {
            "color": "#636efa",
            "symbol": "circle"
           },
           "mode": "markers",
           "name": "",
           "orientation": "v",
           "showlegend": false,
           "type": "scatter",
           "x": [
            0,
            0,
            0,
            0,
            3,
            0,
            1,
            2,
            0,
            0,
            3,
            0,
            0,
            0,
            0,
            2,
            1,
            0,
            2,
            1,
            0,
            0,
            0,
            2,
            1,
            0,
            2,
            1,
            45,
            1,
            62,
            0,
            18,
            92,
            1,
            55,
            56,
            0,
            0,
            0,
            0,
            18,
            93,
            0,
            80,
            5,
            11,
            15,
            0,
            52,
            59,
            0,
            0,
            0,
            13,
            0,
            17,
            0,
            11,
            19,
            0,
            20,
            10,
            0,
            0,
            0,
            0,
            9,
            21,
            0,
            13,
            5,
            1,
            11,
            0,
            6,
            24,
            0,
            0,
            0,
            5,
            0,
            5,
            0,
            0,
            10,
            0,
            0,
            10,
            10,
            0,
            0,
            0,
            10,
            0,
            0,
            6,
            0,
            4,
            0,
            0,
            9,
            1,
            0,
            0,
            0,
            86,
            0,
            58,
            0,
            24,
            120,
            0,
            40,
            104,
            0,
            0,
            0,
            0,
            58,
            86,
            0,
            98,
            7,
            10,
            29,
            0,
            90,
            53,
            1
           ],
           "xaxis": "x",
           "y": [
            0,
            0,
            0,
            0,
            8,
            0,
            3,
            5,
            0,
            0,
            8,
            0,
            0,
            0,
            0,
            2,
            6,
            0,
            3,
            5,
            0,
            0,
            0,
            4,
            4,
            0,
            3,
            8,
            261,
            5,
            268,
            11,
            170,
            383,
            3,
            248,
            304,
            2,
            1,
            0,
            1,
            72,
            483,
            0,
            330,
            35,
            34,
            157,
            0,
            172,
            379,
            5,
            0,
            1,
            80,
            0,
            99,
            0,
            68,
            112,
            0,
            105,
            73,
            1,
            1,
            0,
            0,
            51,
            129,
            0,
            69,
            28,
            8,
            75,
            0,
            43,
            136,
            0,
            0,
            0,
            12,
            0,
            23,
            0,
            1,
            34,
            0,
            0,
            35,
            0,
            0,
            0,
            0,
            35,
            0,
            0,
            26,
            0,
            9,
            0,
            0,
            30,
            5,
            0,
            5,
            2,
            387,
            3,
            368,
            8,
            215,
            557,
            1,
            337,
            436,
            0,
            0,
            0,
            0,
            199,
            574,
            0,
            444,
            23,
            39,
            267,
            0,
            376,
            395,
            2
           ],
           "yaxis": "y"
          }
         ],
         "name": "2018"
        },
        {
         "data": [
          {
           "customdata": [
            [
             "American Indian or Alaskan Native",
             0
            ],
            [
             "Asian",
             0
            ],
            [
             "Black or African American",
             0.33
            ],
            [
             "Native Hawaiian or Other Pacific Islander",
             0
            ],
            [
             "White",
             0.43
            ],
            [
             "Client Doesn't Know or Client Refused",
             0
            ],
            [
             "Hispanic/Latino",
             1
            ],
            [
             "Non-Hispanic/Non-Latino",
             0.25
            ],
            [
             "Client Doesn't Know or Client Refused",
             0
            ],
            [
             "Female",
             0.4
            ],
            [
             "Male",
             0.4
            ],
            [
             "Trans Female",
             0
            ],
            [
             "Trans Male",
             0
            ],
            [
             "Gender Non-Conforming",
             0
            ],
            [
             "Client Doesn't Know or Client Refused",
             0
            ],
            [
             "Veteran",
             0
            ],
            [
             "Not a Veteran",
             0.33
            ],
            [
             "Client Doesn't Know or Client Refused",
             0
            ],
            [
             "Adult 25-61",
             0.5
            ],
            [
             "Adult 18-24",
             0
            ],
            [
             "Elder Adult 62+",
             1
            ],
            [
             "Children",
             0
            ],
            [
             "Client Doesn't Know or Client Refused",
             0
            ],
            [
             "Has a Disabling Condition",
             0.44
            ],
            [
             "Does Not Have a Disabling Condition",
             0
            ],
            [
             "Client Doesn't Know or Client Refused",
             0
            ],
            [
             "American Indian or Alaskan Native",
             0.25
            ],
            [
             "Asian",
             0
            ],
            [
             "Black or African American",
             0.15
            ],
            [
             "Native Hawaiian or Other Pacific Islander",
             0
            ],
            [
             "White",
             0.26
            ],
            [
             "Client Doesn't Know or Client Refused",
             0.33
            ],
            [
             "Hispanic/Latino",
             0.23
            ],
            [
             "Non-Hispanic/Non-Latino",
             0.18
            ],
            [
             "Client Doesn't Know or Client Refused",
             0
            ],
            [
             "Female",
             0.21
            ],
            [
             "Male",
             0.17
            ],
            [
             "Trans Female",
             0.5
            ],
            [
             "Trans Male",
             0.5
            ],
            [
             "Gender Non-Conforming",
             0
            ],
            [
             "Client Doesn't Know or Client Refused",
             0
            ],
            [
             "Veteran",
             0.35
            ],
            [
             "Not a Veteran",
             0.18
            ],
            [
             "Client Doesn't Know or Client Refused",
             0
            ],
            [
             "Adult 25-61",
             0.22
            ],
            [
             "Adult 18-24",
             0.19
            ],
            [
             "Elder Adult 62+",
             0.36
            ],
            [
             "Children",
             0.14
            ],
            [
             "Client Doesn't Know or Client Refused",
             0
            ],
            [
             "Has a Disabling Condition",
             0.3
            ],
            [
             "Does Not Have a Disabling Condition",
             0.15
            ],
            [
             "Client Doesn't Know or Client Refused",
             0
            ],
            [
             "American Indian or Alaskan Native",
             0
            ],
            [
             "Asian",
             0
            ],
            [
             "Black or African American",
             0.14
            ],
            [
             "Native Hawaiian or Other Pacific Islander",
             0
            ],
            [
             "White",
             0.16
            ],
            [
             "Client Doesn't Know or Client Refused",
             0
            ],
            [
             "Hispanic/Latino",
             0.18
            ],
            [
             "Non-Hispanic/Non-Latino",
             0.14
            ],
            [
             "Client Doesn't Know or Client Refused",
             0
            ],
            [
             "Female",
             0.17
            ],
            [
             "Male",
             0.13
            ],
            [
             "Trans Female",
             0
            ],
            [
             "Trans Male",
             0
            ],
            [
             "Gender Non-Conforming",
             0
            ],
            [
             "Client Doesn't Know or Client Refused",
             0
            ],
            [
             "Veteran",
             0.17
            ],
            [
             "Not a Veteran",
             0.13
            ],
            [
             "Client Doesn't Know or Client Refused",
             0
            ],
            [
             "Adult 25-61",
             0.09
            ],
            [
             "Adult 18-24",
             0.21
            ],
            [
             "Elder Adult 62+",
             0
            ],
            [
             "Children",
             0.14
            ],
            [
             "Client Doesn't Know or Client Refused",
             0
            ],
            [
             "Has a Disabling Condition",
             0.09
            ],
            [
             "Does Not Have a Disabling Condition",
             0.17
            ],
            [
             "Client Doesn't Know or Client Refused",
             0
            ],
            [
             "American Indian or Alaskan Native",
             0
            ],
            [
             "Asian",
             0
            ],
            [
             "Black or African American",
             0.43
            ],
            [
             "Native Hawaiian or Other Pacific Islander",
             0
            ],
            [
             "White",
             0.09
            ],
            [
             "Client Doesn't Know or Client Refused",
             0
            ],
            [
             "Hispanic/Latino",
             0
            ],
            [
             "Non-Hispanic/Non-Latino",
             0.19
            ],
            [
             "Client Doesn't Know or Client Refused",
             0
            ],
            [
             "Female",
             0
            ],
            [
             "Male",
             0.17
            ],
            [
             "Trans Female",
             0
            ],
            [
             "Trans Male",
             0
            ],
            [
             "Gender Non-Conforming",
             0
            ],
            [
             "Client Doesn't Know or Client Refused",
             0
            ],
            [
             "Veteran",
             0.17
            ],
            [
             "Not a Veteran",
             0
            ],
            [
             "Client Doesn't Know or Client Refused",
             0
            ],
            [
             "Adult 25-61",
             0.19
            ],
            [
             "Adult 18-24",
             0
            ],
            [
             "Elder Adult 62+",
             0
            ],
            [
             "Children",
             0
            ],
            [
             "Client Doesn't Know or Client Refused",
             0
            ],
            [
             "Has a Disabling Condition",
             0.15
            ],
            [
             "Does Not Have a Disabling Condition",
             0.33
            ],
            [
             "Client Doesn't Know or Client Refused",
             0
            ],
            [
             "American Indian or Alaskan Native",
             0.22
            ],
            [
             "Asian",
             0
            ],
            [
             "Black or African American",
             0.17
            ],
            [
             "Native Hawaiian or Other Pacific Islander",
             0
            ],
            [
             "White",
             0.13
            ],
            [
             "Client Doesn't Know or Client Refused",
             0
            ],
            [
             "Hispanic/Latino",
             0.11
            ],
            [
             "Non-Hispanic/Non-Latino",
             0.16
            ],
            [
             "Client Doesn't Know or Client Refused",
             0
            ],
            [
             "Female",
             0.09
            ],
            [
             "Male",
             0.19
            ],
            [
             "Trans Female",
             0.2
            ],
            [
             "Trans Male",
             0
            ],
            [
             "Gender Non-Conforming",
             0
            ],
            [
             "Client Doesn't Know or Client Refused",
             0
            ],
            [
             "Veteran",
             0.21
            ],
            [
             "Not a Veteran",
             0.13
            ],
            [
             "Client Doesn't Know or Client Refused",
             0
            ],
            [
             "Adult 25-61",
             0.19
            ],
            [
             "Adult 18-24",
             0.19
            ],
            [
             "Elder Adult 62+",
             0.17
            ],
            [
             "Children",
             0.05
            ],
            [
             "Client Doesn't Know or Client Refused",
             0
            ],
            [
             "Has a Disabling Condition",
             0.17
            ],
            [
             "Does Not Have a Disabling Condition",
             0.12
            ],
            [
             "Client Doesn't Know or Client Refused",
             0
            ]
           ],
           "hovertemplate": "<b>%{hovertext}</b><br><br>Fiscal Year=2019<br>Numerator=%{x}<br>Denominator=%{y}<br>Specific Demographic=%{customdata[0]}<br>Rate=%{customdata[1]}<extra></extra>",
           "hovertext": [
            "Race",
            "Race",
            "Race",
            "Race",
            "Race",
            "Race",
            "Ethnicity",
            "Ethnicity",
            "Ethnicity",
            "Gender",
            "Gender",
            "Gender",
            "Gender",
            "Gender",
            "Gender",
            "Veteran Status",
            "Veteran Status",
            "Veteran Status",
            "Age Category",
            "Age Category",
            "Age Category",
            "Age Category",
            "Age Category",
            "Disability Status",
            "Disability Status",
            "Disability Status",
            "Race",
            "Race",
            "Race",
            "Race",
            "Race",
            "Race",
            "Ethnicity",
            "Ethnicity",
            "Ethnicity",
            "Gender",
            "Gender",
            "Gender",
            "Gender",
            "Gender",
            "Gender",
            "Veteran Status",
            "Veteran Status",
            "Veteran Status",
            "Age Category",
            "Age Category",
            "Age Category",
            "Age Category",
            "Age Category",
            "Disability Status",
            "Disability Status",
            "Disability Status",
            "Race",
            "Race",
            "Race",
            "Race",
            "Race",
            "Race",
            "Ethnicity",
            "Ethnicity",
            "Ethnicity",
            "Gender",
            "Gender",
            "Gender",
            "Gender",
            "Gender",
            "Gender",
            "Veteran Status",
            "Veteran Status",
            "Veteran Status",
            "Age Category",
            "Age Category",
            "Age Category",
            "Age Category",
            "Age Category",
            "Disability Status",
            "Disability Status",
            "Disability Status",
            "Race",
            "Race",
            "Race",
            "Race",
            "Race",
            "Race",
            "Ethnicity",
            "Ethnicity",
            "Ethnicity",
            "Gender",
            "Gender",
            "Gender",
            "Gender",
            "Gender",
            "Gender",
            "Veteran Status",
            "Veteran Status",
            "Veteran Status",
            "Age Category",
            "Age Category",
            "Age Category",
            "Age Category",
            "Age Category",
            "Disability Status",
            "Disability Status",
            "Disability Status",
            "Race",
            "Race",
            "Race",
            "Race",
            "Race",
            "Race",
            "Ethnicity",
            "Ethnicity",
            "Ethnicity",
            "Gender",
            "Gender",
            "Gender",
            "Gender",
            "Gender",
            "Gender",
            "Veteran Status",
            "Veteran Status",
            "Veteran Status",
            "Age Category",
            "Age Category",
            "Age Category",
            "Age Category",
            "Age Category",
            "Disability Status",
            "Disability Status",
            "Disability Status"
           ],
           "ids": [
            "Race",
            "Race",
            "Race",
            "Race",
            "Race",
            "Race",
            "Ethnicity",
            "Ethnicity",
            "Ethnicity",
            "Gender",
            "Gender",
            "Gender",
            "Gender",
            "Gender",
            "Gender",
            "Veteran Status",
            "Veteran Status",
            "Veteran Status",
            "Age Category",
            "Age Category",
            "Age Category",
            "Age Category",
            "Age Category",
            "Disability Status",
            "Disability Status",
            "Disability Status",
            "Race",
            "Race",
            "Race",
            "Race",
            "Race",
            "Race",
            "Ethnicity",
            "Ethnicity",
            "Ethnicity",
            "Gender",
            "Gender",
            "Gender",
            "Gender",
            "Gender",
            "Gender",
            "Veteran Status",
            "Veteran Status",
            "Veteran Status",
            "Age Category",
            "Age Category",
            "Age Category",
            "Age Category",
            "Age Category",
            "Disability Status",
            "Disability Status",
            "Disability Status",
            "Race",
            "Race",
            "Race",
            "Race",
            "Race",
            "Race",
            "Ethnicity",
            "Ethnicity",
            "Ethnicity",
            "Gender",
            "Gender",
            "Gender",
            "Gender",
            "Gender",
            "Gender",
            "Veteran Status",
            "Veteran Status",
            "Veteran Status",
            "Age Category",
            "Age Category",
            "Age Category",
            "Age Category",
            "Age Category",
            "Disability Status",
            "Disability Status",
            "Disability Status",
            "Race",
            "Race",
            "Race",
            "Race",
            "Race",
            "Race",
            "Ethnicity",
            "Ethnicity",
            "Ethnicity",
            "Gender",
            "Gender",
            "Gender",
            "Gender",
            "Gender",
            "Gender",
            "Veteran Status",
            "Veteran Status",
            "Veteran Status",
            "Age Category",
            "Age Category",
            "Age Category",
            "Age Category",
            "Age Category",
            "Disability Status",
            "Disability Status",
            "Disability Status",
            "Race",
            "Race",
            "Race",
            "Race",
            "Race",
            "Race",
            "Ethnicity",
            "Ethnicity",
            "Ethnicity",
            "Gender",
            "Gender",
            "Gender",
            "Gender",
            "Gender",
            "Gender",
            "Veteran Status",
            "Veteran Status",
            "Veteran Status",
            "Age Category",
            "Age Category",
            "Age Category",
            "Age Category",
            "Age Category",
            "Disability Status",
            "Disability Status",
            "Disability Status"
           ],
           "legendgroup": "",
           "marker": {
            "color": "#636efa",
            "symbol": "circle"
           },
           "mode": "markers",
           "name": "",
           "orientation": "v",
           "showlegend": false,
           "type": "scatter",
           "x": [
            0,
            0,
            1,
            0,
            3,
            0,
            2,
            2,
            0,
            2,
            2,
            0,
            0,
            0,
            0,
            0,
            3,
            0,
            3,
            0,
            1,
            0,
            0,
            4,
            0,
            0,
            1,
            0,
            47,
            0,
            59,
            1,
            38,
            70,
            0,
            61,
            45,
            1,
            1,
            0,
            0,
            17,
            91,
            0,
            68,
            7,
            5,
            28,
            0,
            47,
            61,
            0,
            0,
            0,
            8,
            0,
            9,
            0,
            6,
            11,
            0,
            8,
            9,
            0,
            0,
            0,
            0,
            8,
            9,
            0,
            2,
            10,
            0,
            5,
            0,
            3,
            14,
            0,
            0,
            0,
            3,
            0,
            2,
            0,
            0,
            5,
            0,
            0,
            5,
            0,
            0,
            0,
            0,
            5,
            0,
            0,
            5,
            0,
            0,
            0,
            0,
            4,
            1,
            0,
            2,
            0,
            62,
            0,
            54,
            0,
            22,
            96,
            0,
            27,
            90,
            1,
            0,
            0,
            0,
            44,
            74,
            0,
            89,
            8,
            10,
            11,
            0,
            76,
            42,
            0
           ],
           "xaxis": "x",
           "y": [
            0,
            0,
            3,
            0,
            7,
            0,
            2,
            8,
            0,
            5,
            5,
            0,
            0,
            0,
            0,
            0,
            9,
            0,
            6,
            3,
            1,
            0,
            0,
            9,
            1,
            0,
            4,
            2,
            322,
            3,
            227,
            3,
            165,
            395,
            1,
            285,
            272,
            2,
            2,
            0,
            0,
            49,
            511,
            0,
            310,
            36,
            14,
            201,
            0,
            159,
            402,
            0,
            0,
            1,
            56,
            0,
            57,
            0,
            33,
            80,
            1,
            46,
            68,
            0,
            0,
            0,
            0,
            47,
            67,
            0,
            22,
            47,
            8,
            37,
            0,
            32,
            82,
            0,
            0,
            1,
            7,
            0,
            22,
            0,
            3,
            27,
            0,
            0,
            30,
            0,
            0,
            0,
            0,
            30,
            0,
            0,
            26,
            0,
            4,
            0,
            0,
            27,
            3,
            0,
            9,
            3,
            358,
            0,
            422,
            5,
            203,
            594,
            0,
            307,
            484,
            5,
            1,
            0,
            0,
            205,
            588,
            0,
            475,
            43,
            58,
            222,
            0,
            439,
            354,
            2
           ],
           "yaxis": "y"
          }
         ],
         "name": "2019"
        },
        {
         "data": [
          {
           "customdata": [
            [
             "AmIndAKNative",
             0
            ],
            [
             "Asian",
             0.13
            ],
            [
             "BlackAfAmerican",
             0.16
            ],
            [
             "NativeHIOtherPacific",
             0
            ],
            [
             "Two or more races",
             0.33
            ],
            [
             "Unknown",
             0
            ],
            [
             "White",
             0.19
            ],
            [
             "AmIndAKNative",
             0
            ],
            [
             "Asian",
             0
            ],
            [
             "BlackAfAmerican",
             0.2
            ],
            [
             "Two or more races",
             0.22
            ],
            [
             "Unknown",
             0.03
            ],
            [
             "White",
             0.13
            ],
            [
             "AmIndAKNative",
             0
            ],
            [
             "BlackAfAmerican",
             0.4
            ],
            [
             "Two or more races",
             0
            ],
            [
             "Unknown",
             0
            ],
            [
             "White",
             0.33
            ],
            [
             "AmIndAKNative",
             0
            ],
            [
             "BlackAfAmerican",
             0.25
            ],
            [
             "Two or more races",
             0.33
            ],
            [
             "Unknown",
             0.5
            ],
            [
             "White",
             0.3
            ],
            [
             "BlackAfAmerican",
             0.33
            ],
            [
             "Two or more races",
             0
            ],
            [
             "Unknown",
             0
            ],
            [
             "White",
             0.08
            ],
            [
             "Hispanic/Latino",
             0.19
            ],
            [
             "Non-Hispanic/Non-Latino",
             0.18
            ],
            [
             "Unknown",
             0
            ],
            [
             "Hispanic/Latino",
             0.13
            ],
            [
             "Non-Hispanic/Non-Latino",
             0.18
            ],
            [
             "Unknown",
             0.04
            ],
            [
             "Hispanic/Latino",
             0
            ],
            [
             "Non-Hispanic/Non-Latino",
             0.32
            ],
            [
             "Hispanic/Latino",
             0.31
            ],
            [
             "Non-Hispanic/Non-Latino",
             0.29
            ],
            [
             "Hispanic/Latino",
             0.04
            ],
            [
             "Non-Hispanic/Non-Latino",
             0.25
            ],
            [
             "Unknown",
             0
            ],
            [
             "Female",
             0.17
            ],
            [
             "Gender non-conforming",
             0
            ],
            [
             "Male",
             0.19
            ],
            [
             "Trans Female",
             0.5
            ],
            [
             "Female",
             0.17
            ],
            [
             "Male",
             0.17
            ],
            [
             "Trans Female",
             0
            ],
            [
             "Unknown",
             0
            ],
            [
             "Gender non-conforming",
             0
            ],
            [
             "Male",
             0.28
            ],
            [
             "Trans Female",
             0
            ],
            [
             "Female",
             0.14
            ],
            [
             "Male",
             0.35
            ],
            [
             "Trans Male",
             1
            ],
            [
             "Female",
             0.15
            ],
            [
             "Male",
             0.2
            ],
            [
             "No",
             0.18
            ],
            [
             "Unknown",
             0
            ],
            [
             "Yes",
             0.19
            ],
            [
             "No",
             0.14
            ],
            [
             "Unknown",
             0
            ],
            [
             "Yes",
             0.24
            ],
            [
             "Unknown",
             0
            ],
            [
             "Yes",
             0.27
            ],
            [
             "No",
             0.33
            ],
            [
             "Unknown",
             0
            ],
            [
             "Yes",
             0.25
            ],
            [
             "No",
             0.15
            ],
            [
             "Yes",
             0.23
            ],
            [
             "Adult under 62",
             0.22
            ],
            [
             "Children",
             0.11
            ],
            [
             "Elder Adult",
             0.26
            ],
            [
             "Young Adult",
             0.14
            ],
            [
             "Adult under 62",
             0.2
            ],
            [
             "Children",
             0.11
            ],
            [
             "Elder Adult",
             0.13
            ],
            [
             "Unknown",
             0
            ],
            [
             "Young Adult",
             0.18
            ],
            [
             "Adult under 62",
             0.35
            ],
            [
             "Elder Adult",
             0.09
            ],
            [
             "Adult under 62",
             0.17
            ],
            [
             "Elder Adult",
             0.5
            ],
            [
             "Young Adult",
             0.45
            ],
            [
             "Adult under 62",
             0.19
            ],
            [
             "Children",
             0.16
            ],
            [
             "Elder Adult",
             0
            ],
            [
             "Young Adult",
             0.24
            ],
            [
             "No",
             0.14
            ],
            [
             "Yes",
             0.25
            ],
            [
             "No",
             0.15
            ],
            [
             "Unknown",
             0.03
            ],
            [
             "Yes",
             0.18
            ],
            [
             "No",
             0
            ],
            [
             "Yes",
             0.28
            ],
            [
             "No",
             0.29
            ],
            [
             "Unknown",
             0.3
            ],
            [
             "Yes",
             0.29
            ],
            [
             "No",
             0.17
            ],
            [
             "Unknown",
             0.15
            ],
            [
             "Yes",
             0.26
            ]
           ],
           "hovertemplate": "<b>%{hovertext}</b><br><br>Fiscal Year=2020<br>Numerator=%{x}<br>Denominator=%{y}<br>Specific Demographic=%{customdata[0]}<br>Rate=%{customdata[1]}<extra></extra>",
           "hovertext": [
            "Race",
            "Race",
            "Race",
            "Race",
            "Race",
            "Race",
            "Race",
            "Race",
            "Race",
            "Race",
            "Race",
            "Race",
            "Race",
            "Race",
            "Race",
            "Race",
            "Race",
            "Race",
            "Race",
            "Race",
            "Race",
            "Race",
            "Race",
            "Race",
            "Race",
            "Race",
            "Race",
            "Ethnicity",
            "Ethnicity",
            "Ethnicity",
            "Ethnicity",
            "Ethnicity",
            "Ethnicity",
            "Ethnicity",
            "Ethnicity",
            "Ethnicity",
            "Ethnicity",
            "Ethnicity",
            "Ethnicity",
            "Ethnicity",
            "Gender",
            "Gender",
            "Gender",
            "Gender",
            "Gender",
            "Gender",
            "Gender",
            "Gender",
            "Gender",
            "Gender",
            "Gender",
            "Gender",
            "Gender",
            "Gender",
            "Gender",
            "Gender",
            "Veteran",
            "Veteran",
            "Veteran",
            "Veteran",
            "Veteran",
            "Veteran",
            "Veteran",
            "Veteran",
            "Veteran",
            "Veteran",
            "Veteran",
            "Veteran",
            "Veteran",
            "Age",
            "Age",
            "Age",
            "Age",
            "Age",
            "Age",
            "Age",
            "Age",
            "Age",
            "Age",
            "Age",
            "Age",
            "Age",
            "Age",
            "Age",
            "Age",
            "Age",
            "Age",
            "Disability",
            "Disability",
            "Disability",
            "Disability",
            "Disability",
            "Disability",
            "Disability",
            "Disability",
            "Disability",
            "Disability",
            "Disability",
            "Disability",
            "Disability"
           ],
           "ids": [
            "Race",
            "Race",
            "Race",
            "Race",
            "Race",
            "Race",
            "Race",
            "Race",
            "Race",
            "Race",
            "Race",
            "Race",
            "Race",
            "Race",
            "Race",
            "Race",
            "Race",
            "Race",
            "Race",
            "Race",
            "Race",
            "Race",
            "Race",
            "Race",
            "Race",
            "Race",
            "Race",
            "Ethnicity",
            "Ethnicity",
            "Ethnicity",
            "Ethnicity",
            "Ethnicity",
            "Ethnicity",
            "Ethnicity",
            "Ethnicity",
            "Ethnicity",
            "Ethnicity",
            "Ethnicity",
            "Ethnicity",
            "Ethnicity",
            "Gender",
            "Gender",
            "Gender",
            "Gender",
            "Gender",
            "Gender",
            "Gender",
            "Gender",
            "Gender",
            "Gender",
            "Gender",
            "Gender",
            "Gender",
            "Gender",
            "Gender",
            "Gender",
            "Veteran",
            "Veteran",
            "Veteran",
            "Veteran",
            "Veteran",
            "Veteran",
            "Veteran",
            "Veteran",
            "Veteran",
            "Veteran",
            "Veteran",
            "Veteran",
            "Veteran",
            "Age",
            "Age",
            "Age",
            "Age",
            "Age",
            "Age",
            "Age",
            "Age",
            "Age",
            "Age",
            "Age",
            "Age",
            "Age",
            "Age",
            "Age",
            "Age",
            "Age",
            "Age",
            "Disability",
            "Disability",
            "Disability",
            "Disability",
            "Disability",
            "Disability",
            "Disability",
            "Disability",
            "Disability",
            "Disability",
            "Disability",
            "Disability",
            "Disability"
           ],
           "legendgroup": "",
           "marker": {
            "color": "#636efa",
            "symbol": "circle"
           },
           "mode": "markers",
           "name": "",
           "orientation": "v",
           "showlegend": false,
           "type": "scatter",
           "x": [
            0,
            1,
            68,
            0,
            14,
            0,
            76,
            0,
            0,
            52,
            13,
            1,
            40,
            0,
            2,
            0,
            0,
            7,
            0,
            2,
            1,
            1,
            8,
            19,
            0,
            0,
            6,
            57,
            102,
            0,
            21,
            84,
            1,
            0,
            9,
            4,
            8,
            2,
            23,
            0,
            66,
            0,
            91,
            2,
            43,
            63,
            0,
            0,
            0,
            9,
            0,
            2,
            9,
            1,
            10,
            15,
            145,
            0,
            14,
            64,
            0,
            42,
            0,
            9,
            11,
            0,
            1,
            15,
            10,
            113,
            25,
            11,
            10,
            68,
            20,
            10,
            0,
            8,
            8,
            1,
            4,
            3,
            5,
            12,
            8,
            0,
            5,
            81,
            78,
            42,
            1,
            63,
            0,
            9,
            2,
            3,
            7,
            6,
            12,
            7
           ],
           "xaxis": "x",
           "y": [
            1,
            8,
            420,
            2,
            42,
            3,
            398,
            12,
            1,
            256,
            59,
            35,
            297,
            1,
            5,
            6,
            1,
            21,
            1,
            8,
            3,
            2,
            27,
            58,
            10,
            2,
            71,
            305,
            568,
            1,
            163,
            472,
            25,
            6,
            28,
            13,
            28,
            48,
            92,
            1,
            385,
            1,
            484,
            4,
            257,
            377,
            4,
            22,
            1,
            32,
            1,
            14,
            26,
            1,
            67,
            74,
            801,
            1,
            72,
            461,
            23,
            176,
            1,
            33,
            33,
            4,
            4,
            97,
            44,
            521,
            238,
            43,
            72,
            344,
            174,
            76,
            22,
            44,
            23,
            11,
            24,
            6,
            11,
            64,
            50,
            6,
            21,
            564,
            310,
            272,
            30,
            358,
            2,
            32,
            7,
            10,
            24,
            36,
            78,
            27
           ],
           "yaxis": "y"
          }
         ],
         "name": "2020"
        }
       ],
       "layout": {
        "legend": {
         "tracegroupgap": 0
        },
        "margin": {
         "t": 60
        },
        "sliders": [
         {
          "active": 0,
          "currentvalue": {
           "prefix": "Fiscal Year="
          },
          "len": 0.9,
          "pad": {
           "b": 10,
           "t": 60
          },
          "steps": [
           {
            "args": [
             [
              "2017"
             ],
             {
              "frame": {
               "duration": 0,
               "redraw": false
              },
              "fromcurrent": true,
              "mode": "immediate",
              "transition": {
               "duration": 0,
               "easing": "linear"
              }
             }
            ],
            "label": "2017",
            "method": "animate"
           },
           {
            "args": [
             [
              "2018"
             ],
             {
              "frame": {
               "duration": 0,
               "redraw": false
              },
              "fromcurrent": true,
              "mode": "immediate",
              "transition": {
               "duration": 0,
               "easing": "linear"
              }
             }
            ],
            "label": "2018",
            "method": "animate"
           },
           {
            "args": [
             [
              "2019"
             ],
             {
              "frame": {
               "duration": 0,
               "redraw": false
              },
              "fromcurrent": true,
              "mode": "immediate",
              "transition": {
               "duration": 0,
               "easing": "linear"
              }
             }
            ],
            "label": "2019",
            "method": "animate"
           },
           {
            "args": [
             [
              "2020"
             ],
             {
              "frame": {
               "duration": 0,
               "redraw": false
              },
              "fromcurrent": true,
              "mode": "immediate",
              "transition": {
               "duration": 0,
               "easing": "linear"
              }
             }
            ],
            "label": "2020",
            "method": "animate"
           }
          ],
          "x": 0.1,
          "xanchor": "left",
          "y": 0,
          "yanchor": "top"
         }
        ],
        "template": {
         "data": {
          "bar": [
           {
            "error_x": {
             "color": "#2a3f5f"
            },
            "error_y": {
             "color": "#2a3f5f"
            },
            "marker": {
             "line": {
              "color": "#E5ECF6",
              "width": 0.5
             },
             "pattern": {
              "fillmode": "overlay",
              "size": 10,
              "solidity": 0.2
             }
            },
            "type": "bar"
           }
          ],
          "barpolar": [
           {
            "marker": {
             "line": {
              "color": "#E5ECF6",
              "width": 0.5
             },
             "pattern": {
              "fillmode": "overlay",
              "size": 10,
              "solidity": 0.2
             }
            },
            "type": "barpolar"
           }
          ],
          "carpet": [
           {
            "aaxis": {
             "endlinecolor": "#2a3f5f",
             "gridcolor": "white",
             "linecolor": "white",
             "minorgridcolor": "white",
             "startlinecolor": "#2a3f5f"
            },
            "baxis": {
             "endlinecolor": "#2a3f5f",
             "gridcolor": "white",
             "linecolor": "white",
             "minorgridcolor": "white",
             "startlinecolor": "#2a3f5f"
            },
            "type": "carpet"
           }
          ],
          "choropleth": [
           {
            "colorbar": {
             "outlinewidth": 0,
             "ticks": ""
            },
            "type": "choropleth"
           }
          ],
          "contour": [
           {
            "colorbar": {
             "outlinewidth": 0,
             "ticks": ""
            },
            "colorscale": [
             [
              0,
              "#0d0887"
             ],
             [
              0.1111111111111111,
              "#46039f"
             ],
             [
              0.2222222222222222,
              "#7201a8"
             ],
             [
              0.3333333333333333,
              "#9c179e"
             ],
             [
              0.4444444444444444,
              "#bd3786"
             ],
             [
              0.5555555555555556,
              "#d8576b"
             ],
             [
              0.6666666666666666,
              "#ed7953"
             ],
             [
              0.7777777777777778,
              "#fb9f3a"
             ],
             [
              0.8888888888888888,
              "#fdca26"
             ],
             [
              1,
              "#f0f921"
             ]
            ],
            "type": "contour"
           }
          ],
          "contourcarpet": [
           {
            "colorbar": {
             "outlinewidth": 0,
             "ticks": ""
            },
            "type": "contourcarpet"
           }
          ],
          "heatmap": [
           {
            "colorbar": {
             "outlinewidth": 0,
             "ticks": ""
            },
            "colorscale": [
             [
              0,
              "#0d0887"
             ],
             [
              0.1111111111111111,
              "#46039f"
             ],
             [
              0.2222222222222222,
              "#7201a8"
             ],
             [
              0.3333333333333333,
              "#9c179e"
             ],
             [
              0.4444444444444444,
              "#bd3786"
             ],
             [
              0.5555555555555556,
              "#d8576b"
             ],
             [
              0.6666666666666666,
              "#ed7953"
             ],
             [
              0.7777777777777778,
              "#fb9f3a"
             ],
             [
              0.8888888888888888,
              "#fdca26"
             ],
             [
              1,
              "#f0f921"
             ]
            ],
            "type": "heatmap"
           }
          ],
          "heatmapgl": [
           {
            "colorbar": {
             "outlinewidth": 0,
             "ticks": ""
            },
            "colorscale": [
             [
              0,
              "#0d0887"
             ],
             [
              0.1111111111111111,
              "#46039f"
             ],
             [
              0.2222222222222222,
              "#7201a8"
             ],
             [
              0.3333333333333333,
              "#9c179e"
             ],
             [
              0.4444444444444444,
              "#bd3786"
             ],
             [
              0.5555555555555556,
              "#d8576b"
             ],
             [
              0.6666666666666666,
              "#ed7953"
             ],
             [
              0.7777777777777778,
              "#fb9f3a"
             ],
             [
              0.8888888888888888,
              "#fdca26"
             ],
             [
              1,
              "#f0f921"
             ]
            ],
            "type": "heatmapgl"
           }
          ],
          "histogram": [
           {
            "marker": {
             "pattern": {
              "fillmode": "overlay",
              "size": 10,
              "solidity": 0.2
             }
            },
            "type": "histogram"
           }
          ],
          "histogram2d": [
           {
            "colorbar": {
             "outlinewidth": 0,
             "ticks": ""
            },
            "colorscale": [
             [
              0,
              "#0d0887"
             ],
             [
              0.1111111111111111,
              "#46039f"
             ],
             [
              0.2222222222222222,
              "#7201a8"
             ],
             [
              0.3333333333333333,
              "#9c179e"
             ],
             [
              0.4444444444444444,
              "#bd3786"
             ],
             [
              0.5555555555555556,
              "#d8576b"
             ],
             [
              0.6666666666666666,
              "#ed7953"
             ],
             [
              0.7777777777777778,
              "#fb9f3a"
             ],
             [
              0.8888888888888888,
              "#fdca26"
             ],
             [
              1,
              "#f0f921"
             ]
            ],
            "type": "histogram2d"
           }
          ],
          "histogram2dcontour": [
           {
            "colorbar": {
             "outlinewidth": 0,
             "ticks": ""
            },
            "colorscale": [
             [
              0,
              "#0d0887"
             ],
             [
              0.1111111111111111,
              "#46039f"
             ],
             [
              0.2222222222222222,
              "#7201a8"
             ],
             [
              0.3333333333333333,
              "#9c179e"
             ],
             [
              0.4444444444444444,
              "#bd3786"
             ],
             [
              0.5555555555555556,
              "#d8576b"
             ],
             [
              0.6666666666666666,
              "#ed7953"
             ],
             [
              0.7777777777777778,
              "#fb9f3a"
             ],
             [
              0.8888888888888888,
              "#fdca26"
             ],
             [
              1,
              "#f0f921"
             ]
            ],
            "type": "histogram2dcontour"
           }
          ],
          "mesh3d": [
           {
            "colorbar": {
             "outlinewidth": 0,
             "ticks": ""
            },
            "type": "mesh3d"
           }
          ],
          "parcoords": [
           {
            "line": {
             "colorbar": {
              "outlinewidth": 0,
              "ticks": ""
             }
            },
            "type": "parcoords"
           }
          ],
          "pie": [
           {
            "automargin": true,
            "type": "pie"
           }
          ],
          "scatter": [
           {
            "marker": {
             "colorbar": {
              "outlinewidth": 0,
              "ticks": ""
             }
            },
            "type": "scatter"
           }
          ],
          "scatter3d": [
           {
            "line": {
             "colorbar": {
              "outlinewidth": 0,
              "ticks": ""
             }
            },
            "marker": {
             "colorbar": {
              "outlinewidth": 0,
              "ticks": ""
             }
            },
            "type": "scatter3d"
           }
          ],
          "scattercarpet": [
           {
            "marker": {
             "colorbar": {
              "outlinewidth": 0,
              "ticks": ""
             }
            },
            "type": "scattercarpet"
           }
          ],
          "scattergeo": [
           {
            "marker": {
             "colorbar": {
              "outlinewidth": 0,
              "ticks": ""
             }
            },
            "type": "scattergeo"
           }
          ],
          "scattergl": [
           {
            "marker": {
             "colorbar": {
              "outlinewidth": 0,
              "ticks": ""
             }
            },
            "type": "scattergl"
           }
          ],
          "scattermapbox": [
           {
            "marker": {
             "colorbar": {
              "outlinewidth": 0,
              "ticks": ""
             }
            },
            "type": "scattermapbox"
           }
          ],
          "scatterpolar": [
           {
            "marker": {
             "colorbar": {
              "outlinewidth": 0,
              "ticks": ""
             }
            },
            "type": "scatterpolar"
           }
          ],
          "scatterpolargl": [
           {
            "marker": {
             "colorbar": {
              "outlinewidth": 0,
              "ticks": ""
             }
            },
            "type": "scatterpolargl"
           }
          ],
          "scatterternary": [
           {
            "marker": {
             "colorbar": {
              "outlinewidth": 0,
              "ticks": ""
             }
            },
            "type": "scatterternary"
           }
          ],
          "surface": [
           {
            "colorbar": {
             "outlinewidth": 0,
             "ticks": ""
            },
            "colorscale": [
             [
              0,
              "#0d0887"
             ],
             [
              0.1111111111111111,
              "#46039f"
             ],
             [
              0.2222222222222222,
              "#7201a8"
             ],
             [
              0.3333333333333333,
              "#9c179e"
             ],
             [
              0.4444444444444444,
              "#bd3786"
             ],
             [
              0.5555555555555556,
              "#d8576b"
             ],
             [
              0.6666666666666666,
              "#ed7953"
             ],
             [
              0.7777777777777778,
              "#fb9f3a"
             ],
             [
              0.8888888888888888,
              "#fdca26"
             ],
             [
              1,
              "#f0f921"
             ]
            ],
            "type": "surface"
           }
          ],
          "table": [
           {
            "cells": {
             "fill": {
              "color": "#EBF0F8"
             },
             "line": {
              "color": "white"
             }
            },
            "header": {
             "fill": {
              "color": "#C8D4E3"
             },
             "line": {
              "color": "white"
             }
            },
            "type": "table"
           }
          ]
         },
         "layout": {
          "annotationdefaults": {
           "arrowcolor": "#2a3f5f",
           "arrowhead": 0,
           "arrowwidth": 1
          },
          "autotypenumbers": "strict",
          "coloraxis": {
           "colorbar": {
            "outlinewidth": 0,
            "ticks": ""
           }
          },
          "colorscale": {
           "diverging": [
            [
             0,
             "#8e0152"
            ],
            [
             0.1,
             "#c51b7d"
            ],
            [
             0.2,
             "#de77ae"
            ],
            [
             0.3,
             "#f1b6da"
            ],
            [
             0.4,
             "#fde0ef"
            ],
            [
             0.5,
             "#f7f7f7"
            ],
            [
             0.6,
             "#e6f5d0"
            ],
            [
             0.7,
             "#b8e186"
            ],
            [
             0.8,
             "#7fbc41"
            ],
            [
             0.9,
             "#4d9221"
            ],
            [
             1,
             "#276419"
            ]
           ],
           "sequential": [
            [
             0,
             "#0d0887"
            ],
            [
             0.1111111111111111,
             "#46039f"
            ],
            [
             0.2222222222222222,
             "#7201a8"
            ],
            [
             0.3333333333333333,
             "#9c179e"
            ],
            [
             0.4444444444444444,
             "#bd3786"
            ],
            [
             0.5555555555555556,
             "#d8576b"
            ],
            [
             0.6666666666666666,
             "#ed7953"
            ],
            [
             0.7777777777777778,
             "#fb9f3a"
            ],
            [
             0.8888888888888888,
             "#fdca26"
            ],
            [
             1,
             "#f0f921"
            ]
           ],
           "sequentialminus": [
            [
             0,
             "#0d0887"
            ],
            [
             0.1111111111111111,
             "#46039f"
            ],
            [
             0.2222222222222222,
             "#7201a8"
            ],
            [
             0.3333333333333333,
             "#9c179e"
            ],
            [
             0.4444444444444444,
             "#bd3786"
            ],
            [
             0.5555555555555556,
             "#d8576b"
            ],
            [
             0.6666666666666666,
             "#ed7953"
            ],
            [
             0.7777777777777778,
             "#fb9f3a"
            ],
            [
             0.8888888888888888,
             "#fdca26"
            ],
            [
             1,
             "#f0f921"
            ]
           ]
          },
          "colorway": [
           "#636efa",
           "#EF553B",
           "#00cc96",
           "#ab63fa",
           "#FFA15A",
           "#19d3f3",
           "#FF6692",
           "#B6E880",
           "#FF97FF",
           "#FECB52"
          ],
          "font": {
           "color": "#2a3f5f"
          },
          "geo": {
           "bgcolor": "white",
           "lakecolor": "white",
           "landcolor": "#E5ECF6",
           "showlakes": true,
           "showland": true,
           "subunitcolor": "white"
          },
          "hoverlabel": {
           "align": "left"
          },
          "hovermode": "closest",
          "mapbox": {
           "style": "light"
          },
          "paper_bgcolor": "white",
          "plot_bgcolor": "#E5ECF6",
          "polar": {
           "angularaxis": {
            "gridcolor": "white",
            "linecolor": "white",
            "ticks": ""
           },
           "bgcolor": "#E5ECF6",
           "radialaxis": {
            "gridcolor": "white",
            "linecolor": "white",
            "ticks": ""
           }
          },
          "scene": {
           "xaxis": {
            "backgroundcolor": "#E5ECF6",
            "gridcolor": "white",
            "gridwidth": 2,
            "linecolor": "white",
            "showbackground": true,
            "ticks": "",
            "zerolinecolor": "white"
           },
           "yaxis": {
            "backgroundcolor": "#E5ECF6",
            "gridcolor": "white",
            "gridwidth": 2,
            "linecolor": "white",
            "showbackground": true,
            "ticks": "",
            "zerolinecolor": "white"
           },
           "zaxis": {
            "backgroundcolor": "#E5ECF6",
            "gridcolor": "white",
            "gridwidth": 2,
            "linecolor": "white",
            "showbackground": true,
            "ticks": "",
            "zerolinecolor": "white"
           }
          },
          "shapedefaults": {
           "line": {
            "color": "#2a3f5f"
           }
          },
          "ternary": {
           "aaxis": {
            "gridcolor": "white",
            "linecolor": "white",
            "ticks": ""
           },
           "baxis": {
            "gridcolor": "white",
            "linecolor": "white",
            "ticks": ""
           },
           "bgcolor": "#E5ECF6",
           "caxis": {
            "gridcolor": "white",
            "linecolor": "white",
            "ticks": ""
           }
          },
          "title": {
           "x": 0.05
          },
          "xaxis": {
           "automargin": true,
           "gridcolor": "white",
           "linecolor": "white",
           "ticks": "",
           "title": {
            "standoff": 15
           },
           "zerolinecolor": "white",
           "zerolinewidth": 2
          },
          "yaxis": {
           "automargin": true,
           "gridcolor": "white",
           "linecolor": "white",
           "ticks": "",
           "title": {
            "standoff": 15
           },
           "zerolinecolor": "white",
           "zerolinewidth": 2
          }
         }
        },
        "updatemenus": [
         {
          "buttons": [
           {
            "args": [
             null,
             {
              "frame": {
               "duration": 500,
               "redraw": false
              },
              "fromcurrent": true,
              "mode": "immediate",
              "transition": {
               "duration": 500,
               "easing": "linear"
              }
             }
            ],
            "label": "&#9654;",
            "method": "animate"
           },
           {
            "args": [
             [
              null
             ],
             {
              "frame": {
               "duration": 0,
               "redraw": false
              },
              "fromcurrent": true,
              "mode": "immediate",
              "transition": {
               "duration": 0,
               "easing": "linear"
              }
             }
            ],
            "label": "&#9724;",
            "method": "animate"
           }
          ],
          "direction": "left",
          "pad": {
           "r": 10,
           "t": 70
          },
          "showactive": false,
          "type": "buttons",
          "x": 0.1,
          "xanchor": "right",
          "y": 0,
          "yanchor": "top"
         }
        ],
        "xaxis": {
         "anchor": "y",
         "domain": [
          0,
          1
         ],
         "title": {
          "text": "Numerator"
         }
        },
        "yaxis": {
         "anchor": "x",
         "domain": [
          0,
          1
         ],
         "title": {
          "text": "Denominator"
         }
        }
       }
      }
     },
     "metadata": {}
    }
   ],
   "metadata": {}
  },
  {
   "cell_type": "markdown",
   "source": [
    "## Conclusion:\r\n",
    "\r\n",
    "We can remove the numerator and denominator from this file. Doing so will not harm the data and we may see correlation between other categories go up. We can create a model out of this data to predict the rate of return to homelessness given these specific pieces of data. "
   ],
   "metadata": {}
  }
 ],
 "metadata": {
  "orig_nbformat": 4,
  "language_info": {
   "name": "python",
   "version": "3.9.5",
   "mimetype": "text/x-python",
   "codemirror_mode": {
    "name": "ipython",
    "version": 3
   },
   "pygments_lexer": "ipython3",
   "nbconvert_exporter": "python",
   "file_extension": ".py"
  },
  "kernelspec": {
   "name": "python3",
   "display_name": "Python 3.9.5 64-bit"
  },
  "interpreter": {
   "hash": "17cb72846b162d197ee6b195e68a5b6c13f64f8d3b34cab2bc714a825ebdf043"
  }
 },
 "nbformat": 4,
 "nbformat_minor": 2
}