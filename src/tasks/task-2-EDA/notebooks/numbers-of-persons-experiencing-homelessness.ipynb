{
 "cells": [
  {
   "cell_type": "code",
   "execution_count": 1,
   "source": [
    "import pandas as pd\r\n",
    "import numpy as np\r\n",
    "import seaborn as sns\r\n",
    "import matplotlib.pyplot as plt"
   ],
   "outputs": [],
   "metadata": {}
  },
  {
   "cell_type": "code",
   "execution_count": 2,
   "source": [
    "df = pd.read_csv(r\"C:\\Users\\mohit\\OneDrive\\Desktop\\Omdena-Texas-Homelessness\\omdena-texas-homelessness\\src\\data\\Strategic_Measure_Number_of_persons_experiencing_homelessness_-_Annual_Sheltered_HMIS_Count.csv\")"
   ],
   "outputs": [],
   "metadata": {}
  },
  {
   "cell_type": "code",
   "execution_count": 3,
   "source": [
    "df.head()"
   ],
   "outputs": [
    {
     "output_type": "execute_result",
     "data": {
      "text/html": [
       "<div>\n",
       "<style scoped>\n",
       "    .dataframe tbody tr th:only-of-type {\n",
       "        vertical-align: middle;\n",
       "    }\n",
       "\n",
       "    .dataframe tbody tr th {\n",
       "        vertical-align: top;\n",
       "    }\n",
       "\n",
       "    .dataframe thead th {\n",
       "        text-align: right;\n",
       "    }\n",
       "</style>\n",
       "<table border=\"1\" class=\"dataframe\">\n",
       "  <thead>\n",
       "    <tr style=\"text-align: right;\">\n",
       "      <th></th>\n",
       "      <th>Demographic Category</th>\n",
       "      <th>Specific Demographic</th>\n",
       "      <th># in Emergency Shelter</th>\n",
       "      <th># in Safe Haven</th>\n",
       "      <th># in Transitional Housing</th>\n",
       "      <th>Total Unduplicated Clients</th>\n",
       "      <th>Fiscal Year</th>\n",
       "      <th>Fiscal Year Start</th>\n",
       "      <th>Fiscal Year End</th>\n",
       "    </tr>\n",
       "  </thead>\n",
       "  <tbody>\n",
       "    <tr>\n",
       "      <th>0</th>\n",
       "      <td>Race</td>\n",
       "      <td>American Indian or Alaskan Native</td>\n",
       "      <td>73</td>\n",
       "      <td>0</td>\n",
       "      <td>1</td>\n",
       "      <td>73</td>\n",
       "      <td>2016</td>\n",
       "      <td>10/01/2015 12:00:00 AM</td>\n",
       "      <td>09/30/2016 12:00:00 AM</td>\n",
       "    </tr>\n",
       "    <tr>\n",
       "      <th>1</th>\n",
       "      <td>Race</td>\n",
       "      <td>Asian</td>\n",
       "      <td>40</td>\n",
       "      <td>1</td>\n",
       "      <td>3</td>\n",
       "      <td>42</td>\n",
       "      <td>2016</td>\n",
       "      <td>10/01/2015 12:00:00 AM</td>\n",
       "      <td>09/30/2016 12:00:00 AM</td>\n",
       "    </tr>\n",
       "    <tr>\n",
       "      <th>2</th>\n",
       "      <td>Race</td>\n",
       "      <td>Black or African American</td>\n",
       "      <td>1830</td>\n",
       "      <td>19</td>\n",
       "      <td>170</td>\n",
       "      <td>1981</td>\n",
       "      <td>2016</td>\n",
       "      <td>10/01/2015 12:00:00 AM</td>\n",
       "      <td>09/30/2016 12:00:00 AM</td>\n",
       "    </tr>\n",
       "    <tr>\n",
       "      <th>3</th>\n",
       "      <td>Race</td>\n",
       "      <td>Native Hawaiian or Other Pacific Islander</td>\n",
       "      <td>15</td>\n",
       "      <td>1</td>\n",
       "      <td>1</td>\n",
       "      <td>16</td>\n",
       "      <td>2016</td>\n",
       "      <td>10/01/2015 12:00:00 AM</td>\n",
       "      <td>09/30/2016 12:00:00 AM</td>\n",
       "    </tr>\n",
       "    <tr>\n",
       "      <th>4</th>\n",
       "      <td>Race</td>\n",
       "      <td>White</td>\n",
       "      <td>2278</td>\n",
       "      <td>44</td>\n",
       "      <td>212</td>\n",
       "      <td>2475</td>\n",
       "      <td>2016</td>\n",
       "      <td>10/01/2015 12:00:00 AM</td>\n",
       "      <td>09/30/2016 12:00:00 AM</td>\n",
       "    </tr>\n",
       "  </tbody>\n",
       "</table>\n",
       "</div>"
      ],
      "text/plain": [
       "  Demographic Category                       Specific Demographic  \\\n",
       "0                 Race          American Indian or Alaskan Native   \n",
       "1                 Race                                      Asian   \n",
       "2                 Race                  Black or African American   \n",
       "3                 Race  Native Hawaiian or Other Pacific Islander   \n",
       "4                 Race                                      White   \n",
       "\n",
       "   # in Emergency Shelter  # in Safe Haven  # in Transitional Housing  \\\n",
       "0                      73                0                          1   \n",
       "1                      40                1                          3   \n",
       "2                    1830               19                        170   \n",
       "3                      15                1                          1   \n",
       "4                    2278               44                        212   \n",
       "\n",
       "   Total Unduplicated Clients  Fiscal Year       Fiscal Year Start  \\\n",
       "0                          73         2016  10/01/2015 12:00:00 AM   \n",
       "1                          42         2016  10/01/2015 12:00:00 AM   \n",
       "2                        1981         2016  10/01/2015 12:00:00 AM   \n",
       "3                          16         2016  10/01/2015 12:00:00 AM   \n",
       "4                        2475         2016  10/01/2015 12:00:00 AM   \n",
       "\n",
       "          Fiscal Year End  \n",
       "0  09/30/2016 12:00:00 AM  \n",
       "1  09/30/2016 12:00:00 AM  \n",
       "2  09/30/2016 12:00:00 AM  \n",
       "3  09/30/2016 12:00:00 AM  \n",
       "4  09/30/2016 12:00:00 AM  "
      ]
     },
     "metadata": {},
     "execution_count": 3
    }
   ],
   "metadata": {}
  },
  {
   "cell_type": "code",
   "execution_count": 4,
   "source": [
    "df.shape"
   ],
   "outputs": [
    {
     "output_type": "execute_result",
     "data": {
      "text/plain": [
       "(131, 9)"
      ]
     },
     "metadata": {},
     "execution_count": 4
    }
   ],
   "metadata": {}
  },
  {
   "cell_type": "code",
   "execution_count": 5,
   "source": [
    "# Through this we can get to knew how many NAN or NULL data do we have\r\n",
    "# Due to this we don't have to fill any data inside our dataset\r\n",
    "\r\n",
    "df.isnull().sum()"
   ],
   "outputs": [
    {
     "output_type": "execute_result",
     "data": {
      "text/plain": [
       "Demographic Category          0\n",
       "Specific Demographic          0\n",
       "# in Emergency Shelter        0\n",
       "# in Safe Haven               0\n",
       "# in Transitional Housing     0\n",
       "Total Unduplicated Clients    0\n",
       "Fiscal Year                   0\n",
       "Fiscal Year Start             0\n",
       "Fiscal Year End               0\n",
       "dtype: int64"
      ]
     },
     "metadata": {},
     "execution_count": 5
    }
   ],
   "metadata": {}
  },
  {
   "cell_type": "code",
   "execution_count": 6,
   "source": [
    "#This is the another way of checking NAN-data, Here if there would been any candle then our dataset surely has some NAN data\r\n",
    "sns.heatmap(df.isnull() , yticklabels=False , cbar = False)"
   ],
   "outputs": [
    {
     "output_type": "execute_result",
     "data": {
      "text/plain": [
       "<AxesSubplot:>"
      ]
     },
     "metadata": {},
     "execution_count": 6
    },
    {
     "output_type": "display_data",
     "data": {
      "image/png": "[encoded data removed]",
      "text/plain": [
       "<Figure size 432x288 with 1 Axes>"
      ]
     },
     "metadata": {
      "needs_background": "light"
     }
    }
   ],
   "metadata": {}
  },
  {
   "cell_type": "code",
   "execution_count": 7,
   "source": [
    "df.info()"
   ],
   "outputs": [
    {
     "output_type": "stream",
     "name": "stdout",
     "text": [
      "<class 'pandas.core.frame.DataFrame'>\n",
      "RangeIndex: 131 entries, 0 to 130\n",
      "Data columns (total 9 columns):\n",
      " #   Column                      Non-Null Count  Dtype \n",
      "---  ------                      --------------  ----- \n",
      " 0   Demographic Category        131 non-null    object\n",
      " 1   Specific Demographic        131 non-null    object\n",
      " 2   # in Emergency Shelter      131 non-null    int64 \n",
      " 3   # in Safe Haven             131 non-null    int64 \n",
      " 4   # in Transitional Housing   131 non-null    int64 \n",
      " 5   Total Unduplicated Clients  131 non-null    int64 \n",
      " 6   Fiscal Year                 131 non-null    int64 \n",
      " 7   Fiscal Year Start           131 non-null    object\n",
      " 8   Fiscal Year End             131 non-null    object\n",
      "dtypes: int64(5), object(4)\n",
      "memory usage: 9.3+ KB\n"
     ]
    }
   ],
   "metadata": {}
  },
  {
   "cell_type": "code",
   "execution_count": 8,
   "source": [
    "values = []\r\n",
    "columns = [\"Demographic Category\",\"Specific Demographic\" ,\"# in Emergency Shelter\", \"# in Safe Haven\",\"# in Transitional Housing\" ,\"Total Unduplicated Clients\",\"Fiscal Year\" , \"Fiscal Year Start\" ,\"Fiscal Year End\"]\r\n",
    "\r\n",
    "for i in range(len(columns)):\r\n",
    "    values.append(df[columns[i]])\r\n"
   ],
   "outputs": [],
   "metadata": {}
  },
  {
   "cell_type": "code",
   "execution_count": 9,
   "source": [
    "len(values)"
   ],
   "outputs": [
    {
     "output_type": "execute_result",
     "data": {
      "text/plain": [
       "9"
      ]
     },
     "metadata": {},
     "execution_count": 9
    }
   ],
   "metadata": {}
  },
  {
   "cell_type": "code",
   "execution_count": 10,
   "source": [
    "# Now we can check the all the unique values that are inside our each columns by using\r\n",
    "\r\n",
    "values[0].unique()"
   ],
   "outputs": [
    {
     "output_type": "execute_result",
     "data": {
      "text/plain": [
       "array(['Race', 'Ethnicity', 'Gender', 'Veteran Status', 'Age Category',\n",
       "       'Disability Status', 'Disability', 'Veteran', 'Age'], dtype=object)"
      ]
     },
     "metadata": {},
     "execution_count": 10
    }
   ],
   "metadata": {}
  },
  {
   "cell_type": "code",
   "execution_count": 11,
   "source": [
    "# Now let's just check how many unique values do we have inside our each columns\r\n",
    "\r\n",
    "df.nunique()"
   ],
   "outputs": [
    {
     "output_type": "execute_result",
     "data": {
      "text/plain": [
       "Demographic Category            9\n",
       "Specific Demographic           32\n",
       "# in Emergency Shelter        106\n",
       "# in Safe Haven                34\n",
       "# in Transitional Housing      71\n",
       "Total Unduplicated Clients    110\n",
       "Fiscal Year                     5\n",
       "Fiscal Year Start               5\n",
       "Fiscal Year End                 5\n",
       "dtype: int64"
      ]
     },
     "metadata": {},
     "execution_count": 11
    }
   ],
   "metadata": {}
  },
  {
   "cell_type": "markdown",
   "source": [
    "Thorugh the use of last command we can easily check that some of the columns has very high level of unique values so those columns are of no use for us"
   ],
   "metadata": {}
  },
  {
   "cell_type": "code",
   "execution_count": 12,
   "source": [
    "# As we have very small amount of columns so we can just manually drop all these columns which has high amount unique values\r\n",
    "# We will remove all those columns which do have unique values more than 45\r\n",
    "\r\n",
    "df.drop([\"# in Emergency Shelter\"] , axis=1 , inplace=True)\r\n",
    "df.drop([\"# in Transitional Housing\"] , axis=1 , inplace=True)\r\n",
    "df.drop([\"Total Unduplicated Clients\"] , axis=1 , inplace=True)\r\n"
   ],
   "outputs": [],
   "metadata": {}
  },
  {
   "cell_type": "code",
   "execution_count": 13,
   "source": [
    "# Now we can check our dataset only has 6 columns left\r\n",
    "\r\n",
    "df.shape"
   ],
   "outputs": [
    {
     "output_type": "execute_result",
     "data": {
      "text/plain": [
       "(131, 6)"
      ]
     },
     "metadata": {},
     "execution_count": 13
    }
   ],
   "metadata": {}
  },
  {
   "cell_type": "code",
   "execution_count": 14,
   "source": [
    "# Now as we can see last 2 columns of the dataset are categorical so we will try to one-hot encode them\r\n",
    "\r\n",
    "categorical_cols = ['Fiscal Year Start', 'Fiscal Year End'] \r\n",
    "\r\n",
    "from sklearn.preprocessing import LabelEncoder\r\n",
    "\r\n",
    "# instantiate labelencoder object\r\n",
    "le = LabelEncoder()\r\n",
    "\r\n",
    "# apply le on categorical feature columns\r\n",
    "df[categorical_cols] = df[categorical_cols].apply(lambda col: le.fit_transform(col))\r\n",
    "    \r\n",
    "from sklearn.preprocessing import OneHotEncoder\r\n",
    "ohe = OneHotEncoder()\r\n",
    "\r\n",
    "#One-hot-encode the categorical columns.\r\n",
    "#Unfortunately outputs an array instead of dataframe.\r\n",
    "array_hot_encoded = ohe.fit_transform(df[categorical_cols])\r\n",
    "\r\n",
    "#Convert it to df\r\n",
    "data_hot_encoded = pd.DataFrame(array_hot_encoded, index=df.index)\r\n",
    "\r\n",
    "#Extract only the columns that didnt need to be encoded\r\n",
    "data_other_cols = df.drop(columns=categorical_cols)\r\n",
    "\r\n",
    "#Concatenate the two dataframes : \r\n",
    "data_out = pd.concat([data_hot_encoded, data_other_cols], axis=1)"
   ],
   "outputs": [],
   "metadata": {}
  },
  {
   "cell_type": "code",
   "execution_count": null,
   "source": [],
   "outputs": [],
   "metadata": {}
  },
  {
   "cell_type": "code",
   "execution_count": null,
   "source": [],
   "outputs": [],
   "metadata": {}
  }
 ],
 "metadata": {
  "orig_nbformat": 4,
  "language_info": {
   "name": "python",
   "version": "3.8.11",
   "mimetype": "text/x-python",
   "codemirror_mode": {
    "name": "ipython",
    "version": 3
   },
   "pygments_lexer": "ipython3",
   "nbconvert_exporter": "python",
   "file_extension": ".py"
  },
  "kernelspec": {
   "name": "python3",
   "display_name": "Python 3.8.11 64-bit ('base': conda)"
  },
  "interpreter": {
   "hash": "de0a872bf736e871890e4595f13441ccf4210b874152ed5e175f37f1f83d386b"
  }
 },
 "nbformat": 4,
 "nbformat_minor": 2
}