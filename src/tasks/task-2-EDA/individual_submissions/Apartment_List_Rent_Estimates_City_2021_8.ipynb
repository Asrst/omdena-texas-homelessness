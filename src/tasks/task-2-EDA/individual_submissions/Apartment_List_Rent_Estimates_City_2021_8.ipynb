{
 "cells": [
  {
   "cell_type": "code",
   "execution_count": 1,
   "source": [
    "import pandas as pd\r\n",
    "import numpy as np\r\n",
    "import seaborn as sns\r\n",
    "import matplotlib.pyplot as plt"
   ],
   "outputs": [],
   "metadata": {}
  },
  {
   "cell_type": "code",
   "execution_count": 2,
   "source": [
    "df = pd.read_csv(r\"C:\\Users\\mohit\\OneDrive\\Desktop\\Omdena Projects\\Omdena-Texas-Homelessness\\omdena-texas-homelessness\\src\\data\\dataset_apartment_rent_texas.csv\")"
   ],
   "outputs": [],
   "metadata": {}
  },
  {
   "cell_type": "code",
   "execution_count": 3,
   "source": [
    "df.head()"
   ],
   "outputs": [
    {
     "output_type": "execute_result",
     "data": {
      "text/html": [
       "<div>\n",
       "<style scoped>\n",
       "    .dataframe tbody tr th:only-of-type {\n",
       "        vertical-align: middle;\n",
       "    }\n",
       "\n",
       "    .dataframe tbody tr th {\n",
       "        vertical-align: top;\n",
       "    }\n",
       "\n",
       "    .dataframe thead th {\n",
       "        text-align: right;\n",
       "    }\n",
       "</style>\n",
       "<table border=\"1\" class=\"dataframe\">\n",
       "  <thead>\n",
       "    <tr style=\"text-align: right;\">\n",
       "      <th></th>\n",
       "      <th>City_Name</th>\n",
       "      <th>FIPS_Code</th>\n",
       "      <th>Population</th>\n",
       "      <th>Bedroom_Size</th>\n",
       "      <th>2017_01</th>\n",
       "      <th>2017_02</th>\n",
       "      <th>2017_03</th>\n",
       "      <th>2017_04</th>\n",
       "      <th>2017_05</th>\n",
       "      <th>2017_06</th>\n",
       "      <th>...</th>\n",
       "      <th>2020_11</th>\n",
       "      <th>2020_12</th>\n",
       "      <th>2021_01</th>\n",
       "      <th>2021_02</th>\n",
       "      <th>2021_03</th>\n",
       "      <th>2021_04</th>\n",
       "      <th>2021_05</th>\n",
       "      <th>2021_06</th>\n",
       "      <th>2021_07</th>\n",
       "      <th>2021_08</th>\n",
       "    </tr>\n",
       "  </thead>\n",
       "  <tbody>\n",
       "    <tr>\n",
       "      <th>0</th>\n",
       "      <td>Abilene, TX</td>\n",
       "      <td>4801000</td>\n",
       "      <td>123676</td>\n",
       "      <td>_Overall</td>\n",
       "      <td>990.00</td>\n",
       "      <td>994.00</td>\n",
       "      <td>1031.00</td>\n",
       "      <td>1055.00</td>\n",
       "      <td>1033.00</td>\n",
       "      <td>1029.00</td>\n",
       "      <td>...</td>\n",
       "      <td>1126.00</td>\n",
       "      <td>1122.00</td>\n",
       "      <td>1129.00</td>\n",
       "      <td>1138.00</td>\n",
       "      <td>1144.00</td>\n",
       "      <td>1144.00</td>\n",
       "      <td>1152.00</td>\n",
       "      <td>1164.00</td>\n",
       "      <td>1182.00</td>\n",
       "      <td>1189.00</td>\n",
       "    </tr>\n",
       "    <tr>\n",
       "      <th>1</th>\n",
       "      <td>Abilene, TX</td>\n",
       "      <td>4801000</td>\n",
       "      <td>123676</td>\n",
       "      <td>_Studio</td>\n",
       "      <td>722.00</td>\n",
       "      <td>725.00</td>\n",
       "      <td>752.00</td>\n",
       "      <td>769.00</td>\n",
       "      <td>754.00</td>\n",
       "      <td>750.00</td>\n",
       "      <td>...</td>\n",
       "      <td>821.00</td>\n",
       "      <td>818.00</td>\n",
       "      <td>823.00</td>\n",
       "      <td>830.00</td>\n",
       "      <td>834.00</td>\n",
       "      <td>834.00</td>\n",
       "      <td>840.00</td>\n",
       "      <td>849.00</td>\n",
       "      <td>862.00</td>\n",
       "      <td>867.00</td>\n",
       "    </tr>\n",
       "    <tr>\n",
       "      <th>2</th>\n",
       "      <td>Abilene, TX</td>\n",
       "      <td>4801000</td>\n",
       "      <td>123676</td>\n",
       "      <td>1br</td>\n",
       "      <td>718.00</td>\n",
       "      <td>720.00</td>\n",
       "      <td>748.00</td>\n",
       "      <td>765.00</td>\n",
       "      <td>749.00</td>\n",
       "      <td>746.00</td>\n",
       "      <td>...</td>\n",
       "      <td>816.00</td>\n",
       "      <td>813.00</td>\n",
       "      <td>819.00</td>\n",
       "      <td>825.00</td>\n",
       "      <td>829.00</td>\n",
       "      <td>829.00</td>\n",
       "      <td>835.00</td>\n",
       "      <td>844.00</td>\n",
       "      <td>856.00</td>\n",
       "      <td>862.00</td>\n",
       "    </tr>\n",
       "    <tr>\n",
       "      <th>3</th>\n",
       "      <td>Abilene, TX</td>\n",
       "      <td>4801000</td>\n",
       "      <td>123676</td>\n",
       "      <td>2br</td>\n",
       "      <td>941.00</td>\n",
       "      <td>945.00</td>\n",
       "      <td>980.00</td>\n",
       "      <td>1003.00</td>\n",
       "      <td>982.00</td>\n",
       "      <td>978.00</td>\n",
       "      <td>...</td>\n",
       "      <td>1071.00</td>\n",
       "      <td>1067.00</td>\n",
       "      <td>1074.00</td>\n",
       "      <td>1082.00</td>\n",
       "      <td>1088.00</td>\n",
       "      <td>1088.00</td>\n",
       "      <td>1095.00</td>\n",
       "      <td>1107.00</td>\n",
       "      <td>1123.00</td>\n",
       "      <td>1130.00</td>\n",
       "    </tr>\n",
       "    <tr>\n",
       "      <th>4</th>\n",
       "      <td>Abilene, TX</td>\n",
       "      <td>4801000</td>\n",
       "      <td>123676</td>\n",
       "      <td>3br</td>\n",
       "      <td>1189.00</td>\n",
       "      <td>1193.00</td>\n",
       "      <td>1238.00</td>\n",
       "      <td>1267.00</td>\n",
       "      <td>1241.00</td>\n",
       "      <td>1235.00</td>\n",
       "      <td>...</td>\n",
       "      <td>1352.00</td>\n",
       "      <td>1347.00</td>\n",
       "      <td>1356.00</td>\n",
       "      <td>1367.00</td>\n",
       "      <td>1374.00</td>\n",
       "      <td>1374.00</td>\n",
       "      <td>1383.00</td>\n",
       "      <td>1398.00</td>\n",
       "      <td>1419.00</td>\n",
       "      <td>1428.00</td>\n",
       "    </tr>\n",
       "  </tbody>\n",
       "</table>\n",
       "<p>5 rows × 60 columns</p>\n",
       "</div>"
      ],
      "text/plain": [
       "     City_Name  FIPS_Code  Population Bedroom_Size  2017_01  2017_02  2017_03  \\\n",
       "0  Abilene, TX    4801000      123676     _Overall   990.00   994.00  1031.00   \n",
       "1  Abilene, TX    4801000      123676      _Studio   722.00   725.00   752.00   \n",
       "2  Abilene, TX    4801000      123676          1br   718.00   720.00   748.00   \n",
       "3  Abilene, TX    4801000      123676          2br   941.00   945.00   980.00   \n",
       "4  Abilene, TX    4801000      123676          3br  1189.00  1193.00  1238.00   \n",
       "\n",
       "   2017_04  2017_05  2017_06  ...  2020_11  2020_12  2021_01  2021_02  \\\n",
       "0  1055.00  1033.00  1029.00  ...  1126.00  1122.00  1129.00  1138.00   \n",
       "1   769.00   754.00   750.00  ...   821.00   818.00   823.00   830.00   \n",
       "2   765.00   749.00   746.00  ...   816.00   813.00   819.00   825.00   \n",
       "3  1003.00   982.00   978.00  ...  1071.00  1067.00  1074.00  1082.00   \n",
       "4  1267.00  1241.00  1235.00  ...  1352.00  1347.00  1356.00  1367.00   \n",
       "\n",
       "   2021_03  2021_04  2021_05  2021_06  2021_07  2021_08  \n",
       "0  1144.00  1144.00  1152.00  1164.00  1182.00  1189.00  \n",
       "1   834.00   834.00   840.00   849.00   862.00   867.00  \n",
       "2   829.00   829.00   835.00   844.00   856.00   862.00  \n",
       "3  1088.00  1088.00  1095.00  1107.00  1123.00  1130.00  \n",
       "4  1374.00  1374.00  1383.00  1398.00  1419.00  1428.00  \n",
       "\n",
       "[5 rows x 60 columns]"
      ]
     },
     "metadata": {},
     "execution_count": 3
    }
   ],
   "metadata": {}
  },
  {
   "cell_type": "code",
   "execution_count": 4,
   "source": [
    "df.shape"
   ],
   "outputs": [
    {
     "output_type": "execute_result",
     "data": {
      "text/plain": [
       "(444, 60)"
      ]
     },
     "metadata": {},
     "execution_count": 4
    }
   ],
   "metadata": {}
  },
  {
   "cell_type": "code",
   "execution_count": 5,
   "source": [
    "df.isnull().sum()"
   ],
   "outputs": [
    {
     "output_type": "execute_result",
     "data": {
      "text/plain": [
       "City_Name       0\n",
       "FIPS_Code       0\n",
       "Population      0\n",
       "Bedroom_Size    0\n",
       "2017_01         0\n",
       "2017_02         0\n",
       "2017_03         0\n",
       "2017_04         0\n",
       "2017_05         0\n",
       "2017_06         0\n",
       "2017_07         0\n",
       "2017_08         0\n",
       "2017_09         0\n",
       "2017_10         0\n",
       "2017_11         0\n",
       "2017_12         0\n",
       "2018_01         0\n",
       "2018_02         0\n",
       "2018_03         0\n",
       "2018_04         0\n",
       "2018_05         0\n",
       "2018_06         0\n",
       "2018_07         0\n",
       "2018_08         0\n",
       "2018_09         0\n",
       "2018_10         0\n",
       "2018_11         0\n",
       "2018_12         0\n",
       "2019_01         0\n",
       "2019_02         0\n",
       "2019_03         0\n",
       "2019_04         0\n",
       "2019_05         0\n",
       "2019_06         0\n",
       "2019_07         0\n",
       "2019_08         0\n",
       "2019_09         0\n",
       "2019_10         0\n",
       "2019_11         0\n",
       "2019_12         0\n",
       "2020_01         0\n",
       "2020_02         0\n",
       "2020_03         0\n",
       "2020_04         0\n",
       "2020_05         0\n",
       "2020_06         0\n",
       "2020_07         0\n",
       "2020_08         0\n",
       "2020_09         0\n",
       "2020_10         0\n",
       "2020_11         0\n",
       "2020_12         0\n",
       "2021_01         0\n",
       "2021_02         0\n",
       "2021_03         0\n",
       "2021_04         0\n",
       "2021_05         0\n",
       "2021_06         0\n",
       "2021_07         0\n",
       "2021_08         0\n",
       "dtype: int64"
      ]
     },
     "metadata": {},
     "execution_count": 5
    }
   ],
   "metadata": {}
  },
  {
   "cell_type": "code",
   "execution_count": 6,
   "source": [
    "# by the last command we can easily check that our 2 columns do have some NULL data\r\n",
    "\r\n",
    "df.info()"
   ],
   "outputs": [
    {
     "output_type": "stream",
     "name": "stdout",
     "text": [
      "<class 'pandas.core.frame.DataFrame'>\n",
      "RangeIndex: 444 entries, 0 to 443\n",
      "Data columns (total 60 columns):\n",
      " #   Column        Non-Null Count  Dtype \n",
      "---  ------        --------------  ----- \n",
      " 0   City_Name     444 non-null    object\n",
      " 1   FIPS_Code     444 non-null    int64 \n",
      " 2   Population    444 non-null    int64 \n",
      " 3   Bedroom_Size  444 non-null    object\n",
      " 4   2017_01       444 non-null    object\n",
      " 5   2017_02       444 non-null    object\n",
      " 6   2017_03       444 non-null    object\n",
      " 7   2017_04       444 non-null    object\n",
      " 8   2017_05       444 non-null    object\n",
      " 9   2017_06       444 non-null    object\n",
      " 10  2017_07       444 non-null    object\n",
      " 11  2017_08       444 non-null    object\n",
      " 12  2017_09       444 non-null    object\n",
      " 13  2017_10       444 non-null    object\n",
      " 14  2017_11       444 non-null    object\n",
      " 15  2017_12       444 non-null    object\n",
      " 16  2018_01       444 non-null    object\n",
      " 17  2018_02       444 non-null    object\n",
      " 18  2018_03       444 non-null    object\n",
      " 19  2018_04       444 non-null    object\n",
      " 20  2018_05       444 non-null    object\n",
      " 21  2018_06       444 non-null    object\n",
      " 22  2018_07       444 non-null    object\n",
      " 23  2018_08       444 non-null    object\n",
      " 24  2018_09       444 non-null    object\n",
      " 25  2018_10       444 non-null    object\n",
      " 26  2018_11       444 non-null    object\n",
      " 27  2018_12       444 non-null    object\n",
      " 28  2019_01       444 non-null    object\n",
      " 29  2019_02       444 non-null    object\n",
      " 30  2019_03       444 non-null    object\n",
      " 31  2019_04       444 non-null    object\n",
      " 32  2019_05       444 non-null    object\n",
      " 33  2019_06       444 non-null    object\n",
      " 34  2019_07       444 non-null    object\n",
      " 35  2019_08       444 non-null    object\n",
      " 36  2019_09       444 non-null    object\n",
      " 37  2019_10       444 non-null    object\n",
      " 38  2019_11       444 non-null    object\n",
      " 39  2019_12       444 non-null    object\n",
      " 40  2020_01       444 non-null    object\n",
      " 41  2020_02       444 non-null    object\n",
      " 42  2020_03       444 non-null    object\n",
      " 43  2020_04       444 non-null    object\n",
      " 44  2020_05       444 non-null    object\n",
      " 45  2020_06       444 non-null    object\n",
      " 46  2020_07       444 non-null    object\n",
      " 47  2020_08       444 non-null    object\n",
      " 48  2020_09       444 non-null    object\n",
      " 49  2020_10       444 non-null    object\n",
      " 50  2020_11       444 non-null    object\n",
      " 51  2020_12       444 non-null    object\n",
      " 52  2021_01       444 non-null    object\n",
      " 53  2021_02       444 non-null    object\n",
      " 54  2021_03       444 non-null    object\n",
      " 55  2021_04       444 non-null    object\n",
      " 56  2021_05       444 non-null    object\n",
      " 57  2021_06       444 non-null    object\n",
      " 58  2021_07       444 non-null    object\n",
      " 59  2021_08       444 non-null    object\n",
      "dtypes: int64(2), object(58)\n",
      "memory usage: 208.2+ KB\n"
     ]
    }
   ],
   "metadata": {}
  },
  {
   "cell_type": "code",
   "execution_count": 7,
   "source": [
    "#Now we can easily check that we don't have any missing values left in any columns\r\n",
    "\r\n",
    "df.isnull().sum()"
   ],
   "outputs": [
    {
     "output_type": "execute_result",
     "data": {
      "text/plain": [
       "City_Name       0\n",
       "FIPS_Code       0\n",
       "Population      0\n",
       "Bedroom_Size    0\n",
       "2017_01         0\n",
       "2017_02         0\n",
       "2017_03         0\n",
       "2017_04         0\n",
       "2017_05         0\n",
       "2017_06         0\n",
       "2017_07         0\n",
       "2017_08         0\n",
       "2017_09         0\n",
       "2017_10         0\n",
       "2017_11         0\n",
       "2017_12         0\n",
       "2018_01         0\n",
       "2018_02         0\n",
       "2018_03         0\n",
       "2018_04         0\n",
       "2018_05         0\n",
       "2018_06         0\n",
       "2018_07         0\n",
       "2018_08         0\n",
       "2018_09         0\n",
       "2018_10         0\n",
       "2018_11         0\n",
       "2018_12         0\n",
       "2019_01         0\n",
       "2019_02         0\n",
       "2019_03         0\n",
       "2019_04         0\n",
       "2019_05         0\n",
       "2019_06         0\n",
       "2019_07         0\n",
       "2019_08         0\n",
       "2019_09         0\n",
       "2019_10         0\n",
       "2019_11         0\n",
       "2019_12         0\n",
       "2020_01         0\n",
       "2020_02         0\n",
       "2020_03         0\n",
       "2020_04         0\n",
       "2020_05         0\n",
       "2020_06         0\n",
       "2020_07         0\n",
       "2020_08         0\n",
       "2020_09         0\n",
       "2020_10         0\n",
       "2020_11         0\n",
       "2020_12         0\n",
       "2021_01         0\n",
       "2021_02         0\n",
       "2021_03         0\n",
       "2021_04         0\n",
       "2021_05         0\n",
       "2021_06         0\n",
       "2021_07         0\n",
       "2021_08         0\n",
       "dtype: int64"
      ]
     },
     "metadata": {},
     "execution_count": 7
    }
   ],
   "metadata": {}
  },
  {
   "cell_type": "code",
   "execution_count": 8,
   "source": [
    "# WE can also check if our dataset do have any missing values via plotting the headmap with seaborn\r\n",
    "\r\n",
    "sns.heatmap(df.isnull() , yticklabels=False , cbar = False)\r\n",
    "\r\n",
    "#if we will have any missing values then it will be indicated inside our plotted graph"
   ],
   "outputs": [
    {
     "output_type": "execute_result",
     "data": {
      "text/plain": [
       "<AxesSubplot:>"
      ]
     },
     "metadata": {},
     "execution_count": 8
    },
    {
     "output_type": "display_data",
     "data": {
      "image/png": "[encoded data removed]",
      "text/plain": [
       "<Figure size 432x288 with 1 Axes>"
      ]
     },
     "metadata": {
      "needs_background": "light"
     }
    }
   ],
   "metadata": {}
  },
  {
   "cell_type": "code",
   "execution_count": 9,
   "source": [
    "# Now let's just check how many unique values do we have inside our each columns\r\n",
    "\r\n",
    "df.nunique()"
   ],
   "outputs": [
    {
     "output_type": "execute_result",
     "data": {
      "text/plain": [
       "City_Name        74\n",
       "FIPS_Code        74\n",
       "Population       74\n",
       "Bedroom_Size      6\n",
       "2017_01         351\n",
       "2017_02         340\n",
       "2017_03         365\n",
       "2017_04         360\n",
       "2017_05         360\n",
       "2017_06         364\n",
       "2017_07         360\n",
       "2017_08         370\n",
       "2017_09         355\n",
       "2017_10         358\n",
       "2017_11         365\n",
       "2017_12         355\n",
       "2018_01         368\n",
       "2018_02         368\n",
       "2018_03         359\n",
       "2018_04         376\n",
       "2018_05         380\n",
       "2018_06         369\n",
       "2018_07         363\n",
       "2018_08         377\n",
       "2018_09         359\n",
       "2018_10         375\n",
       "2018_11         364\n",
       "2018_12         364\n",
       "2019_01         376\n",
       "2019_02         370\n",
       "2019_03         378\n",
       "2019_04         382\n",
       "2019_05         374\n",
       "2019_06         365\n",
       "2019_07         366\n",
       "2019_08         378\n",
       "2019_09         367\n",
       "2019_10         368\n",
       "2019_11         367\n",
       "2019_12         368\n",
       "2020_01         361\n",
       "2020_02         371\n",
       "2020_03         374\n",
       "2020_04         373\n",
       "2020_05         373\n",
       "2020_06         363\n",
       "2020_07         368\n",
       "2020_08         382\n",
       "2020_09         377\n",
       "2020_10         378\n",
       "2020_11         371\n",
       "2020_12         373\n",
       "2021_01         379\n",
       "2021_02         366\n",
       "2021_03         370\n",
       "2021_04         387\n",
       "2021_05         372\n",
       "2021_06         383\n",
       "2021_07         386\n",
       "2021_08         381\n",
       "dtype: int64"
      ]
     },
     "metadata": {},
     "execution_count": 9
    }
   ],
   "metadata": {}
  },
  {
   "cell_type": "code",
   "execution_count": 10,
   "source": [
    "df.shape"
   ],
   "outputs": [
    {
     "output_type": "execute_result",
     "data": {
      "text/plain": [
       "(444, 60)"
      ]
     },
     "metadata": {},
     "execution_count": 10
    }
   ],
   "metadata": {}
  },
  {
   "cell_type": "code",
   "execution_count": 11,
   "source": [
    "# df.describe(): Shows the main statistics for every numerical column in our dataset\r\n",
    "\r\n",
    "df.describe()"
   ],
   "outputs": [
    {
     "output_type": "execute_result",
     "data": {
      "text/html": [
       "<div>\n",
       "<style scoped>\n",
       "    .dataframe tbody tr th:only-of-type {\n",
       "        vertical-align: middle;\n",
       "    }\n",
       "\n",
       "    .dataframe tbody tr th {\n",
       "        vertical-align: top;\n",
       "    }\n",
       "\n",
       "    .dataframe thead th {\n",
       "        text-align: right;\n",
       "    }\n",
       "</style>\n",
       "<table border=\"1\" class=\"dataframe\">\n",
       "  <thead>\n",
       "    <tr style=\"text-align: right;\">\n",
       "      <th></th>\n",
       "      <th>FIPS_Code</th>\n",
       "      <th>Population</th>\n",
       "    </tr>\n",
       "  </thead>\n",
       "  <tbody>\n",
       "    <tr>\n",
       "      <th>count</th>\n",
       "      <td>4.440000e+02</td>\n",
       "      <td>4.440000e+02</td>\n",
       "    </tr>\n",
       "    <tr>\n",
       "      <th>mean</th>\n",
       "      <td>4.841482e+06</td>\n",
       "      <td>1.949066e+05</td>\n",
       "    </tr>\n",
       "    <tr>\n",
       "      <th>std</th>\n",
       "      <td>2.338320e+04</td>\n",
       "      <td>3.598756e+05</td>\n",
       "    </tr>\n",
       "    <tr>\n",
       "      <th>min</th>\n",
       "      <td>4.801000e+06</td>\n",
       "      <td>1.116500e+04</td>\n",
       "    </tr>\n",
       "    <tr>\n",
       "      <th>25%</th>\n",
       "      <td>4.824000e+06</td>\n",
       "      <td>5.003900e+04</td>\n",
       "    </tr>\n",
       "    <tr>\n",
       "      <th>50%</th>\n",
       "      <td>4.842262e+06</td>\n",
       "      <td>9.944450e+04</td>\n",
       "    </tr>\n",
       "    <tr>\n",
       "      <th>75%</th>\n",
       "      <td>4.863500e+06</td>\n",
       "      <td>1.430700e+05</td>\n",
       "    </tr>\n",
       "    <tr>\n",
       "      <th>max</th>\n",
       "      <td>4.876948e+06</td>\n",
       "      <td>2.295982e+06</td>\n",
       "    </tr>\n",
       "  </tbody>\n",
       "</table>\n",
       "</div>"
      ],
      "text/plain": [
       "          FIPS_Code    Population\n",
       "count  4.440000e+02  4.440000e+02\n",
       "mean   4.841482e+06  1.949066e+05\n",
       "std    2.338320e+04  3.598756e+05\n",
       "min    4.801000e+06  1.116500e+04\n",
       "25%    4.824000e+06  5.003900e+04\n",
       "50%    4.842262e+06  9.944450e+04\n",
       "75%    4.863500e+06  1.430700e+05\n",
       "max    4.876948e+06  2.295982e+06"
      ]
     },
     "metadata": {},
     "execution_count": 11
    }
   ],
   "metadata": {}
  },
  {
   "cell_type": "code",
   "execution_count": 12,
   "source": [
    "col = df.columns\r\n"
   ],
   "outputs": [],
   "metadata": {}
  },
  {
   "cell_type": "code",
   "execution_count": 13,
   "source": [
    "# with df.info() we can see that our columns of 2007_1 etc are having float values but they are written as object(which is actually string) so now we should change them into float\r\n",
    "\r\n",
    "# we are having first 3 columns having right datatype specified so we will change of others\r\n",
    "\r\n",
    "for i in range(4,len(col)):\r\n",
    "    df[col[i]] = pd.to_numeric(df[col[i]], errors='coerce')"
   ],
   "outputs": [],
   "metadata": {}
  },
  {
   "cell_type": "code",
   "execution_count": 14,
   "source": [
    "# If you se the dtypes one more time, you’ll notice that the all  column is no longer an object but it’s now a float64 type.\r\n",
    "\r\n",
    "df.info()"
   ],
   "outputs": [
    {
     "output_type": "stream",
     "name": "stdout",
     "text": [
      "<class 'pandas.core.frame.DataFrame'>\n",
      "RangeIndex: 444 entries, 0 to 443\n",
      "Data columns (total 60 columns):\n",
      " #   Column        Non-Null Count  Dtype  \n",
      "---  ------        --------------  -----  \n",
      " 0   City_Name     444 non-null    object \n",
      " 1   FIPS_Code     444 non-null    int64  \n",
      " 2   Population    444 non-null    int64  \n",
      " 3   Bedroom_Size  444 non-null    object \n",
      " 4   2017_01       399 non-null    float64\n",
      " 5   2017_02       411 non-null    float64\n",
      " 6   2017_03       410 non-null    float64\n",
      " 7   2017_04       410 non-null    float64\n",
      " 8   2017_05       416 non-null    float64\n",
      " 9   2017_06       422 non-null    float64\n",
      " 10  2017_07       411 non-null    float64\n",
      " 11  2017_08       423 non-null    float64\n",
      " 12  2017_09       411 non-null    float64\n",
      " 13  2017_10       423 non-null    float64\n",
      " 14  2017_11       417 non-null    float64\n",
      " 15  2017_12       422 non-null    float64\n",
      " 16  2018_01       421 non-null    float64\n",
      " 17  2018_02       433 non-null    float64\n",
      " 18  2018_03       433 non-null    float64\n",
      " 19  2018_04       433 non-null    float64\n",
      " 20  2018_05       433 non-null    float64\n",
      " 21  2018_06       433 non-null    float64\n",
      " 22  2018_07       433 non-null    float64\n",
      " 23  2018_08       433 non-null    float64\n",
      " 24  2018_09       427 non-null    float64\n",
      " 25  2018_10       433 non-null    float64\n",
      " 26  2018_11       433 non-null    float64\n",
      " 27  2018_12       433 non-null    float64\n",
      " 28  2019_01       433 non-null    float64\n",
      " 29  2019_02       433 non-null    float64\n",
      " 30  2019_03       433 non-null    float64\n",
      " 31  2019_04       433 non-null    float64\n",
      " 32  2019_05       433 non-null    float64\n",
      " 33  2019_06       433 non-null    float64\n",
      " 34  2019_07       433 non-null    float64\n",
      " 35  2019_08       433 non-null    float64\n",
      " 36  2019_09       433 non-null    float64\n",
      " 37  2019_10       433 non-null    float64\n",
      " 38  2019_11       433 non-null    float64\n",
      " 39  2019_12       433 non-null    float64\n",
      " 40  2020_01       433 non-null    float64\n",
      " 41  2020_02       433 non-null    float64\n",
      " 42  2020_03       433 non-null    float64\n",
      " 43  2020_04       433 non-null    float64\n",
      " 44  2020_05       433 non-null    float64\n",
      " 45  2020_06       433 non-null    float64\n",
      " 46  2020_07       433 non-null    float64\n",
      " 47  2020_08       433 non-null    float64\n",
      " 48  2020_09       433 non-null    float64\n",
      " 49  2020_10       433 non-null    float64\n",
      " 50  2020_11       433 non-null    float64\n",
      " 51  2020_12       433 non-null    float64\n",
      " 52  2021_01       433 non-null    float64\n",
      " 53  2021_02       433 non-null    float64\n",
      " 54  2021_03       433 non-null    float64\n",
      " 55  2021_04       433 non-null    float64\n",
      " 56  2021_05       433 non-null    float64\n",
      " 57  2021_06       433 non-null    float64\n",
      " 58  2021_07       433 non-null    float64\n",
      " 59  2021_08       428 non-null    float64\n",
      "dtypes: float64(56), int64(2), object(2)\n",
      "memory usage: 208.2+ KB\n"
     ]
    }
   ],
   "metadata": {}
  },
  {
   "cell_type": "code",
   "execution_count": 15,
   "source": [
    "# Now we can check that our most of the columns has very high number of unique values and actually due to this these columns are of no use to us as they will not give any better values to us\r\n",
    "\r\n",
    "# it's better to delete all those columns\r\n",
    "\r\n",
    "for i in range(4,len(col)):\r\n",
    "    df.drop([col[i]] , axis=1 , inplace=True)"
   ],
   "outputs": [],
   "metadata": {}
  },
  {
   "cell_type": "code",
   "execution_count": 16,
   "source": [
    "df.shape"
   ],
   "outputs": [
    {
     "output_type": "execute_result",
     "data": {
      "text/plain": [
       "(444, 4)"
      ]
     },
     "metadata": {},
     "execution_count": 16
    }
   ],
   "metadata": {}
  },
  {
   "cell_type": "code",
   "execution_count": null,
   "source": [],
   "outputs": [],
   "metadata": {}
  },
  {
   "cell_type": "code",
   "execution_count": 17,
   "source": [
    "df.head()"
   ],
   "outputs": [
    {
     "output_type": "execute_result",
     "data": {
      "text/html": [
       "<div>\n",
       "<style scoped>\n",
       "    .dataframe tbody tr th:only-of-type {\n",
       "        vertical-align: middle;\n",
       "    }\n",
       "\n",
       "    .dataframe tbody tr th {\n",
       "        vertical-align: top;\n",
       "    }\n",
       "\n",
       "    .dataframe thead th {\n",
       "        text-align: right;\n",
       "    }\n",
       "</style>\n",
       "<table border=\"1\" class=\"dataframe\">\n",
       "  <thead>\n",
       "    <tr style=\"text-align: right;\">\n",
       "      <th></th>\n",
       "      <th>City_Name</th>\n",
       "      <th>FIPS_Code</th>\n",
       "      <th>Population</th>\n",
       "      <th>Bedroom_Size</th>\n",
       "    </tr>\n",
       "  </thead>\n",
       "  <tbody>\n",
       "    <tr>\n",
       "      <th>0</th>\n",
       "      <td>Abilene, TX</td>\n",
       "      <td>4801000</td>\n",
       "      <td>123676</td>\n",
       "      <td>_Overall</td>\n",
       "    </tr>\n",
       "    <tr>\n",
       "      <th>1</th>\n",
       "      <td>Abilene, TX</td>\n",
       "      <td>4801000</td>\n",
       "      <td>123676</td>\n",
       "      <td>_Studio</td>\n",
       "    </tr>\n",
       "    <tr>\n",
       "      <th>2</th>\n",
       "      <td>Abilene, TX</td>\n",
       "      <td>4801000</td>\n",
       "      <td>123676</td>\n",
       "      <td>1br</td>\n",
       "    </tr>\n",
       "    <tr>\n",
       "      <th>3</th>\n",
       "      <td>Abilene, TX</td>\n",
       "      <td>4801000</td>\n",
       "      <td>123676</td>\n",
       "      <td>2br</td>\n",
       "    </tr>\n",
       "    <tr>\n",
       "      <th>4</th>\n",
       "      <td>Abilene, TX</td>\n",
       "      <td>4801000</td>\n",
       "      <td>123676</td>\n",
       "      <td>3br</td>\n",
       "    </tr>\n",
       "  </tbody>\n",
       "</table>\n",
       "</div>"
      ],
      "text/plain": [
       "     City_Name  FIPS_Code  Population Bedroom_Size\n",
       "0  Abilene, TX    4801000      123676     _Overall\n",
       "1  Abilene, TX    4801000      123676      _Studio\n",
       "2  Abilene, TX    4801000      123676          1br\n",
       "3  Abilene, TX    4801000      123676          2br\n",
       "4  Abilene, TX    4801000      123676          3br"
      ]
     },
     "metadata": {},
     "execution_count": 17
    }
   ],
   "metadata": {}
  },
  {
   "cell_type": "code",
   "execution_count": 18,
   "source": [
    "df.info"
   ],
   "outputs": [
    {
     "output_type": "execute_result",
     "data": {
      "text/plain": [
       "<bound method DataFrame.info of        City_Name  FIPS_Code  Population Bedroom_Size\n",
       "0    Abilene, TX    4801000      123676     _Overall\n",
       "1    Abilene, TX    4801000      123676      _Studio\n",
       "2    Abilene, TX    4801000      123676          1br\n",
       "3    Abilene, TX    4801000      123676          2br\n",
       "4    Abilene, TX    4801000      123676          3br\n",
       "..           ...        ...         ...          ...\n",
       "439  Webster, TX    4876948       11165      _Studio\n",
       "440  Webster, TX    4876948       11165          1br\n",
       "441  Webster, TX    4876948       11165          2br\n",
       "442  Webster, TX    4876948       11165          3br\n",
       "443  Webster, TX    4876948       11165          4br\n",
       "\n",
       "[444 rows x 4 columns]>"
      ]
     },
     "metadata": {},
     "execution_count": 18
    }
   ],
   "metadata": {}
  },
  {
   "cell_type": "code",
   "execution_count": 19,
   "source": [
    "df.nunique()"
   ],
   "outputs": [
    {
     "output_type": "execute_result",
     "data": {
      "text/plain": [
       "City_Name       74\n",
       "FIPS_Code       74\n",
       "Population      74\n",
       "Bedroom_Size     6\n",
       "dtype: int64"
      ]
     },
     "metadata": {},
     "execution_count": 19
    }
   ],
   "metadata": {}
  },
  {
   "cell_type": "code",
   "execution_count": 20,
   "source": [
    "# we can see that we only have 6 categories of bed room size inside the bedroom size column\r\n",
    "\r\n",
    "# Now as we can see last 1 columns of the dataset are categorical so we will try to one-hot encode them\r\n",
    "\r\n",
    "categorical_cols = ['Bedroom_Size'] \r\n",
    "\r\n",
    "from sklearn.preprocessing import LabelEncoder\r\n",
    "\r\n",
    "# instantiate labelencoder object\r\n",
    "le = LabelEncoder()\r\n",
    "\r\n",
    "# apply le on categorical feature columns\r\n",
    "df[categorical_cols] = df[categorical_cols].apply(lambda col: le.fit_transform(col))\r\n",
    "    \r\n",
    "from sklearn.preprocessing import OneHotEncoder\r\n",
    "ohe = OneHotEncoder()\r\n",
    "\r\n",
    "#One-hot-encode the categorical columns.\r\n",
    "#Unfortunately outputs an array instead of dataframe.\r\n",
    "array_hot_encoded = ohe.fit_transform(df[categorical_cols])\r\n",
    "\r\n",
    "#Convert it to df\r\n",
    "data_hot_encoded = pd.DataFrame(array_hot_encoded, index=df.index)\r\n",
    "\r\n",
    "#Extract only the columns that didnt need to be encoded\r\n",
    "data_other_cols = df.drop(columns=categorical_cols)\r\n",
    "\r\n",
    "#Concatenate the two dataframes : \r\n",
    "data_out = pd.concat([data_hot_encoded, data_other_cols], axis=1)"
   ],
   "outputs": [],
   "metadata": {}
  },
  {
   "cell_type": "code",
   "execution_count": 21,
   "source": [
    "df.shape"
   ],
   "outputs": [
    {
     "output_type": "execute_result",
     "data": {
      "text/plain": [
       "(444, 4)"
      ]
     },
     "metadata": {},
     "execution_count": 21
    }
   ],
   "metadata": {}
  },
  {
   "cell_type": "code",
   "execution_count": 22,
   "source": [
    "df.info()"
   ],
   "outputs": [
    {
     "output_type": "stream",
     "name": "stdout",
     "text": [
      "<class 'pandas.core.frame.DataFrame'>\n",
      "RangeIndex: 444 entries, 0 to 443\n",
      "Data columns (total 4 columns):\n",
      " #   Column        Non-Null Count  Dtype \n",
      "---  ------        --------------  ----- \n",
      " 0   City_Name     444 non-null    object\n",
      " 1   FIPS_Code     444 non-null    int64 \n",
      " 2   Population    444 non-null    int64 \n",
      " 3   Bedroom_Size  444 non-null    int32 \n",
      "dtypes: int32(1), int64(2), object(1)\n",
      "memory usage: 12.3+ KB\n"
     ]
    }
   ],
   "metadata": {}
  },
  {
   "cell_type": "code",
   "execution_count": 23,
   "source": [
    "df.head()"
   ],
   "outputs": [
    {
     "output_type": "execute_result",
     "data": {
      "text/html": [
       "<div>\n",
       "<style scoped>\n",
       "    .dataframe tbody tr th:only-of-type {\n",
       "        vertical-align: middle;\n",
       "    }\n",
       "\n",
       "    .dataframe tbody tr th {\n",
       "        vertical-align: top;\n",
       "    }\n",
       "\n",
       "    .dataframe thead th {\n",
       "        text-align: right;\n",
       "    }\n",
       "</style>\n",
       "<table border=\"1\" class=\"dataframe\">\n",
       "  <thead>\n",
       "    <tr style=\"text-align: right;\">\n",
       "      <th></th>\n",
       "      <th>City_Name</th>\n",
       "      <th>FIPS_Code</th>\n",
       "      <th>Population</th>\n",
       "      <th>Bedroom_Size</th>\n",
       "    </tr>\n",
       "  </thead>\n",
       "  <tbody>\n",
       "    <tr>\n",
       "      <th>0</th>\n",
       "      <td>Abilene, TX</td>\n",
       "      <td>4801000</td>\n",
       "      <td>123676</td>\n",
       "      <td>4</td>\n",
       "    </tr>\n",
       "    <tr>\n",
       "      <th>1</th>\n",
       "      <td>Abilene, TX</td>\n",
       "      <td>4801000</td>\n",
       "      <td>123676</td>\n",
       "      <td>5</td>\n",
       "    </tr>\n",
       "    <tr>\n",
       "      <th>2</th>\n",
       "      <td>Abilene, TX</td>\n",
       "      <td>4801000</td>\n",
       "      <td>123676</td>\n",
       "      <td>0</td>\n",
       "    </tr>\n",
       "    <tr>\n",
       "      <th>3</th>\n",
       "      <td>Abilene, TX</td>\n",
       "      <td>4801000</td>\n",
       "      <td>123676</td>\n",
       "      <td>1</td>\n",
       "    </tr>\n",
       "    <tr>\n",
       "      <th>4</th>\n",
       "      <td>Abilene, TX</td>\n",
       "      <td>4801000</td>\n",
       "      <td>123676</td>\n",
       "      <td>2</td>\n",
       "    </tr>\n",
       "  </tbody>\n",
       "</table>\n",
       "</div>"
      ],
      "text/plain": [
       "     City_Name  FIPS_Code  Population  Bedroom_Size\n",
       "0  Abilene, TX    4801000      123676             4\n",
       "1  Abilene, TX    4801000      123676             5\n",
       "2  Abilene, TX    4801000      123676             0\n",
       "3  Abilene, TX    4801000      123676             1\n",
       "4  Abilene, TX    4801000      123676             2"
      ]
     },
     "metadata": {},
     "execution_count": 23
    }
   ],
   "metadata": {}
  },
  {
   "cell_type": "code",
   "execution_count": 24,
   "source": [
    "df.to_csv(r\"C:\\Users\\mohit\\OneDrive\\Desktop\\Omdena Projects\\Omdena-Texas-Homelessness\\omdena-texas-homelessness\\src\\cleaned data\\Apartment_List_Rent_Estimates_City_2021_8.csv\")"
   ],
   "outputs": [],
   "metadata": {}
  },
  {
   "cell_type": "code",
   "execution_count": null,
   "source": [],
   "outputs": [],
   "metadata": {}
  },
  {
   "cell_type": "markdown",
   "source": [],
   "metadata": {}
  }
 ],
 "metadata": {
  "orig_nbformat": 4,
  "language_info": {
   "name": "python",
   "version": "3.8.11",
   "mimetype": "text/x-python",
   "codemirror_mode": {
    "name": "ipython",
    "version": 3
   },
   "pygments_lexer": "ipython3",
   "nbconvert_exporter": "python",
   "file_extension": ".py"
  },
  "kernelspec": {
   "name": "python3",
   "display_name": "Python 3.8.11 64-bit ('base': conda)"
  },
  "interpreter": {
   "hash": "de0a872bf736e871890e4595f13441ccf4210b874152ed5e175f37f1f83d386b"
  }
 },
 "nbformat": 4,
 "nbformat_minor": 2
}