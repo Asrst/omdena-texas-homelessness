{
  "cells": [
    {
      "cell_type": "code",
      "execution_count": null,
      "metadata": {
        "id": "YHM6K7RRlekW"
      },
      "outputs": [],
      "source": [
        "import pandas as pd\n",
        "import numpy as np\n",
        "import pandas as pd\n",
        "from pandas_profiling import ProfileReport\n",
        "from app import wrangle_without_dt"
      ]
    },
    {
      "cell_type": "code",
      "execution_count": null,
      "metadata": {
        "id": "gczlRO1llekd"
      },
      "outputs": [],
      "source": [
        "base_df = pd.read_csv('/content/Displacement_and_Gentrification_Recommendation_Inventory_8.csv')"
      ]
    },
    {
      "cell_type": "code",
      "execution_count": null,
      "metadata": {
        "colab": {
          "base_uri": "https://localhost:8080/",
          "height": 974
        },
        "id": "dAsJCNMllekg",
        "outputId": "d410032a-91f6-4c61-a21c-c396c40683de"
      },
      "outputs": [
        {
          "data": {
            "text/html": [
              "<div>\n",
              "<style scoped>\n",
              "    .dataframe tbody tr th:only-of-type {\n",
              "        vertical-align: middle;\n",
              "    }\n",
              "\n",
              "    .dataframe tbody tr th {\n",
              "        vertical-align: top;\n",
              "    }\n",
              "\n",
              "    .dataframe thead th {\n",
              "        text-align: right;\n",
              "    }\n",
              "</style>\n",
              "<table border=\"1\" class=\"dataframe\">\n",
              "  <thead>\n",
              "    <tr style=\"text-align: right;\">\n",
              "      <th></th>\n",
              "      <th>Year (CY)</th>\n",
              "      <th>Type</th>\n",
              "      <th>Source</th>\n",
              "      <th>Summary</th>\n",
              "      <th>Recommendation/Resolution</th>\n",
              "      <th>Implementing Department</th>\n",
              "      <th>Action Category</th>\n",
              "      <th>Direct/Indirect?</th>\n",
              "      <th>Targeted at Homelessness?</th>\n",
              "      <th>Actionable?</th>\n",
              "      <th>Status of the Recommendation/Resolution</th>\n",
              "    </tr>\n",
              "  </thead>\n",
              "  <tbody>\n",
              "    <tr>\n",
              "      <th>0</th>\n",
              "      <td>2011</td>\n",
              "      <td>OCA Audit</td>\n",
              "      <td>Affordable Housing: Rental Housing and Acquisi...</td>\n",
              "      <td>NaN</td>\n",
              "      <td>In order to support the efficiency and effecti...</td>\n",
              "      <td>NHCD</td>\n",
              "      <td>Monitoring</td>\n",
              "      <td>Indirect</td>\n",
              "      <td>No</td>\n",
              "      <td>NaN</td>\n",
              "      <td>NaN</td>\n",
              "    </tr>\n",
              "    <tr>\n",
              "      <th>1</th>\n",
              "      <td>2011</td>\n",
              "      <td>OCA Audit</td>\n",
              "      <td>Affordable Housing: Rental Housing and Acquisi...</td>\n",
              "      <td>NaN</td>\n",
              "      <td>The NHCD Director should improve existing proc...</td>\n",
              "      <td>NHCD</td>\n",
              "      <td>Recommendations for process improvements</td>\n",
              "      <td>Indirect</td>\n",
              "      <td>No</td>\n",
              "      <td>NaN</td>\n",
              "      <td>NaN</td>\n",
              "    </tr>\n",
              "    <tr>\n",
              "      <th>2</th>\n",
              "      <td>2012</td>\n",
              "      <td>OCA Audit</td>\n",
              "      <td>Austin Energy Customer Assistance Programs Audit</td>\n",
              "      <td>NaN</td>\n",
              "      <td>AE management should work with Council to iden...</td>\n",
              "      <td>Austin Energy</td>\n",
              "      <td>Financing</td>\n",
              "      <td>Indirect</td>\n",
              "      <td>No</td>\n",
              "      <td>NaN</td>\n",
              "      <td>NaN</td>\n",
              "    </tr>\n",
              "    <tr>\n",
              "      <th>3</th>\n",
              "      <td>2012</td>\n",
              "      <td>OCA Audit</td>\n",
              "      <td>Austin Energy Customer Assistance Programs Audit</td>\n",
              "      <td>NaN</td>\n",
              "      <td>AE management should work with the Plus 1 Prog...</td>\n",
              "      <td>Austin Energy</td>\n",
              "      <td>Financing</td>\n",
              "      <td>Indirect</td>\n",
              "      <td>No</td>\n",
              "      <td>NaN</td>\n",
              "      <td>NaN</td>\n",
              "    </tr>\n",
              "    <tr>\n",
              "      <th>4</th>\n",
              "      <td>2015</td>\n",
              "      <td>OCA Audit</td>\n",
              "      <td>Austin Energy Low-Income Weatherization Progra...</td>\n",
              "      <td>NaN</td>\n",
              "      <td>5. Austin Energy management should continue to...</td>\n",
              "      <td>Austin Energy</td>\n",
              "      <td>Financing</td>\n",
              "      <td>Indirect</td>\n",
              "      <td>No</td>\n",
              "      <td>NaN</td>\n",
              "      <td>NaN</td>\n",
              "    </tr>\n",
              "    <tr>\n",
              "      <th>5</th>\n",
              "      <td>2015</td>\n",
              "      <td>OCA Audit</td>\n",
              "      <td>Austin Energy Low-Income Weatherization Progra...</td>\n",
              "      <td>NaN</td>\n",
              "      <td>1. Austin Energy management should ensure adeq...</td>\n",
              "      <td>Austin Energy</td>\n",
              "      <td>Financing</td>\n",
              "      <td>Indirect</td>\n",
              "      <td>No</td>\n",
              "      <td>NaN</td>\n",
              "      <td>NaN</td>\n",
              "    </tr>\n",
              "    <tr>\n",
              "      <th>6</th>\n",
              "      <td>2015</td>\n",
              "      <td>OCA Audit</td>\n",
              "      <td>Austin Energy Low-Income Weatherization Progra...</td>\n",
              "      <td>NaN</td>\n",
              "      <td>4. Austin Energy management should clarify the...</td>\n",
              "      <td>Austin Energy</td>\n",
              "      <td>Financing</td>\n",
              "      <td>Indirect</td>\n",
              "      <td>No</td>\n",
              "      <td>NaN</td>\n",
              "      <td>NaN</td>\n",
              "    </tr>\n",
              "    <tr>\n",
              "      <th>7</th>\n",
              "      <td>2015</td>\n",
              "      <td>OCA Audit</td>\n",
              "      <td>Prioritization of Affordable Housing Developme...</td>\n",
              "      <td>NaN</td>\n",
              "      <td>1. The NHCD Director should initiate a policy ...</td>\n",
              "      <td>NHCD</td>\n",
              "      <td>Preserving and expanding the supply of afforda...</td>\n",
              "      <td>Indirect</td>\n",
              "      <td>No</td>\n",
              "      <td>NaN</td>\n",
              "      <td>NaN</td>\n",
              "    </tr>\n",
              "    <tr>\n",
              "      <th>8</th>\n",
              "      <td>2015</td>\n",
              "      <td>OCA Audit</td>\n",
              "      <td>Prioritization of Affordable Housing Developme...</td>\n",
              "      <td>NaN</td>\n",
              "      <td>2. The NHCD Director should organize affordabl...</td>\n",
              "      <td>NHCD</td>\n",
              "      <td>Preserving and expanding the supply of afforda...</td>\n",
              "      <td>Indirect</td>\n",
              "      <td>No</td>\n",
              "      <td>NaN</td>\n",
              "      <td>NaN</td>\n",
              "    </tr>\n",
              "    <tr>\n",
              "      <th>9</th>\n",
              "      <td>2015</td>\n",
              "      <td>OCA Audit</td>\n",
              "      <td>Prioritization of Affordable Housing Developme...</td>\n",
              "      <td>NaN</td>\n",
              "      <td>3. The NHCD Director should regularly report t...</td>\n",
              "      <td>NHCD</td>\n",
              "      <td>Preserving and expanding the supply of afforda...</td>\n",
              "      <td>Indirect</td>\n",
              "      <td>No</td>\n",
              "      <td>NaN</td>\n",
              "      <td>NaN</td>\n",
              "    </tr>\n",
              "  </tbody>\n",
              "</table>\n",
              "</div>"
            ],
            "text/plain": [
              "  Year (CY)       Type  ... Actionable? Status of the Recommendation/Resolution \n",
              "0      2011  OCA Audit  ...         NaN                                      NaN\n",
              "1      2011  OCA Audit  ...         NaN                                      NaN\n",
              "2      2012  OCA Audit  ...         NaN                                      NaN\n",
              "3      2012  OCA Audit  ...         NaN                                      NaN\n",
              "4      2015  OCA Audit  ...         NaN                                      NaN\n",
              "5      2015  OCA Audit  ...         NaN                                      NaN\n",
              "6      2015  OCA Audit  ...         NaN                                      NaN\n",
              "7      2015  OCA Audit  ...         NaN                                      NaN\n",
              "8      2015  OCA Audit  ...         NaN                                      NaN\n",
              "9      2015  OCA Audit  ...         NaN                                      NaN\n",
              "\n",
              "[10 rows x 11 columns]"
            ]
          },
          "execution_count": 3,
          "metadata": {},
          "output_type": "execute_result"
        }
      ],
      "source": [
        "base_df.head(10)"
      ]
    },
    {
      "cell_type": "code",
      "execution_count": null,
      "metadata": {
        "colab": {
          "base_uri": "https://localhost:8080/"
        },
        "id": "NosaRtuelekn",
        "outputId": "7472d8e0-c0c1-409a-cd68-ef714dac28d5"
      },
      "outputs": [
        {
          "name": "stdout",
          "output_type": "stream",
          "text": [
            "<class 'pandas.core.frame.DataFrame'>\n",
            "RangeIndex: 541 entries, 0 to 540\n",
            "Data columns (total 11 columns):\n",
            " #   Column                                    Non-Null Count  Dtype \n",
            "---  ------                                    --------------  ----- \n",
            " 0   Year (CY)                                 541 non-null    object\n",
            " 1   Type                                      541 non-null    object\n",
            " 2   Source                                    540 non-null    object\n",
            " 3   Summary                                   196 non-null    object\n",
            " 4   Recommendation/Resolution                 541 non-null    object\n",
            " 5   Implementing Department                   517 non-null    object\n",
            " 6   Action Category                           541 non-null    object\n",
            " 7   Direct/Indirect?                          541 non-null    object\n",
            " 8   Targeted at Homelessness?                 541 non-null    object\n",
            " 9   Actionable?                               142 non-null    object\n",
            " 10  Status of the Recommendation/Resolution   216 non-null    object\n",
            "dtypes: object(11)\n",
            "memory usage: 46.6+ KB\n"
          ]
        }
      ],
      "source": [
        "base_df.info()"
      ]
    },
    {
      "cell_type": "code",
      "execution_count": null,
      "metadata": {
        "colab": {
          "base_uri": "https://localhost:8080/",
          "height": 295
        },
        "id": "BKwc24twlekq",
        "outputId": "bacaeba3-09d5-41ae-f972-79fe7eaf317d"
      },
      "outputs": [
        {
          "data": {
            "text/html": [
              "<div>\n",
              "<style scoped>\n",
              "    .dataframe tbody tr th:only-of-type {\n",
              "        vertical-align: middle;\n",
              "    }\n",
              "\n",
              "    .dataframe tbody tr th {\n",
              "        vertical-align: top;\n",
              "    }\n",
              "\n",
              "    .dataframe thead th {\n",
              "        text-align: right;\n",
              "    }\n",
              "</style>\n",
              "<table border=\"1\" class=\"dataframe\">\n",
              "  <thead>\n",
              "    <tr style=\"text-align: right;\">\n",
              "      <th></th>\n",
              "      <th>Year (CY)</th>\n",
              "      <th>Type</th>\n",
              "      <th>Source</th>\n",
              "      <th>Summary</th>\n",
              "      <th>Recommendation/Resolution</th>\n",
              "      <th>Implementing Department</th>\n",
              "      <th>Action Category</th>\n",
              "      <th>Direct/Indirect?</th>\n",
              "      <th>Targeted at Homelessness?</th>\n",
              "      <th>Actionable?</th>\n",
              "      <th>Status of the Recommendation/Resolution</th>\n",
              "    </tr>\n",
              "  </thead>\n",
              "  <tbody>\n",
              "    <tr>\n",
              "      <th>count</th>\n",
              "      <td>541</td>\n",
              "      <td>541</td>\n",
              "      <td>540</td>\n",
              "      <td>196</td>\n",
              "      <td>541</td>\n",
              "      <td>517</td>\n",
              "      <td>541</td>\n",
              "      <td>541</td>\n",
              "      <td>541</td>\n",
              "      <td>142</td>\n",
              "      <td>216</td>\n",
              "    </tr>\n",
              "    <tr>\n",
              "      <th>unique</th>\n",
              "      <td>19</td>\n",
              "      <td>5</td>\n",
              "      <td>265</td>\n",
              "      <td>196</td>\n",
              "      <td>536</td>\n",
              "      <td>19</td>\n",
              "      <td>8</td>\n",
              "      <td>2</td>\n",
              "      <td>2</td>\n",
              "      <td>2</td>\n",
              "      <td>43</td>\n",
              "    </tr>\n",
              "    <tr>\n",
              "      <th>top</th>\n",
              "      <td>2017</td>\n",
              "      <td>Council Resolution</td>\n",
              "      <td>Community Development Commission</td>\n",
              "      <td>City Manager to explore options and take appro...</td>\n",
              "      <td>Approves up to $15 million in private activity...</td>\n",
              "      <td>Council</td>\n",
              "      <td>Recommendations for planning and approach</td>\n",
              "      <td>Indirect</td>\n",
              "      <td>No</td>\n",
              "      <td>Actionable</td>\n",
              "      <td>Presumed Implemented</td>\n",
              "    </tr>\n",
              "    <tr>\n",
              "      <th>freq</th>\n",
              "      <td>89</td>\n",
              "      <td>222</td>\n",
              "      <td>55</td>\n",
              "      <td>1</td>\n",
              "      <td>4</td>\n",
              "      <td>189</td>\n",
              "      <td>155</td>\n",
              "      <td>387</td>\n",
              "      <td>495</td>\n",
              "      <td>133</td>\n",
              "      <td>64</td>\n",
              "    </tr>\n",
              "  </tbody>\n",
              "</table>\n",
              "</div>"
            ],
            "text/plain": [
              "       Year (CY)  ... Status of the Recommendation/Resolution \n",
              "count        541  ...                                      216\n",
              "unique        19  ...                                       43\n",
              "top         2017  ...                     Presumed Implemented\n",
              "freq          89  ...                                       64\n",
              "\n",
              "[4 rows x 11 columns]"
            ]
          },
          "execution_count": 5,
          "metadata": {},
          "output_type": "execute_result"
        }
      ],
      "source": [
        "base_df.describe(include='all')"
      ]
    },
    {
      "cell_type": "code",
      "execution_count": null,
      "metadata": {
        "id": "JS5ayL4ulekt"
      },
      "outputs": [],
      "source": [
        "from app import wrangle_without_dt\n",
        "import pandas as pd\n",
        "fixed_df = wrangle_without_dt('/content/Displacement_and_Gentrification_Recommendation_Inventory_8.csv')"
      ]
    },
    {
      "cell_type": "code",
      "execution_count": null,
      "metadata": {
        "id": "DJL3R__Mleky"
      },
      "outputs": [],
      "source": [
        "fixed_df.rename(columns={'status_of_the_recommendation_resolution_':'status_of_the_recommendation_solution'}, inplace=True)"
      ]
    },
    {
      "cell_type": "code",
      "execution_count": null,
      "metadata": {
        "colab": {
          "base_uri": "https://localhost:8080/",
          "height": 694
        },
        "id": "OthpiZy-lek1",
        "outputId": "f6591c8e-0215-4020-a6b5-da74fc6b607b"
      },
      "outputs": [
        {
          "data": {
            "text/html": [
              "<div>\n",
              "<style scoped>\n",
              "    .dataframe tbody tr th:only-of-type {\n",
              "        vertical-align: middle;\n",
              "    }\n",
              "\n",
              "    .dataframe tbody tr th {\n",
              "        vertical-align: top;\n",
              "    }\n",
              "\n",
              "    .dataframe thead th {\n",
              "        text-align: right;\n",
              "    }\n",
              "</style>\n",
              "<table border=\"1\" class=\"dataframe\">\n",
              "  <thead>\n",
              "    <tr style=\"text-align: right;\">\n",
              "      <th></th>\n",
              "      <th>year_cy</th>\n",
              "      <th>type</th>\n",
              "      <th>implementing_department</th>\n",
              "      <th>action_category</th>\n",
              "      <th>direct_indirect</th>\n",
              "      <th>targeted_at_homelessness</th>\n",
              "      <th>actionable</th>\n",
              "      <th>status_of_the_recommendation_solution</th>\n",
              "    </tr>\n",
              "  </thead>\n",
              "  <tbody>\n",
              "    <tr>\n",
              "      <th>0</th>\n",
              "      <td>2011</td>\n",
              "      <td>OCA Audit</td>\n",
              "      <td>NHCD</td>\n",
              "      <td>Monitoring</td>\n",
              "      <td>Indirect</td>\n",
              "      <td>No</td>\n",
              "      <td>Not actionable</td>\n",
              "      <td>Implemented: GO Bond Referendum</td>\n",
              "    </tr>\n",
              "    <tr>\n",
              "      <th>1</th>\n",
              "      <td>2011</td>\n",
              "      <td>OCA Audit</td>\n",
              "      <td>NHCD</td>\n",
              "      <td>Recommendations for process improvements</td>\n",
              "      <td>Indirect</td>\n",
              "      <td>No</td>\n",
              "      <td>Not actionable</td>\n",
              "      <td>Implemented: GO Bond Referendum</td>\n",
              "    </tr>\n",
              "    <tr>\n",
              "      <th>2</th>\n",
              "      <td>2012</td>\n",
              "      <td>OCA Audit</td>\n",
              "      <td>Austin Energy</td>\n",
              "      <td>Financing</td>\n",
              "      <td>Indirect</td>\n",
              "      <td>No</td>\n",
              "      <td>Not actionable</td>\n",
              "      <td>Implemented: GO Bond Referendum</td>\n",
              "    </tr>\n",
              "    <tr>\n",
              "      <th>3</th>\n",
              "      <td>2012</td>\n",
              "      <td>OCA Audit</td>\n",
              "      <td>Austin Energy</td>\n",
              "      <td>Financing</td>\n",
              "      <td>Indirect</td>\n",
              "      <td>No</td>\n",
              "      <td>Not actionable</td>\n",
              "      <td>Implemented: GO Bond Referendum</td>\n",
              "    </tr>\n",
              "    <tr>\n",
              "      <th>4</th>\n",
              "      <td>2015</td>\n",
              "      <td>OCA Audit</td>\n",
              "      <td>Austin Energy</td>\n",
              "      <td>Financing</td>\n",
              "      <td>Indirect</td>\n",
              "      <td>No</td>\n",
              "      <td>Not actionable</td>\n",
              "      <td>Implemented: GO Bond Referendum</td>\n",
              "    </tr>\n",
              "    <tr>\n",
              "      <th>...</th>\n",
              "      <td>...</td>\n",
              "      <td>...</td>\n",
              "      <td>...</td>\n",
              "      <td>...</td>\n",
              "      <td>...</td>\n",
              "      <td>...</td>\n",
              "      <td>...</td>\n",
              "      <td>...</td>\n",
              "    </tr>\n",
              "    <tr>\n",
              "      <th>536</th>\n",
              "      <td>2013</td>\n",
              "      <td>Council Resolution</td>\n",
              "      <td>City Manager</td>\n",
              "      <td>Preserving and expanding the supply of afforda...</td>\n",
              "      <td>Direct</td>\n",
              "      <td>No</td>\n",
              "      <td>Actionable</td>\n",
              "      <td>Implemented</td>\n",
              "    </tr>\n",
              "    <tr>\n",
              "      <th>537</th>\n",
              "      <td>2002</td>\n",
              "      <td>Task Force</td>\n",
              "      <td>Council</td>\n",
              "      <td>Recommendations for planning and approach</td>\n",
              "      <td>Direct</td>\n",
              "      <td>No</td>\n",
              "      <td>Actionable</td>\n",
              "      <td>Status unknown: commission and taskforce recom...</td>\n",
              "    </tr>\n",
              "    <tr>\n",
              "      <th>538</th>\n",
              "      <td>2004</td>\n",
              "      <td>Council Resolution</td>\n",
              "      <td>City Manager</td>\n",
              "      <td>Controlling land for community development</td>\n",
              "      <td>Direct</td>\n",
              "      <td>No</td>\n",
              "      <td>Actionable</td>\n",
              "      <td>Status unknown: according to CMO, item predate...</td>\n",
              "    </tr>\n",
              "    <tr>\n",
              "      <th>539</th>\n",
              "      <td>2016</td>\n",
              "      <td>Council Resolution</td>\n",
              "      <td>City Manager</td>\n",
              "      <td>Financing</td>\n",
              "      <td>Direct</td>\n",
              "      <td>No</td>\n",
              "      <td>Actionable</td>\n",
              "      <td>Implemented</td>\n",
              "    </tr>\n",
              "    <tr>\n",
              "      <th>540</th>\n",
              "      <td>2013</td>\n",
              "      <td>Commission Report</td>\n",
              "      <td>Council</td>\n",
              "      <td>Preserving and expanding the supply of afforda...</td>\n",
              "      <td>Indirect</td>\n",
              "      <td>No</td>\n",
              "      <td>Actionable</td>\n",
              "      <td>Implemented</td>\n",
              "    </tr>\n",
              "  </tbody>\n",
              "</table>\n",
              "<p>541 rows × 8 columns</p>\n",
              "</div>"
            ],
            "text/plain": [
              "    year_cy  ...              status_of_the_recommendation_solution\n",
              "0      2011  ...                    Implemented: GO Bond Referendum\n",
              "1      2011  ...                    Implemented: GO Bond Referendum\n",
              "2      2012  ...                    Implemented: GO Bond Referendum\n",
              "3      2012  ...                    Implemented: GO Bond Referendum\n",
              "4      2015  ...                    Implemented: GO Bond Referendum\n",
              "..      ...  ...                                                ...\n",
              "536    2013  ...                                        Implemented\n",
              "537    2002  ...  Status unknown: commission and taskforce recom...\n",
              "538    2004  ...  Status unknown: according to CMO, item predate...\n",
              "539    2016  ...                                        Implemented\n",
              "540    2013  ...                                        Implemented\n",
              "\n",
              "[541 rows x 8 columns]"
            ]
          },
          "execution_count": 8,
          "metadata": {},
          "output_type": "execute_result"
        }
      ],
      "source": [
        "fixed_df"
      ]
    },
    {
      "cell_type": "code",
      "execution_count": null,
      "metadata": {
        "id": "2yxLqXyUlek9"
      },
      "outputs": [],
      "source": [
        "\"\"\"\n",
        "Replace all Columns from random values to Boolean.\n",
        "Have to change type of targeted at homelessness column as it is an int value\n",
        "\"\"\"\n",
        "fixed_df.replace({'direct_indirect': {'Direct' : True, 'Indirect' : False}}, inplace = True)\n",
        "fixed_df['targeted_at_homelessness'].astype(str)\n",
        "fixed_df.replace({'targeted_at_homelessness': {'No' : False, 'Yes': True}}, inplace = True)\n",
        "fixed_df.rename(columns = {'direct_indirect' : 'direct'}, inplace = True)\n",
        "    "
      ]
    },
    {
      "cell_type": "code",
      "execution_count": null,
      "metadata": {
        "colab": {
          "base_uri": "https://localhost:8080/",
          "height": 694
        },
        "id": "pGWYGPw6lelA",
        "outputId": "ea2e9477-acb4-4d7a-a833-19f1530d5e4b"
      },
      "outputs": [
        {
          "data": {
            "text/html": [
              "<div>\n",
              "<style scoped>\n",
              "    .dataframe tbody tr th:only-of-type {\n",
              "        vertical-align: middle;\n",
              "    }\n",
              "\n",
              "    .dataframe tbody tr th {\n",
              "        vertical-align: top;\n",
              "    }\n",
              "\n",
              "    .dataframe thead th {\n",
              "        text-align: right;\n",
              "    }\n",
              "</style>\n",
              "<table border=\"1\" class=\"dataframe\">\n",
              "  <thead>\n",
              "    <tr style=\"text-align: right;\">\n",
              "      <th></th>\n",
              "      <th>year_cy</th>\n",
              "      <th>type</th>\n",
              "      <th>implementing_department</th>\n",
              "      <th>action_category</th>\n",
              "      <th>direct</th>\n",
              "      <th>targeted_at_homelessness</th>\n",
              "      <th>actionable</th>\n",
              "      <th>status_of_the_recommendation_solution</th>\n",
              "    </tr>\n",
              "  </thead>\n",
              "  <tbody>\n",
              "    <tr>\n",
              "      <th>0</th>\n",
              "      <td>2011</td>\n",
              "      <td>OCA Audit</td>\n",
              "      <td>NHCD</td>\n",
              "      <td>Monitoring</td>\n",
              "      <td>False</td>\n",
              "      <td>False</td>\n",
              "      <td>Not actionable</td>\n",
              "      <td>Implemented: GO Bond Referendum</td>\n",
              "    </tr>\n",
              "    <tr>\n",
              "      <th>1</th>\n",
              "      <td>2011</td>\n",
              "      <td>OCA Audit</td>\n",
              "      <td>NHCD</td>\n",
              "      <td>Recommendations for process improvements</td>\n",
              "      <td>False</td>\n",
              "      <td>False</td>\n",
              "      <td>Not actionable</td>\n",
              "      <td>Implemented: GO Bond Referendum</td>\n",
              "    </tr>\n",
              "    <tr>\n",
              "      <th>2</th>\n",
              "      <td>2012</td>\n",
              "      <td>OCA Audit</td>\n",
              "      <td>Austin Energy</td>\n",
              "      <td>Financing</td>\n",
              "      <td>False</td>\n",
              "      <td>False</td>\n",
              "      <td>Not actionable</td>\n",
              "      <td>Implemented: GO Bond Referendum</td>\n",
              "    </tr>\n",
              "    <tr>\n",
              "      <th>3</th>\n",
              "      <td>2012</td>\n",
              "      <td>OCA Audit</td>\n",
              "      <td>Austin Energy</td>\n",
              "      <td>Financing</td>\n",
              "      <td>False</td>\n",
              "      <td>False</td>\n",
              "      <td>Not actionable</td>\n",
              "      <td>Implemented: GO Bond Referendum</td>\n",
              "    </tr>\n",
              "    <tr>\n",
              "      <th>4</th>\n",
              "      <td>2015</td>\n",
              "      <td>OCA Audit</td>\n",
              "      <td>Austin Energy</td>\n",
              "      <td>Financing</td>\n",
              "      <td>False</td>\n",
              "      <td>False</td>\n",
              "      <td>Not actionable</td>\n",
              "      <td>Implemented: GO Bond Referendum</td>\n",
              "    </tr>\n",
              "    <tr>\n",
              "      <th>...</th>\n",
              "      <td>...</td>\n",
              "      <td>...</td>\n",
              "      <td>...</td>\n",
              "      <td>...</td>\n",
              "      <td>...</td>\n",
              "      <td>...</td>\n",
              "      <td>...</td>\n",
              "      <td>...</td>\n",
              "    </tr>\n",
              "    <tr>\n",
              "      <th>536</th>\n",
              "      <td>2013</td>\n",
              "      <td>Council Resolution</td>\n",
              "      <td>City Manager</td>\n",
              "      <td>Preserving and expanding the supply of afforda...</td>\n",
              "      <td>True</td>\n",
              "      <td>False</td>\n",
              "      <td>Actionable</td>\n",
              "      <td>Implemented</td>\n",
              "    </tr>\n",
              "    <tr>\n",
              "      <th>537</th>\n",
              "      <td>2002</td>\n",
              "      <td>Task Force</td>\n",
              "      <td>Council</td>\n",
              "      <td>Recommendations for planning and approach</td>\n",
              "      <td>True</td>\n",
              "      <td>False</td>\n",
              "      <td>Actionable</td>\n",
              "      <td>Status unknown: commission and taskforce recom...</td>\n",
              "    </tr>\n",
              "    <tr>\n",
              "      <th>538</th>\n",
              "      <td>2004</td>\n",
              "      <td>Council Resolution</td>\n",
              "      <td>City Manager</td>\n",
              "      <td>Controlling land for community development</td>\n",
              "      <td>True</td>\n",
              "      <td>False</td>\n",
              "      <td>Actionable</td>\n",
              "      <td>Status unknown: according to CMO, item predate...</td>\n",
              "    </tr>\n",
              "    <tr>\n",
              "      <th>539</th>\n",
              "      <td>2016</td>\n",
              "      <td>Council Resolution</td>\n",
              "      <td>City Manager</td>\n",
              "      <td>Financing</td>\n",
              "      <td>True</td>\n",
              "      <td>False</td>\n",
              "      <td>Actionable</td>\n",
              "      <td>Implemented</td>\n",
              "    </tr>\n",
              "    <tr>\n",
              "      <th>540</th>\n",
              "      <td>2013</td>\n",
              "      <td>Commission Report</td>\n",
              "      <td>Council</td>\n",
              "      <td>Preserving and expanding the supply of afforda...</td>\n",
              "      <td>False</td>\n",
              "      <td>False</td>\n",
              "      <td>Actionable</td>\n",
              "      <td>Implemented</td>\n",
              "    </tr>\n",
              "  </tbody>\n",
              "</table>\n",
              "<p>541 rows × 8 columns</p>\n",
              "</div>"
            ],
            "text/plain": [
              "    year_cy  ...              status_of_the_recommendation_solution\n",
              "0      2011  ...                    Implemented: GO Bond Referendum\n",
              "1      2011  ...                    Implemented: GO Bond Referendum\n",
              "2      2012  ...                    Implemented: GO Bond Referendum\n",
              "3      2012  ...                    Implemented: GO Bond Referendum\n",
              "4      2015  ...                    Implemented: GO Bond Referendum\n",
              "..      ...  ...                                                ...\n",
              "536    2013  ...                                        Implemented\n",
              "537    2002  ...  Status unknown: commission and taskforce recom...\n",
              "538    2004  ...  Status unknown: according to CMO, item predate...\n",
              "539    2016  ...                                        Implemented\n",
              "540    2013  ...                                        Implemented\n",
              "\n",
              "[541 rows x 8 columns]"
            ]
          },
          "execution_count": 10,
          "metadata": {},
          "output_type": "execute_result"
        }
      ],
      "source": [
        "fixed_df"
      ]
    },
    {
      "cell_type": "markdown",
      "metadata": {
        "id": "moCBIpaklelC"
      },
      "source": [
        "## What Can we Determine based off the data?\n",
        "We could make a model that predicts whether an action will be targeted at homelessness or not, and whether it was direct, or indirect on the populous\n",
        "Does they implementing department make a difference on what type of action it becomes? How about on whether this is targeted at homelessness or not?"
      ]
    },
    {
      "cell_type": "code",
      "execution_count": null,
      "metadata": {
        "colab": {
          "base_uri": "https://localhost:8080/",
          "height": 173
        },
        "id": "3L6-m270lelW",
        "outputId": "ce6d059f-bd34-4c9d-8ba3-ba1c8bddfbc9"
      },
      "outputs": [
        {
          "data": {
            "text/html": [
              "<div>\n",
              "<style scoped>\n",
              "    .dataframe tbody tr th:only-of-type {\n",
              "        vertical-align: middle;\n",
              "    }\n",
              "\n",
              "    .dataframe tbody tr th {\n",
              "        vertical-align: top;\n",
              "    }\n",
              "\n",
              "    .dataframe thead th {\n",
              "        text-align: right;\n",
              "    }\n",
              "</style>\n",
              "<table border=\"1\" class=\"dataframe\">\n",
              "  <thead>\n",
              "    <tr style=\"text-align: right;\">\n",
              "      <th>direct</th>\n",
              "      <th>False</th>\n",
              "      <th>True</th>\n",
              "      <th>All</th>\n",
              "    </tr>\n",
              "    <tr>\n",
              "      <th>targeted_at_homelessness</th>\n",
              "      <th></th>\n",
              "      <th></th>\n",
              "      <th></th>\n",
              "    </tr>\n",
              "  </thead>\n",
              "  <tbody>\n",
              "    <tr>\n",
              "      <th>False</th>\n",
              "      <td>353</td>\n",
              "      <td>142</td>\n",
              "      <td>495</td>\n",
              "    </tr>\n",
              "    <tr>\n",
              "      <th>True</th>\n",
              "      <td>34</td>\n",
              "      <td>12</td>\n",
              "      <td>46</td>\n",
              "    </tr>\n",
              "    <tr>\n",
              "      <th>All</th>\n",
              "      <td>387</td>\n",
              "      <td>154</td>\n",
              "      <td>541</td>\n",
              "    </tr>\n",
              "  </tbody>\n",
              "</table>\n",
              "</div>"
            ],
            "text/plain": [
              "direct                    False  True  All\n",
              "targeted_at_homelessness                  \n",
              "False                       353   142  495\n",
              "True                         34    12   46\n",
              "All                         387   154  541"
            ]
          },
          "execution_count": 11,
          "metadata": {},
          "output_type": "execute_result"
        }
      ],
      "source": [
        "pd.crosstab(fixed_df['targeted_at_homelessness'], fixed_df['direct'], margins=True)"
      ]
    },
    {
      "cell_type": "markdown",
      "metadata": {
        "id": "ZKwUqBYFlelY"
      },
      "source": [
        "Data is heavily skewed to the false-side of the data. We should consider scaling or normalizing for better use."
      ]
    },
    {
      "cell_type": "code",
      "execution_count": null,
      "metadata": {
        "colab": {
          "base_uri": "https://localhost:8080/",
          "height": 142
        },
        "id": "8B-4x7Qylelb",
        "outputId": "fb405d67-85fc-4ca8-8e8c-2e20d0b4a61e"
      },
      "outputs": [
        {
          "data": {
            "text/html": [
              "<div>\n",
              "<style scoped>\n",
              "    .dataframe tbody tr th:only-of-type {\n",
              "        vertical-align: middle;\n",
              "    }\n",
              "\n",
              "    .dataframe tbody tr th {\n",
              "        vertical-align: top;\n",
              "    }\n",
              "\n",
              "    .dataframe thead th {\n",
              "        text-align: right;\n",
              "    }\n",
              "</style>\n",
              "<table border=\"1\" class=\"dataframe\">\n",
              "  <thead>\n",
              "    <tr style=\"text-align: right;\">\n",
              "      <th>direct</th>\n",
              "      <th>False</th>\n",
              "      <th>True</th>\n",
              "    </tr>\n",
              "    <tr>\n",
              "      <th>targeted_at_homelessness</th>\n",
              "      <th></th>\n",
              "      <th></th>\n",
              "    </tr>\n",
              "  </thead>\n",
              "  <tbody>\n",
              "    <tr>\n",
              "      <th>False</th>\n",
              "      <td>0.713131</td>\n",
              "      <td>0.286869</td>\n",
              "    </tr>\n",
              "    <tr>\n",
              "      <th>True</th>\n",
              "      <td>0.739130</td>\n",
              "      <td>0.260870</td>\n",
              "    </tr>\n",
              "  </tbody>\n",
              "</table>\n",
              "</div>"
            ],
            "text/plain": [
              "direct                       False     True \n",
              "targeted_at_homelessness                    \n",
              "False                     0.713131  0.286869\n",
              "True                      0.739130  0.260870"
            ]
          },
          "execution_count": 12,
          "metadata": {},
          "output_type": "execute_result"
        }
      ],
      "source": [
        "pd.crosstab(fixed_df['targeted_at_homelessness'], fixed_df['direct'], normalize='index')"
      ]
    },
    {
      "cell_type": "code",
      "execution_count": null,
      "metadata": {
        "colab": {
          "base_uri": "https://localhost:8080/"
        },
        "id": "viIvtxsgleld",
        "outputId": "ecbb12bf-6174-49fe-a921-c8388d8c5b9a"
      },
      "outputs": [
        {
          "name": "stdout",
          "output_type": "stream",
          "text": [
            "Probability of action being targeted(directly and indirectly) at homelessness : 8.502772643253234\n",
            "Probability of action being direct given that it is targeted at homelessness: 26.08695652173913\n"
          ]
        }
      ],
      "source": [
        "# Likelihood of an action being direct\n",
        "dir_action = 145/541\n",
        "\n",
        "#Likelihood of action being direct GIVEN it being targeted at homelessness\n",
        "tar_action = 12/46\n",
        "\n",
        "# Probability of being targeted at homelessness\n",
        "P_B = 46/541\n",
        "\n",
        "# Probability of being targeted at homelessness and the action being direct\n",
        "P_A_and_B = 12/541\n",
        "\n",
        "P_A_given_B = P_A_and_B / P_B\n",
        "print(\"Probability of action being targeted(directly and indirectly) at homelessness :\", P_B * 100)\n",
        "print(\"Probability of action being direct given that it is targeted at homelessness:\", P_A_given_B * 100)"
      ]
    },
    {
      "cell_type": "code",
      "execution_count": null,
      "metadata": {
        "colab": {
          "base_uri": "https://localhost:8080/"
        },
        "id": "eYG7f5folelg",
        "outputId": "7d496e0d-c52b-4315-c3b7-d1ebfe1a9c0e"
      },
      "outputs": [
        {
          "data": {
            "text/plain": [
              "year_cy                                  19\n",
              "type                                      5\n",
              "implementing_department                  19\n",
              "action_category                           8\n",
              "direct                                    2\n",
              "targeted_at_homelessness                  2\n",
              "actionable                                2\n",
              "status_of_the_recommendation_solution    43\n",
              "dtype: int64"
            ]
          },
          "execution_count": 14,
          "metadata": {},
          "output_type": "execute_result"
        }
      ],
      "source": [
        "fixed_df.nunique()"
      ]
    },
    {
      "cell_type": "markdown",
      "metadata": {
        "id": "CMvcYREklelh"
      },
      "source": [
        "Does the type of action that it is affect whether it is a direct or indirect action?"
      ]
    },
    {
      "cell_type": "code",
      "execution_count": null,
      "metadata": {
        "colab": {
          "base_uri": "https://localhost:8080/",
          "height": 266
        },
        "id": "pwjM_4xvlelj",
        "outputId": "3fca5e68-3e74-4dc2-c3f5-f5fddb2ee9bf"
      },
      "outputs": [
        {
          "data": {
            "text/html": [
              "<div>\n",
              "<style scoped>\n",
              "    .dataframe tbody tr th:only-of-type {\n",
              "        vertical-align: middle;\n",
              "    }\n",
              "\n",
              "    .dataframe tbody tr th {\n",
              "        vertical-align: top;\n",
              "    }\n",
              "\n",
              "    .dataframe thead th {\n",
              "        text-align: right;\n",
              "    }\n",
              "</style>\n",
              "<table border=\"1\" class=\"dataframe\">\n",
              "  <thead>\n",
              "    <tr style=\"text-align: right;\">\n",
              "      <th>direct</th>\n",
              "      <th>False</th>\n",
              "      <th>True</th>\n",
              "      <th>All</th>\n",
              "    </tr>\n",
              "    <tr>\n",
              "      <th>type</th>\n",
              "      <th></th>\n",
              "      <th></th>\n",
              "      <th></th>\n",
              "    </tr>\n",
              "  </thead>\n",
              "  <tbody>\n",
              "    <tr>\n",
              "      <th>Commission Report</th>\n",
              "      <td>55</td>\n",
              "      <td>22</td>\n",
              "      <td>77</td>\n",
              "    </tr>\n",
              "    <tr>\n",
              "      <th>Community Report</th>\n",
              "      <td>67</td>\n",
              "      <td>21</td>\n",
              "      <td>88</td>\n",
              "    </tr>\n",
              "    <tr>\n",
              "      <th>Council Resolution</th>\n",
              "      <td>129</td>\n",
              "      <td>93</td>\n",
              "      <td>222</td>\n",
              "    </tr>\n",
              "    <tr>\n",
              "      <th>OCA Audit</th>\n",
              "      <td>56</td>\n",
              "      <td>1</td>\n",
              "      <td>57</td>\n",
              "    </tr>\n",
              "    <tr>\n",
              "      <th>Task Force</th>\n",
              "      <td>80</td>\n",
              "      <td>17</td>\n",
              "      <td>97</td>\n",
              "    </tr>\n",
              "    <tr>\n",
              "      <th>All</th>\n",
              "      <td>387</td>\n",
              "      <td>154</td>\n",
              "      <td>541</td>\n",
              "    </tr>\n",
              "  </tbody>\n",
              "</table>\n",
              "</div>"
            ],
            "text/plain": [
              "direct              False  True  All\n",
              "type                                \n",
              "Commission Report      55    22   77\n",
              "Community Report       67    21   88\n",
              "Council Resolution    129    93  222\n",
              "OCA Audit              56     1   57\n",
              "Task Force             80    17   97\n",
              "All                   387   154  541"
            ]
          },
          "execution_count": 15,
          "metadata": {},
          "output_type": "execute_result"
        }
      ],
      "source": [
        "pd.crosstab(fixed_df['type'], fixed_df['direct'], margins=True)"
      ]
    },
    {
      "cell_type": "code",
      "execution_count": null,
      "metadata": {
        "colab": {
          "base_uri": "https://localhost:8080/",
          "height": 235
        },
        "id": "UrLDMfcslelk",
        "outputId": "1df238fb-31ef-4c99-d657-163351c3bbd1"
      },
      "outputs": [
        {
          "data": {
            "text/html": [
              "<div>\n",
              "<style scoped>\n",
              "    .dataframe tbody tr th:only-of-type {\n",
              "        vertical-align: middle;\n",
              "    }\n",
              "\n",
              "    .dataframe tbody tr th {\n",
              "        vertical-align: top;\n",
              "    }\n",
              "\n",
              "    .dataframe thead th {\n",
              "        text-align: right;\n",
              "    }\n",
              "</style>\n",
              "<table border=\"1\" class=\"dataframe\">\n",
              "  <thead>\n",
              "    <tr style=\"text-align: right;\">\n",
              "      <th>direct</th>\n",
              "      <th>False</th>\n",
              "      <th>True</th>\n",
              "    </tr>\n",
              "    <tr>\n",
              "      <th>type</th>\n",
              "      <th></th>\n",
              "      <th></th>\n",
              "    </tr>\n",
              "  </thead>\n",
              "  <tbody>\n",
              "    <tr>\n",
              "      <th>Commission Report</th>\n",
              "      <td>0.714286</td>\n",
              "      <td>0.285714</td>\n",
              "    </tr>\n",
              "    <tr>\n",
              "      <th>Community Report</th>\n",
              "      <td>0.761364</td>\n",
              "      <td>0.238636</td>\n",
              "    </tr>\n",
              "    <tr>\n",
              "      <th>Council Resolution</th>\n",
              "      <td>0.581081</td>\n",
              "      <td>0.418919</td>\n",
              "    </tr>\n",
              "    <tr>\n",
              "      <th>OCA Audit</th>\n",
              "      <td>0.982456</td>\n",
              "      <td>0.017544</td>\n",
              "    </tr>\n",
              "    <tr>\n",
              "      <th>Task Force</th>\n",
              "      <td>0.824742</td>\n",
              "      <td>0.175258</td>\n",
              "    </tr>\n",
              "  </tbody>\n",
              "</table>\n",
              "</div>"
            ],
            "text/plain": [
              "direct                 False     True \n",
              "type                                  \n",
              "Commission Report   0.714286  0.285714\n",
              "Community Report    0.761364  0.238636\n",
              "Council Resolution  0.581081  0.418919\n",
              "OCA Audit           0.982456  0.017544\n",
              "Task Force          0.824742  0.175258"
            ]
          },
          "execution_count": 16,
          "metadata": {},
          "output_type": "execute_result"
        }
      ],
      "source": [
        "pd.crosstab(fixed_df['type'], fixed_df['direct'], normalize= 'index')"
      ]
    },
    {
      "cell_type": "code",
      "execution_count": null,
      "metadata": {
        "colab": {
          "base_uri": "https://localhost:8080/",
          "height": 142
        },
        "id": "02M1R-Fxleln",
        "outputId": "3045c514-b587-459e-948e-8788f9f516e1"
      },
      "outputs": [
        {
          "data": {
            "text/html": [
              "<div>\n",
              "<style scoped>\n",
              "    .dataframe tbody tr th:only-of-type {\n",
              "        vertical-align: middle;\n",
              "    }\n",
              "\n",
              "    .dataframe tbody tr th {\n",
              "        vertical-align: top;\n",
              "    }\n",
              "\n",
              "    .dataframe thead th {\n",
              "        text-align: right;\n",
              "    }\n",
              "</style>\n",
              "<table border=\"1\" class=\"dataframe\">\n",
              "  <thead>\n",
              "    <tr style=\"text-align: right;\">\n",
              "      <th>direct</th>\n",
              "      <th>False</th>\n",
              "      <th>True</th>\n",
              "    </tr>\n",
              "    <tr>\n",
              "      <th>targeted_at_homelessness</th>\n",
              "      <th></th>\n",
              "      <th></th>\n",
              "    </tr>\n",
              "  </thead>\n",
              "  <tbody>\n",
              "    <tr>\n",
              "      <th>False</th>\n",
              "      <td>71.313131</td>\n",
              "      <td>28.686869</td>\n",
              "    </tr>\n",
              "    <tr>\n",
              "      <th>True</th>\n",
              "      <td>73.913043</td>\n",
              "      <td>26.086957</td>\n",
              "    </tr>\n",
              "  </tbody>\n",
              "</table>\n",
              "</div>"
            ],
            "text/plain": [
              "direct                        False      True \n",
              "targeted_at_homelessness                      \n",
              "False                     71.313131  28.686869\n",
              "True                      73.913043  26.086957"
            ]
          },
          "execution_count": 17,
          "metadata": {},
          "output_type": "execute_result"
        }
      ],
      "source": [
        "# What do the percentages look like?\n",
        "pd.crosstab(fixed_df['targeted_at_homelessness'], fixed_df['direct'], normalize='index') * 100"
      ]
    },
    {
      "cell_type": "markdown",
      "metadata": {
        "id": "rpf7H-l_lelp"
      },
      "source": [
        "We may want to consider doing subsampling of the data to provide a better distribution. This data is focused highly on the false"
      ]
    },
    {
      "cell_type": "markdown",
      "metadata": {
        "id": "uV6-Zsn-oc0C"
      },
      "source": [
        "#Data Visualization"
      ]
    },
    {
      "cell_type": "code",
      "execution_count": null,
      "metadata": {
        "id": "Znq0lT95lemC"
      },
      "outputs": [],
      "source": [
        "import matplotlib.pyplot as plt\n",
        "import seaborn as sns"
      ]
    },
    {
      "cell_type": "code",
      "execution_count": null,
      "metadata": {
        "colab": {
          "base_uri": "https://localhost:8080/",
          "height": 409
        },
        "id": "c4TsNC-zos5H",
        "outputId": "fdb7ec71-3135-4b40-b0b2-4c67635030a1"
      },
      "outputs": [
        {
          "data": {
            "image/png": "[encoded data removed]",
            "text/plain": [
              "<Figure size 864x432 with 1 Axes>"
            ]
          },
          "metadata": {
            "needs_background": "light"
          },
          "output_type": "display_data"
        }
      ],
      "source": [
        "plt.figure(figsize=(12,6))\n",
        "sns.countplot(x=fixed_df['year_cy'],hue=fixed_df['targeted_at_homelessness'])\n",
        "plt.title('Targeted at Homelessness in Years',fontsize=20)\n",
        "plt.show()"
      ]
    },
    {
      "cell_type": "code",
      "execution_count": null,
      "metadata": {
        "colab": {
          "base_uri": "https://localhost:8080/",
          "height": 388
        },
        "id": "mdXduf_DpvFj",
        "outputId": "ef6929e3-c525-4c99-9564-18d67a87d1c7"
      },
      "outputs": [
        {
          "data": {
            "image/png": "[encoded data removed]",
            "text/plain": [
              "<Figure size 864x432 with 1 Axes>"
            ]
          },
          "metadata": {
            "needs_background": "light"
          },
          "output_type": "display_data"
        }
      ],
      "source": [
        "plt.figure(figsize=(12,6))\n",
        "sns.countplot(x=fixed_df['year_cy'],hue=fixed_df['type'])\n",
        "plt.show()"
      ]
    },
    {
      "cell_type": "code",
      "execution_count": null,
      "metadata": {
        "colab": {
          "base_uri": "https://localhost:8080/",
          "height": 389
        },
        "id": "3j0VNUGmr4Lv",
        "outputId": "23ae6edc-bacb-471a-a733-6f41aa26fe82"
      },
      "outputs": [
        {
          "data": {
            "image/png": "[encoded data removed]",
            "text/plain": [
              "<Figure size 864x432 with 1 Axes>"
            ]
          },
          "metadata": {
            "needs_background": "light"
          },
          "output_type": "display_data"
        }
      ],
      "source": [
        "plt.figure(figsize=(12,6))\n",
        "sns.countplot(x=fixed_df['targeted_at_homelessness'],hue=fixed_df['actionable'])\n",
        "plt.show()"
      ]
    },
    {
      "cell_type": "code",
      "execution_count": null,
      "metadata": {
        "colab": {
          "base_uri": "https://localhost:8080/",
          "height": 441
        },
        "id": "q2NSmUavx0Q4",
        "outputId": "a789f4c0-e001-4606-deb7-56f286dd5018"
      },
      "outputs": [
        {
          "data": {
            "image/png": "[encoded data removed]",
            "text/plain": [
              "<Figure size 864x432 with 1 Axes>"
            ]
          },
          "metadata": {},
          "output_type": "display_data"
        }
      ],
      "source": [
        "d1=fixed_df['action_category'].value_counts()\n",
        "plt.figure(figsize=(12,6))\n",
        "plt.pie(d1.values,labels=d1.index,autopct='%0.2f%%')\n",
        "plt.title('Pecentage of Action Category',fontsize=15)\n",
        "\n",
        "plt.tight_layout()\n",
        "plt.show()"
      ]
    },
    {
      "cell_type": "code",
      "execution_count": null,
      "metadata": {
        "colab": {
          "base_uri": "https://localhost:8080/",
          "height": 441
        },
        "id": "Zhlw33Cs2h8n",
        "outputId": "b4ac30ba-b615-4036-ab28-412fe8e4668a"
      },
      "outputs": [
        {
          "data": {
            "image/png": "[encoded data removed]",
            "text/plain": [
              "<Figure size 864x432 with 1 Axes>"
            ]
          },
          "metadata": {},
          "output_type": "display_data"
        }
      ],
      "source": [
        "d1=fixed_df['type'].value_counts()\n",
        "plt.figure(figsize=(12,6))\n",
        "plt.pie(d1.values,labels=d1.index,autopct='%0.2f%%')\n",
        "plt.title('Pecentage of Types',fontsize=15)\n",
        "\n",
        "plt.tight_layout()\n",
        "plt.show()"
      ]
    },
    {
      "cell_type": "code",
      "execution_count": null,
      "metadata": {
        "colab": {
          "base_uri": "https://localhost:8080/",
          "height": 409
        },
        "id": "tK5sT7_44AlX",
        "outputId": "84077a81-8dd4-47b6-8497-124527f1ec23"
      },
      "outputs": [
        {
          "data": {
            "image/png": "[encoded data removed]",
            "text/plain": [
              "<Figure size 864x432 with 1 Axes>"
            ]
          },
          "metadata": {
            "needs_background": "light"
          },
          "output_type": "display_data"
        }
      ],
      "source": [
        "plt.figure(figsize=(12,6))\n",
        "sns.countplot(x=fixed_df['type'],hue=fixed_df['direct'])\n",
        "plt.title('Direct/ Indirect in Different Types',fontsize=20)\n",
        "plt.show()"
      ]
    },
    {
      "cell_type": "code",
      "execution_count": null,
      "metadata": {
        "id": "BA2_WOeH4p6u"
      },
      "outputs": [],
      "source": []
    }
  ],
  "metadata": {
    "accelerator": "GPU",
    "colab": {
      "collapsed_sections": [],
      "name": "displacement_and_gentrification_notebook_Visualizations.ipynb",
      "provenance": []
    },
    "interpreter": {
      "hash": "17cb72846b162d197ee6b195e68a5b6c13f64f8d3b34cab2bc714a825ebdf043"
    },
    "kernelspec": {
      "display_name": "Python 3.9.5 64-bit",
      "name": "python3"
    },
    "language_info": {
      "codemirror_mode": {
        "name": "ipython",
        "version": 3
      },
      "file_extension": ".py",
      "mimetype": "text/x-python",
      "name": "python",
      "nbconvert_exporter": "python",
      "pygments_lexer": "ipython3",
      "version": "3.9.5"
    }
  },
  "nbformat": 4,
  "nbformat_minor": 0
}
