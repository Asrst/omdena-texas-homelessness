{
  "nbformat": 4,
  "nbformat_minor": 0,
  "metadata": {
    "colab": {
      "name": "Dataset4_Omdena.ipynb",
      "provenance": []
    },
    "kernelspec": {
      "name": "python3",
      "display_name": "Python 3"
    },
    "language_info": {
      "name": "python"
    }
  },
  "cells": [
    {
      "cell_type": "code",
      "metadata": {
        "id": "ZjzculfiSiob"
      },
      "source": [
        "import pandas as pd\n",
        "import numpy as np\n",
        "import matplotlib.pyplot as plt\n",
        "import seaborn as sns\n",
        "%matplotlib inline"
      ],
      "execution_count": 3,
      "outputs": []
    },
    {
      "cell_type": "code",
      "metadata": {
        "colab": {
          "base_uri": "https://localhost:8080/",
          "height": 203
        },
        "id": "a-c6y9yASxZv",
        "outputId": "7fe6360c-200d-478b-e706-d2aabe62cd8b"
      },
      "source": [
        "df = pd.read_csv(\"2007-2016-homeless-texas.csv\")\n",
        "df.head()"
      ],
      "execution_count": 4,
      "outputs": [
        {
          "output_type": "execute_result",
          "data": {
            "text/html": [
              "<div>\n",
              "<style scoped>\n",
              "    .dataframe tbody tr th:only-of-type {\n",
              "        vertical-align: middle;\n",
              "    }\n",
              "\n",
              "    .dataframe tbody tr th {\n",
              "        vertical-align: top;\n",
              "    }\n",
              "\n",
              "    .dataframe thead th {\n",
              "        text-align: right;\n",
              "    }\n",
              "</style>\n",
              "<table border=\"1\" class=\"dataframe\">\n",
              "  <thead>\n",
              "    <tr style=\"text-align: right;\">\n",
              "      <th></th>\n",
              "      <th>Year</th>\n",
              "      <th>State</th>\n",
              "      <th>CoC Number</th>\n",
              "      <th>CoC Name</th>\n",
              "      <th>Measures</th>\n",
              "      <th>Count</th>\n",
              "    </tr>\n",
              "  </thead>\n",
              "  <tbody>\n",
              "    <tr>\n",
              "      <th>0</th>\n",
              "      <td>1/1/2007</td>\n",
              "      <td>TX</td>\n",
              "      <td>TX-500</td>\n",
              "      <td>San Antonio/Bexar County CoC</td>\n",
              "      <td>Chronically Homeless Individuals</td>\n",
              "      <td>218</td>\n",
              "    </tr>\n",
              "    <tr>\n",
              "      <th>1</th>\n",
              "      <td>1/1/2007</td>\n",
              "      <td>TX</td>\n",
              "      <td>TX-500</td>\n",
              "      <td>San Antonio/Bexar County CoC</td>\n",
              "      <td>Homeless Individuals</td>\n",
              "      <td>1,375</td>\n",
              "    </tr>\n",
              "    <tr>\n",
              "      <th>2</th>\n",
              "      <td>1/1/2007</td>\n",
              "      <td>TX</td>\n",
              "      <td>TX-500</td>\n",
              "      <td>San Antonio/Bexar County CoC</td>\n",
              "      <td>Homeless People in Families</td>\n",
              "      <td>872</td>\n",
              "    </tr>\n",
              "    <tr>\n",
              "      <th>3</th>\n",
              "      <td>1/1/2007</td>\n",
              "      <td>TX</td>\n",
              "      <td>TX-500</td>\n",
              "      <td>San Antonio/Bexar County CoC</td>\n",
              "      <td>Sheltered Chronically Homeless Individuals</td>\n",
              "      <td>96</td>\n",
              "    </tr>\n",
              "    <tr>\n",
              "      <th>4</th>\n",
              "      <td>1/1/2007</td>\n",
              "      <td>TX</td>\n",
              "      <td>TX-500</td>\n",
              "      <td>San Antonio/Bexar County CoC</td>\n",
              "      <td>Sheltered Homeless</td>\n",
              "      <td>1,798</td>\n",
              "    </tr>\n",
              "  </tbody>\n",
              "</table>\n",
              "</div>"
            ],
            "text/plain": [
              "       Year State  ...                                    Measures  Count\n",
              "0  1/1/2007    TX  ...            Chronically Homeless Individuals    218\n",
              "1  1/1/2007    TX  ...                        Homeless Individuals  1,375\n",
              "2  1/1/2007    TX  ...                 Homeless People in Families    872\n",
              "3  1/1/2007    TX  ...  Sheltered Chronically Homeless Individuals     96\n",
              "4  1/1/2007    TX  ...                          Sheltered Homeless  1,798\n",
              "\n",
              "[5 rows x 6 columns]"
            ]
          },
          "metadata": {},
          "execution_count": 4
        }
      ]
    },
    {
      "cell_type": "markdown",
      "metadata": {
        "id": "5SY4WAZMTfor"
      },
      "source": [
        "### Checking for Null values"
      ]
    },
    {
      "cell_type": "code",
      "metadata": {
        "colab": {
          "base_uri": "https://localhost:8080/"
        },
        "id": "VFvB2GFoS6A6",
        "outputId": "b49a3b27-5b99-4986-f230-555d861bd6b0"
      },
      "source": [
        "df.isnull().sum()"
      ],
      "execution_count": 5,
      "outputs": [
        {
          "output_type": "execute_result",
          "data": {
            "text/plain": [
              "Year          0\n",
              "State         0\n",
              "CoC Number    0\n",
              "CoC Name      0\n",
              "Measures      0\n",
              "Count         0\n",
              "dtype: int64"
            ]
          },
          "metadata": {},
          "execution_count": 5
        }
      ]
    },
    {
      "cell_type": "markdown",
      "metadata": {
        "id": "hrjSehwCTiKM"
      },
      "source": [
        "No null values found."
      ]
    },
    {
      "cell_type": "code",
      "metadata": {
        "colab": {
          "base_uri": "https://localhost:8080/"
        },
        "id": "R7FHEN-UTdfC",
        "outputId": "3d71efee-fc39-416b-e877-3e4f4495c23a"
      },
      "source": [
        "df.info()"
      ],
      "execution_count": 6,
      "outputs": [
        {
          "output_type": "stream",
          "name": "stdout",
          "text": [
            "<class 'pandas.core.frame.DataFrame'>\n",
            "RangeIndex: 2244 entries, 0 to 2243\n",
            "Data columns (total 6 columns):\n",
            " #   Column      Non-Null Count  Dtype \n",
            "---  ------      --------------  ----- \n",
            " 0   Year        2244 non-null   object\n",
            " 1   State       2244 non-null   object\n",
            " 2   CoC Number  2244 non-null   object\n",
            " 3   CoC Name    2244 non-null   object\n",
            " 4   Measures    2244 non-null   object\n",
            " 5   Count       2244 non-null   object\n",
            "dtypes: object(6)\n",
            "memory usage: 105.3+ KB\n"
          ]
        }
      ]
    },
    {
      "cell_type": "markdown",
      "metadata": {
        "id": "JsaVe_C0avDz"
      },
      "source": [
        "# Preprocessing and Univariate Anaysis"
      ]
    },
    {
      "cell_type": "markdown",
      "metadata": {
        "id": "7-zPzfauaNQR"
      },
      "source": [
        "## Year"
      ]
    },
    {
      "cell_type": "code",
      "metadata": {
        "colab": {
          "base_uri": "https://localhost:8080/"
        },
        "id": "xpN4lmfFUTjJ",
        "outputId": "00f6fbdf-52c2-4e7f-d1bd-82206c50dc6e"
      },
      "source": [
        "df['Year'].value_counts()"
      ],
      "execution_count": 7,
      "outputs": [
        {
          "output_type": "execute_result",
          "data": {
            "text/plain": [
              "1/1/2015    462\n",
              "1/1/2016    462\n",
              "1/1/2012    231\n",
              "1/1/2011    231\n",
              "1/1/2014    231\n",
              "1/1/2013    231\n",
              "1/1/2008    132\n",
              "1/1/2009    132\n",
              "1/1/2007    132\n",
              "Name: Year, dtype: int64"
            ]
          },
          "metadata": {},
          "execution_count": 7
        }
      ]
    },
    {
      "cell_type": "markdown",
      "metadata": {
        "id": "ghkhOP_UaBA2"
      },
      "source": [
        "Since it's just the year, we can remove the day and month part of the string."
      ]
    },
    {
      "cell_type": "code",
      "metadata": {
        "id": "GzHN65YKZ0b5"
      },
      "source": [
        "df['Year'] = pd.to_datetime(df['Year'])"
      ],
      "execution_count": 8,
      "outputs": []
    },
    {
      "cell_type": "code",
      "metadata": {
        "id": "o3gFrvPiaTZi"
      },
      "source": [
        "df['Year'] = df['Year'].apply(lambda x : x.year)"
      ],
      "execution_count": 9,
      "outputs": []
    },
    {
      "cell_type": "code",
      "metadata": {
        "colab": {
          "base_uri": "https://localhost:8080/",
          "height": 203
        },
        "id": "iyeGCqHqa14z",
        "outputId": "8bac49a0-ffd7-4a26-c441-21e56ce4bb6c"
      },
      "source": [
        "df.head()"
      ],
      "execution_count": 10,
      "outputs": [
        {
          "output_type": "execute_result",
          "data": {
            "text/html": [
              "<div>\n",
              "<style scoped>\n",
              "    .dataframe tbody tr th:only-of-type {\n",
              "        vertical-align: middle;\n",
              "    }\n",
              "\n",
              "    .dataframe tbody tr th {\n",
              "        vertical-align: top;\n",
              "    }\n",
              "\n",
              "    .dataframe thead th {\n",
              "        text-align: right;\n",
              "    }\n",
              "</style>\n",
              "<table border=\"1\" class=\"dataframe\">\n",
              "  <thead>\n",
              "    <tr style=\"text-align: right;\">\n",
              "      <th></th>\n",
              "      <th>Year</th>\n",
              "      <th>State</th>\n",
              "      <th>CoC Number</th>\n",
              "      <th>CoC Name</th>\n",
              "      <th>Measures</th>\n",
              "      <th>Count</th>\n",
              "    </tr>\n",
              "  </thead>\n",
              "  <tbody>\n",
              "    <tr>\n",
              "      <th>0</th>\n",
              "      <td>2007</td>\n",
              "      <td>TX</td>\n",
              "      <td>TX-500</td>\n",
              "      <td>San Antonio/Bexar County CoC</td>\n",
              "      <td>Chronically Homeless Individuals</td>\n",
              "      <td>218</td>\n",
              "    </tr>\n",
              "    <tr>\n",
              "      <th>1</th>\n",
              "      <td>2007</td>\n",
              "      <td>TX</td>\n",
              "      <td>TX-500</td>\n",
              "      <td>San Antonio/Bexar County CoC</td>\n",
              "      <td>Homeless Individuals</td>\n",
              "      <td>1,375</td>\n",
              "    </tr>\n",
              "    <tr>\n",
              "      <th>2</th>\n",
              "      <td>2007</td>\n",
              "      <td>TX</td>\n",
              "      <td>TX-500</td>\n",
              "      <td>San Antonio/Bexar County CoC</td>\n",
              "      <td>Homeless People in Families</td>\n",
              "      <td>872</td>\n",
              "    </tr>\n",
              "    <tr>\n",
              "      <th>3</th>\n",
              "      <td>2007</td>\n",
              "      <td>TX</td>\n",
              "      <td>TX-500</td>\n",
              "      <td>San Antonio/Bexar County CoC</td>\n",
              "      <td>Sheltered Chronically Homeless Individuals</td>\n",
              "      <td>96</td>\n",
              "    </tr>\n",
              "    <tr>\n",
              "      <th>4</th>\n",
              "      <td>2007</td>\n",
              "      <td>TX</td>\n",
              "      <td>TX-500</td>\n",
              "      <td>San Antonio/Bexar County CoC</td>\n",
              "      <td>Sheltered Homeless</td>\n",
              "      <td>1,798</td>\n",
              "    </tr>\n",
              "  </tbody>\n",
              "</table>\n",
              "</div>"
            ],
            "text/plain": [
              "   Year State  ...                                    Measures  Count\n",
              "0  2007    TX  ...            Chronically Homeless Individuals    218\n",
              "1  2007    TX  ...                        Homeless Individuals  1,375\n",
              "2  2007    TX  ...                 Homeless People in Families    872\n",
              "3  2007    TX  ...  Sheltered Chronically Homeless Individuals     96\n",
              "4  2007    TX  ...                          Sheltered Homeless  1,798\n",
              "\n",
              "[5 rows x 6 columns]"
            ]
          },
          "metadata": {},
          "execution_count": 10
        }
      ]
    },
    {
      "cell_type": "code",
      "metadata": {
        "colab": {
          "base_uri": "https://localhost:8080/",
          "height": 585
        },
        "id": "kmby73Jmc2NH",
        "outputId": "1f0573ef-f23b-4b7e-aacc-eece6fcec248"
      },
      "source": [
        "plt.figure(figsize=(12,9))\n",
        "total=float(len(df['Year']))\n",
        "ax = sns.countplot(x='Year', data=df)\n",
        "\n",
        "for p in ax.patches:\n",
        "  height = p.get_height()\n",
        "  ax.text(p.get_x() + p.get_width()/2.,\n",
        "          height + 3,\n",
        "          '{:1.2f}'.format((height/total)*100),\n",
        "          ha='center')\n",
        "plt.title('Count of Years')"
      ],
      "execution_count": 11,
      "outputs": [
        {
          "output_type": "execute_result",
          "data": {
            "text/plain": [
              "Text(0.5, 1.0, 'Count of Years')"
            ]
          },
          "metadata": {},
          "execution_count": 11
        },
        {
          "output_type": "display_data",
          "data": {
            "image/png": "[encoded data removed]",
            "text/plain": [
              "<Figure size 864x648 with 1 Axes>"
            ]
          },
          "metadata": {
            "needs_background": "light"
          }
        }
      ]
    },
    {
      "cell_type": "markdown",
      "metadata": {
        "id": "Upy0pbHJayJb"
      },
      "source": [
        "## State"
      ]
    },
    {
      "cell_type": "code",
      "metadata": {
        "colab": {
          "base_uri": "https://localhost:8080/"
        },
        "id": "1HnbF4EGan6J",
        "outputId": "b2e0c945-582c-4963-8bec-08a3b3174dac"
      },
      "source": [
        "df['State'].value_counts()"
      ],
      "execution_count": 12,
      "outputs": [
        {
          "output_type": "execute_result",
          "data": {
            "text/plain": [
              "TX    2244\n",
              "Name: State, dtype: int64"
            ]
          },
          "metadata": {},
          "execution_count": 12
        }
      ]
    },
    {
      "cell_type": "markdown",
      "metadata": {
        "id": "_XDSX2RWbJ5F"
      },
      "source": [
        "This feature seems redundant as there is only one value, TX for all the entries."
      ]
    },
    {
      "cell_type": "markdown",
      "metadata": {
        "id": "LcgvSGCVbSwf"
      },
      "source": [
        "### We can drop the State feature"
      ]
    },
    {
      "cell_type": "markdown",
      "metadata": {
        "id": "WV3rQvt0bWpp"
      },
      "source": [
        "## CoC Number"
      ]
    },
    {
      "cell_type": "code",
      "metadata": {
        "colab": {
          "base_uri": "https://localhost:8080/"
        },
        "id": "taElIN-9a4q3",
        "outputId": "6ed54a8d-661d-4597-83f3-7dc25c43810b"
      },
      "source": [
        "df['CoC Number'].value_counts()"
      ],
      "execution_count": 13,
      "outputs": [
        {
          "output_type": "execute_result",
          "data": {
            "text/plain": [
              "TX-624    204\n",
              "TX-500    204\n",
              "TX-611    204\n",
              "TX-601    204\n",
              "TX-607    204\n",
              "TX-701    204\n",
              "TX-604    204\n",
              "TX-503    204\n",
              "TX-600    204\n",
              "TX-700    204\n",
              "TX-603    204\n",
              "Name: CoC Number, dtype: int64"
            ]
          },
          "metadata": {},
          "execution_count": 13
        }
      ]
    },
    {
      "cell_type": "markdown",
      "metadata": {
        "id": "aN-U-hUQcWyl"
      },
      "source": [
        "We have a uniform distribution between all the 11 unique values.\n",
        "\n",
        "Since there is no order or ranking in the categorical variables, One Hot Encoding should be preferred."
      ]
    },
    {
      "cell_type": "code",
      "metadata": {
        "colab": {
          "base_uri": "https://localhost:8080/",
          "height": 585
        },
        "id": "iaMqMPh8cuMg",
        "outputId": "c21f538c-f768-42ca-8913-4044ebc455e1"
      },
      "source": [
        "plt.figure(figsize=(12,9))\n",
        "total=float(len(df['Year']))\n",
        "ax = sns.countplot(x='CoC Number', data=df)\n",
        "\n",
        "for p in ax.patches:\n",
        "  height = p.get_height()\n",
        "  ax.text(p.get_x() + p.get_width()/2.,\n",
        "          height + 3,\n",
        "          '{:1.2f}'.format((height/total)*100),\n",
        "          ha='center')\n",
        "plt.title('Count of CoC Number')"
      ],
      "execution_count": 14,
      "outputs": [
        {
          "output_type": "execute_result",
          "data": {
            "text/plain": [
              "Text(0.5, 1.0, 'Count of CoC Number')"
            ]
          },
          "metadata": {},
          "execution_count": 14
        },
        {
          "output_type": "display_data",
          "data": {
            "image/png": "[encoded data removed]",
            "text/plain": [
              "<Figure size 864x648 with 1 Axes>"
            ]
          },
          "metadata": {
            "needs_background": "light"
          }
        }
      ]
    },
    {
      "cell_type": "markdown",
      "metadata": {
        "id": "o7-lJfrEhnZH"
      },
      "source": [
        "## CoC Name"
      ]
    },
    {
      "cell_type": "code",
      "metadata": {
        "colab": {
          "base_uri": "https://localhost:8080/"
        },
        "id": "FasR5_ZkhkXe",
        "outputId": "d8fe7afe-42ba-4e4c-b553-f58d0d0dae36"
      },
      "source": [
        "df['CoC Name'].value_counts()"
      ],
      "execution_count": 15,
      "outputs": [
        {
          "output_type": "execute_result",
          "data": {
            "text/plain": [
              "Dallas City & County/Irving CoC                                         204\n",
              "Houston, Pasadena, Conroe/Harris, Ft. Bend, Montgomery, Counties CoC    204\n",
              "Amarillo CoC                                                            204\n",
              "El Paso City & County CoC                                               204\n",
              "Wichita Falls/Wise, Palo Pinto, Wichita, Archer Counties CoC            204\n",
              "San Antonio/Bexar County CoC                                            204\n",
              "Waco/McLennan County CoC                                                204\n",
              "Bryan/College Station/Brazos Valley CoC                                 204\n",
              "Austin/Travis County CoC                                                204\n",
              "Texas Balance of State (BoS) CoC                                        204\n",
              "Fort Worth/Arlington/Tarrant County CoC                                 204\n",
              "Name: CoC Name, dtype: int64"
            ]
          },
          "metadata": {},
          "execution_count": 15
        }
      ]
    },
    {
      "cell_type": "markdown",
      "metadata": {
        "id": "O69mGBQVhzmw"
      },
      "source": [
        "### CoC Number and CoC Name are giving us the exactly same information. Using both the features in our model would be highly redundant. Hence, either one of them should be dropped."
      ]
    },
    {
      "cell_type": "markdown",
      "metadata": {
        "id": "Dxqh-c_5iCLh"
      },
      "source": [
        "## Measures"
      ]
    },
    {
      "cell_type": "code",
      "metadata": {
        "colab": {
          "base_uri": "https://localhost:8080/"
        },
        "id": "hbeZDqBehxwd",
        "outputId": "10677185-7df7-4b7c-e2f1-a98a78133c49"
      },
      "source": [
        "df['Measures'].value_counts()"
      ],
      "execution_count": 16,
      "outputs": [
        {
          "output_type": "execute_result",
          "data": {
            "text/plain": [
              "Chronically Homeless Individuals                               99\n",
              "Homeless People in Families                                    99\n",
              "Homeless Individuals                                           99\n",
              "Unsheltered Chronically Homeless Individuals                   99\n",
              "Unsheltered Homeless                                           99\n",
              "Sheltered Chronically Homeless Individuals                     99\n",
              "Sheltered Homeless                                             99\n",
              "Sheltered Homeless People in Families                          99\n",
              "Unsheltered Homeless People in Families                        99\n",
              "Sheltered Homeless Individuals                                 99\n",
              "Total Homeless                                                 99\n",
              "Unsheltered Homeless Individuals                               99\n",
              "Homeless Veterans                                              66\n",
              "Unsheltered Homeless Veterans                                  66\n",
              "Chronically Homeless                                           66\n",
              "Unsheltered Chronically Homeless                               66\n",
              "Sheltered Chronically Homeless People in Families              66\n",
              "Chronically Homeless People in Families                        66\n",
              "Unsheltered Chronically Homeless People in Families            66\n",
              "Sheltered Homeless Veterans                                    66\n",
              "Sheltered Chronically Homeless                                 66\n",
              "Parenting Youth (Under 25)                                     22\n",
              "Children of Parenting Youth                                    22\n",
              "Unsheltered Homeless Unaccompanied Youth (Under 25)            22\n",
              "Sheltered Parenting Youth (Under 25)                           22\n",
              "Sheltered Parenting Youth Age 18-24                            22\n",
              "Unsheltered Parenting Youth Age 18-24                          22\n",
              "Unsheltered Parenting Youth (Under 25)                         22\n",
              "Parenting Youth Age 18-24                                      22\n",
              "Unsheltered Parenting Youth Under 18                           22\n",
              "Unsheltered Homeless Unaccompanied Young Adults (Age 18-24)    22\n",
              "Unsheltered Children of Parenting Youth                        22\n",
              "Sheltered Homeless Unaccompanied Children (Under 18)           22\n",
              "Homeless Unaccompanied Youth (Under 25)                        22\n",
              "Parenting Youth Under 18                                       22\n",
              "Homeless Unaccompanied Young Adults (Age 18-24)                22\n",
              "Unsheltered Homeless Unaccompanied Children (Under 18)         22\n",
              "Homeless Unaccompanied Children (Under 18)                     22\n",
              "Sheltered Homeless Unaccompanied Young Adults (Age 18-24)      22\n",
              "Sheltered Parenting Youth Under 18                             22\n",
              "Sheltered Children of Parenting Youth                          22\n",
              "Sheltered Homeless Unaccompanied Youth (Under 25)              22\n",
              "Name: Measures, dtype: int64"
            ]
          },
          "metadata": {},
          "execution_count": 16
        }
      ]
    },
    {
      "cell_type": "markdown",
      "metadata": {
        "id": "r5QRzVMHoz1s"
      },
      "source": [
        "There are way too many unique values for this particular feature. We should proceed by merging the values into 4-5 main buckets.\n",
        "\n",
        "\n",
        "\n",
        "1.   Sheltered Homeless\n",
        "2.   Unsheltered Homeless\n",
        "3.   Parenting Youth\n",
        "\n",
        "\n",
        "\n"
      ]
    },
    {
      "cell_type": "code",
      "metadata": {
        "id": "FIh6nC-ciIDM"
      },
      "source": [
        "def modify_measures(x):\n",
        "  if \"Sheltered Homeless\" in x:\n",
        "    return \"Sheltered Homeless\"\n",
        "  elif \"Unsheltered Homeless\" in x:\n",
        "    return \"Unsheltered Homeless\"\n",
        "  elif \"Parenting Youth\" in x:\n",
        "    return \"Parenting Youth\"\n",
        "  elif \"Homeless Individuals\" or \"Homeless People\":\n",
        "    return \"Unsheltered Homeless\"\n",
        "  else:\n",
        "    return \"Others\""
      ],
      "execution_count": 30,
      "outputs": []
    },
    {
      "cell_type": "code",
      "metadata": {
        "id": "4C8f8imhpp-y"
      },
      "source": [
        "df['Measures_Modified'] = df['Measures'].apply(lambda x : modify_measures(x))"
      ],
      "execution_count": 31,
      "outputs": []
    },
    {
      "cell_type": "code",
      "metadata": {
        "colab": {
          "base_uri": "https://localhost:8080/",
          "height": 203
        },
        "id": "KAY362YuryTX",
        "outputId": "b563a144-b776-4c19-e2c5-4d3b8279950d"
      },
      "source": [
        "df.head()"
      ],
      "execution_count": 32,
      "outputs": [
        {
          "output_type": "execute_result",
          "data": {
            "text/html": [
              "<div>\n",
              "<style scoped>\n",
              "    .dataframe tbody tr th:only-of-type {\n",
              "        vertical-align: middle;\n",
              "    }\n",
              "\n",
              "    .dataframe tbody tr th {\n",
              "        vertical-align: top;\n",
              "    }\n",
              "\n",
              "    .dataframe thead th {\n",
              "        text-align: right;\n",
              "    }\n",
              "</style>\n",
              "<table border=\"1\" class=\"dataframe\">\n",
              "  <thead>\n",
              "    <tr style=\"text-align: right;\">\n",
              "      <th></th>\n",
              "      <th>Year</th>\n",
              "      <th>State</th>\n",
              "      <th>CoC Number</th>\n",
              "      <th>CoC Name</th>\n",
              "      <th>Measures</th>\n",
              "      <th>Count</th>\n",
              "      <th>Measures_Modified</th>\n",
              "    </tr>\n",
              "  </thead>\n",
              "  <tbody>\n",
              "    <tr>\n",
              "      <th>0</th>\n",
              "      <td>2007</td>\n",
              "      <td>TX</td>\n",
              "      <td>TX-500</td>\n",
              "      <td>San Antonio/Bexar County CoC</td>\n",
              "      <td>Chronically Homeless Individuals</td>\n",
              "      <td>218</td>\n",
              "      <td>Unsheltered Homeless</td>\n",
              "    </tr>\n",
              "    <tr>\n",
              "      <th>1</th>\n",
              "      <td>2007</td>\n",
              "      <td>TX</td>\n",
              "      <td>TX-500</td>\n",
              "      <td>San Antonio/Bexar County CoC</td>\n",
              "      <td>Homeless Individuals</td>\n",
              "      <td>1375</td>\n",
              "      <td>Unsheltered Homeless</td>\n",
              "    </tr>\n",
              "    <tr>\n",
              "      <th>2</th>\n",
              "      <td>2007</td>\n",
              "      <td>TX</td>\n",
              "      <td>TX-500</td>\n",
              "      <td>San Antonio/Bexar County CoC</td>\n",
              "      <td>Homeless People in Families</td>\n",
              "      <td>872</td>\n",
              "      <td>Unsheltered Homeless</td>\n",
              "    </tr>\n",
              "    <tr>\n",
              "      <th>3</th>\n",
              "      <td>2007</td>\n",
              "      <td>TX</td>\n",
              "      <td>TX-500</td>\n",
              "      <td>San Antonio/Bexar County CoC</td>\n",
              "      <td>Sheltered Chronically Homeless Individuals</td>\n",
              "      <td>96</td>\n",
              "      <td>Unsheltered Homeless</td>\n",
              "    </tr>\n",
              "    <tr>\n",
              "      <th>4</th>\n",
              "      <td>2007</td>\n",
              "      <td>TX</td>\n",
              "      <td>TX-500</td>\n",
              "      <td>San Antonio/Bexar County CoC</td>\n",
              "      <td>Sheltered Homeless</td>\n",
              "      <td>1798</td>\n",
              "      <td>Sheltered Homeless</td>\n",
              "    </tr>\n",
              "  </tbody>\n",
              "</table>\n",
              "</div>"
            ],
            "text/plain": [
              "   Year State  ... Count     Measures_Modified\n",
              "0  2007    TX  ...   218  Unsheltered Homeless\n",
              "1  2007    TX  ...  1375  Unsheltered Homeless\n",
              "2  2007    TX  ...   872  Unsheltered Homeless\n",
              "3  2007    TX  ...    96  Unsheltered Homeless\n",
              "4  2007    TX  ...  1798    Sheltered Homeless\n",
              "\n",
              "[5 rows x 7 columns]"
            ]
          },
          "metadata": {},
          "execution_count": 32
        }
      ]
    },
    {
      "cell_type": "code",
      "metadata": {
        "colab": {
          "base_uri": "https://localhost:8080/"
        },
        "id": "R0yTxbbPrzV8",
        "outputId": "c403d374-078f-400c-daaf-837a9b0962a2"
      },
      "source": [
        "df['Measures_Modified'].value_counts()"
      ],
      "execution_count": 33,
      "outputs": [
        {
          "output_type": "execute_result",
          "data": {
            "text/plain": [
              "Unsheltered Homeless    1551\n",
              "Sheltered Homeless       429\n",
              "Parenting Youth          264\n",
              "Name: Measures_Modified, dtype: int64"
            ]
          },
          "metadata": {},
          "execution_count": 33
        }
      ]
    },
    {
      "cell_type": "code",
      "metadata": {
        "colab": {
          "base_uri": "https://localhost:8080/",
          "height": 586
        },
        "id": "2fvHs3Xvr4YM",
        "outputId": "9b3790e9-407f-4356-9d79-1867f41538df"
      },
      "source": [
        "plt.figure(figsize=(12,9))\n",
        "total=float(len(df['Year']))\n",
        "ax = sns.countplot(x='Measures_Modified', data=df)\n",
        "\n",
        "for p in ax.patches:\n",
        "  height = p.get_height()\n",
        "  ax.text(p.get_x() + p.get_width()/2.,\n",
        "          height + 3,\n",
        "          '{:1.2f}'.format((height/total)*100),\n",
        "          ha='center')\n",
        "plt.title('Count of Measures')"
      ],
      "execution_count": 34,
      "outputs": [
        {
          "output_type": "execute_result",
          "data": {
            "text/plain": [
              "Text(0.5, 1.0, 'Count of Measures')"
            ]
          },
          "metadata": {},
          "execution_count": 34
        },
        {
          "output_type": "display_data",
          "data": {
            "image/png": "[encoded data removed]",
            "text/plain": [
              "<Figure size 864x648 with 1 Axes>"
            ]
          },
          "metadata": {
            "needs_background": "light"
          }
        }
      ]
    },
    {
      "cell_type": "markdown",
      "metadata": {
        "id": "42Qsz5XJtEPN"
      },
      "source": [
        "## Count"
      ]
    },
    {
      "cell_type": "markdown",
      "metadata": {
        "id": "ok1W4s_Ltb0h"
      },
      "source": [
        "### Count is an object currently. We need to change it to int."
      ]
    },
    {
      "cell_type": "code",
      "metadata": {
        "id": "ba6KTE3tt8h8"
      },
      "source": [
        "df['Count'] = df['Count'].str.replace(',', '')"
      ],
      "execution_count": 22,
      "outputs": []
    },
    {
      "cell_type": "code",
      "metadata": {
        "id": "_vQhUYy7thSp"
      },
      "source": [
        "df['Count'] = df['Count'].astype(int)"
      ],
      "execution_count": 23,
      "outputs": []
    },
    {
      "cell_type": "code",
      "metadata": {
        "colab": {
          "base_uri": "https://localhost:8080/"
        },
        "id": "snaGlZlguSWb",
        "outputId": "593a37a3-6856-4d32-fc39-6d7bedae2767"
      },
      "source": [
        "df['Count'].describe()"
      ],
      "execution_count": 24,
      "outputs": [
        {
          "output_type": "execute_result",
          "data": {
            "text/plain": [
              "count     2244.000000\n",
              "mean       626.356506\n",
              "std       1413.329429\n",
              "min          0.000000\n",
              "25%         13.000000\n",
              "50%        100.500000\n",
              "75%        521.000000\n",
              "max      15327.000000\n",
              "Name: Count, dtype: float64"
            ]
          },
          "metadata": {},
          "execution_count": 24
        }
      ]
    },
    {
      "cell_type": "code",
      "metadata": {
        "colab": {
          "base_uri": "https://localhost:8080/",
          "height": 352
        },
        "id": "YqI15RxQs6ti",
        "outputId": "693ceba8-8971-4c2c-9ecb-3b8fad99579e"
      },
      "source": [
        "sns.distplot(df['Count'],bins=20)"
      ],
      "execution_count": 25,
      "outputs": [
        {
          "output_type": "stream",
          "name": "stderr",
          "text": [
            "/usr/local/lib/python3.7/dist-packages/seaborn/distributions.py:2619: FutureWarning: `distplot` is a deprecated function and will be removed in a future version. Please adapt your code to use either `displot` (a figure-level function with similar flexibility) or `histplot` (an axes-level function for histograms).\n",
            "  warnings.warn(msg, FutureWarning)\n"
          ]
        },
        {
          "output_type": "execute_result",
          "data": {
            "text/plain": [
              "<matplotlib.axes._subplots.AxesSubplot at 0x7f433ff54fd0>"
            ]
          },
          "metadata": {},
          "execution_count": 25
        },
        {
          "output_type": "display_data",
          "data": {
            "image/png": "[encoded data removed]",
            "text/plain": [
              "<Figure size 432x288 with 1 Axes>"
            ]
          },
          "metadata": {
            "needs_background": "light"
          }
        }
      ]
    },
    {
      "cell_type": "markdown",
      "metadata": {
        "id": "p1xrc7IruXeE"
      },
      "source": [
        "\n",
        "\n",
        "1.   75% of count is below 521.\n",
        "2.   The Standard Deviation is very high, ie 1413.\n",
        "3.   The mean is 626 and the SD is 1413, this means we have a few abnormal outliers.\n",
        "\n",
        "\n",
        "\n"
      ]
    },
    {
      "cell_type": "markdown",
      "metadata": {
        "id": "IRYh3gh3vK0g"
      },
      "source": [
        "### We either need to remove the outliers, if they are very low in number or standardize the count feature."
      ]
    },
    {
      "cell_type": "markdown",
      "metadata": {
        "id": "CD96ytnx3DGA"
      },
      "source": [
        "# MultiVariate Analysis"
      ]
    },
    {
      "cell_type": "markdown",
      "metadata": {
        "id": "EIF_lO2T3KKi"
      },
      "source": [
        "### Year and Count"
      ]
    },
    {
      "cell_type": "code",
      "metadata": {
        "colab": {
          "base_uri": "https://localhost:8080/",
          "height": 570
        },
        "id": "9LfL7Vlp3Pk-",
        "outputId": "8bca5931-cb6b-447f-a855-0a28d4134394"
      },
      "source": [
        "plt.figure(figsize=(12,9))\n",
        "sns.boxplot(x='Year', y='Count', data=df)"
      ],
      "execution_count": 26,
      "outputs": [
        {
          "output_type": "execute_result",
          "data": {
            "text/plain": [
              "<matplotlib.axes._subplots.AxesSubplot at 0x7f433ff062d0>"
            ]
          },
          "metadata": {},
          "execution_count": 26
        },
        {
          "output_type": "display_data",
          "data": {
            "image/png": "[encoded data removed]",
            "text/plain": [
              "<Figure size 864x648 with 1 Axes>"
            ]
          },
          "metadata": {
            "needs_background": "light"
          }
        }
      ]
    },
    {
      "cell_type": "markdown",
      "metadata": {
        "id": "pbNIhEXmdoJF"
      },
      "source": [
        "\n",
        "\n",
        "1.   Homelessness seems to be going down every year.\n",
        "2.   There is a ton of variance every year and all have them are above the upper bound.\n",
        "\n"
      ]
    },
    {
      "cell_type": "markdown",
      "metadata": {
        "id": "of5I2la4d5qf"
      },
      "source": [
        "## CoC Number and Count"
      ]
    },
    {
      "cell_type": "code",
      "metadata": {
        "id": "YvQcnaFX4BY5",
        "colab": {
          "base_uri": "https://localhost:8080/",
          "height": 570
        },
        "outputId": "26b92963-f3d9-4b3f-a57d-7f023a9419f4"
      },
      "source": [
        "plt.figure(figsize=(12,9))\n",
        "sns.boxplot(x='CoC Number', y='Count', data=df)"
      ],
      "execution_count": 28,
      "outputs": [
        {
          "output_type": "execute_result",
          "data": {
            "text/plain": [
              "<matplotlib.axes._subplots.AxesSubplot at 0x7f433d2eddd0>"
            ]
          },
          "metadata": {},
          "execution_count": 28
        },
        {
          "output_type": "display_data",
          "data": {
            "image/png": "[encoded data removed]",
            "text/plain": [
              "<Figure size 864x648 with 1 Axes>"
            ]
          },
          "metadata": {
            "needs_background": "light"
          }
        }
      ]
    },
    {
      "cell_type": "markdown",
      "metadata": {
        "id": "b5hYUPl6eeHx"
      },
      "source": [
        "\n",
        "\n",
        "1.   TX-607 and TX-700 have the highest number of homeless people.\n",
        "2.   The rest of the counties seem to have more or less similar counts of homelessness.\n",
        "\n"
      ]
    },
    {
      "cell_type": "markdown",
      "metadata": {
        "id": "NRqUcp3xe11v"
      },
      "source": [
        "## Measures and Count"
      ]
    },
    {
      "cell_type": "code",
      "metadata": {
        "colab": {
          "base_uri": "https://localhost:8080/",
          "height": 570
        },
        "id": "sLZIpYP4eHAh",
        "outputId": "09f42c76-d004-4c85-e22e-cde9aab1bbf5"
      },
      "source": [
        "plt.figure(figsize=(12,9))\n",
        "sns.boxplot(x='Measures_Modified', y='Count', data=df)"
      ],
      "execution_count": 35,
      "outputs": [
        {
          "output_type": "execute_result",
          "data": {
            "text/plain": [
              "<matplotlib.axes._subplots.AxesSubplot at 0x7f433cfd5ad0>"
            ]
          },
          "metadata": {},
          "execution_count": 35
        },
        {
          "output_type": "display_data",
          "data": {
            "image/png": "[encoded data removed]",
            "text/plain": [
              "<Figure size 864x648 with 1 Axes>"
            ]
          },
          "metadata": {
            "needs_background": "light"
          }
        }
      ]
    },
    {
      "cell_type": "markdown",
      "metadata": {
        "id": "5oPW-JEDkGxC"
      },
      "source": [
        "\n",
        "\n",
        "1.   Sheltered Homeless are the highest in count.\n",
        "2.   This is followed by Unsheltered Homeless.\n",
        "\n"
      ]
    }
  ]
}