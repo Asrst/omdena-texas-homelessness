{
 "cells": [
  {
   "cell_type": "code",
   "execution_count": 1,
   "metadata": {},
   "outputs": [],
   "source": [
    "# Install libraries\n",
    "\n",
    "import pandas as pd\n",
    "import numpy as np\n",
    "import os\n",
    "\n",
    "## data visualization packages\n",
    "\n",
    "import seaborn as sns\n",
    "import matplotlib.pyplot as plt\n",
    "%matplotlib inline\n"
   ]
  },
  {
   "cell_type": "code",
   "execution_count": 2,
   "metadata": {},
   "outputs": [],
   "source": [
    "## set up the visualization \n",
    "\n",
    "sns.set_style('darkgrid')\n",
    "plt.rcParams['font.size']=14\n",
    "plt.rcParams['figure.figsize']=(9,5)\n",
    "plt.rcParams['figure.facecolor']='#00000000'"
   ]
  },
  {
   "cell_type": "code",
   "execution_count": 3,
   "metadata": {},
   "outputs": [],
   "source": [
    "## Interactive visualization\n",
    "\n",
    "import plotly.graph_objects as go\n",
    "import plotly.express as px\n",
    "import plotly.io as pio\n",
    "pio.templates.default='plotly_dark'\n"
   ]
  },
  {
   "cell_type": "markdown",
   "metadata": {},
   "source": [
    "## Loading dataset"
   ]
  },
  {
   "cell_type": "code",
   "execution_count": 23,
   "metadata": {},
   "outputs": [],
   "source": [
    "homelessness=pd.read_csv(\"Strategic_Measure_Number_of_persons_experiencing_homelessness_-_Point_in_Time_Count.csv\")"
   ]
  },
  {
   "cell_type": "markdown",
   "metadata": {},
   "source": [
    "## Questions here related to the datasets"
   ]
  },
  {
   "cell_type": "markdown",
   "metadata": {},
   "source": [
    "1) Is number of sheltered and unsheltered change during the yeras from 2011 to 2015?\n",
    "\n",
    "2)Different number of homlessness differnet from the previous year?"
   ]
  },
  {
   "cell_type": "markdown",
   "metadata": {},
   "source": [
    "## Exploring datasets"
   ]
  },
  {
   "cell_type": "code",
   "execution_count": 24,
   "metadata": {},
   "outputs": [
    {
     "data": {
      "text/plain": [
       "(10, 5)"
      ]
     },
     "execution_count": 24,
     "metadata": {},
     "output_type": "execute_result"
    }
   ],
   "source": [
    "homelessness.shape"
   ]
  },
  {
   "cell_type": "code",
   "execution_count": 25,
   "metadata": {},
   "outputs": [
    {
     "data": {
      "text/html": [
       "<div>\n",
       "<style scoped>\n",
       "    .dataframe tbody tr th:only-of-type {\n",
       "        vertical-align: middle;\n",
       "    }\n",
       "\n",
       "    .dataframe tbody tr th {\n",
       "        vertical-align: top;\n",
       "    }\n",
       "\n",
       "    .dataframe thead th {\n",
       "        text-align: right;\n",
       "    }\n",
       "</style>\n",
       "<table border=\"1\" class=\"dataframe\">\n",
       "  <thead>\n",
       "    <tr style=\"text-align: right;\">\n",
       "      <th></th>\n",
       "      <th>PIT Count Year</th>\n",
       "      <th>Sheltered</th>\n",
       "      <th>Unsheltered</th>\n",
       "      <th>Total Unduplicated Individuals</th>\n",
       "      <th>Difference from Previous Year</th>\n",
       "    </tr>\n",
       "  </thead>\n",
       "  <tbody>\n",
       "    <tr>\n",
       "      <th>0</th>\n",
       "      <td>2011</td>\n",
       "      <td>1358</td>\n",
       "      <td>1004</td>\n",
       "      <td>2362</td>\n",
       "      <td>275</td>\n",
       "    </tr>\n",
       "    <tr>\n",
       "      <th>1</th>\n",
       "      <td>2012</td>\n",
       "      <td>1375</td>\n",
       "      <td>869</td>\n",
       "      <td>2244</td>\n",
       "      <td>-118</td>\n",
       "    </tr>\n",
       "    <tr>\n",
       "      <th>2</th>\n",
       "      <td>2013</td>\n",
       "      <td>1325</td>\n",
       "      <td>765</td>\n",
       "      <td>2090</td>\n",
       "      <td>-154</td>\n",
       "    </tr>\n",
       "    <tr>\n",
       "      <th>3</th>\n",
       "      <td>2014</td>\n",
       "      <td>1539</td>\n",
       "      <td>448</td>\n",
       "      <td>1987</td>\n",
       "      <td>-103</td>\n",
       "    </tr>\n",
       "    <tr>\n",
       "      <th>4</th>\n",
       "      <td>2015</td>\n",
       "      <td>1165</td>\n",
       "      <td>667</td>\n",
       "      <td>1832</td>\n",
       "      <td>-155</td>\n",
       "    </tr>\n",
       "  </tbody>\n",
       "</table>\n",
       "</div>"
      ],
      "text/plain": [
       "   PIT Count Year  Sheltered  Unsheltered  Total Unduplicated Individuals  \\\n",
       "0            2011       1358         1004                            2362   \n",
       "1            2012       1375          869                            2244   \n",
       "2            2013       1325          765                            2090   \n",
       "3            2014       1539          448                            1987   \n",
       "4            2015       1165          667                            1832   \n",
       "\n",
       "   Difference from Previous Year  \n",
       "0                            275  \n",
       "1                           -118  \n",
       "2                           -154  \n",
       "3                           -103  \n",
       "4                           -155  "
      ]
     },
     "execution_count": 25,
     "metadata": {},
     "output_type": "execute_result"
    }
   ],
   "source": [
    "homelessness.head()"
   ]
  },
  {
   "cell_type": "code",
   "execution_count": 26,
   "metadata": {},
   "outputs": [],
   "source": [
    "homelessness.rename(columns = {'PIT Count Year':'Year'}, inplace = True)"
   ]
  },
  {
   "cell_type": "code",
   "execution_count": 27,
   "metadata": {},
   "outputs": [
    {
     "data": {
      "text/plain": [
       "Year                              int64\n",
       "Sheltered                         int64\n",
       "Unsheltered                       int64\n",
       "Total Unduplicated Individuals    int64\n",
       "Difference from Previous Year     int64\n",
       "dtype: object"
      ]
     },
     "execution_count": 27,
     "metadata": {},
     "output_type": "execute_result"
    }
   ],
   "source": [
    "homelessness.dtypes"
   ]
  },
  {
   "cell_type": "code",
   "execution_count": 28,
   "metadata": {},
   "outputs": [
    {
     "data": {
      "text/html": [
       "<div>\n",
       "<style scoped>\n",
       "    .dataframe tbody tr th:only-of-type {\n",
       "        vertical-align: middle;\n",
       "    }\n",
       "\n",
       "    .dataframe tbody tr th {\n",
       "        vertical-align: top;\n",
       "    }\n",
       "\n",
       "    .dataframe thead th {\n",
       "        text-align: right;\n",
       "    }\n",
       "</style>\n",
       "<table border=\"1\" class=\"dataframe\">\n",
       "  <thead>\n",
       "    <tr style=\"text-align: right;\">\n",
       "      <th></th>\n",
       "      <th>Year</th>\n",
       "      <th>Sheltered</th>\n",
       "      <th>Unsheltered</th>\n",
       "      <th>Total Unduplicated Individuals</th>\n",
       "      <th>Difference from Previous Year</th>\n",
       "    </tr>\n",
       "  </thead>\n",
       "  <tbody>\n",
       "    <tr>\n",
       "      <th>count</th>\n",
       "      <td>10.00000</td>\n",
       "      <td>10.000000</td>\n",
       "      <td>10.000000</td>\n",
       "      <td>10.000000</td>\n",
       "      <td>10.000000</td>\n",
       "    </tr>\n",
       "    <tr>\n",
       "      <th>mean</th>\n",
       "      <td>2015.50000</td>\n",
       "      <td>1252.000000</td>\n",
       "      <td>907.700000</td>\n",
       "      <td>2159.700000</td>\n",
       "      <td>41.900000</td>\n",
       "    </tr>\n",
       "    <tr>\n",
       "      <th>std</th>\n",
       "      <td>3.02765</td>\n",
       "      <td>167.491957</td>\n",
       "      <td>298.381207</td>\n",
       "      <td>192.942738</td>\n",
       "      <td>188.964694</td>\n",
       "    </tr>\n",
       "    <tr>\n",
       "      <th>min</th>\n",
       "      <td>2011.00000</td>\n",
       "      <td>932.000000</td>\n",
       "      <td>448.000000</td>\n",
       "      <td>1832.000000</td>\n",
       "      <td>-155.000000</td>\n",
       "    </tr>\n",
       "    <tr>\n",
       "      <th>25%</th>\n",
       "      <td>2013.25000</td>\n",
       "      <td>1166.000000</td>\n",
       "      <td>777.750000</td>\n",
       "      <td>2049.500000</td>\n",
       "      <td>-114.250000</td>\n",
       "    </tr>\n",
       "    <tr>\n",
       "      <th>50%</th>\n",
       "      <td>2015.50000</td>\n",
       "      <td>1262.000000</td>\n",
       "      <td>851.500000</td>\n",
       "      <td>2142.500000</td>\n",
       "      <td>3.000000</td>\n",
       "    </tr>\n",
       "    <tr>\n",
       "      <th>75%</th>\n",
       "      <td>2017.75000</td>\n",
       "      <td>1349.750000</td>\n",
       "      <td>1011.500000</td>\n",
       "      <td>2252.250000</td>\n",
       "      <td>216.000000</td>\n",
       "    </tr>\n",
       "    <tr>\n",
       "      <th>max</th>\n",
       "      <td>2020.00000</td>\n",
       "      <td>1539.000000</td>\n",
       "      <td>1574.000000</td>\n",
       "      <td>2506.000000</td>\n",
       "      <td>306.000000</td>\n",
       "    </tr>\n",
       "  </tbody>\n",
       "</table>\n",
       "</div>"
      ],
      "text/plain": [
       "             Year    Sheltered  Unsheltered  Total Unduplicated Individuals  \\\n",
       "count    10.00000    10.000000    10.000000                       10.000000   \n",
       "mean   2015.50000  1252.000000   907.700000                     2159.700000   \n",
       "std       3.02765   167.491957   298.381207                      192.942738   \n",
       "min    2011.00000   932.000000   448.000000                     1832.000000   \n",
       "25%    2013.25000  1166.000000   777.750000                     2049.500000   \n",
       "50%    2015.50000  1262.000000   851.500000                     2142.500000   \n",
       "75%    2017.75000  1349.750000  1011.500000                     2252.250000   \n",
       "max    2020.00000  1539.000000  1574.000000                     2506.000000   \n",
       "\n",
       "       Difference from Previous Year  \n",
       "count                      10.000000  \n",
       "mean                       41.900000  \n",
       "std                       188.964694  \n",
       "min                      -155.000000  \n",
       "25%                      -114.250000  \n",
       "50%                         3.000000  \n",
       "75%                       216.000000  \n",
       "max                       306.000000  "
      ]
     },
     "execution_count": 28,
     "metadata": {},
     "output_type": "execute_result"
    }
   ],
   "source": [
    "homelessness.describe()"
   ]
  },
  {
   "cell_type": "markdown",
   "metadata": {},
   "source": [
    "## Visualization"
   ]
  },
  {
   "cell_type": "code",
   "execution_count": 39,
   "metadata": {},
   "outputs": [
    {
     "data": {
      "image/png": "[encoded data removed]",
      "text/plain": [
       "<Figure size 648x360 with 1 Axes>"
      ]
     },
     "metadata": {
      "needs_background": "light"
     },
     "output_type": "display_data"
    }
   ],
   "source": [
    "plt.scatter(homelessness[\"Year\"], homelessness[\"Sheltered\"], alpha=0.5)\n",
    "plt.plot(homelessness[\"Year\"], homelessness[\"Sheltered\"], alpha=0.5, color = 'r')\n",
    "plt.title(\"Number of sheltered through 2011 to 2020\")\n",
    "plt.show()"
   ]
  },
  {
   "cell_type": "markdown",
   "metadata": {},
   "source": [
    "Number of sheltered people significantly decreased through the years"
   ]
  },
  {
   "cell_type": "markdown",
   "metadata": {},
   "source": [
    "---"
   ]
  },
  {
   "cell_type": "code",
   "execution_count": 43,
   "metadata": {},
   "outputs": [
    {
     "data": {
      "image/png": "[encoded data removed]",
      "text/plain": [
       "<Figure size 648x360 with 1 Axes>"
      ]
     },
     "metadata": {
      "needs_background": "light"
     },
     "output_type": "display_data"
    }
   ],
   "source": [
    "plt.scatter(homelessness[\"Year\"], homelessness[\"Unsheltered\"], alpha=0.5)\n",
    "plt.plot(homelessness[\"Year\"], homelessness[\"Unsheltered\"], alpha=0.5, color = 'r')\n",
    "plt.title(\"Number of unsheltered through 2011 to 2020\")\n",
    "plt.show()"
   ]
  },
  {
   "cell_type": "markdown",
   "metadata": {},
   "source": [
    "Number of unsheltered people significantly increased through the years. In 2014, due to great economy number of unsheltered people was in the lowest amount"
   ]
  },
  {
   "cell_type": "markdown",
   "metadata": {},
   "source": [
    "---"
   ]
  },
  {
   "cell_type": "code",
   "execution_count": 42,
   "metadata": {},
   "outputs": [
    {
     "data": {
      "image/png": "[encoded data removed]",
      "text/plain": [
       "<Figure size 648x360 with 1 Axes>"
      ]
     },
     "metadata": {
      "needs_background": "light"
     },
     "output_type": "display_data"
    }
   ],
   "source": [
    "plt.scatter(homelessness[\"Year\"], homelessness[\"Difference from Previous Year\"], alpha=0.5)\n",
    "plt.plot(homelessness[\"Year\"], homelessness[\"Difference from Previous Year\"], alpha=0.5, color = 'r')\n",
    "plt.title(\"Number of sheltered through 2011 to 2020\")\n",
    "plt.show()"
   ]
  },
  {
   "cell_type": "markdown",
   "metadata": {},
   "source": [
    "Number of sheltered people decreased after economy got better after 2012."
   ]
  },
  {
   "cell_type": "code",
   "execution_count": null,
   "metadata": {},
   "outputs": [],
   "source": []
  }
 ],
 "metadata": {
  "kernelspec": {
   "display_name": "Python 3",
   "language": "python",
   "name": "python3"
  },
  "language_info": {
   "codemirror_mode": {
    "name": "ipython",
    "version": 3
   },
   "file_extension": ".py",
   "mimetype": "text/x-python",
   "name": "python",
   "nbconvert_exporter": "python",
   "pygments_lexer": "ipython3",
   "version": "3.8.5"
  }
 },
 "nbformat": 4,
 "nbformat_minor": 4
}
