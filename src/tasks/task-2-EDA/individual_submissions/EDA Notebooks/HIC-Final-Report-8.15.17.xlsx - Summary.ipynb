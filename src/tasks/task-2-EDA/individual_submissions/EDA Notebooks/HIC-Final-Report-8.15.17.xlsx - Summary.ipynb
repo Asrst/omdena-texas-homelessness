{
 "cells": [
  {
   "cell_type": "code",
   "execution_count": 1,
   "source": [
    "import pandas as pd\r\n",
    "import numpy as np\r\n",
    "import matplotlib\r\n",
    "import matplotlib.pyplot as plt\r\n",
    "import seaborn as sns\r\n",
    "import missingno\r\n",
    "import warnings\r\n",
    "warnings.filterwarnings(\"ignore\")\r\n",
    "%matplotlib inline\r\n",
    "\r\n",
    "        \r\n",
    "def time_series_plot(df):\r\n",
    "    \"\"\"Given dataframe, generate times series plot of numeric data by daily, monthly and yearly frequency\"\"\"\r\n",
    "    print(\"\\nTo check time series of numeric data  by daily, monthly and yearly frequency\")\r\n",
    "    if len(df.select_dtypes(include='datetime64').columns)>0:\r\n",
    "        for col in df.select_dtypes(include='datetime64').columns:\r\n",
    "            for p in ['D', 'M', 'Y']:\r\n",
    "                if p=='D':\r\n",
    "                    print(\"Plotting daily data\")\r\n",
    "                elif p=='M':\r\n",
    "                    print(\"Plotting monthly data\")\r\n",
    "                else:\r\n",
    "                    print(\"Plotting yearly data\")\r\n",
    "                for col_num in df.select_dtypes(include=np.number).columns:\r\n",
    "                    __ = df.copy()\r\n",
    "                    __ = __.set_index(col)\r\n",
    "                    __T = __.resample(p).sum()\r\n",
    "                    ax = __T[[col_num]].plot()\r\n",
    "                    ax.set_ylim(bottom=0)\r\n",
    "                    ax.get_yaxis().set_major_formatter(\r\n",
    "                    matplotlib.ticker.FuncFormatter(lambda x, p: format(int(x), ',')))\r\n",
    "                    plt.show()\r\n",
    "\r\n",
    "                    \r\n",
    "def numeric_eda(df, hue=None):\r\n",
    "    \"\"\"Given dataframe, generate EDA of numeric data\"\"\"\r\n",
    "    print(\"\\nTo check: \\nDistribution of numeric data\")\r\n",
    "    display(df.describe().T)\r\n",
    "    columns = df.select_dtypes(include=np.number).columns\r\n",
    "    figure = plt.figure(figsize=(20, 10))\r\n",
    "    figure.add_subplot(1, len(columns), 1)\r\n",
    "    for index, col in enumerate(columns):\r\n",
    "        if index > 0:\r\n",
    "            figure.add_subplot(1, len(columns), index + 1)\r\n",
    "        sns.boxplot(y=col, data=df, boxprops={'facecolor': 'None'})\r\n",
    "    figure.tight_layout()\r\n",
    "    plt.show()\r\n",
    "    \r\n",
    "    if len(df.select_dtypes(include='category').columns) > 0:\r\n",
    "        for col_num in df.select_dtypes(include=np.number).columns:\r\n",
    "            for col in df.select_dtypes(include='category').columns:\r\n",
    "                fig = sns.catplot(x=col, y=col_num, kind='violin', data=df, height=5, aspect=2)\r\n",
    "                fig.set_xticklabels(rotation=90)\r\n",
    "                plt.show()\r\n",
    "    \r\n",
    "    # Plot the pairwise joint distributions\r\n",
    "    print(\"\\nTo check pairwise joint distribution of numeric data\")\r\n",
    "    if hue==None:\r\n",
    "        sns.pairplot(df.select_dtypes(include=np.number))\r\n",
    "    else:\r\n",
    "        sns.pairplot(df.select_dtypes(include=np.number).join(df[[hue]]), hue=hue)\r\n",
    "    plt.show()\r\n",
    "\r\n",
    "\r\n",
    "def top5(df):\r\n",
    "    \"\"\"Given dataframe, generate top 5 unique values for non-numeric data\"\"\"\r\n",
    "    columns = df.select_dtypes(include=['object', 'category']).columns\r\n",
    "    for col in columns:\r\n",
    "        print(\"Top 5 unique values of \" + col)\r\n",
    "        print(df[col].value_counts().reset_index().rename(columns={\"index\": col, col: \"Count\"})[\r\n",
    "              :min(5, len(df[col].value_counts()))])\r\n",
    "        print(\" \")\r\n",
    "    \r\n",
    "    \r\n",
    "def categorical_eda(df, hue=None):\r\n",
    "    \"\"\"Given dataframe, generate EDA of categorical data\"\"\"\r\n",
    "    print(\"\\nTo check: \\nUnique count of non-numeric data\\n\")\r\n",
    "    print(df.select_dtypes(include=['object', 'category']).nunique())\r\n",
    "    top5(df)\r\n",
    "    # Plot count distribution of categorical data\r\n",
    "    for col in df.select_dtypes(include='category').columns:\r\n",
    "        fig = sns.catplot(x=col, kind=\"count\", data=df, hue=hue)\r\n",
    "        fig.set_xticklabels(rotation=90)\r\n",
    "        plt.show()\r\n",
    "    \r\n",
    "\r\n",
    "def eda(df):\r\n",
    "    \"\"\"Given dataframe, generate exploratory data analysis\"\"\"\r\n",
    "    # check that input is pandas dataframe\r\n",
    "    if type(df) != pd.core.frame.DataFrame:\r\n",
    "        raise TypeError(\"Only pandas dataframe is allowed as input\")\r\n",
    "        \r\n",
    "    # replace field that's entirely space (or empty) with NaN\r\n",
    "    df = df.replace(r'^\\s*$', np.nan, regex=True)\r\n",
    "\r\n",
    "    print(\"Preview of data:\")\r\n",
    "    display(df.head(3))\r\n",
    "\r\n",
    "    print(\"\\nTo check: \\n (1) Total number of entries \\n (2) Column types \\n (3) Any null values\\n\")\r\n",
    "    print(df.info())\r\n",
    "\r\n",
    "    # generate preview of entries with null values\r\n",
    "    if df.isnull().any(axis=None):\r\n",
    "        print(\"\\nPreview of data with null values:\")\r\n",
    "        display(df[df.isnull().any(axis=1)].head(3))\r\n",
    "        missingno.matrix(df)\r\n",
    "        plt.show()\r\n",
    "\r\n",
    "    # generate count statistics of duplicate entries\r\n",
    "    if len(df[df.duplicated()]) > 0:\r\n",
    "        print(\"\\n***Number of duplicated entries: \", len(df[df.duplicated()]))\r\n",
    "        display(df[df.duplicated(keep=False)].sort_values(by=list(df.columns)).head())\r\n",
    "    else:\r\n",
    "        print(\"\\nNo duplicated entries found\")\r\n",
    "\r\n",
    "    # EDA of categorical data\r\n",
    "    categorical_eda(df)\r\n",
    "    \r\n",
    "    # EDA of numeric data\r\n",
    "    numeric_eda(df)\r\n",
    "        \r\n",
    "    # Plot time series plot of numeric data\r\n",
    "    time_series_plot(df)"
   ],
   "outputs": [],
   "metadata": {}
  },
  {
   "cell_type": "code",
   "execution_count": 2,
   "source": [
    "df = pd.read_csv(r'C:\\Users\\mohit\\OneDrive\\Desktop\\omdena-texas-homelessness\\src\\data\\housing\\HIC-Final-Report-8.15.17.xlsx - Summary.csv')"
   ],
   "outputs": [],
   "metadata": {}
  },
  {
   "cell_type": "code",
   "execution_count": 3,
   "source": [
    "eda(df)"
   ],
   "outputs": [
    {
     "output_type": "stream",
     "name": "stdout",
     "text": [
      "Preview of data:\n"
     ]
    },
    {
     "output_type": "display_data",
     "data": {
      "text/html": [
       "<div>\n",
       "<style scoped>\n",
       "    .dataframe tbody tr th:only-of-type {\n",
       "        vertical-align: middle;\n",
       "    }\n",
       "\n",
       "    .dataframe tbody tr th {\n",
       "        vertical-align: top;\n",
       "    }\n",
       "\n",
       "    .dataframe thead th {\n",
       "        text-align: right;\n",
       "    }\n",
       "</style>\n",
       "<table border=\"1\" class=\"dataframe\">\n",
       "  <thead>\n",
       "    <tr style=\"text-align: right;\">\n",
       "      <th></th>\n",
       "      <th>Project Type</th>\n",
       "      <th>2017</th>\n",
       "      <th>2016</th>\n",
       "      <th>Difference</th>\n",
       "    </tr>\n",
       "  </thead>\n",
       "  <tbody>\n",
       "    <tr>\n",
       "      <th>0</th>\n",
       "      <td>ES</td>\n",
       "      <td>3455</td>\n",
       "      <td>3937</td>\n",
       "      <td>-482</td>\n",
       "    </tr>\n",
       "    <tr>\n",
       "      <th>1</th>\n",
       "      <td>TH</td>\n",
       "      <td>1262</td>\n",
       "      <td>1316</td>\n",
       "      <td>-54</td>\n",
       "    </tr>\n",
       "    <tr>\n",
       "      <th>2</th>\n",
       "      <td>RRH</td>\n",
       "      <td>883</td>\n",
       "      <td>554</td>\n",
       "      <td>329</td>\n",
       "    </tr>\n",
       "  </tbody>\n",
       "</table>\n",
       "</div>"
      ],
      "text/plain": [
       "  Project Type  2017  2016  Difference \n",
       "0           ES  3455  3937         -482\n",
       "1           TH  1262  1316          -54\n",
       "2          RRH   883   554          329"
      ]
     },
     "metadata": {}
    },
    {
     "output_type": "stream",
     "name": "stdout",
     "text": [
      "\n",
      "To check: \n",
      " (1) Total number of entries \n",
      " (2) Column types \n",
      " (3) Any null values\n",
      "\n",
      "<class 'pandas.core.frame.DataFrame'>\n",
      "RangeIndex: 5 entries, 0 to 4\n",
      "Data columns (total 4 columns):\n",
      " #   Column        Non-Null Count  Dtype \n",
      "---  ------        --------------  ----- \n",
      " 0   Project Type  5 non-null      object\n",
      " 1   2017          5 non-null      int64 \n",
      " 2   2016          5 non-null      int64 \n",
      " 3   Difference    5 non-null      int64 \n",
      "dtypes: int64(3), object(1)\n",
      "memory usage: 288.0+ bytes\n",
      "None\n",
      "\n",
      "No duplicated entries found\n",
      "\n",
      "To check: \n",
      "Unique count of non-numeric data\n",
      "\n",
      "Project Type    5\n",
      "dtype: int64\n",
      "Top 5 unique values of Project Type\n",
      "  Project Type  Count\n",
      "0           ES      1\n",
      "1           TH      1\n",
      "2          RRH      1\n",
      "3          PSH      1\n",
      "4        Total      1\n",
      " \n",
      "\n",
      "To check: \n",
      "Distribution of numeric data\n"
     ]
    },
    {
     "output_type": "display_data",
     "data": {
      "text/html": [
       "<div>\n",
       "<style scoped>\n",
       "    .dataframe tbody tr th:only-of-type {\n",
       "        vertical-align: middle;\n",
       "    }\n",
       "\n",
       "    .dataframe tbody tr th {\n",
       "        vertical-align: top;\n",
       "    }\n",
       "\n",
       "    .dataframe thead th {\n",
       "        text-align: right;\n",
       "    }\n",
       "</style>\n",
       "<table border=\"1\" class=\"dataframe\">\n",
       "  <thead>\n",
       "    <tr style=\"text-align: right;\">\n",
       "      <th></th>\n",
       "      <th>count</th>\n",
       "      <th>mean</th>\n",
       "      <th>std</th>\n",
       "      <th>min</th>\n",
       "      <th>25%</th>\n",
       "      <th>50%</th>\n",
       "      <th>75%</th>\n",
       "      <th>max</th>\n",
       "    </tr>\n",
       "  </thead>\n",
       "  <tbody>\n",
       "    <tr>\n",
       "      <th>2017</th>\n",
       "      <td>5.0</td>\n",
       "      <td>2660.8</td>\n",
       "      <td>2463.020645</td>\n",
       "      <td>883.0</td>\n",
       "      <td>1052.0</td>\n",
       "      <td>1262.0</td>\n",
       "      <td>3455.0</td>\n",
       "      <td>6652.0</td>\n",
       "    </tr>\n",
       "    <tr>\n",
       "      <th>2016</th>\n",
       "      <td>5.0</td>\n",
       "      <td>2740.8</td>\n",
       "      <td>2646.731324</td>\n",
       "      <td>554.0</td>\n",
       "      <td>1045.0</td>\n",
       "      <td>1316.0</td>\n",
       "      <td>3937.0</td>\n",
       "      <td>6852.0</td>\n",
       "    </tr>\n",
       "    <tr>\n",
       "      <th>Difference</th>\n",
       "      <td>5.0</td>\n",
       "      <td>-80.0</td>\n",
       "      <td>296.449827</td>\n",
       "      <td>-482.0</td>\n",
       "      <td>-200.0</td>\n",
       "      <td>-54.0</td>\n",
       "      <td>7.0</td>\n",
       "      <td>329.0</td>\n",
       "    </tr>\n",
       "  </tbody>\n",
       "</table>\n",
       "</div>"
      ],
      "text/plain": [
       "             count    mean          std    min     25%     50%     75%     max\n",
       "2017           5.0  2660.8  2463.020645  883.0  1052.0  1262.0  3455.0  6652.0\n",
       "2016           5.0  2740.8  2646.731324  554.0  1045.0  1316.0  3937.0  6852.0\n",
       "Difference     5.0   -80.0   296.449827 -482.0  -200.0   -54.0     7.0   329.0"
      ]
     },
     "metadata": {}
    },
    {
     "output_type": "display_data",
     "data": {
      "image/png": "[encoded data removed]",
      "text/plain": [
       "<Figure size 1440x720 with 3 Axes>"
      ]
     },
     "metadata": {
      "needs_background": "light"
     }
    },
    {
     "output_type": "stream",
     "name": "stdout",
     "text": [
      "\n",
      "To check pairwise joint distribution of numeric data\n"
     ]
    },
    {
     "output_type": "display_data",
     "data": {
      "image/png": "[encoded data removed]",
      "text/plain": [
       "<Figure size 540x540 with 12 Axes>"
      ]
     },
     "metadata": {
      "needs_background": "light"
     }
    },
    {
     "output_type": "stream",
     "name": "stdout",
     "text": [
      "\n",
      "To check time series of numeric data  by daily, monthly and yearly frequency\n"
     ]
    }
   ],
   "metadata": {}
  },
  {
   "cell_type": "code",
   "execution_count": 4,
   "source": [
    "# Throught this dataset we can easily through the scatter plot that all the points are scattered here and there with no better correlation with each other\r\n",
    "\r\n",
    "# Thorugh the box plot we can see there are no outliers out there but it's better to check it through Z-score"
   ],
   "outputs": [],
   "metadata": {}
  },
  {
   "cell_type": "code",
   "execution_count": 5,
   "source": [
    "df.isnull().sum()"
   ],
   "outputs": [
    {
     "output_type": "execute_result",
     "data": {
      "text/plain": [
       "Project Type    0\n",
       "2017            0\n",
       "2016            0\n",
       "Difference      0\n",
       "dtype: int64"
      ]
     },
     "metadata": {},
     "execution_count": 5
    }
   ],
   "metadata": {}
  },
  {
   "cell_type": "code",
   "execution_count": 6,
   "source": [
    "\r\n",
    "df.nunique()"
   ],
   "outputs": [
    {
     "output_type": "execute_result",
     "data": {
      "text/plain": [
       "Project Type    5\n",
       "2017            5\n",
       "2016            5\n",
       "Difference      5\n",
       "dtype: int64"
      ]
     },
     "metadata": {},
     "execution_count": 6
    }
   ],
   "metadata": {}
  },
  {
   "cell_type": "code",
   "execution_count": 8,
   "source": [
    "df.to_csv(r'C:\\Users\\mohit\\OneDrive\\Desktop\\omdena-texas-homelessness\\src\\tasks\\task-2-EDA\\cleaned_datasets\\HIC_FINAL_REPORT.csv')"
   ],
   "outputs": [],
   "metadata": {}
  },
  {
   "cell_type": "code",
   "execution_count": null,
   "source": [],
   "outputs": [],
   "metadata": {}
  },
  {
   "cell_type": "code",
   "execution_count": null,
   "source": [],
   "outputs": [],
   "metadata": {}
  }
 ],
 "metadata": {
  "orig_nbformat": 4,
  "language_info": {
   "name": "python",
   "version": "3.8.11",
   "mimetype": "text/x-python",
   "codemirror_mode": {
    "name": "ipython",
    "version": 3
   },
   "pygments_lexer": "ipython3",
   "nbconvert_exporter": "python",
   "file_extension": ".py"
  },
  "kernelspec": {
   "name": "python3",
   "display_name": "Python 3.8.11 64-bit ('base': conda)"
  },
  "interpreter": {
   "hash": "de0a872bf736e871890e4595f13441ccf4210b874152ed5e175f37f1f83d386b"
  }
 },
 "nbformat": 4,
 "nbformat_minor": 2
}