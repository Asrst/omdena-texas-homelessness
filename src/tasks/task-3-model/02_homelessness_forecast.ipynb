{
 "cells": [
  {
   "cell_type": "code",
   "execution_count": 1,
   "id": "ee28be1a",
   "metadata": {
    "_cell_guid": "b1076dfc-b9ad-4769-8c92-a6c4dae69d19",
    "_uuid": "8f2839f25d086af736a60e9eeb907d3b93b6e0e5",
    "execution": {
     "iopub.execute_input": "2021-10-31T13:12:37.987013Z",
     "iopub.status.busy": "2021-10-31T13:12:37.986020Z",
     "iopub.status.idle": "2021-10-31T13:12:38.005898Z",
     "shell.execute_reply": "2021-10-31T13:12:38.006607Z",
     "shell.execute_reply.started": "2021-10-31T13:10:07.722970Z"
    },
    "papermill": {
     "duration": 0.065357,
     "end_time": "2021-10-31T13:12:38.006969",
     "exception": false,
     "start_time": "2021-10-31T13:12:37.941612",
     "status": "completed"
    },
    "tags": []
   },
   "outputs": [
    {
     "name": "stdout",
     "output_type": "stream",
     "text": [
      "/kaggle/input/poverty-rate-forecast-prophet/__results__.html\n",
      "/kaggle/input/poverty-rate-forecast-prophet/__notebook__.ipynb\n",
      "/kaggle/input/poverty-rate-forecast-prophet/poverty_rate_forecast.csv\n",
      "/kaggle/input/poverty-rate-forecast-prophet/__output__.json\n",
      "/kaggle/input/poverty-rate-forecast-prophet/custom.css\n",
      "/kaggle/input/homelessness-data-collection/zillow_house_prices.csv\n",
      "/kaggle/input/homelessness-data-collection/pit_data_interpolated.csv\n",
      "/kaggle/input/homelessness-data-collection/yearly_employment_rates.csv\n",
      "/kaggle/input/homelessness-data-collection/__results__.html\n",
      "/kaggle/input/homelessness-data-collection/zillow_home_price_index.csv\n",
      "/kaggle/input/homelessness-data-collection/unified_data.csv\n",
      "/kaggle/input/homelessness-data-collection/census_poverty_income.csv\n",
      "/kaggle/input/homelessness-data-collection/__notebook__.ipynb\n",
      "/kaggle/input/homelessness-data-collection/state_abbrevations.csv\n",
      "/kaggle/input/homelessness-data-collection/__output__.json\n",
      "/kaggle/input/homelessness-data-collection/yearly_house_rents.csv\n",
      "/kaggle/input/homelessness-data-collection/custom.css\n"
     ]
    }
   ],
   "source": [
    "import numpy as np # linear algebra\n",
    "import pandas as pd # data processing, CSV file I/O (e.g. pd.read_csv)\n",
    "import os\n",
    "for dirname, _, filenames in os.walk('/kaggle/input'):\n",
    "    for filename in filenames:\n",
    "        print(os.path.join(dirname, filename))"
   ]
  },
  {
   "cell_type": "code",
   "execution_count": 2,
   "id": "385fdfa1",
   "metadata": {
    "execution": {
     "iopub.execute_input": "2021-10-31T13:12:38.056585Z",
     "iopub.status.busy": "2021-10-31T13:12:38.055906Z",
     "iopub.status.idle": "2021-10-31T13:12:38.091739Z",
     "shell.execute_reply": "2021-10-31T13:12:38.092242Z",
     "shell.execute_reply.started": "2021-10-31T13:10:08.336917Z"
    },
    "papermill": {
     "duration": 0.062346,
     "end_time": "2021-10-31T13:12:38.092410",
     "exception": false,
     "start_time": "2021-10-31T13:12:38.030064",
     "status": "completed"
    },
    "tags": []
   },
   "outputs": [
    {
     "data": {
      "text/plain": [
       "((8007, 11),\n",
       " Index(['Date', 'Overall Homeless', 'State', 'State_Name', 'unemploy_rate',\n",
       "        'employed_pop_rate', 'HomeValueIndex', 'MHHI', 'Poverty_Count',\n",
       "        'Poverty_Rate', 'Min_Rent'],\n",
       "       dtype='object'))"
      ]
     },
     "execution_count": 2,
     "metadata": {},
     "output_type": "execute_result"
    }
   ],
   "source": [
    "DATA_DIR = \"/kaggle/input/homelessness-data-collection\"\n",
    "filepath = f\"{DATA_DIR}/unified_data.csv\"\n",
    "data_df = pd.read_csv(filepath)\n",
    "data_df.shape, data_df.columns"
   ]
  },
  {
   "cell_type": "code",
   "execution_count": 3,
   "id": "3e172bf2",
   "metadata": {
    "execution": {
     "iopub.execute_input": "2021-10-31T13:12:38.139414Z",
     "iopub.status.busy": "2021-10-31T13:12:38.138475Z",
     "iopub.status.idle": "2021-10-31T13:12:38.158780Z",
     "shell.execute_reply": "2021-10-31T13:12:38.159393Z",
     "shell.execute_reply.started": "2021-10-31T13:10:09.012280Z"
    },
    "papermill": {
     "duration": 0.045718,
     "end_time": "2021-10-31T13:12:38.159584",
     "exception": false,
     "start_time": "2021-10-31T13:12:38.113866",
     "status": "completed"
    },
    "tags": []
   },
   "outputs": [
    {
     "data": {
      "text/plain": [
       "((21, 5),\n",
       " Index(['State', 'ds', 'HomeValueIndex', 'unemploy_rate', 'Poverty_Rate'], dtype='object'))"
      ]
     },
     "execution_count": 3,
     "metadata": {},
     "output_type": "execute_result"
    }
   ],
   "source": [
    "future_df = pd.read_csv(\"/kaggle/input/poverty-rate-forecast-prophet/poverty_rate_forecast.csv\")\n",
    "tx_pr = future_df[future_df['ds'] <= \"2020-01-31\"]\n",
    "future_df = future_df[future_df['ds'] >= \"2020-01-31\"]\n",
    "future_df.shape, future_df.columns"
   ]
  },
  {
   "cell_type": "code",
   "execution_count": 4,
   "id": "a3237e3f",
   "metadata": {
    "execution": {
     "iopub.execute_input": "2021-10-31T13:12:38.206693Z",
     "iopub.status.busy": "2021-10-31T13:12:38.205704Z",
     "iopub.status.idle": "2021-10-31T13:12:38.216763Z",
     "shell.execute_reply": "2021-10-31T13:12:38.217273Z",
     "shell.execute_reply.started": "2021-10-31T13:10:09.508739Z"
    },
    "papermill": {
     "duration": 0.036115,
     "end_time": "2021-10-31T13:12:38.217458",
     "exception": false,
     "start_time": "2021-10-31T13:12:38.181343",
     "status": "completed"
    },
    "tags": []
   },
   "outputs": [
    {
     "data": {
      "text/plain": [
       "Date                   0\n",
       "Overall Homeless       0\n",
       "State                  0\n",
       "State_Name             0\n",
       "unemploy_rate          0\n",
       "employed_pop_rate      0\n",
       "HomeValueIndex        24\n",
       "MHHI                 612\n",
       "Poverty_Count        612\n",
       "Poverty_Rate         612\n",
       "Min_Rent               0\n",
       "dtype: int64"
      ]
     },
     "execution_count": 4,
     "metadata": {},
     "output_type": "execute_result"
    }
   ],
   "source": [
    "data_df.isna().sum()"
   ]
  },
  {
   "cell_type": "code",
   "execution_count": 5,
   "id": "41f831ec",
   "metadata": {
    "execution": {
     "iopub.execute_input": "2021-10-31T13:12:38.264309Z",
     "iopub.status.busy": "2021-10-31T13:12:38.263334Z",
     "iopub.status.idle": "2021-10-31T13:12:38.273416Z",
     "shell.execute_reply": "2021-10-31T13:12:38.272865Z",
     "shell.execute_reply.started": "2021-10-31T13:10:09.960606Z"
    },
    "papermill": {
     "duration": 0.034579,
     "end_time": "2021-10-31T13:12:38.273594",
     "exception": false,
     "start_time": "2021-10-31T13:12:38.239015",
     "status": "completed"
    },
    "tags": []
   },
   "outputs": [
    {
     "data": {
      "text/plain": [
       "('2007-01-31', '2020-01-31')"
      ]
     },
     "execution_count": 5,
     "metadata": {},
     "output_type": "execute_result"
    }
   ],
   "source": [
    "data_df['Date'].min(), data_df['Date'].max()"
   ]
  },
  {
   "cell_type": "code",
   "execution_count": 6,
   "id": "7fe7b075",
   "metadata": {
    "execution": {
     "iopub.execute_input": "2021-10-31T13:12:38.333269Z",
     "iopub.status.busy": "2021-10-31T13:12:38.332487Z",
     "iopub.status.idle": "2021-10-31T13:12:38.335683Z",
     "shell.execute_reply": "2021-10-31T13:12:38.336181Z",
     "shell.execute_reply.started": "2021-10-31T13:10:10.373117Z"
    },
    "papermill": {
     "duration": 0.04029,
     "end_time": "2021-10-31T13:12:38.336363",
     "exception": false,
     "start_time": "2021-10-31T13:12:38.296073",
     "status": "completed"
    },
    "tags": []
   },
   "outputs": [
    {
     "data": {
      "text/plain": [
       "((157, 9),\n",
       " Index(['Date', 'Overall Homeless', 'State', 'State_Name', 'unemploy_rate',\n",
       "        'HomeValueIndex', 'MHHI', 'Poverty_Rate', 'Min_Rent'],\n",
       "       dtype='object'))"
      ]
     },
     "execution_count": 6,
     "metadata": {},
     "output_type": "execute_result"
    }
   ],
   "source": [
    "tx_data = data_df[data_df['State'].isin([\"TX\"])]\n",
    "tx_data = tx_data.drop(columns=['employed_pop_rate', \n",
    "                                'Poverty_Count'])\n",
    "tx_data.loc[tx_data['Poverty_Rate'].isna(), 'Poverty_Rate'] = tx_pr['Poverty_Rate'].values\n",
    "tx_data.shape, tx_data.columns"
   ]
  },
  {
   "cell_type": "code",
   "execution_count": 7,
   "id": "de9c91dc",
   "metadata": {
    "execution": {
     "iopub.execute_input": "2021-10-31T13:12:38.397130Z",
     "iopub.status.busy": "2021-10-31T13:12:38.396077Z",
     "iopub.status.idle": "2021-10-31T13:12:38.398890Z",
     "shell.execute_reply": "2021-10-31T13:12:38.398282Z",
     "shell.execute_reply.started": "2021-10-31T13:10:10.798087Z"
    },
    "papermill": {
     "duration": 0.040399,
     "end_time": "2021-10-31T13:12:38.399036",
     "exception": false,
     "start_time": "2021-10-31T13:12:38.358637",
     "status": "completed"
    },
    "tags": []
   },
   "outputs": [],
   "source": [
    "tx_data['HomeValueIndex'] = (tx_data.groupby('State')['HomeValueIndex']\n",
    "                             .apply(lambda x:x.fillna(x.mean())))\n",
    "\n",
    "# tx_data['Poverty_Rate'] = (tx_data.groupby('State')['Poverty_Rate']\n",
    "#                              .apply(lambda x:x.fillna(x.mean())))\n",
    "\n",
    "tx_data['Date'] = pd.to_datetime(tx_data.Date)"
   ]
  },
  {
   "cell_type": "code",
   "execution_count": 8,
   "id": "9d0e927d",
   "metadata": {
    "execution": {
     "iopub.execute_input": "2021-10-31T13:12:38.451522Z",
     "iopub.status.busy": "2021-10-31T13:12:38.450498Z",
     "iopub.status.idle": "2021-10-31T13:12:38.455866Z",
     "shell.execute_reply": "2021-10-31T13:12:38.455211Z",
     "shell.execute_reply.started": "2021-10-31T13:10:11.248142Z"
    },
    "papermill": {
     "duration": 0.034347,
     "end_time": "2021-10-31T13:12:38.456008",
     "exception": false,
     "start_time": "2021-10-31T13:12:38.421661",
     "status": "completed"
    },
    "tags": []
   },
   "outputs": [
    {
     "data": {
      "text/plain": [
       "Date                 0\n",
       "Overall Homeless     0\n",
       "State                0\n",
       "State_Name           0\n",
       "unemploy_rate        0\n",
       "HomeValueIndex       0\n",
       "MHHI                12\n",
       "Poverty_Rate         0\n",
       "Min_Rent             0\n",
       "dtype: int64"
      ]
     },
     "execution_count": 8,
     "metadata": {},
     "output_type": "execute_result"
    }
   ],
   "source": [
    "tx_data.isna().sum()"
   ]
  },
  {
   "cell_type": "code",
   "execution_count": 9,
   "id": "ef915f36",
   "metadata": {
    "execution": {
     "iopub.execute_input": "2021-10-31T13:12:38.508362Z",
     "iopub.status.busy": "2021-10-31T13:12:38.507514Z",
     "iopub.status.idle": "2021-10-31T13:12:38.510136Z",
     "shell.execute_reply": "2021-10-31T13:12:38.509598Z",
     "shell.execute_reply.started": "2021-10-31T13:10:11.625451Z"
    },
    "papermill": {
     "duration": 0.031679,
     "end_time": "2021-10-31T13:12:38.510270",
     "exception": false,
     "start_time": "2021-10-31T13:12:38.478591",
     "status": "completed"
    },
    "tags": []
   },
   "outputs": [],
   "source": [
    "def forecast_accuracy(forecast, actual):\n",
    "    mape = np.mean(np.abs(forecast - actual)/np.abs(actual))  # MAPE\n",
    "    mae = np.mean(np.abs(forecast - actual))    # MAE\n",
    "    rmse = np.mean((forecast - actual)**2)**.5  # RMSE\n",
    "    corr = np.corrcoef(forecast, actual)[0,1]   # corr\n",
    "    return({'mape':mape, 'mae': mae, \n",
    "            'rmse':rmse, 'corr':corr})"
   ]
  },
  {
   "cell_type": "code",
   "execution_count": 10,
   "id": "37d1c080",
   "metadata": {
    "execution": {
     "iopub.execute_input": "2021-10-31T13:12:38.562090Z",
     "iopub.status.busy": "2021-10-31T13:12:38.561274Z",
     "iopub.status.idle": "2021-10-31T13:12:39.413846Z",
     "shell.execute_reply": "2021-10-31T13:12:39.414372Z",
     "shell.execute_reply.started": "2021-10-31T13:10:11.941030Z"
    },
    "papermill": {
     "duration": 0.881717,
     "end_time": "2021-10-31T13:12:39.414591",
     "exception": false,
     "start_time": "2021-10-31T13:12:38.532874",
     "status": "completed"
    },
    "tags": []
   },
   "outputs": [
    {
     "data": {
      "text/plain": [
       "((133, 6), (24, 6))"
      ]
     },
     "execution_count": 10,
     "metadata": {},
     "output_type": "execute_result"
    }
   ],
   "source": [
    "from sklearn.model_selection import TimeSeriesSplit\n",
    "tx_train = tx_data[tx_data['Date'] <= \"2018-01-31\"]\n",
    "tx_val = tx_data[tx_data['Date'] > \"2018-01-31\"]\n",
    "tx_train = tx_train.set_index('Date').select_dtypes([float, int])\n",
    "tx_val = tx_val.set_index('Date').select_dtypes([float, int])\n",
    "tx_train.shape, tx_val.shape"
   ]
  },
  {
   "cell_type": "code",
   "execution_count": 11,
   "id": "a176cdc1",
   "metadata": {
    "execution": {
     "iopub.execute_input": "2021-10-31T13:12:39.467080Z",
     "iopub.status.busy": "2021-10-31T13:12:39.466292Z",
     "iopub.status.idle": "2021-10-31T13:12:39.848381Z",
     "shell.execute_reply": "2021-10-31T13:12:39.847817Z",
     "shell.execute_reply.started": "2021-10-31T13:10:12.334779Z"
    },
    "papermill": {
     "duration": 0.411241,
     "end_time": "2021-10-31T13:12:39.848551",
     "exception": false,
     "start_time": "2021-10-31T13:12:39.437310",
     "status": "completed"
    },
    "tags": []
   },
   "outputs": [
    {
     "data": {
      "text/plain": [
       "((133, 7), (24, 6))"
      ]
     },
     "execution_count": 11,
     "metadata": {},
     "output_type": "execute_result"
    }
   ],
   "source": [
    "from fbprophet import Prophet\n",
    "\n",
    "ptx_train = tx_train.reset_index()\n",
    "ptx_val = tx_val.reset_index()\n",
    "\n",
    "ptx_train = ptx_train.rename(columns={'Date':\"ds\",'Overall Homeless':'y'})\n",
    "ptx_val = ptx_val.rename(columns={'Date':\"ds\",'Overall Homeless':'y'})\n",
    "\n",
    "y_val_true = ptx_val['y']\n",
    "ptx_val = ptx_val.drop(columns=['y'])\n",
    "ptx_train.shape, ptx_val.shape"
   ]
  },
  {
   "cell_type": "markdown",
   "id": "d3dc6614",
   "metadata": {
    "papermill": {
     "duration": 0.024084,
     "end_time": "2021-10-31T13:12:39.897207",
     "exception": false,
     "start_time": "2021-10-31T13:12:39.873123",
     "status": "completed"
    },
    "tags": []
   },
   "source": [
    "### Simple Forecast Homelessness"
   ]
  },
  {
   "cell_type": "code",
   "execution_count": 12,
   "id": "03fcdb96",
   "metadata": {
    "execution": {
     "iopub.execute_input": "2021-10-31T13:12:39.951135Z",
     "iopub.status.busy": "2021-10-31T13:12:39.950393Z",
     "iopub.status.idle": "2021-10-31T13:12:43.103280Z",
     "shell.execute_reply": "2021-10-31T13:12:43.102459Z",
     "shell.execute_reply.started": "2021-10-31T13:10:13.139127Z"
    },
    "papermill": {
     "duration": 3.181461,
     "end_time": "2021-10-31T13:12:43.103422",
     "exception": false,
     "start_time": "2021-10-31T13:12:39.921961",
     "status": "completed"
    },
    "tags": []
   },
   "outputs": [
    {
     "name": "stdout",
     "output_type": "stream",
     "text": [
      "Initial log joint probability = -2.29847\n",
      "\n",
      "\n",
      "\n",
      "    Iter      log prob        ||dx||      ||grad||       alpha      alpha0  # evals  Notes \n",
      "      96       462.443   0.000256594       196.336   1.727e-06       0.001      152  LS failed, Hessian reset \n",
      "      99       462.498   0.000499418       135.837           1           1      155   \n",
      "    Iter      log prob        ||dx||      ||grad||       alpha      alpha0  # evals  Notes \n",
      "     133       467.281   0.000212015       261.665   8.577e-07       0.001      240  LS failed, Hessian reset \n",
      "     199       473.901     0.0179056       359.399           1           1      319   \n",
      "    Iter      log prob        ||dx||      ||grad||       alpha      alpha0  # evals  Notes \n",
      "     299       485.497     0.0889606       574.546           1           1      434   \n",
      "    Iter      log prob        ||dx||      ||grad||       alpha      alpha0  # evals  Notes \n",
      "     399       503.173    0.00620163       375.119           1           1      550   \n",
      "    Iter      log prob        ||dx||      ||grad||       alpha      alpha0  # evals  Notes \n",
      "     499       512.035    0.00727483       414.794           1           1      663   \n",
      "    Iter      log prob        ||dx||      ||grad||       alpha      alpha0  # evals  Notes \n",
      "     599       523.414    0.00135914       245.659           1           1      777   \n",
      "    Iter      log prob        ||dx||      ||grad||       alpha      alpha0  # evals  Notes \n",
      "     686       526.004   1.72754e-05       133.119   4.775e-08       0.001      920  LS failed, Hessian reset \n",
      "     699       526.268   0.000524048       548.887           1           1      934   \n",
      "    Iter      log prob        ||dx||      ||grad||       alpha      alpha0  # evals  Notes \n",
      "     799        527.75   6.95634e-05       209.835           1           1     1048   \n",
      "    Iter      log prob        ||dx||      ||grad||       alpha      alpha0  # evals  Notes \n",
      "     899       528.675   2.59658e-05       149.332    5.14e-07       0.001     1216  LS failed, Hessian reset \n",
      "    Iter      log prob        ||dx||      ||grad||       alpha      alpha0  # evals  Notes \n",
      "     920       528.736     6.722e-06       76.5337   1.047e-07       0.001     1278  LS failed, Hessian reset \n",
      "     999       530.597    0.00144005       553.274           1           1     1367   \n",
      "    Iter      log prob        ||dx||      ||grad||       alpha      alpha0  # evals  Notes \n",
      "    1099       534.308    0.00126886       350.723           1           1     1482   \n",
      "    Iter      log prob        ||dx||      ||grad||       alpha      alpha0  # evals  Notes \n",
      "    1199       534.974   0.000123812       123.786           1           1     1599   \n",
      "    Iter      log prob        ||dx||      ||grad||       alpha      alpha0  # evals  Notes \n",
      "    1299       535.338   0.000282413       88.1376      0.8329      0.8329     1731   \n",
      "    Iter      log prob        ||dx||      ||grad||       alpha      alpha0  # evals  Notes \n",
      "    1399       535.747   0.000509194       109.384           1           1     1849   \n",
      "    Iter      log prob        ||dx||      ||grad||       alpha      alpha0  # evals  Notes \n",
      "    1401       535.749   9.97718e-06       123.705   9.966e-08       0.001     1892  LS failed, Hessian reset \n",
      "    1499       535.815   2.96042e-05       59.5118           1           1     2016   \n",
      "    Iter      log prob        ||dx||      ||grad||       alpha      alpha0  # evals  Notes \n",
      "    1599       535.932   0.000648941       261.397           1           1     2135   \n",
      "    Iter      log prob        ||dx||      ||grad||       alpha      alpha0  # evals  Notes \n",
      "    1699       536.033   3.11661e-05       60.9413      0.7532      0.7532     2259   \n",
      "    Iter      log prob        ||dx||      ||grad||       alpha      alpha0  # evals  Notes \n",
      "    1727       536.033   1.72186e-08       57.1484      0.2825           1     2309   \n",
      "Optimization terminated normally: \n",
      "  Convergence detected: relative gradient magnitude is below tolerance\n"
     ]
    },
    {
     "data": {
      "text/plain": [
       "{'mape': 0.014004870004872596,\n",
       " 'mae': 366.65246239568825,\n",
       " 'rmse': 390.0609482868666,\n",
       " 'corr': 0.9754618170359518}"
      ]
     },
     "execution_count": 12,
     "metadata": {},
     "output_type": "execute_result"
    }
   ],
   "source": [
    "# define the model\n",
    "m0 = Prophet()\n",
    "# fit the model\n",
    "m0.fit(ptx_train)\n",
    "print(\"\\n\\n\")\n",
    "# future \n",
    "future = m0.predict(ptx_val)\n",
    "forecast_accuracy(future['yhat'], y_val_true)"
   ]
  },
  {
   "cell_type": "markdown",
   "id": "0f7e34fd",
   "metadata": {
    "papermill": {
     "duration": 0.024505,
     "end_time": "2021-10-31T13:12:43.152145",
     "exception": false,
     "start_time": "2021-10-31T13:12:43.127640",
     "status": "completed"
    },
    "tags": []
   },
   "source": [
    "### Train adding 'unemploy_rate', 'HomeValueIndex', 'Poverty_Rate' as regressors"
   ]
  },
  {
   "cell_type": "code",
   "execution_count": 13,
   "id": "042ab4bc",
   "metadata": {
    "execution": {
     "iopub.execute_input": "2021-10-31T13:12:43.203408Z",
     "iopub.status.busy": "2021-10-31T13:12:43.202418Z",
     "iopub.status.idle": "2021-10-31T13:12:43.608040Z",
     "shell.execute_reply": "2021-10-31T13:12:43.608580Z",
     "shell.execute_reply.started": "2021-10-31T13:10:15.564627Z"
    },
    "papermill": {
     "duration": 0.432866,
     "end_time": "2021-10-31T13:12:43.608766",
     "exception": false,
     "start_time": "2021-10-31T13:12:43.175900",
     "status": "completed"
    },
    "tags": []
   },
   "outputs": [
    {
     "name": "stdout",
     "output_type": "stream",
     "text": [
      "Initial log joint probability = -2.29847\n"
     ]
    },
    {
     "data": {
      "text/plain": [
       "<fbprophet.forecaster.Prophet at 0x7f7a41025410>"
      ]
     },
     "execution_count": 13,
     "metadata": {},
     "output_type": "execute_result"
    },
    {
     "name": "stdout",
     "output_type": "stream",
     "text": [
      "    Iter      log prob        ||dx||      ||grad||       alpha      alpha0  # evals  Notes \n",
      "      99       467.259    0.00465266        1029.9           1           1      113   \n",
      "    Iter      log prob        ||dx||      ||grad||       alpha      alpha0  # evals  Notes \n",
      "     199       487.635    0.00102178       225.366           1           1      216   \n",
      "    Iter      log prob        ||dx||      ||grad||       alpha      alpha0  # evals  Notes \n",
      "     299       494.477   0.000265595       266.919      0.7384      0.7384      331   \n",
      "    Iter      log prob        ||dx||      ||grad||       alpha      alpha0  # evals  Notes \n",
      "     399        501.21    0.00968516       542.723           1           1      447   \n",
      "    Iter      log prob        ||dx||      ||grad||       alpha      alpha0  # evals  Notes \n",
      "     410       501.725   2.30011e-05       74.3483   1.872e-07       0.001      500  LS failed, Hessian reset \n",
      "     499       503.822   0.000866487        174.31           1           1      608   \n",
      "    Iter      log prob        ||dx||      ||grad||       alpha      alpha0  # evals  Notes \n",
      "     599        510.65   0.000740659       535.575      0.5185      0.5185      716   \n",
      "    Iter      log prob        ||dx||      ||grad||       alpha      alpha0  # evals  Notes \n",
      "     613       511.471   6.18184e-05       132.458   5.778e-07       0.001      772  LS failed, Hessian reset \n",
      "     699       514.698    0.00404907       912.001      0.9836      0.9836      869   \n",
      "    Iter      log prob        ||dx||      ||grad||       alpha      alpha0  # evals  Notes \n",
      "     799       530.089    0.00466193       1528.87           1           1      980   \n",
      "    Iter      log prob        ||dx||      ||grad||       alpha      alpha0  # evals  Notes \n",
      "     899       542.315    0.00179858       574.932      0.3364           1     1086   \n",
      "    Iter      log prob        ||dx||      ||grad||       alpha      alpha0  # evals  Notes \n",
      "     999       545.199    0.00139007       514.581      0.4997      0.4997     1199   \n",
      "    Iter      log prob        ||dx||      ||grad||       alpha      alpha0  # evals  Notes \n",
      "    1099        549.46     0.0026984       1193.49      0.5147      0.5147     1306   \n",
      "    Iter      log prob        ||dx||      ||grad||       alpha      alpha0  # evals  Notes \n",
      "    1199       551.596   0.000586834       372.188           1           1     1419   \n",
      "    Iter      log prob        ||dx||      ||grad||       alpha      alpha0  # evals  Notes \n",
      "    1299       552.338   0.000640227       332.198      0.7407      0.7407     1533   \n",
      "    Iter      log prob        ||dx||      ||grad||       alpha      alpha0  # evals  Notes \n",
      "    1353       552.872   1.24715e-05       128.374   1.363e-07       0.001     1639  LS failed, Hessian reset \n",
      "    1399       553.146   0.000152251       203.888      0.9242      0.9242     1693   \n",
      "    Iter      log prob        ||dx||      ||grad||       alpha      alpha0  # evals  Notes \n",
      "    1499       555.009   0.000312287        286.29           1           1     1804   \n",
      "    Iter      log prob        ||dx||      ||grad||       alpha      alpha0  # evals  Notes \n",
      "    1599       556.565   0.000252477       329.548           1           1     1905   \n",
      "    Iter      log prob        ||dx||      ||grad||       alpha      alpha0  # evals  Notes \n",
      "    1699       557.343   0.000120839       106.617       0.421           1     2020   \n",
      "    Iter      log prob        ||dx||      ||grad||       alpha      alpha0  # evals  Notes \n",
      "    1799       558.745    0.00131598       284.985           1           1     2145   \n",
      "    Iter      log prob        ||dx||      ||grad||       alpha      alpha0  # evals  Notes \n",
      "    1899       561.429   3.02265e-05        143.35           1           1     2254   \n",
      "    Iter      log prob        ||dx||      ||grad||       alpha      alpha0  # evals  Notes \n",
      "    1999       562.276   6.41833e-05       82.4948           1           1     2366   \n",
      "    Iter      log prob        ||dx||      ||grad||       alpha      alpha0  # evals  Notes \n",
      "    2099       562.734     0.0010072       353.567       0.998       0.998     2483   \n",
      "    Iter      log prob        ||dx||      ||grad||       alpha      alpha0  # evals  Notes \n",
      "    2199       563.629   1.18818e-05       102.763      0.8274      0.8274     2594   \n",
      "    Iter      log prob        ||dx||      ||grad||       alpha      alpha0  # evals  Notes \n",
      "    2214       563.711   6.56805e-06       116.953   7.209e-08       0.001     2652  LS failed, Hessian reset \n",
      "    2299       563.808   0.000185072       166.213      0.7037      0.7037     2751   \n",
      "    Iter      log prob        ||dx||      ||grad||       alpha      alpha0  # evals  Notes \n",
      "    2333       563.847   8.57928e-06        126.97   4.373e-08       0.001     2835  LS failed, Hessian reset \n",
      "    2399       563.897   2.20448e-05       145.243      0.5812      0.5812     2913   \n",
      "    Iter      log prob        ||dx||      ||grad||       alpha      alpha0  # evals  Notes \n",
      "    2499       564.172    0.00126557        177.41           1           1     3022   \n",
      "    Iter      log prob        ||dx||      ||grad||       alpha      alpha0  # evals  Notes \n",
      "    2599       564.346   1.13527e-05        97.151      0.7322      0.7322     3151   \n",
      "    Iter      log prob        ||dx||      ||grad||       alpha      alpha0  # evals  Notes \n",
      "    2607       564.361   8.39416e-06       178.496   2.304e-08       0.001     3205  LS failed, Hessian reset \n",
      "    2639       564.379   7.84246e-06       107.341   4.787e-08       0.001     3285  LS failed, Hessian reset \n",
      "    2687       564.406    1.2698e-05       312.731   5.139e-08       0.001     3391  LS failed, Hessian reset \n",
      "    2699       564.426   1.53369e-05        106.56           1           1     3404   \n",
      "    Iter      log prob        ||dx||      ||grad||       alpha      alpha0  # evals  Notes \n",
      "    2718       564.428   3.15303e-06       62.4467   6.154e-08       0.001     3470  LS failed, Hessian reset \n",
      "    2750       564.428   2.36758e-06       65.8907   3.622e-08       0.001     3557  LS failed, Hessian reset \n",
      "    2765       564.429   8.81272e-07       77.0822   1.564e-08       0.001     3625  LS failed, Hessian reset \n",
      "    2774       564.429    2.6845e-08        48.664      0.2766           1     3640   \n",
      "Optimization terminated normally: \n",
      "  Convergence detected: relative gradient magnitude is below tolerance\n"
     ]
    }
   ],
   "source": [
    "# define the model\n",
    "m = Prophet()\n",
    "\n",
    "# add regressors\n",
    "for col in ['unemploy_rate', 'HomeValueIndex', 'Poverty_Rate']:\n",
    "    m.add_regressor(col)\n",
    "\n",
    "# fit the model\n",
    "m.fit(ptx_train)"
   ]
  },
  {
   "cell_type": "code",
   "execution_count": 14,
   "id": "298e814b",
   "metadata": {
    "execution": {
     "iopub.execute_input": "2021-10-31T13:12:43.663179Z",
     "iopub.status.busy": "2021-10-31T13:12:43.662558Z",
     "iopub.status.idle": "2021-10-31T13:12:45.424293Z",
     "shell.execute_reply": "2021-10-31T13:12:45.424845Z",
     "shell.execute_reply.started": "2021-10-31T13:10:15.979380Z"
    },
    "papermill": {
     "duration": 1.790896,
     "end_time": "2021-10-31T13:12:45.425031",
     "exception": false,
     "start_time": "2021-10-31T13:12:43.634135",
     "status": "completed"
    },
    "tags": []
   },
   "outputs": [
    {
     "data": {
      "text/plain": [
       "((24, 28),\n",
       " Index(['ds', 'trend', 'yhat_lower', 'yhat_upper', 'trend_lower', 'trend_upper',\n",
       "        'HomeValueIndex', 'HomeValueIndex_lower', 'HomeValueIndex_upper',\n",
       "        'Poverty_Rate', 'Poverty_Rate_lower', 'Poverty_Rate_upper',\n",
       "        'additive_terms', 'additive_terms_lower', 'additive_terms_upper',\n",
       "        'extra_regressors_additive', 'extra_regressors_additive_lower',\n",
       "        'extra_regressors_additive_upper', 'unemploy_rate',\n",
       "        'unemploy_rate_lower', 'unemploy_rate_upper', 'yearly', 'yearly_lower',\n",
       "        'yearly_upper', 'multiplicative_terms', 'multiplicative_terms_lower',\n",
       "        'multiplicative_terms_upper', 'yhat'],\n",
       "       dtype='object'))"
      ]
     },
     "execution_count": 14,
     "metadata": {},
     "output_type": "execute_result"
    }
   ],
   "source": [
    "# define the period for which we want a prediction\n",
    "val_pred = m.predict(ptx_val)\n",
    "val_pred.shape, val_pred.columns"
   ]
  },
  {
   "cell_type": "code",
   "execution_count": 15,
   "id": "c2b1fb9f",
   "metadata": {
    "execution": {
     "iopub.execute_input": "2021-10-31T13:12:45.481808Z",
     "iopub.status.busy": "2021-10-31T13:12:45.481152Z",
     "iopub.status.idle": "2021-10-31T13:12:45.485491Z",
     "shell.execute_reply": "2021-10-31T13:12:45.486003Z",
     "shell.execute_reply.started": "2021-10-31T13:10:18.311349Z"
    },
    "papermill": {
     "duration": 0.035652,
     "end_time": "2021-10-31T13:12:45.486163",
     "exception": false,
     "start_time": "2021-10-31T13:12:45.450511",
     "status": "completed"
    },
    "tags": []
   },
   "outputs": [
    {
     "data": {
      "text/plain": [
       "{'mape': 0.01024946962810625,\n",
       " 'mae': 268.69001466408616,\n",
       " 'rmse': 299.82573122701996,\n",
       " 'corr': 0.9754420674515807}"
      ]
     },
     "execution_count": 15,
     "metadata": {},
     "output_type": "execute_result"
    }
   ],
   "source": [
    "forecast_accuracy(val_pred['yhat'], y_val_true)"
   ]
  },
  {
   "cell_type": "markdown",
   "id": "0ec0446f",
   "metadata": {
    "papermill": {
     "duration": 0.025323,
     "end_time": "2021-10-31T13:12:45.537140",
     "exception": false,
     "start_time": "2021-10-31T13:12:45.511817",
     "status": "completed"
    },
    "tags": []
   },
   "source": [
    "### Train on whole data (train + val)"
   ]
  },
  {
   "cell_type": "code",
   "execution_count": 16,
   "id": "26091003",
   "metadata": {
    "execution": {
     "iopub.execute_input": "2021-10-31T13:12:45.591624Z",
     "iopub.status.busy": "2021-10-31T13:12:45.590972Z",
     "iopub.status.idle": "2021-10-31T13:12:45.596198Z",
     "shell.execute_reply": "2021-10-31T13:12:45.596714Z",
     "shell.execute_reply.started": "2021-10-31T13:10:18.325428Z"
    },
    "papermill": {
     "duration": 0.034041,
     "end_time": "2021-10-31T13:12:45.596890",
     "exception": false,
     "start_time": "2021-10-31T13:12:45.562849",
     "status": "completed"
    },
    "tags": []
   },
   "outputs": [],
   "source": [
    "tx_data = tx_data.reset_index()\n",
    "tx_data = tx_data.rename(columns={'Date':\"ds\",'Overall Homeless':'y'})"
   ]
  },
  {
   "cell_type": "code",
   "execution_count": 17,
   "id": "53cab541",
   "metadata": {
    "execution": {
     "iopub.execute_input": "2021-10-31T13:12:45.651568Z",
     "iopub.status.busy": "2021-10-31T13:12:45.650856Z",
     "iopub.status.idle": "2021-10-31T13:12:46.426094Z",
     "shell.execute_reply": "2021-10-31T13:12:46.426676Z",
     "shell.execute_reply.started": "2021-10-31T13:10:18.341809Z"
    },
    "papermill": {
     "duration": 0.804343,
     "end_time": "2021-10-31T13:12:46.426857",
     "exception": false,
     "start_time": "2021-10-31T13:12:45.622514",
     "status": "completed"
    },
    "tags": []
   },
   "outputs": [
    {
     "name": "stdout",
     "output_type": "stream",
     "text": [
      "Initial log joint probability = -2.89265\n"
     ]
    },
    {
     "data": {
      "text/plain": [
       "<fbprophet.forecaster.Prophet at 0x7f7a4056ad90>"
      ]
     },
     "execution_count": 17,
     "metadata": {},
     "output_type": "execute_result"
    },
    {
     "name": "stdout",
     "output_type": "stream",
     "text": [
      "    Iter      log prob        ||dx||      ||grad||       alpha      alpha0  # evals  Notes \n",
      "      99       555.964    0.00168672       413.585           1           1      114   \n",
      "    Iter      log prob        ||dx||      ||grad||       alpha      alpha0  # evals  Notes \n",
      "     199       572.135   0.000182794       236.283      0.8669      0.8669      228   \n",
      "    Iter      log prob        ||dx||      ||grad||       alpha      alpha0  # evals  Notes \n",
      "     299       583.608   0.000372169        306.74       0.123           1      339   \n",
      "    Iter      log prob        ||dx||      ||grad||       alpha      alpha0  # evals  Notes \n",
      "     399       592.801   0.000702559       845.847           1           1      450   \n",
      "    Iter      log prob        ||dx||      ||grad||       alpha      alpha0  # evals  Notes \n",
      "     499       598.206   0.000782118       170.235           1           1      562   \n",
      "    Iter      log prob        ||dx||      ||grad||       alpha      alpha0  # evals  Notes \n",
      "     599       603.323    0.00155718       294.544           1           1      673   \n",
      "    Iter      log prob        ||dx||      ||grad||       alpha      alpha0  # evals  Notes \n",
      "     699       612.153    0.00291171       478.548           1           1      783   \n",
      "    Iter      log prob        ||dx||      ||grad||       alpha      alpha0  # evals  Notes \n",
      "     799       628.227   0.000685984       611.028        0.97        0.97      893   \n",
      "    Iter      log prob        ||dx||      ||grad||       alpha      alpha0  # evals  Notes \n",
      "     899       633.387    0.00104001       407.362           1           1     1003   \n",
      "    Iter      log prob        ||dx||      ||grad||       alpha      alpha0  # evals  Notes \n",
      "     999        636.89    0.00340844       350.762           1           1     1118   \n",
      "    Iter      log prob        ||dx||      ||grad||       alpha      alpha0  # evals  Notes \n",
      "    1099       643.928    0.00171081       875.582           1           1     1229   \n",
      "    Iter      log prob        ||dx||      ||grad||       alpha      alpha0  # evals  Notes \n",
      "    1199       646.195   0.000531714       516.499      0.4718           1     1342   \n",
      "    Iter      log prob        ||dx||      ||grad||       alpha      alpha0  # evals  Notes \n",
      "    1299       648.463   0.000511106       385.493           1           1     1450   \n",
      "    Iter      log prob        ||dx||      ||grad||       alpha      alpha0  # evals  Notes \n",
      "    1399       654.004   4.60502e-05       546.605      0.3918      0.3918     1555   \n",
      "    Iter      log prob        ||dx||      ||grad||       alpha      alpha0  # evals  Notes \n",
      "    1499        657.61   0.000111956       168.092           1           1     1664   \n",
      "    Iter      log prob        ||dx||      ||grad||       alpha      alpha0  # evals  Notes \n",
      "    1548       659.045   5.55703e-06       156.813   3.051e-08       0.001     1765  LS failed, Hessian reset \n",
      "    1599       659.553    0.00593781       1008.57           1           1     1818   \n",
      "    Iter      log prob        ||dx||      ||grad||       alpha      alpha0  # evals  Notes \n",
      "    1699       660.221   0.000830619       379.664           1           1     1925   \n",
      "    Iter      log prob        ||dx||      ||grad||       alpha      alpha0  # evals  Notes \n",
      "    1799       661.845   0.000494091       212.333           1           1     2036   \n",
      "    Iter      log prob        ||dx||      ||grad||       alpha      alpha0  # evals  Notes \n",
      "    1807       661.968   2.31401e-05       374.171   1.702e-08       0.001     2084  LS failed, Hessian reset \n",
      "    1899       662.896   0.000208578        634.79           1           1     2186   \n",
      "    Iter      log prob        ||dx||      ||grad||       alpha      alpha0  # evals  Notes \n",
      "    1999       663.135   8.00105e-05       193.452           1           1     2296   \n",
      "    Iter      log prob        ||dx||      ||grad||       alpha      alpha0  # evals  Notes \n",
      "    2099       663.392    1.8742e-05        185.96      0.1493      0.8231     2412   \n",
      "    Iter      log prob        ||dx||      ||grad||       alpha      alpha0  # evals  Notes \n",
      "    2199       664.107    0.00219016       162.026           1           1     2525   \n",
      "    Iter      log prob        ||dx||      ||grad||       alpha      alpha0  # evals  Notes \n",
      "    2299       664.366   1.97815e-05       146.944      0.7369      0.7369     2637   \n",
      "    Iter      log prob        ||dx||      ||grad||       alpha      alpha0  # evals  Notes \n",
      "    2399       664.712   0.000148984       274.813      0.7944      0.7944     2748   \n",
      "    Iter      log prob        ||dx||      ||grad||       alpha      alpha0  # evals  Notes \n",
      "    2476       664.931   9.41179e-06        180.04   7.127e-08       0.001     2879  LS failed, Hessian reset \n",
      "    2499       664.949    6.7151e-05       338.875     0.07162           1     2906   \n",
      "    Iter      log prob        ||dx||      ||grad||       alpha      alpha0  # evals  Notes \n",
      "    2599       665.279   0.000438782       516.162           1           1     3023   \n",
      "    Iter      log prob        ||dx||      ||grad||       alpha      alpha0  # evals  Notes \n",
      "    2699       666.204   0.000501635        334.71      0.8148      0.8148     3131   \n",
      "    Iter      log prob        ||dx||      ||grad||       alpha      alpha0  # evals  Notes \n",
      "    2799       666.472   8.58407e-06       61.1886      0.7349      0.7349     3243   \n",
      "    Iter      log prob        ||dx||      ||grad||       alpha      alpha0  # evals  Notes \n",
      "    2899       666.651    0.00032536       248.079           1           1     3357   \n",
      "    Iter      log prob        ||dx||      ||grad||       alpha      alpha0  # evals  Notes \n",
      "    2999       666.895   9.76873e-06       162.361      0.2827      0.2827     3476   \n",
      "    Iter      log prob        ||dx||      ||grad||       alpha      alpha0  # evals  Notes \n",
      "    3029       666.939   6.17163e-06       172.626   4.994e-08       0.001     3553  LS failed, Hessian reset \n",
      "    3099       666.991   0.000161711       144.056           1           1     3629   \n",
      "    Iter      log prob        ||dx||      ||grad||       alpha      alpha0  # evals  Notes \n",
      "    3115       666.998   4.04112e-06       81.4954   7.132e-08       0.001     3692  LS failed, Hessian reset \n",
      "    3199       667.071   0.000704168        170.56           1           1     3796   \n",
      "    Iter      log prob        ||dx||      ||grad||       alpha      alpha0  # evals  Notes \n",
      "    3299       667.467    2.4735e-05       200.641       0.464       0.464     3910   \n",
      "    Iter      log prob        ||dx||      ||grad||       alpha      alpha0  # evals  Notes \n",
      "    3337       667.547   1.85396e-06       57.3727   1.904e-08       0.001     3998  LS failed, Hessian reset \n",
      "    3399       667.597   1.54659e-05       227.548      0.2246      0.2246     4068   \n",
      "    Iter      log prob        ||dx||      ||grad||       alpha      alpha0  # evals  Notes \n",
      "    3456       667.663   5.60764e-06       118.059    6.51e-08       0.001     4178  LS failed, Hessian reset \n",
      "    3499       667.708   7.31602e-06       86.2548      0.1233           1     4233   \n",
      "    Iter      log prob        ||dx||      ||grad||       alpha      alpha0  # evals  Notes \n",
      "    3556       667.736   7.88265e-06       112.909    1.85e-07       0.001     4342  LS failed, Hessian reset \n",
      "    3599       667.767   0.000137301       91.8023           1           1     4392   \n",
      "    Iter      log prob        ||dx||      ||grad||       alpha      alpha0  # evals  Notes \n",
      "    3684       667.818    6.4842e-07       46.2169    1.31e-08       0.001     4540  LS failed, Hessian reset \n",
      "    3699       667.818   1.45706e-05       66.1361           1           1     4557   \n",
      "    Iter      log prob        ||dx||      ||grad||       alpha      alpha0  # evals  Notes \n",
      "    3799       667.981    9.1751e-06       69.6614      0.3447           1     4681   \n",
      "    Iter      log prob        ||dx||      ||grad||       alpha      alpha0  # evals  Notes \n",
      "    3832       667.994    2.4404e-06       72.5691   1.759e-08       0.001     4758  LS failed, Hessian reset \n",
      "    3899       668.038    7.4579e-06       58.8676      0.3148      0.3148     4833   \n",
      "    Iter      log prob        ||dx||      ||grad||       alpha      alpha0  # evals  Notes \n",
      "    3970       668.218   1.47319e-06       61.1464   3.533e-08       0.001     4957  LS failed, Hessian reset \n",
      "    3999       668.241   4.64407e-06       70.3862        0.57        0.57     4989   \n",
      "    Iter      log prob        ||dx||      ||grad||       alpha      alpha0  # evals  Notes \n",
      "    4099       668.309   4.19387e-05       170.016      0.7703      0.7703     5102   \n",
      "    Iter      log prob        ||dx||      ||grad||       alpha      alpha0  # evals  Notes \n",
      "    4199       669.058   5.19188e-05       467.599      0.1949           1     5208   \n",
      "    Iter      log prob        ||dx||      ||grad||       alpha      alpha0  # evals  Notes \n",
      "    4244       669.178   1.43753e-06       46.0396   1.708e-08       0.001     5306  LS failed, Hessian reset \n",
      "    4296       669.196   4.63633e-06       154.759   2.229e-08       0.001     5422  LS failed, Hessian reset \n",
      "    4299       669.199   1.91094e-05       83.7241           1           1     5425   \n",
      "    Iter      log prob        ||dx||      ||grad||       alpha      alpha0  # evals  Notes \n",
      "    4399       669.259   1.33735e-05       195.504      0.5814      0.5814     5542   \n",
      "    Iter      log prob        ||dx||      ||grad||       alpha      alpha0  # evals  Notes \n",
      "    4499       669.314   0.000113117       105.006      0.7069      0.7069     5653   \n",
      "    Iter      log prob        ||dx||      ||grad||       alpha      alpha0  # evals  Notes \n",
      "    4599       669.683   0.000109112       283.026           1           1     5760   \n",
      "    Iter      log prob        ||dx||      ||grad||       alpha      alpha0  # evals  Notes \n",
      "    4635        669.73   3.53205e-06       74.3169   3.675e-08       0.001     5848  LS failed, Hessian reset \n",
      "    4699       669.753   0.000567974       301.028           1           1     5925   \n",
      "    Iter      log prob        ||d"
     ]
    }
   ],
   "source": [
    "# define the model\n",
    "m = Prophet()\n",
    "\n",
    "# add regressors\n",
    "for col in ['unemploy_rate', 'HomeValueIndex', 'Poverty_Rate']:\n",
    "    m.add_regressor(col)\n",
    "\n",
    "# fit the model\n",
    "m.fit(tx_data)"
   ]
  },
  {
   "cell_type": "code",
   "execution_count": 18,
   "id": "966613f5",
   "metadata": {
    "execution": {
     "iopub.execute_input": "2021-10-31T13:12:46.485858Z",
     "iopub.status.busy": "2021-10-31T13:12:46.485111Z",
     "iopub.status.idle": "2021-10-31T13:12:48.112934Z",
     "shell.execute_reply": "2021-10-31T13:12:48.113444Z",
     "shell.execute_reply.started": "2021-10-31T13:10:19.265176Z"
    },
    "papermill": {
     "duration": 1.658827,
     "end_time": "2021-10-31T13:12:48.113616",
     "exception": false,
     "start_time": "2021-10-31T13:12:46.454789",
     "status": "completed"
    },
    "tags": []
   },
   "outputs": [
    {
     "name": "stdout",
     "output_type": "stream",
     "text": [
      "x||      ||grad||       alpha      alpha0  # evals  Notes \n",
      "    4709       669.759    2.4959e-06       82.3994   2.271e-08       0.001     5996  LS failed, Hessian reset \n",
      "    4799       669.777    1.3307e-05       48.1955           1           1     6103   \n",
      "    Iter      log prob        ||dx||      ||grad||       alpha      alpha0  # evals  Notes \n",
      "    4816       669.778   2.36935e-06       102.083   3.182e-08       0.001     6172  LS failed, Hessian reset \n",
      "    4899       669.799   0.000215945       180.109           1           1     6266   \n",
      "    Iter      log prob        ||dx||      ||grad||       alpha      alpha0  # evals  Notes \n",
      "    4999       670.481    0.00214545       503.546      0.9586      0.9586     6373   \n",
      "    Iter      log prob        ||dx||      ||grad||       alpha      alpha0  # evals  Notes \n",
      "    5004       670.492   5.02922e-06       188.698   2.876e-08       0.001     6430  LS failed, Hessian reset \n",
      "    5099        670.97    0.00018037       203.776           1           1     6531   \n",
      "    Iter      log prob        ||dx||      ||grad||       alpha      alpha0  # evals  Notes \n",
      "    5199       671.179   3.52555e-05       165.131      0.1798           1     6642   \n",
      "    Iter      log prob        ||dx||      ||grad||       alpha      alpha0  # evals  Notes \n",
      "    5299       671.278   5.91599e-05       138.025      0.8642      0.8642     6762   \n",
      "    Iter      log prob        ||dx||      ||grad||       alpha      alpha0  # evals  Notes \n",
      "    5399       671.313    2.6015e-05       303.165      0.3482      0.3482     6892   \n",
      "    Iter      log prob        ||dx||      ||grad||       alpha      alpha0  # evals  Notes \n",
      "    5499        671.35   0.000202972       131.742           1           1     7003   \n",
      "    Iter      log prob        ||dx||      ||grad||       alpha      alpha0  # evals  Notes \n",
      "    5524       671.357   1.69487e-06       70.9904     1.9e-08       0.001     7088  LS failed, Hessian reset \n",
      "    5599       671.379   1.98066e-05       63.0916           1           1     7180   \n",
      "    Iter      log prob        ||dx||      ||grad||       alpha      alpha0  # evals  Notes \n",
      "    5617       671.379   1.18757e-06        69.633   2.419e-08       0.001     7242  LS failed, Hessian reset \n",
      "    5658       671.382   2.10403e-06       81.7624   1.597e-08       0.001     7340  LS failed, Hessian reset \n",
      "    5699       671.383    7.4647e-07       34.5932   1.194e-08       0.001     7443  LS failed, Hessian reset \n",
      "    Iter      log prob        ||dx||      ||grad||       alpha      alpha0  # evals  Notes \n",
      "    5704       671.383   8.64107e-08       40.0099           1           1     7453   \n",
      "Optimization terminated normally: \n",
      "  Convergence detected: relative gradient magnitude is below tolerance\n"
     ]
    },
    {
     "data": {
      "text/plain": [
       "((21, 28),\n",
       " Index(['ds', 'trend', 'yhat_lower', 'yhat_upper', 'trend_lower', 'trend_upper',\n",
       "        'HomeValueIndex', 'HomeValueIndex_lower', 'HomeValueIndex_upper',\n",
       "        'Poverty_Rate', 'Poverty_Rate_lower', 'Poverty_Rate_upper',\n",
       "        'additive_terms', 'additive_terms_lower', 'additive_terms_upper',\n",
       "        'extra_regressors_additive', 'extra_regressors_additive_lower',\n",
       "        'extra_regressors_additive_upper', 'unemploy_rate',\n",
       "        'unemploy_rate_lower', 'unemploy_rate_upper', 'yearly', 'yearly_lower',\n",
       "        'yearly_upper', 'multiplicative_terms', 'multiplicative_terms_lower',\n",
       "        'multiplicative_terms_upper', 'yhat'],\n",
       "       dtype='object'))"
      ]
     },
     "execution_count": 18,
     "metadata": {},
     "output_type": "execute_result"
    }
   ],
   "source": [
    "### forecast for 2020 & 2021\n",
    "future_forecasts = m.predict(future_df)\n",
    "future_forecasts.shape, future_forecasts.columns"
   ]
  },
  {
   "cell_type": "code",
   "execution_count": 19,
   "id": "120e4060",
   "metadata": {
    "execution": {
     "iopub.execute_input": "2021-10-31T13:12:48.175328Z",
     "iopub.status.busy": "2021-10-31T13:12:48.174693Z",
     "iopub.status.idle": "2021-10-31T13:12:48.181095Z",
     "shell.execute_reply": "2021-10-31T13:12:48.181596Z",
     "shell.execute_reply.started": "2021-10-31T13:10:21.324262Z"
    },
    "papermill": {
     "duration": 0.040596,
     "end_time": "2021-10-31T13:12:48.181855",
     "exception": false,
     "start_time": "2021-10-31T13:12:48.141259",
     "status": "completed"
    },
    "tags": []
   },
   "outputs": [],
   "source": [
    "future_forecasts.to_csv(\"homelessness_forecasts.csv\", index=False)"
   ]
  },
  {
   "cell_type": "code",
   "execution_count": 20,
   "id": "785a03f9",
   "metadata": {
    "execution": {
     "iopub.execute_input": "2021-10-31T13:12:48.243731Z",
     "iopub.status.busy": "2021-10-31T13:12:48.242729Z",
     "iopub.status.idle": "2021-10-31T13:12:48.246698Z",
     "shell.execute_reply": "2021-10-31T13:12:48.247225Z",
     "shell.execute_reply.started": "2021-10-31T13:10:21.335909Z"
    },
    "papermill": {
     "duration": 0.036841,
     "end_time": "2021-10-31T13:12:48.247381",
     "exception": false,
     "start_time": "2021-10-31T13:12:48.210540",
     "status": "completed"
    },
    "tags": []
   },
   "outputs": [
    {
     "data": {
      "text/html": [
       "./<br>\n",
       "&nbsp;&nbsp;<a href='./homelessness_forecasts.csv' target='_blank'>homelessness_forecasts.csv</a><br>\n",
       "&nbsp;&nbsp;<a href='./__notebook__.ipynb' target='_blank'>__notebook__.ipynb</a><br>"
      ],
      "text/plain": [
       "./\n",
       "  homelessness_forecasts.csv\n",
       "  __notebook__.ipynb"
      ]
     },
     "execution_count": 20,
     "metadata": {},
     "output_type": "execute_result"
    }
   ],
   "source": [
    "from IPython.display import FileLinks\n",
    "FileLinks(\".\")"
   ]
  },
  {
   "cell_type": "code",
   "execution_count": 21,
   "id": "d62bf69f",
   "metadata": {
    "execution": {
     "iopub.execute_input": "2021-10-31T13:12:48.307301Z",
     "iopub.status.busy": "2021-10-31T13:12:48.306357Z",
     "iopub.status.idle": "2021-10-31T13:12:48.325997Z",
     "shell.execute_reply": "2021-10-31T13:12:48.326506Z",
     "shell.execute_reply.started": "2021-10-31T13:11:20.869629Z"
    },
    "papermill": {
     "duration": 0.050908,
     "end_time": "2021-10-31T13:12:48.326674",
     "exception": false,
     "start_time": "2021-10-31T13:12:48.275766",
     "status": "completed"
    },
    "tags": []
   },
   "outputs": [
    {
     "data": {
      "text/html": [
       "<div>\n",
       "<style scoped>\n",
       "    .dataframe tbody tr th:only-of-type {\n",
       "        vertical-align: middle;\n",
       "    }\n",
       "\n",
       "    .dataframe tbody tr th {\n",
       "        vertical-align: top;\n",
       "    }\n",
       "\n",
       "    .dataframe thead th {\n",
       "        text-align: right;\n",
       "    }\n",
       "</style>\n",
       "<table border=\"1\" class=\"dataframe\">\n",
       "  <thead>\n",
       "    <tr style=\"text-align: right;\">\n",
       "      <th></th>\n",
       "      <th>index</th>\n",
       "      <th>ds</th>\n",
       "      <th>y</th>\n",
       "      <th>State</th>\n",
       "      <th>State_Name</th>\n",
       "      <th>unemploy_rate</th>\n",
       "      <th>HomeValueIndex</th>\n",
       "      <th>MHHI</th>\n",
       "      <th>Poverty_Rate</th>\n",
       "      <th>Min_Rent</th>\n",
       "    </tr>\n",
       "  </thead>\n",
       "  <tbody>\n",
       "    <tr>\n",
       "      <th>152</th>\n",
       "      <td>6903</td>\n",
       "      <td>2019-09-30</td>\n",
       "      <td>26764.0</td>\n",
       "      <td>TX</td>\n",
       "      <td>Texas</td>\n",
       "      <td>3.5</td>\n",
       "      <td>136261.0</td>\n",
       "      <td>NaN</td>\n",
       "      <td>13.663371</td>\n",
       "      <td>606.0</td>\n",
       "    </tr>\n",
       "    <tr>\n",
       "      <th>153</th>\n",
       "      <td>6904</td>\n",
       "      <td>2019-10-31</td>\n",
       "      <td>26881.0</td>\n",
       "      <td>TX</td>\n",
       "      <td>Texas</td>\n",
       "      <td>3.5</td>\n",
       "      <td>136634.0</td>\n",
       "      <td>NaN</td>\n",
       "      <td>13.585856</td>\n",
       "      <td>606.0</td>\n",
       "    </tr>\n",
       "    <tr>\n",
       "      <th>154</th>\n",
       "      <td>6905</td>\n",
       "      <td>2019-11-30</td>\n",
       "      <td>26994.0</td>\n",
       "      <td>TX</td>\n",
       "      <td>Texas</td>\n",
       "      <td>3.5</td>\n",
       "      <td>135749.0</td>\n",
       "      <td>NaN</td>\n",
       "      <td>13.623926</td>\n",
       "      <td>607.0</td>\n",
       "    </tr>\n",
       "    <tr>\n",
       "      <th>155</th>\n",
       "      <td>6906</td>\n",
       "      <td>2019-12-31</td>\n",
       "      <td>27112.0</td>\n",
       "      <td>TX</td>\n",
       "      <td>Texas</td>\n",
       "      <td>3.5</td>\n",
       "      <td>135241.5</td>\n",
       "      <td>NaN</td>\n",
       "      <td>13.613581</td>\n",
       "      <td>607.0</td>\n",
       "    </tr>\n",
       "    <tr>\n",
       "      <th>156</th>\n",
       "      <td>6907</td>\n",
       "      <td>2020-01-31</td>\n",
       "      <td>27229.0</td>\n",
       "      <td>TX</td>\n",
       "      <td>Texas</td>\n",
       "      <td>3.6</td>\n",
       "      <td>135487.0</td>\n",
       "      <td>NaN</td>\n",
       "      <td>13.521736</td>\n",
       "      <td>608.0</td>\n",
       "    </tr>\n",
       "  </tbody>\n",
       "</table>\n",
       "</div>"
      ],
      "text/plain": [
       "     index         ds        y State State_Name  unemploy_rate  \\\n",
       "152   6903 2019-09-30  26764.0    TX      Texas            3.5   \n",
       "153   6904 2019-10-31  26881.0    TX      Texas            3.5   \n",
       "154   6905 2019-11-30  26994.0    TX      Texas            3.5   \n",
       "155   6906 2019-12-31  27112.0    TX      Texas            3.5   \n",
       "156   6907 2020-01-31  27229.0    TX      Texas            3.6   \n",
       "\n",
       "     HomeValueIndex  MHHI  Poverty_Rate  Min_Rent  \n",
       "152        136261.0   NaN     13.663371     606.0  \n",
       "153        136634.0   NaN     13.585856     606.0  \n",
       "154        135749.0   NaN     13.623926     607.0  \n",
       "155        135241.5   NaN     13.613581     607.0  \n",
       "156        135487.0   NaN     13.521736     608.0  "
      ]
     },
     "execution_count": 21,
     "metadata": {},
     "output_type": "execute_result"
    }
   ],
   "source": [
    "tx_data.tail()"
   ]
  },
  {
   "cell_type": "code",
   "execution_count": 22,
   "id": "1995bf06",
   "metadata": {
    "execution": {
     "iopub.execute_input": "2021-10-31T13:12:48.387399Z",
     "iopub.status.busy": "2021-10-31T13:12:48.386470Z",
     "iopub.status.idle": "2021-10-31T13:12:48.397083Z",
     "shell.execute_reply": "2021-10-31T13:12:48.397598Z",
     "shell.execute_reply.started": "2021-10-31T13:12:06.172046Z"
    },
    "papermill": {
     "duration": 0.042706,
     "end_time": "2021-10-31T13:12:48.397769",
     "exception": false,
     "start_time": "2021-10-31T13:12:48.355063",
     "status": "completed"
    },
    "tags": []
   },
   "outputs": [
    {
     "data": {
      "text/html": [
       "<div>\n",
       "<style scoped>\n",
       "    .dataframe tbody tr th:only-of-type {\n",
       "        vertical-align: middle;\n",
       "    }\n",
       "\n",
       "    .dataframe tbody tr th {\n",
       "        vertical-align: top;\n",
       "    }\n",
       "\n",
       "    .dataframe thead th {\n",
       "        text-align: right;\n",
       "    }\n",
       "</style>\n",
       "<table border=\"1\" class=\"dataframe\">\n",
       "  <thead>\n",
       "    <tr style=\"text-align: right;\">\n",
       "      <th></th>\n",
       "      <th>ds</th>\n",
       "      <th>yhat</th>\n",
       "    </tr>\n",
       "  </thead>\n",
       "  <tbody>\n",
       "    <tr>\n",
       "      <th>16</th>\n",
       "      <td>2021-05-31</td>\n",
       "      <td>27873.043125</td>\n",
       "    </tr>\n",
       "    <tr>\n",
       "      <th>17</th>\n",
       "      <td>2021-06-30</td>\n",
       "      <td>27983.853225</td>\n",
       "    </tr>\n",
       "    <tr>\n",
       "      <th>18</th>\n",
       "      <td>2021-07-31</td>\n",
       "      <td>28116.263833</td>\n",
       "    </tr>\n",
       "    <tr>\n",
       "      <th>19</th>\n",
       "      <td>2021-08-31</td>\n",
       "      <td>28231.662236</td>\n",
       "    </tr>\n",
       "    <tr>\n",
       "      <th>20</th>\n",
       "      <td>2021-09-30</td>\n",
       "      <td>27998.267000</td>\n",
       "    </tr>\n",
       "  </tbody>\n",
       "</table>\n",
       "</div>"
      ],
      "text/plain": [
       "           ds          yhat\n",
       "16 2021-05-31  27873.043125\n",
       "17 2021-06-30  27983.853225\n",
       "18 2021-07-31  28116.263833\n",
       "19 2021-08-31  28231.662236\n",
       "20 2021-09-30  27998.267000"
      ]
     },
     "execution_count": 22,
     "metadata": {},
     "output_type": "execute_result"
    }
   ],
   "source": [
    "future_forecasts[['ds', 'yhat']].tail()"
   ]
  }
 ],
 "metadata": {
  "kernelspec": {
   "display_name": "Python 3",
   "language": "python",
   "name": "python3"
  },
  "language_info": {
   "codemirror_mode": {
    "name": "ipython",
    "version": 3
   },
   "file_extension": ".py",
   "mimetype": "text/x-python",
   "name": "python",
   "nbconvert_exporter": "python",
   "pygments_lexer": "ipython3",
   "version": "3.7.10"
  },
  "papermill": {
   "default_parameters": {},
   "duration": 20.4816,
   "end_time": "2021-10-31T13:12:49.136512",
   "environment_variables": {},
   "exception": null,
   "input_path": "__notebook__.ipynb",
   "output_path": "__notebook__.ipynb",
   "parameters": {},
   "start_time": "2021-10-31T13:12:28.654912",
   "version": "2.3.3"
  }
 },
 "nbformat": 4,
 "nbformat_minor": 5
}
