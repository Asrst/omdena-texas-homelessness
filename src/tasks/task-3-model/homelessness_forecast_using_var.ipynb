{
 "cells": [
  {
   "cell_type": "code",
   "execution_count": 1,
   "id": "76602d46",
   "metadata": {
    "_cell_guid": "b1076dfc-b9ad-4769-8c92-a6c4dae69d19",
    "_uuid": "8f2839f25d086af736a60e9eeb907d3b93b6e0e5",
    "execution": {
     "iopub.execute_input": "2021-10-30T17:50:23.506690Z",
     "iopub.status.busy": "2021-10-30T17:50:23.505437Z",
     "iopub.status.idle": "2021-10-30T17:50:23.531041Z",
     "shell.execute_reply": "2021-10-30T17:50:23.531604Z",
     "shell.execute_reply.started": "2021-10-30T17:48:53.382641Z"
    },
    "papermill": {
     "duration": 0.050008,
     "end_time": "2021-10-30T17:50:23.531976",
     "exception": false,
     "start_time": "2021-10-30T17:50:23.481968",
     "status": "completed"
    },
    "tags": []
   },
   "outputs": [
    {
     "name": "stdout",
     "output_type": "stream",
     "text": [
      "/kaggle/input/homelessness-data-collection/zillow_house_prices.csv\n",
      "/kaggle/input/homelessness-data-collection/pit_data_interpolated.csv\n",
      "/kaggle/input/homelessness-data-collection/yearly_employment_rates.csv\n",
      "/kaggle/input/homelessness-data-collection/__results__.html\n",
      "/kaggle/input/homelessness-data-collection/zillow_home_price_index.csv\n",
      "/kaggle/input/homelessness-data-collection/unified_data.csv\n",
      "/kaggle/input/homelessness-data-collection/census_poverty_income.csv\n",
      "/kaggle/input/homelessness-data-collection/__notebook__.ipynb\n",
      "/kaggle/input/homelessness-data-collection/state_abbrevations.csv\n",
      "/kaggle/input/homelessness-data-collection/__output__.json\n",
      "/kaggle/input/homelessness-data-collection/yearly_house_rents.csv\n",
      "/kaggle/input/homelessness-data-collection/custom.css\n"
     ]
    }
   ],
   "source": [
    "import numpy as np # linear algebra\n",
    "import pandas as pd # data processing, CSV file I/O (e.g. pd.read_csv)\n",
    "import os\n",
    "for dirname, _, filenames in os.walk('/kaggle/input'):\n",
    "    for filename in filenames:\n",
    "        print(os.path.join(dirname, filename))"
   ]
  },
  {
   "cell_type": "code",
   "execution_count": 2,
   "id": "50575187",
   "metadata": {
    "execution": {
     "iopub.execute_input": "2021-10-30T17:50:23.569655Z",
     "iopub.status.busy": "2021-10-30T17:50:23.568930Z",
     "iopub.status.idle": "2021-10-30T17:50:23.617547Z",
     "shell.execute_reply": "2021-10-30T17:50:23.618040Z",
     "shell.execute_reply.started": "2021-10-30T17:48:53.418419Z"
    },
    "papermill": {
     "duration": 0.068248,
     "end_time": "2021-10-30T17:50:23.618227",
     "exception": false,
     "start_time": "2021-10-30T17:50:23.549979",
     "status": "completed"
    },
    "tags": []
   },
   "outputs": [
    {
     "data": {
      "text/plain": [
       "((8007, 11),\n",
       " Index(['Date', 'Overall Homeless', 'State', 'State_Name', 'unemploy_rate',\n",
       "        'employed_pop_rate', 'HomeValueIndex', 'MHHI', 'Poverty_Count',\n",
       "        'Poverty_Rate', 'Min_Rent'],\n",
       "       dtype='object'))"
      ]
     },
     "execution_count": 2,
     "metadata": {},
     "output_type": "execute_result"
    }
   ],
   "source": [
    "DATA_DIR = \"/kaggle/input/homelessness-data-collection\"\n",
    "filepath = f\"{DATA_DIR}/unified_data.csv\"\n",
    "\n",
    "data_df = pd.read_csv(filepath)\n",
    "data_df.shape, data_df.columns"
   ]
  },
  {
   "cell_type": "code",
   "execution_count": 3,
   "id": "17a1d56c",
   "metadata": {
    "execution": {
     "iopub.execute_input": "2021-10-30T17:50:23.654693Z",
     "iopub.status.busy": "2021-10-30T17:50:23.653983Z",
     "iopub.status.idle": "2021-10-30T17:50:23.730777Z",
     "shell.execute_reply": "2021-10-30T17:50:23.730054Z",
     "shell.execute_reply.started": "2021-10-30T17:48:53.456472Z"
    },
    "papermill": {
     "duration": 0.096364,
     "end_time": "2021-10-30T17:50:23.730929",
     "exception": false,
     "start_time": "2021-10-30T17:50:23.634565",
     "status": "completed"
    },
    "tags": []
   },
   "outputs": [],
   "source": [
    "data_df['HomeValueIndex'] = (data_df.groupby('State')['HomeValueIndex']\n",
    "                             .apply(lambda x:x.fillna(x.mean())))\n",
    "data_df['MHHI'] = (data_df.groupby('State')['MHHI']\n",
    "                             .apply(lambda x:x.fillna(x.mean())))\n",
    "data_df['Poverty_Count'] = (data_df.groupby('State')['Poverty_Count']\n",
    "                             .apply(lambda x:x.fillna(x.mean())))\n",
    "data_df['Poverty_Rate'] = (data_df.groupby('State')['Poverty_Rate']\n",
    "                             .apply(lambda x:x.fillna(x.mean())))\n",
    "data_df['Date'] = pd.to_datetime(data_df.Date)"
   ]
  },
  {
   "cell_type": "code",
   "execution_count": 4,
   "id": "b1f66a46",
   "metadata": {
    "execution": {
     "iopub.execute_input": "2021-10-30T17:50:23.773437Z",
     "iopub.status.busy": "2021-10-30T17:50:23.772593Z",
     "iopub.status.idle": "2021-10-30T17:50:23.776572Z",
     "shell.execute_reply": "2021-10-30T17:50:23.775932Z",
     "shell.execute_reply.started": "2021-10-30T17:48:53.537467Z"
    },
    "papermill": {
     "duration": 0.028838,
     "end_time": "2021-10-30T17:50:23.776727",
     "exception": false,
     "start_time": "2021-10-30T17:50:23.747889",
     "status": "completed"
    },
    "tags": []
   },
   "outputs": [
    {
     "data": {
      "text/plain": [
       "(Timestamp('2007-01-31 00:00:00'), Timestamp('2020-01-31 00:00:00'))"
      ]
     },
     "execution_count": 4,
     "metadata": {},
     "output_type": "execute_result"
    }
   ],
   "source": [
    "data_df['Date'].min(), data_df['Date'].max()"
   ]
  },
  {
   "cell_type": "code",
   "execution_count": 5,
   "id": "9f4c3a96",
   "metadata": {
    "execution": {
     "iopub.execute_input": "2021-10-30T17:50:23.820831Z",
     "iopub.status.busy": "2021-10-30T17:50:23.820042Z",
     "iopub.status.idle": "2021-10-30T17:50:23.823372Z",
     "shell.execute_reply": "2021-10-30T17:50:23.823980Z",
     "shell.execute_reply.started": "2021-10-30T17:48:53.547114Z"
    },
    "papermill": {
     "duration": 0.031017,
     "end_time": "2021-10-30T17:50:23.824166",
     "exception": false,
     "start_time": "2021-10-30T17:50:23.793149",
     "status": "completed"
    },
    "tags": []
   },
   "outputs": [
    {
     "data": {
      "text/plain": [
       "((157, 8),\n",
       " Index(['Date', 'Overall Homeless', 'State', 'State_Name', 'unemploy_rate',\n",
       "        'HomeValueIndex', 'Poverty_Rate', 'Min_Rent'],\n",
       "       dtype='object'))"
      ]
     },
     "execution_count": 5,
     "metadata": {},
     "output_type": "execute_result"
    }
   ],
   "source": [
    "tx_data = data_df[data_df['State'].isin([\"TX\"])]\n",
    "tx_data = tx_data.drop(columns=['employed_pop_rate', 'MHHI',\n",
    "                                'Poverty_Count'])\n",
    "tx_data.shape, tx_data.columns"
   ]
  },
  {
   "cell_type": "code",
   "execution_count": 6,
   "id": "d2ada3c8",
   "metadata": {
    "execution": {
     "iopub.execute_input": "2021-10-30T17:50:23.861780Z",
     "iopub.status.busy": "2021-10-30T17:50:23.861097Z",
     "iopub.status.idle": "2021-10-30T17:50:24.938658Z",
     "shell.execute_reply": "2021-10-30T17:50:24.937694Z",
     "shell.execute_reply.started": "2021-10-30T17:48:53.565607Z"
    },
    "papermill": {
     "duration": 1.097496,
     "end_time": "2021-10-30T17:50:24.938824",
     "exception": false,
     "start_time": "2021-10-30T17:50:23.841328",
     "status": "completed"
    },
    "tags": []
   },
   "outputs": [
    {
     "data": {
      "text/plain": [
       "((133, 5), (24, 5))"
      ]
     },
     "execution_count": 6,
     "metadata": {},
     "output_type": "execute_result"
    }
   ],
   "source": [
    "from sklearn.model_selection import TimeSeriesSplit\n",
    "tx_train = tx_data[tx_data['Date'] <= \"2018-01-31\"]\n",
    "tx_val = tx_data[tx_data['Date'] > \"2018-01-31\"]\n",
    "tx_train = tx_train.set_index('Date').select_dtypes([float, int])\n",
    "tx_val = tx_val.set_index('Date').select_dtypes([float, int])\n",
    "tx_train.shape, tx_val.shape"
   ]
  },
  {
   "cell_type": "code",
   "execution_count": 7,
   "id": "52eeabf0",
   "metadata": {
    "execution": {
     "iopub.execute_input": "2021-10-30T17:50:24.987973Z",
     "iopub.status.busy": "2021-10-30T17:50:24.987234Z",
     "iopub.status.idle": "2021-10-30T17:50:25.525177Z",
     "shell.execute_reply": "2021-10-30T17:50:25.526038Z",
     "shell.execute_reply.started": "2021-10-30T17:48:54.443949Z"
    },
    "papermill": {
     "duration": 0.569513,
     "end_time": "2021-10-30T17:50:25.526297",
     "exception": false,
     "start_time": "2021-10-30T17:50:24.956784",
     "status": "completed"
    },
    "tags": []
   },
   "outputs": [
    {
     "name": "stdout",
     "output_type": "stream",
     "text": [
      "    Augmented Dickey-Fuller Test on \"Overall Homeless\" \n",
      "    -----------------------------------------------\n",
      " Null Hypothesis: Data has unit root. Non-Stationary.\n",
      " Significance Level    = 0.05\n",
      " Test Statistic        = -10.93\n",
      " No. Lags Chosen       = 0\n",
      " Critical value 1%     = -3.482\n",
      " Critical value 5%     = -2.884\n",
      " Critical value 10%    = -2.579\n",
      " => P-Value = 0.0. Rejecting Null Hypothesis.\n",
      " => Series is Stationary.\n",
      "\n",
      "\n",
      "    Augmented Dickey-Fuller Test on \"unemploy_rate\" \n",
      "    -----------------------------------------------\n",
      " Null Hypothesis: Data has unit root. Non-Stationary.\n",
      " Significance Level    = 0.05\n",
      " Test Statistic        = -8.1326\n",
      " No. Lags Chosen       = 3\n",
      " Critical value 1%     = -3.483\n",
      " Critical value 5%     = -2.885\n",
      " Critical value 10%    = -2.579\n",
      " => P-Value = 0.0. Rejecting Null Hypothesis.\n",
      " => Series is Stationary.\n",
      "\n",
      "\n",
      "    Augmented Dickey-Fuller Test on \"HomeValueIndex\" \n",
      "    -----------------------------------------------\n",
      " Null Hypothesis: Data has unit root. Non-Stationary.\n",
      " Significance Level    = 0.05\n",
      " Test Statistic        = -7.0939\n",
      " No. Lags Chosen       = 9\n",
      " Critical value 1%     = -3.486\n",
      " Critical value 5%     = -2.886\n",
      " Critical value 10%    = -2.58\n",
      " => P-Value = 0.0. Rejecting Null Hypothesis.\n",
      " => Series is Stationary.\n",
      "\n",
      "\n",
      "    Augmented Dickey-Fuller Test on \"Poverty_Rate\" \n",
      "    -----------------------------------------------\n",
      " Null Hypothesis: Data has unit root. Non-Stationary.\n",
      " Significance Level    = 0.05\n",
      " Test Statistic        = -6.5612\n",
      " No. Lags Chosen       = 10\n",
      " Critical value 1%     = -3.486\n",
      " Critical value 5%     = -2.886\n",
      " Critical value 10%    = -2.58\n",
      " => P-Value = 0.0. Rejecting Null Hypothesis.\n",
      " => Series is Stationary.\n",
      "\n",
      "\n",
      "    Augmented Dickey-Fuller Test on \"Min_Rent\" \n",
      "    -----------------------------------------------\n",
      " Null Hypothesis: Data has unit root. Non-Stationary.\n",
      " Significance Level    = 0.05\n",
      " Test Statistic        = -19.6127\n",
      " No. Lags Chosen       = 0\n",
      " Critical value 1%     = -3.482\n",
      " Critical value 5%     = -2.884\n",
      " Critical value 10%    = -2.579\n",
      " => P-Value = 0.0. Rejecting Null Hypothesis.\n",
      " => Series is Stationary.\n",
      "\n",
      "\n"
     ]
    }
   ],
   "source": [
    "from statsmodels.tsa.stattools import adfuller\n",
    "\n",
    "def adjust(val, length= 6): return str(val).ljust(length)\n",
    "\n",
    "def adfuller_test(series, signif=0.05, name='', verbose=False):\n",
    "    \"\"\"Perform ADFuller to test for Stationarity of given series and print report\"\"\"\n",
    "    r = adfuller(series, autolag='AIC')\n",
    "    output = {'test_statistic':round(r[0], 4), 'pvalue':round(r[1], 4), 'n_lags':round(r[2], 4), 'n_obs':r[3]}\n",
    "    p_value = output['pvalue'] \n",
    "\n",
    "    # Print Summary\n",
    "    print(f'    Augmented Dickey-Fuller Test on \"{name}\"', \"\\n   \", '-'*47)\n",
    "    print(f' Null Hypothesis: Data has unit root. Non-Stationary.')\n",
    "    print(f' Significance Level    = {signif}')\n",
    "    print(f' Test Statistic        = {output[\"test_statistic\"]}')\n",
    "    print(f' No. Lags Chosen       = {output[\"n_lags\"]}')\n",
    "\n",
    "    for key,val in r[4].items():\n",
    "        print(f' Critical value {adjust(key)} = {round(val, 3)}')\n",
    "\n",
    "    if p_value <= signif:\n",
    "        print(f\" => P-Value = {p_value}. Rejecting Null Hypothesis.\")\n",
    "        print(f\" => Series is Stationary.\")\n",
    "    else:\n",
    "        print(f\" => P-Value = {p_value}. Weak evidence to reject the Null Hypothesis.\")\n",
    "        print(f\" => Series is Non-Stationary.\")    \n",
    "\n",
    "\n",
    "tx_train_diff = tx_train.diff().dropna()\n",
    "tx_train_diff2 = tx_train_diff.diff().dropna()\n",
    "\n",
    "# time series is stationary at diff2\n",
    "for name, column in tx_train_diff2.iteritems():\n",
    "    adfuller_test(column, name=column.name)\n",
    "    print('\\n')"
   ]
  },
  {
   "cell_type": "code",
   "execution_count": 8,
   "id": "a0c68563",
   "metadata": {
    "execution": {
     "iopub.execute_input": "2021-10-30T17:50:25.572461Z",
     "iopub.status.busy": "2021-10-30T17:50:25.571338Z",
     "iopub.status.idle": "2021-10-30T17:50:25.629886Z",
     "shell.execute_reply": "2021-10-30T17:50:25.629195Z",
     "shell.execute_reply.started": "2021-10-30T17:48:54.825220Z"
    },
    "papermill": {
     "duration": 0.084236,
     "end_time": "2021-10-30T17:50:25.630049",
     "exception": false,
     "start_time": "2021-10-30T17:50:25.545813",
     "status": "completed"
    },
    "tags": []
   },
   "outputs": [
    {
     "name": "stdout",
     "output_type": "stream",
     "text": [
      "Lag Order = 1\n",
      "AIC :  15.79344098628212\n",
      "BIC :  16.455179705618022\n",
      "FPE :  7230141.212416194\n",
      "HQIC:  16.06232754130734 \n",
      "\n",
      "Lag Order = 2\n",
      "AIC :  15.683710716741588\n",
      "BIC :  16.903010579066333\n",
      "FPE :  6490087.229333459\n",
      "HQIC:  16.179136934544694 \n",
      "\n",
      "Lag Order = 3\n",
      "AIC :  15.366329809955902\n",
      "BIC :  17.148848724905662\n",
      "FPE :  4746423.530022407\n",
      "HQIC:  16.090576345547962 \n",
      "\n",
      "Lag Order = 4\n",
      "AIC :  15.481192993405738\n",
      "BIC :  17.832686253863628\n",
      "FPE :  5370951.208402095\n",
      "HQIC:  16.436576331382714 \n",
      "\n",
      "Lag Order = 5\n",
      "AIC :  15.55896274243784\n",
      "BIC :  18.485285344848094\n",
      "FPE :  5891506.840631513\n",
      "HQIC:  16.747835904038137 \n",
      "\n"
     ]
    },
    {
     "name": "stderr",
     "output_type": "stream",
     "text": [
      "/opt/conda/lib/python3.7/site-packages/statsmodels/tsa/base/tsa_model.py:527: ValueWarning: No frequency information was provided, so inferred frequency M will be used.\n",
      "  % freq, ValueWarning)\n"
     ]
    }
   ],
   "source": [
    "from statsmodels.tsa.vector_ar.var_model import VAR\n",
    "model = VAR(tx_train_diff2)\n",
    "for i in [1,2,3,4,5]:\n",
    "    result = model.fit(i)\n",
    "    print('Lag Order =', i)\n",
    "    print('AIC : ', result.aic)\n",
    "    print('BIC : ', result.bic)\n",
    "    print('FPE : ', result.fpe)\n",
    "    print('HQIC: ', result.hqic, '\\n')"
   ]
  },
  {
   "cell_type": "code",
   "execution_count": 9,
   "id": "d37c4e74",
   "metadata": {
    "execution": {
     "iopub.execute_input": "2021-10-30T17:50:25.673345Z",
     "iopub.status.busy": "2021-10-30T17:50:25.672600Z",
     "iopub.status.idle": "2021-10-30T17:50:25.701982Z",
     "shell.execute_reply": "2021-10-30T17:50:25.699982Z",
     "shell.execute_reply.started": "2021-10-30T17:48:54.873541Z"
    },
    "papermill": {
     "duration": 0.053586,
     "end_time": "2021-10-30T17:50:25.702305",
     "exception": false,
     "start_time": "2021-10-30T17:50:25.648719",
     "status": "completed"
    },
    "tags": []
   },
   "outputs": [
    {
     "data": {
      "text/html": [
       "<table class=\"simpletable\">\n",
       "<caption>VAR Order Selection (* highlights the minimums)</caption>\n",
       "<tr>\n",
       "   <td></td>      <th>AIC</th>         <th>BIC</th>         <th>FPE</th>        <th>HQIC</th>    \n",
       "</tr>\n",
       "<tr>\n",
       "  <th>0</th>  <td>     16.71</td>  <td>     16.83</td>  <td> 1.816e+07</td>  <td>     16.76</td> \n",
       "</tr>\n",
       "<tr>\n",
       "  <th>1</th>  <td>     16.10</td>  <td>     16.79*</td> <td> 9.816e+06</td>  <td>     16.38*</td>\n",
       "</tr>\n",
       "<tr>\n",
       "  <th>2</th>  <td>     15.99</td>  <td>     17.26</td>  <td> 8.812e+06</td>  <td>     16.51</td> \n",
       "</tr>\n",
       "<tr>\n",
       "  <th>3</th>  <td>     15.64*</td> <td>     17.49</td>  <td> 6.229e+06*</td> <td>     16.39</td> \n",
       "</tr>\n",
       "<tr>\n",
       "  <th>4</th>  <td>     15.72</td>  <td>     18.14</td>  <td> 6.816e+06</td>  <td>     16.70</td> \n",
       "</tr>\n",
       "<tr>\n",
       "  <th>5</th>  <td>     15.75</td>  <td>     18.75</td>  <td> 7.166e+06</td>  <td>     16.97</td> \n",
       "</tr>\n",
       "<tr>\n",
       "  <th>6</th>  <td>     15.95</td>  <td>     19.53</td>  <td> 8.969e+06</td>  <td>     17.41</td> \n",
       "</tr>\n",
       "<tr>\n",
       "  <th>7</th>  <td>     16.10</td>  <td>     20.26</td>  <td> 1.075e+07</td>  <td>     17.79</td> \n",
       "</tr>\n",
       "<tr>\n",
       "  <th>8</th>  <td>     16.22</td>  <td>     20.96</td>  <td> 1.278e+07</td>  <td>     18.15</td> \n",
       "</tr>\n",
       "<tr>\n",
       "  <th>9</th>  <td>     16.49</td>  <td>     21.80</td>  <td> 1.766e+07</td>  <td>     18.64</td> \n",
       "</tr>\n",
       "<tr>\n",
       "  <th>10</th> <td>     16.36</td>  <td>     22.25</td>  <td> 1.678e+07</td>  <td>     18.75</td> \n",
       "</tr>\n",
       "</table>"
      ],
      "text/plain": [
       "<class 'statsmodels.iolib.table.SimpleTable'>"
      ]
     },
     "execution_count": 9,
     "metadata": {},
     "output_type": "execute_result"
    }
   ],
   "source": [
    "x = model.select_order(10)\n",
    "x.summary()"
   ]
  },
  {
   "cell_type": "code",
   "execution_count": 10,
   "id": "60ecdf94",
   "metadata": {
    "execution": {
     "iopub.execute_input": "2021-10-30T17:50:25.752883Z",
     "iopub.status.busy": "2021-10-30T17:50:25.751803Z",
     "iopub.status.idle": "2021-10-30T17:50:25.796004Z",
     "shell.execute_reply": "2021-10-30T17:50:25.796949Z",
     "shell.execute_reply.started": "2021-10-30T17:49:32.073780Z"
    },
    "papermill": {
     "duration": 0.070781,
     "end_time": "2021-10-30T17:50:25.797273",
     "exception": false,
     "start_time": "2021-10-30T17:50:25.726492",
     "status": "completed"
    },
    "tags": []
   },
   "outputs": [
    {
     "data": {
      "text/plain": [
       "  Summary of Regression Results   \n",
       "==================================\n",
       "Model:                         VAR\n",
       "Method:                        OLS\n",
       "Date:           Sat, 30, Oct, 2021\n",
       "Time:                     17:50:25\n",
       "--------------------------------------------------------------------\n",
       "No. of Equations:         5.00000    BIC:                    16.9030\n",
       "Nobs:                     129.000    HQIC:                   16.1791\n",
       "Log likelihood:          -1871.81    FPE:                6.49009e+06\n",
       "AIC:                      15.6837    Det(Omega_mle):     4.31081e+06\n",
       "--------------------------------------------------------------------\n",
       "Results for equation Overall Homeless\n",
       "======================================================================================\n",
       "                         coefficient       std. error           t-stat            prob\n",
       "--------------------------------------------------------------------------------------\n",
       "const                       0.846601         6.590705            0.128           0.898\n",
       "L1.Overall Homeless         0.052450         0.097134            0.540           0.589\n",
       "L1.unemploy_rate           30.360517        58.254976            0.521           0.602\n",
       "L1.HomeValueIndex           0.002135         0.004133            0.517           0.605\n",
       "L1.Poverty_Rate             4.766031        28.007358            0.170           0.865\n",
       "L1.Min_Rent                -2.236020         9.377360           -0.238           0.812\n",
       "L2.Overall Homeless        -0.039476         0.099441           -0.397           0.691\n",
       "L2.unemploy_rate           14.232350        57.851351            0.246           0.806\n",
       "L2.HomeValueIndex           0.001328         0.004191            0.317           0.751\n",
       "L2.Poverty_Rate             0.534997        27.816871            0.019           0.985\n",
       "L2.Min_Rent                 1.626993         9.373591            0.174           0.862\n",
       "======================================================================================\n",
       "\n",
       "Results for equation unemploy_rate\n",
       "======================================================================================\n",
       "                         coefficient       std. error           t-stat            prob\n",
       "--------------------------------------------------------------------------------------\n",
       "const                       0.000823         0.009788            0.084           0.933\n",
       "L1.Overall Homeless         0.000094         0.000144            0.653           0.514\n",
       "L1.unemploy_rate           -0.399058         0.086516           -4.613           0.000\n",
       "L1.HomeValueIndex           0.000024         0.000006            3.939           0.000\n",
       "L1.Poverty_Rate             0.027491         0.041595            0.661           0.509\n",
       "L1.Min_Rent                 0.000778         0.013927            0.056           0.955\n",
       "L2.Overall Homeless        -0.000207         0.000148           -1.403           0.161\n",
       "L2.unemploy_rate           -0.128557         0.085917           -1.496           0.135\n",
       "L2.HomeValueIndex           0.000022         0.000006            3.530           0.000\n",
       "L2.Poverty_Rate             0.000208         0.041312            0.005           0.996\n",
       "L2.Min_Rent                -0.001842         0.013921           -0.132           0.895\n",
       "======================================================================================\n",
       "\n",
       "Results for equation HomeValueIndex\n",
       "======================================================================================\n",
       "                         coefficient       std. error           t-stat            prob\n",
       "--------------------------------------------------------------------------------------\n",
       "const                      -5.599348       139.865885           -0.040           0.968\n",
       "L1.Overall Homeless         2.539458         2.061353            1.232           0.218\n",
       "L1.unemploy_rate         2228.216356      1236.268824            1.802           0.071\n",
       "L1.HomeValueIndex          -0.458720         0.087700           -5.231           0.000\n",
       "L1.Poverty_Rate          -233.665654       594.363368           -0.393           0.694\n",
       "L1.Min_Rent              -101.554310       199.003396           -0.510           0.610\n",
       "L2.Overall Homeless         0.408873         2.110308            0.194           0.846\n",
       "L2.unemploy_rate         1461.293771      1227.703231            1.190           0.234\n",
       "L2.HomeValueIndex          -0.340550         0.088943           -3.829           0.000\n",
       "L2.Poverty_Rate           486.593809       590.320903            0.824           0.410\n",
       "L2.Min_Rent                53.854177       198.923405            0.271           0.787\n",
       "======================================================================================\n",
       "\n",
       "Results for equation Poverty_Rate\n",
       "======================================================================================\n",
       "                         coefficient       std. error           t-stat            prob\n",
       "--------------------------------------------------------------------------------------\n",
       "const                      -0.000168         0.020330           -0.008           0.993\n",
       "L1.Overall Homeless        -0.000074         0.000300           -0.247           0.805\n",
       "L1.unemploy_rate           -0.312877         0.179693           -1.741           0.082\n",
       "L1.HomeValueIndex          -0.000005         0.000013           -0.390           0.696\n",
       "L1.Poverty_Rate            -0.677572         0.086391           -7.843           0.000\n",
       "L1.Min_Rent                 0.013523         0.028925            0.468           0.640\n",
       "L2.Overall Homeless         0.000337         0.000307            1.100           0.272\n",
       "L2.unemploy_rate           -0.178089         0.178448           -0.998           0.318\n",
       "L2.HomeValueIndex           0.000019         0.000013            1.439           0.150\n",
       "L2.Poverty_Rate            -0.332664         0.085804           -3.877           0.000\n",
       "L2.Min_Rent                -0.022821         0.028914           -0.789           0.430\n",
       "======================================================================================\n",
       "\n",
       "Results for equation Min_Rent\n",
       "======================================================================================\n",
       "                         coefficient       std. error           t-stat            prob\n",
       "--------------------------------------------------------------------------------------\n",
       "const                      -0.040569         0.065173           -0.622           0.534\n",
       "L1.Overall Homeless         0.002621         0.000961            2.728           0.006\n",
       "L1.unemploy_rate            0.829047         0.576059            1.439           0.150\n",
       "L1.HomeValueIndex           0.000061         0.000041            1.486           0.137\n",
       "L1.Poverty_Rate            -0.124458         0.276953           -0.449           0.653\n",
       "L1.Min_Rent                -0.600667         0.092729           -6.478           0.000\n",
       "L2.Overall Homeless        -0.000391         0.000983           -0.397           0.691\n",
       "L2.unemploy_rate           -0.927501         0.572068           -1.621           0.105\n",
       "L2.HomeValueIndex          -0.000017         0.000041           -0.404           0.686\n",
       "L2.Poverty_Rate            -0.090536         0.275069           -0.329           0.742\n",
       "L2.Min_Rent                -0.123652         0.092692           -1.334           0.182\n",
       "======================================================================================\n",
       "\n",
       "Correlation matrix of residuals\n",
       "                    Overall Homeless  unemploy_rate  HomeValueIndex  Poverty_Rate  Min_Rent\n",
       "Overall Homeless            1.000000      -0.057084       -0.143606     -0.135542  0.257353\n",
       "unemploy_rate              -0.057084       1.000000       -0.018103     -0.155187 -0.029106\n",
       "HomeValueIndex             -0.143606      -0.018103        1.000000      0.063881  0.056041\n",
       "Poverty_Rate               -0.135542      -0.155187        0.063881      1.000000 -0.045467\n",
       "Min_Rent                    0.257353      -0.029106        0.056041     -0.045467  1.000000\n",
       "\n"
      ]
     },
     "execution_count": 10,
     "metadata": {},
     "output_type": "execute_result"
    }
   ],
   "source": [
    "model_fitted = model.fit(2)\n",
    "model_fitted.summary()"
   ]
  },
  {
   "cell_type": "code",
   "execution_count": 11,
   "id": "33c1250b",
   "metadata": {
    "execution": {
     "iopub.execute_input": "2021-10-30T17:50:25.877785Z",
     "iopub.status.busy": "2021-10-30T17:50:25.876598Z",
     "iopub.status.idle": "2021-10-30T17:50:25.880807Z",
     "shell.execute_reply": "2021-10-30T17:50:25.881335Z",
     "shell.execute_reply.started": "2021-10-30T17:49:32.974963Z"
    },
    "papermill": {
     "duration": 0.049147,
     "end_time": "2021-10-30T17:50:25.881555",
     "exception": false,
     "start_time": "2021-10-30T17:50:25.832408",
     "status": "completed"
    },
    "tags": []
   },
   "outputs": [],
   "source": [
    "# from statsmodels.stats.stattools import durbin_watson\n",
    "# out = durbin_watson(model_fitted.resid)\n",
    "\n",
    "# for col, val in zip(tx_train_diff2.columns, out):\n",
    "#     print(adjust(col), ':', round(val, 2))"
   ]
  },
  {
   "cell_type": "code",
   "execution_count": 12,
   "id": "a28d948e",
   "metadata": {
    "execution": {
     "iopub.execute_input": "2021-10-30T17:50:25.923474Z",
     "iopub.status.busy": "2021-10-30T17:50:25.922863Z",
     "iopub.status.idle": "2021-10-30T17:50:25.930281Z",
     "shell.execute_reply": "2021-10-30T17:50:25.930953Z",
     "shell.execute_reply.started": "2021-10-30T17:49:33.274512Z"
    },
    "papermill": {
     "duration": 0.030269,
     "end_time": "2021-10-30T17:50:25.931128",
     "exception": false,
     "start_time": "2021-10-30T17:50:25.900859",
     "status": "completed"
    },
    "tags": []
   },
   "outputs": [
    {
     "name": "stdout",
     "output_type": "stream",
     "text": [
      "2\n"
     ]
    },
    {
     "data": {
      "text/plain": [
       "array([[   4.,    0., -162.,    0.,   -1.],\n",
       "       [   1.,    0.,  -11.,    0.,    1.]])"
      ]
     },
     "execution_count": 12,
     "metadata": {},
     "output_type": "execute_result"
    }
   ],
   "source": [
    "# Get the lag order\n",
    "lag_order = model_fitted.k_ar\n",
    "print(lag_order)\n",
    "\n",
    "# Input data for forecasting\n",
    "forecast_input = tx_train_diff2.values[-lag_order:]\n",
    "forecast_input"
   ]
  },
  {
   "cell_type": "code",
   "execution_count": 13,
   "id": "3d46e8c1",
   "metadata": {
    "execution": {
     "iopub.execute_input": "2021-10-30T17:50:25.974817Z",
     "iopub.status.busy": "2021-10-30T17:50:25.974083Z",
     "iopub.status.idle": "2021-10-30T17:50:25.984325Z",
     "shell.execute_reply": "2021-10-30T17:50:25.983648Z",
     "shell.execute_reply.started": "2021-10-30T17:49:33.774376Z"
    },
    "papermill": {
     "duration": 0.033459,
     "end_time": "2021-10-30T17:50:25.984470",
     "exception": false,
     "start_time": "2021-10-30T17:50:25.951011",
     "status": "completed"
    },
    "tags": []
   },
   "outputs": [
    {
     "data": {
      "text/plain": [
       "Index(['Overall Homeless_2d', 'unemploy_rate_2d', 'HomeValueIndex_2d',\n",
       "       'Poverty_Rate_2d', 'Min_Rent_2d'],\n",
       "      dtype='object')"
      ]
     },
     "execution_count": 13,
     "metadata": {},
     "output_type": "execute_result"
    }
   ],
   "source": [
    "nobs = 24\n",
    "fc = model_fitted.forecast(y=forecast_input, steps=nobs)\n",
    "df_forecast = pd.DataFrame(fc,\n",
    "                           columns=tx_train_diff2.columns + '_2d')\n",
    "df_forecast.columns"
   ]
  },
  {
   "cell_type": "code",
   "execution_count": 14,
   "id": "d967d6fb",
   "metadata": {
    "execution": {
     "iopub.execute_input": "2021-10-30T17:50:26.037371Z",
     "iopub.status.busy": "2021-10-30T17:50:26.036389Z",
     "iopub.status.idle": "2021-10-30T17:50:26.040048Z",
     "shell.execute_reply": "2021-10-30T17:50:26.039424Z",
     "shell.execute_reply.started": "2021-10-30T17:49:34.073941Z"
    },
    "papermill": {
     "duration": 0.034338,
     "end_time": "2021-10-30T17:50:26.040240",
     "exception": false,
     "start_time": "2021-10-30T17:50:26.005902",
     "status": "completed"
    },
    "tags": []
   },
   "outputs": [],
   "source": [
    "def invert_transformation(df_train, df_forecast, second_diff=False):\n",
    "    \"\"\"Revert back the differencing to get the forecast to original scale.\"\"\"\n",
    "    df_fc = df_forecast.copy()\n",
    "    columns =[c.replace(\"_2d\", \"\") for c in df_forecast.columns]\n",
    "    for col in columns:        \n",
    "        # Roll back 2nd Diff\n",
    "        if second_diff:\n",
    "            df_fc[str(col)+'_1d'] = ((df_train[col].iloc[-1]- \n",
    "                                     df_train[col].iloc[-2]) \\\n",
    "                                     + df_fc[str(col)+'_2d'].cumsum())\n",
    "        # Roll back 1st Diff\n",
    "        df_fc[str(col)+'_forecast'] = (df_train[col].iloc[-1] + \n",
    "                                       df_fc[str(col)+'_1d'].cumsum())\n",
    "        \n",
    "    fcol = [c for c in df_fc.columns if c.endswith(\"forecast\")]\n",
    "    return df_fc[fcol]"
   ]
  },
  {
   "cell_type": "code",
   "execution_count": 15,
   "id": "5ae91e3b",
   "metadata": {
    "execution": {
     "iopub.execute_input": "2021-10-30T17:50:26.087833Z",
     "iopub.status.busy": "2021-10-30T17:50:26.087151Z",
     "iopub.status.idle": "2021-10-30T17:50:26.099938Z",
     "shell.execute_reply": "2021-10-30T17:50:26.099366Z",
     "shell.execute_reply.started": "2021-10-30T17:49:35.173835Z"
    },
    "papermill": {
     "duration": 0.039288,
     "end_time": "2021-10-30T17:50:26.100079",
     "exception": false,
     "start_time": "2021-10-30T17:50:26.060791",
     "status": "completed"
    },
    "tags": []
   },
   "outputs": [
    {
     "data": {
      "text/plain": [
       "Index(['Overall Homeless_forecast', 'unemploy_rate_forecast',\n",
       "       'HomeValueIndex_forecast', 'Poverty_Rate_forecast',\n",
       "       'Min_Rent_forecast'],\n",
       "      dtype='object')"
      ]
     },
     "execution_count": 15,
     "metadata": {},
     "output_type": "execute_result"
    }
   ],
   "source": [
    "df_results  = invert_transformation(tx_train, df_forecast, True)\n",
    "df_results.columns"
   ]
  },
  {
   "cell_type": "code",
   "execution_count": 16,
   "id": "e36444e9",
   "metadata": {
    "execution": {
     "iopub.execute_input": "2021-10-30T17:50:26.146005Z",
     "iopub.status.busy": "2021-10-30T17:50:26.145282Z",
     "iopub.status.idle": "2021-10-30T17:50:26.169692Z",
     "shell.execute_reply": "2021-10-30T17:50:26.170170Z",
     "shell.execute_reply.started": "2021-10-30T17:49:35.190139Z"
    },
    "papermill": {
     "duration": 0.049452,
     "end_time": "2021-10-30T17:50:26.170354",
     "exception": false,
     "start_time": "2021-10-30T17:50:26.120902",
     "status": "completed"
    },
    "tags": []
   },
   "outputs": [
    {
     "name": "stdout",
     "output_type": "stream",
     "text": [
      "Forecast Accuracy of: Overall Homeless\n",
      "mape   :  0.0438\n",
      "mae    :  1153.3754\n",
      "rmse   :  1274.7053\n",
      "corr   :  0.981\n",
      "*************************\n",
      "Forecast Accuracy of: unemploy_rate\n",
      "mape   :  0.1237\n",
      "mae    :  0.4423\n",
      "rmse   :  0.493\n",
      "corr   :  -0.7324\n",
      "*************************\n",
      "Forecast Accuracy of: HomeValueIndex\n",
      "mape   :  0.0192\n",
      "mae    :  2554.4075\n",
      "rmse   :  2864.4033\n",
      "corr   :  0.9773\n",
      "*************************\n",
      "Forecast Accuracy of: Poverty_Rate\n",
      "mape   :  0.0693\n",
      "mae    :  1.0715\n",
      "rmse   :  1.1484\n",
      "corr   :  0.7709\n",
      "*************************\n",
      "Forecast Accuracy of: Min_Rent\n",
      "mape   :  0.0146\n",
      "mae    :  8.7796\n",
      "rmse   :  9.7134\n",
      "corr   :  0.9975\n",
      "*************************\n"
     ]
    }
   ],
   "source": [
    "from statsmodels.tsa.stattools import acf\n",
    "\n",
    "def forecast_accuracy(forecast, actual):\n",
    "    mape = np.mean(np.abs(forecast - actual)/np.abs(actual))  # MAPE\n",
    "    mae = np.mean(np.abs(forecast - actual))    # MAE\n",
    "    rmse = np.mean((forecast - actual)**2)**.5  # RMSE\n",
    "    corr = np.corrcoef(forecast, actual)[0,1]   # corr\n",
    "    return({'mape':mape, 'mae': mae, \n",
    "            'rmse':rmse, 'corr':corr})\n",
    "\n",
    "\n",
    "for col in df_results.columns:\n",
    "    cn = col.replace(\"_forecast\", \"\")\n",
    "    print('Forecast Accuracy of:', cn)\n",
    "    accuracy_prod = forecast_accuracy(df_results[col].values, \n",
    "                                      tx_val[cn][:nobs].values)\n",
    "    for k, v in accuracy_prod.items():\n",
    "        print(adjust(k), ': ', round(v,4))\n",
    "    print(\"*\"*25)"
   ]
  },
  {
   "cell_type": "code",
   "execution_count": null,
   "id": "37512d81",
   "metadata": {
    "papermill": {
     "duration": 0.02054,
     "end_time": "2021-10-30T17:50:26.211901",
     "exception": false,
     "start_time": "2021-10-30T17:50:26.191361",
     "status": "completed"
    },
    "tags": []
   },
   "outputs": [],
   "source": []
  },
  {
   "cell_type": "code",
   "execution_count": null,
   "id": "c52d262f",
   "metadata": {
    "papermill": {
     "duration": 0.020407,
     "end_time": "2021-10-30T17:50:26.253287",
     "exception": false,
     "start_time": "2021-10-30T17:50:26.232880",
     "status": "completed"
    },
    "tags": []
   },
   "outputs": [],
   "source": []
  }
 ],
 "metadata": {
  "kernelspec": {
   "display_name": "Python 3",
   "language": "python",
   "name": "python3"
  },
  "language_info": {
   "codemirror_mode": {
    "name": "ipython",
    "version": 3
   },
   "file_extension": ".py",
   "mimetype": "text/x-python",
   "name": "python",
   "nbconvert_exporter": "python",
   "pygments_lexer": "ipython3",
   "version": "3.7.10"
  },
  "papermill": {
   "default_parameters": {},
   "duration": 14.099125,
   "end_time": "2021-10-30T17:50:27.288070",
   "environment_variables": {},
   "exception": null,
   "input_path": "__notebook__.ipynb",
   "output_path": "__notebook__.ipynb",
   "parameters": {},
   "start_time": "2021-10-30T17:50:13.188945",
   "version": "2.3.3"
  }
 },
 "nbformat": 4,
 "nbformat_minor": 5
}
