{
  "nbformat": 4,
  "nbformat_minor": 0,
  "metadata": {
    "colab": {
      "name": "likelihood for social services.ipynb",
      "provenance": [],
      "collapsed_sections": []
    },
    "kernelspec": {
      "name": "python3",
      "display_name": "Python 3"
    },
    "language_info": {
      "name": "python"
    }
  },
  "cells": [
    {
      "cell_type": "markdown",
      "metadata": {
        "id": "IEmOS6AjXrS9"
      },
      "source": [
        "\n",
        "\n",
        "3 datasets are merged into 1:\n",
        "1. PIT homelessness dataset for Texas CoCs\n",
        "2. Census projection for 2020 based on Counties\n",
        "3. CPI abuse data for 2020 per county\n",
        "\n"
      ]
    },
    {
      "cell_type": "code",
      "metadata": {
        "id": "Ac7XmZeiekO2"
      },
      "source": [
        "import pandas as pd"
      ],
      "execution_count": 7,
      "outputs": []
    },
    {
      "cell_type": "code",
      "metadata": {
        "id": "qwwiBPMSMVMY"
      },
      "source": [
        "#Counties part of Texas Balance of States\n",
        "Bos= \"Anderson, Culberson, Hidalgo, Mason, Scurry, Andrews, Dallam, Hockley, Matagorda, Shackelford, Angelina, Dawson, Hood, Maverick, Shelby, Aransas, De Witt, Hopkins, McCulloch, Sherman, Armstrong, Deaf Smith, Houston, McMullen, Smith, Atascosa, Delta, Howard, Medina, Somervell, Austin, Denton, Hudspeth, Menard, Starr, Bailey, Dickens, Hunt, Midland, Sterling, Bandera, Dimmit, Hutchinson, Mills, Stonewall, Bastrop, Donley, Irion, Mitchell, Sutton, Bee, Duval, Jackson, Moore, Swisher, Bell, Eastland, Jasper, Morris, Taylor, Blanco, Ector, Jeff Davis, Motley, Terrell, Borden, Edwards, Jefferson, Nacogdoches, Terry, Bowie, Ellis, Jim Hogg, Navarro, Titus, Brazoria, Erath, Jim Wells, Newton, Tom Green, Brewster, Fannin, Johnson, Nolan, Trinity, Briscoe, Fayette, Jones, Nueces, Tyler, Brooks, Fisher, Karnes, Ochiltree, Upshur, Brown, Floyd, Kaufman, Oldham, Upton, Burnet, Franklin, Kendall, Orange, Uvalde, Caldwell, Frio, Kenedy, Panola, Val Verde, Calhoun, Gaines, Kent, Parmer, Van Zandt, Callahan, Galveston, Kerr, Pecos, Victoria, Cameron, Garza, Kimble, Polk, Walker, Camp, Gillespie, King, Potter, Waller, Carson, Glasscock, Kinney, Presidio, Ward, Cass, Goliad, Kleberg, Rains, Washington, Castro, Gonzales, Knox, Randall, Webb, Chambers, Gray, La Salle, Reagan, Wharton, Cherokee, Grayson, Lamar, Real, Wheeler, Cochran, Gregg, Lamb, Red River, Willacy, Coke, Guadalupe, Lampasas, Reeves, Williamson, Coleman, Hale, Lavaca, Refugio, Wilson, Collingsworth, Hall, Lee, Roberts, Winkler, Colorado, Hamilton, Liberty, Rockwall, Wood, Comal, Hansford, Lipscomb, Runnels, Yoakum, Comanche, Hardin, Live Oak, Rusk, Zapata, Concho, Harrison, Llano, Sabine, Zavala, Cooke, Hartley, Loving, San Augustine, Coryell, Haskell, Lubbock, San Jacinto, Crane, Hays, Lynn, San Patricio, Crockett, Hemphill, Marion, San Saba, Crosby, Henderson, Martin, Schleicher\"\n",
        "Bos= Bos.split(',')\n",
        "Bos= [c.strip() for c in Bos]\n",
        "#Duplicate Counties present in other CoCs\n",
        "rem= ['Washington', 'Potter', 'Randall']\n",
        "for i in rem:\n",
        "  Bos.remove(i)\n",
        "\n",
        "\n",
        "am= ['Potter', 'Randall'] #amarillo Coc\n",
        "tra= ['Travis'] #Travis CoC\n",
        "br= ['Leon', 'Brazos', 'Grimes', 'Washington', 'Burleson', 'Madison', 'Robertson', 'Milam'] #Bryan/college COC\n",
        "da= ['Collin', 'Dallas'] #Dallas CoC\n",
        "el= ['El Paso'] #El Paso CoC\n",
        "ta= ['Parker', 'Tarrant'] #Tarrant CoC\n",
        "ha= ['Harris', 'Fort Bend', 'Montgomery'] #Harris CoC\n",
        "bex= ['Bexar'] #Bexar CoC\n",
        "mc= ['McLennan', 'Limestone', 'Bosque', 'Hill', 'Falls', 'Freestone'] #Mclennan Coc\n",
        "#Wichita Falls COc\n",
        "wi= ['Childress', 'Foard', 'Baylor', 'Clay', 'Montague', 'Hardeman', 'Wilbarger', 'Wise', 'Cottle', 'Throckmorton', 'Young', 'Jack', 'Archer', 'Stephens', 'Palo Pinto', 'Wichita']\n",
        "\n",
        "state= ['Armstrong', 'Bailey', 'Briscoe', 'Carson', 'Castro', 'Childress', 'Cochran', 'Collingsworth', 'Crosby', 'Dallam', 'Deaf Smith', 'Dickens', 'Donley', 'Floyd', 'Garza', 'Gray', 'Hale', 'Hall', 'Hansford', 'Hartley', 'Hemphill', 'Hockley', 'Hutchinson', 'King', 'Lamb', 'Lipscomb', 'Lubbock', 'Lynn', 'Moore', 'Motley', 'Ochiltree', 'Oldham', 'Parmer', 'Potter', 'Randall', 'Sherman', 'Swisher', 'Terry', 'Wheeler', 'Yoakum', 'Archer', 'Baylor', 'Brown', 'Callahan', 'Clay', 'Coleman', 'Comanche', 'Cottle', 'Eastland', 'Fisher', 'Foard', 'Hardeman', 'Haskell', 'Jack', 'Jones', 'Kent', 'Knox', 'Mitchell', 'Montague', 'Nolan', 'Runnels', 'Scurry', 'Shackelford', 'Stephens', 'Stonewall', 'Taylor', 'Throckmorton', 'Wichita', 'Wilbarger', 'Young', 'Collin', 'Cooke', 'Dallas', 'Denton', 'Ellis', 'Erath', 'Fannin', 'Grayson', 'Hood', 'Hunt', 'Johnson', 'Kaufman', 'Navarro', 'Palo Pinto', 'Parker', 'Rockwall', 'Somervell', 'Tarrant', 'Wise', 'Anderson', 'Bowie', 'Camp', 'Cass', 'Cherokee', 'Delta', 'Franklin', 'Gregg', 'Harrison', 'Henderson', 'Hopkins', 'Lamar', 'Marion', 'Morris', 'Panola', 'Rains', 'Red River', 'Rusk', 'Smith', 'Titus', 'Upshur', 'Van Zandt', 'Wood', 'Angelina', 'Hardin', 'Houston', 'Jasper', 'Jefferson', 'Nacogdoches', 'Newton', 'Orange', 'Polk', 'Sabine', 'San Augustine', 'San Jacinto', 'Shelby', 'Trinity', 'Tyler', 'Austin', 'Brazoria', 'Chambers', 'Colorado', 'Fort Bend', 'Galveston', 'Harris', 'Liberty', 'Matagorda', 'Montgomery', 'Walker', 'Waller', 'Wharton', 'Bastrop', 'Bell', 'Blanco', 'Bosque', 'Brazos', 'Burleson', 'Burnet', 'Caldwell', 'Coryell', 'Falls', 'Fayette', 'Freestone', 'Grimes', 'Hamilton', 'Hays', 'Hill', 'Lampasas', 'Lee', 'Leon', 'Limestone', 'Llano', 'Madison', 'McLennan', 'Milam', 'Mills', 'Robertson', 'San Saba', 'Travis', 'Washington', 'Williamson', 'Atascosa', 'Bandera', 'Bexar', 'Calhoun', 'Comal', 'DeWitt', 'Dimmit', 'Edwards', 'Frio', 'Gillespie', 'Goliad', 'Gonzales', 'Guadalupe', 'Jackson', 'Karnes', 'Kendall', 'Kerr', 'Kinney', 'La Salle', 'Lavaca', 'Maverick', 'Medina', 'Real', 'Uvalde', 'Val Verde', 'Victoria', 'Wilson', 'Zavala', 'Andrews', 'Borden', 'Coke', 'Concho', 'Crane', 'Crockett', 'Dawson', 'Ector', 'Gaines', 'Glasscock', 'Howard', 'Irion', 'Kimble', 'Loving', 'Martin', 'Mason', 'McCulloch', 'Menard', 'Midland', 'Pecos', 'Reagan', 'Reeves', 'Schleicher', 'Sterling', 'Sutton', 'Terrell', 'Tom Green', 'Upton', 'Ward', 'Winkler', 'Brewster', 'Culberson', 'El Paso', 'Hudspeth', 'Jeff Davis', 'Presidio', 'Aransas', 'Bee', 'Brooks', 'Cameron', 'Duval', 'Hidalgo', 'Jim Hogg', 'Jim Wells', 'Kenedy', 'Kleberg', 'Live Oak', 'McMullen', 'Nueces', 'Refugio', 'San Patricio', 'Starr', 'Webb', 'Willacy', 'Zapata']\n"
      ],
      "execution_count": 9,
      "outputs": []
    },
    {
      "cell_type": "code",
      "metadata": {
        "id": "iGUHJ4Z_PV1_"
      },
      "source": [
        "def merge(df4, df2, df3, year):\n",
        "  for c,i in enumerate(df4.area_name):\n",
        "    if any(i in s for s in Bos):\n",
        "      df4.loc[c,'nh_white_male':'nh_other_female']=df4.loc[c,'nh_white_male':'nh_other_female']/df3.loc['Texas Balance of State CoC', f'Overall Homeless - Under 18, {year}']\n",
        "    elif any(i in s for s in wi):\n",
        "      df4.loc[c,'nh_white_male':'nh_other_female']=df4.loc[c,'nh_white_male':'nh_other_female']/df3.loc['Wichita Falls/Wise, Palo Pinto, Wichita, Archer Counties CoC', f'Overall Homeless - Under 18, {year}']\n",
        "    elif any(i in s for s in am):\n",
        "      df4.loc[c,'nh_white_male':'nh_other_female']=df4.loc[c,'nh_white_male':'nh_other_female']/df3.loc['Amarillo CoC', f'Overall Homeless - Under 18, {year}']\n",
        "    elif any(i in s for s in br):\n",
        "      df4.loc[c,'nh_white_male':'nh_other_female']=df4.loc[c,'nh_white_male':'nh_other_female']/df3.loc['Bryan, College Station/Brazos Valley CoC', f'Overall Homeless - Under 18, {year}']\n",
        "    elif any(i in s for s in da):\n",
        "      df4.loc[c,'nh_white_male':'nh_other_female']=df4.loc[c,'nh_white_male':'nh_other_female']/df3.loc['Dallas City & County, Irving CoC', f'Overall Homeless - Under 18, {year}']\n",
        "    elif any(i in s for s in el):\n",
        "      df4.loc[c,'nh_white_male':'nh_other_female']=df4.loc[c,'nh_white_male':'nh_other_female']/df3.loc['El Paso City & County CoC', f'Overall Homeless - Under 18, {year}']\n",
        "    elif any(i in s for s in ta):\n",
        "      df4.loc[c,'nh_white_male':'nh_other_female']=df4.loc[c,'nh_white_male':'nh_other_female']/df3.loc['Fort Worth, Arlington/Tarrant County CoC', f'Overall Homeless - Under 18, {year}']\n",
        "    elif any(i in s for s in ha):\n",
        "      df4.loc[c,'nh_white_male':'nh_other_female']=df4.loc[c,'nh_white_male':'nh_other_female']/df3.loc['Houston, Pasadena, Conroe/Harris, Ft. Bend, Montgomery, Counties CoC', f'Overall Homeless - Under 18, {year}']\n",
        "    elif any(i in s for s in bex):\n",
        "      df4.loc[c,'nh_white_male':'nh_other_female']=df4.loc[c,'nh_white_male':'nh_other_female']/df3.loc['San Antonio/Bexar County CoC', f'Overall Homeless - Under 18, {year}']\n",
        "    elif any(i in s for s in mc):\n",
        "      df4.loc[c,'nh_white_male':'nh_other_female']=df4.loc[c,'nh_white_male':'nh_other_female']/df3.loc['Waco/McLennan County CoC', f'Overall Homeless - Under 18, {year}']\n",
        "    elif any(i in s for s in tra):\n",
        "      df4.loc[c,'nh_white_male':'nh_other_female']=df4.loc[c,'nh_white_male':'nh_other_female']/df3.loc['Austin/Travis County CoC', f'Overall Homeless - Under 18, {year}']\n",
        "  \n",
        "  df4.drop(labels= ['age_group'], axis=1, inplace=True)\n",
        "  df5= pd.merge(df2, df4, on='area_name')\n",
        "  df5.drop(labels=['year'], inplace= True, axis=1)\n",
        "\n",
        "  return df5\n",
        "\n",
        "    \n",
        "    "
      ],
      "execution_count": 10,
      "outputs": []
    },
    {
      "cell_type": "code",
      "metadata": {
        "id": "2lRDXV4qCtLw"
      },
      "source": [
        "def create_ds(year):\n",
        "  #Census data\n",
        "  df1= pd.read_csv('data1.csv')\n",
        "  df1= df1[(df1.iloc[:]['year']==year)]\n",
        "  df1.drop(labels= ['FIPS', 'total', 'total_male', 'total_female', 'nh_white_total', \n",
        "                  'nh_black_total', 'hispanic_total', 'nh_asian_total', 'nh_other_total'], axis=1, inplace=True)\n",
        "  df1=df1[(~df1.iloc[:]['area_name'].str.contains('State of Texas'))]\n",
        "  df1.reset_index(drop= True, inplace= True)\n",
        "  df1=df1[(df1.iloc[:]['age_group'].str.contains('<18'))]\n",
        "  df1.reset_index(drop= True, inplace= True)\n",
        "  df1['area_name'] = df1['area_name'].str.replace(' County','')\n",
        "  print(df1.info())\n",
        "\n",
        "  #abuse dataset\n",
        "  df2= pd.read_csv('data2.csv')\n",
        "  df2.drop(labels= ['Region'], axis=1, inplace=True)\n",
        "  df2= df2[(df2.iloc[:]['Fiscal Year']==year)]\n",
        "  df2 = df2[df2.County != 'Out of State']\n",
        "  df2.reset_index(drop= True, inplace= True)\n",
        "  \n",
        "  #combine confirmed and non confirmed victims (for loop)\n",
        "  for i, c in enumerate(df2.County):\n",
        "    try:\n",
        "      if df2.iloc[i]['County']==df2.iloc[i+1]['County']:\n",
        "        df2.at[i, 'count']= int(df2.iloc[i+1]['Victims'].replace(',','')) + int(df2.iloc[i]['Victims'].replace(',',''))\n",
        "      elif df2.iloc[i]['County']!=df2.iloc[i-1]['County']:\n",
        "        df2.at[i, 'count']= int(df2.iloc[i]['Victims'])\n",
        "    except:\n",
        "      continue\n",
        "  #end of for loop\n",
        "  print(df2.head(5))\n",
        "  df2.dropna(axis=0, how='any', inplace= True)\n",
        "  df2.reset_index(drop= True, inplace= True)\n",
        "  \n",
        "  df2.drop(labels= ['Confirmed Victims', 'Victims'], axis=1, inplace=True)\n",
        "  df2.rename( inplace=True, columns={\"County\": \"area_name\"})\n",
        "  \n",
        "\n",
        "\n",
        "  #HUD dataset\n",
        "  df3= pd.read_excel('data3.xlsx', sheet_name=f'{year}', header = 0, usecols = ['CoC Number', 'CoC Name', f'Overall Homeless - Under 18, {year}'])\n",
        "  n=df3[df3['CoC Number'].str.contains(\"TX\", na=False)].index\n",
        "  df3= (df3.iloc[n])\n",
        "  df3.set_index('CoC Name', inplace= True)\n",
        "  print(df3.info())\n",
        "\n",
        "  df4= df1.copy()\n",
        "\n",
        "  df5= merge(df4, df2, df3, year)\n",
        "\n",
        "  return df5\n",
        "\n",
        "\n",
        "\n",
        "\n",
        "\n",
        "\n",
        "\n",
        "\n",
        "\n",
        "\n"
      ],
      "execution_count": 11,
      "outputs": []
    },
    {
      "cell_type": "code",
      "metadata": {
        "id": "_0moHBZALrfz"
      },
      "source": [
        "print(\"2020\")\n",
        "df_1= create_ds(2020)\n",
        "print(\"2019\")\n",
        "df_2= create_ds(2019)\n",
        "print(\"2018\")\n",
        "df_3= create_ds(2018)\n",
        "print(\"2017\")\n",
        "df_4= create_ds(2017)"
      ],
      "execution_count": null,
      "outputs": []
    },
    {
      "cell_type": "code",
      "metadata": {
        "colab": {
          "base_uri": "https://localhost:8080/",
          "height": 241
        },
        "id": "A-3x0x9fLrck",
        "outputId": "3e0645aa-7d65-4047-afcc-f8d6ee39e6e0"
      },
      "source": [
        "df_4.head(5)"
      ],
      "execution_count": 15,
      "outputs": [
        {
          "output_type": "execute_result",
          "data": {
            "text/html": [
              "<div>\n",
              "<style scoped>\n",
              "    .dataframe tbody tr th:only-of-type {\n",
              "        vertical-align: middle;\n",
              "    }\n",
              "\n",
              "    .dataframe tbody tr th {\n",
              "        vertical-align: top;\n",
              "    }\n",
              "\n",
              "    .dataframe thead th {\n",
              "        text-align: right;\n",
              "    }\n",
              "</style>\n",
              "<table border=\"1\" class=\"dataframe\">\n",
              "  <thead>\n",
              "    <tr style=\"text-align: right;\">\n",
              "      <th></th>\n",
              "      <th>Fiscal Year</th>\n",
              "      <th>area_name</th>\n",
              "      <th>count</th>\n",
              "      <th>nh_white_male</th>\n",
              "      <th>nh_white_female</th>\n",
              "      <th>nh_black_male</th>\n",
              "      <th>nh_black_female</th>\n",
              "      <th>hispanic_male</th>\n",
              "      <th>hispanic_female</th>\n",
              "      <th>nh_asian_male</th>\n",
              "      <th>nh_asian_female</th>\n",
              "      <th>nh_other_male</th>\n",
              "      <th>nh_other_female</th>\n",
              "    </tr>\n",
              "  </thead>\n",
              "  <tbody>\n",
              "    <tr>\n",
              "      <th>0</th>\n",
              "      <td>2017</td>\n",
              "      <td>Armstrong</td>\n",
              "      <td>17.0</td>\n",
              "      <td>0.099541</td>\n",
              "      <td>0.114855</td>\n",
              "      <td>0.000766</td>\n",
              "      <td>0.001531</td>\n",
              "      <td>0.026799</td>\n",
              "      <td>0.019908</td>\n",
              "      <td>0.000000</td>\n",
              "      <td>0.000000</td>\n",
              "      <td>0.004594</td>\n",
              "      <td>0.006891</td>\n",
              "    </tr>\n",
              "    <tr>\n",
              "      <th>1</th>\n",
              "      <td>2017</td>\n",
              "      <td>Bailey</td>\n",
              "      <td>80.0</td>\n",
              "      <td>0.196018</td>\n",
              "      <td>0.205972</td>\n",
              "      <td>0.006126</td>\n",
              "      <td>0.007657</td>\n",
              "      <td>0.697550</td>\n",
              "      <td>0.643185</td>\n",
              "      <td>0.003828</td>\n",
              "      <td>0.003063</td>\n",
              "      <td>0.008423</td>\n",
              "      <td>0.009188</td>\n",
              "    </tr>\n",
              "    <tr>\n",
              "      <th>2</th>\n",
              "      <td>2017</td>\n",
              "      <td>Briscoe</td>\n",
              "      <td>3.0</td>\n",
              "      <td>0.062021</td>\n",
              "      <td>0.061256</td>\n",
              "      <td>0.002297</td>\n",
              "      <td>0.003828</td>\n",
              "      <td>0.057427</td>\n",
              "      <td>0.050536</td>\n",
              "      <td>0.000000</td>\n",
              "      <td>0.000000</td>\n",
              "      <td>0.003828</td>\n",
              "      <td>0.004594</td>\n",
              "    </tr>\n",
              "    <tr>\n",
              "      <th>3</th>\n",
              "      <td>2017</td>\n",
              "      <td>Carson</td>\n",
              "      <td>89.0</td>\n",
              "      <td>0.424196</td>\n",
              "      <td>0.392037</td>\n",
              "      <td>0.006891</td>\n",
              "      <td>0.005360</td>\n",
              "      <td>0.088055</td>\n",
              "      <td>0.079632</td>\n",
              "      <td>0.000766</td>\n",
              "      <td>0.002297</td>\n",
              "      <td>0.017611</td>\n",
              "      <td>0.015314</td>\n",
              "    </tr>\n",
              "    <tr>\n",
              "      <th>4</th>\n",
              "      <td>2017</td>\n",
              "      <td>Castro</td>\n",
              "      <td>51.0</td>\n",
              "      <td>0.189893</td>\n",
              "      <td>0.161562</td>\n",
              "      <td>0.015314</td>\n",
              "      <td>0.017611</td>\n",
              "      <td>0.581164</td>\n",
              "      <td>0.570444</td>\n",
              "      <td>0.002297</td>\n",
              "      <td>0.005360</td>\n",
              "      <td>0.010720</td>\n",
              "      <td>0.012251</td>\n",
              "    </tr>\n",
              "  </tbody>\n",
              "</table>\n",
              "</div>"
            ],
            "text/plain": [
              "   Fiscal Year  area_name  ...  nh_other_male  nh_other_female\n",
              "0         2017  Armstrong  ...       0.004594         0.006891\n",
              "1         2017     Bailey  ...       0.008423         0.009188\n",
              "2         2017    Briscoe  ...       0.003828         0.004594\n",
              "3         2017     Carson  ...       0.017611         0.015314\n",
              "4         2017     Castro  ...       0.010720         0.012251\n",
              "\n",
              "[5 rows x 13 columns]"
            ]
          },
          "metadata": {},
          "execution_count": 15
        }
      ]
    },
    {
      "cell_type": "code",
      "metadata": {
        "colab": {
          "base_uri": "https://localhost:8080/",
          "height": 241
        },
        "id": "Wd_ZCdCMR3YE",
        "outputId": "4be1c576-35a2-49b2-f0e1-cfeb7aad2975"
      },
      "source": [
        "frames= [df_1, df_2, df_3, df_4]\n",
        "df = pd.concat(frames)\n",
        "df.reset_index(drop= True, inplace= True)\n",
        "df.head()"
      ],
      "execution_count": 21,
      "outputs": [
        {
          "output_type": "execute_result",
          "data": {
            "text/html": [
              "<div>\n",
              "<style scoped>\n",
              "    .dataframe tbody tr th:only-of-type {\n",
              "        vertical-align: middle;\n",
              "    }\n",
              "\n",
              "    .dataframe tbody tr th {\n",
              "        vertical-align: top;\n",
              "    }\n",
              "\n",
              "    .dataframe thead th {\n",
              "        text-align: right;\n",
              "    }\n",
              "</style>\n",
              "<table border=\"1\" class=\"dataframe\">\n",
              "  <thead>\n",
              "    <tr style=\"text-align: right;\">\n",
              "      <th></th>\n",
              "      <th>Fiscal Year</th>\n",
              "      <th>area_name</th>\n",
              "      <th>count</th>\n",
              "      <th>nh_white_male</th>\n",
              "      <th>nh_white_female</th>\n",
              "      <th>nh_black_male</th>\n",
              "      <th>nh_black_female</th>\n",
              "      <th>hispanic_male</th>\n",
              "      <th>hispanic_female</th>\n",
              "      <th>nh_asian_male</th>\n",
              "      <th>nh_asian_female</th>\n",
              "      <th>nh_other_male</th>\n",
              "      <th>nh_other_female</th>\n",
              "    </tr>\n",
              "  </thead>\n",
              "  <tbody>\n",
              "    <tr>\n",
              "      <th>0</th>\n",
              "      <td>2020</td>\n",
              "      <td>Armstrong</td>\n",
              "      <td>7.0</td>\n",
              "      <td>0.100233</td>\n",
              "      <td>0.101010</td>\n",
              "      <td>0.000777</td>\n",
              "      <td>0.000777</td>\n",
              "      <td>0.026418</td>\n",
              "      <td>0.020202</td>\n",
              "      <td>0.000000</td>\n",
              "      <td>0.000000</td>\n",
              "      <td>0.005439</td>\n",
              "      <td>0.007770</td>\n",
              "    </tr>\n",
              "    <tr>\n",
              "      <th>1</th>\n",
              "      <td>2020</td>\n",
              "      <td>Bailey</td>\n",
              "      <td>72.0</td>\n",
              "      <td>0.197358</td>\n",
              "      <td>0.214452</td>\n",
              "      <td>0.007770</td>\n",
              "      <td>0.007770</td>\n",
              "      <td>0.704740</td>\n",
              "      <td>0.644911</td>\n",
              "      <td>0.004662</td>\n",
              "      <td>0.003108</td>\n",
              "      <td>0.010101</td>\n",
              "      <td>0.011655</td>\n",
              "    </tr>\n",
              "    <tr>\n",
              "      <th>2</th>\n",
              "      <td>2020</td>\n",
              "      <td>Briscoe</td>\n",
              "      <td>9.0</td>\n",
              "      <td>0.062937</td>\n",
              "      <td>0.057498</td>\n",
              "      <td>0.000777</td>\n",
              "      <td>0.002331</td>\n",
              "      <td>0.056721</td>\n",
              "      <td>0.052836</td>\n",
              "      <td>0.000000</td>\n",
              "      <td>0.000000</td>\n",
              "      <td>0.003885</td>\n",
              "      <td>0.004662</td>\n",
              "    </tr>\n",
              "    <tr>\n",
              "      <th>3</th>\n",
              "      <td>2020</td>\n",
              "      <td>Carson</td>\n",
              "      <td>48.0</td>\n",
              "      <td>0.418026</td>\n",
              "      <td>0.369852</td>\n",
              "      <td>0.008547</td>\n",
              "      <td>0.007770</td>\n",
              "      <td>0.097902</td>\n",
              "      <td>0.088578</td>\n",
              "      <td>0.000777</td>\n",
              "      <td>0.001554</td>\n",
              "      <td>0.014763</td>\n",
              "      <td>0.015540</td>\n",
              "    </tr>\n",
              "    <tr>\n",
              "      <th>4</th>\n",
              "      <td>2020</td>\n",
              "      <td>Castro</td>\n",
              "      <td>55.0</td>\n",
              "      <td>0.184926</td>\n",
              "      <td>0.149961</td>\n",
              "      <td>0.016317</td>\n",
              "      <td>0.016317</td>\n",
              "      <td>0.548563</td>\n",
              "      <td>0.550894</td>\n",
              "      <td>0.003108</td>\n",
              "      <td>0.005439</td>\n",
              "      <td>0.011655</td>\n",
              "      <td>0.013986</td>\n",
              "    </tr>\n",
              "  </tbody>\n",
              "</table>\n",
              "</div>"
            ],
            "text/plain": [
              "   Fiscal Year  area_name  ...  nh_other_male  nh_other_female\n",
              "0         2020  Armstrong  ...       0.005439         0.007770\n",
              "1         2020     Bailey  ...       0.010101         0.011655\n",
              "2         2020    Briscoe  ...       0.003885         0.004662\n",
              "3         2020     Carson  ...       0.014763         0.015540\n",
              "4         2020     Castro  ...       0.011655         0.013986\n",
              "\n",
              "[5 rows x 13 columns]"
            ]
          },
          "metadata": {},
          "execution_count": 21
        }
      ]
    },
    {
      "cell_type": "code",
      "metadata": {
        "id": "xnWoqVgMgQA4"
      },
      "source": [
        "for c,i in enumerate(df.area_name):\n",
        "    if any(i in s for s in Bos):\n",
        "      df.at[c, 'coc']= 'Texas Balance of State CoC'\n",
        "    elif any(i in s for s in wi):\n",
        "      df.at[c, 'coc']= 'Wichita Falls/Wise, Palo Pinto, Wichita, Archer Counties CoC'\n",
        "    elif any(i in s for s in am):\n",
        "      df.at[c, 'coc']= 'Amarillo CoC'\n",
        "    elif any(i in s for s in br):\n",
        "      df.at[c, 'coc']= 'Bryan, College Station/Brazos Valley CoC'\n",
        "    elif any(i in s for s in da):\n",
        "      df.at[c, 'coc']= 'Dallas City & County, Irving CoC'\n",
        "    elif any(i in s for s in el):\n",
        "      df.at[c, 'coc']= 'El Paso City & County CoC'\n",
        "    elif any(i in s for s in ta):\n",
        "      df.at[c, 'coc']= 'Fort Worth, Arlington/Tarrant County CoC'\n",
        "    elif any(i in s for s in ha):\n",
        "      df.at[c, 'coc']= 'Houston, Pasadena, Conroe/Harris, Ft. Bend, Montgomery, Counties CoC'\n",
        "    elif any(i in s for s in bex):\n",
        "      df.at[c, 'coc']= 'San Antonio/Bexar County CoC'\n",
        "    elif any(i in s for s in mc):\n",
        "      df.at[c, 'coc']= 'Waco/McLennan County CoC'\n",
        "    elif any(i in s for s in tra):\n",
        "      df.at[c, 'coc']= 'Austin/Travis County CoC'"
      ],
      "execution_count": 23,
      "outputs": []
    },
    {
      "cell_type": "code",
      "metadata": {
        "id": "tHbKQP30SJFI"
      },
      "source": [
        "print(df.to_string())"
      ],
      "execution_count": null,
      "outputs": []
    },
    {
      "cell_type": "code",
      "metadata": {
        "id": "K_V8Bv2nTAo6"
      },
      "source": [
        "from sklearn.model_selection import train_test_split\n",
        "\n",
        "train_df, test_df = train_test_split(df, test_size=0.2)"
      ],
      "execution_count": 34,
      "outputs": []
    },
    {
      "cell_type": "code",
      "metadata": {
        "colab": {
          "base_uri": "https://localhost:8080/"
        },
        "id": "TVE1OijTY4-O",
        "outputId": "1d99cfef-62f4-471a-d3e2-5c275e65d84c"
      },
      "source": [
        "train_df.reset_index(drop= True, inplace= True)\n",
        "test_df.reset_index(drop= True, inplace= True)\n",
        "train_df.info(), test_df.info()"
      ],
      "execution_count": 35,
      "outputs": [
        {
          "output_type": "stream",
          "name": "stdout",
          "text": [
            "<class 'pandas.core.frame.DataFrame'>\n",
            "RangeIndex: 804 entries, 0 to 803\n",
            "Data columns (total 14 columns):\n",
            " #   Column           Non-Null Count  Dtype  \n",
            "---  ------           --------------  -----  \n",
            " 0   Fiscal Year      804 non-null    int64  \n",
            " 1   area_name        804 non-null    object \n",
            " 2   count            804 non-null    float64\n",
            " 3   nh_white_male    804 non-null    float64\n",
            " 4   nh_white_female  804 non-null    float64\n",
            " 5   nh_black_male    804 non-null    float64\n",
            " 6   nh_black_female  804 non-null    float64\n",
            " 7   hispanic_male    804 non-null    float64\n",
            " 8   hispanic_female  804 non-null    float64\n",
            " 9   nh_asian_male    804 non-null    float64\n",
            " 10  nh_asian_female  804 non-null    float64\n",
            " 11  nh_other_male    804 non-null    float64\n",
            " 12  nh_other_female  804 non-null    float64\n",
            " 13  coc              804 non-null    object \n",
            "dtypes: float64(11), int64(1), object(2)\n",
            "memory usage: 88.1+ KB\n",
            "<class 'pandas.core.frame.DataFrame'>\n",
            "RangeIndex: 202 entries, 0 to 201\n",
            "Data columns (total 14 columns):\n",
            " #   Column           Non-Null Count  Dtype  \n",
            "---  ------           --------------  -----  \n",
            " 0   Fiscal Year      202 non-null    int64  \n",
            " 1   area_name        202 non-null    object \n",
            " 2   count            202 non-null    float64\n",
            " 3   nh_white_male    202 non-null    float64\n",
            " 4   nh_white_female  202 non-null    float64\n",
            " 5   nh_black_male    202 non-null    float64\n",
            " 6   nh_black_female  202 non-null    float64\n",
            " 7   hispanic_male    202 non-null    float64\n",
            " 8   hispanic_female  202 non-null    float64\n",
            " 9   nh_asian_male    202 non-null    float64\n",
            " 10  nh_asian_female  202 non-null    float64\n",
            " 11  nh_other_male    202 non-null    float64\n",
            " 12  nh_other_female  202 non-null    float64\n",
            " 13  coc              202 non-null    object \n",
            "dtypes: float64(11), int64(1), object(2)\n",
            "memory usage: 22.2+ KB\n"
          ]
        },
        {
          "output_type": "execute_result",
          "data": {
            "text/plain": [
              "(None, None)"
            ]
          },
          "metadata": {},
          "execution_count": 35
        }
      ]
    },
    {
      "cell_type": "markdown",
      "metadata": {
        "id": "IFkR_P7sZnxQ"
      },
      "source": [
        "Next Stages:\n",
        "1. Calculating the rate (Numerator as homeless pop in that County and denominator as census projection for that County for a particular year) which will lead to unique values for each county as with values as homeless population per demographic\n",
        "2. Based on the County, merging the datasets to get a dataset with homeless pop per demograph and abuse victims\n",
        "3. Calculating correlation between features and target variable (lieklihood of abuse depending on some characteristics)\n",
        "4. Building a predictive model which can give a likelihood of vulnerable populations in that County for Social Services to focus on\n"
      ]
    },
    {
      "cell_type": "code",
      "metadata": {
        "colab": {
          "base_uri": "https://localhost:8080/"
        },
        "id": "XxZTcOsZe_-3",
        "outputId": "e96163e1-a345-49b7-d0a4-ec8b7036bba3"
      },
      "source": [
        "def bin(dataframe, cols):\n",
        "\t# Create new columns that store the binned data\n",
        "    for col in cols:\n",
        "        new_col_name = \"{}_bins\".format(col)\n",
        "        dataframe[new_col_name] = pd.qcut(dataframe[col], 5, labels=[1,2,3,4,5])\n",
        "\n",
        "bin(train_df, ['count'])\n",
        "bin(test_df, ['count'])"
      ],
      "execution_count": 36,
      "outputs": [
        {
          "output_type": "stream",
          "name": "stderr",
          "text": [
            "/usr/local/lib/python3.7/dist-packages/ipykernel_launcher.py:5: SettingWithCopyWarning: \n",
            "A value is trying to be set on a copy of a slice from a DataFrame.\n",
            "Try using .loc[row_indexer,col_indexer] = value instead\n",
            "\n",
            "See the caveats in the documentation: https://pandas.pydata.org/pandas-docs/stable/user_guide/indexing.html#returning-a-view-versus-a-copy\n",
            "  \"\"\"\n",
            "/usr/local/lib/python3.7/dist-packages/ipykernel_launcher.py:5: SettingWithCopyWarning: \n",
            "A value is trying to be set on a copy of a slice from a DataFrame.\n",
            "Try using .loc[row_indexer,col_indexer] = value instead\n",
            "\n",
            "See the caveats in the documentation: https://pandas.pydata.org/pandas-docs/stable/user_guide/indexing.html#returning-a-view-versus-a-copy\n",
            "  \"\"\"\n"
          ]
        }
      ]
    },
    {
      "cell_type": "code",
      "metadata": {
        "colab": {
          "base_uri": "https://localhost:8080/"
        },
        "id": "6qlaeBXKfXHn",
        "outputId": "72763dcf-0c3e-4eae-e4ca-90480856836b"
      },
      "source": [
        "train_df.drop(labels=['count', 'area_name', 'Fiscal Year'], inplace= True, axis=1)\n",
        "test_df.drop(labels=['count', 'area_name', 'Fiscal Year'], inplace= True, axis=1)"
      ],
      "execution_count": 37,
      "outputs": [
        {
          "output_type": "stream",
          "name": "stderr",
          "text": [
            "/usr/local/lib/python3.7/dist-packages/pandas/core/frame.py:4174: SettingWithCopyWarning: \n",
            "A value is trying to be set on a copy of a slice from a DataFrame\n",
            "\n",
            "See the caveats in the documentation: https://pandas.pydata.org/pandas-docs/stable/user_guide/indexing.html#returning-a-view-versus-a-copy\n",
            "  errors=errors,\n"
          ]
        }
      ]
    },
    {
      "cell_type": "code",
      "metadata": {
        "colab": {
          "base_uri": "https://localhost:8080/"
        },
        "id": "iLjaB_f_tknN",
        "outputId": "42b0f974-5151-45cf-bf5c-da7a14af2e18"
      },
      "source": [
        "\n",
        "train_df['count']=train_df.count_bins.astype(\"category\").cat.codes\n",
        "train_df.drop(labels=['count_bins'], inplace= True, axis=1)\n",
        "\n",
        "test_df['count']=test_df.count_bins.astype(\"category\").cat.codes\n",
        "test_df.drop(labels=['count_bins'], inplace= True, axis=1)"
      ],
      "execution_count": 39,
      "outputs": [
        {
          "output_type": "stream",
          "name": "stderr",
          "text": [
            "/usr/local/lib/python3.7/dist-packages/ipykernel_launcher.py:2: SettingWithCopyWarning: \n",
            "A value is trying to be set on a copy of a slice from a DataFrame.\n",
            "Try using .loc[row_indexer,col_indexer] = value instead\n",
            "\n",
            "See the caveats in the documentation: https://pandas.pydata.org/pandas-docs/stable/user_guide/indexing.html#returning-a-view-versus-a-copy\n",
            "  \n",
            "/usr/local/lib/python3.7/dist-packages/pandas/core/frame.py:4174: SettingWithCopyWarning: \n",
            "A value is trying to be set on a copy of a slice from a DataFrame\n",
            "\n",
            "See the caveats in the documentation: https://pandas.pydata.org/pandas-docs/stable/user_guide/indexing.html#returning-a-view-versus-a-copy\n",
            "  errors=errors,\n",
            "/usr/local/lib/python3.7/dist-packages/ipykernel_launcher.py:5: SettingWithCopyWarning: \n",
            "A value is trying to be set on a copy of a slice from a DataFrame.\n",
            "Try using .loc[row_indexer,col_indexer] = value instead\n",
            "\n",
            "See the caveats in the documentation: https://pandas.pydata.org/pandas-docs/stable/user_guide/indexing.html#returning-a-view-versus-a-copy\n",
            "  \"\"\"\n"
          ]
        }
      ]
    },
    {
      "cell_type": "code",
      "metadata": {
        "colab": {
          "base_uri": "https://localhost:8080/"
        },
        "id": "I3kPqEgoaTpP",
        "outputId": "a1886fd3-cfe0-434e-f46e-8b1356ad7741"
      },
      "source": [
        "test_df.info()"
      ],
      "execution_count": 43,
      "outputs": [
        {
          "output_type": "stream",
          "name": "stdout",
          "text": [
            "<class 'pandas.core.frame.DataFrame'>\n",
            "RangeIndex: 202 entries, 0 to 201\n",
            "Data columns (total 12 columns):\n",
            " #   Column           Non-Null Count  Dtype  \n",
            "---  ------           --------------  -----  \n",
            " 0   nh_white_male    202 non-null    float64\n",
            " 1   nh_white_female  202 non-null    float64\n",
            " 2   nh_black_male    202 non-null    float64\n",
            " 3   nh_black_female  202 non-null    float64\n",
            " 4   hispanic_male    202 non-null    float64\n",
            " 5   hispanic_female  202 non-null    float64\n",
            " 6   nh_asian_male    202 non-null    float64\n",
            " 7   nh_asian_female  202 non-null    float64\n",
            " 8   nh_other_male    202 non-null    float64\n",
            " 9   nh_other_female  202 non-null    float64\n",
            " 10  coc              202 non-null    object \n",
            " 11  count            202 non-null    int8   \n",
            "dtypes: float64(10), int8(1), object(1)\n",
            "memory usage: 17.7+ KB\n"
          ]
        }
      ]
    },
    {
      "cell_type": "code",
      "metadata": {
        "id": "0-Cy90Fz8CE5"
      },
      "source": [
        "# Source: https://maxhalford.github.io/blog/target-encoding-done-the-right-way/\n",
        "def calc_smooth_mean(df, df1, df2, cat_name, target, weight):\n",
        "    # Compute the global mean\n",
        "    mean = df[target].mean()\n",
        "\n",
        "    # Compute the number of values and the mean of each group\n",
        "    agg = df.groupby(cat_name)[target].agg(['count', 'mean'])\n",
        "    counts = agg['count']\n",
        "    means = agg['mean']\n",
        "\n",
        "    # Compute the \"smoothed\" means\n",
        "    smooth = (counts * means + weight * mean) / (counts + weight)\n",
        "\n",
        "    # Replace each value by the according smoothed mean\n",
        "    if df2 is None:\n",
        "        return df1[cat_name].map(smooth)\n",
        "    else:\n",
        "        return df1[cat_name].map(smooth),df2[cat_name].map(smooth.to_dict())"
      ],
      "execution_count": 44,
      "outputs": []
    },
    {
      "cell_type": "code",
      "metadata": {
        "colab": {
          "base_uri": "https://localhost:8080/"
        },
        "id": "MogWYDwP8Eoh",
        "outputId": "a80fe021-62ff-4dea-adea-1050c64733c1"
      },
      "source": [
        "WEIGHT = 0\n",
        "train_df['coc_enc'] = calc_smooth_mean(df=train_df, df1=train_df, df2=None, cat_name='coc', target='count', weight=WEIGHT)\n",
        "test_df['coc_enc'] = calc_smooth_mean(df=test_df, df1=test_df, df2=None, cat_name='coc', target='count', weight=WEIGHT)\n",
        "#df['cat_1_enc'] = calc_smooth_mean(df1=df, df2=None, cat_name='cat_1', target='y', weight=WEIGHT)"
      ],
      "execution_count": 45,
      "outputs": [
        {
          "output_type": "stream",
          "name": "stderr",
          "text": [
            "/usr/local/lib/python3.7/dist-packages/ipykernel_launcher.py:2: SettingWithCopyWarning: \n",
            "A value is trying to be set on a copy of a slice from a DataFrame.\n",
            "Try using .loc[row_indexer,col_indexer] = value instead\n",
            "\n",
            "See the caveats in the documentation: https://pandas.pydata.org/pandas-docs/stable/user_guide/indexing.html#returning-a-view-versus-a-copy\n",
            "  \n",
            "/usr/local/lib/python3.7/dist-packages/ipykernel_launcher.py:3: SettingWithCopyWarning: \n",
            "A value is trying to be set on a copy of a slice from a DataFrame.\n",
            "Try using .loc[row_indexer,col_indexer] = value instead\n",
            "\n",
            "See the caveats in the documentation: https://pandas.pydata.org/pandas-docs/stable/user_guide/indexing.html#returning-a-view-versus-a-copy\n",
            "  This is separate from the ipykernel package so we can avoid doing imports until\n"
          ]
        }
      ]
    },
    {
      "cell_type": "code",
      "metadata": {
        "colab": {
          "base_uri": "https://localhost:8080/"
        },
        "id": "YJpnrbwNDPmm",
        "outputId": "5edd021f-e86d-4e8a-932a-56fe6b110275"
      },
      "source": [
        "train_df.drop(labels=['coc'], inplace= True, axis=1)\n",
        "test_df.drop(labels=['coc'], inplace= True, axis=1)\n",
        "train_df.reset_index(drop= True, inplace= True)\n",
        "test_df.reset_index(drop= True, inplace= True)\n",
        "train_df.info(), test_df.info()"
      ],
      "execution_count": 46,
      "outputs": [
        {
          "output_type": "stream",
          "name": "stdout",
          "text": [
            "<class 'pandas.core.frame.DataFrame'>\n",
            "RangeIndex: 804 entries, 0 to 803\n",
            "Data columns (total 12 columns):\n",
            " #   Column           Non-Null Count  Dtype  \n",
            "---  ------           --------------  -----  \n",
            " 0   nh_white_male    804 non-null    float64\n",
            " 1   nh_white_female  804 non-null    float64\n",
            " 2   nh_black_male    804 non-null    float64\n",
            " 3   nh_black_female  804 non-null    float64\n",
            " 4   hispanic_male    804 non-null    float64\n",
            " 5   hispanic_female  804 non-null    float64\n",
            " 6   nh_asian_male    804 non-null    float64\n",
            " 7   nh_asian_female  804 non-null    float64\n",
            " 8   nh_other_male    804 non-null    float64\n",
            " 9   nh_other_female  804 non-null    float64\n",
            " 10  count            804 non-null    int8   \n",
            " 11  coc_enc          804 non-null    float64\n",
            "dtypes: float64(11), int8(1)\n",
            "memory usage: 70.0 KB\n",
            "<class 'pandas.core.frame.DataFrame'>\n",
            "RangeIndex: 202 entries, 0 to 201\n",
            "Data columns (total 12 columns):\n",
            " #   Column           Non-Null Count  Dtype  \n",
            "---  ------           --------------  -----  \n",
            " 0   nh_white_male    202 non-null    float64\n",
            " 1   nh_white_female  202 non-null    float64\n",
            " 2   nh_black_male    202 non-null    float64\n",
            " 3   nh_black_female  202 non-null    float64\n",
            " 4   hispanic_male    202 non-null    float64\n",
            " 5   hispanic_female  202 non-null    float64\n",
            " 6   nh_asian_male    202 non-null    float64\n",
            " 7   nh_asian_female  202 non-null    float64\n",
            " 8   nh_other_male    202 non-null    float64\n",
            " 9   nh_other_female  202 non-null    float64\n",
            " 10  count            202 non-null    int8   \n",
            " 11  coc_enc          202 non-null    float64\n",
            "dtypes: float64(11), int8(1)\n",
            "memory usage: 17.7 KB\n"
          ]
        },
        {
          "output_type": "stream",
          "name": "stderr",
          "text": [
            "/usr/local/lib/python3.7/dist-packages/pandas/core/frame.py:4174: SettingWithCopyWarning: \n",
            "A value is trying to be set on a copy of a slice from a DataFrame\n",
            "\n",
            "See the caveats in the documentation: https://pandas.pydata.org/pandas-docs/stable/user_guide/indexing.html#returning-a-view-versus-a-copy\n",
            "  errors=errors,\n"
          ]
        },
        {
          "output_type": "execute_result",
          "data": {
            "text/plain": [
              "(None, None)"
            ]
          },
          "metadata": {},
          "execution_count": 46
        }
      ]
    },
    {
      "cell_type": "code",
      "metadata": {
        "colab": {
          "base_uri": "https://localhost:8080/"
        },
        "id": "wdA6kVcpE7Aq",
        "outputId": "a004ef01-d31f-44a2-bfca-40f2b5360477"
      },
      "source": [
        "y_train= train_df['count'].to_numpy()\n",
        "train_df.drop(labels=['count'], inplace= True, axis=1)\n",
        "X_train= train_df.to_numpy()\n",
        "\n",
        "y_test= test_df['count'].to_numpy()\n",
        "test_df.drop(labels=['count'], inplace= True, axis=1)\n",
        "X_test= test_df.to_numpy()"
      ],
      "execution_count": 50,
      "outputs": [
        {
          "output_type": "stream",
          "name": "stderr",
          "text": [
            "/usr/local/lib/python3.7/dist-packages/pandas/core/frame.py:4174: SettingWithCopyWarning: \n",
            "A value is trying to be set on a copy of a slice from a DataFrame\n",
            "\n",
            "See the caveats in the documentation: https://pandas.pydata.org/pandas-docs/stable/user_guide/indexing.html#returning-a-view-versus-a-copy\n",
            "  errors=errors,\n"
          ]
        }
      ]
    },
    {
      "cell_type": "code",
      "metadata": {
        "id": "YjfvXM2deA1j"
      },
      "source": [
        "from sklearn.preprocessing import Normalizer\n",
        "transformer = Normalizer().fit(X_train)\n",
        "X_train_norm= transformer.transform(X_train)\n",
        "X_test_norm= transformer.transform(X_test)"
      ],
      "execution_count": 57,
      "outputs": []
    },
    {
      "cell_type": "markdown",
      "metadata": {
        "id": "lpCFxEznemjX"
      },
      "source": [
        "Random Forest: 82%"
      ]
    },
    {
      "cell_type": "code",
      "metadata": {
        "id": "zsXZneHLItc2"
      },
      "source": [
        "from sklearn.ensemble import RandomForestClassifier\n",
        "rf_classifier = RandomForestClassifier()\n",
        "rf_classifier.fit(X_train_norm, y_train)\n",
        "rf_predictions = rf_classifier.predict(X_test_norm)"
      ],
      "execution_count": 64,
      "outputs": []
    },
    {
      "cell_type": "code",
      "metadata": {
        "colab": {
          "base_uri": "https://localhost:8080/"
        },
        "id": "_tVPv3_LI9VE",
        "outputId": "bc2846f6-1e26-42a8-d63e-ced7c051a6b8"
      },
      "source": [
        "from sklearn.metrics import accuracy_score\n",
        "accuracy_score(y_test, rf_predictions)"
      ],
      "execution_count": 65,
      "outputs": [
        {
          "output_type": "execute_result",
          "data": {
            "text/plain": [
              "0.8168316831683168"
            ]
          },
          "metadata": {},
          "execution_count": 65
        }
      ]
    },
    {
      "cell_type": "markdown",
      "metadata": {
        "id": "87sdRJslerET"
      },
      "source": [
        "SVM: 68%"
      ]
    },
    {
      "cell_type": "code",
      "metadata": {
        "colab": {
          "base_uri": "https://localhost:8080/"
        },
        "id": "r310tOEdeqLD",
        "outputId": "ea06a9c9-3c1b-4d60-fb7f-3a37d4361fd0"
      },
      "source": [
        "from sklearn import svm\n",
        "clf = svm.SVC(decision_function_shape='ovo')\n",
        "clf.fit(X_train_norm, y_train)\n",
        "svm_predictions= clf.predict(X_test_norm)\n",
        "accuracy_score(y_test, svm_predictions)"
      ],
      "execution_count": 69,
      "outputs": [
        {
          "output_type": "execute_result",
          "data": {
            "text/plain": [
              "0.6831683168316832"
            ]
          },
          "metadata": {},
          "execution_count": 69
        }
      ]
    }
  ]
}