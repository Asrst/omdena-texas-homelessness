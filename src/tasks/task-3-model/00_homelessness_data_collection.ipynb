{
 "cells": [
  {
   "cell_type": "code",
   "execution_count": 1,
   "id": "9340d89e",
   "metadata": {
    "execution": {
     "iopub.execute_input": "2021-10-30T09:33:11.589357Z",
     "iopub.status.busy": "2021-10-30T09:33:11.588450Z",
     "iopub.status.idle": "2021-10-30T09:33:20.806304Z",
     "shell.execute_reply": "2021-10-30T09:33:20.805605Z",
     "shell.execute_reply.started": "2021-10-30T09:31:54.794272Z"
    },
    "papermill": {
     "duration": 9.251035,
     "end_time": "2021-10-30T09:33:20.806481",
     "exception": false,
     "start_time": "2021-10-30T09:33:11.555446",
     "status": "completed"
    },
    "tags": []
   },
   "outputs": [
    {
     "name": "stdout",
     "output_type": "stream",
     "text": [
      "\u001b[33mWARNING: Running pip as the 'root' user can result in broken permissions and conflicting behaviour with the system package manager. It is recommended to use a virtual environment instead: https://pip.pypa.io/warnings/venv\u001b[0m\r\n"
     ]
    }
   ],
   "source": [
    "!pip -q install openpyxl xlrd"
   ]
  },
  {
   "cell_type": "code",
   "execution_count": 2,
   "id": "b401b149",
   "metadata": {
    "_cell_guid": "b1076dfc-b9ad-4769-8c92-a6c4dae69d19",
    "_uuid": "8f2839f25d086af736a60e9eeb907d3b93b6e0e5",
    "execution": {
     "iopub.execute_input": "2021-10-30T09:33:20.859360Z",
     "iopub.status.busy": "2021-10-30T09:33:20.858656Z",
     "iopub.status.idle": "2021-10-30T09:33:20.870326Z",
     "shell.execute_reply": "2021-10-30T09:33:20.870777Z",
     "shell.execute_reply.started": "2021-10-30T09:32:06.232901Z"
    },
    "papermill": {
     "duration": 0.04005,
     "end_time": "2021-10-30T09:33:20.871006",
     "exception": false,
     "start_time": "2021-10-30T09:33:20.830956",
     "status": "completed"
    },
    "tags": []
   },
   "outputs": [
    {
     "name": "stdout",
     "output_type": "stream",
     "text": [
      "/kaggle/input/forecast-homelessness/2007-2020-HIC-Counts-by-CoC.xlsx\n",
      "/kaggle/input/forecast-homelessness/2007-2020-PIT-Estimates-by-CoC.xlsx\n",
      "/kaggle/input/forecast-homelessness/2007-2020-PIT-Estimates-by-state.xlsx\n",
      "/kaggle/input/forecast-homelessness/2007-2020-HIC-Counts-by-State.xlsx\n",
      "/kaggle/input/forecast-homelessness/2011-2020-PIT-Veteran-Counts-by-State.xlsx\n",
      "/kaggle/input/forecast-homelessness/2011-2020-PIT-Veteran-Counts-by-CoC.xlsx\n"
     ]
    }
   ],
   "source": [
    "import numpy as np # linear algebra\n",
    "import pandas as pd # data processing, CSV file I/O (e.g. pd.read_csv)\n",
    "import os\n",
    "for dirname, _, filenames in os.walk('/kaggle/input'):\n",
    "    for filename in filenames:\n",
    "        print(os.path.join(dirname, filename))"
   ]
  },
  {
   "cell_type": "markdown",
   "id": "f4a2879b",
   "metadata": {
    "papermill": {
     "duration": 0.021947,
     "end_time": "2021-10-30T09:33:20.915627",
     "exception": false,
     "start_time": "2021-10-30T09:33:20.893680",
     "status": "completed"
    },
    "tags": []
   },
   "source": [
    "### collect yearly rent data of us states"
   ]
  },
  {
   "cell_type": "code",
   "execution_count": 3,
   "id": "914f27f9",
   "metadata": {
    "execution": {
     "iopub.execute_input": "2021-10-30T09:33:20.966874Z",
     "iopub.status.busy": "2021-10-30T09:33:20.966210Z",
     "iopub.status.idle": "2021-10-30T09:33:20.968873Z",
     "shell.execute_reply": "2021-10-30T09:33:20.968265Z",
     "shell.execute_reply.started": "2021-10-30T09:32:06.250432Z"
    },
    "papermill": {
     "duration": 0.031001,
     "end_time": "2021-10-30T09:33:20.969009",
     "exception": false,
     "start_time": "2021-10-30T09:33:20.938008",
     "status": "completed"
    },
    "tags": []
   },
   "outputs": [],
   "source": [
    "def get_text_in_parenthesis(s):\n",
    "    import re\n",
    "    return re.findall('\\(.*?\\)', s)[0].strip(\"()\")"
   ]
  },
  {
   "cell_type": "code",
   "execution_count": 4,
   "id": "4b99d35e",
   "metadata": {
    "execution": {
     "iopub.execute_input": "2021-10-30T09:33:21.021954Z",
     "iopub.status.busy": "2021-10-30T09:33:21.021287Z",
     "iopub.status.idle": "2021-10-30T09:33:23.981272Z",
     "shell.execute_reply": "2021-10-30T09:33:23.981976Z",
     "shell.execute_reply.started": "2021-10-30T09:32:06.258054Z"
    },
    "papermill": {
     "duration": 2.990149,
     "end_time": "2021-10-30T09:33:23.982233",
     "exception": false,
     "start_time": "2021-10-30T09:33:20.992084",
     "status": "completed"
    },
    "tags": []
   },
   "outputs": [
    {
     "data": {
      "text/plain": [
       "((820, 9),\n",
       " Index(['State_Name', '0 BR', '1 BR', '2 BR', '3 BR', '4 BR', 'Est. Population',\n",
       "        'Date', 'State'],\n",
       "       dtype='object'),\n",
       " 56)"
      ]
     },
     "execution_count": 4,
     "metadata": {},
     "output_type": "execute_result"
    }
   ],
   "source": [
    "from bs4 import BeautifulSoup\n",
    "import requests\n",
    "base_url = \"https://www.rentdata.org/states\"\n",
    "\n",
    "rent_data = pd.DataFrame()\n",
    "\n",
    "for yr in range(2006, 2021):\n",
    "    yr_url = f\"{base_url}/{yr}\"\n",
    "    html = requests.get(yr_url).text\n",
    "    soup = BeautifulSoup(html, \"lxml\")\n",
    "    all_table = soup.find(\"table\", attrs={\"id\": \"state_table\"})\n",
    "    tt = pd.read_html(str(all_table))\n",
    "    yr_df = tt[0]\n",
    "    yr_df['Date'] = f\"31-01-{yr}\"\n",
    "    rent_data = rent_data.append(yr_df)\n",
    "    \n",
    "rent_data = rent_data.rename(columns={'State':\"State_Name\"})\n",
    "rent_data['State'] = rent_data['State_Name'].apply(get_text_in_parenthesis)\n",
    "rent_data['Date'] = pd.to_datetime(rent_data['Date'])\n",
    "rent_data.shape, rent_data.columns, rent_data['State'].nunique()"
   ]
  },
  {
   "cell_type": "code",
   "execution_count": 5,
   "id": "a3741fc1",
   "metadata": {
    "execution": {
     "iopub.execute_input": "2021-10-30T09:33:24.048724Z",
     "iopub.status.busy": "2021-10-30T09:33:24.044692Z",
     "iopub.status.idle": "2021-10-30T09:33:24.071588Z",
     "shell.execute_reply": "2021-10-30T09:33:24.072346Z",
     "shell.execute_reply.started": "2021-10-30T09:32:10.932051Z"
    },
    "papermill": {
     "duration": 0.054415,
     "end_time": "2021-10-30T09:33:24.072577",
     "exception": false,
     "start_time": "2021-10-30T09:33:24.018162",
     "status": "completed"
    },
    "tags": []
   },
   "outputs": [
    {
     "name": "stderr",
     "output_type": "stream",
     "text": [
      "/opt/conda/lib/python3.7/site-packages/ipykernel_launcher.py:2: FutureWarning: The default value of regex will change from True to False in a future version. In addition, single character regular expressions will *not* be treated as literal strings when regex=True.\n",
      "  \n"
     ]
    }
   ],
   "source": [
    "for col in ['0 BR', '1 BR', '2 BR', '3 BR', '4 BR',]:\n",
    "    rent_data[col] = rent_data[col].str.replace(\"$\",\"\")\n",
    "    rent_data[col] = rent_data[col].str.replace(\",\",\"\")\n",
    "    rent_data[col] = rent_data[col].str.replace(\" \",\"\").astype(float)"
   ]
  },
  {
   "cell_type": "code",
   "execution_count": 6,
   "id": "1713cc02",
   "metadata": {
    "execution": {
     "iopub.execute_input": "2021-10-30T09:33:24.122816Z",
     "iopub.status.busy": "2021-10-30T09:33:24.122212Z",
     "iopub.status.idle": "2021-10-30T09:33:24.621301Z",
     "shell.execute_reply": "2021-10-30T09:33:24.620770Z",
     "shell.execute_reply.started": "2021-10-30T09:32:10.958173Z"
    },
    "papermill": {
     "duration": 0.523807,
     "end_time": "2021-10-30T09:33:24.621440",
     "exception": false,
     "start_time": "2021-10-30T09:33:24.097633",
     "status": "completed"
    },
    "tags": []
   },
   "outputs": [
    {
     "data": {
      "text/plain": [
       "((9224, 3), Index(['Date', 'Min_Rent', 'State'], dtype='object'))"
      ]
     },
     "execution_count": 6,
     "metadata": {},
     "output_type": "execute_result"
    }
   ],
   "source": [
    "rents_df = pd.DataFrame()\n",
    "for state in rent_data['State'].unique():\n",
    "    state_df = rent_data[rent_data['State'].isin([state])]\n",
    "    state_df = state_df[['Date', '0 BR']]\n",
    "    upsample = state_df.set_index(['Date']).resample('M')\n",
    "    interpolated = upsample.interpolate(method='time').reset_index()\n",
    "    interpolated['State'] = state\n",
    "    rents_df = rents_df.append(interpolated.round())\n",
    "    \n",
    "rents_df = rents_df.rename(columns={'Year':'Date', '0 BR': 'Min_Rent'})\n",
    "rents_df.shape, rents_df.columns"
   ]
  },
  {
   "cell_type": "markdown",
   "id": "fbf1f31d",
   "metadata": {
    "papermill": {
     "duration": 0.02202,
     "end_time": "2021-10-30T09:33:24.666221",
     "exception": false,
     "start_time": "2021-10-30T09:33:24.644201",
     "status": "completed"
    },
    "tags": []
   },
   "source": [
    "### homelessness data"
   ]
  },
  {
   "cell_type": "code",
   "execution_count": 7,
   "id": "115c1c48",
   "metadata": {
    "execution": {
     "iopub.execute_input": "2021-10-30T09:33:24.716445Z",
     "iopub.status.busy": "2021-10-30T09:33:24.715816Z",
     "iopub.status.idle": "2021-10-30T09:33:24.947544Z",
     "shell.execute_reply": "2021-10-30T09:33:24.946899Z",
     "shell.execute_reply.started": "2021-10-30T09:32:11.573715Z"
    },
    "papermill": {
     "duration": 0.259107,
     "end_time": "2021-10-30T09:33:24.947680",
     "exception": false,
     "start_time": "2021-10-30T09:33:24.688573",
     "status": "completed"
    },
    "tags": []
   },
   "outputs": [
    {
     "name": "stdout",
     "output_type": "stream",
     "text": [
      "['2020', '2019', '2018', '2017', '2016', '2015', '2014', '2013', '2012', '2011', '2010', '2009', '2008', '2007', 'Revisions']\n"
     ]
    }
   ],
   "source": [
    "from openpyxl import load_workbook\n",
    "\n",
    "working_dir = \"/kaggle/input/forecast-homelessness\"\n",
    "pit_path = f\"{working_dir}/2007-2020-PIT-Estimates-by-state.xlsx\"\n",
    "hit_path = f\"{working_dir}/2007-2020-HIC-Counts-by-State.xlsx\"\n",
    "\n",
    "def get_sheetnames_xlsx(filepath):\n",
    "    wb = load_workbook(filepath, read_only=True, keep_links=False)\n",
    "    return wb.sheetnames\n",
    "\n",
    "sheet_names = get_sheetnames_xlsx(hit_path)\n",
    "print(sheet_names)"
   ]
  },
  {
   "cell_type": "code",
   "execution_count": 8,
   "id": "954d5a10",
   "metadata": {
    "execution": {
     "iopub.execute_input": "2021-10-30T09:33:25.003297Z",
     "iopub.status.busy": "2021-10-30T09:33:25.002513Z",
     "iopub.status.idle": "2021-10-30T09:33:29.605955Z",
     "shell.execute_reply": "2021-10-30T09:33:29.605345Z",
     "shell.execute_reply.started": "2021-10-25T17:22:10.072309Z"
    },
    "papermill": {
     "duration": 4.634876,
     "end_time": "2021-10-30T09:33:29.606103",
     "exception": false,
     "start_time": "2021-10-30T09:33:24.971227",
     "status": "completed"
    },
    "tags": []
   },
   "outputs": [
    {
     "data": {
      "text/plain": [
       "((760, 3), Index(['State', 'Year', 'Overall Homeless'], dtype='object'))"
      ]
     },
     "execution_count": 8,
     "metadata": {},
     "output_type": "execute_result"
    }
   ],
   "source": [
    "consd_df = pd.DataFrame()\n",
    "for year in range(2007, 2021):\n",
    "    df = pd.read_excel(pit_path, sheet_name=str(year))\n",
    "    df['Year'] = f\"{year}-01-31\"\n",
    "    # tdf = df[df['State'].isin(['TX', \"Texas\", \"texas\"])]\n",
    "    # print(tdf.shape)\n",
    "    df.columns = [c.strip().strip(f'{year}').strip(\" ,\") \n",
    "                  for c in df.columns]\n",
    "    consd_df = consd_df.append(df)\n",
    "    \n",
    "\n",
    "nans={\"\": np.nan,' ':np.nan, 'NA':np.nan,'N/A':np.nan, 'NaN':np.nan}\n",
    "consd_df = consd_df.replace(nans)\n",
    "consd_df = consd_df[~consd_df['State'].isin(['Total','total'])]\n",
    "consd_df = consd_df.dropna(subset=['Overall Homeless', 'State'])\n",
    "consd_df = consd_df[['State', 'Year', 'Overall Homeless']].reset_index(drop=1)\n",
    "consd_df['Year'] = pd.to_datetime(consd_df['Year'])\n",
    "consd_df['Overall Homeless'] = consd_df['Overall Homeless'].astype(int)\n",
    "consd_df.shape, consd_df.columns"
   ]
  },
  {
   "cell_type": "code",
   "execution_count": 9,
   "id": "44dcd82d",
   "metadata": {
    "execution": {
     "iopub.execute_input": "2021-10-30T09:33:29.660287Z",
     "iopub.status.busy": "2021-10-30T09:33:29.659596Z",
     "iopub.status.idle": "2021-10-30T09:33:29.661956Z",
     "shell.execute_reply": "2021-10-30T09:33:29.662396Z",
     "shell.execute_reply.started": "2021-10-25T17:22:16.82659Z"
    },
    "papermill": {
     "duration": 0.033166,
     "end_time": "2021-10-30T09:33:29.662570",
     "exception": false,
     "start_time": "2021-10-30T09:33:29.629404",
     "status": "completed"
    },
    "tags": []
   },
   "outputs": [
    {
     "data": {
      "text/plain": [
       "State               0\n",
       "Year                0\n",
       "Overall Homeless    0\n",
       "dtype: int64"
      ]
     },
     "execution_count": 9,
     "metadata": {},
     "output_type": "execute_result"
    }
   ],
   "source": [
    "consd_df.isna().sum()"
   ]
  },
  {
   "cell_type": "code",
   "execution_count": 10,
   "id": "2243a7fe",
   "metadata": {
    "execution": {
     "iopub.execute_input": "2021-10-30T09:33:29.726574Z",
     "iopub.status.busy": "2021-10-30T09:33:29.724263Z",
     "iopub.status.idle": "2021-10-30T09:33:30.201970Z",
     "shell.execute_reply": "2021-10-30T09:33:30.201418Z",
     "shell.execute_reply.started": "2021-10-25T17:22:16.836468Z"
    },
    "papermill": {
     "duration": 0.515939,
     "end_time": "2021-10-30T09:33:30.202110",
     "exception": false,
     "start_time": "2021-10-30T09:33:29.686171",
     "status": "completed"
    },
    "tags": []
   },
   "outputs": [
    {
     "data": {
      "text/plain": [
       "((8515, 3), Index(['Date', 'Overall Homeless', 'State'], dtype='object'))"
      ]
     },
     "execution_count": 10,
     "metadata": {},
     "output_type": "execute_result"
    }
   ],
   "source": [
    "pit_df = pd.DataFrame()\n",
    "for state in consd_df['State'].unique():\n",
    "    state_df = consd_df[consd_df['State'].isin([state])]\n",
    "    state_df = state_df.drop(columns=['State'])\n",
    "    upsample = state_df.set_index(['Year']).resample('M')\n",
    "    interpolated = upsample.interpolate(method='time').reset_index()\n",
    "    interpolated['State'] = state\n",
    "    pit_df = pit_df.append(interpolated.round())\n",
    "    \n",
    "pit_df = pit_df.rename(columns={'Year':'Date'})\n",
    "pit_df.shape, pit_df.columns"
   ]
  },
  {
   "cell_type": "code",
   "execution_count": 11,
   "id": "24b5aac4",
   "metadata": {
    "execution": {
     "iopub.execute_input": "2021-10-30T09:33:30.254658Z",
     "iopub.status.busy": "2021-10-30T09:33:30.254048Z",
     "iopub.status.idle": "2021-10-30T09:33:30.256612Z",
     "shell.execute_reply": "2021-10-30T09:33:30.256132Z",
     "shell.execute_reply.started": "2021-10-25T17:22:17.429006Z"
    },
    "papermill": {
     "duration": 0.030122,
     "end_time": "2021-10-30T09:33:30.256752",
     "exception": false,
     "start_time": "2021-10-30T09:33:30.226630",
     "status": "completed"
    },
    "tags": []
   },
   "outputs": [],
   "source": [
    "# interpolated = upsampled.interpolate(method='spline', order=2)"
   ]
  },
  {
   "cell_type": "markdown",
   "id": "460f3665",
   "metadata": {
    "papermill": {
     "duration": 0.023337,
     "end_time": "2021-10-30T09:33:30.304279",
     "exception": false,
     "start_time": "2021-10-30T09:33:30.280942",
     "status": "completed"
    },
    "tags": []
   },
   "source": [
    "### installing selenium to collect labour stats data"
   ]
  },
  {
   "cell_type": "code",
   "execution_count": 12,
   "id": "df0b02f7",
   "metadata": {
    "_kg_hide-output": true,
    "execution": {
     "iopub.execute_input": "2021-10-30T09:33:30.368595Z",
     "iopub.status.busy": "2021-10-30T09:33:30.363439Z",
     "iopub.status.idle": "2021-10-30T09:34:03.855005Z",
     "shell.execute_reply": "2021-10-30T09:34:03.853642Z",
     "shell.execute_reply.started": "2021-10-25T16:50:32.89058Z"
    },
    "papermill": {
     "duration": 33.527354,
     "end_time": "2021-10-30T09:34:03.855218",
     "exception": false,
     "start_time": "2021-10-30T09:33:30.327864",
     "status": "completed"
    },
    "tags": []
   },
   "outputs": [
    {
     "name": "stdout",
     "output_type": "stream",
     "text": [
      "Collecting selenium\r\n",
      "  Downloading selenium-4.0.0-py3-none-any.whl (954 kB)\r\n",
      "\u001b[K     |████████████████████████████████| 954 kB 4.5 MB/s \r\n",
      "\u001b[?25hCollecting trio-websocket~=0.9\r\n",
      "  Downloading trio_websocket-0.9.2-py3-none-any.whl (16 kB)\r\n",
      "Collecting trio~=0.17\r\n",
      "  Downloading trio-0.19.0-py3-none-any.whl (356 kB)\r\n",
      "\u001b[K     |████████████████████████████████| 356 kB 66.4 MB/s \r\n",
      "\u001b[?25hRequirement already satisfied: urllib3[secure]~=1.26 in /opt/conda/lib/python3.7/site-packages (from selenium) (1.26.6)\r\n",
      "Requirement already satisfied: attrs>=19.2.0 in /opt/conda/lib/python3.7/site-packages (from trio~=0.17->selenium) (21.2.0)\r\n",
      "Requirement already satisfied: async-generator>=1.9 in /opt/conda/lib/python3.7/site-packages (from trio~=0.17->selenium) (1.10)\r\n",
      "Requirement already satisfied: idna in /opt/conda/lib/python3.7/site-packages (from trio~=0.17->selenium) (2.10)\r\n",
      "Requirement already satisfied: sniffio in /opt/conda/lib/python3.7/site-packages (from trio~=0.17->selenium) (1.2.0)\r\n",
      "Collecting outcome\r\n",
      "  Downloading outcome-1.1.0-py2.py3-none-any.whl (9.7 kB)\r\n",
      "Requirement already satisfied: sortedcontainers in /opt/conda/lib/python3.7/site-packages (from trio~=0.17->selenium) (2.4.0)\r\n",
      "Collecting wsproto>=0.14\r\n",
      "  Downloading wsproto-1.0.0-py3-none-any.whl (24 kB)\r\n",
      "Requirement already satisfied: cryptography>=1.3.4 in /opt/conda/lib/python3.7/site-packages (from urllib3[secure]~=1.26->selenium) (3.4.7)\r\n",
      "Requirement already satisfied: pyOpenSSL>=0.14 in /opt/conda/lib/python3.7/site-packages (from urllib3[secure]~=1.26->selenium) (20.0.1)\r\n",
      "Requirement already satisfied: certifi in /opt/conda/lib/python3.7/site-packages (from urllib3[secure]~=1.26->selenium) (2021.10.8)\r\n",
      "Requirement already satisfied: cffi>=1.12 in /opt/conda/lib/python3.7/site-packages (from cryptography>=1.3.4->urllib3[secure]~=1.26->selenium) (1.14.6)\r\n",
      "Requirement already satisfied: pycparser in /opt/conda/lib/python3.7/site-packages (from cffi>=1.12->cryptography>=1.3.4->urllib3[secure]~=1.26->selenium) (2.20)\r\n",
      "Requirement already satisfied: six>=1.5.2 in /opt/conda/lib/python3.7/site-packages (from pyOpenSSL>=0.14->urllib3[secure]~=1.26->selenium) (1.16.0)\r\n",
      "Requirement already satisfied: h11<1,>=0.9.0 in /opt/conda/lib/python3.7/site-packages (from wsproto>=0.14->trio-websocket~=0.9->selenium) (0.12.0)\r\n",
      "Installing collected packages: outcome, wsproto, trio, trio-websocket, selenium\r\n",
      "Successfully installed outcome-1.1.0 selenium-4.0.0 trio-0.19.0 trio-websocket-0.9.2 wsproto-1.0.0\r\n",
      "\u001b[33mWARNING: Running pip as the 'root' user can result in broken permissions and conflicting behaviour with the system package manager. It is recommended to use a virtual environment instead: https://pip.pypa.io/warnings/venv\u001b[0m\r\n",
      "Get:1 http://packages.cloud.google.com/apt gcsfuse-bionic InRelease [5388 B]\r\n",
      "Get:2 http://packages.cloud.google.com/apt cloud-sdk-bionic InRelease [6786 B]\r\n",
      "Get:3 http://security.ubuntu.com/ubuntu bionic-security InRelease [88.7 kB]\r\n",
      "Get:4 http://packages.cloud.google.com/apt gcsfuse-bionic/main amd64 Packages [531 B]\r\n",
      "Hit:5 http://archive.ubuntu.com/ubuntu bionic InRelease\r\n",
      "Get:6 http://archive.ubuntu.com/ubuntu bionic-updates InRelease [88.7 kB]\r\n",
      "Get:7 http://packages.cloud.google.com/apt cloud-sdk-bionic/main amd64 Packages [214 kB]\r\n",
      "Get:8 http://security.ubuntu.com/ubuntu bionic-security/main amd64 Packages [2398 kB]\r\n",
      "Get:9 http://archive.ubuntu.com/ubuntu bionic-backports InRelease [74.6 kB]\r\n",
      "Get:10 http://security.ubuntu.com/ubuntu bionic-security/universe amd64 Packages [1434 kB]\r\n",
      "Get:11 http://security.ubuntu.com/ubuntu bionic-security/restricted amd64 Packages [632 kB]\r\n",
      "Get:12 http://archive.ubuntu.com/ubuntu bionic-updates/restricted amd64 Packages [665 kB]\r\n",
      "Get:13 http://archive.ubuntu.com/ubuntu bionic-updates/main amd64 Packages [2835 kB]\r\n",
      "Get:14 http://archive.ubuntu.com/ubuntu bionic-updates/universe amd64 Packages [2213 kB]\r\n",
      "Fetched 10.7 MB in 2s (5551 kB/s)\r\n",
      "\r\n",
      "\r\n",
      "\r\n",
      "\r\n",
      "The following additional packages will be installed:\r\n",
      "  chromium-browser chromium-browser-l10n chromium-codecs-ffmpeg-extra libgbm1\r\n",
      "  libwayland-server0 libxtst6\r\n",
      "Suggested packages:\r\n",
      "  webaccounts-chromium-extension unity-chromium-extension\r\n",
      "The following NEW packages will be installed:\r\n",
      "  chromium-browser chromium-browser-l10n chromium-chromedriver\r\n",
      "  chromium-codecs-ffmpeg-extra libgbm1 libwayland-server0 libxtst6\r\n",
      "0 upgraded, 7 newly installed, 0 to remove and 20 not upgraded.\r\n",
      "Need to get 95.4 MB of archives.\r\n",
      "After this operation, 324 MB of additional disk space will be used.\r\n",
      "Get:1 http://archive.ubuntu.com/ubuntu bionic-updates/main amd64 libwayland-server0 amd64 1.16.0-1ubuntu1.1~18.04.3 [29.6 kB]\r\n",
      "Get:2 http://archive.ubuntu.com/ubuntu bionic-updates/main amd64 libgbm1 amd64 20.0.8-0ubuntu1~18.04.1 [27.6 kB]\r\n",
      "Get:3 http://archive.ubuntu.com/ubuntu bionic/main amd64 libxtst6 amd64 2:1.2.3-1 [12.8 kB]\r\n",
      "Get:4 http://archive.ubuntu.com/ubuntu bionic-updates/universe amd64 chromium-codecs-ffmpeg-extra amd64 94.0.4606.81-0ubuntu0.18.04.1 [1135 kB]\r\n",
      "Get:5 http://archive.ubuntu.com/ubuntu bionic-updates/universe amd64 chromium-browser amd64 94.0.4606.81-0ubuntu0.18.04.1 [85.0 MB]\r\n",
      "Get:6 http://archive.ubuntu.com/ubuntu bionic-updates/universe amd64 chromium-browser-l10n all 94.0.4606.81-0ubuntu0.18.04.1 [4164 kB]\r\n",
      "Get:7 http://archive.ubuntu.com/ubuntu bionic-updates/universe amd64 chromium-chromedriver amd64 94.0.4606.81-0ubuntu0.18.04.1 [4963 kB]\r\n",
      "Fetched 95.4 MB in 4s (23.8 MB/s)\r\n",
      "debconf: delaying package configuration, since apt-utils is not installed\r\n",
      "\n",
      "\u001b7\u001b[0;23r\u001b8\u001b[1ASelecting previously unselected package libwayland-server0:amd64.\r\n",
      "(Reading database ... 109092 files and directories currently installed.)\r\n",
      "Preparing to unpack .../0-libwayland-server0_1.16.0-1ubuntu1.1~18.04.3_amd64.deb ...\r\n",
      "\u001b7\u001b[24;0f\u001b[42m\u001b[30mProgress: [  0%]\u001b[49m\u001b[39m [..........................................................] \u001b8\u001b7\u001b[24;0f\u001b[42m\u001b[30mProgress: [  3%]\u001b[49m\u001b[39m [#.........................................................] \u001b8Unpacking libwayland-server0:amd64 (1.16.0-1ubuntu1.1~18.04.3) ...\r\n",
      "\u001b7\u001b[24;0f\u001b[42m\u001b[30mProgress: [  6%]\u001b[49m\u001b[39m [###.......................................................] \u001b8\u001b7\u001b[24;0f\u001b[42m\u001b[30mProgress: [  8%]\u001b[49m\u001b[39m [####......................................................] \u001b8Selecting previously unselected package libgbm1:amd64.\r\n",
      "Preparing to unpack .../1-libgbm1_20.0.8-0ubuntu1~18.04.1_amd64.deb ...\r\n",
      "\u001b7\u001b[24;0f\u001b[42m\u001b[30mProgress: [ 11%]\u001b[49m\u001b[39m [######....................................................] \u001b8Unpacking libgbm1:amd64 (20.0.8-0ubuntu1~18.04.1) ...\r\n",
      "\u001b7\u001b[24;0f\u001b[42m\u001b[30mProgress: [ 14%]\u001b[49m\u001b[39m [########..................................................] \u001b8\u001b7\u001b[24;0f\u001b[42m\u001b[30mProgress: [ 17%]\u001b[49m\u001b[39m [#########.................................................] \u001b8Selecting previously unselected package libxtst6:amd64.\r\n",
      "Preparing to unpack .../2-libxtst6_2%3a1.2.3-1_amd64.deb ...\r\n",
      "\u001b7\u001b[24;0f\u001b[42m\u001b[30mProgress: [ 19%]\u001b[49m\u001b[39m [###########...............................................] \u001b8Unpacking libxtst6:amd64 (2:1.2.3-1) ...\r\n",
      "\u001b7\u001b[24;0f\u001b[42m\u001b[30mProgress: [ 22%]\u001b[49m\u001b[39m [############..............................................] \u001b8\u001b7\u001b[24;0f\u001b[42m\u001b[30mProgress: [ 25%]\u001b[49m\u001b[39m [##############............................................] \u001b8Selecting previously unselected package chromium-codecs-ffmpeg-extra.\r\n",
      "Preparing to unpack .../3-chromium-codecs-ffmpeg-extra_94.0.4606.81-0ubuntu0.18.04.1_amd64.deb ...\r\n",
      "\u001b7\u001b[24;0f\u001b[42m\u001b[30mProgress: [ 28%]\u001b[49m\u001b[39m [################..........................................] \u001b8Unpacking chromium-codecs-ffmpeg-extra (94.0.4606.81-0ubuntu0.18.04.1) ...\r\n",
      "\u001b7\u001b[24;0f\u001b[42m\u001b[30mProgress: [ 31%]\u001b[49m\u001b[39m [#################.........................................] \u001b8\u001b7\u001b[24;0f\u001b[42m\u001b[30mProgress: [ 33%]\u001b[49m\u001b[39m [###################.......................................] \u001b8Selecting previously unselected package chromium-browser.\r\n",
      "Preparing to unpack .../4-chromium-browser_94.0.4606.81-0ubuntu0.18.04.1_amd64.deb ...\r\n",
      "\u001b7\u001b[24;0f\u001b[42m\u001b[30mProgress: [ 36%]\u001b[49m\u001b[39m [####################......................................] \u001b8Unpacking chromium-browser (94.0.4606.81-0ubuntu0.18.04.1) ...\r\n",
      "\u001b7\u001b[24;0f\u001b[42m\u001b[30mProgress: [ 39%]\u001b[49m\u001b[39m [######################....................................] \u001b8\u001b7\u001b[24;0f\u001b[42m\u001b[30mProgress: [ 42%]\u001b[49m\u001b[39m [########################..................................] \u001b8Selecting previously unselected package chromium-browser-l10n.\r\n",
      "Preparing to unpack .../5-chromium-browser-l10n_94.0.4606.81-0ubuntu0.18.04.1_all.deb ...\r\n",
      "\u001b7\u001b[24;0f\u001b[42m\u001b[30mProgress: [ 44%]\u001b[49m\u001b[39m [#########################.................................] \u001b8Unpacking chromium-browser-l10n (94.0.4606.81-0ubuntu0.18.04.1) ...\r\n",
      "\u001b7\u001b[24;0f\u001b[42m\u001b[30mProgress: [ 47%]\u001b[49m\u001b[39m [###########################...............................] \u001b8\u001b7\u001b[24;0f\u001b[42m\u001b[30mProgress: [ 50%]\u001b[49m\u001b[39m [#############################.............................] \u001b8Selecting previously unselected package chromium-chromedriver.\r\n",
      "Preparing to unpack .../6-chromium-chromedriver_94.0.4606.81-0ubuntu0.18.04.1_amd64.deb ...\r\n",
      "\u001b7\u001b[24;0f\u001b[42m\u001b[30mProgress: [ 53%]\u001b[49m\u001b[39m [##############################............................] \u001b8Unpacking chromium-chromedriver (94.0.4606.81-0ubuntu0.18.04.1) ...\r\n",
      "\u001b7\u001b[24;0f\u001b[42m\u001b[30mProgress: [ 56%]\u001b[49m\u001b[39m [################################..........................] \u001b8\u001b7\u001b[24;0f\u001b[42m\u001b[30mProgress: [ 58%]\u001b[49m\u001b[39m [#################################.........................] \u001b8Setting up libxtst6:amd64 (2:1.2.3-1) ...\r\n",
      "\u001b7\u001b[24;0f\u001b[42m\u001b[30mProgress: [ 61%]\u001b[49m\u001b[39m [###################################.......................] \u001b8\u001b7\u001b[24;0f\u001b[42m\u001b[30mProgress: [ 64%]\u001b[49m\u001b[39m [#####################################.....................] \u001b8Setting up chromium-codecs-ffmpeg-extra (94.0.4606.81-0ubuntu0.18.04.1) ...\r\n",
      "\u001b7\u001b[24;0f\u001b[42m\u001b[30mProgress: [ 67%]\u001b[49m\u001b[39m [######################################....................] \u001b8\u001b7\u001b[24;0f\u001b[42m\u001b[30mProgress: [ 69%]\u001b[49m\u001b[39m [########################################..................] \u001b8Setting up libwayland-server0:amd64 (1.16.0-1ubuntu1.1~18.04.3) ...\r\n",
      "\u001b7\u001b[24;0f\u001b[42m\u001b[30mProgress: [ 72%]\u001b[49m\u001b[39m [#########################################.................] \u001b8\u001b7\u001b[24;0f\u001b[42m\u001b[30mProgress: [ 75%]\u001b[49m\u001b[39m [###########################################...............] \u001b8Setting up libgbm1:amd64 (20.0.8-0ubuntu1~18.04.1) ...\r\n",
      "\u001b7\u001b[24;0f\u001b[42m\u001b[30mProgress: [ 78%]\u001b[49m\u001b[39m [#############################################.............] \u001b8\u001b7\u001b[24;0f\u001b[42m\u001b[30mProgress: [ 81%]\u001b[49m\u001b[39m [##############################################............] \u001b8Setting up chromium-browser (94.0.4606.81-0ubuntu0.18.04.1) ...\r\n",
      "\u001b7\u001b[24;0f\u001b[42m\u001b[30mProgress: [ 83%]\u001b[49m\u001b[39m [################################################..........] \u001b8update-alternatives: using /usr/bin/chromium-browser to provide /usr/bin/x-www-browser (x-www-browser) in auto mode\r\n",
      "update-alternatives: using /usr/bin/chromium-browser to provide /usr/bin/gnome-www-browser (gnome-www-browser) in auto mode\r\n",
      "\u001b7\u001b[24;0f\u001b[42m\u001b[30mProgress: [ 86%]\u001b[49m\u001b[39m [#################################################.........] \u001b8Setting up chromium-chromedriver (94.0.4606.81-0ubuntu0.18.04.1) ...\r\n",
      "\u001b7\u001b[24;0f\u001b[42m\u001b[30mProgress: [ 89%]\u001b[49m\u001b[39m [###################################################.......] \u001b8\u001b7\u001b[24;0f\u001b[42m\u001b[30mProgress: [ 92%]\u001b[49m\u001b[39m [#####################################################.....] \u001b8Setting up chromium-browser-l10n (94.0.4606.81-0ubuntu0.18.04.1) ...\r\n",
      "\u001b7\u001b[24;0f\u001b[42m\u001b[30mProgress: [ 94%]\u001b[49m\u001b[39m [######################################################....] \u001b8\u001b7\u001b[24;0f\u001b[42m\u001b[30mProgress: [ 97%]\u001b[49m\u001b[39m [########################################################..] \u001b8Processing triggers for hicolor-icon-theme (0.17-2) ...\r\n",
      "Processing triggers for mime-support (3.60ubuntu1) ...\r\n",
      "Processing triggers for libc-bin (2.27-3ubuntu1.4) ...\r\n",
      "\r\n",
      "\u001b7\u001b[0;24r\u001b8\u001b[1A\u001b[Jcp: '/usr/lib/chromium-browser/chromedriver' and '/usr/bin/chromedriver' are the same file\r\n"
     ]
    }
   ],
   "source": [
    "# Setting-up Environment & Importing necessary libraries\n",
    "!pip install selenium\n",
    "!apt-get update\n",
    "!apt install -y chromium-chromedriver\n",
    "!cp /usr/lib/chromium-browser/chromedriver /usr/bin\n",
    "\n",
    "from selenium import webdriver\n",
    "from bs4 import BeautifulSoup\n",
    "from shutil import make_archive\n",
    "from selenium.webdriver.support.ui import WebDriverWait\n",
    "from selenium.webdriver.support import expected_conditions as EC\n",
    "from selenium.webdriver.common.by import By\n",
    "import pandas as pd\n",
    "\n",
    "# Setting-up web driver\n",
    "options = webdriver.ChromeOptions()\n",
    "options.add_argument('--headless')\n",
    "options.add_argument('--no-sandbox')\n",
    "options.add_argument('--disable-dev-shm-usage')\n",
    "driver = webdriver.Chrome('chromedriver',options=options)"
   ]
  },
  {
   "cell_type": "code",
   "execution_count": 13,
   "id": "cd3a3ff1",
   "metadata": {
    "execution": {
     "iopub.execute_input": "2021-10-30T09:34:03.964096Z",
     "iopub.status.busy": "2021-10-30T09:34:03.962898Z",
     "iopub.status.idle": "2021-10-30T09:34:04.607775Z",
     "shell.execute_reply": "2021-10-30T09:34:04.607107Z",
     "shell.execute_reply.started": "2021-10-25T16:51:09.317263Z"
    },
    "papermill": {
     "duration": 0.699985,
     "end_time": "2021-10-30T09:34:04.607916",
     "exception": false,
     "start_time": "2021-10-30T09:34:03.907931",
     "status": "completed"
    },
    "tags": []
   },
   "outputs": [],
   "source": [
    "# id=\"latest-numbers\"\n",
    "from bs4 import BeautifulSoup\n",
    "import requests\n",
    "\n",
    "base_url = \"https://www.bls.gov\"\n",
    "url=\"https://www.bls.gov/lau/#tables\"\n",
    "\n",
    "# Make a GET request to fetch the raw HTML content\n",
    "html_content = requests.get(url).text\n",
    "# Parse the html content\n",
    "soup = BeautifulSoup(html_content, \"lxml\")\n",
    "all_table = soup.find(\"div\", attrs={\"id\": \"latest-numbers\"})\n",
    "all_ptags = all_table.find_all('p')"
   ]
  },
  {
   "cell_type": "code",
   "execution_count": 14,
   "id": "a98fb085",
   "metadata": {
    "execution": {
     "iopub.execute_input": "2021-10-30T09:34:04.777641Z",
     "iopub.status.busy": "2021-10-30T09:34:04.776602Z",
     "iopub.status.idle": "2021-10-30T09:41:25.244596Z",
     "shell.execute_reply": "2021-10-30T09:41:25.244023Z",
     "shell.execute_reply.started": "2021-10-25T16:51:10.465529Z"
    },
    "papermill": {
     "duration": 440.527069,
     "end_time": "2021-10-30T09:41:25.244918",
     "exception": false,
     "start_time": "2021-10-30T09:34:04.717849",
     "status": "completed"
    },
    "tags": []
   },
   "outputs": [
    {
     "name": "stdout",
     "output_type": "stream",
     "text": [
      "success: Alabama\n",
      "success: Alaska\n",
      "success: Arizona\n",
      "failed: Arkansas\n",
      "success: Arkansas\n",
      "failed: California\n",
      "success: California\n",
      "success: Colorado\n",
      "success: Connecticut\n",
      "success: Delaware\n",
      "success: DC\n",
      "success: Florida\n",
      "success: Georgia\n",
      "success: Hawaii\n",
      "success: Idaho\n",
      "success: Illinois\n",
      "success: Indiana\n",
      "success: Iowa\n",
      "success: Kansas\n",
      "success: Kentucky\n",
      "success: Louisiana\n",
      "failed: Maine\n",
      "failed: Maine\n",
      "success: Maine\n",
      "success: Maryland\n",
      "success: Massachusetts\n",
      "success: Michigan\n",
      "success: Minnesota\n",
      "success: Mississippi\n",
      "success: Missouri\n",
      "success: Montana\n",
      "success: Nebraska\n",
      "success: Nevada\n",
      "success: New Hampshire\n",
      "failed: New Jersey\n",
      "success: New Jersey\n",
      "success: New Mexico\n",
      "success: New York\n",
      "success: North Carolina\n",
      "success: North Dakota\n",
      "success: Ohio\n",
      "success: Oklahoma\n",
      "success: Oregon\n",
      "success: Pennsylvania\n",
      "success: Puerto Rico\n",
      "failed: Rhode Island\n",
      "success: Rhode Island\n",
      "success: South Carolina\n",
      "success: South Dakota\n",
      "success: Tennessee\n",
      "success: Texas\n",
      "failed: Utah\n",
      "success: Utah\n",
      "success: Vermont\n",
      "success: Virginia\n",
      "success: Washington\n",
      "success: West Virginia\n",
      "success: Wisconsin\n",
      "success: Wyoming\n"
     ]
    },
    {
     "data": {
      "text/plain": [
       "((13624, 9),\n",
       " Index(['Year', 'Period', 'labor force participation rate',\n",
       "        'employment-population ratio', 'labor force', 'employment',\n",
       "        'unemployment', 'unemployment rate', 'State_Name'],\n",
       "       dtype='object'))"
      ]
     },
     "execution_count": 14,
     "metadata": {},
     "output_type": "execute_result"
    }
   ],
   "source": [
    "import time\n",
    "timeout = 30\n",
    "consd_emp_df = pd.DataFrame()\n",
    "\n",
    "i = 0\n",
    "while i < len(all_ptags):\n",
    "    ptag = all_ptags[i]\n",
    "    url_part = ptag.find('a')['href']\n",
    "    full_url = f\"{base_url}{url_part}\"\n",
    "    driver.get(full_url)\n",
    "    state_splits = [t for t in ptag.text.split()[:2] if t.istitle()]\n",
    "    state = \" \".join(state_splits).replace(\".\", '')\n",
    "    try:\n",
    "        year_ec = EC.element_to_be_clickable((By.XPATH,\n",
    "                    \"//select[@id='from-year']/option[text()='2000']\"))\n",
    "        from_year = WebDriverWait(driver, timeout).until(year_ec)\n",
    "        from_year.click()\n",
    "        time.sleep(3)\n",
    "        go_ec = EC.element_to_be_clickable((By.XPATH,\"//input[@alt='Retrieve Data Now!']\"))\n",
    "        go_but = WebDriverWait(driver, timeout).until(go_ec)\n",
    "        go_but.click()\n",
    "        print(\"success:\", state)\n",
    "    except:\n",
    "        print(\"failed:\", state)\n",
    "        continue\n",
    "        \n",
    "    time.sleep(3)\n",
    "    i += 1\n",
    "    go_soup = BeautifulSoup(driver.page_source, \"html.parser\")\n",
    "    tables = go_soup.find('table', attrs={\"id\": \"table0\"})\n",
    "    temp_df = pd.read_html(str(tables))[0]\n",
    "    temp_df['State_Name'] = state\n",
    "    consd_emp_df = consd_emp_df.append(temp_df)\n",
    "    # print(ptag.text.split()[0], consd_emp_df.shape)\n",
    "    # driver.current_url\n",
    "\n",
    "consd_emp_df.shape, consd_emp_df.columns"
   ]
  },
  {
   "cell_type": "markdown",
   "id": "0ca49cf2",
   "metadata": {
    "papermill": {
     "duration": 0.064261,
     "end_time": "2021-10-30T09:41:25.375392",
     "exception": false,
     "start_time": "2021-10-30T09:41:25.311131",
     "status": "completed"
    },
    "tags": []
   },
   "source": [
    "### US states 2 letter abbrevations"
   ]
  },
  {
   "cell_type": "code",
   "execution_count": 15,
   "id": "2ba42b36",
   "metadata": {
    "execution": {
     "iopub.execute_input": "2021-10-30T09:41:25.512171Z",
     "iopub.status.busy": "2021-10-30T09:41:25.510525Z",
     "iopub.status.idle": "2021-10-30T09:41:25.744235Z",
     "shell.execute_reply": "2021-10-30T09:41:25.743609Z",
     "shell.execute_reply.started": "2021-10-25T16:58:49.27867Z"
    },
    "papermill": {
     "duration": 0.305178,
     "end_time": "2021-10-30T09:41:25.744379",
     "exception": false,
     "start_time": "2021-10-30T09:41:25.439201",
     "status": "completed"
    },
    "tags": []
   },
   "outputs": [],
   "source": [
    "abbv_url = \"https://www.ssa.gov/international/coc-docs/states.html\"\n",
    "# Make a GET request to fetch the raw HTML content\n",
    "abv_html = requests.get(abbv_url).text\n",
    "# Parse the html content\n",
    "abbv_soup = BeautifulSoup(abv_html, \"lxml\")\n",
    "table = abbv_soup.find(\"table\")\n",
    "\n",
    "abb_df = pd.read_html(str(table))[0]\n",
    "abb_df.columns = ['State_Name','Shortform']\n",
    "\n",
    "abb_df['State_Name'] = abb_df['State_Name'].str.strip()\n",
    "abb_df['State_Name'] = abb_df['State_Name'].str.lower()\n",
    "abb_map = dict(zip(abb_df['State_Name'], abb_df['Shortform']))"
   ]
  },
  {
   "cell_type": "code",
   "execution_count": 16,
   "id": "2c2586e2",
   "metadata": {
    "execution": {
     "iopub.execute_input": "2021-10-30T09:41:25.878965Z",
     "iopub.status.busy": "2021-10-30T09:41:25.878279Z",
     "iopub.status.idle": "2021-10-30T09:41:25.921041Z",
     "shell.execute_reply": "2021-10-30T09:41:25.920348Z",
     "shell.execute_reply.started": "2021-10-25T17:25:27.016631Z"
    },
    "papermill": {
     "duration": 0.112332,
     "end_time": "2021-10-30T09:41:25.921186",
     "exception": false,
     "start_time": "2021-10-30T09:41:25.808854",
     "status": "completed"
    },
    "tags": []
   },
   "outputs": [],
   "source": [
    "emp_df = consd_emp_df.copy()\n",
    "emp_df['State_Abb'] = emp_df['State_Name'].str.strip()\n",
    "emp_df['State_Abb'] = emp_df['State_Abb'].str.lower()\n",
    "emp_df['State_Abb'] = emp_df['State_Abb'].replace(abb_map)"
   ]
  },
  {
   "cell_type": "code",
   "execution_count": 17,
   "id": "85aec2b8",
   "metadata": {
    "execution": {
     "iopub.execute_input": "2021-10-30T09:41:26.053319Z",
     "iopub.status.busy": "2021-10-30T09:41:26.052687Z",
     "iopub.status.idle": "2021-10-30T09:41:26.110947Z",
     "shell.execute_reply": "2021-10-30T09:41:26.110387Z",
     "shell.execute_reply.started": "2021-10-25T17:25:27.916225Z"
    },
    "papermill": {
     "duration": 0.125798,
     "end_time": "2021-10-30T09:41:26.111113",
     "exception": false,
     "start_time": "2021-10-30T09:41:25.985315",
     "status": "completed"
    },
    "tags": []
   },
   "outputs": [],
   "source": [
    "month_map = dict(zip(pd.date_range('2020-01-01', \n",
    "            freq='M', periods=12).strftime('%b'),range(1,13)))\n",
    "emp_df = emp_df[emp_df['Period'].isin(month_map.keys())].reset_index(drop=1)\n",
    "emp_df['Month'] = emp_df['Period'].replace(month_map)\n",
    "emp_df['Date'] = (emp_df['Year'].astype(str) + '-' \n",
    "                        + emp_df['Month'].astype(str))\n",
    "emp_df['Date'] = pd.to_datetime(emp_df['Date'], \n",
    "               format=\"%Y-%m\") + pd.offsets.MonthEnd(0)"
   ]
  },
  {
   "cell_type": "markdown",
   "id": "58273a95",
   "metadata": {
    "papermill": {
     "duration": 0.064031,
     "end_time": "2021-10-30T09:41:26.240324",
     "exception": false,
     "start_time": "2021-10-30T09:41:26.176293",
     "status": "completed"
    },
    "tags": []
   },
   "source": [
    "### collect census data from its API"
   ]
  },
  {
   "cell_type": "code",
   "execution_count": 18,
   "id": "5432023b",
   "metadata": {
    "execution": {
     "iopub.execute_input": "2021-10-30T09:41:26.378374Z",
     "iopub.status.busy": "2021-10-30T09:41:26.377720Z",
     "iopub.status.idle": "2021-10-30T09:52:36.873596Z",
     "shell.execute_reply": "2021-10-30T09:52:36.872768Z",
     "shell.execute_reply.started": "2021-10-25T19:15:04.619323Z"
    },
    "papermill": {
     "duration": 670.569202,
     "end_time": "2021-10-30T09:52:36.873903",
     "exception": false,
     "start_time": "2021-10-30T09:41:26.304701",
     "status": "completed"
    },
    "tags": []
   },
   "outputs": [],
   "source": [
    "import requests\n",
    "import ast\n",
    "\n",
    "HOST = \"https://api.census.gov/data/timeseries/poverty/saipe\"\n",
    "GET = \"?get=NAME,SAEMHI_PT,SAEPOVALL_PT,SAEPOVRTALL_PT\"\n",
    "\n",
    "# SAEMHI_PT -  median house hold income estimate\n",
    "# SAEPOVRTALL_PT - poverty rate estimate\n",
    "# SAEPOVALL_PT - poverty count\n",
    "\n",
    "state_range = [str(n).zfill(2) for n in range(1, 57)]\n",
    "year_range = range(2000, 2020)\n",
    "\n",
    "data_rows = []\n",
    "for state in state_range:\n",
    "    for year in year_range:\n",
    "        PARAM = f\"&for=state:{state}&YEAR={year}\"\n",
    "        URL = HOST + GET + PARAM\n",
    "        r = requests.get(URL)\n",
    "        # print(state, year)\n",
    "        try:\n",
    "            row = r.json()[-1]\n",
    "        except:\n",
    "            row = [np.nan, np.nan, np.nan, \n",
    "                   np.nan, year, state]\n",
    "        data_rows.append(row)"
   ]
  },
  {
   "cell_type": "code",
   "execution_count": 19,
   "id": "1958a39c",
   "metadata": {
    "execution": {
     "iopub.execute_input": "2021-10-30T09:52:37.013855Z",
     "iopub.status.busy": "2021-10-30T09:52:37.013090Z",
     "iopub.status.idle": "2021-10-30T09:52:37.035170Z",
     "shell.execute_reply": "2021-10-30T09:52:37.035594Z",
     "shell.execute_reply.started": "2021-10-25T19:26:06.639865Z"
    },
    "papermill": {
     "duration": 0.094896,
     "end_time": "2021-10-30T09:52:37.035790",
     "exception": false,
     "start_time": "2021-10-30T09:52:36.940894",
     "status": "completed"
    },
    "tags": []
   },
   "outputs": [
    {
     "data": {
      "text/plain": [
       "((1020, 6),\n",
       " Index(['State_Name', 'MHHI', 'Poverty_Count', 'Poverty_Rate', 'Year',\n",
       "        'State_Num'],\n",
       "       dtype='object'))"
      ]
     },
     "execution_count": 19,
     "metadata": {},
     "output_type": "execute_result"
    }
   ],
   "source": [
    "col_names = ['State_Name', 'MHHI', \n",
    "             'Poverty_Count', 'Poverty_Rate',\n",
    "             \"Year\", 'State_Num']\n",
    "censes_df = pd.DataFrame(data_rows, columns=col_names)\n",
    "censes_df['Year'] = censes_df['Year'].apply(lambda x: f\"{x}-01-31\")\n",
    "censes_df['Year'] = pd.to_datetime(censes_df['Year'])\n",
    "censes_df = censes_df.dropna(subset=['Year', 'State_Name'])\n",
    "censes_df = censes_df.drop_duplicates(subset=['Year','State_Name'])\n",
    "censes_df['MHHI'] = censes_df['MHHI'].astype(float)\n",
    "censes_df['Poverty_Count'] = censes_df['Poverty_Count'].astype(float)\n",
    "censes_df['Poverty_Rate'] = censes_df['Poverty_Rate'].astype(float)\n",
    "censes_df.shape, censes_df.columns"
   ]
  },
  {
   "cell_type": "code",
   "execution_count": 20,
   "id": "3b9bd150",
   "metadata": {
    "execution": {
     "iopub.execute_input": "2021-10-30T09:52:37.169914Z",
     "iopub.status.busy": "2021-10-30T09:52:37.169212Z",
     "iopub.status.idle": "2021-10-30T09:52:37.171431Z",
     "shell.execute_reply": "2021-10-30T09:52:37.172013Z",
     "shell.execute_reply.started": "2021-10-25T19:26:07.643688Z"
    },
    "papermill": {
     "duration": 0.07163,
     "end_time": "2021-10-30T09:52:37.172185",
     "exception": false,
     "start_time": "2021-10-30T09:52:37.100555",
     "status": "completed"
    },
    "tags": []
   },
   "outputs": [],
   "source": [
    "# state_df.set_index(['Year']).resample('M').asfreq()"
   ]
  },
  {
   "cell_type": "code",
   "execution_count": 21,
   "id": "6fcc6ecf",
   "metadata": {
    "execution": {
     "iopub.execute_input": "2021-10-30T09:52:37.304400Z",
     "iopub.status.busy": "2021-10-30T09:52:37.303832Z",
     "iopub.status.idle": "2021-10-30T09:52:37.882979Z",
     "shell.execute_reply": "2021-10-30T09:52:37.882316Z",
     "shell.execute_reply.started": "2021-10-25T19:27:34.774746Z"
    },
    "papermill": {
     "duration": 0.646068,
     "end_time": "2021-10-30T09:52:37.883128",
     "exception": false,
     "start_time": "2021-10-30T09:52:37.237060",
     "status": "completed"
    },
    "tags": []
   },
   "outputs": [
    {
     "data": {
      "text/plain": [
       "((11679, 5),\n",
       " Index(['Date', 'MHHI', 'Poverty_Count', 'Poverty_Rate', 'State'], dtype='object'))"
      ]
     },
     "execution_count": 21,
     "metadata": {},
     "output_type": "execute_result"
    }
   ],
   "source": [
    "cdf = pd.DataFrame()\n",
    "for state in censes_df['State_Name'].unique():\n",
    "    state_df = censes_df[censes_df['State_Name'].isin([state])]\n",
    "    state_df = state_df.drop(columns=['State_Name', 'State_Num'])\n",
    "    upsample = state_df.set_index(['Year']).resample('M')\n",
    "    interpolated = upsample.interpolate(method='values').reset_index()\n",
    "    interpolated['State'] = state\n",
    "    cdf = cdf.append(interpolated.round())\n",
    "    \n",
    "cdf = cdf.rename(columns={'Year':'Date'})\n",
    "cdf['State'] = cdf['State'].str.strip()\n",
    "cdf['State'] = cdf['State'].str.lower()\n",
    "cdf['State'] = cdf['State'].replace(abb_map)\n",
    "cdf.shape, cdf.columns"
   ]
  },
  {
   "cell_type": "markdown",
   "id": "66a530b5",
   "metadata": {
    "papermill": {
     "duration": 0.065191,
     "end_time": "2021-10-30T09:52:38.014813",
     "exception": false,
     "start_time": "2021-10-30T09:52:37.949622",
     "status": "completed"
    },
    "tags": []
   },
   "source": [
    "### Zillow data"
   ]
  },
  {
   "cell_type": "code",
   "execution_count": 22,
   "id": "d28a6231",
   "metadata": {
    "execution": {
     "iopub.execute_input": "2021-10-30T09:52:38.153069Z",
     "iopub.status.busy": "2021-10-30T09:52:38.152384Z",
     "iopub.status.idle": "2021-10-30T09:52:39.972462Z",
     "shell.execute_reply": "2021-10-30T09:52:39.971858Z"
    },
    "papermill": {
     "duration": 1.892454,
     "end_time": "2021-10-30T09:52:39.972605",
     "exception": false,
     "start_time": "2021-10-30T09:52:38.080151",
     "status": "completed"
    },
    "tags": []
   },
   "outputs": [],
   "source": [
    "zillow_link = (\"https://files.zillowstatic.com/research/public_csvs\" + \n",
    "               \"/zhvi/Metro_zhvi_uc_sfrcondo_tier_0.33_0.67_sm_sa_month.csv?t=1635180214\")\n",
    "response = requests.get(zillow_link)\n",
    "with open('zillow_house_prices.csv', 'wb') as f:\n",
    "    f.write(response.content)"
   ]
  },
  {
   "cell_type": "code",
   "execution_count": 23,
   "id": "120316d9",
   "metadata": {
    "execution": {
     "iopub.execute_input": "2021-10-30T09:52:40.111201Z",
     "iopub.status.busy": "2021-10-30T09:52:40.110568Z",
     "iopub.status.idle": "2021-10-30T09:52:40.173376Z",
     "shell.execute_reply": "2021-10-30T09:52:40.172884Z",
     "shell.execute_reply.started": "2021-10-25T17:25:29.965149Z"
    },
    "papermill": {
     "duration": 0.134759,
     "end_time": "2021-10-30T09:52:40.173516",
     "exception": false,
     "start_time": "2021-10-30T09:52:40.038757",
     "status": "completed"
    },
    "tags": []
   },
   "outputs": [
    {
     "data": {
      "text/plain": [
       "((908, 263),\n",
       " Index(['RegionName', 'StateName', '2000-01-31', '2000-02-29', '2000-03-31',\n",
       "        '2000-04-30', '2000-05-31', '2000-06-30', '2000-07-31', '2000-08-31',\n",
       "        ...\n",
       "        '2020-12-31', '2021-01-31', '2021-02-28', '2021-03-31', '2021-04-30',\n",
       "        '2021-05-31', '2021-06-30', '2021-07-31', '2021-08-31', '2021-09-30'],\n",
       "       dtype='object', length=263))"
      ]
     },
     "execution_count": 23,
     "metadata": {},
     "output_type": "execute_result"
    }
   ],
   "source": [
    "housing_raw = pd.read_csv(\"zillow_house_prices.csv\")\n",
    "housing_raw = housing_raw.drop(columns=['RegionID','SizeRank','RegionType'])\n",
    "housing_raw = housing_raw.dropna(subset=['StateName'])\n",
    "housing_raw.shape, housing_raw.columns"
   ]
  },
  {
   "cell_type": "code",
   "execution_count": 24,
   "id": "080ce08b",
   "metadata": {
    "execution": {
     "iopub.execute_input": "2021-10-30T09:52:40.310484Z",
     "iopub.status.busy": "2021-10-30T09:52:40.309469Z",
     "iopub.status.idle": "2021-10-30T09:52:40.413467Z",
     "shell.execute_reply": "2021-10-30T09:52:40.412993Z",
     "shell.execute_reply.started": "2021-10-25T17:25:31.034486Z"
    },
    "papermill": {
     "duration": 0.175391,
     "end_time": "2021-10-30T09:52:40.413606",
     "exception": false,
     "start_time": "2021-10-30T09:52:40.238215",
     "status": "completed"
    },
    "tags": []
   },
   "outputs": [
    {
     "data": {
      "text/plain": [
       "((13311, 3), Index(['State', 'Date', 'HomeValueIndex'], dtype='object'))"
      ]
     },
     "execution_count": 24,
     "metadata": {},
     "output_type": "execute_result"
    }
   ],
   "source": [
    "hdf = housing_raw.melt(['StateName', 'RegionName'], \n",
    "                       var_name='Date', value_name='HomeValueIndex')\n",
    "\n",
    "hdf = hdf.groupby(['StateName', 'Date'])['HomeValueIndex'].median().reset_index()\n",
    "hdf['Date'] = pd.to_datetime(hdf['Date'])\n",
    "hdf = hdf.rename(columns={'StateName': 'State'})\n",
    "hdf.shape, hdf.columns"
   ]
  },
  {
   "cell_type": "code",
   "execution_count": 25,
   "id": "4b9aa15b",
   "metadata": {
    "execution": {
     "iopub.execute_input": "2021-10-30T09:52:40.555980Z",
     "iopub.status.busy": "2021-10-30T09:52:40.552699Z",
     "iopub.status.idle": "2021-10-30T09:52:40.867216Z",
     "shell.execute_reply": "2021-10-30T09:52:40.866439Z",
     "shell.execute_reply.started": "2021-10-25T17:25:32.305436Z"
    },
    "papermill": {
     "duration": 0.38852,
     "end_time": "2021-10-30T09:52:40.867390",
     "exception": false,
     "start_time": "2021-10-30T09:52:40.478870",
     "status": "completed"
    },
    "tags": []
   },
   "outputs": [
    {
     "data": {
      "text/plain": [
       "(Index(['Date', 'Overall Homeless', 'State'], dtype='object'),\n",
       " Index(['State_Name', 'State', 'Date', 'unemploy_rate', 'employed_pop_rate'], dtype='object'),\n",
       " Index(['State', 'Date', 'HomeValueIndex'], dtype='object'))"
      ]
     },
     "execution_count": 25,
     "metadata": {},
     "output_type": "execute_result"
    }
   ],
   "source": [
    "emp_df = emp_df.rename(columns={'unemployment rate': 'unemploy_rate',\n",
    "                        'employment-population ratio': 'employed_pop_rate',\n",
    "                                'State_Abb': 'State'})\n",
    "emp_df = emp_df[['State_Name', 'State', 'Date',\n",
    "                 'unemploy_rate', 'employed_pop_rate']]\n",
    "\n",
    "\n",
    "emp_df['unemploy_rate'] = (emp_df['unemploy_rate'].str\n",
    "                           .extract(r'(\\d+.\\d+)').astype('float'))\n",
    "emp_df['employed_pop_rate'] = (emp_df['employed_pop_rate'].str\n",
    "                               .extract(r'(\\d+.\\d+)').astype('float'))\n",
    "\n",
    "# upper case the abbrevations\n",
    "pit_df['State'] = pit_df['State'].str.upper()\n",
    "emp_df['State'] = emp_df['State'].str.upper()\n",
    "hdf['State'] = hdf['State'].str.upper()\n",
    "cdf['State'] = cdf['State'].str.upper()\n",
    "\n",
    "\n",
    "# filter on the common states\n",
    "common_states = (set(pit_df['State']) & set(emp_df['State']) \n",
    "                 & set(hdf['State']) & set(cdf['State']))\n",
    "pit_df = pit_df[pit_df['State'].isin(common_states)]\n",
    "emp_df = emp_df[emp_df['State'].isin(common_states)]\n",
    "hdf = hdf[hdf['State'].isin(common_states)]\n",
    "cdf = cdf[cdf['State'].isin(common_states)]\n",
    "rents_df = rents_df[rents_df['State'].isin(common_states)]\n",
    "\n",
    "pit_df.columns, emp_df.columns, hdf.columns"
   ]
  },
  {
   "cell_type": "markdown",
   "id": "3e34e9fc",
   "metadata": {
    "papermill": {
     "duration": 0.069132,
     "end_time": "2021-10-30T09:52:41.002612",
     "exception": false,
     "start_time": "2021-10-30T09:52:40.933480",
     "status": "completed"
    },
    "tags": []
   },
   "source": [
    "### Joining all the data based on datetime (few datasets are interpolated form yearly to monthly)"
   ]
  },
  {
   "cell_type": "code",
   "execution_count": 26,
   "id": "8088545b",
   "metadata": {
    "execution": {
     "iopub.execute_input": "2021-10-30T09:52:41.137642Z",
     "iopub.status.busy": "2021-10-30T09:52:41.136784Z",
     "iopub.status.idle": "2021-10-30T09:52:41.178476Z",
     "shell.execute_reply": "2021-10-30T09:52:41.178979Z",
     "shell.execute_reply.started": "2021-10-25T17:25:36.172547Z"
    },
    "papermill": {
     "duration": 0.111496,
     "end_time": "2021-10-30T09:52:41.179158",
     "exception": false,
     "start_time": "2021-10-30T09:52:41.067662",
     "status": "completed"
    },
    "tags": []
   },
   "outputs": [
    {
     "data": {
      "text/plain": [
       "((8007, 11),\n",
       " Index(['Date', 'Overall Homeless', 'State', 'State_Name', 'unemploy_rate',\n",
       "        'employed_pop_rate', 'HomeValueIndex', 'MHHI', 'Poverty_Count',\n",
       "        'Poverty_Rate', 'Min_Rent'],\n",
       "       dtype='object'))"
      ]
     },
     "execution_count": 26,
     "metadata": {},
     "output_type": "execute_result"
    }
   ],
   "source": [
    "data_df = pit_df.merge(emp_df, how=\"left\", on=['State', 'Date'])\n",
    "data_df = data_df.merge(hdf, how=\"left\", on=['State', 'Date'])\n",
    "data_df = data_df.merge(cdf, how=\"left\", on=['State', 'Date'])\n",
    "data_df = data_df.merge(rents_df, how=\"left\", on=['State', 'Date'])\n",
    "data_df.shape, data_df.columns"
   ]
  },
  {
   "cell_type": "code",
   "execution_count": 27,
   "id": "ee1a03e2",
   "metadata": {
    "execution": {
     "iopub.execute_input": "2021-10-30T09:52:41.315478Z",
     "iopub.status.busy": "2021-10-30T09:52:41.314880Z",
     "iopub.status.idle": "2021-10-30T09:52:41.325034Z",
     "shell.execute_reply": "2021-10-30T09:52:41.325546Z",
     "shell.execute_reply.started": "2021-10-25T17:26:11.828733Z"
    },
    "papermill": {
     "duration": 0.080381,
     "end_time": "2021-10-30T09:52:41.325726",
     "exception": false,
     "start_time": "2021-10-30T09:52:41.245345",
     "status": "completed"
    },
    "tags": []
   },
   "outputs": [
    {
     "data": {
      "text/plain": [
       "Date                  0\n",
       "Overall Homeless      0\n",
       "State                 0\n",
       "State_Name            0\n",
       "unemploy_rate         0\n",
       "employed_pop_rate     0\n",
       "HomeValueIndex        0\n",
       "MHHI                 12\n",
       "Poverty_Count        12\n",
       "Poverty_Rate         12\n",
       "Min_Rent              0\n",
       "dtype: int64"
      ]
     },
     "execution_count": 27,
     "metadata": {},
     "output_type": "execute_result"
    }
   ],
   "source": [
    "data_df[data_df['State'].isin(['TX'])].isna().sum()"
   ]
  },
  {
   "cell_type": "code",
   "execution_count": 28,
   "id": "87b8147a",
   "metadata": {
    "execution": {
     "iopub.execute_input": "2021-10-30T09:52:41.461165Z",
     "iopub.status.busy": "2021-10-30T09:52:41.460553Z",
     "iopub.status.idle": "2021-10-30T09:52:41.472367Z",
     "shell.execute_reply": "2021-10-30T09:52:41.472840Z",
     "shell.execute_reply.started": "2021-10-25T17:26:46.969554Z"
    },
    "papermill": {
     "duration": 0.081583,
     "end_time": "2021-10-30T09:52:41.473005",
     "exception": false,
     "start_time": "2021-10-30T09:52:41.391422",
     "status": "completed"
    },
    "tags": []
   },
   "outputs": [
    {
     "name": "stdout",
     "output_type": "stream",
     "text": [
      "Unique States covered: 51\n"
     ]
    },
    {
     "data": {
      "text/plain": [
       "Date                   0\n",
       "Overall Homeless       0\n",
       "State                  0\n",
       "State_Name             0\n",
       "unemploy_rate          0\n",
       "employed_pop_rate      0\n",
       "HomeValueIndex        24\n",
       "MHHI                 612\n",
       "Poverty_Count        612\n",
       "Poverty_Rate         612\n",
       "Min_Rent               0\n",
       "dtype: int64"
      ]
     },
     "execution_count": 28,
     "metadata": {},
     "output_type": "execute_result"
    }
   ],
   "source": [
    "print(\"Unique States covered:\", data_df['State'].nunique())\n",
    "data_df.isna().sum()"
   ]
  },
  {
   "cell_type": "code",
   "execution_count": 29,
   "id": "a5887660",
   "metadata": {
    "execution": {
     "iopub.execute_input": "2021-10-30T09:52:41.610189Z",
     "iopub.status.busy": "2021-10-30T09:52:41.609557Z",
     "iopub.status.idle": "2021-10-30T09:52:42.098965Z",
     "shell.execute_reply": "2021-10-30T09:52:42.099524Z",
     "shell.execute_reply.started": "2021-10-25T17:28:16.918565Z"
    },
    "papermill": {
     "duration": 0.560515,
     "end_time": "2021-10-30T09:52:42.099738",
     "exception": false,
     "start_time": "2021-10-30T09:52:41.539223",
     "status": "completed"
    },
    "tags": []
   },
   "outputs": [],
   "source": [
    "emp_df.to_csv(\"yearly_employment_rates.csv\", index=False)\n",
    "abb_df.to_csv(\"state_abbrevations.csv\", index=False)\n",
    "pit_df.to_csv(\"pit_data_interpolated.csv\", index=False)\n",
    "hdf.to_csv(\"zillow_home_price_index.csv\", index=False)\n",
    "cdf.to_csv(\"census_poverty_income.csv\", index=False)\n",
    "rents_df.to_csv(\"yearly_house_rents.csv\", index=False)\n",
    "data_df.to_csv(\"unified_data.csv\", index=False)"
   ]
  },
  {
   "cell_type": "code",
   "execution_count": 30,
   "id": "83f3dfb1",
   "metadata": {
    "execution": {
     "iopub.execute_input": "2021-10-30T09:52:42.240891Z",
     "iopub.status.busy": "2021-10-30T09:52:42.240224Z",
     "iopub.status.idle": "2021-10-30T09:52:42.243688Z",
     "shell.execute_reply": "2021-10-30T09:52:42.243110Z",
     "shell.execute_reply.started": "2021-10-25T17:28:18.166513Z"
    },
    "papermill": {
     "duration": 0.07498,
     "end_time": "2021-10-30T09:52:42.243847",
     "exception": false,
     "start_time": "2021-10-30T09:52:42.168867",
     "status": "completed"
    },
    "tags": []
   },
   "outputs": [
    {
     "data": {
      "text/html": [
       "./<br>\n",
       "&nbsp;&nbsp;<a href='./pit_data_interpolated.csv' target='_blank'>pit_data_interpolated.csv</a><br>\n",
       "&nbsp;&nbsp;<a href='./state_abbrevations.csv' target='_blank'>state_abbrevations.csv</a><br>\n",
       "&nbsp;&nbsp;<a href='./zillow_home_price_index.csv' target='_blank'>zillow_home_price_index.csv</a><br>\n",
       "&nbsp;&nbsp;<a href='./unified_data.csv' target='_blank'>unified_data.csv</a><br>\n",
       "&nbsp;&nbsp;<a href='./yearly_employment_rates.csv' target='_blank'>yearly_employment_rates.csv</a><br>\n",
       "&nbsp;&nbsp;<a href='./census_poverty_income.csv' target='_blank'>census_poverty_income.csv</a><br>\n",
       "&nbsp;&nbsp;<a href='./yearly_house_rents.csv' target='_blank'>yearly_house_rents.csv</a><br>\n",
       "&nbsp;&nbsp;<a href='./__notebook__.ipynb' target='_blank'>__notebook__.ipynb</a><br>\n",
       "&nbsp;&nbsp;<a href='./zillow_house_prices.csv' target='_blank'>zillow_house_prices.csv</a><br>"
      ],
      "text/plain": [
       "./\n",
       "  pit_data_interpolated.csv\n",
       "  state_abbrevations.csv\n",
       "  zillow_home_price_index.csv\n",
       "  unified_data.csv\n",
       "  yearly_employment_rates.csv\n",
       "  census_poverty_income.csv\n",
       "  yearly_house_rents.csv\n",
       "  __notebook__.ipynb\n",
       "  zillow_house_prices.csv"
      ]
     },
     "execution_count": 30,
     "metadata": {},
     "output_type": "execute_result"
    }
   ],
   "source": [
    "from IPython.display import FileLinks\n",
    "FileLinks(\".\")"
   ]
  },
  {
   "cell_type": "code",
   "execution_count": null,
   "id": "41bea086",
   "metadata": {
    "papermill": {
     "duration": 0.067302,
     "end_time": "2021-10-30T09:52:42.378734",
     "exception": false,
     "start_time": "2021-10-30T09:52:42.311432",
     "status": "completed"
    },
    "tags": []
   },
   "outputs": [],
   "source": []
  }
 ],
 "metadata": {
  "kernelspec": {
   "display_name": "Python 3",
   "language": "python",
   "name": "python3"
  },
  "language_info": {
   "codemirror_mode": {
    "name": "ipython",
    "version": 3
   },
   "file_extension": ".py",
   "mimetype": "text/x-python",
   "name": "python",
   "nbconvert_exporter": "python",
   "pygments_lexer": "ipython3",
   "version": "3.7.10"
  },
  "papermill": {
   "default_parameters": {},
   "duration": 1179.534086,
   "end_time": "2021-10-30T09:52:43.160527",
   "environment_variables": {},
   "exception": null,
   "input_path": "__notebook__.ipynb",
   "output_path": "__notebook__.ipynb",
   "parameters": {},
   "start_time": "2021-10-30T09:33:03.626441",
   "version": "2.3.3"
  }
 },
 "nbformat": 4,
 "nbformat_minor": 5
}
