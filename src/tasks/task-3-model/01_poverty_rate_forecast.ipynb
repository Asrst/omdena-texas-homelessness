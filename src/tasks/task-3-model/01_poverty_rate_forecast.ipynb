{
 "cells": [
  {
   "cell_type": "code",
   "execution_count": 1,
   "id": "987a7d4e",
   "metadata": {
    "_cell_guid": "b1076dfc-b9ad-4769-8c92-a6c4dae69d19",
    "_uuid": "8f2839f25d086af736a60e9eeb907d3b93b6e0e5",
    "execution": {
     "iopub.execute_input": "2021-10-31T12:57:00.155858Z",
     "iopub.status.busy": "2021-10-31T12:57:00.154798Z",
     "iopub.status.idle": "2021-10-31T12:57:00.174645Z",
     "shell.execute_reply": "2021-10-31T12:57:00.174004Z",
     "shell.execute_reply.started": "2021-10-31T12:56:27.967954Z"
    },
    "papermill": {
     "duration": 0.041856,
     "end_time": "2021-10-31T12:57:00.174839",
     "exception": false,
     "start_time": "2021-10-31T12:57:00.132983",
     "status": "completed"
    },
    "tags": []
   },
   "outputs": [
    {
     "name": "stdout",
     "output_type": "stream",
     "text": [
      "/kaggle/input/homelessness-data-collection/zillow_house_prices.csv\n",
      "/kaggle/input/homelessness-data-collection/pit_data_interpolated.csv\n",
      "/kaggle/input/homelessness-data-collection/yearly_employment_rates.csv\n",
      "/kaggle/input/homelessness-data-collection/__results__.html\n",
      "/kaggle/input/homelessness-data-collection/zillow_home_price_index.csv\n",
      "/kaggle/input/homelessness-data-collection/unified_data.csv\n",
      "/kaggle/input/homelessness-data-collection/census_poverty_income.csv\n",
      "/kaggle/input/homelessness-data-collection/__notebook__.ipynb\n",
      "/kaggle/input/homelessness-data-collection/state_abbrevations.csv\n",
      "/kaggle/input/homelessness-data-collection/__output__.json\n",
      "/kaggle/input/homelessness-data-collection/yearly_house_rents.csv\n",
      "/kaggle/input/homelessness-data-collection/custom.css\n"
     ]
    }
   ],
   "source": [
    "import numpy as np # linear algebra\n",
    "import pandas as pd # data processing, CSV file I/O (e.g. pd.read_csv)\n",
    "import os\n",
    "for dirname, _, filenames in os.walk('/kaggle/input'):\n",
    "    for filename in filenames:\n",
    "        print(os.path.join(dirname, filename))"
   ]
  },
  {
   "cell_type": "code",
   "execution_count": 2,
   "id": "04bd2e08",
   "metadata": {
    "execution": {
     "iopub.execute_input": "2021-10-31T12:57:00.210315Z",
     "iopub.status.busy": "2021-10-31T12:57:00.209573Z",
     "iopub.status.idle": "2021-10-31T12:57:00.235212Z",
     "shell.execute_reply": "2021-10-31T12:57:00.235775Z",
     "shell.execute_reply.started": "2021-10-31T12:56:27.980133Z"
    },
    "papermill": {
     "duration": 0.0453,
     "end_time": "2021-10-31T12:57:00.235941",
     "exception": false,
     "start_time": "2021-10-31T12:57:00.190641",
     "status": "completed"
    },
    "tags": []
   },
   "outputs": [
    {
     "data": {
      "text/plain": [
       "((13311, 3), Index(['State', 'Date', 'HomeValueIndex'], dtype='object'))"
      ]
     },
     "execution_count": 2,
     "metadata": {},
     "output_type": "execute_result"
    }
   ],
   "source": [
    "DATA_DIR = \"/kaggle/input/homelessness-data-collection\"\n",
    "zdf = pd.read_csv(f\"{DATA_DIR}/zillow_home_price_index.csv\")\n",
    "zdf.shape, zdf.columns"
   ]
  },
  {
   "cell_type": "code",
   "execution_count": 3,
   "id": "6612b4e5",
   "metadata": {
    "execution": {
     "iopub.execute_input": "2021-10-31T12:57:00.271817Z",
     "iopub.status.busy": "2021-10-31T12:57:00.271209Z",
     "iopub.status.idle": "2021-10-31T12:57:00.305509Z",
     "shell.execute_reply": "2021-10-31T12:57:00.306003Z",
     "shell.execute_reply.started": "2021-10-31T12:56:28.000455Z"
    },
    "papermill": {
     "duration": 0.054638,
     "end_time": "2021-10-31T12:57:00.306183",
     "exception": false,
     "start_time": "2021-10-31T12:57:00.251545",
     "status": "completed"
    },
    "tags": []
   },
   "outputs": [
    {
     "data": {
      "text/plain": [
       "((13311, 3), Index(['State', 'Date', 'unemploy_rate'], dtype='object'))"
      ]
     },
     "execution_count": 3,
     "metadata": {},
     "output_type": "execute_result"
    }
   ],
   "source": [
    "uedf = pd.read_csv(f\"{DATA_DIR}/yearly_employment_rates.csv\")\n",
    "uedf = uedf[['State', 'Date', 'unemploy_rate']]\n",
    "uedf.shape, uedf.columns"
   ]
  },
  {
   "cell_type": "code",
   "execution_count": 4,
   "id": "dea37c9f",
   "metadata": {
    "execution": {
     "iopub.execute_input": "2021-10-31T12:57:00.340870Z",
     "iopub.status.busy": "2021-10-31T12:57:00.339938Z",
     "iopub.status.idle": "2021-10-31T12:57:00.364769Z",
     "shell.execute_reply": "2021-10-31T12:57:00.365433Z",
     "shell.execute_reply.started": "2021-10-31T12:56:28.018703Z"
    },
    "papermill": {
     "duration": 0.043713,
     "end_time": "2021-10-31T12:57:00.365619",
     "exception": false,
     "start_time": "2021-10-31T12:57:00.321906",
     "status": "completed"
    },
    "tags": []
   },
   "outputs": [
    {
     "data": {
      "text/plain": [
       "((11679, 3), '2019-01-31')"
      ]
     },
     "execution_count": 4,
     "metadata": {},
     "output_type": "execute_result"
    }
   ],
   "source": [
    "pdf = pd.read_csv(f\"{DATA_DIR}/census_poverty_income.csv\")\n",
    "pdf = pdf[['State', 'Date', 'Poverty_Rate']]\n",
    "pdf.shape, pdf['Date'].max()"
   ]
  },
  {
   "cell_type": "code",
   "execution_count": 5,
   "id": "df339271",
   "metadata": {
    "execution": {
     "iopub.execute_input": "2021-10-31T12:57:00.402299Z",
     "iopub.status.busy": "2021-10-31T12:57:00.399853Z",
     "iopub.status.idle": "2021-10-31T12:57:00.427477Z",
     "shell.execute_reply": "2021-10-31T12:57:00.428645Z",
     "shell.execute_reply.started": "2021-10-31T12:56:28.036124Z"
    },
    "papermill": {
     "duration": 0.047478,
     "end_time": "2021-10-31T12:57:00.428918",
     "exception": false,
     "start_time": "2021-10-31T12:57:00.381440",
     "status": "completed"
    },
    "tags": []
   },
   "outputs": [
    {
     "data": {
      "text/plain": [
       "((13311, 5),\n",
       " Index(['State', 'Date', 'HomeValueIndex', 'unemploy_rate', 'Poverty_Rate'], dtype='object'))"
      ]
     },
     "execution_count": 5,
     "metadata": {},
     "output_type": "execute_result"
    }
   ],
   "source": [
    "data_df = zdf.merge(uedf, how=\"left\", on=['State', 'Date'])\n",
    "data_df = data_df.merge(pdf, how=\"left\", on=['State', 'Date'])\n",
    "data_df.shape, data_df.columns"
   ]
  },
  {
   "cell_type": "code",
   "execution_count": 6,
   "id": "8fa0c955",
   "metadata": {
    "execution": {
     "iopub.execute_input": "2021-10-31T12:57:00.474161Z",
     "iopub.status.busy": "2021-10-31T12:57:00.473409Z",
     "iopub.status.idle": "2021-10-31T12:57:00.500043Z",
     "shell.execute_reply": "2021-10-31T12:57:00.500630Z",
     "shell.execute_reply.started": "2021-10-31T12:56:28.058705Z"
    },
    "papermill": {
     "duration": 0.052547,
     "end_time": "2021-10-31T12:57:00.500834",
     "exception": false,
     "start_time": "2021-10-31T12:57:00.448287",
     "status": "completed"
    },
    "tags": []
   },
   "outputs": [
    {
     "data": {
      "text/plain": [
       "Timestamp('2021-09-30 00:00:00')"
      ]
     },
     "execution_count": 6,
     "metadata": {},
     "output_type": "execute_result"
    }
   ],
   "source": [
    "data_df['HomeValueIndex'] = (data_df.groupby('State')['HomeValueIndex']\n",
    "                             .apply(lambda x:x.fillna(x.mean())))\n",
    "data_df['Date'] = pd.to_datetime(data_df.Date)\n",
    "data_df['Date'].max()"
   ]
  },
  {
   "cell_type": "code",
   "execution_count": 7,
   "id": "7e420962",
   "metadata": {
    "execution": {
     "iopub.execute_input": "2021-10-31T12:57:00.536173Z",
     "iopub.status.busy": "2021-10-31T12:57:00.535562Z",
     "iopub.status.idle": "2021-10-31T12:57:00.542836Z",
     "shell.execute_reply": "2021-10-31T12:57:00.543360Z",
     "shell.execute_reply.started": "2021-10-31T12:56:28.084660Z"
    },
    "papermill": {
     "duration": 0.026449,
     "end_time": "2021-10-31T12:57:00.543512",
     "exception": false,
     "start_time": "2021-10-31T12:57:00.517063",
     "status": "completed"
    },
    "tags": []
   },
   "outputs": [
    {
     "data": {
      "text/plain": [
       "State                0\n",
       "Date                 0\n",
       "HomeValueIndex       0\n",
       "unemploy_rate        0\n",
       "Poverty_Rate      1632\n",
       "dtype: int64"
      ]
     },
     "execution_count": 7,
     "metadata": {},
     "output_type": "execute_result"
    }
   ],
   "source": [
    "data_df.isna().sum()"
   ]
  },
  {
   "cell_type": "code",
   "execution_count": 8,
   "id": "8240776c",
   "metadata": {
    "execution": {
     "iopub.execute_input": "2021-10-31T12:57:00.579148Z",
     "iopub.status.busy": "2021-10-31T12:57:00.578566Z",
     "iopub.status.idle": "2021-10-31T12:57:00.583864Z",
     "shell.execute_reply": "2021-10-31T12:57:00.584440Z",
     "shell.execute_reply.started": "2021-10-31T12:56:28.094039Z"
    },
    "papermill": {
     "duration": 0.024777,
     "end_time": "2021-10-31T12:57:00.584592",
     "exception": false,
     "start_time": "2021-10-31T12:57:00.559815",
     "status": "completed"
    },
    "tags": []
   },
   "outputs": [
    {
     "data": {
      "text/plain": [
       "(Timestamp('2000-01-31 00:00:00'), Timestamp('2021-09-30 00:00:00'))"
      ]
     },
     "execution_count": 8,
     "metadata": {},
     "output_type": "execute_result"
    }
   ],
   "source": [
    "data_df['Date'].min(), data_df['Date'].max()"
   ]
  },
  {
   "cell_type": "code",
   "execution_count": 9,
   "id": "7fd43f66",
   "metadata": {
    "execution": {
     "iopub.execute_input": "2021-10-31T12:57:00.621265Z",
     "iopub.status.busy": "2021-10-31T12:57:00.620696Z",
     "iopub.status.idle": "2021-10-31T12:57:00.632644Z",
     "shell.execute_reply": "2021-10-31T12:57:00.632073Z",
     "shell.execute_reply.started": "2021-10-31T12:56:28.102452Z"
    },
    "papermill": {
     "duration": 0.031536,
     "end_time": "2021-10-31T12:57:00.632798",
     "exception": false,
     "start_time": "2021-10-31T12:57:00.601262",
     "status": "completed"
    },
    "tags": []
   },
   "outputs": [
    {
     "data": {
      "text/plain": [
       "((229, 5),\n",
       " Index(['State', 'Date', 'HomeValueIndex', 'unemploy_rate', 'Poverty_Rate'], dtype='object'))"
      ]
     },
     "execution_count": 9,
     "metadata": {},
     "output_type": "execute_result"
    }
   ],
   "source": [
    "tx_data = data_df[data_df['State'].isin([\"TX\"])]\n",
    "future_df = tx_data[tx_data['Date'] > \"2019-01-31\"]\n",
    "tx_data = tx_data[tx_data['Date'] <= \"2019-01-31\"]\n",
    "tx_data.shape, tx_data.columns"
   ]
  },
  {
   "cell_type": "code",
   "execution_count": 10,
   "id": "e8221001",
   "metadata": {
    "execution": {
     "iopub.execute_input": "2021-10-31T12:57:00.672794Z",
     "iopub.status.busy": "2021-10-31T12:57:00.672164Z",
     "iopub.status.idle": "2021-10-31T12:57:01.622179Z",
     "shell.execute_reply": "2021-10-31T12:57:01.621688Z",
     "shell.execute_reply.started": "2021-10-31T12:56:28.116497Z"
    },
    "papermill": {
     "duration": 0.972362,
     "end_time": "2021-10-31T12:57:01.622308",
     "exception": false,
     "start_time": "2021-10-31T12:57:00.649946",
     "status": "completed"
    },
    "tags": []
   },
   "outputs": [
    {
     "data": {
      "text/plain": [
       "((205, 3), (24, 3))"
      ]
     },
     "execution_count": 10,
     "metadata": {},
     "output_type": "execute_result"
    }
   ],
   "source": [
    "from sklearn.model_selection import TimeSeriesSplit\n",
    "tx_train = tx_data[tx_data['Date'] <= \"2017-01-31\"]\n",
    "tx_val = tx_data[tx_data['Date'] > \"2017-01-31\"]\n",
    "tx_train = tx_train.set_index('Date').select_dtypes([float, int])\n",
    "tx_val = tx_val.set_index('Date').select_dtypes([float, int])\n",
    "tx_train.shape, tx_val.shape"
   ]
  },
  {
   "cell_type": "code",
   "execution_count": 11,
   "id": "6a341114",
   "metadata": {
    "execution": {
     "iopub.execute_input": "2021-10-31T12:57:01.659865Z",
     "iopub.status.busy": "2021-10-31T12:57:01.659293Z",
     "iopub.status.idle": "2021-10-31T12:57:01.665993Z",
     "shell.execute_reply": "2021-10-31T12:57:01.666406Z",
     "shell.execute_reply.started": "2021-10-31T12:56:28.130181Z"
    },
    "papermill": {
     "duration": 0.026857,
     "end_time": "2021-10-31T12:57:01.666574",
     "exception": false,
     "start_time": "2021-10-31T12:57:01.639717",
     "status": "completed"
    },
    "tags": []
   },
   "outputs": [
    {
     "data": {
      "text/plain": [
       "HomeValueIndex    0\n",
       "unemploy_rate     0\n",
       "Poverty_Rate      0\n",
       "dtype: int64"
      ]
     },
     "execution_count": 11,
     "metadata": {},
     "output_type": "execute_result"
    }
   ],
   "source": [
    "tx_train.isna().sum()"
   ]
  },
  {
   "cell_type": "code",
   "execution_count": 12,
   "id": "64e2cbcc",
   "metadata": {
    "execution": {
     "iopub.execute_input": "2021-10-31T12:57:01.704528Z",
     "iopub.status.busy": "2021-10-31T12:57:01.703986Z",
     "iopub.status.idle": "2021-10-31T12:57:02.072393Z",
     "shell.execute_reply": "2021-10-31T12:57:02.071846Z",
     "shell.execute_reply.started": "2021-10-31T12:56:28.139526Z"
    },
    "papermill": {
     "duration": 0.388479,
     "end_time": "2021-10-31T12:57:02.072529",
     "exception": false,
     "start_time": "2021-10-31T12:57:01.684050",
     "status": "completed"
    },
    "tags": []
   },
   "outputs": [],
   "source": [
    "from fbprophet import Prophet\n",
    "\n",
    "def adjust(val, length= 6): return str(val).ljust(length)\n",
    "\n",
    "def forecast_accuracy(forecast, actual):\n",
    "    mape = np.mean(np.abs(forecast - actual)/np.abs(actual))  # MAPE\n",
    "    mae = np.mean(np.abs(forecast - actual))    # MAE\n",
    "    rmse = np.mean((forecast - actual)**2)**.5  # RMSE\n",
    "    corr = np.corrcoef(forecast, actual)[0,1]   # corr\n",
    "    return({'mape':mape, 'mae': mae, \n",
    "            'rmse':rmse, 'corr':corr})"
   ]
  },
  {
   "cell_type": "code",
   "execution_count": 13,
   "id": "816ad9bd",
   "metadata": {
    "execution": {
     "iopub.execute_input": "2021-10-31T12:57:02.111579Z",
     "iopub.status.busy": "2021-10-31T12:57:02.111022Z",
     "iopub.status.idle": "2021-10-31T12:57:02.121935Z",
     "shell.execute_reply": "2021-10-31T12:57:02.121301Z",
     "shell.execute_reply.started": "2021-10-31T12:56:28.146460Z"
    },
    "papermill": {
     "duration": 0.032045,
     "end_time": "2021-10-31T12:57:02.122074",
     "exception": false,
     "start_time": "2021-10-31T12:57:02.090029",
     "status": "completed"
    },
    "tags": []
   },
   "outputs": [
    {
     "data": {
      "text/plain": [
       "((205, 4), (24, 3))"
      ]
     },
     "execution_count": 13,
     "metadata": {},
     "output_type": "execute_result"
    }
   ],
   "source": [
    "ptx_train = tx_train.reset_index()\n",
    "ptx_val = tx_val.reset_index()\n",
    "\n",
    "ptx_train = ptx_train.rename(columns={'Date':\"ds\",'Poverty_Rate':'y'})\n",
    "ptx_val = ptx_val.rename(columns={'Date':\"ds\",'Poverty_Rate':'y'})\n",
    "\n",
    "y_val_true = ptx_val['y']\n",
    "ptx_val = ptx_val.drop(columns=['y'])\n",
    "ptx_train.shape, ptx_val.shape"
   ]
  },
  {
   "cell_type": "code",
   "execution_count": 14,
   "id": "44cae6da",
   "metadata": {
    "execution": {
     "iopub.execute_input": "2021-10-31T12:57:02.162460Z",
     "iopub.status.busy": "2021-10-31T12:57:02.161842Z",
     "iopub.status.idle": "2021-10-31T12:57:03.347572Z",
     "shell.execute_reply": "2021-10-31T12:57:03.347089Z",
     "shell.execute_reply.started": "2021-10-31T12:56:28.162376Z"
    },
    "papermill": {
     "duration": 1.207821,
     "end_time": "2021-10-31T12:57:03.347746",
     "exception": false,
     "start_time": "2021-10-31T12:57:02.139925",
     "status": "completed"
    },
    "tags": []
   },
   "outputs": [
    {
     "name": "stdout",
     "output_type": "stream",
     "text": [
      "Initial log joint probability = -3.07716\n",
      "    Iter      log prob        ||dx||      ||grad||       alpha      alpha0  # evals  Notes \n",
      "      99        705.61     0.0232065       263.889           1           1      117   \n",
      "    Iter      log prob        ||dx||      ||grad||       alpha      alpha0  # evals  Notes \n",
      "     199       707.927   0.000140159       62.3721      0.7521      0.7521      246   \n",
      "    Iter      log prob        ||dx||      ||grad||       alpha      alpha0  # evals  Notes \n",
      "     273       709.856   0.000152188       168.898   8.305e-07       0.001      367  LS failed, Hessian reset \n",
      "     299       710.118    0.00013056       66.9335      0.2687           1      397   \n",
      "    Iter      log prob        ||dx||      ||grad||       alpha      alpha0  # evals  Notes \n",
      "     327       710.236   0.000153848       125.739   2.383e-06       0.001      473  LS failed, Hessian reset \n",
      "     350       710.277   0.000114505       153.862   1.579e-06       0.001      534  LS failed, Hessian reset \n",
      "     399       710.322   5.51208e-06       67.0078      0.2154      0.2154      606   \n",
      "    Iter      log prob        ||dx||      ||grad||       alpha      alpha0  # evals  Notes \n",
      "     432       710.357   6.24143e-05       60.6726   9.461e-07       0.001      700  LS failed, Hessian reset \n",
      "     499       710.426   5.88205e-05       64.4737   1.129e-06       0.001      821  LS failed, Hessian reset \n",
      "    Iter      log prob        ||dx||      ||grad||       alpha      alpha0  # evals  Notes \n",
      "     550        710.43   4.63883e-08        46.713      0.3511           1      898   \n",
      "Optimization terminated normally: \n",
      "  Convergence detected: relative gradient magnitude is below tolerance\n"
     ]
    },
    {
     "data": {
      "text/plain": [
       "<fbprophet.forecaster.Prophet at 0x7fb95ecf4090>"
      ]
     },
     "execution_count": 14,
     "metadata": {},
     "output_type": "execute_result"
    }
   ],
   "source": [
    "# define the model\n",
    "m = Prophet()\n",
    "\n",
    "# add regressors\n",
    "for col in ['unemploy_rate', 'HomeValueIndex']:\n",
    "    m.add_regressor(col)\n",
    "\n",
    "# fit the model\n",
    "m.fit(ptx_train)"
   ]
  },
  {
   "cell_type": "code",
   "execution_count": 15,
   "id": "d96d708f",
   "metadata": {
    "execution": {
     "iopub.execute_input": "2021-10-31T12:57:03.388037Z",
     "iopub.status.busy": "2021-10-31T12:57:03.387175Z",
     "iopub.status.idle": "2021-10-31T12:57:04.740415Z",
     "shell.execute_reply": "2021-10-31T12:57:04.739908Z",
     "shell.execute_reply.started": "2021-10-31T12:56:28.430854Z"
    },
    "papermill": {
     "duration": 1.374574,
     "end_time": "2021-10-31T12:57:04.740545",
     "exception": false,
     "start_time": "2021-10-31T12:57:03.365971",
     "status": "completed"
    },
    "tags": []
   },
   "outputs": [
    {
     "data": {
      "text/plain": [
       "Index(['ds', 'trend', 'yhat_lower', 'yhat_upper', 'trend_lower', 'trend_upper',\n",
       "       'HomeValueIndex', 'HomeValueIndex_lower', 'HomeValueIndex_upper',\n",
       "       'additive_terms', 'additive_terms_lower', 'additive_terms_upper',\n",
       "       'extra_regressors_additive', 'extra_regressors_additive_lower',\n",
       "       'extra_regressors_additive_upper', 'unemploy_rate',\n",
       "       'unemploy_rate_lower', 'unemploy_rate_upper', 'yearly', 'yearly_lower',\n",
       "       'yearly_upper', 'multiplicative_terms', 'multiplicative_terms_lower',\n",
       "       'multiplicative_terms_upper', 'yhat'],\n",
       "      dtype='object')"
      ]
     },
     "execution_count": 15,
     "metadata": {},
     "output_type": "execute_result"
    }
   ],
   "source": [
    "# define the period for which we want a prediction\n",
    "res_df = m.predict(ptx_val)\n",
    "res_df.columns"
   ]
  },
  {
   "cell_type": "code",
   "execution_count": 16,
   "id": "831c6ceb",
   "metadata": {
    "execution": {
     "iopub.execute_input": "2021-10-31T12:57:04.780814Z",
     "iopub.status.busy": "2021-10-31T12:57:04.780224Z",
     "iopub.status.idle": "2021-10-31T12:57:04.789689Z",
     "shell.execute_reply": "2021-10-31T12:57:04.790125Z",
     "shell.execute_reply.started": "2021-10-31T12:56:29.731378Z"
    },
    "papermill": {
     "duration": 0.031169,
     "end_time": "2021-10-31T12:57:04.790298",
     "exception": false,
     "start_time": "2021-10-31T12:57:04.759129",
     "status": "completed"
    },
    "tags": []
   },
   "outputs": [
    {
     "data": {
      "text/plain": [
       "{'mape': 0.01835316646448042,\n",
       " 'mae': 0.2729525886039663,\n",
       " 'rmse': 0.3541014316404413,\n",
       " 'corr': 0.842617074626346}"
      ]
     },
     "execution_count": 16,
     "metadata": {},
     "output_type": "execute_result"
    }
   ],
   "source": [
    "forecast_accuracy(res_df['yhat'], y_val_true)"
   ]
  },
  {
   "cell_type": "markdown",
   "id": "58400ac6",
   "metadata": {
    "papermill": {
     "duration": 0.018286,
     "end_time": "2021-10-31T12:57:04.827178",
     "exception": false,
     "start_time": "2021-10-31T12:57:04.808892",
     "status": "completed"
    },
    "tags": []
   },
   "source": [
    "### Train on whole data (train + val)"
   ]
  },
  {
   "cell_type": "code",
   "execution_count": 17,
   "id": "1a8b72f1",
   "metadata": {
    "execution": {
     "iopub.execute_input": "2021-10-31T12:57:04.867650Z",
     "iopub.status.busy": "2021-10-31T12:57:04.866790Z",
     "iopub.status.idle": "2021-10-31T12:57:04.871952Z",
     "shell.execute_reply": "2021-10-31T12:57:04.872424Z",
     "shell.execute_reply.started": "2021-10-31T12:56:29.740572Z"
    },
    "papermill": {
     "duration": 0.027016,
     "end_time": "2021-10-31T12:57:04.872596",
     "exception": false,
     "start_time": "2021-10-31T12:57:04.845580",
     "status": "completed"
    },
    "tags": []
   },
   "outputs": [],
   "source": [
    "tx_data = tx_data.reset_index()\n",
    "tx_data = tx_data.rename(columns={'Date':\"ds\",'Poverty_Rate':'y'})"
   ]
  },
  {
   "cell_type": "code",
   "execution_count": 18,
   "id": "a93d6078",
   "metadata": {
    "execution": {
     "iopub.execute_input": "2021-10-31T12:57:04.914038Z",
     "iopub.status.busy": "2021-10-31T12:57:04.913116Z",
     "iopub.status.idle": "2021-10-31T12:57:05.139293Z",
     "shell.execute_reply": "2021-10-31T12:57:05.139764Z",
     "shell.execute_reply.started": "2021-10-31T12:56:29.750262Z"
    },
    "papermill": {
     "duration": 0.248357,
     "end_time": "2021-10-31T12:57:05.139934",
     "exception": false,
     "start_time": "2021-10-31T12:57:04.891577",
     "status": "completed"
    },
    "tags": []
   },
   "outputs": [
    {
     "name": "stdout",
     "output_type": "stream",
     "text": [
      "Initial log joint probability = -3.67016\n",
      "    Iter      log prob        ||dx||      ||grad||       alpha      alpha0  # evals  Notes \n",
      "      99       784.538     0.0137682       316.397           1           1      117   \n",
      "    Iter      log prob        ||dx||      ||grad||       alpha      alpha0  # evals  Notes \n",
      "     199       789.964    0.00273952       257.551           1           1      240   \n",
      "    Iter      log prob        ||dx||      ||grad||       alpha      alpha0  # evals  Notes \n",
      "     254       790.992   8.85015e-05       125.916   1.006e-06       0.001      347  LS failed, Hessian reset \n",
      "     299       791.046   1.96266e-05       76.7317           1           1      411   \n",
      "    Iter      log prob        ||dx||      ||grad||       alpha      alpha0  # evals  Notes \n",
      "     342       791.737    0.00011129       143.471   6.072e-07       0.001      533  LS failed, Hessian reset \n",
      "     399       792.449   3.75785e-06       68.9874      0.3392           1      603   \n",
      "    Iter      log prob        ||dx||      ||grad||       alpha"
     ]
    },
    {
     "data": {
      "text/plain": [
       "<fbprophet.forecaster.Prophet at 0x7fb95ca92890>"
      ]
     },
     "execution_count": 18,
     "metadata": {},
     "output_type": "execute_result"
    },
    {
     "name": "stdout",
     "output_type": "stream",
     "text": [
      "      alpha0  # evals  Notes \n",
      "     461       792.612   0.000272461       83.4874   3.958e-06       0.001      720  LS failed, Hessian reset \n",
      "     499       792.698   5.54706e-05       64.8697      0.3889      0.3889      764   \n",
      "    Iter      log prob        ||dx||      ||grad||       alpha      alpha0  # evals  Notes \n",
      "     523       792.706   3.77279e-05       77.3488   6.146e-07       0.001      828  LS failed, Hessian reset \n",
      "     553       792.709   1.68901e-08       58.1467      0.3354           1      870   \n",
      "Optimization terminated normally: \n",
      "  Convergence detected: relative gradient magnitude is below tolerance\n"
     ]
    }
   ],
   "source": [
    "# define the model\n",
    "m = Prophet()\n",
    "\n",
    "# add regressors\n",
    "for col in ['unemploy_rate', 'HomeValueIndex']:\n",
    "    m.add_regressor(col)\n",
    "\n",
    "# fit the model\n",
    "m.fit(tx_data)"
   ]
  },
  {
   "cell_type": "code",
   "execution_count": 19,
   "id": "be3b96cf",
   "metadata": {
    "execution": {
     "iopub.execute_input": "2021-10-31T12:57:05.182781Z",
     "iopub.status.busy": "2021-10-31T12:57:05.181891Z",
     "iopub.status.idle": "2021-10-31T12:57:06.688202Z",
     "shell.execute_reply": "2021-10-31T12:57:06.689013Z",
     "shell.execute_reply.started": "2021-10-31T12:56:29.999314Z"
    },
    "papermill": {
     "duration": 1.529735,
     "end_time": "2021-10-31T12:57:06.689228",
     "exception": false,
     "start_time": "2021-10-31T12:57:05.159493",
     "status": "completed"
    },
    "tags": []
   },
   "outputs": [
    {
     "data": {
      "text/plain": [
       "((32, 25),\n",
       " Index(['ds', 'trend', 'yhat_lower', 'yhat_upper', 'trend_lower', 'trend_upper',\n",
       "        'HomeValueIndex', 'HomeValueIndex_lower', 'HomeValueIndex_upper',\n",
       "        'additive_terms', 'additive_terms_lower', 'additive_terms_upper',\n",
       "        'extra_regressors_additive', 'extra_regressors_additive_lower',\n",
       "        'extra_regressors_additive_upper', 'unemploy_rate',\n",
       "        'unemploy_rate_lower', 'unemploy_rate_upper', 'yearly', 'yearly_lower',\n",
       "        'yearly_upper', 'multiplicative_terms', 'multiplicative_terms_lower',\n",
       "        'multiplicative_terms_upper', 'yhat'],\n",
       "       dtype='object'))"
      ]
     },
     "execution_count": 19,
     "metadata": {},
     "output_type": "execute_result"
    }
   ],
   "source": [
    "future_df = future_df.rename(columns={'Date':\"ds\",'Poverty_Rate':'y'})\n",
    "futures = m.predict(future_df)\n",
    "futures.shape, futures.columns"
   ]
  },
  {
   "cell_type": "code",
   "execution_count": 20,
   "id": "296e48c8",
   "metadata": {
    "execution": {
     "iopub.execute_input": "2021-10-31T12:57:06.739240Z",
     "iopub.status.busy": "2021-10-31T12:57:06.738327Z",
     "iopub.status.idle": "2021-10-31T12:57:06.743888Z",
     "shell.execute_reply": "2021-10-31T12:57:06.744546Z",
     "shell.execute_reply.started": "2021-10-31T12:56:31.313625Z"
    },
    "papermill": {
     "duration": 0.028976,
     "end_time": "2021-10-31T12:57:06.744804",
     "exception": false,
     "start_time": "2021-10-31T12:57:06.715828",
     "status": "completed"
    },
    "tags": []
   },
   "outputs": [
    {
     "data": {
      "text/plain": [
       "(Timestamp('2019-02-28 00:00:00'), Timestamp('2021-09-30 00:00:00'))"
      ]
     },
     "execution_count": 20,
     "metadata": {},
     "output_type": "execute_result"
    }
   ],
   "source": [
    "futures['ds'].min(), futures['ds'].max()"
   ]
  },
  {
   "cell_type": "code",
   "execution_count": 21,
   "id": "bad10632",
   "metadata": {
    "execution": {
     "iopub.execute_input": "2021-10-31T12:57:06.794817Z",
     "iopub.status.busy": "2021-10-31T12:57:06.793911Z",
     "iopub.status.idle": "2021-10-31T12:57:06.809863Z",
     "shell.execute_reply": "2021-10-31T12:57:06.810750Z",
     "shell.execute_reply.started": "2021-10-31T12:56:31.320781Z"
    },
    "papermill": {
     "duration": 0.04204,
     "end_time": "2021-10-31T12:57:06.810987",
     "exception": false,
     "start_time": "2021-10-31T12:57:06.768947",
     "status": "completed"
    },
    "tags": []
   },
   "outputs": [
    {
     "data": {
      "text/plain": [
       "((32, 5),\n",
       " Index(['State', 'ds', 'HomeValueIndex', 'unemploy_rate', 'Poverty_Rate'], dtype='object'))"
      ]
     },
     "execution_count": 21,
     "metadata": {},
     "output_type": "execute_result"
    }
   ],
   "source": [
    "result_df = future_df.merge(futures[['ds', 'yhat']], how=\"left\")\n",
    "result_df = result_df.drop(columns=['y'])\n",
    "result_df = result_df.rename(columns={'yhat': 'Poverty_Rate'})\n",
    "result_df.shape, result_df.columns"
   ]
  },
  {
   "cell_type": "code",
   "execution_count": 22,
   "id": "749d1a99",
   "metadata": {
    "execution": {
     "iopub.execute_input": "2021-10-31T12:57:06.879184Z",
     "iopub.status.busy": "2021-10-31T12:57:06.877974Z",
     "iopub.status.idle": "2021-10-31T12:57:06.887707Z",
     "shell.execute_reply": "2021-10-31T12:57:06.888508Z",
     "shell.execute_reply.started": "2021-10-31T12:56:31.336095Z"
    },
    "papermill": {
     "duration": 0.044917,
     "end_time": "2021-10-31T12:57:06.888690",
     "exception": false,
     "start_time": "2021-10-31T12:57:06.843773",
     "status": "completed"
    },
    "tags": []
   },
   "outputs": [],
   "source": [
    "result_df.to_csv(\"poverty_rate_forecast.csv\", index=False)"
   ]
  },
  {
   "cell_type": "code",
   "execution_count": 23,
   "id": "691713d6",
   "metadata": {
    "execution": {
     "iopub.execute_input": "2021-10-31T12:57:06.936061Z",
     "iopub.status.busy": "2021-10-31T12:57:06.933286Z",
     "iopub.status.idle": "2021-10-31T12:57:06.940550Z",
     "shell.execute_reply": "2021-10-31T12:57:06.940999Z",
     "shell.execute_reply.started": "2021-10-31T12:56:31.342793Z"
    },
    "papermill": {
     "duration": 0.030988,
     "end_time": "2021-10-31T12:57:06.941168",
     "exception": false,
     "start_time": "2021-10-31T12:57:06.910180",
     "status": "completed"
    },
    "tags": []
   },
   "outputs": [
    {
     "data": {
      "text/html": [
       "./<br>\n",
       "&nbsp;&nbsp;<a href='./__notebook__.ipynb' target='_blank'>__notebook__.ipynb</a><br>\n",
       "&nbsp;&nbsp;<a href='./poverty_rate_forecast.csv' target='_blank'>poverty_rate_forecast.csv</a><br>"
      ],
      "text/plain": [
       "./\n",
       "  __notebook__.ipynb\n",
       "  poverty_rate_forecast.csv"
      ]
     },
     "execution_count": 23,
     "metadata": {},
     "output_type": "execute_result"
    }
   ],
   "source": [
    "from IPython.display import FileLinks\n",
    "FileLinks(\".\")"
   ]
  }
 ],
 "metadata": {
  "kernelspec": {
   "display_name": "Python 3",
   "language": "python",
   "name": "python3"
  },
  "language_info": {
   "codemirror_mode": {
    "name": "ipython",
    "version": 3
   },
   "file_extension": ".py",
   "mimetype": "text/x-python",
   "name": "python",
   "nbconvert_exporter": "python",
   "pygments_lexer": "ipython3",
   "version": "3.7.10"
  },
  "papermill": {
   "default_parameters": {},
   "duration": 15.463255,
   "end_time": "2021-10-31T12:57:07.671190",
   "environment_variables": {},
   "exception": null,
   "input_path": "__notebook__.ipynb",
   "output_path": "__notebook__.ipynb",
   "parameters": {},
   "start_time": "2021-10-31T12:56:52.207935",
   "version": "2.3.3"
  }
 },
 "nbformat": 4,
 "nbformat_minor": 5
}
